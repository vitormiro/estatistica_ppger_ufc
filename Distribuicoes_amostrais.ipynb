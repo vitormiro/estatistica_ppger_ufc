{
  "nbformat": 4,
  "nbformat_minor": 0,
  "metadata": {
    "kernelspec": {
      "display_name": "Python 3",
      "language": "python",
      "name": "python3"
    },
    "language_info": {
      "codemirror_mode": {
        "name": "ipython",
        "version": 3
      },
      "file_extension": ".py",
      "mimetype": "text/x-python",
      "name": "python",
      "nbconvert_exporter": "python",
      "pygments_lexer": "ipython3",
      "version": "3.7.6"
    },
    "colab": {
      "name": "Distribuicoes_amostrais.ipynb",
      "provenance": [],
      "include_colab_link": true
    }
  },
  "cells": [
    {
      "cell_type": "markdown",
      "metadata": {
        "id": "view-in-github",
        "colab_type": "text"
      },
      "source": [
        "<a href=\"https://colab.research.google.com/github/vitormiro/estatistica_ppger_ufc/blob/main/Distribuicoes_amostrais.ipynb\" target=\"_parent\"><img src=\"https://colab.research.google.com/assets/colab-badge.svg\" alt=\"Open In Colab\"/></a>"
      ]
    },
    {
      "cell_type": "markdown",
      "metadata": {
        "id": "0Zp5WehJvrOL"
      },
      "source": [
        "# Distribuições amostrais"
      ]
    },
    {
      "cell_type": "markdown",
      "metadata": {
        "id": "RljBCEgRvrOO"
      },
      "source": [
        "**Definição**. \n",
        "\n",
        "Uma amostra aleatória de tamanho $n$ de uma variável aleatória $X$ com função distribuição $F$ , é um vetor $X = (X_1,X_2, \\cdots ,X_n )$ em que as componentes $X_i$ são independentes e possuem distribuição $F$.\n",
        "\n",
        "Dada uma amostra aleatória $X = (X_1,X_2, \\cdots, X_n)$ de uma variável $X$ com média $\\mu$ e variancia $\\sigma^2$ então $\\mathbb{E}(X_i) = \\mu$ e $Var(X_i) = \\sigma^2$ para todo $i = {1, 2, \\cdots, n}$.\n",
        "\n",
        "A distribuição de probabilidade de um estimador é chamada de **distribuição amostral**.\n",
        "\n",
        "A distribuição amostral de um estimador depende da distribuição de probabilidade da população da qual a amostra foi selecionada, do tamanho da amostra e do método de seleção da amostra."
      ]
    },
    {
      "cell_type": "markdown",
      "source": [
        "### Distribuição Amostral da média\n",
        "\n",
        "**Teorema**\n",
        "\n",
        "Seja uma variável $X$ com média $\\mu$ e variancia $\\sigma^2$, e uma amostra $(x_1,x_2, \\cdots, x_n)$, obtida em um processo de amostragem aleatória simples, então:\n",
        "\n",
        "$$ E(\\bar{X}) = \\mu  $$\n",
        "\n",
        "$$ Var(\\bar{X}) = \\frac{\\sigma^2}{n} $$\n"
      ],
      "metadata": {
        "id": "O4peW3yyIePj"
      }
    },
    {
      "cell_type": "markdown",
      "source": [
        "**EXEMPLO**\n",
        "\n",
        "Vamos usar o *Numpy* e o módulo [`random`](https://numpy.org/doc/stable/reference/random/index.html) do Numpy para simular distribuições populacionais.\n",
        "\n"
      ],
      "metadata": {
        "id": "mNMH2EQPKGEd"
      }
    },
    {
      "cell_type": "code",
      "source": [
        "# Importar o Numpy e o Matplotlib\n",
        "import numpy as np\n",
        "import matplotlib.pyplot as plt\n",
        "%matplotlib inline"
      ],
      "metadata": {
        "id": "x7Ey_8YZKMsU"
      },
      "execution_count": 8,
      "outputs": []
    },
    {
      "cell_type": "markdown",
      "metadata": {
        "id": "tDZT43wJvrOS"
      },
      "source": [
        "\n",
        "\n",
        "No exemplo a seguir usaremos a função [`gamma`](https://numpy.org/doc/stable/reference/random/generated/numpy.random.gamma.html) para simular uma variável aleatória com distribuição Gama: $X \\sim Gama(\\alpha,\\beta)$; com $ \\alpha > 0 $ e $ \\beta > 0 $.\n",
        "\n",
        "- Função de probabilidade\n",
        "$$ f(X) = \\frac{X^{\\alpha-1} e^{\\frac{-X}{\\beta}}}{\\beta^{\\alpha} \\Gamma(\\alpha)}; \\hspace {5pt} x > 0 $$\n",
        "\n",
        "Em que $\\alpha$ é um parâmetro de forma (*shape*) e $\\beta$ é um parâmetro de escala (*scale*).\n",
        "\n",
        "- Valor esperado:\n",
        "$$ E(X) = \\alpha \\beta $$\n",
        "\n",
        "- Variância\n",
        "$$ Var(X) = \\alpha \\beta^2 $$\n",
        "\n",
        "\n",
        "Com $\\alpha =1$ temos uma distribuição exponencial: $X \\sim Exp(\\lambda)$ e $\\lambda= \\frac{1}{\\beta}$."
      ]
    },
    {
      "cell_type": "code",
      "metadata": {
        "id": "6rk4wbd0vrOX",
        "outputId": "d167bf04-26fa-42f7-a143-ae84e92ac16c",
        "colab": {
          "base_uri": "https://localhost:8080/",
          "height": 265
        }
      },
      "source": [
        "# Semente aleatória\n",
        "np.random.seed(42)\n",
        "\n",
        "# simular dados populacionais com uma distribuição Gama (média = 100 e variância = 10.000)\n",
        "pop_data = np.random.gamma(1, 100, 3000)\n",
        "plt.hist(pop_data);"
      ],
      "execution_count": 2,
      "outputs": [
        {
          "output_type": "display_data",
          "data": {
            "text/plain": [
              "<Figure size 432x288 with 1 Axes>"
            ],
            "image/png": "[encoded data removed]"
          },
          "metadata": {
            "needs_background": "light"
          }
        }
      ]
    },
    {
      "cell_type": "markdown",
      "metadata": {
        "id": "VZ219i6XvrOY"
      },
      "source": [
        "**Média populacional**"
      ]
    },
    {
      "cell_type": "code",
      "metadata": {
        "id": "WNf5Ygy4vrOa",
        "outputId": "ffe5924c-d19f-4c42-b003-9dcb7c893581",
        "colab": {
          "base_uri": "https://localhost:8080/"
        }
      },
      "source": [
        "# Média calculadas com base na população simulada.\n",
        "pop_data.mean()"
      ],
      "execution_count": 9,
      "outputs": [
        {
          "output_type": "execute_result",
          "data": {
            "text/plain": [
              "100.35978700795846"
            ]
          },
          "metadata": {},
          "execution_count": 9
        }
      ]
    },
    {
      "cell_type": "markdown",
      "metadata": {
        "id": "wo1bGOGcvrOc"
      },
      "source": [
        "**Variância e desvio padrão amostral**"
      ]
    },
    {
      "cell_type": "code",
      "metadata": {
        "id": "X1-LnxUzvrOe",
        "outputId": "6c16ee22-ff7b-4d4b-d6d3-33013c29cc01",
        "colab": {
          "base_uri": "https://localhost:8080/"
        }
      },
      "source": [
        "# Variância e desvio-padrão calculados com base na população simulada.\n",
        "print(\"Variância = \", pop_data.var())\n",
        "print(\"Desvio-padrão = \", pop_data.std())"
      ],
      "execution_count": 10,
      "outputs": [
        {
          "output_type": "stream",
          "name": "stdout",
          "text": [
            "Variância =  9955.76939306549\n",
            "Desvio-padrão =  99.77860187968906\n"
          ]
        }
      ]
    },
    {
      "cell_type": "markdown",
      "metadata": {
        "id": "FrtgQ26SvrOh"
      },
      "source": [
        "Vamos selecionar uma amostra aleatória de 10 unidades dessa população usando [`random.choice`](https://numpy.org/doc/stable/reference/random/generated/numpy.random.choice.html) do Numpy. \n",
        "\n",
        "Qual é a média da amostra para esses 10 valores?"
      ]
    },
    {
      "cell_type": "code",
      "metadata": {
        "id": "Th9aUbPgvrOi",
        "outputId": "095e4901-6d29-41c3-9e48-51f8df0152fc",
        "colab": {
          "base_uri": "https://localhost:8080/"
        }
      },
      "source": [
        "# Obtendo uma amostra de 10 observações da população simulada.\n",
        "sample = np.random.choice(pop_data, 10)\n",
        "# Mostrar dados da amostra\n",
        "print(sample)"
      ],
      "execution_count": 12,
      "outputs": [
        {
          "output_type": "stream",
          "name": "stdout",
          "text": [
            "[ 56.55370668 184.40771413 193.58337438  51.77500786   4.79849924\n",
            "  81.73604076  60.92408858  17.52584347 141.98034755  77.95934969]\n"
          ]
        }
      ]
    },
    {
      "cell_type": "code",
      "source": [
        "# Média amostral \n",
        "print(\"Média amostral = \", sample.mean())"
      ],
      "metadata": {
        "id": "pusipdMQK8_y",
        "outputId": "41e2170d-665a-4a83-df25-acbab622fbdf",
        "colab": {
          "base_uri": "https://localhost:8080/"
        }
      },
      "execution_count": 13,
      "outputs": [
        {
          "output_type": "stream",
          "name": "stdout",
          "text": [
            "Média amostral =  87.12439723384534\n"
          ]
        }
      ]
    },
    {
      "cell_type": "markdown",
      "metadata": {
        "id": "Ema2qcSjvrOj"
      },
      "source": [
        "Qual é a variância e desvio-padrão da amostra?"
      ]
    },
    {
      "cell_type": "code",
      "metadata": {
        "id": "cIw2XXOPvrOk",
        "outputId": "2d2d2635-0162-46a8-d36c-b11c2018d263",
        "colab": {
          "base_uri": "https://localhost:8080/"
        }
      },
      "source": [
        "# Variância amostral\n",
        "print(\"Variância = \", sample.var())\n",
        "# Desvio-padrão amostral\n",
        "print(\"Desvio-padrão = \", sample.std())"
      ],
      "execution_count": 14,
      "outputs": [
        {
          "output_type": "stream",
          "name": "stdout",
          "text": [
            "Variância =  3841.188011967525\n",
            "Desvio-padrão =  61.97731852837395\n"
          ]
        }
      ]
    },
    {
      "cell_type": "markdown",
      "metadata": {
        "id": "tbUP1GWwvrOm"
      },
      "source": [
        "**Considerando diversas amostras**\n",
        "\n",
        "Vamos criar um processo de extração de diversas amostras da nossa população e analisar a distribuição amostral do estimador da média."
      ]
    },
    {
      "cell_type": "code",
      "metadata": {
        "id": "1ATLNOjbvrOn",
        "outputId": "0c404396-08f2-43ca-ec44-d7f802694181",
        "colab": {
          "base_uri": "https://localhost:8080/",
          "height": 265
        }
      },
      "source": [
        "# criar vetor para receber médias amostrais\n",
        "means_n5 = []\n",
        "\n",
        "np.random.seed(42)\n",
        "# Simular 1.000 amostras e salvar as médias em means_n5\n",
        "for _ in range(1000):\n",
        "    sample5 = np.random.choice(pop_data, 5)\n",
        "    means_n5.append(sample5.mean())\n",
        "\n",
        "# Plotar um histograma simples\n",
        "plt.hist(means_n5);"
      ],
      "execution_count": 49,
      "outputs": [
        {
          "output_type": "display_data",
          "data": {
            "text/plain": [
              "<Figure size 432x288 with 1 Axes>"
            ],
            "image/png": "[encoded data removed]"
          },
          "metadata": {
            "needs_background": "light"
          }
        }
      ]
    },
    {
      "cell_type": "markdown",
      "metadata": {
        "id": "bkqdQoWtvrOn"
      },
      "source": [
        "Lembre-se:\n",
        "\n",
        "$$ E(\\bar{X}) = \\mu  $$\n",
        "\n",
        "$$ Var(\\bar{X}) = \\frac{\\sigma^2}{n} $$"
      ]
    },
    {
      "cell_type": "code",
      "metadata": {
        "id": "mytcvAYZvrOo",
        "outputId": "ec8cc6f2-5877-4ae1-d5a7-ca03843f7730",
        "colab": {
          "base_uri": "https://localhost:8080/"
        }
      },
      "source": [
        "# Média\n",
        "xbar = np.mean(means_n5)\n",
        "print(xbar)"
      ],
      "execution_count": 50,
      "outputs": [
        {
          "output_type": "stream",
          "name": "stdout",
          "text": [
            "101.69148998893094\n"
          ]
        }
      ]
    },
    {
      "cell_type": "code",
      "metadata": {
        "id": "zDDUDWohvrOo",
        "outputId": "f5427edf-40b6-4e44-de16-8d3ce4e3aed3",
        "colab": {
          "base_uri": "https://localhost:8080/"
        }
      },
      "source": [
        "# Variância\n",
        "s2 = np.var(means_n5)\n",
        "print(s2)\n",
        "\n",
        "# Desvio-padrão\n",
        "s = np.std(means_n5)\n",
        "print(s)"
      ],
      "execution_count": 51,
      "outputs": [
        {
          "output_type": "stream",
          "name": "stdout",
          "text": [
            "2117.32532728214\n",
            "46.014403476326194\n"
          ]
        }
      ]
    },
    {
      "cell_type": "markdown",
      "metadata": {
        "id": "TABKDQOpvrOp"
      },
      "source": [
        "# O Teorema do Limite Central\n",
        "\n",
        "Um resultado importante muito utilizado em inferência é o Teorema Central do Limite, que fornece uma inportante conclusão a respeito da distribuição da soma de variáveis aleatórias independentes.\n",
        "\n",
        "**Teorema**. Seja ${X_n ,n \\geq 1}$ uma seqüência de variáveis aleatórias independentes e identicamnte distribuídas, com média $\\mu$ e variância $\\sigma^2 < \\infty$. Então, para $S_n = \\sum_{i=1}^{n} X_n$, tem-se:\n",
        "\n",
        "$$ \\frac{S_n - \\mathbb{E}(X_i)}{\\sqrt{Var(S_n}} = \\frac{S_n - n \\mu}{\\sigma \\sqrt{n}} \\xrightarrow{d}  N(0,1) $$"
      ]
    },
    {
      "cell_type": "code",
      "metadata": {
        "id": "58ST50HOvrOp",
        "outputId": "97466424-0e50-4165-b627-ebc362170ec5",
        "colab": {
          "base_uri": "https://localhost:8080/"
        }
      },
      "source": [
        "sample1 = np.random.choice(pop_data, 100)\n",
        "x1 = np.mean(sample1)\n",
        "print(x1)"
      ],
      "execution_count": 52,
      "outputs": [
        {
          "output_type": "stream",
          "name": "stdout",
          "text": [
            "103.67903048512215\n"
          ]
        }
      ]
    },
    {
      "cell_type": "code",
      "metadata": {
        "id": "nb_sQmYSvrOq",
        "outputId": "93e363d9-71f7-4144-a538-ea9d7781de54",
        "colab": {
          "base_uri": "https://localhost:8080/",
          "height": 265
        }
      },
      "source": [
        "# criar vetor para receber médias amostrais\n",
        "means_size_100 = []\n",
        "\n",
        "# Simular 10.000 amostras e salvar as médias em means_size_100\n",
        "for _ in range(10000):\n",
        "    sample = np.random.choice(pop_data, 100)\n",
        "    means_size_100.append(sample.mean())\n",
        "\n",
        "plt.hist(means_size_100);"
      ],
      "execution_count": 53,
      "outputs": [
        {
          "output_type": "display_data",
          "data": {
            "text/plain": [
              "<Figure size 432x288 with 1 Axes>"
            ],
            "image/png": "[encoded data removed]"
          },
          "metadata": {
            "needs_background": "light"
          }
        }
      ]
    },
    {
      "cell_type": "markdown",
      "metadata": {
        "id": "9Nd5i35EvrOr"
      },
      "source": [
        "**Parâmetros populacionais**"
      ]
    },
    {
      "cell_type": "code",
      "metadata": {
        "id": "BS6SJh9GvrOr",
        "outputId": "c6762fc9-f365-462e-933c-888fd6d08389",
        "colab": {
          "base_uri": "https://localhost:8080/"
        }
      },
      "source": [
        "mu = np.mean(pop_data)\n",
        "print(\"Média =\", mu)\n",
        "var_pop = np.var(pop_data)\n",
        "print(\"Variância =\", var_pop)"
      ],
      "execution_count": 54,
      "outputs": [
        {
          "output_type": "stream",
          "name": "stdout",
          "text": [
            "Média = 100.35978700795846\n",
            "Variância = 9955.76939306549\n"
          ]
        }
      ]
    },
    {
      "cell_type": "markdown",
      "metadata": {
        "id": "t97Q20DXvrOr"
      },
      "source": [
        "**Estimativas amostrais**"
      ]
    },
    {
      "cell_type": "code",
      "metadata": {
        "id": "GeC79LqQvrOs",
        "outputId": "8f2200e5-4de1-4435-ce2a-77e80d292837",
        "colab": {
          "base_uri": "https://localhost:8080/"
        }
      },
      "source": [
        "xbar = np.mean(means_size_100);\n",
        "print(\"Média amostral =\", xbar)\n",
        "var_sample = np.var(means_size_100)\n",
        "print(\"Variância amostral =\", var_sample)"
      ],
      "execution_count": 55,
      "outputs": [
        {
          "output_type": "stream",
          "name": "stdout",
          "text": [
            "Média amostral = 100.44915227066977\n",
            "Variância amostral = 97.40645286306574\n"
          ]
        }
      ]
    },
    {
      "cell_type": "markdown",
      "metadata": {
        "id": "8I1fId4GvrOt"
      },
      "source": [
        "*Observação*: A qualidade da aproximação normal para a distribuição amostral da média dependerá do tamanho da amostra e da distribuição da população de onde foi retirada a amostra. Em muito casos de interesse prático, se $n \\geq 30$ a aproximação normal será satisfatória, independente da distribuição da população."
      ]
    },
    {
      "cell_type": "markdown",
      "metadata": {
        "id": "LVrEX2-xvrOt"
      },
      "source": [
        "### Distribuição amostral da variância"
      ]
    },
    {
      "cell_type": "code",
      "metadata": {
        "id": "AsSEkGddvrOt",
        "outputId": "94721c62-84c9-4be4-fae9-1be6389d8ac8",
        "colab": {
          "base_uri": "https://localhost:8080/",
          "height": 268
        }
      },
      "source": [
        "# Criar um vetor para receber variâncias amostrais\n",
        "var_size_100 = []\n",
        "\n",
        "# Simulando 10.000 valores de variância amostral\n",
        "for _ in range(10000):\n",
        "    sample = np.random.choice(pop_data, 100)\n",
        "    var_size_100.append(sample.var())\n",
        "\n",
        "plt.hist(var_size_100);"
      ],
      "execution_count": 56,
      "outputs": [
        {
          "output_type": "display_data",
          "data": {
            "text/plain": [
              "<Figure size 432x288 with 1 Axes>"
            ],
            "image/png": "[encoded data removed]"
          },
          "metadata": {
            "needs_background": "light"
          }
        }
      ]
    },
    {
      "cell_type": "markdown",
      "metadata": {
        "id": "9MiHx84VvrOu"
      },
      "source": [
        "**Média e variância da estimativa de variância amostral**"
      ]
    },
    {
      "cell_type": "code",
      "metadata": {
        "id": "nmTlqLnavrOu",
        "outputId": "ad6b4043-a522-48d5-887c-e6d9d648d0d7",
        "colab": {
          "base_uri": "https://localhost:8080/"
        }
      },
      "source": [
        "mean_s2 = np.mean(var_size_100);\n",
        "print(\"Valor esperado =\", mean_s2)\n",
        "\n",
        "var_s2 = np.var(var_size_100)\n",
        "print(\"Variância =\", var_s2)"
      ],
      "execution_count": 57,
      "outputs": [
        {
          "output_type": "stream",
          "name": "stdout",
          "text": [
            "Valor esperado = 9835.727207394975\n",
            "Variância = 6403358.798455699\n"
          ]
        }
      ]
    },
    {
      "cell_type": "markdown",
      "metadata": {
        "id": "WTqKltKvvrOv"
      },
      "source": [
        "# Lei dos Grandes Números\n",
        "\n",
        "A **Lei dos Grandes Números** é um dos teoremas mais importantes da probabilidade.\n",
        "\n",
        "De forma simplificada, ela diz que quanto maior o número de amostras, mais a média amostral tenderá ao valor esperado ($\\mu$).\n",
        "\n",
        "Considerando uma variável aleatória $X$ e seja $X_1,X_2, \\cdots,X_n$ uma amostra aleatória de $X$ com $n$ \"grande\".\n",
        "\n",
        "$$ \\bar{X_n} = \\frac{1}{n} \\sum_{i=1}^{n} X_i \\rightarrow \\mu \\quad \\text{quando} \\quad n \\rightarrow \\infty  $$"
      ]
    },
    {
      "cell_type": "markdown",
      "metadata": {
        "id": "FaJ8C4BIvrOv"
      },
      "source": [
        "### Lei Fraca Dos Grandes Números\n",
        "\n",
        "Seja $X_1, X_2 , \\cdots, X_n$ uma AAS de variáveis aleatórias *i.i.d.* com média $\\mu$ e variância $\\sigma^2 < \\infty$. Então, para qualquer $\\epsilon > 0$,\n",
        "\n",
        "\\begin{align}\n",
        "  \\lim_{n \\rightarrow \\infty} P(|\\overline{X}-\\mu| \\geq \\epsilon)=0.\n",
        "\\end{align}"
      ]
    },
    {
      "cell_type": "code",
      "metadata": {
        "id": "xYecmVhJvrOw",
        "outputId": "190ca786-08da-40ec-e7e7-d54f5c8b1062",
        "colab": {
          "base_uri": "https://localhost:8080/",
          "height": 265
        }
      },
      "source": [
        "# Semente aleatória\n",
        "np.random.seed(42)\n",
        "\n",
        "# simular dados populacionais com uma distribuição Gama\n",
        "pop_data = np.random.gamma(1,100, 3000)\n",
        "plt.hist(pop_data);"
      ],
      "execution_count": 58,
      "outputs": [
        {
          "output_type": "display_data",
          "data": {
            "text/plain": [
              "<Figure size 432x288 with 1 Axes>"
            ],
            "image/png": "[encoded data removed]"
          },
          "metadata": {
            "needs_background": "light"
          }
        }
      ]
    },
    {
      "cell_type": "code",
      "metadata": {
        "id": "hBs7MlnmvrOw",
        "outputId": "b4370574-7e8a-447d-9750-e9c80cc89786",
        "colab": {
          "base_uri": "https://localhost:8080/"
        }
      },
      "source": [
        "# Tamanho da população\n",
        "N = len(pop_data)\n",
        "print(N)"
      ],
      "execution_count": 59,
      "outputs": [
        {
          "output_type": "stream",
          "name": "stdout",
          "text": [
            "3000\n"
          ]
        }
      ]
    },
    {
      "cell_type": "code",
      "metadata": {
        "id": "xuwaVFL7vrOw",
        "outputId": "9476e6d8-483a-49df-8190-ced3443c566c",
        "colab": {
          "base_uri": "https://localhost:8080/"
        }
      },
      "source": [
        "# Média populacional\n",
        "mu = np.mean(pop_data)\n",
        "print(mu)"
      ],
      "execution_count": 60,
      "outputs": [
        {
          "output_type": "stream",
          "name": "stdout",
          "text": [
            "100.35978700795846\n"
          ]
        }
      ]
    },
    {
      "cell_type": "markdown",
      "metadata": {
        "id": "iSB_x6omvrOw"
      },
      "source": [
        "Vamos considerar uma amostra inicial de $n=5$:"
      ]
    },
    {
      "cell_type": "code",
      "metadata": {
        "id": "_tcapvH1vrOx",
        "outputId": "81c189cd-ebed-4be4-be26-18570eb30505",
        "colab": {
          "base_uri": "https://localhost:8080/"
        }
      },
      "source": [
        "# Uma amostra de 5 observações\n",
        "sample5 = np.random.choice(pop_data, 5)\n",
        "print(\"Amostra (n=5) =\", sample5)\n",
        "\n",
        "# Média amostral  (n=5)\n",
        "x5 = np.mean(sample5)\n",
        "print(\"Média amostral (n=5) =\", x5)"
      ],
      "execution_count": 61,
      "outputs": [
        {
          "output_type": "stream",
          "name": "stdout",
          "text": [
            "Amostra (n=5) = [  1.99073813   2.56776095 100.03907725  26.44660917   7.38496269]\n",
            "Média amostral (n=5) = 27.685829640608965\n"
          ]
        }
      ]
    },
    {
      "cell_type": "markdown",
      "metadata": {
        "id": "4Id632VnvrOx"
      },
      "source": [
        "Vejamos o valor de $|\\overline{X}-\\mu|$:"
      ]
    },
    {
      "cell_type": "code",
      "metadata": {
        "id": "J6hMbT5RvrOx",
        "outputId": "61cc4e5f-b311-4f08-948f-a1a140b2c3a4",
        "colab": {
          "base_uri": "https://localhost:8080/"
        }
      },
      "source": [
        "print(\"Diferença =\", abs(x5 - mu))"
      ],
      "execution_count": 62,
      "outputs": [
        {
          "output_type": "stream",
          "name": "stdout",
          "text": [
            "Diferença = 72.67395736734949\n"
          ]
        }
      ]
    },
    {
      "cell_type": "markdown",
      "metadata": {
        "id": "L_tfByobvrOy"
      },
      "source": [
        "Vamos aumentar o tamanho da amostra para $n=20$"
      ]
    },
    {
      "cell_type": "code",
      "metadata": {
        "id": "eNM5DKDxvrOy",
        "outputId": "8d9f7a0f-d6da-4a9f-8ba8-7524b05e8a37",
        "colab": {
          "base_uri": "https://localhost:8080/"
        }
      },
      "source": [
        "# Uma amostra de 20 observações\n",
        "sample20 = np.random.choice(pop_data, 20)\n",
        "print(\"Amostra (n=20) =\", sample20)\n",
        "\n",
        "# Média amostral (n=20)\n",
        "x20 = np.mean(sample20)\n",
        "print(\"Média amostral (n=20) =\", x20)"
      ],
      "execution_count": 63,
      "outputs": [
        {
          "output_type": "stream",
          "name": "stdout",
          "text": [
            "Amostra (n=20) = [150.12425405 227.09741251   3.16290491 428.38655756  87.55537772\n",
            " 265.49500859 119.16779497  59.13481289 158.08374881 356.77981383\n",
            " 431.47510845 270.19418338  47.23477616  44.66526676  15.95263842\n",
            " 106.31988723 386.82424166  27.20486222  62.10553019  20.43885995]\n",
            "Média amostral (n=20) = 163.3701520126447\n"
          ]
        }
      ]
    },
    {
      "cell_type": "code",
      "metadata": {
        "id": "QyeEKyJjvrOy",
        "outputId": "6b81be99-0178-4cb3-c6df-9c053526b4b4",
        "colab": {
          "base_uri": "https://localhost:8080/"
        }
      },
      "source": [
        "print(\"Diferença =\", abs(x20 - mu))"
      ],
      "execution_count": 64,
      "outputs": [
        {
          "output_type": "stream",
          "name": "stdout",
          "text": [
            "Diferença = 63.010365004686236\n"
          ]
        }
      ]
    },
    {
      "cell_type": "code",
      "metadata": {
        "id": "mDc86_YvvrOz",
        "outputId": "bd7c1e72-e56a-43b3-f2e6-d07df85c7a86",
        "colab": {
          "base_uri": "https://localhost:8080/"
        }
      },
      "source": [
        "# Uma amostra de 100 observações\n",
        "sample100 = np.random.choice(pop_data, 100)\n",
        "print(\"Amostra (n=100) =\", sample100)\n",
        "\n",
        "# Média amostral (n=100)\n",
        "x100 = np.mean(sample100)\n",
        "print(\"Média amostral (n=100) =\", x100)"
      ],
      "execution_count": 65,
      "outputs": [
        {
          "output_type": "stream",
          "name": "stdout",
          "text": [
            "Amostra (n=100) = [ 56.55370668 184.40771413 193.58337438  51.77500786   4.79849924\n",
            "  81.73604076  60.92408858  17.52584347 141.98034755  77.95934969\n",
            " 124.54172889 100.28059836 223.04811056 197.13449719  27.53487243\n",
            " 155.39900137 339.37467824 343.76550028  87.27494299  89.43587636\n",
            "   0.78724977  49.13006922 234.5061523  275.83812054  99.77924597\n",
            "   8.27506873  50.85998157   8.78917262   5.33549735 130.62768386\n",
            " 166.3647723  439.40638915   3.04319809  62.10553019 169.8663034\n",
            "  57.42105041  46.72104006   5.92817064  40.72336041 151.75954932\n",
            " 324.7673666  128.10430976 172.3933906    4.28565873 108.91623873\n",
            " 114.29336926  59.27636022  18.26653224 329.17249724  15.02345287\n",
            "  67.22721095 183.13465118 104.87738143  20.64917455  27.90293443\n",
            "  70.57584889  29.92430907  99.30575735  90.98443102  59.24977234\n",
            "  70.37074898  64.23811416  70.41173695 121.96983475  44.40684119\n",
            " 120.7879966  212.75463181 146.66583262 125.20674729   0.55374204\n",
            "  99.26282904  96.83989671  26.4242531  377.98631126  11.41674352\n",
            "  54.0564774  310.36562341  50.58630266 300.79495401 472.94446861\n",
            " 152.24525761  11.31470173   6.76004388 121.15305121 162.38079111\n",
            " 430.61957722  14.12353101  96.83989671 194.16796764 304.11855111\n",
            " 196.69875044   2.11674185 108.78123935 117.2457434  212.28900002\n",
            "  60.89346879  29.64269476   9.86960392 210.7969101  140.34334383]\n",
            "Média amostral (n=100) = 119.55076984115861\n"
          ]
        }
      ]
    },
    {
      "cell_type": "code",
      "metadata": {
        "id": "kgOxyce7vrOz",
        "outputId": "bc3faa34-14e8-4b0f-d4d4-241123f238fa",
        "colab": {
          "base_uri": "https://localhost:8080/"
        }
      },
      "source": [
        "print(\"Diferença =\", abs(x100 - mu))"
      ],
      "execution_count": 66,
      "outputs": [
        {
          "output_type": "stream",
          "name": "stdout",
          "text": [
            "Diferença = 19.190982833200152\n"
          ]
        }
      ]
    },
    {
      "cell_type": "code",
      "metadata": {
        "id": "EBrSxECrvrOz",
        "outputId": "ca5967c4-ab49-4706-b358-f66823846cde",
        "colab": {
          "base_uri": "https://localhost:8080/"
        }
      },
      "source": [
        "# Uma amostra de 1000 observações\n",
        "samplemil = np.random.choice(pop_data, 1000)\n",
        "\n",
        "# Média amostral (n=1000)\n",
        "xmil = np.mean(samplemil)\n",
        "print(\"Média amostral (n=1000) =\", xmil)"
      ],
      "execution_count": 67,
      "outputs": [
        {
          "output_type": "stream",
          "name": "stdout",
          "text": [
            "Média amostral (n=1000) = 104.53165484193792\n"
          ]
        }
      ]
    },
    {
      "cell_type": "code",
      "metadata": {
        "id": "QUCMwNz_vrOz",
        "outputId": "d15a24cd-5425-465b-aa9f-5b47f33ba338",
        "colab": {
          "base_uri": "https://localhost:8080/"
        }
      },
      "source": [
        "print(\"Diferença =\", abs(xmil - mu))"
      ],
      "execution_count": 68,
      "outputs": [
        {
          "output_type": "stream",
          "name": "stdout",
          "text": [
            "Diferença = 4.171867833979462\n"
          ]
        }
      ]
    }
  ]
}