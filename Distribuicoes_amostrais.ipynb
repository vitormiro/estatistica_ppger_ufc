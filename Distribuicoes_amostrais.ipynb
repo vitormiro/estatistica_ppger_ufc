{
  "nbformat": 4,
  "nbformat_minor": 0,
  "metadata": {
    "kernelspec": {
      "display_name": "Python 3",
      "language": "python",
      "name": "python3"
    },
    "language_info": {
      "codemirror_mode": {
        "name": "ipython",
        "version": 3
      },
      "file_extension": ".py",
      "mimetype": "text/x-python",
      "name": "python",
      "nbconvert_exporter": "python",
      "pygments_lexer": "ipython3",
      "version": "3.7.6"
    },
    "colab": {
      "name": "Distribuicoes_amostrais.ipynb",
      "provenance": [],
      "include_colab_link": true
    }
  },
  "cells": [
    {
      "cell_type": "markdown",
      "metadata": {
        "id": "view-in-github",
        "colab_type": "text"
      },
      "source": [
        "<a href=\"https://colab.research.google.com/github/vitormiro/estatistica_ppger_ufc/blob/main/Distribuicoes_amostrais.ipynb\" target=\"_parent\"><img src=\"https://colab.research.google.com/assets/colab-badge.svg\" alt=\"Open In Colab\"/></a>"
      ]
    },
    {
      "cell_type": "markdown",
      "metadata": {
        "id": "0Zp5WehJvrOL"
      },
      "source": [
        "# Distribuições amostrais"
      ]
    },
    {
      "cell_type": "markdown",
      "metadata": {
        "id": "RljBCEgRvrOO"
      },
      "source": [
        "**Definição**. Uma amostra aleatória de tamanho $n$ de uma variável aleatória $X$ com função distribuição $F$ , é um vetor $X = (X_1,X_2, \\cdots ,X_n )$ em que as componentes $X_i$ são independentes e possuem distribuição $F$.\n",
        "\n",
        "\n",
        "Dada uma amostra aleatória $X = (X_1,X_2, \\cdots, X_n)$ de uma variável $X$ com média $\\mu$ e variancia $\\sigma^2$ então $\\mathbb{E}(X_i) = \\mu$ e $Var(X_i) = \\sigma^2$ para todo $i = {1, 2, \\cdots, n}$.\n",
        "\n",
        "A distribuição de probabilidade de um estimador é chamada de **distribuição amostral**.\n",
        "\n",
        "Por exemplo, a distribuição de probabilidade de $\\bar{X}$ é chamada de distribuição amostral da média. \n",
        "\n",
        "*Observação*: A distribuição amostral de um estimador depende da distribuição de probabilidade da população da qual a amostra foi selecionada, do tamanho da amostra e do método de seleção da amostra."
      ]
    },
    {
      "cell_type": "markdown",
      "metadata": {
        "id": "tDZT43wJvrOS"
      },
      "source": [
        "Vamos usar o módulo [`random`](https://numpy.org/doc/stable/reference/random/index.html) do Numpy para simular distribuições populacionais.\n",
        "\n",
        "No exemplo a seguir usaremos a função [`gamma`](https://numpy.org/doc/stable/reference/random/generated/numpy.random.gamma.html) para simular uma variável aleatória com distribuição Gama: $X \\sim Gama(\\alpha,\\beta)$; com $ \\alpha > 0 $ e $ \\beta > 0 $.\n",
        "\n",
        "- Função de probabilidade\n",
        "$$ f(X) = \\frac{X^{\\alpha-1} e^{\\frac{-X}{\\beta}}}{\\beta^{\\alpha} \\Gamma(\\alpha)}; \\hspace {5pt} x > 0 $$\n",
        "\n",
        "Em que $\\alpha$ é um parâmetro de forma (*shape*) e $\\beta$ é um parâmetro de escala (*scale*).\n",
        "\n",
        "- Valor esperado:\n",
        "$$ E(X) = \\alpha \\beta $$\n",
        "\n",
        "- Variância\n",
        "$$ Var(X) = \\alpha \\beta^2 $$\n",
        "\n",
        "\n",
        "Com $\\alpha =1$ temos uma distribuição exponencial: $X \\sim Exp(\\lambda)$ e $\\lambda= \\frac{1}{\\beta}$."
      ]
    },
    {
      "cell_type": "code",
      "metadata": {
        "id": "n8hlGesXvrOU"
      },
      "source": [
        "# Importar o Numpy e o Matplotlib\n",
        "import numpy as np\n",
        "import matplotlib.pyplot as plt\n",
        "%matplotlib inline"
      ],
      "execution_count": null,
      "outputs": []
    },
    {
      "cell_type": "code",
      "metadata": {
        "id": "6rk4wbd0vrOX"
      },
      "source": [
        "# Semente aleatória\n",
        "np.random.seed(42)\n",
        "\n",
        "# simular dados populacionais com uma distribuição Gama (média = 100 e variância = 10.000)\n",
        "pop_data = np.random.gamma(1, 100, 3000)\n",
        "plt.hist(pop_data);"
      ],
      "execution_count": null,
      "outputs": []
    },
    {
      "cell_type": "markdown",
      "metadata": {
        "id": "VZ219i6XvrOY"
      },
      "source": [
        "**Média populacional**"
      ]
    },
    {
      "cell_type": "code",
      "metadata": {
        "id": "WNf5Ygy4vrOa"
      },
      "source": [
        "pop_data.mean()"
      ],
      "execution_count": null,
      "outputs": []
    },
    {
      "cell_type": "markdown",
      "metadata": {
        "id": "wo1bGOGcvrOc"
      },
      "source": [
        "**Variância e desvio padrão amostral**"
      ]
    },
    {
      "cell_type": "code",
      "metadata": {
        "id": "X1-LnxUzvrOe"
      },
      "source": [
        "print(\"Variância = \", pop_data.var())\n",
        "print(\"Desvio-padrão = \", pop_data.std())"
      ],
      "execution_count": null,
      "outputs": []
    },
    {
      "cell_type": "markdown",
      "metadata": {
        "id": "FrtgQ26SvrOh"
      },
      "source": [
        "Vamos selecionar uma amostra aleatória de 10 unidades dessa população usando [`random.choice`](https://numpy.org/doc/stable/reference/random/generated/numpy.random.choice.html) do Numpy. \n",
        "\n",
        "Qual é a média da amostra para esses 10 valores?"
      ]
    },
    {
      "cell_type": "code",
      "metadata": {
        "id": "Th9aUbPgvrOi"
      },
      "source": [
        "sample = np.random.choice(pop_data, 10)\n",
        "print(sample)\n",
        "print(\"Média amostral = \", sample.mean())"
      ],
      "execution_count": null,
      "outputs": []
    },
    {
      "cell_type": "markdown",
      "metadata": {
        "id": "Ema2qcSjvrOj"
      },
      "source": [
        "Qual é a variância e desvio-padrão da amostra?"
      ]
    },
    {
      "cell_type": "code",
      "metadata": {
        "id": "cIw2XXOPvrOk"
      },
      "source": [
        "print(\"Variância = \", sample.var())\n",
        "print(\"Desvio-padrão = \", sample.std())"
      ],
      "execution_count": null,
      "outputs": []
    },
    {
      "cell_type": "markdown",
      "metadata": {
        "id": "kbscSjV3vrOl"
      },
      "source": [
        "Vamos obter uma amostra com $n=5$."
      ]
    },
    {
      "cell_type": "code",
      "metadata": {
        "id": "yqPh3B4uvrOm"
      },
      "source": [
        "# Amostra\n",
        "sample = np.random.choice(pop_data, 5)\n",
        "print(\"Amostra (n=5) =\", sample)\n",
        "\n",
        "# Média amostral\n",
        "x = np.mean(sample)\n",
        "print(\"Média amostral (n=5) =\", x5)"
      ],
      "execution_count": null,
      "outputs": []
    },
    {
      "cell_type": "markdown",
      "metadata": {
        "id": "tbUP1GWwvrOm"
      },
      "source": [
        "Vamos criar um processo de extração de diversas amostras da nossa população e analisar a distribuição amostral do estimador da média."
      ]
    },
    {
      "cell_type": "code",
      "metadata": {
        "id": "1ATLNOjbvrOn"
      },
      "source": [
        "# criar vetor para receber médias amostrais\n",
        "means_size_3 = []\n",
        "\n",
        "# Simular 1.000 amostras e salvar as médias em means_size_3\n",
        "for _ in range(1000):\n",
        "    sample = np.random.choice(pop_data, 3)\n",
        "    means_size_3.append(sample.mean())\n",
        "\n",
        "plt.hist(means_size_3);"
      ],
      "execution_count": null,
      "outputs": []
    },
    {
      "cell_type": "markdown",
      "metadata": {
        "id": "bkqdQoWtvrOn"
      },
      "source": [
        "Lembre-se:\n",
        "\n",
        "$$ E(\\bar{X}) = \\mu  $$\n",
        "\n",
        "$$ Var(\\bar{X}) = \\frac{\\sigma^2}{n} $$"
      ]
    },
    {
      "cell_type": "code",
      "metadata": {
        "id": "mytcvAYZvrOo"
      },
      "source": [
        "xbar = np.mean(means_size_3)\n",
        "print(xbar)"
      ],
      "execution_count": null,
      "outputs": []
    },
    {
      "cell_type": "code",
      "metadata": {
        "id": "zDDUDWohvrOo"
      },
      "source": [
        "s = np.std(means_size_3)\n",
        "print(s)"
      ],
      "execution_count": null,
      "outputs": []
    },
    {
      "cell_type": "markdown",
      "metadata": {
        "id": "TABKDQOpvrOp"
      },
      "source": [
        "# O Teorema do Limite Central\n",
        "\n",
        "Um resultado importante muito utilizado em inferência é o Teorema Central do Limite, que fornece uma inportante conclusão a respeito da distribuição da soma de variáveis aleatórias independentes.\n",
        "\n",
        "**Teorema**. Seja ${X_n ,n \\geq 1}$ uma seqüência de variáveis aleatórias independentes e identicamnte distribuídas, com média $\\mu$ e variância $\\sigma^2 < \\infty$. Então, para $S_n = \\sum_{i=1}^{n} X_n$, tem-se:\n",
        "\n",
        "$$ \\frac{S_n - \\mathbb{E}(X_i)}{\\sqrt{Var(S_n}} = \\frac{S_n - n \\mu}{\\sigma \\sqrt{n}} \\xrightarrow{d}  N(0,1) $$"
      ]
    },
    {
      "cell_type": "code",
      "metadata": {
        "id": "58ST50HOvrOp"
      },
      "source": [
        "sample1 = np.random.choice(pop_data, 100)\n",
        "x1 = np.mean(sample1)\n",
        "print(x1)"
      ],
      "execution_count": null,
      "outputs": []
    },
    {
      "cell_type": "code",
      "metadata": {
        "id": "nb_sQmYSvrOq"
      },
      "source": [
        "# criar vetor para receber médias amostrais\n",
        "means_size_100 = []\n",
        "\n",
        "# Simular 10.000 amostras e salvar as médias em means_size_100\n",
        "for _ in range(10000):\n",
        "    sample = np.random.choice(pop_data, 100)\n",
        "    means_size_100.append(sample.mean())\n",
        "\n",
        "plt.hist(means_size_100);"
      ],
      "execution_count": null,
      "outputs": []
    },
    {
      "cell_type": "markdown",
      "metadata": {
        "id": "9Nd5i35EvrOr"
      },
      "source": [
        "**Parâmetros populacionais**"
      ]
    },
    {
      "cell_type": "code",
      "metadata": {
        "id": "BS6SJh9GvrOr"
      },
      "source": [
        "mu = np.mean(pop_data)\n",
        "print(\"Média =\", mu)\n",
        "var_pop = np.var(pop_data)\n",
        "print(\"Variância =\", var_pop)"
      ],
      "execution_count": null,
      "outputs": []
    },
    {
      "cell_type": "markdown",
      "metadata": {
        "id": "t97Q20DXvrOr"
      },
      "source": [
        "**Estimativas amostrais**"
      ]
    },
    {
      "cell_type": "code",
      "metadata": {
        "id": "GeC79LqQvrOs"
      },
      "source": [
        "xbar = np.mean(means_size_100);\n",
        "print(\"Média amostral =\", xbar)\n",
        "var_sample = np.var(means_size_100)\n",
        "print(\"Variância amostral =\", var_sample)"
      ],
      "execution_count": null,
      "outputs": []
    },
    {
      "cell_type": "markdown",
      "metadata": {
        "id": "8I1fId4GvrOt"
      },
      "source": [
        "*Observação*: A qualidade da aproximação normal para a distribuição amostral da média dependerá do tamanho da amostra e da distribuição da população de onde foi retirada a amostra. Em muito casos de interesse prático, se $n \\geq 30$ a aproximação normal será satisfatória, independente da distribuição da população."
      ]
    },
    {
      "cell_type": "markdown",
      "metadata": {
        "id": "LVrEX2-xvrOt"
      },
      "source": [
        "### Distribuição amostral da variância"
      ]
    },
    {
      "cell_type": "code",
      "metadata": {
        "id": "AsSEkGddvrOt"
      },
      "source": [
        "# Criar um vetor para receber variâncias amostrais\n",
        "var_size_100 = []\n",
        "\n",
        "# Simulando 10.000 valores de variância amostral\n",
        "for _ in range(10000):\n",
        "    sample = np.random.choice(pop_data, 100)\n",
        "    var_size_100.append(sample.var())\n",
        "\n",
        "plt.hist(var_size_100);"
      ],
      "execution_count": null,
      "outputs": []
    },
    {
      "cell_type": "markdown",
      "metadata": {
        "id": "9MiHx84VvrOu"
      },
      "source": [
        "**Média e variância da estimativa de variância amostral**"
      ]
    },
    {
      "cell_type": "code",
      "metadata": {
        "id": "nmTlqLnavrOu"
      },
      "source": [
        "mean_s2 = np.mean(var_size_100);\n",
        "print(\"Valor esperado =\", mean_s2)\n",
        "\n",
        "var_s2 = np.var(var_size_100)\n",
        "print(\"Variância =\", var_s2)"
      ],
      "execution_count": null,
      "outputs": []
    },
    {
      "cell_type": "markdown",
      "metadata": {
        "id": "WTqKltKvvrOv"
      },
      "source": [
        "# Lei dos Grandes Números\n",
        "\n",
        "A **Lei dos Grandes Números** é um dos teoremas mais importantes da probabilidade.\n",
        "\n",
        "De forma simplificada, ela diz que quanto maior o número de amostras, mais a média amostral tenderá ao valor esperado ($\\mu$).\n",
        "\n",
        "Considerando uma variável aleatória $X$ e seja $X_1,X_2, \\cdots,X_n$ uma amostra aleatória de $X$ com $n$ \"grande\".\n",
        "\n",
        "$$ \\bar{X_n} = \\frac{1}{n} \\sum_{i=1}^{n} X_i \\rightarrow \\mu \\quad \\text{quando} \\quad n \\rightarrow \\infty  $$"
      ]
    },
    {
      "cell_type": "markdown",
      "metadata": {
        "id": "FaJ8C4BIvrOv"
      },
      "source": [
        "### Lei Fraca Dos Grandes Números\n",
        "\n",
        "Seja $X_1, X_2 , \\cdots, X_n$ uma AAS de variáveis aleatórias *i.i.d.* com média $\\mu$ e variância $\\sigma^2 < \\infty$. Então, para qualquer $\\epsilon > 0$,\n",
        "\n",
        "\\begin{align}\n",
        "  \\lim_{n \\rightarrow \\infty} P(|\\overline{X}-\\mu| \\geq \\epsilon)=0.\n",
        "\\end{align}"
      ]
    },
    {
      "cell_type": "code",
      "metadata": {
        "id": "xYecmVhJvrOw"
      },
      "source": [
        "# Semente aleatória\n",
        "np.random.seed(42)\n",
        "\n",
        "# simular dados populacionais com uma distribuição Gama\n",
        "pop_data = np.random.gamma(1,100, 3000)\n",
        "plt.hist(pop_data);"
      ],
      "execution_count": null,
      "outputs": []
    },
    {
      "cell_type": "code",
      "metadata": {
        "id": "hBs7MlnmvrOw"
      },
      "source": [
        "# Tamanho da população\n",
        "N = len(pop_data)\n",
        "print(N)"
      ],
      "execution_count": null,
      "outputs": []
    },
    {
      "cell_type": "code",
      "metadata": {
        "id": "xuwaVFL7vrOw"
      },
      "source": [
        "# Média populacional\n",
        "mu = np.mean(pop_data)\n",
        "print(mu)"
      ],
      "execution_count": null,
      "outputs": []
    },
    {
      "cell_type": "markdown",
      "metadata": {
        "id": "iSB_x6omvrOw"
      },
      "source": [
        "Vamos considerar uma amostra inicial de $n=5$:"
      ]
    },
    {
      "cell_type": "code",
      "metadata": {
        "id": "_tcapvH1vrOx"
      },
      "source": [
        "# Uma amostra de 5 observações\n",
        "sample5 = np.random.choice(pop_data, 5)\n",
        "print(\"Amostra (n=5) =\", sample5)\n",
        "\n",
        "# Média amostral  (n=5)\n",
        "x5 = np.mean(sample5)\n",
        "print(\"Média amostral (n=5) =\", x5)"
      ],
      "execution_count": null,
      "outputs": []
    },
    {
      "cell_type": "markdown",
      "metadata": {
        "id": "4Id632VnvrOx"
      },
      "source": [
        "Vejamos o valor de $|\\overline{X}-\\mu|$:"
      ]
    },
    {
      "cell_type": "code",
      "metadata": {
        "id": "J6hMbT5RvrOx"
      },
      "source": [
        "print(\"Diferença =\", abs(x5 - mu))"
      ],
      "execution_count": null,
      "outputs": []
    },
    {
      "cell_type": "markdown",
      "metadata": {
        "id": "L_tfByobvrOy"
      },
      "source": [
        "Vamos aumentar o tamanho da amostra para $n=20$"
      ]
    },
    {
      "cell_type": "code",
      "metadata": {
        "id": "eNM5DKDxvrOy"
      },
      "source": [
        "# Uma amostra de 20 observações\n",
        "sample20 = np.random.choice(pop_data, 20)\n",
        "print(\"Amostra (n=20) =\", sample20)\n",
        "\n",
        "# Média amostral (n=20)\n",
        "x20 = np.mean(sample20)\n",
        "print(\"Média amostral (n=20) =\", x20)"
      ],
      "execution_count": null,
      "outputs": []
    },
    {
      "cell_type": "code",
      "metadata": {
        "id": "QyeEKyJjvrOy"
      },
      "source": [
        "print(\"Diferença =\", abs(x20 - mu))"
      ],
      "execution_count": null,
      "outputs": []
    },
    {
      "cell_type": "code",
      "metadata": {
        "id": "mDc86_YvvrOz"
      },
      "source": [
        "# Uma amostra de 100 observações\n",
        "sample100 = np.random.choice(pop_data, 100)\n",
        "print(\"Amostra (n=100) =\", sample100)\n",
        "\n",
        "# Média amostral (n=100)\n",
        "x100 = np.mean(sample100)\n",
        "print(\"Média amostral (n=100) =\", x100)"
      ],
      "execution_count": null,
      "outputs": []
    },
    {
      "cell_type": "code",
      "metadata": {
        "id": "kgOxyce7vrOz"
      },
      "source": [
        "print(\"Diferença =\", abs(x100 - mu))"
      ],
      "execution_count": null,
      "outputs": []
    },
    {
      "cell_type": "code",
      "metadata": {
        "id": "EBrSxECrvrOz"
      },
      "source": [
        "# Uma amostra de 1000 observações\n",
        "samplemil = np.random.choice(pop_data, 1000)\n",
        "\n",
        "# Média amostral (n=1000)\n",
        "xmil = np.mean(samplemil)\n",
        "print(\"Média amostral (n=1000) =\", xmil)"
      ],
      "execution_count": null,
      "outputs": []
    },
    {
      "cell_type": "code",
      "metadata": {
        "id": "QUCMwNz_vrOz"
      },
      "source": [
        "print(\"Diferença =\", abs(xmil - mu))"
      ],
      "execution_count": null,
      "outputs": []
    },
    {
      "cell_type": "code",
      "metadata": {
        "id": "tea4m4cuvrO0"
      },
      "source": [
        ""
      ],
      "execution_count": null,
      "outputs": []
    }
  ]
}