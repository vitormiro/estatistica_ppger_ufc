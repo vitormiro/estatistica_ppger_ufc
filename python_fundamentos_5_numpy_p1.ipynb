{
  "nbformat": 4,
  "nbformat_minor": 0,
  "metadata": {
    "colab": {
      "name": "python_fundamentos_5_numpy_p1.ipynb",
      "provenance": [],
      "collapsed_sections": [],
      "include_colab_link": true
    },
    "kernelspec": {
      "display_name": "Python 3",
      "language": "python",
      "name": "python3"
    },
    "language_info": {
      "codemirror_mode": {
        "name": "ipython",
        "version": 3
      },
      "file_extension": ".py",
      "mimetype": "text/x-python",
      "name": "python",
      "nbconvert_exporter": "python",
      "pygments_lexer": "ipython3",
      "version": "3.7.6"
    }
  },
  "cells": [
    {
      "cell_type": "markdown",
      "metadata": {
        "id": "view-in-github",
        "colab_type": "text"
      },
      "source": [
        "<a href=\"https://colab.research.google.com/github/vitormiro/estatistica_ppger_ufc/blob/main/python_fundamentos_5_numpy_p1.ipynb\" target=\"_parent\"><img src=\"https://colab.research.google.com/assets/colab-badge.svg\" alt=\"Open In Colab\"/></a>"
      ]
    },
    {
      "cell_type": "markdown",
      "metadata": {
        "id": "az9kwkaMiL-a"
      },
      "source": [
        "# Numpy\n",
        "\n",
        "O **NumPy**, abreviatura para *Numerical Python* (Python Numérico), é uma biblioteca Python que fornece um grande conjunto de funções e operações para executar facilmente cálculos numéricos.\n",
        "\n",
        "A estrutura de dados mais importante que o NumPy fornece é um objeto poderoso, um tipo de *array* (arranjo), chamada **ndarray**. \n",
        "\n",
        "No Python, um array é um objeto semelhante a uma lista, mas é uma estrutura de dados que armazena informações de um mesmo tipo.\n",
        "\n",
        "Podemos pensar em um array em NumPy como uma tabela multidimensional de elementos do mesmo tipo, indexados por uma tupla de inteiros positivos. \n",
        "A vantagem dos arrays (ndarrays) é a possibilidade de realizar operações matemáticas em blocos inteiros de dados usando uma sintaxe semelhante às operações com elementos escalares.\n",
        "\n",
        "[Documentação do Numpy](https://numpy.org)"
      ]
    },
    {
      "cell_type": "markdown",
      "metadata": {
        "id": "__zecr1NqT3B"
      },
      "source": [
        "### Recursos do NumPy\n",
        "\n",
        "\n",
        "\n"
      ]
    },
    {
      "cell_type": "code",
      "metadata": {
        "id": "vClGc8ZDj8Xs"
      },
      "source": [
        "# Se for necessário, primeiro devemos instalar o NumPy (retirar o # da linha abaixo antes de executar)\n",
        "#!pip install numpy\n",
        "\n",
        "# E importar o NumPy com o alias 'np'\n",
        "import numpy as np"
      ],
      "execution_count": 1,
      "outputs": []
    },
    {
      "cell_type": "markdown",
      "metadata": {
        "id": "U3W51fRLryqR"
      },
      "source": [
        "Vamos criar um array\n"
      ]
    },
    {
      "cell_type": "code",
      "metadata": {
        "id": "8SZU7WBWr04L"
      },
      "source": [
        "# criando um array de números inteiros\n",
        "np.array([1, 4, 2, 5, 3])"
      ],
      "execution_count": null,
      "outputs": []
    },
    {
      "cell_type": "markdown",
      "metadata": {
        "id": "KWxSkSZJq_El"
      },
      "source": [
        "Vamos criar um array convertendo uma lista"
      ]
    },
    {
      "cell_type": "code",
      "metadata": {
        "id": "E2kJu7XjX9lm"
      },
      "source": [
        "# cria uma lista\n",
        "x = [1, 4, 2, 5, 3]\n",
        "x"
      ],
      "execution_count": null,
      "outputs": []
    },
    {
      "cell_type": "code",
      "metadata": {
        "id": "9CWThMmKrVUX"
      },
      "source": [
        "# converter para array\n",
        "x = np.array(x)\n",
        "x"
      ],
      "execution_count": null,
      "outputs": []
    },
    {
      "cell_type": "code",
      "metadata": {
        "id": "Tc2lpU6Eu2US"
      },
      "source": [
        "type(x)"
      ],
      "execution_count": null,
      "outputs": []
    },
    {
      "cell_type": "code",
      "metadata": {
        "id": "VrFCeWHgrdY-"
      },
      "source": [
        "# Soma\n",
        "x.sum()"
      ],
      "execution_count": null,
      "outputs": []
    },
    {
      "cell_type": "code",
      "metadata": {
        "id": "uHetPHnSs3ws"
      },
      "source": [
        "# valor mínimo\n",
        "x.min()"
      ],
      "execution_count": null,
      "outputs": []
    },
    {
      "cell_type": "code",
      "metadata": {
        "id": "3JlKFOeYs3lB"
      },
      "source": [
        "# valor máximo\n",
        "x.max()"
      ],
      "execution_count": null,
      "outputs": []
    },
    {
      "cell_type": "code",
      "metadata": {
        "id": "wkTTtiA4rvM2"
      },
      "source": [
        "# soma de arrays (elemento por elemento)\n",
        "# Exemplo: notas de duas provas\n",
        "nota1 = np.array([2.5, 4, 3.5, 3, 4])\n",
        "nota2 = np.array([3.5, 3.5, 3.5, 4, 4.5])\n",
        "nota = nota1 + nota2\n",
        "nota"
      ],
      "execution_count": null,
      "outputs": []
    },
    {
      "cell_type": "code",
      "metadata": {
        "id": "YvKO5n0FuBca"
      },
      "source": [
        "# soma com escalar\n",
        "notaf = nota + 0.5\n",
        "notaf"
      ],
      "execution_count": null,
      "outputs": []
    },
    {
      "cell_type": "code",
      "metadata": {
        "id": "Hk_KNTQetMLJ"
      },
      "source": [
        "# operação de comparação\n",
        "aprovados = notaf >=7\n",
        "aprovados"
      ],
      "execution_count": null,
      "outputs": []
    },
    {
      "cell_type": "code",
      "metadata": {
        "id": "0c7LsvX1u3Ud"
      },
      "source": [
        "# multiplicação de arrays (elemento por elemento)\n",
        "x = np.array([1, 2, 3, 4])\n",
        "y = np.array([5, 6, 7, 8])\n",
        "prod = x * y\n",
        "prod"
      ],
      "execution_count": null,
      "outputs": []
    },
    {
      "cell_type": "code",
      "metadata": {
        "id": "RhJMqflgvJ3J"
      },
      "source": [
        "# multiplicação por um escalar\n",
        "x2 = x * 2\n",
        "x2"
      ],
      "execution_count": null,
      "outputs": []
    },
    {
      "cell_type": "markdown",
      "metadata": {
        "id": "2nW9bNuEy_uN"
      },
      "source": [
        "Vejamos algumas operações de interesse no nosso curso (Estatística Aplicada)."
      ]
    },
    {
      "cell_type": "markdown",
      "metadata": {
        "id": "eoP_uXADvpdv"
      },
      "source": [
        "**Produto escalar de dois vetores**\n",
        "\n",
        "$$ \\langle x,y \\rangle = x\\cdot y = \\sum_{i=1}^{n} x_i  y_i = x_1 y_1 + x_2 y_2 + \\dots + x_{n} y_{n}$$\n",
        "\n"
      ]
    },
    {
      "cell_type": "code",
      "metadata": {
        "id": "URwweDROvggm"
      },
      "source": [
        "# produto escalar\n",
        "x = np.array([1, 2, 3, 4])\n",
        "y = np.array([5, 6, 7, 8])\n",
        "pxy = np.dot(x, y)\n",
        "pxy"
      ],
      "execution_count": null,
      "outputs": []
    },
    {
      "cell_type": "markdown",
      "metadata": {
        "id": "8XP6q0fNxFHh"
      },
      "source": [
        "**Soma dos quadrados**\n",
        "\n",
        "$$ \\langle x,x \\rangle = x\\cdot x = \\sum_{i=1}^{n} x_i^2 = x_1^2 + x_2^2 + \\dots + x_{n}^2$$\n"
      ]
    },
    {
      "cell_type": "code",
      "metadata": {
        "id": "i_9-d0eAw3QA"
      },
      "source": [
        "# soma dos quadrados\n",
        "xquad = np.dot(x, x)\n",
        "xquad"
      ],
      "execution_count": null,
      "outputs": []
    },
    {
      "cell_type": "markdown",
      "metadata": {
        "id": "R4uTJnj8xhh-"
      },
      "source": [
        "## Operações com matrizes\n",
        "\n",
        "Sobre o [numpy.matrix](https://numpy.org/doc/stable/reference/generated/numpy.matrix.html?highlight=matrix#numpy.matrix).\n",
        "\n",
        "Vamos definir uma matriz $\\bf{A}_{2x4}$.\n",
        "$$\n",
        "\\bf{A} = \n",
        "\\left[ \\begin{array}{ccc}\n",
        "1 & 2 & 3 & 4 \\\\\n",
        "5 & 6 & 7 & 8\n",
        "\\end{array} \\right]\n",
        "$$\n"
      ]
    },
    {
      "cell_type": "code",
      "metadata": {
        "id": "_nofjdAoxn36"
      },
      "source": [
        "# criar matriz\n",
        "A = np.matrix([[1, 2, 3, 4],\n",
        "               [5, 6, 7, 8]])\n",
        "A"
      ],
      "execution_count": null,
      "outputs": []
    },
    {
      "cell_type": "code",
      "metadata": {
        "id": "k7XBPLpkzOif"
      },
      "source": [
        "type(A)"
      ],
      "execution_count": null,
      "outputs": []
    },
    {
      "cell_type": "markdown",
      "metadata": {
        "id": "ofy6fahGWWTj"
      },
      "source": [
        "### Soma de matrizes\n",
        "Definidas as matrizes $\\bf{A}$ e $\\bf{B}$.\n",
        "\n",
        "$$\n",
        "\\bf{A} = \n",
        "\\left[ \\begin{array}{ccc}\n",
        "a_{11} & a_{12} & a_{13}\\\\ \n",
        "a_{21} & a_{22} & a_{23} \\\\ \n",
        "a_{31} & a_{32} & a_{33} \n",
        "\\end{array} \\right] , \\quad\n",
        "\\bf{B} = \n",
        "\\left[ \\begin{array}{ccc}\n",
        "b_{11} & b_{12} & b_{13}\\\\ \n",
        "b_{21} & b_{22} & b_{23} \\\\ \n",
        "b_{31} & b_{32} & b_{33} \n",
        "\\end{array} \\right]\n",
        "$$\n",
        "\n",
        "A soma das matrizes é:\n",
        "$$ \n",
        "\\bf{A} + \\bf{B} =\n",
        "\\left[ \\begin{array}{ccc}\n",
        "a_{11} & a_{12} & a_{13}\\\\ \n",
        "a_{21} & a_{22} & a_{23} \\\\ \n",
        "a_{31} & a_{32} & a_{33} \n",
        "\\end{array} \\right] +\n",
        "\\left[ \\begin{array}{ccc}\n",
        "b_{11} & b_{12} & b_{13}\\\\ \n",
        "b_{21} & b_{22} & b_{23} \\\\ \n",
        "b_{31} & b_{32} & b_{33} \n",
        "\\end{array} \\right] =\n",
        "\\left[ \\begin{array}{ccc}\n",
        "a_{11}+b_{11} & a_{12}+b_{12} & a_{13}+b_{13}\\\\ \n",
        "a_{21}+b_{21} & a_{22}+b_{22} & a_{23}+b_{23} \\\\ \n",
        "a_{31}+b_{31} & a_{32}+b_{32} & a_{33}+b_{33} \n",
        "\\end{array} \\right]\n",
        " $$"
      ]
    },
    {
      "cell_type": "code",
      "metadata": {
        "id": "fMDOnA5Yx2jW"
      },
      "source": [
        "# soma de matrizes\n",
        "A = np.matrix([[1, 2, 3, 4], \n",
        "               [5, 6, 7, 8]])\n",
        "\n",
        "B = np.matrix([[1, 3, 5, 7], \n",
        "               [2, 1, 3, 5]])\n",
        "\n",
        "S = A + B\n",
        "S"
      ],
      "execution_count": null,
      "outputs": []
    },
    {
      "cell_type": "markdown",
      "metadata": {
        "id": "rG3W15oWYFwb"
      },
      "source": [
        "### Transposta de uma matriz\n",
        "$$\n",
        "\\boldsymbol{A} = \\left[ \\begin{array}{ccc}\n",
        "a_{11} & a_{12} & a_{13} \\\\\n",
        "a_{21} & a_{22} & a_{23}\n",
        "\\end{array} \\right], \\quad\n",
        "\\boldsymbol{A}^T = \\left[ \\begin{array}{cc}\n",
        "a_{11} & a_{21} \\\\\n",
        "a_{12} & a_{22} \\\\\n",
        "a_{13} & a_{23}\n",
        "\\end{array} \\right]\n",
        "$$\n"
      ]
    },
    {
      "cell_type": "code",
      "metadata": {
        "id": "9WGo8SNfyNqg"
      },
      "source": [
        "# Transposta\n",
        "A.T"
      ],
      "execution_count": null,
      "outputs": []
    },
    {
      "cell_type": "markdown",
      "metadata": {
        "id": "V7pUNjQaZ3uY"
      },
      "source": [
        "## Multiplicação de matrizes\n",
        "\n",
        "$$ \n",
        "\\begin{bmatrix} \n",
        "a_{11} & a_{12} & a_{13} \\\\ \n",
        "a_{21} & a_{22} & a_{23} \n",
        "\\end{bmatrix}_{2\\times3} \\cdot \n",
        "\\begin{bmatrix} \n",
        "b_{11} & b_{12} \\\\ \n",
        "b_{21} & b_{22} \\\\ \n",
        "b_{31} & b_{32} \n",
        "\\end{bmatrix}_{3\\times2} = \n",
        "\\begin{bmatrix} \n",
        "a_{11}b_{11}+a_{12}b_{21}+a_{13}b_{31} & a_{11}b_{12}+a_{12}b_{22}+a_{13}b_{32} \\\\ \n",
        "a_{21}b_{11}+a_{22}b_{21}+a_{23}b_{31} & a_{21}b_{12}+a_{22}b_{22}+a_{23}b_{32} \n",
        "\\end{bmatrix}_{2\\times2} \n",
        "$$\n"
      ]
    },
    {
      "cell_type": "code",
      "metadata": {
        "id": "NiGYzx5IyURQ"
      },
      "source": [
        "# multiplicação\n",
        "P = A*B"
      ],
      "execution_count": null,
      "outputs": []
    },
    {
      "cell_type": "markdown",
      "metadata": {
        "id": "azlg-hjfzbLD"
      },
      "source": [
        "Temos um erro por `B` foi definida como uma matriz (2 X 4). Devemos fazer a transposta de `B`."
      ]
    },
    {
      "cell_type": "code",
      "metadata": {
        "id": "_t5bnJKbyj86"
      },
      "source": [
        "Bt = B.T\n",
        "Bt"
      ],
      "execution_count": null,
      "outputs": []
    },
    {
      "cell_type": "code",
      "metadata": {
        "id": "a0S5hcnYyqqY"
      },
      "source": [
        "P = A*Bt\n",
        "P"
      ],
      "execution_count": null,
      "outputs": []
    },
    {
      "cell_type": "markdown",
      "metadata": {
        "id": "hvwvRzQYEcyR"
      },
      "source": [
        "### Manipulação de Arrays"
      ]
    },
    {
      "cell_type": "markdown",
      "metadata": {
        "id": "zoHRmOa_o3aJ"
      },
      "source": [
        "Vamos criar arrays de diferentes dimensões."
      ]
    },
    {
      "cell_type": "code",
      "metadata": {
        "id": "Pwn3IE87o6l_"
      },
      "source": [
        "a = np.array(5)\n",
        "b = np.array([1, 2, 3, 4, 5])\n",
        "c = np.array([[1, 2, 3], [4, 5, 6]])\n",
        "d = np.array([[[1, 2, 3], [4, 5, 6]], [[1, 2, 3], [4, 5, 6]]])"
      ],
      "execution_count": 3,
      "outputs": []
    },
    {
      "cell_type": "code",
      "metadata": {
        "colab": {
          "base_uri": "https://localhost:8080/"
        },
        "id": "312FGJ2MpEU1",
        "outputId": "a03f7be7-5be7-4a0a-848b-72068b1e2330"
      },
      "source": [
        "print(a)"
      ],
      "execution_count": 4,
      "outputs": [
        {
          "output_type": "stream",
          "text": [
            "5\n"
          ],
          "name": "stdout"
        }
      ]
    },
    {
      "cell_type": "code",
      "metadata": {
        "colab": {
          "base_uri": "https://localhost:8080/"
        },
        "id": "FDjVFH2CpF8F",
        "outputId": "1841a795-b08a-4c94-91d4-ed8dbac563cf"
      },
      "source": [
        "print(b)"
      ],
      "execution_count": 5,
      "outputs": [
        {
          "output_type": "stream",
          "text": [
            "[1 2 3 4 5]\n"
          ],
          "name": "stdout"
        }
      ]
    },
    {
      "cell_type": "code",
      "metadata": {
        "colab": {
          "base_uri": "https://localhost:8080/"
        },
        "id": "Tn0KpdPOpH_N",
        "outputId": "6fd788a2-b222-439f-bd83-f78078d035ec"
      },
      "source": [
        "print(c)"
      ],
      "execution_count": 6,
      "outputs": [
        {
          "output_type": "stream",
          "text": [
            "[[1 2 3]\n",
            " [4 5 6]]\n"
          ],
          "name": "stdout"
        }
      ]
    },
    {
      "cell_type": "code",
      "metadata": {
        "colab": {
          "base_uri": "https://localhost:8080/"
        },
        "id": "jelIoBEepJ9j",
        "outputId": "92b8c55f-6e69-4eed-c6eb-e35111ba6341"
      },
      "source": [
        "print(d)"
      ],
      "execution_count": 7,
      "outputs": [
        {
          "output_type": "stream",
          "text": [
            "[[[1 2 3]\n",
            "  [4 5 6]]\n",
            "\n",
            " [[1 2 3]\n",
            "  [4 5 6]]]\n"
          ],
          "name": "stdout"
        }
      ]
    },
    {
      "cell_type": "markdown",
      "metadata": {
        "id": "bwnmX52fpN8G"
      },
      "source": [
        "Verificar as dimensões com o método `.ndim`"
      ]
    },
    {
      "cell_type": "code",
      "metadata": {
        "colab": {
          "base_uri": "https://localhost:8080/"
        },
        "id": "_ZQjbOkXpJ7l",
        "outputId": "8b7eb7d0-b069-463a-d0c1-d2d65c15b47d"
      },
      "source": [
        "print(a.ndim)\n",
        "print(b.ndim)\n",
        "print(c.ndim)\n",
        "print(d.ndim)"
      ],
      "execution_count": 8,
      "outputs": [
        {
          "output_type": "stream",
          "text": [
            "0\n",
            "1\n",
            "2\n",
            "3\n"
          ],
          "name": "stdout"
        }
      ]
    },
    {
      "cell_type": "markdown",
      "metadata": {
        "id": "QyBDZa6VpaWu"
      },
      "source": [
        "#### Indexando um array."
      ]
    },
    {
      "cell_type": "code",
      "metadata": {
        "colab": {
          "base_uri": "https://localhost:8080/"
        },
        "id": "7j2s7KoCpJ02",
        "outputId": "c32201b3-bcff-44e6-88f3-0ce75a0c283b"
      },
      "source": [
        "# criar um array 1D\n",
        "arr1 = np.array([1, 2, 3, 4])\n",
        "print(arr1)"
      ],
      "execution_count": 9,
      "outputs": [
        {
          "output_type": "stream",
          "text": [
            "[1 2 3 4]\n"
          ],
          "name": "stdout"
        }
      ]
    },
    {
      "cell_type": "code",
      "metadata": {
        "colab": {
          "base_uri": "https://localhost:8080/"
        },
        "id": "umNgorDNphIR",
        "outputId": "f4ac97df-7a66-4467-a8e8-b137bca55d7b"
      },
      "source": [
        "# imprimir o primeiro elemento indexado por [0]\n",
        "print(arr1[0])"
      ],
      "execution_count": 10,
      "outputs": [
        {
          "output_type": "stream",
          "text": [
            "1\n"
          ],
          "name": "stdout"
        }
      ]
    },
    {
      "cell_type": "code",
      "metadata": {
        "colab": {
          "base_uri": "https://localhost:8080/"
        },
        "id": "6j02PeJzphFg",
        "outputId": "555f055e-238b-4938-cd5a-6d9cf070e1f1"
      },
      "source": [
        "# somar dois elementos\n",
        "print(arr1[2] + arr1[3])"
      ],
      "execution_count": 11,
      "outputs": [
        {
          "output_type": "stream",
          "text": [
            "7\n"
          ],
          "name": "stdout"
        }
      ]
    },
    {
      "cell_type": "code",
      "metadata": {
        "colab": {
          "base_uri": "https://localhost:8080/"
        },
        "id": "luMeZEauphBV",
        "outputId": "51833a95-f662-4076-9537-cee2727a94db"
      },
      "source": [
        "# criar um array 2D\n",
        "arr2 = np.array([[1,2,3,4,5], [6,7,8,9,10]])\n",
        "print(arr2)\n",
        "\n",
        "# imprimir o 2º elemento na 1º dimensão\n",
        "print('O 2º elemento na 1º dimensão é: ', arr2[0, 1])"
      ],
      "execution_count": 12,
      "outputs": [
        {
          "output_type": "stream",
          "text": [
            "[[ 1  2  3  4  5]\n",
            " [ 6  7  8  9 10]]\n",
            "O 2º elemento na 1º dimensão é:  2\n"
          ],
          "name": "stdout"
        }
      ]
    },
    {
      "cell_type": "code",
      "metadata": {
        "colab": {
          "base_uri": "https://localhost:8080/"
        },
        "id": "g94p1uRypg9v",
        "outputId": "a62a1880-996f-4ab9-c8d4-42f900733cbf"
      },
      "source": [
        "# imprimir o 4º elemento (indexado por 3) na 2º dimensão (indexada por 1)\n",
        "print('O 4º elemento na 2º dimensão é: ', arr2[1, 3])"
      ],
      "execution_count": 13,
      "outputs": [
        {
          "output_type": "stream",
          "text": [
            "O 4º elemento na 2º dimensão é:  9\n"
          ],
          "name": "stdout"
        }
      ]
    },
    {
      "cell_type": "code",
      "metadata": {
        "colab": {
          "base_uri": "https://localhost:8080/"
        },
        "id": "iKXbay4Qpt_Z",
        "outputId": "6aaf71e5-dc91-4531-aa4c-f38859539287"
      },
      "source": [
        "# criar um array 3D\n",
        "arr3 = np.array([[[1, 2, 3], [4, 5, 6]], [[7, 8, 9], [10, 11, 12]]])\n",
        "print(arr3)"
      ],
      "execution_count": 14,
      "outputs": [
        {
          "output_type": "stream",
          "text": [
            "[[[ 1  2  3]\n",
            "  [ 4  5  6]]\n",
            "\n",
            " [[ 7  8  9]\n",
            "  [10 11 12]]]\n"
          ],
          "name": "stdout"
        }
      ]
    },
    {
      "cell_type": "code",
      "metadata": {
        "colab": {
          "base_uri": "https://localhost:8080/"
        },
        "id": "XAmPOLdypveb",
        "outputId": "b316192d-6d22-4d9f-ebdd-a67228a0c2df"
      },
      "source": [
        "# imprimir o 3º elemento (indexado por 2) da 2º dimensão (indexada por 1) do array 1 (indexado por 0)\n",
        "print(arr3[0, 1, 2])"
      ],
      "execution_count": 15,
      "outputs": [
        {
          "output_type": "stream",
          "text": [
            "6\n"
          ],
          "name": "stdout"
        }
      ]
    },
    {
      "cell_type": "code",
      "metadata": {
        "id": "vCuqup7RpvVG"
      },
      "source": [
        ""
      ],
      "execution_count": null,
      "outputs": []
    },
    {
      "cell_type": "code",
      "metadata": {
        "id": "e008G---pvMi"
      },
      "source": [
        ""
      ],
      "execution_count": null,
      "outputs": []
    },
    {
      "cell_type": "markdown",
      "metadata": {
        "id": "cK6xjX27b1NO"
      },
      "source": [
        "Vamos usar um **gerador de números aleatórios** do NumPy - `np.random`.\n",
        "\n",
        "Sobre o [`np.random`](https://numpy.org/doc/1.16/reference/routines.random.html).\n",
        "\n",
        "Também usaremos uma \"semente aleatória\" para garantir a geração dos mesmos valores.\n"
      ]
    },
    {
      "cell_type": "code",
      "metadata": {
        "id": "toZ-jd0vf6nH"
      },
      "source": [
        "# definir uma semente aleatória\n",
        "np.random.seed(1)  # \"seed\" para gerar os mesmos valores"
      ],
      "execution_count": null,
      "outputs": []
    },
    {
      "cell_type": "code",
      "metadata": {
        "id": "6Wmac2B4d2vs"
      },
      "source": [
        "# arrays de diferentes dimensões com o gerador de números aleatórios\n",
        "x1 = np.random.randint(10, size=3)  # array de 1 dimensão\n",
        "x2 = np.random.randint(10, size=(3, 3))  # array de 2 dimensões\n",
        "x3 = np.random.randint(10, size=(3, 2, 2))  # array de 3 dimensões"
      ],
      "execution_count": null,
      "outputs": []
    },
    {
      "cell_type": "code",
      "metadata": {
        "id": "GZH2IgIWd6cW"
      },
      "source": [
        "# mostrar x1\n",
        "x1"
      ],
      "execution_count": null,
      "outputs": []
    },
    {
      "cell_type": "code",
      "metadata": {
        "id": "QFJRYJ2afAKo"
      },
      "source": [
        "# mostrar x2\n",
        "x2"
      ],
      "execution_count": null,
      "outputs": []
    },
    {
      "cell_type": "code",
      "metadata": {
        "id": "Y_G8LTR1fBoD"
      },
      "source": [
        "# mostrar x3\n",
        "x3"
      ],
      "execution_count": null,
      "outputs": []
    },
    {
      "cell_type": "markdown",
      "metadata": {
        "id": "p-4K-dgLfxS3"
      },
      "source": [
        "**Acessando elementos em um array**"
      ]
    },
    {
      "cell_type": "code",
      "metadata": {
        "id": "MlTQ22rOfEr0"
      },
      "source": [
        "# elemento \"0\" de x1\n",
        "x1[0]"
      ],
      "execution_count": null,
      "outputs": []
    },
    {
      "cell_type": "code",
      "metadata": {
        "id": "s4gOmSqFf4ma"
      },
      "source": [
        "# elemento \"2, 2\" de x2\n",
        "x2[2,2]"
      ],
      "execution_count": null,
      "outputs": []
    },
    {
      "cell_type": "code",
      "metadata": {
        "id": "VxNPx0DJf_Lk"
      },
      "source": [
        "# elemento \"0, 0\" de x2\n",
        "x2[0,0]"
      ],
      "execution_count": null,
      "outputs": []
    },
    {
      "cell_type": "code",
      "metadata": {
        "id": "ZEZu8QYDgFEB"
      },
      "source": [
        "# elemento \"0, 0, 0\" de x3\n",
        "x3[0, 0, 0]"
      ],
      "execution_count": null,
      "outputs": []
    },
    {
      "cell_type": "code",
      "metadata": {
        "id": "XE186XhngLx9"
      },
      "source": [
        "# elemento \"1\" de x3\n",
        "x3[1]"
      ],
      "execution_count": null,
      "outputs": []
    },
    {
      "cell_type": "markdown",
      "metadata": {
        "id": "PV6lkWOCv8ow"
      },
      "source": [
        "**Modificando elementos**\n"
      ]
    },
    {
      "cell_type": "code",
      "metadata": {
        "id": "Q1CXODWLv_3a"
      },
      "source": [
        "# modificando o elemento \"0, 0\" de x2\n",
        "x2[0, 0] = 12\n",
        "x2"
      ],
      "execution_count": null,
      "outputs": []
    },
    {
      "cell_type": "code",
      "metadata": {
        "id": "I8ZJ2f3uwGyy"
      },
      "source": [
        "# modificando o elemento \"2, 1, 1\" de x3\n",
        "x3[2, 1, 1] = 20\n",
        "x3[2]"
      ],
      "execution_count": null,
      "outputs": []
    },
    {
      "cell_type": "markdown",
      "metadata": {
        "id": "E8ivXZfYwX5n"
      },
      "source": [
        "### Fatiamento (slicing)\n",
        "\n",
        "O \"fatiamento\" é feito com os argumentos `start`, `stop` e `step`.\n",
        "\n",
        "`x[start:stop:step]`\n",
        "\n"
      ]
    },
    {
      "cell_type": "markdown",
      "metadata": {
        "id": "vhi4CWgjqHh8"
      },
      "source": [
        "O método `arange()` cria um vetor contendo uma progressão aritmética a partir de um intervalo definindo: `start`, `stop`, `step`."
      ]
    },
    {
      "cell_type": "code",
      "metadata": {
        "id": "3DxZ2kqFwpin",
        "colab": {
          "base_uri": "https://localhost:8080/"
        },
        "outputId": "fe7ecc7c-794b-45e3-f02b-be27503b4ed2"
      },
      "source": [
        "# Com o arange, os valores são gerados dentro do intervalo semiaberto [start, stop)\n",
        "x = np.arange(1, 20, 2)\n",
        "x"
      ],
      "execution_count": 17,
      "outputs": [
        {
          "output_type": "execute_result",
          "data": {
            "text/plain": [
              "array([ 1,  3,  5,  7,  9, 11, 13, 15, 17, 19])"
            ]
          },
          "metadata": {
            "tags": []
          },
          "execution_count": 17
        }
      ]
    },
    {
      "cell_type": "code",
      "metadata": {
        "id": "GOsu24U2wlDC",
        "colab": {
          "base_uri": "https://localhost:8080/"
        },
        "outputId": "9ee30dfc-fa11-4387-a118-adbeb7b58950"
      },
      "source": [
        "# Fatiar do elemento indexado por 1 (2º elemento) ao 4 (5º elemento). Note que o \"stop\" é excluído.\n",
        "print(x[1:5])"
      ],
      "execution_count": 18,
      "outputs": [
        {
          "output_type": "stream",
          "text": [
            "[3 5 7 9]\n"
          ],
          "name": "stdout"
        }
      ]
    },
    {
      "cell_type": "code",
      "metadata": {
        "id": "TWYG0e0vw0zP",
        "colab": {
          "base_uri": "https://localhost:8080/"
        },
        "outputId": "e3447bd9-1a8c-429d-ff7f-fb97b06c8b93"
      },
      "source": [
        "# Fatiar do 5º elemento (indexado por 4) até o final\n",
        "print(x[4:])"
      ],
      "execution_count": 19,
      "outputs": [
        {
          "output_type": "stream",
          "text": [
            "[ 9 11 13 15 17 19]\n"
          ],
          "name": "stdout"
        }
      ]
    },
    {
      "cell_type": "code",
      "metadata": {
        "id": "At8-wa7bw7D-",
        "colab": {
          "base_uri": "https://localhost:8080/"
        },
        "outputId": "d2b8ab59-dadb-4159-8ed3-22d71f52c01e"
      },
      "source": [
        "# Fatiar do elemento indexado por 0 (1º elemento) até o elemento 3 (4º elemento). Note que o \"stop\" é excluído.\n",
        "print(x[:4])"
      ],
      "execution_count": 20,
      "outputs": [
        {
          "output_type": "stream",
          "text": [
            "[1 3 5 7]\n"
          ],
          "name": "stdout"
        }
      ]
    },
    {
      "cell_type": "markdown",
      "metadata": {
        "id": "0ehA8E85qk7Z"
      },
      "source": [
        "Slicing de arrays 2D"
      ]
    },
    {
      "cell_type": "code",
      "metadata": {
        "id": "aC92-W9h-hC6",
        "colab": {
          "base_uri": "https://localhost:8080/"
        },
        "outputId": "1c812b00-88ed-4a6f-ba20-23dba9f1a12b"
      },
      "source": [
        "A = np.array([[1, 2, 3, 4, 5], [6, 7, 8, 9, 10]])\n",
        "\n",
        "# Do 1º array (indexado por 0), elementos indexados por 1 a 3 (4 é excluído)\n",
        "print(A[0, 1:4])"
      ],
      "execution_count": 21,
      "outputs": [
        {
          "output_type": "stream",
          "text": [
            "[2 3 4]\n"
          ],
          "name": "stdout"
        }
      ]
    },
    {
      "cell_type": "code",
      "metadata": {
        "colab": {
          "base_uri": "https://localhost:8080/"
        },
        "id": "MxkoyDvTqqKk",
        "outputId": "82756920-c4fd-43d7-fdf9-1b0129a35eaf"
      },
      "source": [
        "# De ambos os arrays, retorna o elementos indexado por 3\n",
        "print(A[0:2, 3])"
      ],
      "execution_count": 22,
      "outputs": [
        {
          "output_type": "stream",
          "text": [
            "[4 9]\n"
          ],
          "name": "stdout"
        }
      ]
    },
    {
      "cell_type": "markdown",
      "metadata": {
        "id": "GILbAJ88zK1Y"
      },
      "source": [
        "**Remodelagem de um array**\n",
        "\n",
        "A maneira mais fácil de fazer isso é com um método `reshape`.\n"
      ]
    },
    {
      "cell_type": "code",
      "metadata": {
        "id": "G8INzHnLw__h",
        "colab": {
          "base_uri": "https://localhost:8080/"
        },
        "outputId": "bb79f67c-0bd9-4df3-fc5f-ecc26f483eab"
      },
      "source": [
        "# Criar array com arange\n",
        "y = np.arange(1, 10)\n",
        "print(y)"
      ],
      "execution_count": 26,
      "outputs": [
        {
          "output_type": "stream",
          "text": [
            "[1 2 3 4 5 6 7 8 9]\n"
          ],
          "name": "stdout"
        }
      ]
    },
    {
      "cell_type": "code",
      "metadata": {
        "id": "1zUiXBbzzXol",
        "colab": {
          "base_uri": "https://localhost:8080/"
        },
        "outputId": "650cc6e1-2114-4dfc-c4b1-ec5d71f1a041"
      },
      "source": [
        "# Cria o array com 9 elementos usando arange e remodela para um array 3X3\n",
        "y = y.reshape((3, 3))\n",
        "print(y)"
      ],
      "execution_count": 27,
      "outputs": [
        {
          "output_type": "stream",
          "text": [
            "[[1 2 3]\n",
            " [4 5 6]\n",
            " [7 8 9]]\n"
          ],
          "name": "stdout"
        }
      ]
    },
    {
      "cell_type": "code",
      "metadata": {
        "id": "OVsoVtBi_NUU",
        "colab": {
          "base_uri": "https://localhost:8080/"
        },
        "outputId": "bb4d7e14-0012-4298-9264-f28e125b4f34"
      },
      "source": [
        "# Cria o array com 10 elementos usando arange e remodela para um array 2X5\n",
        "y = np.arange(0,20,2).reshape((2, 5))\n",
        "print(y)"
      ],
      "execution_count": 28,
      "outputs": [
        {
          "output_type": "stream",
          "text": [
            "[[ 0  2  4  6  8]\n",
            " [10 12 14 16 18]]\n"
          ],
          "name": "stdout"
        }
      ]
    },
    {
      "cell_type": "markdown",
      "metadata": {
        "id": "V-ALEoWX0ETA"
      },
      "source": [
        "Observe que, para que isso funcione, o tamanho do array inicial deve corresponder ao tamanho da matriz remodelada. "
      ]
    },
    {
      "cell_type": "markdown",
      "metadata": {
        "id": "alpOVwwg0UW3"
      },
      "source": [
        "#### Concatenação\n",
        "\n",
        "A concatenação ou junção de dois arrays no NumPy é realizada, principalmente, com o emprego das rotinas `np.concatenate`, `np.vstack` e `np.hstack`.\n",
        "\n",
        "Usamos o método `concatenate()`. Informamos uma sequência de arrays que queremos concatenar, juntamente com o eixo. Se o eixo não for informado explicitamente, será considerado como 0.\n",
        "\n",
        "O `np.concatenate` usa uma tupla ou lista de matrizes como seu primeiro argumento:"
      ]
    },
    {
      "cell_type": "code",
      "metadata": {
        "id": "OMVN7eFA0ymY",
        "colab": {
          "base_uri": "https://localhost:8080/"
        },
        "outputId": "d5f3ec25-11c5-4131-82bd-ea2433ff4043"
      },
      "source": [
        "# Criar os arrays x e y\n",
        "x = np.array([1, 2, 3])\n",
        "y = np.array([3, 2, 1])\n",
        "\n",
        "# concatenar os arrays\n",
        "np.concatenate([x, y])"
      ],
      "execution_count": 29,
      "outputs": [
        {
          "output_type": "execute_result",
          "data": {
            "text/plain": [
              "array([1, 2, 3, 3, 2, 1])"
            ]
          },
          "metadata": {
            "tags": []
          },
          "execution_count": 29
        }
      ]
    },
    {
      "cell_type": "code",
      "metadata": {
        "colab": {
          "base_uri": "https://localhost:8080/"
        },
        "id": "_iOqM0rLrkfN",
        "outputId": "746b6f7e-ec87-4b56-96d2-6a0a1378b96c"
      },
      "source": [
        "# Unir duas matrizes 2D ao longo das linhas (eixo = 1)\n",
        "\n",
        "arr1 = np.array([[1, 2], [3, 4]])\n",
        "print(arr1)\n",
        "\n",
        "arr2 = np.array([[5, 6], [7, 8]])\n",
        "print(arr2)\n",
        "\n",
        "arr = np.concatenate((arr1, arr2), axis=1)\n",
        "print(arr)"
      ],
      "execution_count": 30,
      "outputs": [
        {
          "output_type": "stream",
          "text": [
            "[[1 2]\n",
            " [3 4]]\n",
            "[[5 6]\n",
            " [7 8]]\n",
            "[[1 2 5 6]\n",
            " [3 4 7 8]]\n"
          ],
          "name": "stdout"
        }
      ]
    },
    {
      "cell_type": "markdown",
      "metadata": {
        "id": "pWozmmf4rplb"
      },
      "source": [
        "Concatenar um array 2D"
      ]
    },
    {
      "cell_type": "code",
      "metadata": {
        "colab": {
          "base_uri": "https://localhost:8080/"
        },
        "id": "qIfZHjiUro5f",
        "outputId": "3d87b344-54b7-4970-b4bb-1c8d7efe443a"
      },
      "source": [
        "arr1 = np.array([[1, 2], [3, 4]])\n",
        "print(arr1)\n",
        "\n",
        "arr2 = np.array([[5, 6], [7, 8]])\n",
        "print(arr2)\n",
        "\n",
        "arr = np.concatenate((arr1, arr2), axis=0)\n",
        "print(arr)"
      ],
      "execution_count": 31,
      "outputs": [
        {
          "output_type": "stream",
          "text": [
            "[[1 2]\n",
            " [3 4]]\n",
            "[[5 6]\n",
            " [7 8]]\n",
            "[[1 2]\n",
            " [3 4]\n",
            " [5 6]\n",
            " [7 8]]\n"
          ],
          "name": "stdout"
        }
      ]
    },
    {
      "cell_type": "markdown",
      "metadata": {
        "id": "_GWwAS5U1FWn"
      },
      "source": [
        "Usando o `np.vstack` (concatenação vertical)"
      ]
    },
    {
      "cell_type": "code",
      "metadata": {
        "id": "6J8c-sB901iC"
      },
      "source": [
        "x = np.array([1, 2, 3])\n",
        "w = np.array([[9, 8, 7], [6, 5, 4]])\n",
        "\n",
        "# concatenação vertical\n",
        "np.vstack([x, w])"
      ],
      "execution_count": null,
      "outputs": []
    },
    {
      "cell_type": "markdown",
      "metadata": {
        "id": "96TU5rXv1Nqd"
      },
      "source": [
        "Usando o `np.hstack` (concatenação horizontal)"
      ]
    },
    {
      "cell_type": "code",
      "metadata": {
        "id": "yeDAp_F2zhKQ"
      },
      "source": [
        "x = np.array([[3],[2]])\n",
        "w = np.array([[9, 8, 7], [6, 5, 4]])\n",
        "\n",
        "print(x)\n",
        "print(w)\n",
        "\n",
        "# concatenação horizontal\n",
        "np.hstack([w, x])"
      ],
      "execution_count": null,
      "outputs": []
    },
    {
      "cell_type": "markdown",
      "metadata": {
        "id": "QYv3OvgHrw7O"
      },
      "source": [
        "Empilhamento com o método `stack()`."
      ]
    },
    {
      "cell_type": "markdown",
      "metadata": {
        "id": "7HsAS6Zs2UfY"
      },
      "source": [
        "#### Separação ou divisão de arrays\n",
        "\n",
        "A separação/divisão é a operação inversa da união.\n",
        "\n",
        "A separação/divisão é implementada pelas funções:\n",
        "- `np.split`: divisão do array em sub-arrays de mesma dimensão,\n",
        "- `np.hsplit`: divisão horizontal (nas linhas),\n",
        "- `np.vsplit`: divisão vertical (nas colunas).\n",
        "\n",
        "Informamos o array que queremos dividir e o número de divisões."
      ]
    },
    {
      "cell_type": "code",
      "metadata": {
        "id": "cZb7khDHEczU",
        "colab": {
          "base_uri": "https://localhost:8080/"
        },
        "outputId": "2d16aa0a-5f21-4e1d-d43e-504a4013c086"
      },
      "source": [
        "# Criar um array com 9 elementos\n",
        "x = np.arange(9.0)\n",
        "print(x)"
      ],
      "execution_count": 33,
      "outputs": [
        {
          "output_type": "stream",
          "text": [
            "[0. 1. 2. 3. 4. 5. 6. 7. 8.]\n"
          ],
          "name": "stdout"
        }
      ]
    },
    {
      "cell_type": "code",
      "metadata": {
        "id": "k2nbIt7kAz_B",
        "colab": {
          "base_uri": "https://localhost:8080/"
        },
        "outputId": "2a0a4dad-df44-4755-9e49-a4662e16ae0a"
      },
      "source": [
        "# separar em 3 arrays\n",
        "new_x = np.split(x, 3)\n",
        "print(new_x)"
      ],
      "execution_count": 32,
      "outputs": [
        {
          "output_type": "stream",
          "text": [
            "[array([1]), array([2]), array([3])]\n"
          ],
          "name": "stdout"
        }
      ]
    },
    {
      "cell_type": "code",
      "metadata": {
        "id": "mMfRDBa82ewn"
      },
      "source": [
        "# criar uma lista com 8 elementos\n",
        "x = [1, 2, 3, 4, 5, 6, 7, 8]\n",
        "\n",
        "# separar em dois arrays com 4 elementos cada\n",
        "x1, x2 = np.split(x, [4])\n",
        "print(x1, x2)"
      ],
      "execution_count": null,
      "outputs": []
    },
    {
      "cell_type": "code",
      "metadata": {
        "id": "8Y8HnGTA3q6y"
      },
      "source": [
        "# Criar um array com 16 elementos e remodelar para um array 4X4\n",
        "A = np.arange(16).reshape(4,4)\n",
        "A"
      ],
      "execution_count": null,
      "outputs": []
    },
    {
      "cell_type": "code",
      "metadata": {
        "id": "D3klZk_PBh2b"
      },
      "source": [
        "# Dividir um array 4X4 em dois arrays 4X2 empilhados horizontalmente \n",
        "np.hsplit(A, 2)"
      ],
      "execution_count": null,
      "outputs": []
    },
    {
      "cell_type": "code",
      "metadata": {
        "id": "qHyryMIWBgkw"
      },
      "source": [
        "# Dividir o array A em A1 e A2\n",
        "A1, A2 = np.hsplit(A, 2)\n",
        "print('A1 =', A1)\n",
        "print('A2 =', A2)"
      ],
      "execution_count": null,
      "outputs": []
    },
    {
      "cell_type": "code",
      "metadata": {
        "id": "OOAxQs_iEcze"
      },
      "source": [
        "# Criar o array B com 12 elementos e remodelar em um array 4X3\n",
        "B = np.arange(12).reshape(4,3)\n",
        "B"
      ],
      "execution_count": null,
      "outputs": []
    },
    {
      "cell_type": "code",
      "metadata": {
        "id": "-fTLe9qxEczf"
      },
      "source": [
        "# Dividir o array B em dois arrays 2X3\n",
        "np.vsplit(B, 2)"
      ],
      "execution_count": null,
      "outputs": []
    },
    {
      "cell_type": "markdown",
      "metadata": {
        "id": "DmUQqnL7sqVF"
      },
      "source": [
        "**Ordenamento**\n",
        "\n",
        "Usamos o método `sort()` para colocar elementos em uma sequência ordenada ."
      ]
    },
    {
      "cell_type": "code",
      "metadata": {
        "id": "c3u0rFELiD9u",
        "colab": {
          "base_uri": "https://localhost:8080/"
        },
        "outputId": "80a7d3ad-1b69-4b77-d647-b1cb489658a6"
      },
      "source": [
        "arr = np.array([3, 2, 0, 1])\n",
        "print(arr)\n",
        "print(np.sort(arr))"
      ],
      "execution_count": 34,
      "outputs": [
        {
          "output_type": "stream",
          "text": [
            "[3 2 0 1]\n",
            "[0 1 2 3]\n"
          ],
          "name": "stdout"
        }
      ]
    },
    {
      "cell_type": "markdown",
      "metadata": {
        "id": "vZMzkxLWswVB"
      },
      "source": [
        "Em um array de strings, a ordem é alfabética."
      ]
    },
    {
      "cell_type": "code",
      "metadata": {
        "id": "kxGNoSG9stpR"
      },
      "source": [
        "arr = np.array(['banana', 'cherry', 'apple'])\n",
        "\n",
        "print(np.sort(arr))"
      ],
      "execution_count": null,
      "outputs": []
    },
    {
      "cell_type": "markdown",
      "metadata": {
        "id": "Iw-eCYxfs1B2"
      },
      "source": [
        "Se você usar o método sort () em um array 2D, ambas os arrays serão ordenados:"
      ]
    },
    {
      "cell_type": "code",
      "metadata": {
        "colab": {
          "base_uri": "https://localhost:8080/"
        },
        "id": "pbQtmkd4szNM",
        "outputId": "79ffdd93-8ab2-4a02-9471-f9574a5a3fb7"
      },
      "source": [
        "arr = np.array([[3, 2, 4], [5, 0, 1]])\n",
        "print(arr)\n",
        "print(np.sort(arr))"
      ],
      "execution_count": 35,
      "outputs": [
        {
          "output_type": "stream",
          "text": [
            "[[3 2 4]\n",
            " [5 0 1]]\n",
            "[[2 3 4]\n",
            " [0 1 5]]\n"
          ],
          "name": "stdout"
        }
      ]
    },
    {
      "cell_type": "code",
      "metadata": {
        "id": "-iegw1GVs3Au"
      },
      "source": [
        ""
      ],
      "execution_count": null,
      "outputs": []
    }
  ]
}