{
  "nbformat": 4,
  "nbformat_minor": 0,
  "metadata": {
    "colab": {
      "name": "python_fundamentos_5_numpy_p1.ipynb",
      "provenance": [],
      "collapsed_sections": [],
      "include_colab_link": true
    },
    "kernelspec": {
      "display_name": "Python 3",
      "language": "python",
      "name": "python3"
    },
    "language_info": {
      "codemirror_mode": {
        "name": "ipython",
        "version": 3
      },
      "file_extension": ".py",
      "mimetype": "text/x-python",
      "name": "python",
      "nbconvert_exporter": "python",
      "pygments_lexer": "ipython3",
      "version": "3.7.6"
    }
  },
  "cells": [
    {
      "cell_type": "markdown",
      "metadata": {
        "id": "view-in-github",
        "colab_type": "text"
      },
      "source": [
        "<a href=\"https://colab.research.google.com/github/vitormiro/estatistica_ppger_ufc/blob/main/python_fundamentos_5_numpy_p1.ipynb\" target=\"_parent\"><img src=\"https://colab.research.google.com/assets/colab-badge.svg\" alt=\"Open In Colab\"/></a>"
      ]
    },
    {
      "cell_type": "markdown",
      "metadata": {
        "id": "az9kwkaMiL-a"
      },
      "source": [
        "# Numpy\n",
        "\n",
        "O **NumPy**, abreviatura para *Numerical Python* (Python Numérico), é uma biblioteca Python que fornece um grande conjunto de funções e operações para executar facilmente cálculos numéricos.\n",
        "\n",
        "A estrutura de dados mais importante que o NumPy fornece é um objeto poderoso, um tipo de *array* (arranjo), chamada **ndarray**. \n",
        "\n",
        "No Python, um array é um objeto semelhante a uma lista, mas é uma estrutura de dados que armazena informações de um mesmo tipo.\n",
        "\n",
        "Podemos pensar em um array em NumPy como uma tabela multidimensional de elementos do mesmo tipo, indexados por uma tupla de inteiros positivos. \n",
        "A vantagem dos arrays (ndarrays) é a possibilidade de realizar operações matemáticas em blocos inteiros de dados usando uma sintaxe semelhante às operações com elementos escalares.\n",
        "\n",
        "[Documentação do Numpy](https://numpy.org/doc/stable/contents.html#)"
      ]
    },
    {
      "cell_type": "markdown",
      "metadata": {
        "id": "__zecr1NqT3B"
      },
      "source": [
        "### Recursos do NumPy\n",
        "\n",
        "\n",
        "\n"
      ]
    },
    {
      "cell_type": "code",
      "metadata": {
        "id": "vClGc8ZDj8Xs"
      },
      "source": [
        "# Se for necessário, primeiro devemos instalar o NumPy (retirar o # da linha abaixo antes de executar)\n",
        "#!pip install numpy\n",
        "\n",
        "# E importar o NumPy com o alias 'np'\n",
        "import numpy as np"
      ],
      "execution_count": null,
      "outputs": []
    },
    {
      "cell_type": "markdown",
      "metadata": {
        "id": "U3W51fRLryqR"
      },
      "source": [
        "Vamos criar um array\n"
      ]
    },
    {
      "cell_type": "code",
      "metadata": {
        "id": "8SZU7WBWr04L"
      },
      "source": [
        "# criando um array de números inteiros\n",
        "np.array([1, 4, 2, 5, 3])"
      ],
      "execution_count": null,
      "outputs": []
    },
    {
      "cell_type": "markdown",
      "metadata": {
        "id": "KWxSkSZJq_El"
      },
      "source": [
        "Vamos criar um array convertendo uma lista"
      ]
    },
    {
      "cell_type": "code",
      "metadata": {
        "id": "E2kJu7XjX9lm"
      },
      "source": [
        "# cria uma lista\n",
        "x = [1, 4, 2, 5, 3]\n",
        "x"
      ],
      "execution_count": null,
      "outputs": []
    },
    {
      "cell_type": "code",
      "metadata": {
        "id": "9CWThMmKrVUX"
      },
      "source": [
        "# converter para array\n",
        "x = np.array(x)\n",
        "x"
      ],
      "execution_count": null,
      "outputs": []
    },
    {
      "cell_type": "code",
      "metadata": {
        "id": "Tc2lpU6Eu2US"
      },
      "source": [
        "type(x)"
      ],
      "execution_count": null,
      "outputs": []
    },
    {
      "cell_type": "code",
      "metadata": {
        "id": "VrFCeWHgrdY-"
      },
      "source": [
        "# Soma\n",
        "x.sum()"
      ],
      "execution_count": null,
      "outputs": []
    },
    {
      "cell_type": "code",
      "metadata": {
        "id": "uHetPHnSs3ws"
      },
      "source": [
        "# valor mínimo\n",
        "x.min()"
      ],
      "execution_count": null,
      "outputs": []
    },
    {
      "cell_type": "code",
      "metadata": {
        "id": "3JlKFOeYs3lB"
      },
      "source": [
        "# valor máximo\n",
        "x.max()"
      ],
      "execution_count": null,
      "outputs": []
    },
    {
      "cell_type": "code",
      "metadata": {
        "id": "wkTTtiA4rvM2"
      },
      "source": [
        "# soma de arrays (elemento por elemento)\n",
        "# Exemplo: notas de duas provas\n",
        "nota1 = np.array([2.5, 4, 3.5, 3, 4])\n",
        "nota2 = np.array([3.5, 3.5, 3.5, 4, 4.5])\n",
        "nota = nota1 + nota2\n",
        "nota"
      ],
      "execution_count": null,
      "outputs": []
    },
    {
      "cell_type": "code",
      "metadata": {
        "id": "YvKO5n0FuBca"
      },
      "source": [
        "# soma com escalar\n",
        "notaf = nota + 0.5\n",
        "notaf"
      ],
      "execution_count": null,
      "outputs": []
    },
    {
      "cell_type": "code",
      "metadata": {
        "id": "Hk_KNTQetMLJ"
      },
      "source": [
        "# operação de comparação\n",
        "aprovados = notaf >=7\n",
        "aprovados"
      ],
      "execution_count": null,
      "outputs": []
    },
    {
      "cell_type": "code",
      "metadata": {
        "id": "0c7LsvX1u3Ud"
      },
      "source": [
        "# multiplicação de arrays (elemento por elemento)\n",
        "x = np.array([1, 2, 3, 4])\n",
        "y = np.array([5, 6, 7, 8])\n",
        "prod = x * y\n",
        "prod"
      ],
      "execution_count": null,
      "outputs": []
    },
    {
      "cell_type": "code",
      "metadata": {
        "id": "RhJMqflgvJ3J"
      },
      "source": [
        "# multiplicação por um escalar\n",
        "x2 = x * 2\n",
        "x2"
      ],
      "execution_count": null,
      "outputs": []
    },
    {
      "cell_type": "markdown",
      "metadata": {
        "id": "2nW9bNuEy_uN"
      },
      "source": [
        "Vejamos algumas operações de interesse no nosso curso (Estatística Aplicada)."
      ]
    },
    {
      "cell_type": "markdown",
      "metadata": {
        "id": "eoP_uXADvpdv"
      },
      "source": [
        "**Produto escalar de dois vetores**\n",
        "\n",
        "$$\\sum_{i=0}^{n-1} x_i * y_i = x_0*y_0 + x_1*y_1 + \\dots + x_{n-1}*y_{n-1}$$\n",
        "\n"
      ]
    },
    {
      "cell_type": "code",
      "metadata": {
        "id": "URwweDROvggm"
      },
      "source": [
        "# produto escalar\n",
        "x = np.array([1, 2, 3, 4])\n",
        "y = np.array([5, 6, 7, 8])\n",
        "pxy = np.dot(x, y)\n",
        "pxy"
      ],
      "execution_count": null,
      "outputs": []
    },
    {
      "cell_type": "markdown",
      "metadata": {
        "id": "8XP6q0fNxFHh"
      },
      "source": [
        "**Soma dos quadrados**\n",
        "\n",
        "$$\\sum_{i=0}^{n-1} x_i^2 = x_0^2 + x_1^2 + \\dots + x_{n-1}^2$$\n"
      ]
    },
    {
      "cell_type": "code",
      "metadata": {
        "id": "i_9-d0eAw3QA"
      },
      "source": [
        "# soma dos quadrados\n",
        "xquad = np.dot(x, x)\n",
        "xquad"
      ],
      "execution_count": null,
      "outputs": []
    },
    {
      "cell_type": "markdown",
      "metadata": {
        "id": "R4uTJnj8xhh-"
      },
      "source": [
        "## Operações com matrizes\n",
        "\n",
        "Sobre o [numpy.matrix](https://numpy.org/doc/stable/reference/generated/numpy.matrix.html?highlight=matrix#numpy.matrix).\n"
      ]
    },
    {
      "cell_type": "code",
      "metadata": {
        "id": "_nofjdAoxn36"
      },
      "source": [
        "# criar matriz\n",
        "A = np.matrix([[1, 2, 3, 4],\n",
        "               [5, 6, 7, 8]])\n",
        "A"
      ],
      "execution_count": null,
      "outputs": []
    },
    {
      "cell_type": "code",
      "metadata": {
        "id": "k7XBPLpkzOif"
      },
      "source": [
        "type(A)"
      ],
      "execution_count": null,
      "outputs": []
    },
    {
      "cell_type": "markdown",
      "metadata": {
        "id": "ofy6fahGWWTj"
      },
      "source": [
        "Soma de matrizes\n",
        "$$ \n",
        "\\begin{pmatrix} a_{11} & a_{12} & a_{13}\\\\ a_{21} & a_{22} & a_{23} \\\\ a_{31} & a_{32} & a_{33}\\end{pmatrix} + \n",
        "\\begin{pmatrix} b_{11} & b_{12} & b_{13}\\\\ b_{21} & b_{22} & b_{23} \\\\ b_{31} & b_{32} & b_{33}\\end{pmatrix} = \n",
        "\\begin{pmatrix} a_{11}+b_{11} & a_{12}+b_{12} & a_{13}+b_{13}\\\\ a_{21}+b_{21} & a_{22}+b_{22} & a_{23}+b_{23} \\\\ a_{31}+b_{31} & a_{32}+b_{32} & a_{33}+b_{33}\\end{pmatrix}\n",
        " $$"
      ]
    },
    {
      "cell_type": "code",
      "metadata": {
        "id": "fMDOnA5Yx2jW"
      },
      "source": [
        "# soma de matrizes\n",
        "A = np.matrix([[1, 2, 3, 4], \n",
        "               [5, 6, 7, 8]])\n",
        "B = np.matrix([[1, 2, 3, 4], \n",
        "               [5, 6, 7, 8]])\n",
        "\n",
        "S = A + B\n",
        "S"
      ],
      "execution_count": null,
      "outputs": []
    },
    {
      "cell_type": "markdown",
      "metadata": {
        "id": "rG3W15oWYFwb"
      },
      "source": [
        "Transposta\n",
        "$$ \\begin{pmatrix} a_{11} & a_{12} & a_{13}\\\\ a_{21} & a_{22} & a_{23} \\\\ a_{31} & a_{32} & a_{33} \\end{pmatrix}^T = \n",
        "\\begin{pmatrix} a_{11} & a_{21} & a_{31}\\\\ a_{21} & a_{22} & a_{23} \\\\ a_{13} & a_{23} & a_{33} \\end{pmatrix} $$"
      ]
    },
    {
      "cell_type": "code",
      "metadata": {
        "id": "9WGo8SNfyNqg"
      },
      "source": [
        "# Transposta\n",
        "A.T"
      ],
      "execution_count": null,
      "outputs": []
    },
    {
      "cell_type": "markdown",
      "metadata": {
        "id": "V7pUNjQaZ3uY"
      },
      "source": [
        "Multiplicação de matrizes\n",
        "$$ \n",
        "\\begin{pmatrix} a_{11} & a_{12} & a_{13}\\\\ a_{21} & a_{22} & a_{23} \\end{pmatrix}_{2\\times3} * \n",
        "\\begin{pmatrix} b_{11} & b_{12} \\\\ b_{21} & b_{22} \\\\ b_{31} & b_{32} \\end{pmatrix}_{3\\times2} = \n",
        "\\begin{pmatrix} a_{11}b_{11}+a_{12}b_{21}+a_{13}b_{31} & a_{11}b_{12}+a_{12}b_{22}+a_{13}b_{32} \\\\ \n",
        "a_{21}b_{11}+a_{22}b_{21}+a_{23}b_{31} & a_{21}b_{12}+a_{22}b_{22}+a_{23}b_{32}  \\end{pmatrix}_{2\\times2} \n",
        "$$"
      ]
    },
    {
      "cell_type": "code",
      "metadata": {
        "id": "NiGYzx5IyURQ"
      },
      "source": [
        "# multiplicação\n",
        "P = A*B"
      ],
      "execution_count": null,
      "outputs": []
    },
    {
      "cell_type": "markdown",
      "metadata": {
        "id": "azlg-hjfzbLD"
      },
      "source": [
        "Temos um erro por `B` foi definida como uma matriz (2 X 4). Devemos fazer a transposta de `B`."
      ]
    },
    {
      "cell_type": "code",
      "metadata": {
        "id": "_t5bnJKbyj86"
      },
      "source": [
        "Bt = B.T\n",
        "Bt"
      ],
      "execution_count": null,
      "outputs": []
    },
    {
      "cell_type": "code",
      "metadata": {
        "id": "a0S5hcnYyqqY"
      },
      "source": [
        "P = A*Bt\n",
        "P"
      ],
      "execution_count": null,
      "outputs": []
    },
    {
      "cell_type": "markdown",
      "metadata": {
        "id": "hvwvRzQYEcyR"
      },
      "source": [
        "### Manipulação de Arrays"
      ]
    },
    {
      "cell_type": "markdown",
      "metadata": {
        "id": "cK6xjX27b1NO"
      },
      "source": [
        "Vamos usar um **gerador de números aleatórios** do NumPy - `np.random`.\n",
        "\n",
        "Sobre o [`np.random`](https://numpy.org/doc/1.16/reference/routines.random.html).\n",
        "\n",
        "Também usaremos uma \"semente aleatória\" para garantir a geração dos mesmos valores.\n"
      ]
    },
    {
      "cell_type": "code",
      "metadata": {
        "id": "6Wmac2B4d2vs"
      },
      "source": [
        "np.random.seed(1)  # \"seed\" para gerar os mesmos valores\n",
        "\n",
        "x1 = np.random.randint(10, size=3)  # array de 1 dimensão\n",
        "x2 = np.random.randint(10, size=(3, 3))  # array de 2 dimensões\n",
        "x3 = np.random.randint(10, size=(3, 2, 2))  # array de 3 dimensões"
      ],
      "execution_count": null,
      "outputs": []
    },
    {
      "cell_type": "code",
      "metadata": {
        "id": "GZH2IgIWd6cW"
      },
      "source": [
        "# mostrar x1\n",
        "x1"
      ],
      "execution_count": null,
      "outputs": []
    },
    {
      "cell_type": "code",
      "metadata": {
        "id": "QFJRYJ2afAKo"
      },
      "source": [
        "# mostrar x2\n",
        "x2"
      ],
      "execution_count": null,
      "outputs": []
    },
    {
      "cell_type": "code",
      "metadata": {
        "id": "Y_G8LTR1fBoD"
      },
      "source": [
        "# mostrar x3\n",
        "x3"
      ],
      "execution_count": null,
      "outputs": []
    },
    {
      "cell_type": "markdown",
      "metadata": {
        "id": "p-4K-dgLfxS3"
      },
      "source": [
        "**Acessando elementos em um array**"
      ]
    },
    {
      "cell_type": "code",
      "metadata": {
        "id": "MlTQ22rOfEr0"
      },
      "source": [
        "x1[0]"
      ],
      "execution_count": null,
      "outputs": []
    },
    {
      "cell_type": "code",
      "metadata": {
        "id": "s4gOmSqFf4ma"
      },
      "source": [
        "x2[2,2]"
      ],
      "execution_count": null,
      "outputs": []
    },
    {
      "cell_type": "code",
      "metadata": {
        "id": "VxNPx0DJf_Lk"
      },
      "source": [
        "x2[0,0]"
      ],
      "execution_count": null,
      "outputs": []
    },
    {
      "cell_type": "code",
      "metadata": {
        "id": "ZEZu8QYDgFEB"
      },
      "source": [
        "x3[0, 0, 0]"
      ],
      "execution_count": null,
      "outputs": []
    },
    {
      "cell_type": "code",
      "metadata": {
        "id": "XE186XhngLx9"
      },
      "source": [
        "x3[1]"
      ],
      "execution_count": null,
      "outputs": []
    },
    {
      "cell_type": "markdown",
      "metadata": {
        "id": "PV6lkWOCv8ow"
      },
      "source": [
        "**Modificando elementos**\n"
      ]
    },
    {
      "cell_type": "code",
      "metadata": {
        "id": "Q1CXODWLv_3a"
      },
      "source": [
        "x2[0, 0] = 12\n",
        "x2"
      ],
      "execution_count": null,
      "outputs": []
    },
    {
      "cell_type": "code",
      "metadata": {
        "id": "I8ZJ2f3uwGyy"
      },
      "source": [
        "x3[2, 1, 1] = 20\n",
        "x3[2]"
      ],
      "execution_count": null,
      "outputs": []
    },
    {
      "cell_type": "markdown",
      "metadata": {
        "id": "E8ivXZfYwX5n"
      },
      "source": [
        "**Fatiamento**\n",
        "\n",
        "`x[start:stop:step]`\n"
      ]
    },
    {
      "cell_type": "code",
      "metadata": {
        "id": "3DxZ2kqFwpin"
      },
      "source": [
        "x = np.arange(10)\n",
        "x"
      ],
      "execution_count": null,
      "outputs": []
    },
    {
      "cell_type": "code",
      "metadata": {
        "id": "GOsu24U2wlDC"
      },
      "source": [
        "x[:5]  # primeiros 5 elementos"
      ],
      "execution_count": null,
      "outputs": []
    },
    {
      "cell_type": "code",
      "metadata": {
        "id": "TWYG0e0vw0zP"
      },
      "source": [
        "x[5:]  # elementos após o índice 5"
      ],
      "execution_count": null,
      "outputs": []
    },
    {
      "cell_type": "code",
      "metadata": {
        "id": "At8-wa7bw7D-"
      },
      "source": [
        "x[4:7]  # sub-array"
      ],
      "execution_count": null,
      "outputs": []
    },
    {
      "cell_type": "code",
      "metadata": {
        "id": "aC92-W9h-hC6"
      },
      "source": [
        "x[0:8:2]"
      ],
      "execution_count": null,
      "outputs": []
    },
    {
      "cell_type": "markdown",
      "metadata": {
        "id": "GILbAJ88zK1Y"
      },
      "source": [
        "**Remodelagem de um array**\n",
        "\n",
        "A maneira mais fácil de fazer isso é com um método `reshape`.\n"
      ]
    },
    {
      "cell_type": "code",
      "metadata": {
        "id": "G8INzHnLw__h"
      },
      "source": [
        "y = np.arange(1, 10)\n",
        "y"
      ],
      "execution_count": null,
      "outputs": []
    },
    {
      "cell_type": "code",
      "metadata": {
        "id": "1zUiXBbzzXol"
      },
      "source": [
        "y = np.arange(1, 10).reshape((3, 3))\n",
        "print(y)"
      ],
      "execution_count": null,
      "outputs": []
    },
    {
      "cell_type": "code",
      "metadata": {
        "id": "OVsoVtBi_NUU"
      },
      "source": [
        "y = np.arange(0,20,2).reshape((2, 5))\n",
        "y"
      ],
      "execution_count": null,
      "outputs": []
    },
    {
      "cell_type": "markdown",
      "metadata": {
        "id": "V-ALEoWX0ETA"
      },
      "source": [
        "Observe que, para que isso funcione, o tamanho do array inicial deve corresponder ao tamanho da matriz remodelada. "
      ]
    },
    {
      "cell_type": "markdown",
      "metadata": {
        "id": "alpOVwwg0UW3"
      },
      "source": [
        "**Concatenação**\n",
        "\n",
        "A concatenação ou junção de dois arrays no NumPy é realizada, principalmente, com o emprego das rotinas `np.concatenate`, `np.vstack` e `np.hstack`.\n",
        "\n",
        "O `np.concatenate` usa uma tupla ou lista de matrizes como seu primeiro argumento:"
      ]
    },
    {
      "cell_type": "code",
      "metadata": {
        "id": "OMVN7eFA0ymY"
      },
      "source": [
        "x = np.array([1, 2, 3])\n",
        "y = np.array([3, 2, 1])\n",
        "np.concatenate([x, y])"
      ],
      "execution_count": null,
      "outputs": []
    },
    {
      "cell_type": "markdown",
      "metadata": {
        "id": "_GWwAS5U1FWn"
      },
      "source": [
        "Usando o `np.vstack` (concatenação vertical)"
      ]
    },
    {
      "cell_type": "code",
      "metadata": {
        "id": "6J8c-sB901iC"
      },
      "source": [
        "x = np.array([1, 2, 3])\n",
        "w = np.array([[9, 8, 7], [6, 5, 4]])\n",
        "\n",
        "np.vstack([x, w])"
      ],
      "execution_count": null,
      "outputs": []
    },
    {
      "cell_type": "markdown",
      "metadata": {
        "id": "96TU5rXv1Nqd"
      },
      "source": [
        "Usando o `np.hstack` (concatenação horizontal)"
      ]
    },
    {
      "cell_type": "code",
      "metadata": {
        "id": "yeDAp_F2zhKQ"
      },
      "source": [
        "x = np.array([[3],[2]])\n",
        "w = np.array([[9, 8, 7], [6, 5, 4]])\n",
        "\n",
        "print(x)\n",
        "print(w)\n",
        "\n",
        "np.hstack([w, x])"
      ],
      "execution_count": null,
      "outputs": []
    },
    {
      "cell_type": "markdown",
      "metadata": {
        "id": "7HsAS6Zs2UfY"
      },
      "source": [
        "**Separação**\n",
        "\n",
        "O oposto da concatenação é a separação, que é implementada pelas funções `np.split`, `np.hsplit` e `np.vsplit`."
      ]
    },
    {
      "cell_type": "code",
      "metadata": {
        "id": "cZb7khDHEczU"
      },
      "source": [
        "x = np.arange(9.0)\n",
        "x"
      ],
      "execution_count": null,
      "outputs": []
    },
    {
      "cell_type": "code",
      "metadata": {
        "id": "k2nbIt7kAz_B"
      },
      "source": [
        "np.split(x, 3)"
      ],
      "execution_count": null,
      "outputs": []
    },
    {
      "cell_type": "code",
      "metadata": {
        "id": "mMfRDBa82ewn"
      },
      "source": [
        "x = [1, 2, 3, 4, 5, 6, 7, 8]\n",
        "x1, x2 = np.split(x, [4])\n",
        "print(x1, x2)"
      ],
      "execution_count": null,
      "outputs": []
    },
    {
      "cell_type": "code",
      "metadata": {
        "id": "8Y8HnGTA3q6y"
      },
      "source": [
        "A = np.arange(16).reshape(4,4)\n",
        "A"
      ],
      "execution_count": null,
      "outputs": []
    },
    {
      "cell_type": "code",
      "metadata": {
        "id": "D3klZk_PBh2b"
      },
      "source": [
        "np.hsplit(A, 2)"
      ],
      "execution_count": null,
      "outputs": []
    },
    {
      "cell_type": "code",
      "metadata": {
        "id": "qHyryMIWBgkw"
      },
      "source": [
        "A1, A2 = np.hsplit(A, 2)\n",
        "print('A1 =', A1)\n",
        "print('A2 =', A2)"
      ],
      "execution_count": null,
      "outputs": []
    },
    {
      "cell_type": "code",
      "metadata": {
        "id": "OOAxQs_iEcze"
      },
      "source": [
        "B = np.arange(12).reshape(4,3)\n",
        "B"
      ],
      "execution_count": null,
      "outputs": []
    },
    {
      "cell_type": "code",
      "metadata": {
        "id": "-fTLe9qxEczf"
      },
      "source": [
        "np.vsplit(B, 2)"
      ],
      "execution_count": null,
      "outputs": []
    }
  ]
}