{
  "nbformat": 4,
  "nbformat_minor": 0,
  "metadata": {
    "colab": {
      "name": "python_fundamentos_5_numpy_p1.ipynb",
      "provenance": [],
      "collapsed_sections": [],
      "include_colab_link": true
    },
    "kernelspec": {
      "display_name": "Python 3",
      "language": "python",
      "name": "python3"
    },
    "language_info": {
      "codemirror_mode": {
        "name": "ipython",
        "version": 3
      },
      "file_extension": ".py",
      "mimetype": "text/x-python",
      "name": "python",
      "nbconvert_exporter": "python",
      "pygments_lexer": "ipython3",
      "version": "3.7.6"
    }
  },
  "cells": [
    {
      "cell_type": "markdown",
      "metadata": {
        "id": "view-in-github",
        "colab_type": "text"
      },
      "source": [
        "<a href=\"https://colab.research.google.com/github/vitormiro/estatistica_ppger_ufc/blob/main/python_fundamentos_5_numpy_p1.ipynb\" target=\"_parent\"><img src=\"https://colab.research.google.com/assets/colab-badge.svg\" alt=\"Open In Colab\"/></a>"
      ]
    },
    {
      "cell_type": "markdown",
      "metadata": {
        "id": "az9kwkaMiL-a"
      },
      "source": [
        "# Numpy\n",
        "\n",
        "O **NumPy**, abreviatura para *Numerical Python* (Python Numérico), é uma biblioteca Python que fornece um grande conjunto de funções e operações para executar facilmente cálculos numéricos.\n",
        "\n",
        "A estrutura de dados mais importante que o NumPy fornece é um objeto poderoso, um tipo de *array* (arranjo), chamada **ndarray**. \n",
        "\n",
        "No Python, um array é um objeto semelhante a uma lista, mas é uma estrutura de dados que armazena informações de um mesmo tipo.\n",
        "\n",
        "Podemos pensar em um array em NumPy como uma tabela multidimensional de elementos do mesmo tipo, indexados por uma tupla de inteiros positivos. \n",
        "A vantagem dos arrays (ndarrays) é a possibilidade de realizar operações matemáticas em blocos inteiros de dados usando uma sintaxe semelhante às operações com elementos escalares.\n",
        "\n",
        "[Documentação do Numpy](https://numpy.org/doc/stable/contents.html#)"
      ]
    },
    {
      "cell_type": "markdown",
      "metadata": {
        "id": "__zecr1NqT3B"
      },
      "source": [
        "### Recursos do NumPy\n",
        "\n",
        "\n",
        "\n"
      ]
    },
    {
      "cell_type": "code",
      "metadata": {
        "id": "vClGc8ZDj8Xs"
      },
      "source": [
        "# Se for necessário, primeiro devemos instalar o NumPy (retirar o # da linha abaixo antes de executar)\n",
        "#!pip install numpy\n",
        "\n",
        "# E importar o NumPy com o alias 'np'\n",
        "import numpy as np"
      ],
      "execution_count": null,
      "outputs": []
    },
    {
      "cell_type": "markdown",
      "metadata": {
        "id": "U3W51fRLryqR"
      },
      "source": [
        "Vamos criar um array\n"
      ]
    },
    {
      "cell_type": "code",
      "metadata": {
        "id": "8SZU7WBWr04L",
        "colab": {
          "base_uri": "https://localhost:8080/"
        },
        "outputId": "38a991d1-df30-4c1d-b44e-3ac0118461a3"
      },
      "source": [
        "# criando um array de números inteiros\n",
        "np.array([1, 4, 2, 5, 3])"
      ],
      "execution_count": null,
      "outputs": [
        {
          "output_type": "execute_result",
          "data": {
            "text/plain": [
              "array([1, 4, 2, 5, 3])"
            ]
          },
          "metadata": {
            "tags": []
          },
          "execution_count": 3
        }
      ]
    },
    {
      "cell_type": "markdown",
      "metadata": {
        "id": "KWxSkSZJq_El"
      },
      "source": [
        "Vamos criar um array convertendo uma lista"
      ]
    },
    {
      "cell_type": "code",
      "metadata": {
        "id": "E2kJu7XjX9lm",
        "colab": {
          "base_uri": "https://localhost:8080/"
        },
        "outputId": "23d2e87b-7256-40d1-c057-a760c52a2490"
      },
      "source": [
        "# cria uma lista\n",
        "x = [1, 4, 2, 5, 3]\n",
        "x"
      ],
      "execution_count": null,
      "outputs": [
        {
          "output_type": "execute_result",
          "data": {
            "text/plain": [
              "[1, 4, 2, 5, 3]"
            ]
          },
          "metadata": {
            "tags": []
          },
          "execution_count": 4
        }
      ]
    },
    {
      "cell_type": "code",
      "metadata": {
        "id": "9CWThMmKrVUX",
        "colab": {
          "base_uri": "https://localhost:8080/"
        },
        "outputId": "9e40c91b-595b-4bc3-db6a-03d05d845458"
      },
      "source": [
        "# converter para array\n",
        "x = np.array(x)\n",
        "x"
      ],
      "execution_count": null,
      "outputs": [
        {
          "output_type": "execute_result",
          "data": {
            "text/plain": [
              "array([1, 4, 2, 5, 3])"
            ]
          },
          "metadata": {
            "tags": []
          },
          "execution_count": 5
        }
      ]
    },
    {
      "cell_type": "code",
      "metadata": {
        "colab": {
          "base_uri": "https://localhost:8080/"
        },
        "id": "Tc2lpU6Eu2US",
        "outputId": "0d7df225-ea90-4005-e728-a7016103ebea"
      },
      "source": [
        "type(x)"
      ],
      "execution_count": null,
      "outputs": [
        {
          "output_type": "execute_result",
          "data": {
            "text/plain": [
              "numpy.ndarray"
            ]
          },
          "metadata": {
            "tags": []
          },
          "execution_count": 6
        }
      ]
    },
    {
      "cell_type": "code",
      "metadata": {
        "id": "VrFCeWHgrdY-",
        "colab": {
          "base_uri": "https://localhost:8080/"
        },
        "outputId": "9f4c3443-1949-4a6f-d836-edeeb9f99f87"
      },
      "source": [
        "# Soma\n",
        "x.sum()"
      ],
      "execution_count": null,
      "outputs": [
        {
          "output_type": "execute_result",
          "data": {
            "text/plain": [
              "15"
            ]
          },
          "metadata": {
            "tags": []
          },
          "execution_count": 7
        }
      ]
    },
    {
      "cell_type": "code",
      "metadata": {
        "id": "uHetPHnSs3ws",
        "colab": {
          "base_uri": "https://localhost:8080/"
        },
        "outputId": "a49113ac-ad2b-41ef-d7f0-a66e0dcc5070"
      },
      "source": [
        "# valor mínimo\n",
        "x.min()"
      ],
      "execution_count": null,
      "outputs": [
        {
          "output_type": "execute_result",
          "data": {
            "text/plain": [
              "1"
            ]
          },
          "metadata": {
            "tags": []
          },
          "execution_count": 8
        }
      ]
    },
    {
      "cell_type": "code",
      "metadata": {
        "id": "3JlKFOeYs3lB",
        "colab": {
          "base_uri": "https://localhost:8080/"
        },
        "outputId": "b8c3dd93-6ed4-43dc-a941-948c1e023477"
      },
      "source": [
        "# valor máximo\n",
        "x.max()"
      ],
      "execution_count": null,
      "outputs": [
        {
          "output_type": "execute_result",
          "data": {
            "text/plain": [
              "5"
            ]
          },
          "metadata": {
            "tags": []
          },
          "execution_count": 9
        }
      ]
    },
    {
      "cell_type": "code",
      "metadata": {
        "id": "wkTTtiA4rvM2",
        "colab": {
          "base_uri": "https://localhost:8080/"
        },
        "outputId": "db81029b-e31c-4a00-d49a-a5768e4b4588"
      },
      "source": [
        "# soma de arrays (elemento por elemento)\n",
        "# Exemplo: notas de duas provas\n",
        "nota1 = np.array([2.5, 4, 3.5, 3, 4])\n",
        "nota2 = np.array([3.5, 3.5, 3.5, 4, 4.5])\n",
        "nota = nota1 + nota2\n",
        "nota"
      ],
      "execution_count": null,
      "outputs": [
        {
          "output_type": "execute_result",
          "data": {
            "text/plain": [
              "array([6. , 7.5, 7. , 7. , 8.5])"
            ]
          },
          "metadata": {
            "tags": []
          },
          "execution_count": 10
        }
      ]
    },
    {
      "cell_type": "code",
      "metadata": {
        "id": "YvKO5n0FuBca",
        "colab": {
          "base_uri": "https://localhost:8080/"
        },
        "outputId": "a9161a85-41fc-4130-fc52-aa1700f2e26d"
      },
      "source": [
        "# soma com escalar\n",
        "notaf = nota + 0.5\n",
        "notaf"
      ],
      "execution_count": null,
      "outputs": [
        {
          "output_type": "execute_result",
          "data": {
            "text/plain": [
              "array([6.5, 8. , 7.5, 7.5, 9. ])"
            ]
          },
          "metadata": {
            "tags": []
          },
          "execution_count": 11
        }
      ]
    },
    {
      "cell_type": "code",
      "metadata": {
        "id": "Hk_KNTQetMLJ",
        "colab": {
          "base_uri": "https://localhost:8080/"
        },
        "outputId": "f24178d5-35ce-4d49-94cf-70b999ef2046"
      },
      "source": [
        "# operação de comparação\n",
        "aprovados = notaf >=7\n",
        "aprovados"
      ],
      "execution_count": null,
      "outputs": [
        {
          "output_type": "execute_result",
          "data": {
            "text/plain": [
              "array([False,  True,  True,  True,  True])"
            ]
          },
          "metadata": {
            "tags": []
          },
          "execution_count": 12
        }
      ]
    },
    {
      "cell_type": "code",
      "metadata": {
        "id": "0c7LsvX1u3Ud",
        "colab": {
          "base_uri": "https://localhost:8080/"
        },
        "outputId": "955928d7-c2d2-402d-ae38-e58a0982187a"
      },
      "source": [
        "# multiplicação de arrays (elemento por elemento)\n",
        "x = np.array([1, 2, 3, 4])\n",
        "y = np.array([5, 6, 7, 8])\n",
        "prod = x * y\n",
        "prod"
      ],
      "execution_count": null,
      "outputs": [
        {
          "output_type": "execute_result",
          "data": {
            "text/plain": [
              "array([ 5, 12, 21, 32])"
            ]
          },
          "metadata": {
            "tags": []
          },
          "execution_count": 13
        }
      ]
    },
    {
      "cell_type": "code",
      "metadata": {
        "id": "RhJMqflgvJ3J",
        "colab": {
          "base_uri": "https://localhost:8080/",
          "height": 35
        },
        "outputId": "161c73cf-4569-4564-de26-a5b7dd0ad604"
      },
      "source": [
        "# multiplicação por um escalar\n",
        "x2 = x * 2\n",
        "x2"
      ],
      "execution_count": null,
      "outputs": [
        {
          "output_type": "execute_result",
          "data": {
            "text/plain": [
              "array([2, 4, 6, 8])"
            ]
          },
          "metadata": {
            "tags": []
          },
          "execution_count": 12
        }
      ]
    },
    {
      "cell_type": "markdown",
      "metadata": {
        "id": "2nW9bNuEy_uN"
      },
      "source": [
        "Vejamos algumas operações de interesse no nosso curso (Estatística Aplicada)."
      ]
    },
    {
      "cell_type": "markdown",
      "metadata": {
        "id": "eoP_uXADvpdv"
      },
      "source": [
        "**Produto escalar de dois vetores**\n",
        "\n",
        "$$\\sum_{i=0}^{n-1} x_i * y_i = x_0*y_0 + x_1*y_1 + \\dots + x_{n-1}*y_{n-1}$$\n",
        "\n"
      ]
    },
    {
      "cell_type": "code",
      "metadata": {
        "id": "URwweDROvggm",
        "colab": {
          "base_uri": "https://localhost:8080/"
        },
        "outputId": "5261008a-7c4d-4ca6-ff65-c09e2638dfdd"
      },
      "source": [
        "# produto escalar\n",
        "x = np.array([1, 2, 3, 4])\n",
        "y = np.array([5, 6, 7, 8])\n",
        "pxy = np.dot(x, y)\n",
        "pxy"
      ],
      "execution_count": null,
      "outputs": [
        {
          "output_type": "execute_result",
          "data": {
            "text/plain": [
              "70"
            ]
          },
          "metadata": {
            "tags": []
          },
          "execution_count": 14
        }
      ]
    },
    {
      "cell_type": "markdown",
      "metadata": {
        "id": "8XP6q0fNxFHh"
      },
      "source": [
        "**Soma dos quadrados**\n",
        "\n",
        "$$\\sum_{i=0}^{n-1} x_i^2 = x_0^2 + x_1^2 + \\dots + x_{n-1}^2$$\n"
      ]
    },
    {
      "cell_type": "code",
      "metadata": {
        "id": "i_9-d0eAw3QA",
        "colab": {
          "base_uri": "https://localhost:8080/"
        },
        "outputId": "9c8df946-b282-47c1-b846-49ef7b634377"
      },
      "source": [
        "# soma dos quadrados\n",
        "xquad = np.dot(x, x)\n",
        "xquad"
      ],
      "execution_count": null,
      "outputs": [
        {
          "output_type": "execute_result",
          "data": {
            "text/plain": [
              "30"
            ]
          },
          "metadata": {
            "tags": []
          },
          "execution_count": 15
        }
      ]
    },
    {
      "cell_type": "markdown",
      "metadata": {
        "id": "R4uTJnj8xhh-"
      },
      "source": [
        "## Operações com matrizes\n",
        "\n",
        "Sobre o [numpy.matrix](https://numpy.org/doc/stable/reference/generated/numpy.matrix.html?highlight=matrix#numpy.matrix).\n"
      ]
    },
    {
      "cell_type": "code",
      "metadata": {
        "id": "_nofjdAoxn36",
        "colab": {
          "base_uri": "https://localhost:8080/"
        },
        "outputId": "717a6675-08e8-4549-8d48-86dfd563290f"
      },
      "source": [
        "# criar matriz\n",
        "A = np.matrix([[1, 2, 3, 4],\n",
        "               [5, 6, 7, 8]])\n",
        "A"
      ],
      "execution_count": null,
      "outputs": [
        {
          "output_type": "execute_result",
          "data": {
            "text/plain": [
              "matrix([[1, 2, 3, 4],\n",
              "        [5, 6, 7, 8]])"
            ]
          },
          "metadata": {
            "tags": []
          },
          "execution_count": 16
        }
      ]
    },
    {
      "cell_type": "code",
      "metadata": {
        "colab": {
          "base_uri": "https://localhost:8080/"
        },
        "id": "k7XBPLpkzOif",
        "outputId": "2861fe6c-b0dc-482c-a29b-7862abc43f61"
      },
      "source": [
        "type(A)"
      ],
      "execution_count": null,
      "outputs": [
        {
          "output_type": "execute_result",
          "data": {
            "text/plain": [
              "numpy.matrix"
            ]
          },
          "metadata": {
            "tags": []
          },
          "execution_count": 17
        }
      ]
    },
    {
      "cell_type": "markdown",
      "metadata": {
        "id": "ofy6fahGWWTj"
      },
      "source": [
        "Soma de matrizes\n",
        "$$ \n",
        "\\begin{pmatrix} a_{11} & a_{12} & a_{13}\\\\ a_{21} & a_{22} & a_{23} \\\\ a_{31} & a_{32} & a_{33}\\end{pmatrix} + \n",
        "\\begin{pmatrix} b_{11} & b_{12} & b_{13}\\\\ b_{21} & b_{22} & b_{23} \\\\ b_{31} & b_{32} & b_{33}\\end{pmatrix} = \n",
        "\\begin{pmatrix} a_{11}+b_{11} & a_{12}+b_{12} & a_{13}+b_{13}\\\\ a_{21}+b_{21} & a_{22}+b_{22} & a_{23}+b_{23} \\\\ a_{31}+b_{31} & a_{32}+b_{32} & a_{33}+b_{33}\\end{pmatrix}\n",
        " $$"
      ]
    },
    {
      "cell_type": "code",
      "metadata": {
        "id": "fMDOnA5Yx2jW",
        "colab": {
          "base_uri": "https://localhost:8080/"
        },
        "outputId": "fd720ea9-e57f-4aff-9202-f0a607fffec7"
      },
      "source": [
        "# soma de matrizes\n",
        "A = np.matrix([[1, 2, 3, 4], \n",
        "               [5, 6, 7, 8]])\n",
        "B = np.matrix([[1, 2, 3, 4], \n",
        "               [5, 6, 7, 8]])\n",
        "\n",
        "S = A + B\n",
        "S"
      ],
      "execution_count": null,
      "outputs": [
        {
          "output_type": "execute_result",
          "data": {
            "text/plain": [
              "matrix([[ 2,  4,  6,  8],\n",
              "        [10, 12, 14, 16]])"
            ]
          },
          "metadata": {
            "tags": []
          },
          "execution_count": 18
        }
      ]
    },
    {
      "cell_type": "markdown",
      "metadata": {
        "id": "rG3W15oWYFwb"
      },
      "source": [
        "Transposta\n",
        "$$ \\begin{pmatrix} a_{11} & a_{12} & a_{13}\\\\ a_{21} & a_{22} & a_{23} \\\\ a_{31} & a_{32} & a_{33} \\end{pmatrix}^T = \n",
        "\\begin{pmatrix} a_{11} & a_{21} & a_{31}\\\\ a_{21} & a_{22} & a_{23} \\\\ a_{13} & a_{23} & a_{33} \\end{pmatrix} $$"
      ]
    },
    {
      "cell_type": "code",
      "metadata": {
        "id": "9WGo8SNfyNqg",
        "colab": {
          "base_uri": "https://localhost:8080/"
        },
        "outputId": "44002b49-b2fb-4dc2-be50-a98004f63c88"
      },
      "source": [
        "# Transposta\n",
        "A.T"
      ],
      "execution_count": null,
      "outputs": [
        {
          "output_type": "execute_result",
          "data": {
            "text/plain": [
              "matrix([[1, 5],\n",
              "        [2, 6],\n",
              "        [3, 7],\n",
              "        [4, 8]])"
            ]
          },
          "metadata": {
            "tags": []
          },
          "execution_count": 19
        }
      ]
    },
    {
      "cell_type": "markdown",
      "metadata": {
        "id": "V7pUNjQaZ3uY"
      },
      "source": [
        "Multiplicação de matrizes\n",
        "$$ \n",
        "\\begin{pmatrix} a_{11} & a_{12} & a_{13}\\\\ a_{21} & a_{22} & a_{23} \\end{pmatrix}_{2\\times3} * \n",
        "\\begin{pmatrix} b_{11} & b_{12} \\\\ b_{21} & b_{22} \\\\ b_{31} & b_{32} \\end{pmatrix}_{3\\times2} = \n",
        "\\begin{pmatrix} a_{11}b_{11}+a_{12}b_{21}+a_{13}b_{31} & a_{11}b_{12}+a_{12}b_{22}+a_{13}b_{32} \\\\ \n",
        "a_{21}b_{11}+a_{22}b_{21}+a_{23}b_{31} & a_{21}b_{12}+a_{22}b_{22}+a_{23}b_{32}  \\end{pmatrix}_{2\\times2} \n",
        "$$"
      ]
    },
    {
      "cell_type": "code",
      "metadata": {
        "id": "NiGYzx5IyURQ",
        "colab": {
          "base_uri": "https://localhost:8080/",
          "height": 339
        },
        "outputId": "3b3441d7-1706-45bf-d8bf-514a5dedad44"
      },
      "source": [
        "# multiplicação\n",
        "P = A*B"
      ],
      "execution_count": null,
      "outputs": [
        {
          "output_type": "error",
          "ename": "ValueError",
          "evalue": "ignored",
          "traceback": [
            "\u001b[0;31m---------------------------------------------------------------------------\u001b[0m",
            "\u001b[0;31mValueError\u001b[0m                                Traceback (most recent call last)",
            "\u001b[0;32m<ipython-input-20-dec19efa514e>\u001b[0m in \u001b[0;36m<module>\u001b[0;34m()\u001b[0m\n\u001b[1;32m      1\u001b[0m \u001b[0;31m# multiplicação\u001b[0m\u001b[0;34m\u001b[0m\u001b[0;34m\u001b[0m\u001b[0;34m\u001b[0m\u001b[0m\n\u001b[0;32m----> 2\u001b[0;31m \u001b[0mP\u001b[0m \u001b[0;34m=\u001b[0m \u001b[0mA\u001b[0m\u001b[0;34m*\u001b[0m\u001b[0mB\u001b[0m\u001b[0;34m\u001b[0m\u001b[0;34m\u001b[0m\u001b[0m\n\u001b[0m",
            "\u001b[0;32m/usr/local/lib/python3.7/dist-packages/numpy/matrixlib/defmatrix.py\u001b[0m in \u001b[0;36m__mul__\u001b[0;34m(self, other)\u001b[0m\n\u001b[1;32m    216\u001b[0m         \u001b[0;32mif\u001b[0m \u001b[0misinstance\u001b[0m\u001b[0;34m(\u001b[0m\u001b[0mother\u001b[0m\u001b[0;34m,\u001b[0m \u001b[0;34m(\u001b[0m\u001b[0mN\u001b[0m\u001b[0;34m.\u001b[0m\u001b[0mndarray\u001b[0m\u001b[0;34m,\u001b[0m \u001b[0mlist\u001b[0m\u001b[0;34m,\u001b[0m \u001b[0mtuple\u001b[0m\u001b[0;34m)\u001b[0m\u001b[0;34m)\u001b[0m \u001b[0;34m:\u001b[0m\u001b[0;34m\u001b[0m\u001b[0;34m\u001b[0m\u001b[0m\n\u001b[1;32m    217\u001b[0m             \u001b[0;31m# This promotes 1-D vectors to row vectors\u001b[0m\u001b[0;34m\u001b[0m\u001b[0;34m\u001b[0m\u001b[0;34m\u001b[0m\u001b[0m\n\u001b[0;32m--> 218\u001b[0;31m             \u001b[0;32mreturn\u001b[0m \u001b[0mN\u001b[0m\u001b[0;34m.\u001b[0m\u001b[0mdot\u001b[0m\u001b[0;34m(\u001b[0m\u001b[0mself\u001b[0m\u001b[0;34m,\u001b[0m \u001b[0masmatrix\u001b[0m\u001b[0;34m(\u001b[0m\u001b[0mother\u001b[0m\u001b[0;34m)\u001b[0m\u001b[0;34m)\u001b[0m\u001b[0;34m\u001b[0m\u001b[0;34m\u001b[0m\u001b[0m\n\u001b[0m\u001b[1;32m    219\u001b[0m         \u001b[0;32mif\u001b[0m \u001b[0misscalar\u001b[0m\u001b[0;34m(\u001b[0m\u001b[0mother\u001b[0m\u001b[0;34m)\u001b[0m \u001b[0;32mor\u001b[0m \u001b[0;32mnot\u001b[0m \u001b[0mhasattr\u001b[0m\u001b[0;34m(\u001b[0m\u001b[0mother\u001b[0m\u001b[0;34m,\u001b[0m \u001b[0;34m'__rmul__'\u001b[0m\u001b[0;34m)\u001b[0m \u001b[0;34m:\u001b[0m\u001b[0;34m\u001b[0m\u001b[0;34m\u001b[0m\u001b[0m\n\u001b[1;32m    220\u001b[0m             \u001b[0;32mreturn\u001b[0m \u001b[0mN\u001b[0m\u001b[0;34m.\u001b[0m\u001b[0mdot\u001b[0m\u001b[0;34m(\u001b[0m\u001b[0mself\u001b[0m\u001b[0;34m,\u001b[0m \u001b[0mother\u001b[0m\u001b[0;34m)\u001b[0m\u001b[0;34m\u001b[0m\u001b[0;34m\u001b[0m\u001b[0m\n",
            "\u001b[0;32m<__array_function__ internals>\u001b[0m in \u001b[0;36mdot\u001b[0;34m(*args, **kwargs)\u001b[0m\n",
            "\u001b[0;31mValueError\u001b[0m: shapes (2,4) and (2,4) not aligned: 4 (dim 1) != 2 (dim 0)"
          ]
        }
      ]
    },
    {
      "cell_type": "markdown",
      "metadata": {
        "id": "azlg-hjfzbLD"
      },
      "source": [
        "Temos um erro por `B` foi definida como uma matriz (2 X 4). Devemos fazer a transposta de `B`."
      ]
    },
    {
      "cell_type": "code",
      "metadata": {
        "id": "_t5bnJKbyj86",
        "colab": {
          "base_uri": "https://localhost:8080/"
        },
        "outputId": "3b01b490-38c4-4c47-ac1b-0133c40a0bb1"
      },
      "source": [
        "Bt = B.T\n",
        "Bt"
      ],
      "execution_count": null,
      "outputs": [
        {
          "output_type": "execute_result",
          "data": {
            "text/plain": [
              "matrix([[1, 5],\n",
              "        [2, 6],\n",
              "        [3, 7],\n",
              "        [4, 8]])"
            ]
          },
          "metadata": {
            "tags": []
          },
          "execution_count": 21
        }
      ]
    },
    {
      "cell_type": "code",
      "metadata": {
        "id": "a0S5hcnYyqqY",
        "colab": {
          "base_uri": "https://localhost:8080/"
        },
        "outputId": "305a0b4c-f4f7-49ed-9bba-3dc0e53c59e6"
      },
      "source": [
        "P = A*Bt\n",
        "P"
      ],
      "execution_count": null,
      "outputs": [
        {
          "output_type": "execute_result",
          "data": {
            "text/plain": [
              "matrix([[ 30,  70],\n",
              "        [ 70, 174]])"
            ]
          },
          "metadata": {
            "tags": []
          },
          "execution_count": 22
        }
      ]
    },
    {
      "cell_type": "markdown",
      "metadata": {
        "id": "hvwvRzQYEcyR"
      },
      "source": [
        "### Manipulação de Arrays"
      ]
    },
    {
      "cell_type": "markdown",
      "metadata": {
        "id": "cK6xjX27b1NO"
      },
      "source": [
        "Vamos usar um **gerador de números aleatórios** do NumPy - `np.random`.\n",
        "\n",
        "Sobre o [`np.random`](https://numpy.org/doc/1.16/reference/routines.random.html).\n",
        "\n",
        "Também usaremos uma \"semente aleatória\" para garantir a geração dos mesmos valores.\n"
      ]
    },
    {
      "cell_type": "code",
      "metadata": {
        "id": "6Wmac2B4d2vs"
      },
      "source": [
        "np.random.seed(1)  # \"seed\" para gerar os mesmos valores\n",
        "\n",
        "x1 = np.random.randint(10, size=3)  # array de 1 dimensão\n",
        "x2 = np.random.randint(10, size=(3, 3))  # array de 2 dimensões\n",
        "x3 = np.random.randint(10, size=(3, 2, 2))  # array de 3 dimensões"
      ],
      "execution_count": null,
      "outputs": []
    },
    {
      "cell_type": "code",
      "metadata": {
        "id": "GZH2IgIWd6cW",
        "colab": {
          "base_uri": "https://localhost:8080/"
        },
        "outputId": "44c82816-c6b7-4e07-cde7-acb93f06409b"
      },
      "source": [
        "# mostrar x1\n",
        "x1"
      ],
      "execution_count": null,
      "outputs": [
        {
          "output_type": "execute_result",
          "data": {
            "text/plain": [
              "array([5, 8, 9])"
            ]
          },
          "metadata": {
            "tags": []
          },
          "execution_count": 25
        }
      ]
    },
    {
      "cell_type": "code",
      "metadata": {
        "id": "QFJRYJ2afAKo",
        "colab": {
          "base_uri": "https://localhost:8080/"
        },
        "outputId": "232bfff0-6f99-4453-deb2-d0a33502c206"
      },
      "source": [
        "# mostrar x2\n",
        "x2"
      ],
      "execution_count": null,
      "outputs": [
        {
          "output_type": "execute_result",
          "data": {
            "text/plain": [
              "array([[5, 0, 0],\n",
              "       [1, 7, 6],\n",
              "       [9, 2, 4]])"
            ]
          },
          "metadata": {
            "tags": []
          },
          "execution_count": 26
        }
      ]
    },
    {
      "cell_type": "code",
      "metadata": {
        "id": "Y_G8LTR1fBoD",
        "colab": {
          "base_uri": "https://localhost:8080/"
        },
        "outputId": "0abca1db-e8e7-4fe3-8d90-46241d4f7dd1"
      },
      "source": [
        "# mostrar x3\n",
        "x3"
      ],
      "execution_count": null,
      "outputs": [
        {
          "output_type": "execute_result",
          "data": {
            "text/plain": [
              "array([[[5, 2],\n",
              "        [4, 2]],\n",
              "\n",
              "       [[4, 7],\n",
              "        [7, 9]],\n",
              "\n",
              "       [[1, 7],\n",
              "        [0, 6]]])"
            ]
          },
          "metadata": {
            "tags": []
          },
          "execution_count": 27
        }
      ]
    },
    {
      "cell_type": "markdown",
      "metadata": {
        "id": "p-4K-dgLfxS3"
      },
      "source": [
        "**Acessando elementos em um array**"
      ]
    },
    {
      "cell_type": "code",
      "metadata": {
        "id": "MlTQ22rOfEr0",
        "colab": {
          "base_uri": "https://localhost:8080/"
        },
        "outputId": "e8db6b9f-4d69-4bab-c633-12c04216062b"
      },
      "source": [
        "x1[0]"
      ],
      "execution_count": null,
      "outputs": [
        {
          "output_type": "execute_result",
          "data": {
            "text/plain": [
              "5"
            ]
          },
          "metadata": {
            "tags": []
          },
          "execution_count": 28
        }
      ]
    },
    {
      "cell_type": "code",
      "metadata": {
        "id": "s4gOmSqFf4ma",
        "colab": {
          "base_uri": "https://localhost:8080/"
        },
        "outputId": "88486660-8b69-4657-eae9-aeb02e3fb218"
      },
      "source": [
        "x2[2,2]"
      ],
      "execution_count": null,
      "outputs": [
        {
          "output_type": "execute_result",
          "data": {
            "text/plain": [
              "4"
            ]
          },
          "metadata": {
            "tags": []
          },
          "execution_count": 29
        }
      ]
    },
    {
      "cell_type": "code",
      "metadata": {
        "id": "VxNPx0DJf_Lk",
        "colab": {
          "base_uri": "https://localhost:8080/"
        },
        "outputId": "74cc5fcb-1acf-4c59-de51-20ba18d1b0cf"
      },
      "source": [
        "x2[0,0]"
      ],
      "execution_count": null,
      "outputs": [
        {
          "output_type": "execute_result",
          "data": {
            "text/plain": [
              "5"
            ]
          },
          "metadata": {
            "tags": []
          },
          "execution_count": 30
        }
      ]
    },
    {
      "cell_type": "code",
      "metadata": {
        "id": "ZEZu8QYDgFEB",
        "colab": {
          "base_uri": "https://localhost:8080/"
        },
        "outputId": "a5a70bbf-4e7e-47e9-ed64-7724c4d38654"
      },
      "source": [
        "x3[0, 0, 0]"
      ],
      "execution_count": null,
      "outputs": [
        {
          "output_type": "execute_result",
          "data": {
            "text/plain": [
              "5"
            ]
          },
          "metadata": {
            "tags": []
          },
          "execution_count": 31
        }
      ]
    },
    {
      "cell_type": "code",
      "metadata": {
        "id": "XE186XhngLx9",
        "colab": {
          "base_uri": "https://localhost:8080/"
        },
        "outputId": "4d3ef4cf-937f-4f43-9740-d50200ae175f"
      },
      "source": [
        "x3[1]"
      ],
      "execution_count": null,
      "outputs": [
        {
          "output_type": "execute_result",
          "data": {
            "text/plain": [
              "array([[4, 7],\n",
              "       [7, 9]])"
            ]
          },
          "metadata": {
            "tags": []
          },
          "execution_count": 32
        }
      ]
    },
    {
      "cell_type": "markdown",
      "metadata": {
        "id": "PV6lkWOCv8ow"
      },
      "source": [
        "**Modificando elementos**\n"
      ]
    },
    {
      "cell_type": "code",
      "metadata": {
        "id": "Q1CXODWLv_3a",
        "colab": {
          "base_uri": "https://localhost:8080/",
          "height": 69
        },
        "outputId": "464ed1e9-4f44-451e-b315-47eceb0a36d2"
      },
      "source": [
        "x2[0, 0] = 12\n",
        "x2"
      ],
      "execution_count": null,
      "outputs": [
        {
          "output_type": "execute_result",
          "data": {
            "text/plain": [
              "array([[12,  0,  0],\n",
              "       [ 1,  7,  6],\n",
              "       [ 9,  2,  4]])"
            ]
          },
          "metadata": {
            "tags": []
          },
          "execution_count": 30
        }
      ]
    },
    {
      "cell_type": "code",
      "metadata": {
        "id": "I8ZJ2f3uwGyy",
        "colab": {
          "base_uri": "https://localhost:8080/",
          "height": 52
        },
        "outputId": "e1f3afaa-9aba-4365-a1e8-f30365df6065"
      },
      "source": [
        "x3[2, 1, 1] = 20\n",
        "x3[2]"
      ],
      "execution_count": null,
      "outputs": [
        {
          "output_type": "execute_result",
          "data": {
            "text/plain": [
              "array([[ 1,  7],\n",
              "       [ 0, 20]])"
            ]
          },
          "metadata": {
            "tags": []
          },
          "execution_count": 31
        }
      ]
    },
    {
      "cell_type": "markdown",
      "metadata": {
        "id": "E8ivXZfYwX5n"
      },
      "source": [
        "**Fatiamento**\n",
        "\n",
        "`x[start:stop:step]`\n"
      ]
    },
    {
      "cell_type": "code",
      "metadata": {
        "id": "3DxZ2kqFwpin",
        "colab": {
          "base_uri": "https://localhost:8080/",
          "height": 35
        },
        "outputId": "fbf4f489-95f9-4071-f122-1a499d370447"
      },
      "source": [
        "x = np.arange(10)\n",
        "x"
      ],
      "execution_count": null,
      "outputs": [
        {
          "output_type": "execute_result",
          "data": {
            "text/plain": [
              "array([0, 1, 2, 3, 4, 5, 6, 7, 8, 9])"
            ]
          },
          "metadata": {
            "tags": []
          },
          "execution_count": 32
        }
      ]
    },
    {
      "cell_type": "code",
      "metadata": {
        "id": "GOsu24U2wlDC",
        "colab": {
          "base_uri": "https://localhost:8080/",
          "height": 35
        },
        "outputId": "5698a401-3b86-40d2-f319-b21942fdee82"
      },
      "source": [
        "x[:5]  # primeiros 5 elementos"
      ],
      "execution_count": null,
      "outputs": [
        {
          "output_type": "execute_result",
          "data": {
            "text/plain": [
              "array([0, 1, 2, 3, 4])"
            ]
          },
          "metadata": {
            "tags": []
          },
          "execution_count": 33
        }
      ]
    },
    {
      "cell_type": "code",
      "metadata": {
        "id": "TWYG0e0vw0zP",
        "colab": {
          "base_uri": "https://localhost:8080/",
          "height": 35
        },
        "outputId": "744ff096-4a39-4edf-d26b-9aac0b60ccb8"
      },
      "source": [
        "x[5:]  # elementos após o índice 5"
      ],
      "execution_count": null,
      "outputs": [
        {
          "output_type": "execute_result",
          "data": {
            "text/plain": [
              "array([5, 6, 7, 8, 9])"
            ]
          },
          "metadata": {
            "tags": []
          },
          "execution_count": 34
        }
      ]
    },
    {
      "cell_type": "code",
      "metadata": {
        "id": "At8-wa7bw7D-",
        "colab": {
          "base_uri": "https://localhost:8080/",
          "height": 35
        },
        "outputId": "6caf2b59-8645-46fa-ee8b-ed16b37f8bb4"
      },
      "source": [
        "x[4:7]  # sub-array"
      ],
      "execution_count": null,
      "outputs": [
        {
          "output_type": "execute_result",
          "data": {
            "text/plain": [
              "array([4, 5, 6])"
            ]
          },
          "metadata": {
            "tags": []
          },
          "execution_count": 35
        }
      ]
    },
    {
      "cell_type": "code",
      "metadata": {
        "id": "aC92-W9h-hC6",
        "colab": {
          "base_uri": "https://localhost:8080/",
          "height": 35
        },
        "outputId": "ac681646-e32b-4dae-fb38-7d6e5359cf2e"
      },
      "source": [
        "x[0:8:2]"
      ],
      "execution_count": null,
      "outputs": [
        {
          "output_type": "execute_result",
          "data": {
            "text/plain": [
              "array([0, 2, 4, 6])"
            ]
          },
          "metadata": {
            "tags": []
          },
          "execution_count": 36
        }
      ]
    },
    {
      "cell_type": "markdown",
      "metadata": {
        "id": "GILbAJ88zK1Y"
      },
      "source": [
        "**Remodelagem de um array**\n",
        "\n",
        "A maneira mais fácil de fazer isso é com um método `reshape`.\n"
      ]
    },
    {
      "cell_type": "code",
      "metadata": {
        "id": "G8INzHnLw__h",
        "colab": {
          "base_uri": "https://localhost:8080/",
          "height": 35
        },
        "outputId": "5dbef526-4bec-457a-fdab-8f557d73b1c2"
      },
      "source": [
        "y = np.arange(1, 10)\n",
        "y"
      ],
      "execution_count": null,
      "outputs": [
        {
          "output_type": "execute_result",
          "data": {
            "text/plain": [
              "array([1, 2, 3, 4, 5, 6, 7, 8, 9])"
            ]
          },
          "metadata": {
            "tags": []
          },
          "execution_count": 38
        }
      ]
    },
    {
      "cell_type": "code",
      "metadata": {
        "id": "1zUiXBbzzXol",
        "colab": {
          "base_uri": "https://localhost:8080/",
          "height": 69
        },
        "outputId": "131808fa-218f-4962-8cc6-93d81e6edebb"
      },
      "source": [
        "y = np.arange(1, 10).reshape((3, 3))\n",
        "print(y)"
      ],
      "execution_count": null,
      "outputs": [
        {
          "output_type": "stream",
          "text": [
            "[[1 2 3]\n",
            " [4 5 6]\n",
            " [7 8 9]]\n"
          ],
          "name": "stdout"
        }
      ]
    },
    {
      "cell_type": "code",
      "metadata": {
        "id": "OVsoVtBi_NUU",
        "colab": {
          "base_uri": "https://localhost:8080/",
          "height": 52
        },
        "outputId": "8ad72d0b-402d-4bf9-cd9e-33b898ca49d7"
      },
      "source": [
        "y = np.arange(0,20,2).reshape((2, 5))\n",
        "y"
      ],
      "execution_count": null,
      "outputs": [
        {
          "output_type": "execute_result",
          "data": {
            "text/plain": [
              "array([[ 0,  2,  4,  6,  8],\n",
              "       [10, 12, 14, 16, 18]])"
            ]
          },
          "metadata": {
            "tags": []
          },
          "execution_count": 42
        }
      ]
    },
    {
      "cell_type": "markdown",
      "metadata": {
        "id": "V-ALEoWX0ETA"
      },
      "source": [
        "Observe que, para que isso funcione, o tamanho do array inicial deve corresponder ao tamanho da matriz remodelada. "
      ]
    },
    {
      "cell_type": "markdown",
      "metadata": {
        "id": "alpOVwwg0UW3"
      },
      "source": [
        "**Concatenação**\n",
        "\n",
        "A concatenação ou junção de dois arrays no NumPy é realizada, principalmente, com o emprego das rotinas `np.concatenate`, `np.vstack` e `np.hstack`.\n",
        "\n",
        "O `np.concatenate` usa uma tupla ou lista de matrizes como seu primeiro argumento:"
      ]
    },
    {
      "cell_type": "code",
      "metadata": {
        "id": "OMVN7eFA0ymY",
        "colab": {
          "base_uri": "https://localhost:8080/",
          "height": 35
        },
        "outputId": "3a1bffa2-53c5-4372-aab8-b2c40c274dc8"
      },
      "source": [
        "x = np.array([1, 2, 3])\n",
        "y = np.array([3, 2, 1])\n",
        "np.concatenate([x, y])"
      ],
      "execution_count": null,
      "outputs": [
        {
          "output_type": "execute_result",
          "data": {
            "text/plain": [
              "array([1, 2, 3, 3, 2, 1])"
            ]
          },
          "metadata": {
            "tags": []
          },
          "execution_count": 43
        }
      ]
    },
    {
      "cell_type": "markdown",
      "metadata": {
        "id": "_GWwAS5U1FWn"
      },
      "source": [
        "Usando o `np.vstack` (concatenação vertical)"
      ]
    },
    {
      "cell_type": "code",
      "metadata": {
        "id": "6J8c-sB901iC",
        "colab": {
          "base_uri": "https://localhost:8080/",
          "height": 69
        },
        "outputId": "b2c639e5-d2a3-417d-8a95-496204fdf753"
      },
      "source": [
        "x = np.array([1, 2, 3])\n",
        "w = np.array([[9, 8, 7], [6, 5, 4]])\n",
        "\n",
        "np.vstack([x, w])"
      ],
      "execution_count": null,
      "outputs": [
        {
          "output_type": "execute_result",
          "data": {
            "text/plain": [
              "array([[1, 2, 3],\n",
              "       [9, 8, 7],\n",
              "       [6, 5, 4]])"
            ]
          },
          "metadata": {
            "tags": []
          },
          "execution_count": 44
        }
      ]
    },
    {
      "cell_type": "markdown",
      "metadata": {
        "id": "96TU5rXv1Nqd"
      },
      "source": [
        "Usando o `np.hstack` (concatenação horizontal)"
      ]
    },
    {
      "cell_type": "code",
      "metadata": {
        "id": "yeDAp_F2zhKQ",
        "colab": {
          "base_uri": "https://localhost:8080/",
          "height": 121
        },
        "outputId": "a87d5cba-612e-4b65-8c60-c53af4c8d014"
      },
      "source": [
        "x = np.array([[3],[2]])\n",
        "w = np.array([[9, 8, 7], [6, 5, 4]])\n",
        "\n",
        "print(x)\n",
        "print(w)\n",
        "\n",
        "np.hstack([w, x])"
      ],
      "execution_count": null,
      "outputs": [
        {
          "output_type": "stream",
          "text": [
            "[[3]\n",
            " [2]]\n",
            "[[9 8 7]\n",
            " [6 5 4]]\n"
          ],
          "name": "stdout"
        },
        {
          "output_type": "execute_result",
          "data": {
            "text/plain": [
              "array([[9, 8, 7, 3],\n",
              "       [6, 5, 4, 2]])"
            ]
          },
          "metadata": {
            "tags": []
          },
          "execution_count": 47
        }
      ]
    },
    {
      "cell_type": "markdown",
      "metadata": {
        "id": "7HsAS6Zs2UfY"
      },
      "source": [
        "**Separação**\n",
        "\n",
        "O oposto da concatenação é a separação, que é implementada pelas funções `np.split`, `np.hsplit` e `np.vsplit`."
      ]
    },
    {
      "cell_type": "code",
      "metadata": {
        "id": "cZb7khDHEczU",
        "colab": {
          "base_uri": "https://localhost:8080/",
          "height": 35
        },
        "outputId": "1d661e1a-9448-493d-c0dc-9374ae95adce"
      },
      "source": [
        "x = np.arange(9.0)\n",
        "x"
      ],
      "execution_count": null,
      "outputs": [
        {
          "output_type": "execute_result",
          "data": {
            "text/plain": [
              "array([0., 1., 2., 3., 4., 5., 6., 7., 8.])"
            ]
          },
          "metadata": {
            "tags": []
          },
          "execution_count": 48
        }
      ]
    },
    {
      "cell_type": "code",
      "metadata": {
        "id": "k2nbIt7kAz_B",
        "colab": {
          "base_uri": "https://localhost:8080/",
          "height": 35
        },
        "outputId": "b3a9b16e-e6ee-4987-e5ae-d9e1954d4a10"
      },
      "source": [
        "np.split(x, 3)"
      ],
      "execution_count": null,
      "outputs": [
        {
          "output_type": "execute_result",
          "data": {
            "text/plain": [
              "[array([0., 1., 2.]), array([3., 4., 5.]), array([6., 7., 8.])]"
            ]
          },
          "metadata": {
            "tags": []
          },
          "execution_count": 49
        }
      ]
    },
    {
      "cell_type": "code",
      "metadata": {
        "id": "mMfRDBa82ewn",
        "colab": {
          "base_uri": "https://localhost:8080/",
          "height": 35
        },
        "outputId": "24a97b97-8b14-46e3-9e4d-ae8550ecf711"
      },
      "source": [
        "x = [1, 2, 3, 4, 5, 6, 7, 8]\n",
        "x1, x2 = np.split(x, [4])\n",
        "print(x1, x2)"
      ],
      "execution_count": null,
      "outputs": [
        {
          "output_type": "stream",
          "text": [
            "[1 2 3 4] [5 6 7 8]\n"
          ],
          "name": "stdout"
        }
      ]
    },
    {
      "cell_type": "code",
      "metadata": {
        "id": "8Y8HnGTA3q6y",
        "colab": {
          "base_uri": "https://localhost:8080/",
          "height": 87
        },
        "outputId": "ce662618-1098-4513-af01-17ef92ff33a8"
      },
      "source": [
        "A = np.arange(16).reshape(4,4)\n",
        "A"
      ],
      "execution_count": null,
      "outputs": [
        {
          "output_type": "execute_result",
          "data": {
            "text/plain": [
              "array([[ 0,  1,  2,  3],\n",
              "       [ 4,  5,  6,  7],\n",
              "       [ 8,  9, 10, 11],\n",
              "       [12, 13, 14, 15]])"
            ]
          },
          "metadata": {
            "tags": []
          },
          "execution_count": 52
        }
      ]
    },
    {
      "cell_type": "code",
      "metadata": {
        "id": "D3klZk_PBh2b",
        "colab": {
          "base_uri": "https://localhost:8080/",
          "height": 139
        },
        "outputId": "1fbba3d7-04bd-428f-b758-31d59d45e8c1"
      },
      "source": [
        "np.hsplit(A, 2)"
      ],
      "execution_count": null,
      "outputs": [
        {
          "output_type": "execute_result",
          "data": {
            "text/plain": [
              "[array([[ 0,  1],\n",
              "        [ 4,  5],\n",
              "        [ 8,  9],\n",
              "        [12, 13]]), array([[ 2,  3],\n",
              "        [ 6,  7],\n",
              "        [10, 11],\n",
              "        [14, 15]])]"
            ]
          },
          "metadata": {
            "tags": []
          },
          "execution_count": 53
        }
      ]
    },
    {
      "cell_type": "code",
      "metadata": {
        "id": "qHyryMIWBgkw",
        "colab": {
          "base_uri": "https://localhost:8080/",
          "height": 156
        },
        "outputId": "a9cb5c08-a46f-4abb-93a9-449919f64f78"
      },
      "source": [
        "A1, A2 = np.hsplit(A, 2)\n",
        "print('A1 =', A1)\n",
        "print('A2 =', A2)"
      ],
      "execution_count": null,
      "outputs": [
        {
          "output_type": "stream",
          "text": [
            "A1 = [[ 0  1]\n",
            " [ 4  5]\n",
            " [ 8  9]\n",
            " [12 13]]\n",
            "A2 = [[ 2  3]\n",
            " [ 6  7]\n",
            " [10 11]\n",
            " [14 15]]\n"
          ],
          "name": "stdout"
        }
      ]
    },
    {
      "cell_type": "code",
      "metadata": {
        "id": "OOAxQs_iEcze",
        "colab": {
          "base_uri": "https://localhost:8080/",
          "height": 87
        },
        "outputId": "43ced125-d23c-49e9-c90f-38b1152413fd"
      },
      "source": [
        "B = np.arange(12).reshape(4,3)\n",
        "B"
      ],
      "execution_count": null,
      "outputs": [
        {
          "output_type": "execute_result",
          "data": {
            "text/plain": [
              "array([[ 0,  1,  2],\n",
              "       [ 3,  4,  5],\n",
              "       [ 6,  7,  8],\n",
              "       [ 9, 10, 11]])"
            ]
          },
          "metadata": {
            "tags": []
          },
          "execution_count": 58
        }
      ]
    },
    {
      "cell_type": "code",
      "metadata": {
        "id": "-fTLe9qxEczf",
        "colab": {
          "base_uri": "https://localhost:8080/",
          "height": 69
        },
        "outputId": "ab88123a-72aa-4897-8214-f266e6bff922"
      },
      "source": [
        "np.vsplit(B, 2)"
      ],
      "execution_count": null,
      "outputs": [
        {
          "output_type": "execute_result",
          "data": {
            "text/plain": [
              "[array([[0, 1, 2],\n",
              "        [3, 4, 5]]), array([[ 6,  7,  8],\n",
              "        [ 9, 10, 11]])]"
            ]
          },
          "metadata": {
            "tags": []
          },
          "execution_count": 59
        }
      ]
    }
  ]
}