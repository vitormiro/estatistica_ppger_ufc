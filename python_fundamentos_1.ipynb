{
  "nbformat": 4,
  "nbformat_minor": 0,
  "metadata": {
    "colab": {
      "name": "Cópia de python_fundamentos_1.ipynb",
      "provenance": [],
      "collapsed_sections": [],
      "authorship_tag": "ABX9TyP8uFR4YG33OZPlcQgvuHf+",
      "include_colab_link": true
    },
    "kernelspec": {
      "name": "python3",
      "display_name": "Python 3"
    },
    "language_info": {
      "name": "python"
    }
  },
  "cells": [
    {
      "cell_type": "markdown",
      "metadata": {
        "id": "view-in-github",
        "colab_type": "text"
      },
      "source": [
        "<a href=\"https://colab.research.google.com/github/vitormiro/estatistica_ppger_ufc/blob/main/python_fundamentos_1.ipynb\" target=\"_parent\"><img src=\"https://colab.research.google.com/assets/colab-badge.svg\" alt=\"Open In Colab\"/></a>"
      ]
    },
    {
      "cell_type": "markdown",
      "metadata": {
        "id": "yp25L-uMyimC"
      },
      "source": [
        "# Sobre o Python\n",
        "\n",
        "Python é uma linguagem de programação de alto nível (sintaxe é voltada para o entendimento humano, intuitiva e amigável), de propósito geral (aplicável para uma variedade de aplicações), orientada a objetos (com foco na criação de objetos que contem tanto os dados quanto as funcionalidades).\n",
        "\n",
        "A linguagem Python foi desenvolvida pelo holandes Guido Van Rossun, em 1990.\n",
        "\n",
        "[Página do Python](https://www.python.org/)\n",
        "\n",
        "[Manual em Português](https://docs.python.org/pt-br/3/)"
      ]
    },
    {
      "cell_type": "markdown",
      "metadata": {
        "id": "DUeoVHNh13wh"
      },
      "source": [
        "# Sobre o Colab\n",
        "\n",
        "O Colaboratory ou \"Colab\" permite escrever código Python no seu navegador, com:\n",
        "- Nenhuma configuração necessária\n",
        "- Acesso gratuito a GPUs (Graphics Processing Unit)\n",
        "- Compartilhamento fácil\n",
        "\n",
        "[Sobre o Colab](https://colab.research.google.com/notebooks/intro.ipynb#scrollTo=-Rh3-Vt9Nev9)"
      ]
    },
    {
      "cell_type": "markdown",
      "metadata": {
        "id": "d7ViUgE8RfkM"
      },
      "source": [
        "Primeiro passo: **Olá mundo!**\n",
        "\n",
        "OBS:\n",
        "- Para executar a célula selecionada: Ctrl + Enter\n",
        "- Para executa a célula atual e passar para a seguinte: Shift + Enter\n",
        "- Para executar a célula atual e inserir outra abaixo: Alt + Enter"
      ]
    },
    {
      "cell_type": "code",
      "metadata": {
        "colab": {
          "base_uri": "https://localhost:8080/"
        },
        "id": "kR1ExNjGRcWl",
        "outputId": "e0d9d271-6ce3-4b1a-f17d-083941917bf3"
      },
      "source": [
        "print('Olá Mundo!')"
      ],
      "execution_count": null,
      "outputs": [
        {
          "output_type": "stream",
          "text": [
            "Olá mundo!\n"
          ],
          "name": "stdout"
        }
      ]
    },
    {
      "cell_type": "markdown",
      "metadata": {
        "id": "xpI2vWIwRnWg"
      },
      "source": [
        "Podemos fazer isso de outra forma, definindo uma variável denominada \"mensagem\""
      ]
    },
    {
      "cell_type": "code",
      "metadata": {
        "id": "0gddMUS-Ro80"
      },
      "source": [
        "mensagem = 'Olá Mundo!'"
      ],
      "execution_count": null,
      "outputs": []
    },
    {
      "cell_type": "code",
      "metadata": {
        "colab": {
          "base_uri": "https://localhost:8080/"
        },
        "id": "rQgvpueuRrY9",
        "outputId": "2a135669-7c40-4137-fcd8-249680acd202"
      },
      "source": [
        "print(mensagem)"
      ],
      "execution_count": null,
      "outputs": [
        {
          "output_type": "stream",
          "text": [
            "Olá Mundo!\n"
          ],
          "name": "stdout"
        }
      ]
    },
    {
      "cell_type": "markdown",
      "metadata": {
        "id": "_-18xeHf26N_"
      },
      "source": [
        "# Variáveis e tipos de dados simples\n",
        "\n",
        "Um dos recursos mais eficientes de uma linguagem de programação é a capacidade de manipular variáveis.\n",
        "\n",
        "As **variáveis** são um dos recursos mais básicos das linguagens de programação. São utilizadas para armazenar valores em memória, permitem gravar e ler essas informações com facilidade a partir de um nome definido por nós.\n",
        "\n",
        "Podemos dizer que uma variável armazena valores ou conjuntos de valores que podem ser de diferentes tipos: números em diferentes formatos (inteiros, ponto flutuante), letras (caracteres), texto (sequência de caracteres), booleanos (True e False).\n"
      ]
    },
    {
      "cell_type": "markdown",
      "metadata": {
        "id": "cYuCiLbUr0se"
      },
      "source": [
        "### Tipos\n",
        "- Tipos **numéricos**:\n",
        " - **Integer** (inteiros): números inteiros: `1`.\n",
        " - **Float** (ponto flutuante): números com parte fracionária: `2.5`.\n",
        "\n",
        "- **String**: informação de texto, letras ou palavras. Usamos aspas (duplas ou simples) para representar informação textual.\n",
        "\n",
        "- **Boolean**: valor lógico binário: `True` ou `False`. \n",
        "\n",
        "Veja os [tipos nativos](https://docs.python.org/pt-br/3/library/stdtypes.html#built-in-types) da linguagem *Python*."
      ]
    },
    {
      "cell_type": "markdown",
      "metadata": {
        "id": "cq-I8O9d_MfE"
      },
      "source": [
        "### Instrução de atribuição\n",
        "Uma **instrução** é uma unidade de código, que executa uma operação.\n",
        "\n",
        "Uma **instrução de atribuição** cria uma variável e dá um valor a ela.\n",
        "No código abaixo vamos atribuir um número inteiro à variável x.\n",
        "\n",
        "O operador de atribuição, `=`, não deve ser confundido com igualdade, para a qual usamos ==. O comando de atribuição associa o nome, que está à esquerda do operador, como o valor, que está à direita.\n"
      ]
    },
    {
      "cell_type": "code",
      "metadata": {
        "id": "M9pFBlLYxByL"
      },
      "source": [
        "x = 10"
      ],
      "execution_count": 1,
      "outputs": []
    },
    {
      "cell_type": "markdown",
      "metadata": {
        "id": "vkSz3qJL4APL"
      },
      "source": [
        "Vamos atribuir uma variável de texto (*string*)."
      ]
    },
    {
      "cell_type": "code",
      "metadata": {
        "id": "5cMYcF0IyBHh"
      },
      "source": [
        "texto = \"Isso é um texto!\""
      ],
      "execution_count": null,
      "outputs": []
    },
    {
      "cell_type": "markdown",
      "metadata": {
        "id": "TGcizZAw4XBs"
      },
      "source": [
        "A instrução `print` (imprimir), tendo a variável como argumento, mostra o valor da variável:"
      ]
    },
    {
      "cell_type": "code",
      "metadata": {
        "colab": {
          "base_uri": "https://localhost:8080/"
        },
        "id": "bj-2poKI4gSq",
        "outputId": "0d776a5e-f8e3-4e4f-d7ca-03f47de60d0f"
      },
      "source": [
        "print(x)"
      ],
      "execution_count": null,
      "outputs": [
        {
          "output_type": "stream",
          "text": [
            "5\n"
          ],
          "name": "stdout"
        }
      ]
    },
    {
      "cell_type": "code",
      "metadata": {
        "colab": {
          "base_uri": "https://localhost:8080/"
        },
        "id": "8lYf_bv04jAe",
        "outputId": "94fd3726-5e17-42ad-d837-baf6be728e6d"
      },
      "source": [
        "print(texto)"
      ],
      "execution_count": null,
      "outputs": [
        {
          "output_type": "stream",
          "text": [
            "Isso é um texto!\n"
          ],
          "name": "stdout"
        }
      ]
    },
    {
      "cell_type": "markdown",
      "metadata": {
        "id": "Ttm5h7I15KLy"
      },
      "source": [
        "Podemos mudar o valor de uma variável em nosso programa a qualquer momento, e Python sempre manterá o controle do valor atual."
      ]
    },
    {
      "cell_type": "markdown",
      "metadata": {
        "id": "0-tCUUx144LB"
      },
      "source": [
        "### Nomeando variáveis\n",
        "\n",
        "- Nomes de variáveis devem conter apenas números, letras e underscores(_). Mas não devem começar com números. Ex: podemos nomear `x_1`, mas não `1_x`.\n",
        "- Nomes de variáveis não podem conter espaços. Para separar palavras podem ser usados os underscores. Ex: `vendas_maio`.\n",
        "- Nomes de variáveis devem ser concisos, porém descritivos.\n",
        "- Uma recomendação é utilizar letras minúsculas.\n",
        "- O Python possui algumas palavras reservadas que não podem ser usadas como nomes de variáveis: `False, True, class, is, return, for, lambda, try, del, def, while, from, yield, if, else, elif, global` ...\n",
        "Para ver mais  [Palavras reservadas do Python](https://docs.python.org/pt-br/3/reference/lexical_analysis.html#keywords)\n",
        "\n"
      ]
    },
    {
      "cell_type": "markdown",
      "metadata": {
        "id": "_YDKNdTP9p0a"
      },
      "source": [
        "## Tudo é um objeto\n",
        "\n",
        "Todo número, string, estruturas de dados, funções, classes, entre outros; são *objetos* em Python."
      ]
    },
    {
      "cell_type": "markdown",
      "metadata": {
        "id": "ffWZb9by-7E5"
      },
      "source": [
        "**Comentários**\n",
        "\n",
        "O símbolo # (*sharp* ou tralha) é frequentemente utilizado para adicionar comentários ao código.\n",
        "Veja os exemplos acima. Qualquer texto precedido por # será ignorado pelo interpretador Python."
      ]
    },
    {
      "cell_type": "code",
      "metadata": {
        "id": "ooj_m34--1AC"
      },
      "source": [
        "# Exemplo de um número\n",
        "numero = 10.5"
      ],
      "execution_count": null,
      "outputs": []
    },
    {
      "cell_type": "code",
      "metadata": {
        "id": "aUsiyQCv-1II"
      },
      "source": [
        "# Exemplo de uma string\n",
        "string = 'python'"
      ],
      "execution_count": null,
      "outputs": []
    },
    {
      "cell_type": "code",
      "metadata": {
        "id": "M3lIa2E_-1Pf"
      },
      "source": [
        "# Exemplo de uma estrutura de dados: uma lista de números\n",
        "lista = [0, 1, 2, 3, 4]"
      ],
      "execution_count": null,
      "outputs": []
    },
    {
      "cell_type": "markdown",
      "metadata": {
        "id": "Dc1n9DV4SaMB"
      },
      "source": [
        "**Verificar o tipo de variável com a função `type`.**"
      ]
    },
    {
      "cell_type": "code",
      "metadata": {
        "colab": {
          "base_uri": "https://localhost:8080/"
        },
        "id": "rfDGP6TxSqJ6",
        "outputId": "0f1422d1-c189-403a-c06f-09fbf910cd26"
      },
      "source": [
        "type(numero)"
      ],
      "execution_count": null,
      "outputs": [
        {
          "output_type": "execute_result",
          "data": {
            "text/plain": [
              "float"
            ]
          },
          "metadata": {
            "tags": []
          },
          "execution_count": 22
        }
      ]
    },
    {
      "cell_type": "code",
      "metadata": {
        "colab": {
          "base_uri": "https://localhost:8080/"
        },
        "id": "1nhC1eEHSysB",
        "outputId": "427d19e6-7b24-425b-f74d-5a89a7f1ef13"
      },
      "source": [
        "type(string)"
      ],
      "execution_count": null,
      "outputs": [
        {
          "output_type": "execute_result",
          "data": {
            "text/plain": [
              "str"
            ]
          },
          "metadata": {
            "tags": []
          },
          "execution_count": 24
        }
      ]
    },
    {
      "cell_type": "code",
      "metadata": {
        "colab": {
          "base_uri": "https://localhost:8080/"
        },
        "id": "_5yEUNv5TKOK",
        "outputId": "0dec5f9f-c6e7-4c76-ca3f-82475be2a9d1"
      },
      "source": [
        "type(lista)"
      ],
      "execution_count": null,
      "outputs": [
        {
          "output_type": "execute_result",
          "data": {
            "text/plain": [
              "list"
            ]
          },
          "metadata": {
            "tags": []
          },
          "execution_count": 25
        }
      ]
    },
    {
      "cell_type": "markdown",
      "metadata": {
        "id": "uIkp8pGPDb3_"
      },
      "source": [
        "## Tipos de variáveis simples\n",
        "\n",
        "### **Strings**\n",
        "\n",
        "Uma string é simplesmente uma série de caracteres. São declaradas entre aspas, que podem ser simples ou duplas."
      ]
    },
    {
      "cell_type": "code",
      "metadata": {
        "id": "7-GflDx34kx_"
      },
      "source": [
        "nome = 'Vitor'"
      ],
      "execution_count": null,
      "outputs": []
    },
    {
      "cell_type": "code",
      "metadata": {
        "colab": {
          "base_uri": "https://localhost:8080/"
        },
        "id": "fb28WME1D7te",
        "outputId": "52194273-a227-46a5-a29b-1754ea35edcc"
      },
      "source": [
        "print(nome)"
      ],
      "execution_count": null,
      "outputs": [
        {
          "output_type": "stream",
          "text": [
            "Vitor\n"
          ],
          "name": "stdout"
        }
      ]
    },
    {
      "cell_type": "code",
      "metadata": {
        "colab": {
          "base_uri": "https://localhost:8080/"
        },
        "id": "e8hw-7CEEJ3-",
        "outputId": "e79a89be-28fa-4ceb-8ddc-1184967deec9"
      },
      "source": [
        "frase = \"Estatística é minha disciplina favorita!\"\n",
        "print(frase)"
      ],
      "execution_count": null,
      "outputs": [
        {
          "output_type": "stream",
          "text": [
            "Estatística é minha disciplina favorita!\n"
          ],
          "name": "stdout"
        }
      ]
    },
    {
      "cell_type": "markdown",
      "metadata": {
        "id": "A91XU9rZD_4s"
      },
      "source": [
        " **Operações básicas com *strings***\n",
        "\n",
        "Aqui vamos mostrar apenas algumas operações básicas.\n",
        "\n",
        " - Converter maiúsculas e minúsculas\n",
        " - Combinar ou concatenar"
      ]
    },
    {
      "cell_type": "code",
      "metadata": {
        "colab": {
          "base_uri": "https://localhost:8080/"
        },
        "id": "k0E3ZGhXEdow",
        "outputId": "9a065484-dcfb-4a8e-9e48-e95b25df573a"
      },
      "source": [
        "nome = \"CARL GAUSS\"\n",
        "print(nome)"
      ],
      "execution_count": null,
      "outputs": [
        {
          "output_type": "stream",
          "text": [
            "CARL GAUSS\n"
          ],
          "name": "stdout"
        }
      ]
    },
    {
      "cell_type": "markdown",
      "metadata": {
        "id": "tyq78X5sF0PP"
      },
      "source": [
        "**Métodos**\n",
        "\n",
        "Quase todo objeto em Python tem funções associadas, conhecidas como *métodos*. Ser ser muito técnico, um **método** é uma função que está disponível para um determinado tipo de objeto (para uma definição mais precisa precisaríamso estudar programação orientada à objetos).\n",
        "\n",
        "Métodos são chamados da seguinte forma:\n",
        "\n",
        "    <objeto.metodo(argumento)>\n",
        "\n",
        "Sobre a variável `nome` vamos aplicar um método denominado `title()'.\n"
      ]
    },
    {
      "cell_type": "code",
      "metadata": {
        "colab": {
          "base_uri": "https://localhost:8080/"
        },
        "id": "hoAUBXF9Fg9d",
        "outputId": "181869a2-d762-411a-d3ef-2d78f0f895f4"
      },
      "source": [
        "print(nome.title())"
      ],
      "execution_count": null,
      "outputs": [
        {
          "output_type": "stream",
          "text": [
            "Carl Gauss\n"
          ],
          "name": "stdout"
        }
      ]
    },
    {
      "cell_type": "markdown",
      "metadata": {
        "id": "Tn9rdKlwJ1G6"
      },
      "source": [
        "O método `title()` exibe a primeira letra de cada palavra com uma letra maiúscula e as demais minúsculas.\n",
        "\n",
        "O ponto(.) após o nome da variável `nome` em `nome.title()` informa ao Python que o método `title()` deve atuar na variável `nome`. \n",
        "Todo método é seguido por um conjunto de parênteses, onde são especificadas informações adicionais na execução da tarefa. O `title()` não precisa de informações adicionais, por isso os parênteses vazios.\n",
        "\n",
        "Outros métodos são úteis para tratar letras maiúsculas e minúsculas.\n",
        "\n",
        "- o métodos `lower()` converte strings para minúsculas.\n",
        "- o método `upper()` converte strings para maiúsculas"
      ]
    },
    {
      "cell_type": "code",
      "metadata": {
        "colab": {
          "base_uri": "https://localhost:8080/"
        },
        "id": "vBXbeVCXLxTG",
        "outputId": "0710b0b6-7b8e-4008-bd30-91727db7fa3d"
      },
      "source": [
        "print(nome.lower())\n",
        "print(nome.upper())"
      ],
      "execution_count": null,
      "outputs": [
        {
          "output_type": "stream",
          "text": [
            "carl gauss\n",
            "CARL GAUSS\n"
          ],
          "name": "stdout"
        }
      ]
    },
    {
      "cell_type": "markdown",
      "metadata": {
        "id": "ABHSettDLRrj"
      },
      "source": [
        "O Python usa o operador de adição (+) para combinar strings."
      ]
    },
    {
      "cell_type": "code",
      "metadata": {
        "colab": {
          "base_uri": "https://localhost:8080/"
        },
        "id": "zcIbbxBOJyv-",
        "outputId": "96a456eb-ca11-4226-f04f-6530bc4680ff"
      },
      "source": [
        "# Atribuir nome e sobrenome\n",
        "nome = 'Andrey'\n",
        "sobrenome = 'Kolmogorov'\n",
        "# Concatenar nome e sobrenome e imprimir o nome completo.\n",
        "print(nome + \" \" + sobrenome)  # note o espaço \" \""
      ],
      "execution_count": null,
      "outputs": [
        {
          "output_type": "stream",
          "text": [
            "Andrey Kolmogorov\n"
          ],
          "name": "stdout"
        }
      ]
    },
    {
      "cell_type": "code",
      "metadata": {
        "colab": {
          "base_uri": "https://localhost:8080/"
        },
        "id": "on7XGxz1Mp5y",
        "outputId": "c19c0abf-2c5f-4de7-f7a3-2e026cef4572"
      },
      "source": [
        "# Armazenar o nome completo em uma nova variável e imprimir\n",
        "nome_completo = nome + \" \" + sobrenome\n",
        "print(nome_completo)"
      ],
      "execution_count": null,
      "outputs": [
        {
          "output_type": "stream",
          "text": [
            "Andrey Kolmogorov\n"
          ],
          "name": "stdout"
        }
      ]
    },
    {
      "cell_type": "markdown",
      "metadata": {
        "id": "9g5xc-qfNwWS"
      },
      "source": [
        "### **Números**\n",
        "\n",
        "O Python trata números como inteiros (1, 2, 17, ...) denominados `int` ou ponto flutuante, que são números com um ponto decimal (1.3, 7.4, ...) denominados como `float`.\n",
        "\n",
        "### Usando o Python como uma calculadora\n",
        "\n",
        "Podemos realizar cálculos diretamente nas linhas de comando:"
      ]
    },
    {
      "cell_type": "code",
      "metadata": {
        "id": "5z7OVL1wMpcV",
        "colab": {
          "base_uri": "https://localhost:8080/"
        },
        "outputId": "4315d372-3064-41a6-a360-e8393f51f8ef"
      },
      "source": [
        "# soma\n",
        "2+3"
      ],
      "execution_count": null,
      "outputs": [
        {
          "output_type": "execute_result",
          "data": {
            "text/plain": [
              "5"
            ]
          },
          "metadata": {
            "tags": []
          },
          "execution_count": 34
        }
      ]
    },
    {
      "cell_type": "code",
      "metadata": {
        "colab": {
          "base_uri": "https://localhost:8080/"
        },
        "id": "Q-XHPnuX5MEy",
        "outputId": "ae7d2831-cf91-4dee-f013-62ca00ebff8d"
      },
      "source": [
        "# subtração\n",
        "5-3"
      ],
      "execution_count": null,
      "outputs": [
        {
          "output_type": "execute_result",
          "data": {
            "text/plain": [
              "2"
            ]
          },
          "metadata": {
            "tags": []
          },
          "execution_count": 35
        }
      ]
    },
    {
      "cell_type": "code",
      "metadata": {
        "colab": {
          "base_uri": "https://localhost:8080/"
        },
        "id": "Q14hFlsy5ZAd",
        "outputId": "54124705-1151-4e5b-a719-35a897a9d423"
      },
      "source": [
        "# Multiplicação\n",
        "2*3"
      ],
      "execution_count": null,
      "outputs": [
        {
          "output_type": "execute_result",
          "data": {
            "text/plain": [
              "6"
            ]
          },
          "metadata": {
            "tags": []
          },
          "execution_count": 36
        }
      ]
    },
    {
      "cell_type": "code",
      "metadata": {
        "colab": {
          "base_uri": "https://localhost:8080/"
        },
        "id": "o9gRMI-05at_",
        "outputId": "e032f333-993b-4ea9-c9d9-dbefae1c82e9"
      },
      "source": [
        "# Divisão\n",
        "6/3"
      ],
      "execution_count": null,
      "outputs": [
        {
          "output_type": "execute_result",
          "data": {
            "text/plain": [
              "2.0"
            ]
          },
          "metadata": {
            "tags": []
          },
          "execution_count": 39
        }
      ]
    },
    {
      "cell_type": "code",
      "metadata": {
        "colab": {
          "base_uri": "https://localhost:8080/"
        },
        "id": "V6Yg9p2X5cEa",
        "outputId": "a13b6a22-830c-4da2-ca45-1c8e7a3d5b04"
      },
      "source": [
        "# Potência\n",
        "3 ** 2"
      ],
      "execution_count": null,
      "outputs": [
        {
          "output_type": "execute_result",
          "data": {
            "text/plain": [
              "9"
            ]
          },
          "metadata": {
            "tags": []
          },
          "execution_count": 40
        }
      ]
    },
    {
      "cell_type": "code",
      "metadata": {
        "colab": {
          "base_uri": "https://localhost:8080/"
        },
        "id": "uZ5wxwou6QB5",
        "outputId": "a06d372a-d49f-42ae-dc9f-1db9f3011b29"
      },
      "source": [
        "2 + 3*4"
      ],
      "execution_count": null,
      "outputs": [
        {
          "output_type": "execute_result",
          "data": {
            "text/plain": [
              "14"
            ]
          },
          "metadata": {
            "tags": []
          },
          "execution_count": 41
        }
      ]
    },
    {
      "cell_type": "code",
      "metadata": {
        "colab": {
          "base_uri": "https://localhost:8080/"
        },
        "id": "kqf7ogT26VP2",
        "outputId": "a2c62880-aaa1-4ebd-ee6a-838ec352640b"
      },
      "source": [
        "(2+3)*4"
      ],
      "execution_count": null,
      "outputs": [
        {
          "output_type": "execute_result",
          "data": {
            "text/plain": [
              "20"
            ]
          },
          "metadata": {
            "tags": []
          },
          "execution_count": 42
        }
      ]
    },
    {
      "cell_type": "markdown",
      "metadata": {
        "id": "k2blUhEl6xnW"
      },
      "source": [
        "Podemos realizar operações com o uso de variáveis"
      ]
    },
    {
      "cell_type": "code",
      "metadata": {
        "id": "qyovipWC6X8G"
      },
      "source": [
        "# atribui valor para as variáveis\n",
        "x = 5\n",
        "y = 2"
      ],
      "execution_count": null,
      "outputs": []
    },
    {
      "cell_type": "code",
      "metadata": {
        "colab": {
          "base_uri": "https://localhost:8080/"
        },
        "id": "jclLG_TX624B",
        "outputId": "e2ff0b04-185c-4853-ef01-86647f6cd72f"
      },
      "source": [
        "# soma \n",
        "x + y"
      ],
      "execution_count": null,
      "outputs": [
        {
          "output_type": "execute_result",
          "data": {
            "text/plain": [
              "7"
            ]
          },
          "metadata": {
            "tags": []
          },
          "execution_count": 44
        }
      ]
    },
    {
      "cell_type": "code",
      "metadata": {
        "id": "nMIF7Yjv68EK"
      },
      "source": [
        "# Função do tipo Cobb-Douglas\n",
        "k = 9\n",
        "x = 25"
      ],
      "execution_count": null,
      "outputs": []
    },
    {
      "cell_type": "code",
      "metadata": {
        "id": "9Ja1vgSg7Zuf"
      },
      "source": [
        "y = k**(1/2) * x**(1/2)"
      ],
      "execution_count": null,
      "outputs": []
    },
    {
      "cell_type": "code",
      "metadata": {
        "colab": {
          "base_uri": "https://localhost:8080/"
        },
        "id": "gGS72k5W7ti9",
        "outputId": "6c701971-49e9-4742-f4ea-1e3e874d8362"
      },
      "source": [
        "print(y)"
      ],
      "execution_count": null,
      "outputs": [
        {
          "output_type": "stream",
          "text": [
            "15.0\n"
          ],
          "name": "stdout"
        }
      ]
    },
    {
      "cell_type": "markdown",
      "metadata": {
        "id": "tozL2GeU8p29"
      },
      "source": [
        "Vamos explorar um pouco mais.\n",
        "\n",
        "1. Resolvendo (obtendo as raízes) de uma função quadrática.\n",
        "$$ y = ax^2+bx+c $$\n"
      ]
    },
    {
      "cell_type": "code",
      "metadata": {
        "id": "HQPS5bx_8Wob"
      },
      "source": [
        "# Vamos atribuir algumas variáveis\n",
        "a = 4\n",
        "b = -4\n",
        "c = -24"
      ],
      "execution_count": null,
      "outputs": []
    },
    {
      "cell_type": "code",
      "metadata": {
        "colab": {
          "base_uri": "https://localhost:8080/"
        },
        "id": "sdPmLEUNAJi3",
        "outputId": "9545ed5e-701a-4f86-f31c-6427c760225b"
      },
      "source": [
        "# Definir uma função\n",
        "delta= b**2 - 4*a*c\n",
        "print(\"delta = \", delta)\n"
      ],
      "execution_count": null,
      "outputs": [
        {
          "output_type": "stream",
          "text": [
            "delta =  400\n"
          ],
          "name": "stdout"
        }
      ]
    },
    {
      "cell_type": "code",
      "metadata": {
        "colab": {
          "base_uri": "https://localhost:8080/"
        },
        "id": "RtBh3lEaARuW",
        "outputId": "6a24ce1e-8457-4b97-c012-e8caacd02747"
      },
      "source": [
        "print(\"x_1 = \", (-b + delta**(1/2)) / (2*a) )\n",
        "print(\"x_2 = \", (-b - delta**(1/2)) / (2*a) )"
      ],
      "execution_count": null,
      "outputs": [
        {
          "output_type": "stream",
          "text": [
            "x_1 =  3.0\n",
            "x_2 =  -2.0\n"
          ],
          "name": "stdout"
        }
      ]
    },
    {
      "cell_type": "code",
      "metadata": {
        "id": "zq_v7fNkTchD"
      },
      "source": [
        ""
      ],
      "execution_count": null,
      "outputs": []
    }
  ]
}