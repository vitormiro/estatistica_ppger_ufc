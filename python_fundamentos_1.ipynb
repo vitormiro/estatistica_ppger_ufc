{
  "nbformat": 4,
  "nbformat_minor": 0,
  "metadata": {
    "colab": {
      "name": "python_fundamentos_1.ipynb",
      "provenance": [],
      "collapsed_sections": [],
      "authorship_tag": "ABX9TyPp50x7B38VHPqc41erf7+Q",
      "include_colab_link": true
    },
    "kernelspec": {
      "name": "python3",
      "display_name": "Python 3"
    },
    "language_info": {
      "name": "python"
    }
  },
  "cells": [
    {
      "cell_type": "markdown",
      "metadata": {
        "id": "view-in-github",
        "colab_type": "text"
      },
      "source": [
        "<a href=\"https://colab.research.google.com/github/vitormiro/estatistica_ppger_ufc/blob/main/python_fundamentos_1.ipynb\" target=\"_parent\"><img src=\"https://colab.research.google.com/assets/colab-badge.svg\" alt=\"Open In Colab\"/></a>"
      ]
    },
    {
      "cell_type": "markdown",
      "metadata": {
        "id": "yp25L-uMyimC"
      },
      "source": [
        "# Sobre o Python\n",
        "\n",
        "Python é uma linguagem de programação de alto nível (sintaxe é voltada para o entendimento humano, intuitiva e amigável), de propósito geral (aplicável para uma variedade de aplicações), orientada a objetos (com foco na criação de objetos que contem tanto os dados quanto as funcionalidades).\n",
        "\n",
        "A linguagem Python foi desenvolvida pelo holandes Guido Van Rossun, em 1990.\n",
        "\n",
        "[Página do Python](https://www.python.org/)\n",
        "\n",
        "[Manual em Português](https://docs.python.org/pt-br/3/)"
      ]
    },
    {
      "cell_type": "markdown",
      "metadata": {
        "id": "DUeoVHNh13wh"
      },
      "source": [
        "# Sobre o Colab\n",
        "\n",
        "O Colaboratory ou \"Colab\" permite escrever código Python no seu navegador, com:\n",
        "- Nenhuma configuração necessária\n",
        "- Acesso gratuito a GPUs (Graphics Processing Unit)\n",
        "- Compartilhamento fácil\n",
        "\n",
        "[Sobre o Colab](https://colab.research.google.com/notebooks/intro.ipynb#scrollTo=-Rh3-Vt9Nev9)"
      ]
    },
    {
      "cell_type": "markdown",
      "metadata": {
        "id": "d7ViUgE8RfkM"
      },
      "source": [
        "Primeiro passo: **Olá mundo!**\n",
        "\n",
        "OBS:\n",
        "- Para executar a célula selecionada: Ctrl + Enter\n",
        "- Para executa a célula atual e passar para a seguinte: Shift + Enter\n",
        "- Para executar a célula atual e inserir outra abaixo: Alt + Enter"
      ]
    },
    {
      "cell_type": "code",
      "metadata": {
        "colab": {
          "base_uri": "https://localhost:8080/"
        },
        "id": "kR1ExNjGRcWl",
        "outputId": "d0541e2c-da64-4286-de83-8b40ffc4a11e"
      },
      "source": [
        "print('Olá Mundo!')"
      ],
      "execution_count": 2,
      "outputs": [
        {
          "output_type": "stream",
          "text": [
            "Olá Mundo!\n"
          ],
          "name": "stdout"
        }
      ]
    },
    {
      "cell_type": "markdown",
      "metadata": {
        "id": "xpI2vWIwRnWg"
      },
      "source": [
        "Podemos fazer isso de outra forma, definindo uma variável denominada \"mensagem\""
      ]
    },
    {
      "cell_type": "code",
      "metadata": {
        "id": "0gddMUS-Ro80"
      },
      "source": [
        "mensagem = 'Olá Mundo!'"
      ],
      "execution_count": 3,
      "outputs": []
    },
    {
      "cell_type": "code",
      "metadata": {
        "colab": {
          "base_uri": "https://localhost:8080/"
        },
        "id": "rQgvpueuRrY9",
        "outputId": "72eb7020-7bd7-499a-ac09-b9f5c2f5e8b8"
      },
      "source": [
        "print(mensagem)"
      ],
      "execution_count": 4,
      "outputs": [
        {
          "output_type": "stream",
          "text": [
            "Olá Mundo!\n"
          ],
          "name": "stdout"
        }
      ]
    },
    {
      "cell_type": "markdown",
      "metadata": {
        "id": "_-18xeHf26N_"
      },
      "source": [
        "# Variáveis e tipos de dados simples\n",
        "\n",
        "Um dos recursos mais eficientes de uma linguagem de programação é a capacidade de manipular variáveis.\n",
        "\n",
        "As **variáveis** são um dos recursos mais básicos das linguagens de programação. São utilizadas para armazenar valores em memória, permitem gravar e ler essas informações com facilidade a partir de um nome definido por nós.\n",
        "\n",
        "Podemos dizer que uma variável armazena valores ou conjuntos de valores que podem ser de diferentes tipos: números em diferentes formatos (inteiros, ponto flutuante), letras (caracteres), texto (sequência de caracteres), booleanos (True e False).\n"
      ]
    },
    {
      "cell_type": "markdown",
      "metadata": {
        "id": "cq-I8O9d_MfE"
      },
      "source": [
        "\n",
        "\n",
        "### Instrução de atribuição\n",
        "Uma **instrução** é uma unidade de código, que executa uma operação.\n",
        "\n",
        "Uma **instrução de atribuição** cria uma variável e dá um valor a ela.\n",
        "No código abaixo vamos atribuir um número inteiro à variável x.\n",
        "\n",
        "O operador de atribuição, `=`, não deve ser confundido com igualdade, para a qual usamos ==. O comando de atribuição associa o nome, que está à esquerda do operador, como o valor, que está à direita.\n"
      ]
    },
    {
      "cell_type": "code",
      "metadata": {
        "id": "M9pFBlLYxByL"
      },
      "source": [
        "x = 10"
      ],
      "execution_count": 5,
      "outputs": []
    },
    {
      "cell_type": "markdown",
      "metadata": {
        "id": "vkSz3qJL4APL"
      },
      "source": [
        "Vamos atribuir uma variável de texto (*string*)."
      ]
    },
    {
      "cell_type": "code",
      "metadata": {
        "id": "5cMYcF0IyBHh"
      },
      "source": [
        "texto = \"Isso é um texto!\""
      ],
      "execution_count": 6,
      "outputs": []
    },
    {
      "cell_type": "markdown",
      "metadata": {
        "id": "TGcizZAw4XBs"
      },
      "source": [
        "A instrução `print` (imprimir), tendo a variável como argumento, mostra o valor da variável:"
      ]
    },
    {
      "cell_type": "code",
      "metadata": {
        "colab": {
          "base_uri": "https://localhost:8080/"
        },
        "id": "bj-2poKI4gSq",
        "outputId": "df7da9fc-0988-4f70-ecfe-3cbc85e3a51f"
      },
      "source": [
        "print(x)"
      ],
      "execution_count": 7,
      "outputs": [
        {
          "output_type": "stream",
          "text": [
            "10\n"
          ],
          "name": "stdout"
        }
      ]
    },
    {
      "cell_type": "code",
      "metadata": {
        "colab": {
          "base_uri": "https://localhost:8080/"
        },
        "id": "8lYf_bv04jAe",
        "outputId": "0446d598-7fec-4ce4-a635-1bd0bbbd04e7"
      },
      "source": [
        "print(texto)"
      ],
      "execution_count": 8,
      "outputs": [
        {
          "output_type": "stream",
          "text": [
            "Isso é um texto!\n"
          ],
          "name": "stdout"
        }
      ]
    },
    {
      "cell_type": "markdown",
      "metadata": {
        "id": "Ttm5h7I15KLy"
      },
      "source": [
        "Podemos mudar o valor de uma variável em nosso programa a qualquer momento, e Python sempre manterá o controle do valor atual."
      ]
    },
    {
      "cell_type": "markdown",
      "metadata": {
        "id": "0-tCUUx144LB"
      },
      "source": [
        "### Nomeando variáveis\n",
        "\n",
        "- Nomes de variáveis devem conter apenas números, letras e underscores(_). Mas não devem começar com números. Ex: podemos nomear `x_1`, mas não `1_x`.\n",
        "- Nomes de variáveis não podem conter espaços. Para separar palavras podem ser usados os underscores. Ex: `vendas_maio`.\n",
        "- Nomes de variáveis devem ser concisos, porém descritivos.\n",
        "- Uma recomendação é utilizar letras minúsculas.\n",
        "- O Python possui algumas palavras reservadas que não podem ser usadas como nomes de variáveis: `False, True, class, is, return, for, lambda, try, del, def, while, from, yield, if, else, elif, global` ...\n",
        "Para ver mais  [Palavras reservadas do Python](https://docs.python.org/pt-br/3/reference/lexical_analysis.html#keywords)\n",
        "\n"
      ]
    },
    {
      "cell_type": "markdown",
      "metadata": {
        "id": "_YDKNdTP9p0a"
      },
      "source": [
        "## Tudo é um objeto\n",
        "\n",
        "Todo número, string, estruturas de dados, funções, classes, entre outros; são *objetos* em Python."
      ]
    },
    {
      "cell_type": "markdown",
      "metadata": {
        "id": "ffWZb9by-7E5"
      },
      "source": [
        "**Comentários**\n",
        "\n",
        "O símbolo # (*sharp* ou tralha) é frequentemente utilizado para adicionar comentários ao código.\n",
        "Veja os exemplos acima. Qualquer texto precedido por # será ignorado pelo interpretador Python."
      ]
    },
    {
      "cell_type": "code",
      "metadata": {
        "id": "ooj_m34--1AC"
      },
      "source": [
        "# Exemplo de um número\n",
        "numero = 10"
      ],
      "execution_count": 9,
      "outputs": []
    },
    {
      "cell_type": "code",
      "metadata": {
        "id": "aUsiyQCv-1II"
      },
      "source": [
        "# Exemplo de uma string\n",
        "string = 'python'"
      ],
      "execution_count": 10,
      "outputs": []
    },
    {
      "cell_type": "code",
      "metadata": {
        "id": "M3lIa2E_-1Pf"
      },
      "source": [
        "# Exemplo de uma estrutura de dados: uma lista de números\n",
        "lista = [0, 1, 2, 3, 4]"
      ],
      "execution_count": 11,
      "outputs": []
    },
    {
      "cell_type": "markdown",
      "metadata": {
        "id": "Dc1n9DV4SaMB"
      },
      "source": [
        "**Verificar o tipo de variável com a função `type`.**"
      ]
    },
    {
      "cell_type": "code",
      "metadata": {
        "colab": {
          "base_uri": "https://localhost:8080/"
        },
        "id": "rfDGP6TxSqJ6",
        "outputId": "c221691a-eec3-429e-e3a9-c828c54f0feb"
      },
      "source": [
        "type(numero)"
      ],
      "execution_count": 12,
      "outputs": [
        {
          "output_type": "execute_result",
          "data": {
            "text/plain": [
              "int"
            ]
          },
          "metadata": {
            "tags": []
          },
          "execution_count": 12
        }
      ]
    },
    {
      "cell_type": "code",
      "metadata": {
        "colab": {
          "base_uri": "https://localhost:8080/"
        },
        "id": "1nhC1eEHSysB",
        "outputId": "e49950db-7936-43c5-b177-d263b5accf54"
      },
      "source": [
        "type(texto)"
      ],
      "execution_count": 13,
      "outputs": [
        {
          "output_type": "execute_result",
          "data": {
            "text/plain": [
              "str"
            ]
          },
          "metadata": {
            "tags": []
          },
          "execution_count": 13
        }
      ]
    },
    {
      "cell_type": "code",
      "metadata": {
        "colab": {
          "base_uri": "https://localhost:8080/"
        },
        "id": "_5yEUNv5TKOK",
        "outputId": "5667baab-1265-442b-8355-59514cfcff91"
      },
      "source": [
        "type(lista)"
      ],
      "execution_count": 14,
      "outputs": [
        {
          "output_type": "execute_result",
          "data": {
            "text/plain": [
              "list"
            ]
          },
          "metadata": {
            "tags": []
          },
          "execution_count": 14
        }
      ]
    },
    {
      "cell_type": "markdown",
      "metadata": {
        "id": "uIkp8pGPDb3_"
      },
      "source": [
        "## Tipos de variáveis simples\n",
        "\n",
        "### **Strings**\n",
        "\n",
        "Uma string é simplesmente uma série de caracteres. São declaradas entre aspas, que podem ser simples ou duplas."
      ]
    },
    {
      "cell_type": "code",
      "metadata": {
        "id": "7-GflDx34kx_"
      },
      "source": [
        "nome = 'Vitor'"
      ],
      "execution_count": 15,
      "outputs": []
    },
    {
      "cell_type": "code",
      "metadata": {
        "colab": {
          "base_uri": "https://localhost:8080/"
        },
        "id": "fb28WME1D7te",
        "outputId": "567d12b1-6820-4c78-b436-86b21f426902"
      },
      "source": [
        "print(nome)"
      ],
      "execution_count": 16,
      "outputs": [
        {
          "output_type": "stream",
          "text": [
            "Vitor\n"
          ],
          "name": "stdout"
        }
      ]
    },
    {
      "cell_type": "code",
      "metadata": {
        "colab": {
          "base_uri": "https://localhost:8080/"
        },
        "id": "e8hw-7CEEJ3-",
        "outputId": "fb796f15-9bac-4fdd-894c-8e874db4607e"
      },
      "source": [
        "frase = \"Estatística é minha disciplina favorita!\"\n",
        "print(frase)"
      ],
      "execution_count": 17,
      "outputs": [
        {
          "output_type": "stream",
          "text": [
            "Estatística é minha disciplina favorita!\n"
          ],
          "name": "stdout"
        }
      ]
    },
    {
      "cell_type": "markdown",
      "metadata": {
        "id": "A91XU9rZD_4s"
      },
      "source": [
        " **Operações básicas com *strings***\n",
        "\n",
        "Aqui vamos mostrar apenas algumas operações básicas.\n",
        "\n",
        " - Convertes maiúsculas e minúsculas\n",
        " - Combinar ou concatenar\n",
        " - Acrescentar ou remover espaços em branco."
      ]
    },
    {
      "cell_type": "code",
      "metadata": {
        "colab": {
          "base_uri": "https://localhost:8080/"
        },
        "id": "k0E3ZGhXEdow",
        "outputId": "9d1d055b-c14b-41b8-f6e3-8639e5c464f8"
      },
      "source": [
        "nome = \"CARL GAUSS\"\n",
        "print(nome)"
      ],
      "execution_count": 18,
      "outputs": [
        {
          "output_type": "stream",
          "text": [
            "CARL GAUSS\n"
          ],
          "name": "stdout"
        }
      ]
    },
    {
      "cell_type": "markdown",
      "metadata": {
        "id": "tyq78X5sF0PP"
      },
      "source": [
        "**Métodos**\n",
        "\n",
        "Quase todo objeto em Python tem funções associadas, conhecidas como *métodos*. Ser ser muito técnico, um **método** é uma função que está disponível para um determinado tipo de objeto (para uma definição mais precisa precisaríamso estudar programação orientada à objetos).\n",
        "\n",
        "Métodos são chamados da seguinte forma:\n",
        "\n",
        "    <objeto.metodo(argumento)>\n",
        "\n",
        "Sobre a variável `nome` vamos aplicar um método denominado `title()'.\n"
      ]
    },
    {
      "cell_type": "code",
      "metadata": {
        "colab": {
          "base_uri": "https://localhost:8080/"
        },
        "id": "hoAUBXF9Fg9d",
        "outputId": "99af0eec-d2ce-4735-bdd8-77d62cdddae2"
      },
      "source": [
        "print(nome.title())"
      ],
      "execution_count": 19,
      "outputs": [
        {
          "output_type": "stream",
          "text": [
            "Carl Gauss\n"
          ],
          "name": "stdout"
        }
      ]
    },
    {
      "cell_type": "markdown",
      "metadata": {
        "id": "Tn9rdKlwJ1G6"
      },
      "source": [
        "O método `title()` exibe a primeira letra de cada palavra com uma letra maiúscula e as demais minúsculas.\n",
        "\n",
        "O ponto(.) após o nome da variável `nome` em `nome.title()` informa ao Python que o método `title()` deve atuar na variável `nome`. \n",
        "Todo método é seguido por um conjunto de parênteses, onde são especificadas informações adicionais na execução da tarefa. O `title()` não precisa de informações adicionais, por isso os parênteses vazios.\n",
        "\n",
        "Outros métodos são úteis para tratar letras maiúsculas e minúsculas.\n",
        "\n",
        "- o métodos `lower()` converte strings para minúsculas.\n",
        "- o método `upper()` converte strings para maiúsculas"
      ]
    },
    {
      "cell_type": "code",
      "metadata": {
        "colab": {
          "base_uri": "https://localhost:8080/"
        },
        "id": "vBXbeVCXLxTG",
        "outputId": "be8caad8-3963-41db-96f5-0d1637164cfb"
      },
      "source": [
        "print(nome.lower())\n",
        "print(nome.upper())"
      ],
      "execution_count": 20,
      "outputs": [
        {
          "output_type": "stream",
          "text": [
            "carl gauss\n",
            "CARL GAUSS\n"
          ],
          "name": "stdout"
        }
      ]
    },
    {
      "cell_type": "markdown",
      "metadata": {
        "id": "ABHSettDLRrj"
      },
      "source": [
        "O Python usa o operador de adição (+) para combinar strings."
      ]
    },
    {
      "cell_type": "code",
      "metadata": {
        "colab": {
          "base_uri": "https://localhost:8080/"
        },
        "id": "zcIbbxBOJyv-",
        "outputId": "08834a5e-fcdc-44ce-daae-e36a3fe87288"
      },
      "source": [
        "# Atribuir nome e sobrenome\n",
        "nome = 'Andrey'\n",
        "sobrenome = 'Kolmogorov'\n",
        "# Concatenar nome e sobrenome e imprimir o nome completo.\n",
        "print(nome + \" \" + sobrenome)  # note o espaço \" \""
      ],
      "execution_count": 21,
      "outputs": [
        {
          "output_type": "stream",
          "text": [
            "Andrey Kolmogorov\n"
          ],
          "name": "stdout"
        }
      ]
    },
    {
      "cell_type": "code",
      "metadata": {
        "colab": {
          "base_uri": "https://localhost:8080/"
        },
        "id": "on7XGxz1Mp5y",
        "outputId": "9c5e36b4-06bd-4518-f6e3-3184af88804d"
      },
      "source": [
        "# Armazenar o nome completo em uma nova variável e imprimir\n",
        "nome_completo = nome + \" \" + sobrenome\n",
        "print(nome_completo)"
      ],
      "execution_count": 22,
      "outputs": [
        {
          "output_type": "stream",
          "text": [
            "Andrey Kolmogorov\n"
          ],
          "name": "stdout"
        }
      ]
    },
    {
      "cell_type": "markdown",
      "metadata": {
        "id": "9g5xc-qfNwWS"
      },
      "source": [
        "### **Números**\n",
        "\n",
        "O Python trata números como inteiros (1, 2, 17, ...) denominados `int` ou ponto flutuante, que são números com um ponto decimal (1.3, 7.4, ...) denominados como `float`.\n",
        "\n",
        "### Usando o Python como uma calculadora\n",
        "\n",
        "Podemos realizar cálculos diretamente nas linhas de comando:"
      ]
    },
    {
      "cell_type": "code",
      "metadata": {
        "id": "5z7OVL1wMpcV",
        "colab": {
          "base_uri": "https://localhost:8080/"
        },
        "outputId": "5df78faf-3cde-48d9-9555-d8428c92d318"
      },
      "source": [
        "# soma\n",
        "2+3"
      ],
      "execution_count": 23,
      "outputs": [
        {
          "output_type": "execute_result",
          "data": {
            "text/plain": [
              "5"
            ]
          },
          "metadata": {
            "tags": []
          },
          "execution_count": 23
        }
      ]
    },
    {
      "cell_type": "code",
      "metadata": {
        "colab": {
          "base_uri": "https://localhost:8080/"
        },
        "id": "Q-XHPnuX5MEy",
        "outputId": "86a0ed9e-c0ae-45a0-8ed7-33fc3b8f4dc2"
      },
      "source": [
        "# subtração\n",
        "5-3"
      ],
      "execution_count": 24,
      "outputs": [
        {
          "output_type": "execute_result",
          "data": {
            "text/plain": [
              "2"
            ]
          },
          "metadata": {
            "tags": []
          },
          "execution_count": 24
        }
      ]
    },
    {
      "cell_type": "code",
      "metadata": {
        "colab": {
          "base_uri": "https://localhost:8080/"
        },
        "id": "Q14hFlsy5ZAd",
        "outputId": "991ff4aa-8408-4b27-b431-4f9b6646797a"
      },
      "source": [
        "# Multiplicação\n",
        "2*3"
      ],
      "execution_count": 25,
      "outputs": [
        {
          "output_type": "execute_result",
          "data": {
            "text/plain": [
              "6"
            ]
          },
          "metadata": {
            "tags": []
          },
          "execution_count": 25
        }
      ]
    },
    {
      "cell_type": "code",
      "metadata": {
        "colab": {
          "base_uri": "https://localhost:8080/"
        },
        "id": "o9gRMI-05at_",
        "outputId": "661b3d35-1dc5-44fe-b3c0-50982d06ce4c"
      },
      "source": [
        "# Divisão\n",
        "6/3"
      ],
      "execution_count": 26,
      "outputs": [
        {
          "output_type": "execute_result",
          "data": {
            "text/plain": [
              "2.0"
            ]
          },
          "metadata": {
            "tags": []
          },
          "execution_count": 26
        }
      ]
    },
    {
      "cell_type": "code",
      "metadata": {
        "colab": {
          "base_uri": "https://localhost:8080/"
        },
        "id": "V6Yg9p2X5cEa",
        "outputId": "4b864834-d7ac-43a8-b3fe-3e6246eb086a"
      },
      "source": [
        "# Potência\n",
        "3 ** 2"
      ],
      "execution_count": 27,
      "outputs": [
        {
          "output_type": "execute_result",
          "data": {
            "text/plain": [
              "9"
            ]
          },
          "metadata": {
            "tags": []
          },
          "execution_count": 27
        }
      ]
    },
    {
      "cell_type": "code",
      "metadata": {
        "colab": {
          "base_uri": "https://localhost:8080/"
        },
        "id": "uZ5wxwou6QB5",
        "outputId": "c9933545-67b4-47a8-91c3-e235d121f95d"
      },
      "source": [
        "2 + 3*4"
      ],
      "execution_count": 28,
      "outputs": [
        {
          "output_type": "execute_result",
          "data": {
            "text/plain": [
              "14"
            ]
          },
          "metadata": {
            "tags": []
          },
          "execution_count": 28
        }
      ]
    },
    {
      "cell_type": "code",
      "metadata": {
        "colab": {
          "base_uri": "https://localhost:8080/"
        },
        "id": "kqf7ogT26VP2",
        "outputId": "bee3c203-bf34-4afe-8be2-835626ce4bb5"
      },
      "source": [
        "(2+3)*4"
      ],
      "execution_count": 29,
      "outputs": [
        {
          "output_type": "execute_result",
          "data": {
            "text/plain": [
              "20"
            ]
          },
          "metadata": {
            "tags": []
          },
          "execution_count": 29
        }
      ]
    },
    {
      "cell_type": "markdown",
      "metadata": {
        "id": "k2blUhEl6xnW"
      },
      "source": [
        "Podemos realizar operações com o uso de variáveis"
      ]
    },
    {
      "cell_type": "code",
      "metadata": {
        "id": "qyovipWC6X8G"
      },
      "source": [
        "# atribui valor para as variáveis\n",
        "x = 5\n",
        "y = 2"
      ],
      "execution_count": 30,
      "outputs": []
    },
    {
      "cell_type": "code",
      "metadata": {
        "colab": {
          "base_uri": "https://localhost:8080/"
        },
        "id": "jclLG_TX624B",
        "outputId": "6472422c-ad11-4542-c464-7ad41175afa5"
      },
      "source": [
        "# soma \n",
        "x + y"
      ],
      "execution_count": 31,
      "outputs": [
        {
          "output_type": "execute_result",
          "data": {
            "text/plain": [
              "7"
            ]
          },
          "metadata": {
            "tags": []
          },
          "execution_count": 31
        }
      ]
    },
    {
      "cell_type": "code",
      "metadata": {
        "id": "nMIF7Yjv68EK"
      },
      "source": [
        "# Função do tipo Cobb-Douglas\n",
        "k = 16\n",
        "x = 49"
      ],
      "execution_count": 32,
      "outputs": []
    },
    {
      "cell_type": "code",
      "metadata": {
        "id": "9Ja1vgSg7Zuf"
      },
      "source": [
        "y = k**(1/2) * x**(1/2)"
      ],
      "execution_count": 33,
      "outputs": []
    },
    {
      "cell_type": "code",
      "metadata": {
        "colab": {
          "base_uri": "https://localhost:8080/"
        },
        "id": "gGS72k5W7ti9",
        "outputId": "21526548-d7a2-4f18-aa1b-39e48f3d6b79"
      },
      "source": [
        "print(y)"
      ],
      "execution_count": 34,
      "outputs": [
        {
          "output_type": "stream",
          "text": [
            "28.0\n"
          ],
          "name": "stdout"
        }
      ]
    },
    {
      "cell_type": "markdown",
      "metadata": {
        "id": "tozL2GeU8p29"
      },
      "source": [
        "Vamos explorar um pouco mais.\n",
        "\n",
        "1. Resolvendo uma equação quadrática.\n",
        "\n"
      ]
    },
    {
      "cell_type": "code",
      "metadata": {
        "id": "HQPS5bx_8Wob"
      },
      "source": [
        "# Vamos atribuir algumas variáveis\n",
        "a = 4\n",
        "b = -4\n",
        "c = -24"
      ],
      "execution_count": 35,
      "outputs": []
    },
    {
      "cell_type": "code",
      "metadata": {
        "colab": {
          "base_uri": "https://localhost:8080/"
        },
        "id": "sdPmLEUNAJi3",
        "outputId": "462a22d5-0745-4fdd-9954-8c7a35a9ae82"
      },
      "source": [
        "# Definir uma função\n",
        "delta= b**2 - 4*a*c\n",
        "print(\"delta = \", delta)\n"
      ],
      "execution_count": 36,
      "outputs": [
        {
          "output_type": "stream",
          "text": [
            "delta =  400\n"
          ],
          "name": "stdout"
        }
      ]
    },
    {
      "cell_type": "code",
      "metadata": {
        "colab": {
          "base_uri": "https://localhost:8080/"
        },
        "id": "RtBh3lEaARuW",
        "outputId": "a71fca2f-e6b7-44b9-d377-f8b73cba8844"
      },
      "source": [
        "print(\"x_1 = \", (-b + delta**(1/2)) / (2*a) )\n",
        "print(\"x_2 = \", (-b - delta**(1/2)) / (2*a) )"
      ],
      "execution_count": 37,
      "outputs": [
        {
          "output_type": "stream",
          "text": [
            "x_1 =  3.0\n",
            "x_2 =  -2.0\n"
          ],
          "name": "stdout"
        }
      ]
    },
    {
      "cell_type": "code",
      "metadata": {
        "id": "zq_v7fNkTchD"
      },
      "source": [
        ""
      ],
      "execution_count": null,
      "outputs": []
    }
  ]
}