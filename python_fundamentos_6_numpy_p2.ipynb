{
  "nbformat": 4,
  "nbformat_minor": 0,
  "metadata": {
    "colab": {
      "name": "python_fundamentos_6_numpy_p2.ipynb",
      "provenance": [],
      "collapsed_sections": [],
      "authorship_tag": "ABX9TyNo6hE+bWsXUeJD/s8wDCaN",
      "include_colab_link": true
    },
    "kernelspec": {
      "name": "python3",
      "display_name": "Python 3"
    },
    "language_info": {
      "name": "python"
    }
  },
  "cells": [
    {
      "cell_type": "markdown",
      "metadata": {
        "id": "view-in-github",
        "colab_type": "text"
      },
      "source": [
        "<a href=\"https://colab.research.google.com/github/vitormiro/estatistica_ppger_ufc/blob/main/python_fundamentos_6_numpy_p2.ipynb\" target=\"_parent\"><img src=\"https://colab.research.google.com/assets/colab-badge.svg\" alt=\"Open In Colab\"/></a>"
      ]
    },
    {
      "cell_type": "markdown",
      "metadata": {
        "id": "qi5I8RVytK5X"
      },
      "source": [
        "# Mais sobre o uso do NumPy"
      ]
    },
    {
      "cell_type": "code",
      "metadata": {
        "id": "dnr5c9BYtbJp"
      },
      "source": [
        "# importar o numpy\n",
        "import numpy as np"
      ],
      "execution_count": null,
      "outputs": []
    },
    {
      "cell_type": "code",
      "metadata": {
        "id": "xuLMIziotPlC"
      },
      "source": [
        "# Criando um array\n",
        "x = np.array([1,2,3,4,5,6])"
      ],
      "execution_count": null,
      "outputs": []
    },
    {
      "cell_type": "code",
      "metadata": {
        "colab": {
          "base_uri": "https://localhost:8080/"
        },
        "id": "k6JmiFAttWXH",
        "outputId": "68537297-d644-4a0a-d7b5-b428a1d5d29e"
      },
      "source": [
        "# imprimir\n",
        "print (x)"
      ],
      "execution_count": null,
      "outputs": [
        {
          "output_type": "stream",
          "text": [
            "[1 2 3 4 5 6]\n"
          ],
          "name": "stdout"
        }
      ]
    },
    {
      "cell_type": "code",
      "metadata": {
        "colab": {
          "base_uri": "https://localhost:8080/"
        },
        "id": "cHnXOj45tZdN",
        "outputId": "79eda5f5-3cc4-4d13-c630-1c4ebb50b63e"
      },
      "source": [
        "# imprimir tipo dos elementos\n",
        "print ('dytpe', x.dtype)"
      ],
      "execution_count": null,
      "outputs": [
        {
          "output_type": "stream",
          "text": [
            "dytpe int64\n"
          ],
          "name": "stdout"
        }
      ]
    },
    {
      "cell_type": "code",
      "metadata": {
        "colab": {
          "base_uri": "https://localhost:8080/"
        },
        "id": "1zm6udOctqco",
        "outputId": "e54fc885-e5be-4a29-a18d-8d3cf53a36aa"
      },
      "source": [
        "# imprimir a dimensão do ndarray\n",
        "print ('shape', x.shape)"
      ],
      "execution_count": null,
      "outputs": [
        {
          "output_type": "stream",
          "text": [
            "shape (6,)\n"
          ],
          "name": "stdout"
        }
      ]
    },
    {
      "cell_type": "code",
      "metadata": {
        "id": "8En2t7A4t5dk"
      },
      "source": [
        "# Modificar a dimensão de x para 2X3\n",
        "x.shape = (2,3)"
      ],
      "execution_count": null,
      "outputs": []
    },
    {
      "cell_type": "code",
      "metadata": {
        "colab": {
          "base_uri": "https://localhost:8080/"
        },
        "id": "kYPKP7Xkt5Ul",
        "outputId": "73f00302-fb91-4ab2-d28b-fbf2a6d7628b"
      },
      "source": [
        "# imprimir\n",
        "print(x)"
      ],
      "execution_count": null,
      "outputs": [
        {
          "output_type": "stream",
          "text": [
            "[[1 2 3]\n",
            " [4 5 6]]\n"
          ],
          "name": "stdout"
        }
      ]
    },
    {
      "cell_type": "code",
      "metadata": {
        "colab": {
          "base_uri": "https://localhost:8080/"
        },
        "id": "5xVRmGQ_t5Ly",
        "outputId": "47810ceb-8a40-4193-9752-5de612dc176d"
      },
      "source": [
        "# imprimir a dimensão do ndarray\n",
        "print ('shape', x.shape)"
      ],
      "execution_count": null,
      "outputs": [
        {
          "output_type": "stream",
          "text": [
            "shape (2, 3)\n"
          ],
          "name": "stdout"
        }
      ]
    },
    {
      "cell_type": "markdown",
      "metadata": {
        "id": "mBHKnjXXtPsx"
      },
      "source": [
        "#### Algumas funções convenientes"
      ]
    },
    {
      "cell_type": "code",
      "metadata": {
        "colab": {
          "base_uri": "https://localhost:8080/"
        },
        "id": "MdAMLDVCtPzR",
        "outputId": "f08af7e9-26c0-40d7-f22a-4342376abcca"
      },
      "source": [
        "# criar um array de 1's com `np.ones`\n",
        "ones = np.ones((3,2))\n",
        "print(ones)"
      ],
      "execution_count": null,
      "outputs": [
        {
          "output_type": "stream",
          "text": [
            "[[1. 1.]\n",
            " [1. 1.]\n",
            " [1. 1.]]\n"
          ],
          "name": "stdout"
        }
      ]
    },
    {
      "cell_type": "code",
      "metadata": {
        "colab": {
          "base_uri": "https://localhost:8080/"
        },
        "id": "f3sNzYdOudYr",
        "outputId": "617fd5d1-ce88-4d65-eb1f-8dee3ed33bf5"
      },
      "source": [
        "# criar um array de zeros com `np.zeros`\n",
        "zeros = np.zeros((3,2))\n",
        "print(zeros)"
      ],
      "execution_count": null,
      "outputs": [
        {
          "output_type": "stream",
          "text": [
            "[[0. 0.]\n",
            " [0. 0.]\n",
            " [0. 0.]]\n"
          ],
          "name": "stdout"
        }
      ]
    },
    {
      "cell_type": "code",
      "metadata": {
        "colab": {
          "base_uri": "https://localhost:8080/"
        },
        "id": "k_UvGcEgudVy",
        "outputId": "43ce5bf0-7eab-4857-d99f-8efde9d71e1e"
      },
      "source": [
        "# criar um array 'identidade' (1's na diagonal principal e zeros nas demais entradas) de dimensão 3 com `np.eye`\n",
        "id = np.eye(3)\n",
        "print(id)"
      ],
      "execution_count": null,
      "outputs": [
        {
          "output_type": "stream",
          "text": [
            "[[1. 0. 0.]\n",
            " [0. 1. 0.]\n",
            " [0. 0. 1.]]\n"
          ],
          "name": "stdout"
        }
      ]
    },
    {
      "cell_type": "code",
      "metadata": {
        "colab": {
          "base_uri": "https://localhost:8080/"
        },
        "id": "z4UYKfZUudS9",
        "outputId": "c4a82dad-4f0f-4a9b-d100-78a894eedfd1"
      },
      "source": [
        "# Criar um array definindo os valores da diagonal principal\n",
        "D = np.diag([1,2,3])\n",
        "print(D)"
      ],
      "execution_count": null,
      "outputs": [
        {
          "output_type": "stream",
          "text": [
            "[[1 0 0]\n",
            " [0 2 0]\n",
            " [0 0 3]]\n"
          ],
          "name": "stdout"
        }
      ]
    },
    {
      "cell_type": "markdown",
      "metadata": {
        "id": "rZxUYWeXM5ek"
      },
      "source": [
        "# Usando o NumPy para princípios de Probabilidade e Estatística\n",
        "\n",
        "Um algoritmo de números pseudo-aleatórios recebe essa denominação por se tratar de um algoritmo que gera uma seqüência de números que são aproximadamente independentes uns dos outros mas, pelo processo, não são verdadeiramente aleatórios."
      ]
    },
    {
      "cell_type": "markdown",
      "metadata": {
        "id": "9Ti8lR_CtP7W"
      },
      "source": [
        "### Semente aleatória\n",
        "\n",
        "A semente aleatória é um número (ou vetor) usado para iniciar o algoritmo gerador de números pseudo-aleatórios.\n",
        "\n",
        "O objetivo da semente é permitir que o usuário \"bloqueie\" o gerador de números pseudo-aleatórios, para permitir análises replicáveis."
      ]
    },
    {
      "cell_type": "markdown",
      "metadata": {
        "id": "fL3ke1WWJQ7P"
      },
      "source": [
        "A biblioteca padrão do Python apresenta o método `seed()` que é usado para inicializar o gerador de números pseudo-aleatórios.\n",
        "\n",
        "No NumPy temos o método `random.seed()`."
      ]
    },
    {
      "cell_type": "code",
      "metadata": {
        "id": "wEuC7hf1tQDO"
      },
      "source": [
        "# importar método `random`\n",
        "import random\n",
        "# definir a semente aleatória\n",
        "random.seed(123)"
      ],
      "execution_count": null,
      "outputs": []
    },
    {
      "cell_type": "markdown",
      "metadata": {
        "id": "dThslBTaN4Zp"
      },
      "source": [
        "### Geradores de números pseudo-aleatórios\n",
        "\n",
        "O `numpy.random` é um módulo presente na biblioteca NumPy que contém funções próprias para gerar números aleatórios. Este módulo contém alguns métodos simples de geração de dados aleatórios, além de funções de distribuição."
      ]
    },
    {
      "cell_type": "code",
      "metadata": {
        "id": "P3rKqis7yDDN"
      },
      "source": [
        "# importar o módulo `random` do NumPy\n",
        "from numpy import random     # não precisaremos usar o aliás \"np.\" "
      ],
      "execution_count": null,
      "outputs": []
    },
    {
      "cell_type": "code",
      "metadata": {
        "id": "cC6m-RFAJspS"
      },
      "source": [
        "# Gerar uma semente aleatória para o numpy.random\n",
        "np.random.seed(123)"
      ],
      "execution_count": null,
      "outputs": []
    },
    {
      "cell_type": "markdown",
      "metadata": {
        "id": "kyhVc4_5yAJn"
      },
      "source": [
        "O método `randint()` retorna números (inteiros) aleatórios de uma **distribuição discreta uniforme**, definindo um intervalo `[a, b)`.\n",
        "\n",
        "Também podemos criar um array de números aleatórios atribuindo valores para um limite inferior (`a`), limite superior (`b`) e o tamanho ou dimensão do array (`size`).\n",
        "\n",
        "```\n",
        "random.randint(a, b, size)\n",
        "```\n"
      ]
    },
    {
      "cell_type": "code",
      "metadata": {
        "id": "2wb4kbylM0jx",
        "colab": {
          "base_uri": "https://localhost:8080/"
        },
        "outputId": "b840bc0f-f300-45ee-97be-358d1b123e81"
      },
      "source": [
        "# Gerar um número inteiro aleatório de 0 a 100\n",
        "x = random.randint(100)\n",
        "print(x)"
      ],
      "execution_count": null,
      "outputs": [
        {
          "output_type": "stream",
          "text": [
            "66\n"
          ],
          "name": "stdout"
        }
      ]
    },
    {
      "cell_type": "code",
      "metadata": {
        "colab": {
          "base_uri": "https://localhost:8080/"
        },
        "id": "1zMojDyzz805",
        "outputId": "80882cd5-d506-469b-82ce-3af24f8571af"
      },
      "source": [
        "# Gerar 5 números inteiros aleatórios entre 1 e 10\n",
        "x = random.randint(1, 10, size=5)\n",
        "print(x)"
      ],
      "execution_count": null,
      "outputs": [
        {
          "output_type": "stream",
          "text": [
            "[3 7 2 4 7]\n"
          ],
          "name": "stdout"
        }
      ]
    },
    {
      "cell_type": "code",
      "metadata": {
        "colab": {
          "base_uri": "https://localhost:8080/"
        },
        "id": "Sfh8bPKb0TVt",
        "outputId": "560ce289-a5cc-45c8-837d-8515e3678da3"
      },
      "source": [
        "# Gerar um array números inteiros aleatórios entre 1 e 10 de dimensão (2X3)\n",
        "x = random.randint(1, 10, size=(2, 3))\n",
        "print(x)"
      ],
      "execution_count": null,
      "outputs": [
        {
          "output_type": "stream",
          "text": [
            "[[2 1 2]\n",
            " [1 1 4]]\n"
          ],
          "name": "stdout"
        }
      ]
    },
    {
      "cell_type": "markdown",
      "metadata": {
        "id": "uVnegPsz0va1"
      },
      "source": [
        "\n",
        "Por sua vez, o método `rand()` cria um array com amostras aleatórias (números 'float') de uma distribuição uniforme no intervalo `[0, 1)`."
      ]
    },
    {
      "cell_type": "code",
      "metadata": {
        "colab": {
          "base_uri": "https://localhost:8080/"
        },
        "id": "NuuiCMqayyqe",
        "outputId": "4cf52f91-221d-44f6-f5a2-28dfa6ddbbce"
      },
      "source": [
        "# Retorna um número aleatório 'float' entre 0 e 1.\n",
        "x = random.rand()\n",
        "print(x)"
      ],
      "execution_count": null,
      "outputs": [
        {
          "output_type": "stream",
          "text": [
            "0.24475927695391986\n"
          ],
          "name": "stdout"
        }
      ]
    },
    {
      "cell_type": "code",
      "metadata": {
        "colab": {
          "base_uri": "https://localhost:8080/"
        },
        "id": "mjgbUIx_1EPu",
        "outputId": "4b063c23-b30f-472f-ff70-b6d910ebce11"
      },
      "source": [
        "# Retorna um array de dimensão (3X2) de números aleatórios 'float' entre 0 e 1.\n",
        "x = random.rand(3,2)\n",
        "print(x)"
      ],
      "execution_count": null,
      "outputs": [
        {
          "output_type": "stream",
          "text": [
            "[[0.69475518 0.5939024 ]\n",
            " [0.63179202 0.44025718]\n",
            " [0.08372648 0.71233018]]\n"
          ],
          "name": "stdout"
        }
      ]
    },
    {
      "cell_type": "markdown",
      "metadata": {
        "id": "qk5Dy3x21e6d"
      },
      "source": [
        "\n",
        "O método `randn()` cria um array com amostras aleatórias a partir de uma **distribuição normal padrão** (média = 0 e variância = 1).\n",
        "Os argumento do método definem a dimensão do array."
      ]
    },
    {
      "cell_type": "code",
      "metadata": {
        "colab": {
          "base_uri": "https://localhost:8080/"
        },
        "id": "0kwmtrfZ1smD",
        "outputId": "d44e6f6d-3ff5-4180-b3d3-3b5a28180eaa"
      },
      "source": [
        "# Um array de dimensão 2\n",
        "x = np.random.randn(2)\n",
        "print(x)"
      ],
      "execution_count": null,
      "outputs": [
        {
          "output_type": "stream",
          "text": [
            "[-1.0856306   0.99734545]\n"
          ],
          "name": "stdout"
        }
      ]
    },
    {
      "cell_type": "code",
      "metadata": {
        "colab": {
          "base_uri": "https://localhost:8080/"
        },
        "id": "tGoSOzP81se2",
        "outputId": "f46c51df-2fec-42a8-bb08-bcb240331a01"
      },
      "source": [
        "# criar um array (10 X 5)\n",
        "x = np.random.randn(10, 5)\n",
        "print(x)"
      ],
      "execution_count": null,
      "outputs": [
        {
          "output_type": "stream",
          "text": [
            "[[ 0.2829785  -1.50629471 -0.57860025  1.65143654 -2.42667924]\n",
            " [-0.42891263  1.26593626 -0.8667404  -0.67888615 -0.09470897]\n",
            " [ 1.49138963 -0.638902   -0.44398196 -0.43435128  2.20593008]\n",
            " [ 2.18678609  1.0040539   0.3861864   0.73736858  1.49073203]\n",
            " [-0.93583387  1.17582904 -1.25388067 -0.6377515   0.9071052 ]\n",
            " [-1.4286807  -0.14006872 -0.8617549  -0.25561937 -2.79858911]\n",
            " [-1.7715331  -0.69987723  0.92746243 -0.17363568  0.00284592]\n",
            " [ 0.68822271 -0.87953634  0.28362732 -0.80536652 -1.72766949]\n",
            " [-0.39089979  0.57380586  0.33858905 -0.01183049  2.39236527]\n",
            " [ 0.41291216  0.97873601  2.23814334 -1.29408532 -1.03878821]]\n"
          ],
          "name": "stdout"
        }
      ]
    },
    {
      "cell_type": "code",
      "metadata": {
        "id": "aL1zAaArNBuH"
      },
      "source": [
        "np.random.seed(123)\n",
        "# criar um array (500 X 1)\n",
        "X = np.random.randn(500)\n",
        "#print(X)"
      ],
      "execution_count": null,
      "outputs": []
    },
    {
      "cell_type": "markdown",
      "metadata": {
        "id": "ez_xh5NvNS91"
      },
      "source": [
        "### Gráficos com o Matplotlib\n",
        "\n",
        "O Matplotlib é uma biblioteca para a visualização de dados em Python. \n",
        "\n",
        "Veremos a Matplotlib com mais detalhes em outra aula.\n",
        "\n",
        "Aqui vamos apenas usá-lo para plotar histogramas (`plt.hist()`) das distribuições estudadas.\n",
        "\n",
        "A documentação do Matplolib pode ser acessada [aqui](https://matplotlib.org/)."
      ]
    },
    {
      "cell_type": "code",
      "metadata": {
        "id": "1pw0Mhn6NI9v"
      },
      "source": [
        "# Importar o Matplotlib\n",
        "import matplotlib.pyplot as plt\n",
        "%matplotlib inline  # esta função é importante no uso do IPython, permitindo a visualização e o armazenamento dos gráficos."
      ],
      "execution_count": null,
      "outputs": []
    },
    {
      "cell_type": "code",
      "metadata": {
        "colab": {
          "base_uri": "https://localhost:8080/",
          "height": 265
        },
        "id": "GF1uOIozLsmk",
        "outputId": "5fa67471-f0c3-4f66-f2b5-1fc890b41724"
      },
      "source": [
        "# Plotar um histograma dos dados acima\n",
        "plt.hist(X);"
      ],
      "execution_count": null,
      "outputs": [
        {
          "output_type": "display_data",
          "data": {
            "image/png": "[encoded data removed]",
            "text/plain": [
              "<Figure size 432x288 with 1 Axes>"
            ]
          },
          "metadata": {
            "tags": [],
            "needs_background": "light"
          }
        }
      ]
    },
    {
      "cell_type": "code",
      "metadata": {
        "colab": {
          "base_uri": "https://localhost:8080/"
        },
        "id": "GvpCr2Z1NN3i",
        "outputId": "a5310f49-33b3-4f65-d43b-e095e8c39d50"
      },
      "source": [
        "# média\n",
        "np.mean(X)"
      ],
      "execution_count": null,
      "outputs": [
        {
          "output_type": "execute_result",
          "data": {
            "text/plain": [
              "-0.038643973513210604"
            ]
          },
          "metadata": {
            "tags": []
          },
          "execution_count": 64
        }
      ]
    },
    {
      "cell_type": "code",
      "metadata": {
        "colab": {
          "base_uri": "https://localhost:8080/"
        },
        "id": "_4OznlpdN_Cr",
        "outputId": "d99c65e3-fada-481f-fe8c-8ff150dc9370"
      },
      "source": [
        "# variância\n",
        "np.var(X)"
      ],
      "execution_count": null,
      "outputs": [
        {
          "output_type": "execute_result",
          "data": {
            "text/plain": [
              "1.0064159706012088"
            ]
          },
          "metadata": {
            "tags": []
          },
          "execution_count": 65
        }
      ]
    },
    {
      "cell_type": "code",
      "metadata": {
        "colab": {
          "base_uri": "https://localhost:8080/"
        },
        "id": "57ugrHQsPc_C",
        "outputId": "a9407963-5e6a-4b52-d946-a8b7da919f54"
      },
      "source": [
        "# desvio-padrão\n",
        "np.std(X)"
      ],
      "execution_count": null,
      "outputs": [
        {
          "output_type": "execute_result",
          "data": {
            "text/plain": [
              "1.0032028561568238"
            ]
          },
          "metadata": {
            "tags": []
          },
          "execution_count": 66
        }
      ]
    },
    {
      "cell_type": "markdown",
      "metadata": {
        "id": "Pr6RAHykO_uo"
      },
      "source": [
        "### Experimento de Bernoulli e distribuição Binomial\n",
        "\n",
        "O módulo `binomial` retorna amostras de uma distribuição binomial com parâmetros, `n` (número de tentativas, $n \\geq 0$) e `p` (probabilidade de sucesso, $p \\in [0,1]$ ).\n",
        "\n",
        "O valor retornado é o número de sucessos nas `n` tentativas.\n",
        "\n",
        "```\n",
        "random.binomial(n = , p = p, size= N)\n",
        "```\n"
      ]
    },
    {
      "cell_type": "code",
      "metadata": {
        "id": "Qel4dcLvPCZY",
        "colab": {
          "base_uri": "https://localhost:8080/"
        },
        "outputId": "b75bbd39-c575-4767-cb1f-9d8f0da205ad"
      },
      "source": [
        "# Número de sucessos em 5 tentativas com p=0.5\n",
        "b = random.binomial(n=5, p=0.5)  \n",
        "print(b)"
      ],
      "execution_count": null,
      "outputs": [
        {
          "output_type": "stream",
          "text": [
            "4\n"
          ],
          "name": "stdout"
        }
      ]
    },
    {
      "cell_type": "code",
      "metadata": {
        "id": "Sog9ZORqPa7S",
        "colab": {
          "base_uri": "https://localhost:8080/"
        },
        "outputId": "6d9697ab-bd82-44eb-9b62-62cde53f06a9"
      },
      "source": [
        "# Número de sucessos em 5 tentativas com p=0.5. Experimento realizado 2 vezes.\n",
        "b = random.binomial(n=5, p=0.5, size=2)  \n",
        "print(b)"
      ],
      "execution_count": null,
      "outputs": [
        {
          "output_type": "stream",
          "text": [
            "[1 5]\n"
          ],
          "name": "stdout"
        }
      ]
    },
    {
      "cell_type": "code",
      "metadata": {
        "id": "dy5PvIr4NI6d"
      },
      "source": [
        "# Criar um array com amostras de uma v.a. binomial\n",
        "x = random.binomial(10, 0.5, 1000)"
      ],
      "execution_count": null,
      "outputs": []
    },
    {
      "cell_type": "code",
      "metadata": {
        "colab": {
          "base_uri": "https://localhost:8080/",
          "height": 265
        },
        "id": "htOwRcNaNRaW",
        "outputId": "8501c5bf-5250-4cfb-859a-1f4445993b6a"
      },
      "source": [
        "plt.hist(x);"
      ],
      "execution_count": null,
      "outputs": [
        {
          "output_type": "display_data",
          "data": {
            "image/png": "[encoded data removed]",
            "text/plain": [
              "<Figure size 432x288 with 1 Axes>"
            ]
          },
          "metadata": {
            "tags": [],
            "needs_background": "light"
          }
        }
      ]
    },
    {
      "cell_type": "code",
      "metadata": {
        "colab": {
          "base_uri": "https://localhost:8080/"
        },
        "id": "Map-YCKAN_EX",
        "outputId": "f66c8e8a-77e2-4cbe-9926-65dce912dee1"
      },
      "source": [
        "x.mean()"
      ],
      "execution_count": null,
      "outputs": [
        {
          "output_type": "execute_result",
          "data": {
            "text/plain": [
              "4.994"
            ]
          },
          "metadata": {
            "tags": []
          },
          "execution_count": 71
        }
      ]
    },
    {
      "cell_type": "markdown",
      "metadata": {
        "id": "jtNHPcrCQO82"
      },
      "source": [
        "Como estudamos no nosso curso, o processo de Bernoulli pode ser simulado como um processo gerador de dados de um binomial com `n=1`."
      ]
    },
    {
      "cell_type": "code",
      "metadata": {
        "colab": {
          "base_uri": "https://localhost:8080/"
        },
        "id": "epwQDwX4QgNX",
        "outputId": "a11df58f-75d0-459d-c380-3703600ff000"
      },
      "source": [
        "# Um processo de Bernoulli com p=0.5\n",
        "ber = random.binomial(n=1, p=0.5)  \n",
        "print(ber)"
      ],
      "execution_count": null,
      "outputs": [
        {
          "output_type": "stream",
          "text": [
            "0\n"
          ],
          "name": "stdout"
        }
      ]
    },
    {
      "cell_type": "code",
      "metadata": {
        "colab": {
          "base_uri": "https://localhost:8080/"
        },
        "id": "DBOiLtD4QwJz",
        "outputId": "e133c0de-ccef-4e75-d665-71286a8662e7"
      },
      "source": [
        "# Um processo de Bernoulli com p=0.5 repetido 5 vezes\n",
        "ber5 = random.binomial(n=1, p=0.5, size=5)  \n",
        "print(ber5)"
      ],
      "execution_count": null,
      "outputs": [
        {
          "output_type": "stream",
          "text": [
            "[1 1 1 0 1]\n"
          ],
          "name": "stdout"
        }
      ]
    },
    {
      "cell_type": "markdown",
      "metadata": {
        "id": "3roLEQzzLqBX"
      },
      "source": [
        "#### O método `choice()`\n",
        "\n",
        "O método `choice()` permite gerar um valor aleatório com base em um array de valores. O método usa um array como parâmetro e retorna aleatoriamente um dos valores.\n",
        "\n",
        "Em um primeiro exemplo, vamos simular o lançamento de uma moeda."
      ]
    },
    {
      "cell_type": "code",
      "metadata": {
        "colab": {
          "base_uri": "https://localhost:8080/",
          "height": 35
        },
        "id": "HcgRLSXFL1U_",
        "outputId": "1c608256-0f59-42d5-af7b-f4bd4502ba29"
      },
      "source": [
        "# lançamento de uma moeda\n",
        "moeda = [\"cara\", \"coroa\"]\n",
        "random.choice(moeda)"
      ],
      "execution_count": null,
      "outputs": [
        {
          "output_type": "execute_result",
          "data": {
            "application/vnd.google.colaboratory.intrinsic+json": {
              "type": "string"
            },
            "text/plain": [
              "'cara'"
            ]
          },
          "metadata": {
            "tags": []
          },
          "execution_count": 82
        }
      ]
    },
    {
      "cell_type": "code",
      "metadata": {
        "colab": {
          "base_uri": "https://localhost:8080/"
        },
        "id": "STG6jzF-MeZd",
        "outputId": "b31715a7-da61-43ab-92cf-1821e1cfa498"
      },
      "source": [
        "# 10 lançamentos de moeda\n",
        "random.choice(moeda, size=10)"
      ],
      "execution_count": null,
      "outputs": [
        {
          "output_type": "execute_result",
          "data": {
            "text/plain": [
              "array(['coroa', 'coroa', 'coroa', 'cara', 'coroa', 'cara', 'coroa',\n",
              "       'cara', 'cara', 'coroa'], dtype='<U5')"
            ]
          },
          "metadata": {
            "tags": []
          },
          "execution_count": 83
        }
      ]
    },
    {
      "cell_type": "code",
      "metadata": {
        "colab": {
          "base_uri": "https://localhost:8080/"
        },
        "id": "Er8EM-50MtNr",
        "outputId": "b8d4737c-a3e8-40ca-dfdd-3be2289e2df0"
      },
      "source": [
        "# Uma array aleatório de zeros e uns \n",
        "random.choice([0, 1], size=(3, 5))"
      ],
      "execution_count": null,
      "outputs": [
        {
          "output_type": "execute_result",
          "data": {
            "text/plain": [
              "array([[0, 1, 1, 1, 0],\n",
              "       [0, 0, 0, 1, 0],\n",
              "       [0, 0, 1, 1, 0]])"
            ]
          },
          "metadata": {
            "tags": []
          },
          "execution_count": 84
        }
      ]
    },
    {
      "cell_type": "markdown",
      "metadata": {
        "id": "JM3Dw34vPbNT"
      },
      "source": [
        "### Distribuição de Poisson\n",
        "Vimos que a distribuição de Poisson representa a contagem de ocorrências de um evento aleatório discreto em um intervalo contínuo (tempo, área ou volume).\n",
        "Sabemos também que essa distribuição depende de um único paramêtro: $\\lambda$.\n",
        "\n",
        "Usando o método `random` podemos simular eventos de uma distribuição de Poisson especificando o $\\lambda$ por meio do parâmetro `lam`.\n",
        "\n",
        "```\n",
        "random.poisson(lam, size)\n",
        "```\n"
      ]
    },
    {
      "cell_type": "code",
      "metadata": {
        "id": "RWRVO5WLPfAc",
        "colab": {
          "base_uri": "https://localhost:8080/"
        },
        "outputId": "3124bbbb-3c02-4655-a0a6-24647fd17bec"
      },
      "source": [
        "# Poisson com lambda=3\n",
        "random.poisson(lam=3, size=10)"
      ],
      "execution_count": null,
      "outputs": [
        {
          "output_type": "execute_result",
          "data": {
            "text/plain": [
              "array([4, 4, 4, 6, 3, 2, 2, 4, 4, 5])"
            ]
          },
          "metadata": {
            "tags": []
          },
          "execution_count": 40
        }
      ]
    },
    {
      "cell_type": "code",
      "metadata": {
        "id": "32XSJdr6UvIg"
      },
      "source": [
        "y = random.poisson(5, 1000)"
      ],
      "execution_count": null,
      "outputs": []
    },
    {
      "cell_type": "code",
      "metadata": {
        "colab": {
          "base_uri": "https://localhost:8080/",
          "height": 265
        },
        "id": "dO4gYTfAU5xr",
        "outputId": "40e4d284-a42d-4b37-850b-c6e751975f72"
      },
      "source": [
        "plt.hist(y);"
      ],
      "execution_count": null,
      "outputs": [
        {
          "output_type": "display_data",
          "data": {
            "image/png": "[encoded data removed]",
            "text/plain": [
              "<Figure size 432x288 with 1 Axes>"
            ]
          },
          "metadata": {
            "tags": [],
            "needs_background": "light"
          }
        }
      ]
    },
    {
      "cell_type": "markdown",
      "metadata": {
        "id": "hXP9gA-0PfvZ"
      },
      "source": [
        "### Distribuição Normal"
      ]
    },
    {
      "cell_type": "markdown",
      "metadata": {
        "id": "jAmapY8jVWr7"
      },
      "source": [
        "\n",
        "```\n",
        "random.normal(loc=mean, scale=standard deviation, size=N)\n",
        "```\n"
      ]
    },
    {
      "cell_type": "code",
      "metadata": {
        "id": "GnBKkjGHPidI"
      },
      "source": [
        "x = random.normal(10, 3, size=1000)"
      ],
      "execution_count": null,
      "outputs": []
    },
    {
      "cell_type": "code",
      "metadata": {
        "colab": {
          "base_uri": "https://localhost:8080/",
          "height": 265
        },
        "id": "wE1W7-U4Va9S",
        "outputId": "8f4c3c83-2a90-44ee-9511-a71098158b91"
      },
      "source": [
        "plt.hist(x);"
      ],
      "execution_count": null,
      "outputs": [
        {
          "output_type": "display_data",
          "data": {
            "image/png": "[encoded data removed]",
            "text/plain": [
              "<Figure size 432x288 with 1 Axes>"
            ]
          },
          "metadata": {
            "tags": [],
            "needs_background": "light"
          }
        }
      ]
    },
    {
      "cell_type": "code",
      "metadata": {
        "colab": {
          "base_uri": "https://localhost:8080/",
          "height": 265
        },
        "id": "FobH_WguVfHe",
        "outputId": "75d9bc33-7ee5-4445-d52c-2fc2705121a5"
      },
      "source": [
        "plt.hist(x, density=True);"
      ],
      "execution_count": null,
      "outputs": [
        {
          "output_type": "display_data",
          "data": {
            "image/png": "[encoded data removed]",
            "text/plain": [
              "<Figure size 432x288 with 1 Axes>"
            ]
          },
          "metadata": {
            "tags": [],
            "needs_background": "light"
          }
        }
      ]
    },
    {
      "cell_type": "code",
      "metadata": {
        "id": "YEAQt_szWkvK"
      },
      "source": [
        ""
      ],
      "execution_count": null,
      "outputs": []
    }
  ]
}