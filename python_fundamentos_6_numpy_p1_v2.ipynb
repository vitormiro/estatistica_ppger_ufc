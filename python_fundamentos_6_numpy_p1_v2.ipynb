{
  "nbformat": 4,
  "nbformat_minor": 0,
  "metadata": {
    "colab": {
      "name": "python_fundamentos_6_numpy_p1_v2.ipynb",
      "provenance": [],
      "collapsed_sections": [],
      "authorship_tag": "ABX9TyOojQkT9xDgn5IptulBlE6g",
      "include_colab_link": true
    },
    "kernelspec": {
      "name": "python3",
      "display_name": "Python 3"
    }
  },
  "cells": [
    {
      "cell_type": "markdown",
      "metadata": {
        "id": "view-in-github",
        "colab_type": "text"
      },
      "source": [
        "<a href=\"https://colab.research.google.com/github/vitormiro/estatistica_ppger_ufc/blob/main/python_fundamentos_6_numpy_p1_v2.ipynb\" target=\"_parent\"><img src=\"https://colab.research.google.com/assets/colab-badge.svg\" alt=\"Open In Colab\"/></a>"
      ]
    },
    {
      "cell_type": "markdown",
      "metadata": {
        "id": "LeUymkcMw4Oy"
      },
      "source": [
        "## NumPy (parte 2)"
      ]
    },
    {
      "cell_type": "code",
      "metadata": {
        "id": "UgxyHL-LoF74"
      },
      "source": [
        "# importar o NumPy\n",
        "import numpy as np"
      ],
      "execution_count": null,
      "outputs": []
    },
    {
      "cell_type": "markdown",
      "metadata": {
        "id": "ormhWZGhpupC"
      },
      "source": [
        "Vamos criar arrays de diferentes dimensões."
      ]
    },
    {
      "cell_type": "code",
      "metadata": {
        "id": "evEd1OcJoHhe"
      },
      "source": [
        "a = np.array(5)\n",
        "b = np.array([1, 2, 3, 4, 5])\n",
        "c = np.array([[1, 2, 3], [4, 5, 6]])\n",
        "d = np.array([[[1, 2, 3], [4, 5, 6]], [[1, 2, 3], [4, 5, 6]]])"
      ],
      "execution_count": null,
      "outputs": []
    },
    {
      "cell_type": "code",
      "metadata": {
        "id": "-nuTeKQDERQQ"
      },
      "source": [
        "print(a)"
      ],
      "execution_count": null,
      "outputs": []
    },
    {
      "cell_type": "code",
      "metadata": {
        "id": "7EZ5vCUJEWhY"
      },
      "source": [
        "print(b)"
      ],
      "execution_count": null,
      "outputs": []
    },
    {
      "cell_type": "code",
      "metadata": {
        "id": "NOCNN9cgEaG-"
      },
      "source": [
        "print(c)"
      ],
      "execution_count": null,
      "outputs": []
    },
    {
      "cell_type": "code",
      "metadata": {
        "id": "mhe9Ax06Ecjh"
      },
      "source": [
        "print(d)"
      ],
      "execution_count": null,
      "outputs": []
    },
    {
      "cell_type": "markdown",
      "metadata": {
        "id": "xULLWPbHp1AP"
      },
      "source": [
        "Verificar as dimensões com o método `.ndim`\n"
      ]
    },
    {
      "cell_type": "code",
      "metadata": {
        "id": "X2oq_7YAqBWR"
      },
      "source": [
        "print(a.ndim)\n",
        "print(b.ndim)\n",
        "print(c.ndim)\n",
        "print(d.ndim)"
      ],
      "execution_count": null,
      "outputs": []
    },
    {
      "cell_type": "markdown",
      "metadata": {
        "id": "ttHMrzo_qNjH"
      },
      "source": [
        "Vamos criar um array com 5 dimensões e verificar"
      ]
    },
    {
      "cell_type": "code",
      "metadata": {
        "id": "gDLOXLbwqRvJ"
      },
      "source": [
        "arr = np.array([1, 2, 3, 4], ndmin=5)\n",
        "\n",
        "print(arr)\n",
        "print('N. de dimensões :', arr.ndim)"
      ],
      "execution_count": null,
      "outputs": []
    },
    {
      "cell_type": "markdown",
      "metadata": {
        "id": "OaOA0SPyqoKH"
      },
      "source": [
        "### Indexando um array."
      ]
    },
    {
      "cell_type": "code",
      "metadata": {
        "id": "u2JGlIXJqpl9"
      },
      "source": [
        "# criar um array 1D\n",
        "arr1 = np.array([1, 2, 3, 4])\n",
        "print(arr1)"
      ],
      "execution_count": null,
      "outputs": []
    },
    {
      "cell_type": "code",
      "metadata": {
        "id": "1bqUAWRAr0hq"
      },
      "source": [
        "# imprimir o primeiro elemento indexado por [0]\n",
        "print(arr1[0])"
      ],
      "execution_count": null,
      "outputs": []
    },
    {
      "cell_type": "code",
      "metadata": {
        "id": "cTU-h_TNq9HH"
      },
      "source": [
        "# somar dois elementos\n",
        "print(arr1[2] + arr1[3])"
      ],
      "execution_count": null,
      "outputs": []
    },
    {
      "cell_type": "code",
      "metadata": {
        "id": "pchhfodKrM1r"
      },
      "source": [
        "# criar um array 2D\n",
        "arr2 = np.array([[1,2,3,4,5], [6,7,8,9,10]])\n",
        "print(arr2)\n",
        "\n",
        "# imprimir o 2º elemento na 1º dimensão\n",
        "print('O 2º elemento na 1º dimensão é: ', arr2[0, 1])"
      ],
      "execution_count": null,
      "outputs": []
    },
    {
      "cell_type": "code",
      "metadata": {
        "id": "VHy8DXE1sE9X"
      },
      "source": [
        "# imprimir o 4º elemento (indexado por 3) na 2º dimensão (indexada por 1)\n",
        "print('O 4º elemento na 2º dimensão é: ', arr2[1, 3])"
      ],
      "execution_count": null,
      "outputs": []
    },
    {
      "cell_type": "code",
      "metadata": {
        "id": "evLO4I8Dskp6"
      },
      "source": [
        "# criar um array 3D\n",
        "arr3 = np.array([[[1, 2, 3], [4, 5, 6]], [[7, 8, 9], [10, 11, 12]]])\n",
        "print(arr3)"
      ],
      "execution_count": null,
      "outputs": []
    },
    {
      "cell_type": "code",
      "metadata": {
        "id": "yjfi-aWPs-xO"
      },
      "source": [
        "# imprimir o 3º elemento (indexado por 2) da 2º dimensão (indexada por 1) do array 1 (indexado por 0)\n",
        "print(arr3[0, 1, 2])"
      ],
      "execution_count": null,
      "outputs": []
    },
    {
      "cell_type": "markdown",
      "metadata": {
        "id": "YRy8BEl2tmIA"
      },
      "source": [
        "## Vejamos algumas funções (métodos)\n"
      ]
    },
    {
      "cell_type": "markdown",
      "metadata": {
        "id": "HdbEU9zdDldu"
      },
      "source": [
        "A função arange cria um vetor contendo uma progressão aritmética a partir de um intervalo - start, stop, step\n"
      ]
    },
    {
      "cell_type": "code",
      "metadata": {
        "id": "F09kIQT7ts6i"
      },
      "source": [
        "# criar um array\n",
        "x = np.arange(1, 20, 2)\n",
        "x"
      ],
      "execution_count": null,
      "outputs": []
    },
    {
      "cell_type": "code",
      "metadata": {
        "id": "Iq5cYrWuEynB"
      },
      "source": [
        ""
      ],
      "execution_count": null,
      "outputs": []
    },
    {
      "cell_type": "code",
      "metadata": {
        "id": "6h0j7cYoEywu"
      },
      "source": [
        ""
      ],
      "execution_count": null,
      "outputs": []
    },
    {
      "cell_type": "markdown",
      "metadata": {
        "id": "GsNXkHnqEYPx"
      },
      "source": [
        "### Indexação e slicing"
      ]
    },
    {
      "cell_type": "code",
      "metadata": {
        "id": "HVKGvGPxt15k"
      },
      "source": [
        "# Fatiar do elemento indexado por 1 (2º elemento) ao 4 (5º elemento). Note que o \"stop\" é excluído.\n",
        "print(x[1:5])"
      ],
      "execution_count": null,
      "outputs": []
    },
    {
      "cell_type": "code",
      "metadata": {
        "id": "gZJBc22Jt2u9"
      },
      "source": [
        "# Fatiar do 5º elemento (indexado por 4) até o final\n",
        "print(x[4:])"
      ],
      "execution_count": null,
      "outputs": []
    },
    {
      "cell_type": "code",
      "metadata": {
        "id": "KPxinqqSu-_x"
      },
      "source": [
        "# Fatiar do elemento indexado por 0 (1º elemento) até o elemento 3 (4º elemento). Note que o \"stop\" é excluído.\n",
        "print(x[:4])"
      ],
      "execution_count": null,
      "outputs": []
    },
    {
      "cell_type": "markdown",
      "metadata": {
        "id": "0sn_xx90wTuP"
      },
      "source": [
        "Slicing de arrays 2D"
      ]
    },
    {
      "cell_type": "code",
      "metadata": {
        "id": "cgtcI4ujwK4Y"
      },
      "source": [
        "A = np.array([[1, 2, 3, 4, 5], [6, 7, 8, 9, 10]])\n",
        "\n",
        "# Do 1º array (indexado por 0), elementos indexados por 1 a 3 (4 é excluído)\n",
        "print(A[0, 1:4])"
      ],
      "execution_count": null,
      "outputs": []
    },
    {
      "cell_type": "code",
      "metadata": {
        "id": "AW3oMXh7wdUI"
      },
      "source": [
        "# De ambos os arrays, retorna o elementos indexado por 3\n",
        "print(A[0:2, 3])"
      ],
      "execution_count": null,
      "outputs": []
    },
    {
      "cell_type": "code",
      "metadata": {
        "id": "leJaabd9wn_x"
      },
      "source": [
        "# Dos dois arrays, fatia do elemento indexado por 1 ao 3.\n",
        "print(arr[0:2, 1:4])"
      ],
      "execution_count": null,
      "outputs": []
    },
    {
      "cell_type": "markdown",
      "metadata": {
        "id": "-tJ5ksOrtspE"
      },
      "source": [
        "## Verificando tipos de arrays\n",
        "\n",
        "Usamos o método .dtype\n",
        "\n",
        "i - integer\n",
        "\n",
        "b - boolean\n",
        "\n",
        "u - unsigned integer\n",
        "\n",
        "f - float\n",
        "\n",
        "c - complex float\n",
        "\n",
        "m - timedelta\n",
        "\n",
        "M - datetime\n",
        "\n",
        "O - object\n",
        "\n",
        "S - string\n",
        "\n",
        "U - unicode string\n",
        "\n",
        "V - fixed chunk of memory for other type ( void )\n"
      ]
    },
    {
      "cell_type": "code",
      "metadata": {
        "id": "N4pkGV7ByDb2"
      },
      "source": [
        "print(A.dtype)"
      ],
      "execution_count": null,
      "outputs": []
    },
    {
      "cell_type": "code",
      "metadata": {
        "id": "DqhL6RvZyReT"
      },
      "source": [
        "A = np.array(['apple', 'banana', 'cherry'])\n",
        "\n",
        "print(A.dtype)"
      ],
      "execution_count": null,
      "outputs": []
    },
    {
      "cell_type": "code",
      "metadata": {
        "id": "9-mCENbGySNl"
      },
      "source": [
        "A = np.array([1, 2, 3, 4], dtype='S')\n",
        "\n",
        "print(A)\n",
        "print(A.dtype)"
      ],
      "execution_count": null,
      "outputs": []
    },
    {
      "cell_type": "markdown",
      "metadata": {
        "id": "LlCRmlafzl9b"
      },
      "source": [
        "## Fazendo cópias\n",
        "\n",
        "Usando o método `.copy`. A cópia não é afetada por mudanças no original.\n",
        "\n",
        "Usando o método `.view`. A cópia é afetada por mudanças no original.\n"
      ]
    },
    {
      "cell_type": "code",
      "metadata": {
        "id": "ftaDOwVAznsL"
      },
      "source": [
        "arr = np.array([1, 2, 3, 4, 5])\n",
        "copia = arr.copy()\n",
        "arr[0] = 10\n",
        "\n",
        "print(arr)\n",
        "print(copia)"
      ],
      "execution_count": null,
      "outputs": []
    },
    {
      "cell_type": "code",
      "metadata": {
        "id": "9H1wmW7Wz7Cu"
      },
      "source": [
        "arr = np.array([1, 2, 3, 4, 5])\n",
        "copia = arr.view()\n",
        "arr[0] = 10\n",
        "\n",
        "print(arr)\n",
        "print(copia)"
      ],
      "execution_count": null,
      "outputs": []
    },
    {
      "cell_type": "markdown",
      "metadata": {
        "id": "meb4MB070tk4"
      },
      "source": [
        "## Verificando e alterando a forma do array\n",
        "\n",
        "Verificar com o método `.shape`.\n"
      ]
    },
    {
      "cell_type": "code",
      "metadata": {
        "id": "6k5JwOvT0uWk"
      },
      "source": [
        "\n",
        "arr = np.array([[1, 2, 3, 4], [5, 6, 7, 8]])\n",
        "print(arr)\n",
        "print(arr.shape)"
      ],
      "execution_count": null,
      "outputs": []
    },
    {
      "cell_type": "markdown",
      "metadata": {
        "id": "HnVSvxhn1UjA"
      },
      "source": [
        "Alterar com o `.reshape`."
      ]
    },
    {
      "cell_type": "code",
      "metadata": {
        "id": "PJ7sMmN81NAS"
      },
      "source": [
        "# Converter o array 1D com 12 elementos em um array 2D\n",
        "arr = np.array([1, 2, 3, 4, 5, 6, 7, 8, 9, 10, 11, 12])\n",
        "\n",
        "newarr = arr.reshape(4, 3)   # A dimensão mais externa terá 4 arrays, cada um com 3 elementos\n",
        "\n",
        "print(newarr)"
      ],
      "execution_count": null,
      "outputs": []
    },
    {
      "cell_type": "code",
      "metadata": {
        "id": "QSs_ANqE1MH7"
      },
      "source": [
        "# Converter o array 1D com 12 elementos em um array 3D\n",
        "arr = np.array([1, 2, 3, 4, 5, 6, 7, 8, 9, 10, 11, 12])\n",
        "\n",
        "newarr = arr.reshape(2, 3, 2)   # A dimensão mais externa terá 2 arrays, cada um com 3 arrays \"internos\", e cada array \"interno\" com 2 elementos\n",
        "\n",
        "print(newarr)"
      ],
      "execution_count": null,
      "outputs": []
    },
    {
      "cell_type": "markdown",
      "metadata": {
        "id": "SQWcPQB31zTF"
      },
      "source": [
        "Podemos comprimir um array, ou seja, converter um array de dimensão N em um array de dimensão N-1."
      ]
    },
    {
      "cell_type": "code",
      "metadata": {
        "id": "aj8wi1IU1ytG"
      },
      "source": [
        "# converter uma array 2D em um array 1D.\n",
        "arr = np.array([[1, 2, 3], [4, 5, 6]])\n",
        "\n",
        "newarr = arr.reshape(-1)\n",
        "\n",
        "print(newarr)"
      ],
      "execution_count": null,
      "outputs": []
    },
    {
      "cell_type": "markdown",
      "metadata": {
        "id": "dXcw4JvPQRhW"
      },
      "source": [
        "**Concatenar arrays**\n",
        "\n",
        "Usamos o método `concatenate()`. Informamos uma sequência de arrays que queremos concatenar, juntamente com o eixo. Se o eixo não for informado explicitamente, será considerado como 0."
      ]
    },
    {
      "cell_type": "code",
      "metadata": {
        "id": "-x7EMOnQQQzm"
      },
      "source": [
        "arr1 = np.array([1, 2, 3])\n",
        "\n",
        "arr2 = np.array([4, 5, 6])\n",
        "\n",
        "arr = np.concatenate((arr1, arr2))\n",
        "\n",
        "print(arr)"
      ],
      "execution_count": null,
      "outputs": []
    },
    {
      "cell_type": "code",
      "metadata": {
        "id": "6PNrgL7-QQUj"
      },
      "source": [
        "# Unir duas matrizes 2D ao longo das linhas (eixo = 1)\n",
        "\n",
        "arr1 = np.array([[1, 2], [3, 4]])\n",
        "print(arr1)\n",
        "\n",
        "arr2 = np.array([[5, 6], [7, 8]])\n",
        "print(arr2)\n",
        "\n",
        "arr = np.concatenate((arr1, arr2), axis=1)\n",
        "print(arr)"
      ],
      "execution_count": null,
      "outputs": []
    },
    {
      "cell_type": "markdown",
      "metadata": {
        "id": "XAOhe2UqSIjL"
      },
      "source": [
        "Concatenar um array 2D"
      ]
    },
    {
      "cell_type": "code",
      "metadata": {
        "id": "xT6VqtGPSLjt"
      },
      "source": [
        "arr1 = np.array([[1, 2], [3, 4]])\n",
        "print(arr1)\n",
        "\n",
        "arr2 = np.array([[5, 6], [7, 8]])\n",
        "print(arr2)\n",
        "\n",
        "arr = np.concatenate((arr1, arr2), axis=0)\n",
        "print(arr)"
      ],
      "execution_count": null,
      "outputs": []
    },
    {
      "cell_type": "markdown",
      "metadata": {
        "id": "5HYm_m4BReOj"
      },
      "source": [
        "**Empilhar**\n",
        "\n",
        "Empilhamento com o método `stack()`."
      ]
    },
    {
      "cell_type": "code",
      "metadata": {
        "id": "g7fN9VwwRdPD"
      },
      "source": [
        "arr1 = np.array([1, 2, 3])\n",
        "\n",
        "arr2 = np.array([4, 5, 6])\n",
        "\n",
        "arr = np.stack((arr1, arr2), axis=1)\n",
        "\n",
        "print(arr)"
      ],
      "execution_count": null,
      "outputs": []
    },
    {
      "cell_type": "markdown",
      "metadata": {
        "id": "Q1aX5q8XRv7v"
      },
      "source": [
        "Empilhamento em linhas com `hstack()`."
      ]
    },
    {
      "cell_type": "code",
      "metadata": {
        "id": "o_xz_vhJR1DQ"
      },
      "source": [
        "arr1 = np.array([1, 2, 3])\n",
        "\n",
        "arr2 = np.array([4, 5, 6])\n",
        "\n",
        "arr = np.hstack((arr1, arr2))\n",
        "\n",
        "print(arr)"
      ],
      "execution_count": null,
      "outputs": []
    },
    {
      "cell_type": "markdown",
      "metadata": {
        "id": "ZikY1iWOR4Zk"
      },
      "source": [
        "Empilhamento em colunas com `vstack()`."
      ]
    },
    {
      "cell_type": "code",
      "metadata": {
        "id": "JuOZmTceR9Y3"
      },
      "source": [
        "arr1 = np.array([1, 2, 3])\n",
        "\n",
        "arr2 = np.array([4, 5, 6])\n",
        "\n",
        "arr = np.vstack((arr1, arr2))\n",
        "\n",
        "print(arr)"
      ],
      "execution_count": null,
      "outputs": []
    },
    {
      "cell_type": "markdown",
      "metadata": {
        "id": "8_b6H63bQCGx"
      },
      "source": [
        "**Separação ou divisão de arrays**\n",
        "\n",
        "A separação/divisão é a operação inversa da união.\n",
        "Usamos `array_split()` para dividir arrays. Informações o array que queremos dividir e o número de divisões."
      ]
    },
    {
      "cell_type": "code",
      "metadata": {
        "id": "pNDKcgsu2Jie"
      },
      "source": [
        "arr = np.array([1, 2, 3, 4, 5, 6])\n",
        "\n",
        "newarr = np.array_split(arr, 3)\n",
        "\n",
        "print(newarr)"
      ],
      "execution_count": null,
      "outputs": []
    },
    {
      "cell_type": "markdown",
      "metadata": {
        "id": "M0MRND7oSiyv"
      },
      "source": [
        "Divisão de um array 2D"
      ]
    },
    {
      "cell_type": "code",
      "metadata": {
        "id": "e4Wx1N9sSlT6"
      },
      "source": [
        "arr = np.array([[1, 2], [3, 4], [5, 6], [7, 8], [9, 10], [11, 12]])\n",
        "\n",
        "newarr = np.array_split(arr, 3)\n",
        "\n",
        "print(newarr)"
      ],
      "execution_count": null,
      "outputs": []
    },
    {
      "cell_type": "code",
      "metadata": {
        "id": "KnKQgj5ISl34"
      },
      "source": [
        "print(newarr[0])"
      ],
      "execution_count": null,
      "outputs": []
    },
    {
      "cell_type": "markdown",
      "metadata": {
        "id": "uNfOwyY4TC0q"
      },
      "source": [
        "**Ordenamento**\n",
        "\n",
        "Usamos o método `sort()` para colocar elementos em uma sequência ordenada ."
      ]
    },
    {
      "cell_type": "code",
      "metadata": {
        "id": "TzY6ink4SvnL"
      },
      "source": [
        "arr = np.array([3, 2, 0, 1])\n",
        "print(arr)\n",
        "print(np.sort(arr))"
      ],
      "execution_count": null,
      "outputs": []
    },
    {
      "cell_type": "markdown",
      "metadata": {
        "id": "8kXRdDnRTWz_"
      },
      "source": [
        "Em um array de strings, a ordem é alfabética."
      ]
    },
    {
      "cell_type": "code",
      "metadata": {
        "id": "yo7xuSM9TSPS"
      },
      "source": [
        "arr = np.array(['banana', 'cherry', 'apple'])\n",
        "\n",
        "print(np.sort(arr))"
      ],
      "execution_count": null,
      "outputs": []
    },
    {
      "cell_type": "markdown",
      "metadata": {
        "id": "97C9v2K5Tkr7"
      },
      "source": [
        "Se você usar o método `sort ()` em um array 2D, ambas os arrays serão ordenados:"
      ]
    },
    {
      "cell_type": "code",
      "metadata": {
        "id": "TXtif7thTeQ9"
      },
      "source": [
        "arr = np.array([[3, 2, 4], [5, 0, 1]])\n",
        "print(arr)\n",
        "print(np.sort(arr))"
      ],
      "execution_count": null,
      "outputs": []
    },
    {
      "cell_type": "code",
      "metadata": {
        "id": "RB6XV4okF4vw"
      },
      "source": [
        ""
      ],
      "execution_count": null,
      "outputs": []
    },
    {
      "cell_type": "code",
      "metadata": {
        "id": "JYeXtSoPF4yr"
      },
      "source": [
        ""
      ],
      "execution_count": null,
      "outputs": []
    },
    {
      "cell_type": "markdown",
      "metadata": {
        "id": "biRGk94eF6PC"
      },
      "source": [
        "## Estatística"
      ]
    },
    {
      "cell_type": "code",
      "metadata": {
        "id": "srR9YfoDF41c"
      },
      "source": [
        "# Criando um array\n",
        "A = np.array([15, 23, 63, 94, 75])"
      ],
      "execution_count": null,
      "outputs": []
    },
    {
      "cell_type": "code",
      "metadata": {
        "id": "CiQ7pDbCF43h"
      },
      "source": [
        "# média\n",
        "np.mean(A)"
      ],
      "execution_count": null,
      "outputs": []
    },
    {
      "cell_type": "code",
      "metadata": {
        "id": "H2un0ScCGH6T"
      },
      "source": [
        "# Variância\n",
        "np.var(A)"
      ],
      "execution_count": null,
      "outputs": []
    },
    {
      "cell_type": "code",
      "metadata": {
        "id": "twCNdp0MF46u"
      },
      "source": [
        "# desvio-padrão\n",
        "np.std(A)"
      ],
      "execution_count": null,
      "outputs": []
    },
    {
      "cell_type": "code",
      "metadata": {
        "id": "_rGHQVAuF476"
      },
      "source": [
        "# Criar um array com arange\n",
        "z = np.arange(1, 10)"
      ],
      "execution_count": null,
      "outputs": []
    },
    {
      "cell_type": "code",
      "metadata": {
        "id": "x2emJn6uGRcy"
      },
      "source": [
        "# soma dos elementos do array\n",
        "np.sum(z)"
      ],
      "execution_count": null,
      "outputs": []
    },
    {
      "cell_type": "code",
      "metadata": {
        "id": "p4eu932hGUx_"
      },
      "source": [
        "# produto dos elementos do array\n",
        "np.prod(z)"
      ],
      "execution_count": null,
      "outputs": []
    },
    {
      "cell_type": "code",
      "metadata": {
        "id": "TCpvoe9xGcv4"
      },
      "source": [
        "# Soma acumulada dos elementos\n",
        "np.cumsum(z)"
      ],
      "execution_count": null,
      "outputs": []
    },
    {
      "cell_type": "markdown",
      "metadata": {
        "id": "T5H-Q_ZmGtr6"
      },
      "source": [
        "## Gerador de números aleatórios"
      ]
    },
    {
      "cell_type": "code",
      "metadata": {
        "id": "ZhC2BKfoGspZ"
      },
      "source": [
        "#"
      ],
      "execution_count": null,
      "outputs": []
    },
    {
      "cell_type": "markdown",
      "metadata": {
        "id": "enBLO5eVICjd"
      },
      "source": [
        "Retorna números inteiros aleatórios de uma distribuição discreta uniforme."
      ]
    },
    {
      "cell_type": "code",
      "metadata": {
        "id": "s0HiLqFwGhDp"
      },
      "source": [
        "np.random.randint(2, size=10)"
      ],
      "execution_count": null,
      "outputs": []
    },
    {
      "cell_type": "code",
      "metadata": {
        "id": "YiIDVGZKIVIt"
      },
      "source": [
        ""
      ],
      "execution_count": null,
      "outputs": []
    }
  ]
}