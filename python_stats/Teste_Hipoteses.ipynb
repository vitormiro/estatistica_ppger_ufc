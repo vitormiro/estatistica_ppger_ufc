{
 "cells": [
  {
   "cell_type": "markdown",
   "metadata": {
    "id": "gC2A6ztLdfMG"
   },
   "source": [
    "# Teste de Hipóteses\n",
    "\n",
    "> Uma **hipótese estatística** é uma suposição quanto ao valor de um parâmetro populacional (ou conjunto de parâmetros), quanto à comparação de parâmetros ou quanto à natureza da distribuição de probabilidade de uma variável populacional.\n",
    "\n",
    "> Um **teste de hipótese** é um procedimento para estabelecer regras de decisão para aceitar ou rejeitar uma hipótese estatística com base nos dados amostrais, os quais fornecem evidências para a aceitação ou rejeição da hipótese.\n"
   ]
  },
  {
   "cell_type": "code",
   "execution_count": 1,
   "metadata": {
    "id": "StaoQ7FFdfMH"
   },
   "outputs": [],
   "source": [
    "# Carregar bibliotecas necessárias\n",
    "import numpy as np\n",
    "import pandas as pd\n",
    "import matplotlib.pyplot as plt\n",
    "\n",
    "import scipy.stats as stats"
   ]
  },
  {
   "cell_type": "markdown",
   "metadata": {
    "id": "ZEPz4Eb2dfMI"
   },
   "source": [
    "Aqui vamos estabelecer o procedimento de testes de hipóteses seguindo uma sequência de etapas:\n",
    "\n",
    "- **Passo 1** - Definir parâmetro de interesse e formular as hipóteses $H_0$ e $H_1$. A partir do contexto do problema, identifique o parâmetro de interesse e especifique a hipótese nula, $H_0$, e uma hipótese alternativa apropriada, $H_1$.\n",
    "\n",
    "- **Passo 2** - Determinar a estatística de teste apropriada (e sua distribuição). A estatística de teste é baseada no conhecimento prévio da distribuição e no tamanho da amostra.\n",
    "\n",
    "- **Passo 3** - Definir o nível de significância do teste ($\\alpha$). O nível de signifiância é importante para a definição da margem de erro e das regiões de rejeição ou não da hipótese.\n",
    "\n",
    "- **Passo 4** - Cálculo da estatística-teste e definição da região de rejeição do teste.\n",
    "\n",
    "- **Passo 5** - Interpretação e decisão: H0 deve ou não ser rejeitada."
   ]
  },
  {
   "cell_type": "markdown",
   "metadata": {
    "id": "AjjUBuirdfMI"
   },
   "source": [
    "Vamos aplicar esses passos em diferentes exemplos."
   ]
  },
  {
   "cell_type": "markdown",
   "metadata": {
    "id": "94g4SzCAdfMI"
   },
   "source": [
    "## Teste de hipótese para a média, com variância conhecida\n",
    "\n",
    "Vamos simular uma população fingindo não conhecer a média, com variância conhecidada de $\\sigma^2=100$ (desvio-padrão $\\sigma=10$)."
   ]
  },
  {
   "cell_type": "code",
   "execution_count": 2,
   "metadata": {
    "id": "I0x1dYCwdfMJ"
   },
   "outputs": [],
   "source": [
    "# semente aleatória\n",
    "np.random.seed(123)\n",
    "\n",
    "# Simular uma população com média = 80 e desvio-padrão = 10\n",
    "X = np.random.normal(80, 10, 1000)\n",
    "\n",
    "dp=10"
   ]
  },
  {
   "cell_type": "markdown",
   "metadata": {
    "id": "oWE9xO3KdfMJ"
   },
   "source": [
    "Vamos considerar uma amostra com $n = 40$."
   ]
  },
  {
   "cell_type": "code",
   "execution_count": 3,
   "metadata": {
    "colab": {
     "base_uri": "https://localhost:8080/"
    },
    "id": "NMmokDRwdfMJ",
    "outputId": "f435b381-3429-4c95-894f-72c5a305529a"
   },
   "outputs": [
    {
     "data": {
      "text/plain": [
       "array([80.20315998, 84.25335857, 68.83435166, 67.26429763, 79.4639054 ,\n",
       "       79.75374019, 60.74413109, 61.04824407, 80.47002445, 80.81490899,\n",
       "       91.50205543, 92.58721303, 69.25233407, 84.1291216 , 80.23372343,\n",
       "       69.59837119, 95.34090289, 76.67524725, 98.15652064, 83.43257981,\n",
       "       76.02636508, 82.78683517, 79.04347256, 59.91414532, 88.87766069,\n",
       "       77.93337697, 75.65648724, 71.75499425, 84.56270895, 58.77701117,\n",
       "       76.45091168, 87.42686221, 74.02144919, 98.62927585, 81.09403156,\n",
       "       77.71965462, 81.13755973, 92.31871789, 77.54402334, 82.47979885])"
      ]
     },
     "execution_count": 3,
     "metadata": {},
     "output_type": "execute_result"
    }
   ],
   "source": [
    "# Amostra com n=40\n",
    "n=40\n",
    "\n",
    "# Selecionar uma amostra da população simulada\n",
    "amostra = np.random.choice(X, n)\n",
    "amostra"
   ]
  },
  {
   "cell_type": "markdown",
   "metadata": {
    "id": "4lQnw-9bdfMJ"
   },
   "source": [
    "Vamos calcular a média amostral"
   ]
  },
  {
   "cell_type": "code",
   "execution_count": 4,
   "metadata": {
    "colab": {
     "base_uri": "https://localhost:8080/"
    },
    "id": "A1eoncNPdfMJ",
    "outputId": "b17dfcfe-ec47-4a04-843b-806950e980c2"
   },
   "outputs": [
    {
     "data": {
      "text/plain": [
       "79.19783834198316"
      ]
     },
     "execution_count": 4,
     "metadata": {},
     "output_type": "execute_result"
    }
   ],
   "source": [
    "# Cálculo da média\n",
    "media = amostra.mean()\n",
    "media"
   ]
  },
  {
   "cell_type": "markdown",
   "metadata": {
    "id": "ymEOqKKUdfMJ"
   },
   "source": [
    "#### Passo 1 - Definir parâmetro de interesse e formular as hipóteses $H_0$ e $H_1$\n",
    "\n",
    "Suponha que uma pesquisa prévia tenha obtido média estimada de 78.\n",
    "Assim, vamos assumir uma hipótese de que $\\mu=78$.\n",
    "\n",
    "**$H_0: \\mu = 78$**\n",
    "\n",
    "**$H_1: \\mu \\neq 78$**"
   ]
  },
  {
   "cell_type": "code",
   "execution_count": 5,
   "metadata": {
    "id": "IzHPTER0dfMK"
   },
   "outputs": [],
   "source": [
    "# Definir H0\n",
    "m_H0 = 78"
   ]
  },
  {
   "cell_type": "markdown",
   "metadata": {
    "id": "7oNfm0fadfMK"
   },
   "source": [
    "#### Passo 2 - Determinar a estatística de teste adequada (e sua distribuição).\n",
    "\n",
    "Com o valor conhecido de $\\sigma=10$ desconhecido, utilizaremos a estatística de teste Z (que tem distribuição normal padrão)."
   ]
  },
  {
   "cell_type": "markdown",
   "metadata": {
    "id": "x69rVodkdfMK"
   },
   "source": [
    "#### Passo 3 - Definir o nível de significância do teste ($\\alpha$)"
   ]
  },
  {
   "cell_type": "code",
   "execution_count": 6,
   "metadata": {
    "id": "e9Rtu2LvdfMK"
   },
   "outputs": [],
   "source": [
    "# Importar módulo 'norm' do 'scipy.stats'\n",
    "from scipy.stats import norm\n",
    "\n",
    "# Definir nível de significância\n",
    "alfa = 0.01\n",
    "\n",
    "# Definir coeficiente de confiança\n",
    "cconf = 1 - alfa"
   ]
  },
  {
   "cell_type": "code",
   "execution_count": 7,
   "metadata": {
    "colab": {
     "base_uri": "https://localhost:8080/"
    },
    "id": "LicDgwySdfMK",
    "outputId": "61199335-6a06-4108-f876-74e73b3dd4fa"
   },
   "outputs": [
    {
     "data": {
      "text/plain": [
       "0.995"
      ]
     },
     "execution_count": 7,
     "metadata": {},
     "output_type": "execute_result"
    }
   ],
   "source": [
    "# Probabilidade\n",
    "prob = (0.5 + (cconf / 2))\n",
    "prob"
   ]
  },
  {
   "cell_type": "markdown",
   "metadata": {
    "id": "lg6O8AXadfMK"
   },
   "source": [
    "**Obtendo $z_{\\alpha/2}$**"
   ]
  },
  {
   "cell_type": "code",
   "execution_count": 8,
   "metadata": {
    "colab": {
     "base_uri": "https://localhost:8080/"
    },
    "id": "MikDVn1YdfMK",
    "outputId": "83bb7d2b-83c2-43df-c6a7-2756e3225941"
   },
   "outputs": [
    {
     "data": {
      "text/plain": [
       "2.5758"
      ]
     },
     "execution_count": 8,
     "metadata": {},
     "output_type": "execute_result"
    }
   ],
   "source": [
    "# valor crítico\n",
    "z_alfa_2 = norm.ppf(prob)\n",
    "round(z_alfa_2, 4)"
   ]
  },
  {
   "cell_type": "markdown",
   "metadata": {
    "id": "Ho9pTPdzdfMK"
   },
   "source": [
    "#### Passo 4 - Cálculo da estatística-teste e definição da região de rejeição do teste\n",
    "\n",
    "$$z = \\frac{\\bar{x} - \\mu_0}{s/ \\sqrt{n}}$$"
   ]
  },
  {
   "cell_type": "code",
   "execution_count": 9,
   "metadata": {
    "colab": {
     "base_uri": "https://localhost:8080/"
    },
    "id": "txOUGb2mdfML",
    "outputId": "69207a03-169c-46d9-c79c-b7a22cb0b4bc"
   },
   "outputs": [
    {
     "data": {
      "text/plain": [
       "0.757579485869294"
      ]
     },
     "execution_count": 9,
     "metadata": {},
     "output_type": "execute_result"
    }
   ],
   "source": [
    "# Estatística de teste\n",
    "z = (media - m_H0) / (dp / np.sqrt(n))\n",
    "z"
   ]
  },
  {
   "cell_type": "markdown",
   "metadata": {
    "id": "kW8FjNN2dfML"
   },
   "source": [
    "#### Passo 5. Decisão (pelo critério do valor crítico). \n",
    "\n",
    "> **Teste Bicaudal** \n",
    "\n",
    "> Rejeitar $H_0$ se **$z \\leq -z_{\\alpha / 2}$** ou se **$z \\geq z_{\\alpha / 2}$**."
   ]
  },
  {
   "cell_type": "code",
   "execution_count": 10,
   "metadata": {
    "colab": {
     "base_uri": "https://localhost:8080/"
    },
    "id": "RcGc0LLddfML",
    "outputId": "1232b5f7-bc9c-4211-d049-c230c4ad901c"
   },
   "outputs": [
    {
     "data": {
      "text/plain": [
       "False"
      ]
     },
     "execution_count": 10,
     "metadata": {},
     "output_type": "execute_result"
    }
   ],
   "source": [
    "# Verificar se a estatísitica de teste está na região de rejeição - cauda inferior\n",
    "z <= - z_alfa_2"
   ]
  },
  {
   "cell_type": "code",
   "execution_count": 11,
   "metadata": {
    "colab": {
     "base_uri": "https://localhost:8080/"
    },
    "id": "iz2Osj8gdfML",
    "outputId": "6275a757-3140-4c12-e839-c2b818b15c99"
   },
   "outputs": [
    {
     "data": {
      "text/plain": [
       "False"
      ]
     },
     "execution_count": 11,
     "metadata": {},
     "output_type": "execute_result"
    }
   ],
   "source": [
    "# Verificar se a estatísitica de teste está na região de rejeição - cauda superior\n",
    "z >= z_alfa_2"
   ]
  },
  {
   "cell_type": "markdown",
   "metadata": {
    "id": "BqFSwBbNdfML"
   },
   "source": [
    "Decisão: Considerando um nível de significância de 5%, **não** temos evidências suficientes para rejeitar $H_0$."
   ]
  },
  {
   "cell_type": "markdown",
   "metadata": {
    "id": "EskX9DtndfMM"
   },
   "source": [
    "## Teste de hipótese para a média, variância conhecida e amostra grande"
   ]
  },
  {
   "cell_type": "markdown",
   "metadata": {
    "id": "iyzcWW5qdfMM"
   },
   "source": [
    "\n",
    "**EXEMPLO**\n",
    "\n",
    "Amostra com 50 observações ($n=50$).\n",
    "\n",
    "Suposição: $\\mu = 500$.\n",
    "\n",
    "amostra = [509, 505, 495, 510, 496, 509, 497, 502, 503, 505, \n",
    "           501, 505, 510, 505, 504, 497, 506, 506, 508, 505, \n",
    "           497, 504, 500, 498, 506, 496, 508, 497, 503, 501, \n",
    "           503, 506, 499, 498, 509, 507, 503, 499, 509, 495, \n",
    "           502, 505, 504, 509, 508, 501, 505, 497, 508, 507]"
   ]
  },
  {
   "cell_type": "code",
   "execution_count": 12,
   "metadata": {
    "id": "-o2iGmnvdfMM"
   },
   "outputs": [],
   "source": [
    "# Estabelecer amostra com dados observados em uma lista\n",
    "amostra = [509, 505, 495, 510, 496, 509, 497, 502, 503, 505, \n",
    "           501, 505, 510, 505, 504, 497, 506, 506, 508, 505, \n",
    "           497, 504, 500, 498, 506, 496, 508, 497, 503, 501, \n",
    "           503, 506, 499, 498, 509, 507, 503, 499, 509, 495, \n",
    "           502, 505, 504, 509, 508, 501, 505, 497, 508, 507]"
   ]
  },
  {
   "cell_type": "markdown",
   "metadata": {
    "id": "o89rsg4EdfMM"
   },
   "source": [
    "Vou transformar este conjunto de dados em um Data Frame do Pandas."
   ]
  },
  {
   "cell_type": "code",
   "execution_count": 13,
   "metadata": {
    "colab": {
     "base_uri": "https://localhost:8080/"
    },
    "id": "ONS3neb5dfMM",
    "outputId": "ac1f5869-9024-427f-bc90-48ac4d17c49c"
   },
   "outputs": [
    {
     "data": {
      "text/plain": [
       "(50, 1)"
      ]
     },
     "execution_count": 13,
     "metadata": {},
     "output_type": "execute_result"
    }
   ],
   "source": [
    "# Transformar amostra de lista para Data Frame\n",
    "amostra = pd.DataFrame(amostra, columns=['Amostra'])\n",
    "amostra.shape"
   ]
  },
  {
   "cell_type": "code",
   "execution_count": 14,
   "metadata": {
    "id": "WpXqNb8VdfMM"
   },
   "outputs": [],
   "source": [
    "# número de observações (linhas)\n",
    "n = amostra.shape[0]"
   ]
  },
  {
   "cell_type": "code",
   "execution_count": 15,
   "metadata": {
    "colab": {
     "base_uri": "https://localhost:8080/",
     "height": 1000
    },
    "id": "k6RJCjTNdfMM",
    "outputId": "33eddaee-1e36-48ba-cac8-29a0849fbff8"
   },
   "outputs": [
    {
     "data": {
      "text/html": [
       "<div>\n",
       "<style scoped>\n",
       "    .dataframe tbody tr th:only-of-type {\n",
       "        vertical-align: middle;\n",
       "    }\n",
       "\n",
       "    .dataframe tbody tr th {\n",
       "        vertical-align: top;\n",
       "    }\n",
       "\n",
       "    .dataframe thead th {\n",
       "        text-align: right;\n",
       "    }\n",
       "</style>\n",
       "<table border=\"1\" class=\"dataframe\">\n",
       "  <thead>\n",
       "    <tr style=\"text-align: right;\">\n",
       "      <th></th>\n",
       "      <th>Amostra</th>\n",
       "    </tr>\n",
       "  </thead>\n",
       "  <tbody>\n",
       "    <tr>\n",
       "      <th>0</th>\n",
       "      <td>509</td>\n",
       "    </tr>\n",
       "    <tr>\n",
       "      <th>1</th>\n",
       "      <td>505</td>\n",
       "    </tr>\n",
       "    <tr>\n",
       "      <th>2</th>\n",
       "      <td>495</td>\n",
       "    </tr>\n",
       "    <tr>\n",
       "      <th>3</th>\n",
       "      <td>510</td>\n",
       "    </tr>\n",
       "    <tr>\n",
       "      <th>4</th>\n",
       "      <td>496</td>\n",
       "    </tr>\n",
       "    <tr>\n",
       "      <th>5</th>\n",
       "      <td>509</td>\n",
       "    </tr>\n",
       "    <tr>\n",
       "      <th>6</th>\n",
       "      <td>497</td>\n",
       "    </tr>\n",
       "    <tr>\n",
       "      <th>7</th>\n",
       "      <td>502</td>\n",
       "    </tr>\n",
       "    <tr>\n",
       "      <th>8</th>\n",
       "      <td>503</td>\n",
       "    </tr>\n",
       "    <tr>\n",
       "      <th>9</th>\n",
       "      <td>505</td>\n",
       "    </tr>\n",
       "    <tr>\n",
       "      <th>10</th>\n",
       "      <td>501</td>\n",
       "    </tr>\n",
       "    <tr>\n",
       "      <th>11</th>\n",
       "      <td>505</td>\n",
       "    </tr>\n",
       "    <tr>\n",
       "      <th>12</th>\n",
       "      <td>510</td>\n",
       "    </tr>\n",
       "    <tr>\n",
       "      <th>13</th>\n",
       "      <td>505</td>\n",
       "    </tr>\n",
       "    <tr>\n",
       "      <th>14</th>\n",
       "      <td>504</td>\n",
       "    </tr>\n",
       "    <tr>\n",
       "      <th>15</th>\n",
       "      <td>497</td>\n",
       "    </tr>\n",
       "    <tr>\n",
       "      <th>16</th>\n",
       "      <td>506</td>\n",
       "    </tr>\n",
       "    <tr>\n",
       "      <th>17</th>\n",
       "      <td>506</td>\n",
       "    </tr>\n",
       "    <tr>\n",
       "      <th>18</th>\n",
       "      <td>508</td>\n",
       "    </tr>\n",
       "    <tr>\n",
       "      <th>19</th>\n",
       "      <td>505</td>\n",
       "    </tr>\n",
       "    <tr>\n",
       "      <th>20</th>\n",
       "      <td>497</td>\n",
       "    </tr>\n",
       "    <tr>\n",
       "      <th>21</th>\n",
       "      <td>504</td>\n",
       "    </tr>\n",
       "    <tr>\n",
       "      <th>22</th>\n",
       "      <td>500</td>\n",
       "    </tr>\n",
       "    <tr>\n",
       "      <th>23</th>\n",
       "      <td>498</td>\n",
       "    </tr>\n",
       "    <tr>\n",
       "      <th>24</th>\n",
       "      <td>506</td>\n",
       "    </tr>\n",
       "    <tr>\n",
       "      <th>25</th>\n",
       "      <td>496</td>\n",
       "    </tr>\n",
       "    <tr>\n",
       "      <th>26</th>\n",
       "      <td>508</td>\n",
       "    </tr>\n",
       "    <tr>\n",
       "      <th>27</th>\n",
       "      <td>497</td>\n",
       "    </tr>\n",
       "    <tr>\n",
       "      <th>28</th>\n",
       "      <td>503</td>\n",
       "    </tr>\n",
       "    <tr>\n",
       "      <th>29</th>\n",
       "      <td>501</td>\n",
       "    </tr>\n",
       "    <tr>\n",
       "      <th>30</th>\n",
       "      <td>503</td>\n",
       "    </tr>\n",
       "    <tr>\n",
       "      <th>31</th>\n",
       "      <td>506</td>\n",
       "    </tr>\n",
       "    <tr>\n",
       "      <th>32</th>\n",
       "      <td>499</td>\n",
       "    </tr>\n",
       "    <tr>\n",
       "      <th>33</th>\n",
       "      <td>498</td>\n",
       "    </tr>\n",
       "    <tr>\n",
       "      <th>34</th>\n",
       "      <td>509</td>\n",
       "    </tr>\n",
       "    <tr>\n",
       "      <th>35</th>\n",
       "      <td>507</td>\n",
       "    </tr>\n",
       "    <tr>\n",
       "      <th>36</th>\n",
       "      <td>503</td>\n",
       "    </tr>\n",
       "    <tr>\n",
       "      <th>37</th>\n",
       "      <td>499</td>\n",
       "    </tr>\n",
       "    <tr>\n",
       "      <th>38</th>\n",
       "      <td>509</td>\n",
       "    </tr>\n",
       "    <tr>\n",
       "      <th>39</th>\n",
       "      <td>495</td>\n",
       "    </tr>\n",
       "    <tr>\n",
       "      <th>40</th>\n",
       "      <td>502</td>\n",
       "    </tr>\n",
       "    <tr>\n",
       "      <th>41</th>\n",
       "      <td>505</td>\n",
       "    </tr>\n",
       "    <tr>\n",
       "      <th>42</th>\n",
       "      <td>504</td>\n",
       "    </tr>\n",
       "    <tr>\n",
       "      <th>43</th>\n",
       "      <td>509</td>\n",
       "    </tr>\n",
       "    <tr>\n",
       "      <th>44</th>\n",
       "      <td>508</td>\n",
       "    </tr>\n",
       "    <tr>\n",
       "      <th>45</th>\n",
       "      <td>501</td>\n",
       "    </tr>\n",
       "    <tr>\n",
       "      <th>46</th>\n",
       "      <td>505</td>\n",
       "    </tr>\n",
       "    <tr>\n",
       "      <th>47</th>\n",
       "      <td>497</td>\n",
       "    </tr>\n",
       "    <tr>\n",
       "      <th>48</th>\n",
       "      <td>508</td>\n",
       "    </tr>\n",
       "    <tr>\n",
       "      <th>49</th>\n",
       "      <td>507</td>\n",
       "    </tr>\n",
       "  </tbody>\n",
       "</table>\n",
       "</div>"
      ],
      "text/plain": [
       "    Amostra\n",
       "0       509\n",
       "1       505\n",
       "2       495\n",
       "3       510\n",
       "4       496\n",
       "5       509\n",
       "6       497\n",
       "7       502\n",
       "8       503\n",
       "9       505\n",
       "10      501\n",
       "11      505\n",
       "12      510\n",
       "13      505\n",
       "14      504\n",
       "15      497\n",
       "16      506\n",
       "17      506\n",
       "18      508\n",
       "19      505\n",
       "20      497\n",
       "21      504\n",
       "22      500\n",
       "23      498\n",
       "24      506\n",
       "25      496\n",
       "26      508\n",
       "27      497\n",
       "28      503\n",
       "29      501\n",
       "30      503\n",
       "31      506\n",
       "32      499\n",
       "33      498\n",
       "34      509\n",
       "35      507\n",
       "36      503\n",
       "37      499\n",
       "38      509\n",
       "39      495\n",
       "40      502\n",
       "41      505\n",
       "42      504\n",
       "43      509\n",
       "44      508\n",
       "45      501\n",
       "46      505\n",
       "47      497\n",
       "48      508\n",
       "49      507"
      ]
     },
     "execution_count": 15,
     "metadata": {},
     "output_type": "execute_result"
    }
   ],
   "source": [
    "# Visualizar\n",
    "amostra.head(n)"
   ]
  },
  {
   "cell_type": "code",
   "execution_count": 16,
   "metadata": {
    "colab": {
     "base_uri": "https://localhost:8080/"
    },
    "id": "QjRC8V7tdfMM",
    "outputId": "833b6167-16c5-49c7-c120-9c5c88aaad44"
   },
   "outputs": [
    {
     "data": {
      "text/plain": [
       "Amostra    503.24\n",
       "dtype: float64"
      ]
     },
     "execution_count": 16,
     "metadata": {},
     "output_type": "execute_result"
    }
   ],
   "source": [
    "# média\n",
    "media = amostra.mean()\n",
    "media"
   ]
  },
  {
   "cell_type": "code",
   "execution_count": 17,
   "metadata": {
    "colab": {
     "base_uri": "https://localhost:8080/"
    },
    "id": "IKtgYanRdfMN",
    "outputId": "49517062-6fa3-4393-ab85-b676592d8f33"
   },
   "outputs": [
    {
     "data": {
      "text/plain": [
       "Amostra    4.483803\n",
       "dtype: float64"
      ]
     },
     "execution_count": 17,
     "metadata": {},
     "output_type": "execute_result"
    }
   ],
   "source": [
    "# Desvio-padrão\n",
    "desvpad = amostra.std()\n",
    "desvpad"
   ]
  },
  {
   "cell_type": "markdown",
   "metadata": {
    "id": "Zzf3YmH9dfMN"
   },
   "source": [
    "#### **Passo 1** - Definir parâmetro de interesse e formular as hipóteses $H_0$ e $H_1$\n",
    "\n",
    "**$H_0: \\mu = 500$**\n",
    "\n",
    "**$H_1: \\mu \\neq 500$**"
   ]
  },
  {
   "cell_type": "code",
   "execution_count": 18,
   "metadata": {
    "id": "m_KYOTcpdfMN"
   },
   "outputs": [],
   "source": [
    "# H0\n",
    "media_H0 = 500"
   ]
  },
  {
   "cell_type": "markdown",
   "metadata": {
    "id": "xvNlhRMzdfMN"
   },
   "source": [
    "#### **Passo 2** - Determinar a estatística de teste adequada (e sua distribuição).\n",
    "\n",
    "Mesmo com $\\sigma$ desconhecido, considerando $n=50$ utilizaremos a normal padrão."
   ]
  },
  {
   "cell_type": "markdown",
   "metadata": {
    "id": "yvd2lBPIdfMN"
   },
   "source": [
    "#### **Passo 3** - Definir o nível de significância do teste ($\\alpha$)\n"
   ]
  },
  {
   "cell_type": "code",
   "execution_count": 19,
   "metadata": {
    "id": "H0JjG82fdfMN"
   },
   "outputs": [],
   "source": [
    "from scipy.stats import norm\n",
    "\n",
    "# Nível de significância\n",
    "alfa = 0.01\n",
    "# Coeficiente de confiança\n",
    "cconf = 1 - alfa"
   ]
  },
  {
   "cell_type": "code",
   "execution_count": 20,
   "metadata": {
    "colab": {
     "base_uri": "https://localhost:8080/"
    },
    "id": "74aU4vsNdfMO",
    "outputId": "4e8f452f-7c7c-4106-cde4-74eda069979f"
   },
   "outputs": [
    {
     "data": {
      "text/plain": [
       "0.995"
      ]
     },
     "execution_count": 20,
     "metadata": {},
     "output_type": "execute_result"
    }
   ],
   "source": [
    "prob = (0.5 + (cconf / 2))\n",
    "prob"
   ]
  },
  {
   "cell_type": "markdown",
   "metadata": {
    "id": "YFuMe-H7dfMO"
   },
   "source": [
    "**Obtendo $z_{\\alpha/2}$**"
   ]
  },
  {
   "cell_type": "code",
   "execution_count": 21,
   "metadata": {
    "colab": {
     "base_uri": "https://localhost:8080/"
    },
    "id": "RUrvepq-dfMO",
    "outputId": "5ea2d3e4-f650-47d0-c35d-8e6d501c1938"
   },
   "outputs": [
    {
     "data": {
      "text/plain": [
       "2.5758"
      ]
     },
     "execution_count": 21,
     "metadata": {},
     "output_type": "execute_result"
    }
   ],
   "source": [
    "# valor crítico\n",
    "z_alfa_2 = norm.ppf(prob)\n",
    "round(z_alfa_2, 4)"
   ]
  },
  {
   "cell_type": "markdown",
   "metadata": {
    "id": "E2Yl4-9QdfMO"
   },
   "source": [
    "#### **Passo 4** - Cálculo da estatística-teste e definição da região de rejeição do teste\n",
    "\n",
    "$$z = \\frac{\\bar{x} - \\mu_0}{s/ \\sqrt{n}}$$"
   ]
  },
  {
   "cell_type": "code",
   "execution_count": 22,
   "metadata": {
    "colab": {
     "base_uri": "https://localhost:8080/"
    },
    "id": "5Gk5Oi_UdfMO",
    "outputId": "91e3eee1-9d0a-4c2c-cceb-a86f2b99eecd"
   },
   "outputs": [
    {
     "data": {
      "text/plain": [
       "Amostra    5.10956\n",
       "dtype: float64"
      ]
     },
     "execution_count": 22,
     "metadata": {},
     "output_type": "execute_result"
    }
   ],
   "source": [
    "# Estatística de teste\n",
    "z = (media - media_H0) / (desvpad / np.sqrt(n))\n",
    "z"
   ]
  },
  {
   "cell_type": "markdown",
   "metadata": {
    "id": "9iJEWYdQdfMO"
   },
   "source": [
    "#### Passo 5. Decisão (pelo critério do valor crítico). \n",
    "\n",
    "> **Teste Bicaudal** \n",
    "\n",
    "> Rejeitar $H_0$ se $z \\leq -z_{\\alpha / 2}$ ou se $z \\geq z_{\\alpha / 2}$"
   ]
  },
  {
   "cell_type": "code",
   "execution_count": 23,
   "metadata": {
    "colab": {
     "base_uri": "https://localhost:8080/"
    },
    "id": "CxrL5TSbdfMO",
    "outputId": "620e2ca1-9fe8-497a-935c-0578a8226048"
   },
   "outputs": [
    {
     "data": {
      "text/plain": [
       "Amostra    False\n",
       "dtype: bool"
      ]
     },
     "execution_count": 23,
     "metadata": {},
     "output_type": "execute_result"
    }
   ],
   "source": [
    "# Verificar se a estatísitica de teste está na região de rejeição - cauda inferior\n",
    "z <= - z_alfa_2"
   ]
  },
  {
   "cell_type": "code",
   "execution_count": 24,
   "metadata": {
    "colab": {
     "base_uri": "https://localhost:8080/"
    },
    "id": "tvy06WUmdfMO",
    "outputId": "27d7493c-8b50-4826-bc29-813ee81c2742"
   },
   "outputs": [
    {
     "data": {
      "text/plain": [
       "Amostra    True\n",
       "dtype: bool"
      ]
     },
     "execution_count": 24,
     "metadata": {},
     "output_type": "execute_result"
    }
   ],
   "source": [
    "# Verificar se a estatísitica de teste está na região de rejeição - cauda superior\n",
    "z >= z_alfa_2"
   ]
  },
  {
   "cell_type": "markdown",
   "metadata": {
    "id": "WyePh7BAdfMP"
   },
   "source": [
    "Uma vez que $z \\geq z_{\\alpha / 2}$, temos evidências para rejeitar $H_0$ ao nível de significância de 5%."
   ]
  },
  {
   "cell_type": "markdown",
   "metadata": {
    "id": "k9oo-8MXdfMP"
   },
   "source": [
    "## Teste de hipótese para a média, variância desconhecida e amostra pequena"
   ]
  },
  {
   "cell_type": "code",
   "execution_count": 25,
   "metadata": {
    "id": "YDqwSfNTdfMP"
   },
   "outputs": [],
   "source": [
    "from scipy.stats import t as t_student"
   ]
  },
  {
   "cell_type": "markdown",
   "metadata": {
    "id": "9qjZ4TFodfMP"
   },
   "source": [
    "**EXEMPLO**\n",
    "\n",
    "Vamos carregar os dados da amostra de produtividade na produção de milho."
   ]
  },
  {
   "cell_type": "code",
   "execution_count": 26,
   "metadata": {
    "colab": {
     "base_uri": "https://localhost:8080/",
     "height": 73,
     "resources": {
      "http://localhost:8080/nbextensions/google.colab/files.js": {
       "data": "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",
       "headers": [
        [
         "content-type",
         "application/javascript"
        ]
       ],
       "ok": true,
       "status": 200,
       "status_text": ""
      }
     }
    },
    "id": "dmYckWVodfMP",
    "outputId": "9518b34a-1d88-4c07-cc99-c3a820df6bc9"
   },
   "outputs": [],
   "source": [
    "# Caso esteja executando este notebook no Google Colab\n",
    "#from google.colab import files\n",
    "#uploaded = files.upload()"
   ]
  },
  {
   "cell_type": "code",
   "execution_count": 27,
   "metadata": {
    "colab": {
     "base_uri": "https://localhost:8080/",
     "height": 833
    },
    "id": "Q5CnimzMdfMP",
    "outputId": "d01f24c5-f15a-4d6c-bb8b-31b4027b6352"
   },
   "outputs": [
    {
     "data": {
      "text/html": [
       "<div>\n",
       "<style scoped>\n",
       "    .dataframe tbody tr th:only-of-type {\n",
       "        vertical-align: middle;\n",
       "    }\n",
       "\n",
       "    .dataframe tbody tr th {\n",
       "        vertical-align: top;\n",
       "    }\n",
       "\n",
       "    .dataframe thead th {\n",
       "        text-align: right;\n",
       "    }\n",
       "</style>\n",
       "<table border=\"1\" class=\"dataframe\">\n",
       "  <thead>\n",
       "    <tr style=\"text-align: right;\">\n",
       "      <th></th>\n",
       "      <th>fazenda</th>\n",
       "      <th>regiao</th>\n",
       "      <th>rend_kha</th>\n",
       "    </tr>\n",
       "  </thead>\n",
       "  <tbody>\n",
       "    <tr>\n",
       "      <th>0</th>\n",
       "      <td>F1</td>\n",
       "      <td>REG1</td>\n",
       "      <td>4459</td>\n",
       "    </tr>\n",
       "    <tr>\n",
       "      <th>1</th>\n",
       "      <td>F2</td>\n",
       "      <td>REG1</td>\n",
       "      <td>2615</td>\n",
       "    </tr>\n",
       "    <tr>\n",
       "      <th>2</th>\n",
       "      <td>F3</td>\n",
       "      <td>REG1</td>\n",
       "      <td>2340</td>\n",
       "    </tr>\n",
       "    <tr>\n",
       "      <th>3</th>\n",
       "      <td>F4</td>\n",
       "      <td>REG1</td>\n",
       "      <td>5238</td>\n",
       "    </tr>\n",
       "    <tr>\n",
       "      <th>4</th>\n",
       "      <td>F5</td>\n",
       "      <td>REG1</td>\n",
       "      <td>3194</td>\n",
       "    </tr>\n",
       "    <tr>\n",
       "      <th>5</th>\n",
       "      <td>F6</td>\n",
       "      <td>REG1</td>\n",
       "      <td>912</td>\n",
       "    </tr>\n",
       "    <tr>\n",
       "      <th>6</th>\n",
       "      <td>F7</td>\n",
       "      <td>REG1</td>\n",
       "      <td>4190</td>\n",
       "    </tr>\n",
       "    <tr>\n",
       "      <th>7</th>\n",
       "      <td>F8</td>\n",
       "      <td>REG1</td>\n",
       "      <td>4235</td>\n",
       "    </tr>\n",
       "    <tr>\n",
       "      <th>8</th>\n",
       "      <td>F9</td>\n",
       "      <td>REG1</td>\n",
       "      <td>4198</td>\n",
       "    </tr>\n",
       "    <tr>\n",
       "      <th>9</th>\n",
       "      <td>F10</td>\n",
       "      <td>REG1</td>\n",
       "      <td>812</td>\n",
       "    </tr>\n",
       "    <tr>\n",
       "      <th>10</th>\n",
       "      <td>F11</td>\n",
       "      <td>REG1</td>\n",
       "      <td>556</td>\n",
       "    </tr>\n",
       "    <tr>\n",
       "      <th>11</th>\n",
       "      <td>F12</td>\n",
       "      <td>REG2</td>\n",
       "      <td>2473</td>\n",
       "    </tr>\n",
       "    <tr>\n",
       "      <th>12</th>\n",
       "      <td>F13</td>\n",
       "      <td>REG2</td>\n",
       "      <td>4838</td>\n",
       "    </tr>\n",
       "    <tr>\n",
       "      <th>13</th>\n",
       "      <td>F14</td>\n",
       "      <td>REG2</td>\n",
       "      <td>3447</td>\n",
       "    </tr>\n",
       "    <tr>\n",
       "      <th>14</th>\n",
       "      <td>F15</td>\n",
       "      <td>REG2</td>\n",
       "      <td>6893</td>\n",
       "    </tr>\n",
       "    <tr>\n",
       "      <th>15</th>\n",
       "      <td>F16</td>\n",
       "      <td>REG2</td>\n",
       "      <td>2874</td>\n",
       "    </tr>\n",
       "    <tr>\n",
       "      <th>16</th>\n",
       "      <td>F17</td>\n",
       "      <td>REG2</td>\n",
       "      <td>4478</td>\n",
       "    </tr>\n",
       "    <tr>\n",
       "      <th>17</th>\n",
       "      <td>F18</td>\n",
       "      <td>REG2</td>\n",
       "      <td>5685</td>\n",
       "    </tr>\n",
       "    <tr>\n",
       "      <th>18</th>\n",
       "      <td>F19</td>\n",
       "      <td>REG3</td>\n",
       "      <td>6281</td>\n",
       "    </tr>\n",
       "    <tr>\n",
       "      <th>19</th>\n",
       "      <td>F20</td>\n",
       "      <td>REG3</td>\n",
       "      <td>8041</td>\n",
       "    </tr>\n",
       "    <tr>\n",
       "      <th>20</th>\n",
       "      <td>F21</td>\n",
       "      <td>REG3</td>\n",
       "      <td>7518</td>\n",
       "    </tr>\n",
       "    <tr>\n",
       "      <th>21</th>\n",
       "      <td>F22</td>\n",
       "      <td>REG3</td>\n",
       "      <td>5024</td>\n",
       "    </tr>\n",
       "    <tr>\n",
       "      <th>22</th>\n",
       "      <td>F23</td>\n",
       "      <td>REG3</td>\n",
       "      <td>6268</td>\n",
       "    </tr>\n",
       "    <tr>\n",
       "      <th>23</th>\n",
       "      <td>F24</td>\n",
       "      <td>REG3</td>\n",
       "      <td>7183</td>\n",
       "    </tr>\n",
       "    <tr>\n",
       "      <th>24</th>\n",
       "      <td>F25</td>\n",
       "      <td>REG3</td>\n",
       "      <td>7809</td>\n",
       "    </tr>\n",
       "  </tbody>\n",
       "</table>\n",
       "</div>"
      ],
      "text/plain": [
       "   fazenda regiao  rend_kha\n",
       "0       F1   REG1      4459\n",
       "1       F2   REG1      2615\n",
       "2       F3   REG1      2340\n",
       "3       F4   REG1      5238\n",
       "4       F5   REG1      3194\n",
       "5       F6   REG1       912\n",
       "6       F7   REG1      4190\n",
       "7       F8   REG1      4235\n",
       "8       F9   REG1      4198\n",
       "9      F10   REG1       812\n",
       "10     F11   REG1       556\n",
       "11     F12   REG2      2473\n",
       "12     F13   REG2      4838\n",
       "13     F14   REG2      3447\n",
       "14     F15   REG2      6893\n",
       "15     F16   REG2      2874\n",
       "16     F17   REG2      4478\n",
       "17     F18   REG2      5685\n",
       "18     F19   REG3      6281\n",
       "19     F20   REG3      8041\n",
       "20     F21   REG3      7518\n",
       "21     F22   REG3      5024\n",
       "22     F23   REG3      6268\n",
       "23     F24   REG3      7183\n",
       "24     F25   REG3      7809"
      ]
     },
     "execution_count": 27,
     "metadata": {},
     "output_type": "execute_result"
    }
   ],
   "source": [
    "# Carregar dados\n",
    "dados = pd.read_excel('prod_media.xlsx')\n",
    "dados.head(25)"
   ]
  },
  {
   "cell_type": "code",
   "execution_count": 28,
   "metadata": {
    "colab": {
     "base_uri": "https://localhost:8080/"
    },
    "id": "Fur_vS-udfMP",
    "outputId": "f094eea4-0f27-48d6-872c-18af042bda0f"
   },
   "outputs": [
    {
     "data": {
      "text/plain": [
       "25"
      ]
     },
     "execution_count": 28,
     "metadata": {},
     "output_type": "execute_result"
    }
   ],
   "source": [
    "# tamanho da amostra\n",
    "n = dados.shape[0]\n",
    "n"
   ]
  },
  {
   "cell_type": "code",
   "execution_count": 29,
   "metadata": {
    "colab": {
     "base_uri": "https://localhost:8080/"
    },
    "id": "5JY5rcbmdfMP",
    "outputId": "048ba727-257c-488d-e20c-5ff17a929d1a"
   },
   "outputs": [
    {
     "data": {
      "text/plain": [
       "4462.44"
      ]
     },
     "execution_count": 29,
     "metadata": {},
     "output_type": "execute_result"
    }
   ],
   "source": [
    "# média amostral\n",
    "m = dados['rend_kha'].mean()\n",
    "m"
   ]
  },
  {
   "cell_type": "code",
   "execution_count": 30,
   "metadata": {
    "colab": {
     "base_uri": "https://localhost:8080/"
    },
    "id": "nxUqaMPydfMQ",
    "outputId": "613cfe2c-8249-4559-c30b-9a3782614738"
   },
   "outputs": [
    {
     "data": {
      "text/plain": [
       "2181.335811683596"
      ]
     },
     "execution_count": 30,
     "metadata": {},
     "output_type": "execute_result"
    }
   ],
   "source": [
    "# desvio-padrão amostral\n",
    "dp = dados['rend_kha'].std()\n",
    "dp"
   ]
  },
  {
   "cell_type": "markdown",
   "metadata": {
    "id": "U0rFJnESdfMQ"
   },
   "source": [
    "#### **Passo 1** - formulação das hipóteses $H_0$ e $H_1$\n",
    "\n",
    "**$H_0: \\mu \\leq 4500 $**\n",
    "\n",
    "**$H_1: \\mu > 4500 $**"
   ]
  },
  {
   "cell_type": "code",
   "execution_count": 31,
   "metadata": {
    "id": "DVT4AHepdfMQ"
   },
   "outputs": [],
   "source": [
    "# H0\n",
    "m_H0 = 4500"
   ]
  },
  {
   "cell_type": "markdown",
   "metadata": {
    "id": "dwl5sQiFdfMQ"
   },
   "source": [
    "#### **Passo 2** - Determinar a estatística de teste adequada (e sua distribuição).\n",
    "\n",
    "Com $\\sigma$ desconhecido, considerando $n=25$ utilizaremos a distribuição t de Student."
   ]
  },
  {
   "cell_type": "code",
   "execution_count": 32,
   "metadata": {
    "colab": {
     "base_uri": "https://localhost:8080/"
    },
    "id": "8_hYALx4dfMQ",
    "outputId": "f9404dcf-7da8-4ff1-c48f-5da69cabb313"
   },
   "outputs": [
    {
     "data": {
      "text/plain": [
       "24"
      ]
     },
     "execution_count": 32,
     "metadata": {},
     "output_type": "execute_result"
    }
   ],
   "source": [
    "# Graus de liberdade\n",
    "gl = n - 1\n",
    "gl"
   ]
  },
  {
   "cell_type": "markdown",
   "metadata": {
    "id": "sMnqy6NfdfMQ"
   },
   "source": [
    "#### **Passo 3** - fixação da significância do teste ($\\alpha$)"
   ]
  },
  {
   "cell_type": "code",
   "execution_count": 33,
   "metadata": {
    "id": "cEymLKpidfMQ"
   },
   "outputs": [],
   "source": [
    "# Nível de significância\n",
    "alfa = 0.05\n",
    "\n",
    "# Coeficiente de confiança\n",
    "cconf = 1 - alfa"
   ]
  },
  {
   "cell_type": "markdown",
   "metadata": {
    "id": "lGisHWjAdfMQ"
   },
   "source": [
    "#### **Passo 4** - Cálculo da estatística-teste e definição da região de rejeição do teste\n",
    "\n",
    "$$ t = \\frac{\\bar{x} - \\mu_0}{s/ \\sqrt{n}}$$"
   ]
  },
  {
   "cell_type": "code",
   "execution_count": 34,
   "metadata": {
    "colab": {
     "base_uri": "https://localhost:8080/"
    },
    "id": "5jhlhxsDdfMR",
    "outputId": "4971a148-d944-4f65-c913-80699cbf9948"
   },
   "outputs": [
    {
     "data": {
      "text/plain": [
       "-0.08609403421248304"
      ]
     },
     "execution_count": 34,
     "metadata": {},
     "output_type": "execute_result"
    }
   ],
   "source": [
    "# Estatística de teste\n",
    "t = (m - m_H0) / (dp/ np.sqrt(n))\n",
    "t"
   ]
  },
  {
   "cell_type": "code",
   "execution_count": 35,
   "metadata": {
    "colab": {
     "base_uri": "https://localhost:8080/"
    },
    "id": "V5WSIoAJdfMR",
    "outputId": "c74cd6f9-5594-45e0-d3ac-04aa3b1e053b"
   },
   "outputs": [
    {
     "data": {
      "text/plain": [
       "1.7108820799094275"
      ]
     },
     "execution_count": 35,
     "metadata": {},
     "output_type": "execute_result"
    }
   ],
   "source": [
    "# Valor crítico\n",
    "t_c = t_student.ppf(cconf, gl)\n",
    "t_c"
   ]
  },
  {
   "cell_type": "markdown",
   "metadata": {
    "id": "zKP8uzoJdfMR"
   },
   "source": [
    "#### Passo 5. Decisão (pelo critério do valor crítico). \n",
    "\n",
    "> **Teste monocaudal** \n",
    "\n",
    "> Rejeitar $H_0$ se $t \\geq t_{\\alpha}$"
   ]
  },
  {
   "cell_type": "code",
   "execution_count": 36,
   "metadata": {
    "colab": {
     "base_uri": "https://localhost:8080/"
    },
    "id": "GcBm0V1udfMR",
    "outputId": "73a95b64-933c-4594-fb56-05d3c0b13548"
   },
   "outputs": [
    {
     "data": {
      "text/plain": [
       "False"
      ]
     },
     "execution_count": 36,
     "metadata": {},
     "output_type": "execute_result"
    }
   ],
   "source": [
    "#### Passo 5. Decisão (pelo critério do valor crítico). \n",
    "t >= t_c"
   ]
  },
  {
   "cell_type": "markdown",
   "metadata": {
    "id": "j8FiRhjrdfMR"
   },
   "source": [
    "Não temos evidências para rejeitar $H_0$."
   ]
  }
 ],
 "metadata": {
  "colab": {
   "name": "Teste_Hipoteses.ipynb",
   "provenance": []
  },
  "kernelspec": {
   "display_name": "Python 3",
   "language": "python",
   "name": "python3"
  },
  "language_info": {
   "codemirror_mode": {
    "name": "ipython",
    "version": 3
   },
   "file_extension": ".py",
   "mimetype": "text/x-python",
   "name": "python",
   "nbconvert_exporter": "python",
   "pygments_lexer": "ipython3",
   "version": "3.7.6"
  }
 },
 "nbformat": 4,
 "nbformat_minor": 1
}
