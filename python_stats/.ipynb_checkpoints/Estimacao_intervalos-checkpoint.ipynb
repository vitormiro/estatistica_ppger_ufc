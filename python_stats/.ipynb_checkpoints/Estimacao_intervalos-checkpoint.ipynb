{
 "cells": [
  {
   "cell_type": "markdown",
   "metadata": {
    "id": "4catS_mIbWdw"
   },
   "source": [
    "# Estimação por intervalos\n"
   ]
  },
  {
   "cell_type": "markdown",
   "metadata": {
    "id": "U5xsE3njbWd2"
   },
   "source": [
    "Um intervalo de confiança fornece um intervalo estimado de valores que provavelmente inclui um parâmetro populacional desconhecido, sendo o intervalo estimado calculado a partir de um determinado conjunto de dados de amostra.\n",
    "\n",
    "A principal restrição da estimação pontual é que quando estimamos um parâmetro através de um único valor numérico toda a informaçãao presente nos dados é resumida através deste número. Nesse sentido, é importante encontrar também um intervalo de valores plausíveis para o parâmetro.\n",
    "A idéia é construir um intervalo em torno da estimativa pontual de modo que ele tenha uma probabilidade conhecida de conter o verdadeiro valor do parâmetro."
   ]
  },
  {
   "cell_type": "markdown",
   "metadata": {
    "id": "zRlu-iiybWd4"
   },
   "source": [
    "Suponha que $X_1, X_2, \\cdots, X_n$ seja uma amostra aleatória proveniente de uma distribuição normal, com média desconhecida $\\mu$ e variância conhecida $\\sigma^2$.\n",
    "\n",
    "Para fazermos inferências sobre $\\mu$ nos baseamos na média amostral $\\bar{X}$.\n",
    "\n",
    "Sabemos também que $\\bar{X}$ é normalmente distribuída, com média $\\mu$ e variância $\\frac{\\sigma^2}{n}$.\n",
    "\n",
    "Assim:\n",
    "\n",
    "$$ Z = \\frac{\\bar{X} - \\mu}{\\sigma / \\sqrt{n}} \\quad \\mbox{ou} \\quad Z =  \\frac{\\sqrt{n} (\\bar{X} - \\mu)}{\\sigma} $$\n",
    "\n",
    "\n",
    "\n",
    "Note que $Z$ é uma função da amostra e do parâmetro $\\mu$; mas sua distribuição de probabilidades não depende de $\\mu$.\n",
    "\n",
    "Usando uma tabela da distribuição normal padronizada podemos obter o valor do percentil $z_{\\alpha/2}$ tal que:\n",
    "\n",
    "$$ \\mathbb{P}\\left(-z_{\\alpha/2}\\leq Z \\leq z_{\\alpha/2}\\right) = 1 - \\alpha $$\n",
    "\n",
    "Na desigualdade podemos colocar $\\mu$ em evidência de forma que:\n",
    "\n",
    "$$ \\mathbb{P}\\left(\\bar{X}-z_{\\alpha/2}\\frac{\\sigma}{\\sqrt{n}}\\leq \\mu\\leq \\bar{X}+z_{\\alpha/2}\\frac{\\sigma}{\\sqrt{n}}\\right) = 1 - \\alpha $$\n",
    "\n",
    "\n",
    "Na inferência estatística clássica, o parâmetro $\\mu$ é desconhecido, mas é fixo, não sendo passível de uma descrição probabilística. Os limites do intervalo de confiança é que constituiem variáveis aleatórias."
   ]
  },
  {
   "cell_type": "code",
   "execution_count": 1,
   "metadata": {
    "id": "KPgYtEU3bWd5"
   },
   "outputs": [],
   "source": [
    "# Carregar bibliotecas necessárias\n",
    "import numpy as np\n",
    "import pandas as pd\n",
    "import matplotlib.pyplot as plt\n",
    "\n",
    "import scipy.stats as stats"
   ]
  },
  {
   "cell_type": "markdown",
   "metadata": {
    "id": "yEEFcIBcbWd6"
   },
   "source": [
    "#### Vamos simular a distribuição de uma variável aleatória $X$ normalmente distribuida com média $\\mu = 80$ e variância $\\sigma^2 = 100$."
   ]
  },
  {
   "cell_type": "code",
   "execution_count": 2,
   "metadata": {
    "id": "aFShZOafbWd7"
   },
   "outputs": [],
   "source": [
    "# Estabelecer uma semente aleatória\n",
    "np.random.seed(123)\n",
    "\n",
    "# Simular distribuição da variaável aleatória X com 10.000 observações\n",
    "X = np.random.normal(80, 10, 10000)"
   ]
  },
  {
   "cell_type": "code",
   "execution_count": 3,
   "metadata": {
    "colab": {
     "base_uri": "https://localhost:8080/"
    },
    "id": "eTPsYnkKbWd8",
    "outputId": "cb54c133-db4f-4ef6-9fa7-d94ebb123835"
   },
   "outputs": [
    {
     "data": {
      "text/plain": [
       "80.09711892291595"
      ]
     },
     "execution_count": 3,
     "metadata": {},
     "output_type": "execute_result"
    }
   ],
   "source": [
    "# Média populacional\n",
    "media = np.mean(X)\n",
    "media"
   ]
  },
  {
   "cell_type": "code",
   "execution_count": 4,
   "metadata": {
    "colab": {
     "base_uri": "https://localhost:8080/"
    },
    "id": "VRnT66g_bWd-",
    "outputId": "e6fda4df-e412-446c-e583-c580e64266f1"
   },
   "outputs": [
    {
     "data": {
      "text/plain": [
       "9.981138545901475"
      ]
     },
     "execution_count": 4,
     "metadata": {},
     "output_type": "execute_result"
    }
   ],
   "source": [
    "# Desvio-padrão populacional\n",
    "std = np.std(X)\n",
    "std"
   ]
  },
  {
   "cell_type": "code",
   "execution_count": 5,
   "metadata": {
    "colab": {
     "base_uri": "https://localhost:8080/",
     "height": 281
    },
    "id": "ilz4XlqcbWd_",
    "outputId": "f085fcb3-24b2-4bdf-9bc8-9585b69863ab"
   },
   "outputs": [
    {
     "data": {
      "image/png": "[encoded data removed]",
      "text/plain": [
       "<Figure size 432x288 with 1 Axes>"
      ]
     },
     "metadata": {
      "needs_background": "light"
     },
     "output_type": "display_data"
    }
   ],
   "source": [
    "# Histograma\n",
    "plt.hist(X, bins = 5) \n",
    "plt.title(\"Histograma de X\") \n",
    "plt.show()"
   ]
  },
  {
   "cell_type": "markdown",
   "metadata": {
    "id": "4rw4mVusbWeA"
   },
   "source": [
    "Agora consideramos uma amostra de 25 observações de $X$."
   ]
  },
  {
   "cell_type": "code",
   "execution_count": 6,
   "metadata": {
    "colab": {
     "base_uri": "https://localhost:8080/"
    },
    "id": "dOub3dQ3bWeA",
    "outputId": "830cfbe5-5c07-47a5-ef42-e7902ac8c98b"
   },
   "outputs": [
    {
     "data": {
      "text/plain": [
       "array([75.6583348 , 84.21126783, 78.8306826 , 73.26480367, 71.03281662,\n",
       "       64.8803643 , 85.56548705, 78.56276107, 66.62410141, 99.40783034,\n",
       "       77.08676343, 87.32800466, 65.57569395, 67.41694449, 85.31148913,\n",
       "       78.87060349, 74.77105868, 80.26735374, 62.34128385, 66.72820287,\n",
       "       65.27022391, 76.92227233, 71.65114263, 73.16774057, 96.25958232])"
      ]
     },
     "execution_count": 6,
     "metadata": {},
     "output_type": "execute_result"
    }
   ],
   "source": [
    "# semente aleatória\n",
    "np.random.seed(1)\n",
    "\n",
    "# Tamanho da amostra\n",
    "n = 25\n",
    "\n",
    "# \"Escolha\" da amostra\n",
    "xs = np.random.choice(X, n)\n",
    "xs"
   ]
  },
  {
   "cell_type": "code",
   "execution_count": 7,
   "metadata": {
    "colab": {
     "base_uri": "https://localhost:8080/"
    },
    "id": "kHk6UBVybWeB",
    "outputId": "b08262a2-7dd2-4f45-a3e5-7b97d339a277"
   },
   "outputs": [
    {
     "data": {
      "text/plain": [
       "76.28027238878799"
      ]
     },
     "execution_count": 7,
     "metadata": {},
     "output_type": "execute_result"
    }
   ],
   "source": [
    "# Média amostral\n",
    "media_xs = xs.mean()\n",
    "media_xs"
   ]
  },
  {
   "cell_type": "markdown",
   "metadata": {
    "id": "nwz3HJOkbWeC"
   },
   "source": [
    "O fato de a variável aleatória ter distribuição conhecida, independente do parâmetro a ser estiamdo ($\\mu$), permite calcular a probabilidade de $Z$ assumir um valor compreendido entre dois quaisquer números reais.\n",
    "\n",
    "Com $\\alpha = 0.5$ \n",
    "e $(1- \\alpha) = 0.95$\n",
    "\n",
    "\\begin{align}\n",
    "P(-1.96 < Z < 1.96) = \\Phi(1.96) - \\Phi(-1.96) = 2 \\cdot \\Phi(1.96) - 1 = 0.95\n",
    "\\end{align}\n"
   ]
  },
  {
   "cell_type": "markdown",
   "metadata": {
    "id": "Ab_5Eaz0bWeC"
   },
   "source": [
    "#### Obtendo o valor de Z crítico ($z_c$)\n",
    "\n",
    "No caso de uma distribuição normal, para obter valores de $z$ crítico vamos usar o método [`norm.ppf`](https://docs.scipy.org/doc/scipy/reference/generated/scipy.stats.norm.html) do [`scipy.stats`](https://docs.scipy.org/doc/scipy/reference/stats.html)."
   ]
  },
  {
   "cell_type": "code",
   "execution_count": 8,
   "metadata": {
    "id": "lSBg2GiSbWeD"
   },
   "outputs": [],
   "source": [
    "# Importar scipy.stats\n",
    "from scipy.stats import norm"
   ]
  },
  {
   "cell_type": "markdown",
   "metadata": {
    "id": "ftvsZdWnbWeD"
   },
   "source": [
    "Inicialmente, vamos considerar situações unicaudais.\n",
    "\n",
    "Com $\\alpha = 0.5$, o valor de $z_c$ na cauda esquerda é:"
   ]
  },
  {
   "cell_type": "code",
   "execution_count": 9,
   "metadata": {
    "colab": {
     "base_uri": "https://localhost:8080/"
    },
    "id": "kE2a0QRlbWeE",
    "outputId": "7dbe0fdc-1e80-4dc0-a4a1-39becf6382b9"
   },
   "outputs": [
    {
     "data": {
      "text/plain": [
       "-1.6448536269514729"
      ]
     },
     "execution_count": 9,
     "metadata": {},
     "output_type": "execute_result"
    }
   ],
   "source": [
    "norm.ppf(.05)"
   ]
  },
  {
   "cell_type": "markdown",
   "metadata": {
    "id": "8ZC4l_JEbWeE"
   },
   "source": [
    " O valor de $z_c$ na cauda direita é:"
   ]
  },
  {
   "cell_type": "code",
   "execution_count": 10,
   "metadata": {
    "colab": {
     "base_uri": "https://localhost:8080/"
    },
    "id": "GGyWU-oGbWeE",
    "outputId": "e4b2639c-ce9f-4989-c871-0203dafd833b"
   },
   "outputs": [
    {
     "data": {
      "text/plain": [
       "1.6448536269514722"
      ]
     },
     "execution_count": 10,
     "metadata": {},
     "output_type": "execute_result"
    }
   ],
   "source": [
    "norm.ppf(1 - .05)"
   ]
  },
  {
   "cell_type": "markdown",
   "metadata": {
    "id": "8wPXNolobWeF"
   },
   "source": [
    "Considerando a mensuração de probabilidade em duas caudas, com $\\alpha = 0.5$, o valor de $z_c$ é:"
   ]
  },
  {
   "cell_type": "code",
   "execution_count": 11,
   "metadata": {
    "colab": {
     "base_uri": "https://localhost:8080/"
    },
    "id": "ZCuZ3mmNbWeF",
    "outputId": "5cb225b6-8614-483f-a3ff-a551bcc5c36c"
   },
   "outputs": [
    {
     "data": {
      "text/plain": [
       "1.959963984540054"
      ]
     },
     "execution_count": 11,
     "metadata": {},
     "output_type": "execute_result"
    }
   ],
   "source": [
    "norm.ppf(1-.05 / 2)"
   ]
  },
  {
   "cell_type": "markdown",
   "metadata": {
    "id": "0H2a3tnxbWeF"
   },
   "source": [
    "#### Voltando ao exemplo\n",
    "\n",
    "Considerando o exemplo em que a variância é $\\sigma^2 = 100$, $n=25$.\n",
    "\n",
    "A variância de $\\bar{X}$ é: \n",
    "\n",
    "$$\\sigma_{\\bar{X}} = \\frac{\\sigma}{\\sqrt{n}} = \\frac{100}{5} = 20$$\n",
    "\n",
    "Estabelecendo um nível de significância de $\\alpha = 0,05$ (bicaudal) temos:\n"
   ]
  },
  {
   "cell_type": "code",
   "execution_count": 12,
   "metadata": {
    "colab": {
     "base_uri": "https://localhost:8080/"
    },
    "id": "pptNMTbdbWeF",
    "outputId": "e1e05935-7719-4262-b142-372dccbbcff6"
   },
   "outputs": [
    {
     "name": "stdout",
     "output_type": "stream",
     "text": [
      "Nível de significância =  0.05\n",
      "Coeficiente de confiança =  0.95\n",
      "Erro padrão da média amostral =  1.9962\n",
      "Z - crítico =  1.96\n"
     ]
    }
   ],
   "source": [
    "# Nível de significância\n",
    "alfa = 0.05\n",
    "alfa2 = alfa / 2\n",
    "\n",
    "# Coeficiente de Confiança\n",
    "cconf = 1 - alfa\n",
    "\n",
    "# Erro padrão da média amostral\n",
    "stdx = std / np.sqrt(n)\n",
    "\n",
    "# Valor de z-crítico\n",
    "zc = norm.ppf(1- alfa2)\n",
    "\n",
    "# Imprimir\n",
    "print(\"Nível de significância = \", alfa)\n",
    "print(\"Coeficiente de confiança = \", cconf)\n",
    "print(\"Erro padrão da média amostral = \", round(stdx, 4))\n",
    "print(\"Z - crítico = \", round(zc, 4))"
   ]
  },
  {
   "cell_type": "code",
   "execution_count": 13,
   "metadata": {
    "colab": {
     "base_uri": "https://localhost:8080/"
    },
    "id": "WndjJv2wbWeG",
    "outputId": "f11720a7-2691-4df7-f39f-ab91305edb9d"
   },
   "outputs": [
    {
     "name": "stdout",
     "output_type": "stream",
     "text": [
      "Limite inferior: 72.3677\n",
      "Limite superior: 80.1928\n"
     ]
    }
   ],
   "source": [
    "# Intervalo de confiança\n",
    "# Limite inferior\n",
    "lim_inf = media_xs - (zc * stdx)\n",
    "#Limite superior\n",
    "lim_sup = media_xs + (zc * stdx)\n",
    "\n",
    "# Imprimir\n",
    "print('Limite inferior: {:.4f}'.format(lim_inf))\n",
    "print('Limite superior: {:.4f}'.format(lim_sup))"
   ]
  },
  {
   "cell_type": "markdown",
   "metadata": {
    "id": "ddPjk_yNbWeG"
   },
   "source": [
    "Temos então:\n",
    "\n",
    "$$ \\mathbb{P} \\left( \\bar{X} - z_{\\alpha/2}\\frac{\\sigma}{\\sqrt{n}} \\leq \\mu \\leq \\bar{X} + z_{\\alpha/2}\\frac{\\sigma}{\\sqrt{n}} \\right) = 1 - \\alpha $$\n",
    " \n",
    "$$ \\mathbb{P} \\left[ 76,28 - 1,96 (1,9962) \\leq \\mu \\leq 76,28 - 1,96 (1,9962) \\right] = 0,95 $$\n",
    "\n",
    "$$ \\mathbb{P} \\left[ 72,3677 \\leq \\mu \\leq 80,1928 \\right] = 0,95 $$\n",
    "\n",
    "O intervalo de confiança é:\n",
    "\n",
    "$$ \\mathrm{CI}_{0.95}(\\mu)=\\left[ 72,3677 ; \\quad 80,1928 \\right] $$\n"
   ]
  },
  {
   "cell_type": "markdown",
   "metadata": {
    "id": "ZeLbfZK5bWeH"
   },
   "source": [
    "**Interpretando um intervalo de confianaça**\n",
    "\n",
    "Como alguém interpreta um intervalo de confiança? No Exemplo anterior, o IC de 95% para $\\mu$ é [72,3677 ; 80,1928]. Dada a forma de contrução destes limites para o IC, somos tentados a interpretar da seguinte forma: $\\mu$ está dentro desse intervalo com 95% de probabilidade. Entretanto, com uma pequena reflexão, é fácil ver que isso não está correto. Apesar de desconhecido, o verdadeiro valor de $\\mu$ é fixo. Após estabelcer um intervalo de confiança, ele deve estar ou não neste intervalo. A interpretação correta está em compreender que um IC é um intervalo aleatório, considerendao que na afirmação de probabilidade definindo os extremos do intervalo, os limites inferior e superior são variáveis aleatórias.\n",
    "\n",
    "A interpretação correta de um IC $100(1 – \\alpha)$% depende da visão de frequência relativa da probabilidade. Se temos uma quantidade grande de amostras aleatórias e intervalos de confiança $100(1 – \\alpha)$%  para $\\mu$ são calculado a partir de cada amostra, $100(1 – \\alpha)$% desses intervalos conterão o valor verdadeiro de $\\mu$.\n",
    "\n",
    "Essa situação é abordada no exemplo a seguir, que constroi intervalos de confiança para várias amostras."
   ]
  },
  {
   "cell_type": "code",
   "execution_count": 14,
   "metadata": {
    "colab": {
     "base_uri": "https://localhost:8080/",
     "height": 500
    },
    "id": "_ll4ii2WbWeH",
    "outputId": "b9a90032-28ec-47fc-ff2e-c545695106ef"
   },
   "outputs": [
    {
     "data": {
      "image/png": "[encoded data removed]",
      "text/plain": [
       "<Figure size 432x576 with 1 Axes>"
      ]
     },
     "metadata": {
      "needs_background": "light"
     },
     "output_type": "display_data"
    },
    {
     "name": "stdout",
     "output_type": "stream",
     "text": [
      "18/20=0.9\n"
     ]
    }
   ],
   "source": [
    "# semente aleatória\n",
    "np.random.seed(321)\n",
    "\n",
    "# Nível de significância\n",
    "alfa = 0.05\n",
    "alfa2 = alfa / 2\n",
    "# Coeficiente de Confiança\n",
    "cconf = 1 - alfa\n",
    "# Erro padrão da média amostral\n",
    "stdx = std / np.sqrt(n)\n",
    "# Valor de z-crítico\n",
    "zc = stats.norm.ppf(1- alfa2)\n",
    "# Número de amostras\n",
    "amostras = 20\n",
    "# Tamanho de cada amostra\n",
    "n = 25\n",
    "\n",
    "# Criar um vetor vazio para \"guardar\" médias amostrais para cada amostra\n",
    "media_amostras = []\n",
    "\n",
    "# laço for para estimar médias amostrais\n",
    "for i in range(amostras):\n",
    "    xs = np.random.choice(X, n)\n",
    "    media_xs = xs.mean()\n",
    "    media_amostras.append(media_xs)    \n",
    "    \n",
    "# Definir um índice para os intervalos (amostras)\n",
    "j=0\n",
    "\n",
    "# Base do gráfico\n",
    "_, ax = plt.subplots(1, 1, figsize=(6, 8))\n",
    "\n",
    "# laço for para comparar intervalos de confiança com valor da média de X\n",
    "for i in range(len(media_amostras)):\n",
    "    if (media > media_amostras[i] - (zc * stdx)) & (media < media_amostras[i] + (zc * stdx)):\n",
    "        # se o intervalo contêm a média de X\n",
    "        ax.errorbar(media_amostras[i], np.arange(len(media_amostras))[i], lolims=True, xerr=(zc * stdx), yerr=0.0, linestyle='', c='black')\n",
    "        j +=1\n",
    "    else:\n",
    "        # se o intervalo não contêm a média de X\n",
    "        ax.errorbar(media_amostras[i], np.arange(len(media_amostras))[i], lolims=True, xerr=(zc * stdx), yerr=0.0, linestyle='', c='red')\n",
    "\n",
    "ax.axvline(media, color='darkorange')\n",
    "plt.show()\n",
    "print(f'{j}/{amostras}={np.round(j/amostras,2)}')"
   ]
  },
  {
   "cell_type": "markdown",
   "metadata": {
    "id": "HaRb4HFkbWeH"
   },
   "source": [
    "Perceba que 2 dos 20 IC estimados não possuem o verdadeiro valor de $\\mu$.\n",
    "\n",
    "Em situações práticas, geralmente obtemos somente uma amostra aleatória e calculamos um IC. Uma vez que esse intervalo poderá conter ou não o valor verdadeiro de $\\mu$, não é razoável vincular um nível de probabilidade a esse evento específico. A afirmação apropriada é que o intervalo observado envolve o valor verdadeiro de $\\mu$, com confiança de $100(1 – \\alpha)$%. Essa afirmação tem uma interpretação frequentista; isto é, não sabemos se a afirmação é verdadeira para essa amostra específica, mas o método usado para obter o intervalo resulta em afirmações corretas $100(1 – \\alpha)$% das vezes."
   ]
  },
  {
   "cell_type": "markdown",
   "metadata": {
    "id": "rduRaHu9bWeH"
   },
   "source": [
    "Vejamos uma definição mais formal para Intervalo de Confiança.\n",
    "\n",
    "> **Definição**\n",
    "\n",
    "Seja $ X_1, X_2, \\cdots, X_n $ uma amostra aleatória de uma população com função de densidade dada por $f(x | \\theta)$, com $ \\theta \\in \\Theta $. Considera-se duas estatísticas:\n",
    "\n",
    "$$ T_1 = T_1 \\left( X_1, X_2, \\cdots, X_n  \\right) $$\n",
    "\n",
    "$$ T_2 = T_2 \\left( X_1, X_2, \\cdots, X_n  \\right) $$\n",
    "\n",
    "de forma que $ T_1 < T_2$, tais que:\n",
    "\n",
    "$$ P \\left( T_1 < \\theta < T_2  \\right) = 1 - \\alpha, \\quad \\forall \\theta \\in \\Theta, \\quad (0 < \\alpha < 1) $$\n",
    "\n",
    "\n",
    "$ \\alpha $ não depende de $\\theta $. Um intervalo aleatório para $\\theta$ é um intervalo $\\left( T_1, T_2 \\right)$, na condições acima.\n",
    "\n",
    "Quando se dispõe de uma amostra particular $\\left( x_1, x_2, \\cdots, x_n  \\right)$, sejam:\n",
    "$$ t_1 = T_1 \\left( x_1, x_2, \\cdots, x_n  \\right) $$\n",
    "\n",
    "$$ t_2 = T_2 \\left( x_1, x_2, \\cdots, x_n  \\right) $$\n",
    "\n",
    "os valores assumidos pelas estatísticas $t_1$ e $t_2$, respectivamente.\n",
    "\n",
    "\n",
    "\n"
   ]
  },
  {
   "cell_type": "markdown",
   "metadata": {
    "id": "5_y0JblcbWeI"
   },
   "source": [
    "## Intervalo de Confiança para a média $\\mu$ com variância $\\sigma^2$ conhecida\n",
    "\n",
    "Suponha que queiramos estimar a média $\\mu$ de uma população com distribuição normal com variância $\\sigma^2$ conhecida.\n",
    "\n",
    "O estimador de máxima verossimilhança para a média populacional $\\mu$ é dado pela média amostral $\\bar{X}$ de uma amostra de tamanho $n$. Assim, temos a seguinte quantidade pivotal:\n",
    "\n",
    "$$ Z = \\frac{\\bar{X}-\\mu}{\\sigma/\\sqrt{n}} \\sim N(0,1) $$\n",
    "\n",
    "O intervalo de confiança assume a forma:\n",
    "\n",
    "$$ P(-z_{(\\alpha/2)} \\leq Z \\leq z_{(\\alpha/2)} )=1-\\alpha $$\n",
    "\n",
    "O valor $z_{(α/2)}$ pode ser obtido de uma distribuição Normal Padrão, $N(0,1)$.\n",
    "\n",
    "Com isso, o intervalo de confiança para a média populacional com variância conhecida é dado por:\n",
    "\n",
    "$$ IC(\\mu;1-\\alpha) = \\left(\\bar{X} - z_{(\\alpha/2)}\\sigma/\\sqrt{n}; \\quad \\bar{X} + z_{(\\alpha/2)}\\sigma/\\sqrt{n}\\right) $$\n",
    "\n",
    "Chamamos $\\varepsilon = z_{(\\alpha/2)} \\frac{\\sigma}{\\sqrt{n}}$ de erro amostral."
   ]
  },
  {
   "cell_type": "markdown",
   "metadata": {
    "id": "g4fvVTX9bWeI"
   },
   "source": [
    "### Grandes amostras\n",
    "Seja $X_1, X_2, \\cdots, X_n$ uma amostra aleatória proveniente de uma população com média $\\mu$ e variância $\\sigma^2$ desconhecidas. \n",
    "\n",
    "Se o tamanho da amostra $n$ for grande, o teorema central do limite implica que a variável padronizada $Z = \\frac{\\bar{X} - \\mu}{\\sigma / \\sqrt{n}}$ tem uma distribuição aproximadamente normal com média $\\mu$ e variância $\\frac{\\sigma^2}{n}$. Logo, $Z$ tem aproximadamente uma distribuição normal padrão. \n",
    "Essa razão poderia ser usada como um pivotal para produzir um IC aproximado para $\\mu$. Mesmo quando o desvio-padrão $\\sigma$ é desconhecido, quando $n$ é grande; a troca de $\\sigma$ pelo desvio-padrão $S$ da amostra tem pouco efeito na distribuição de $Z$.\n"
   ]
  },
  {
   "cell_type": "markdown",
   "metadata": {
    "id": "AR3l95j-bWeI"
   },
   "source": [
    "### Exemplo\n",
    "\n",
    "Considere uma amostra de 100 observações com média $\\bar{x}=30$ e $S=50$.\n",
    "Considerando um nível de confiança de 95%, calcule um intervalo de confiança para a média."
   ]
  },
  {
   "cell_type": "code",
   "execution_count": 15,
   "metadata": {
    "id": "K6iyQDClbWeI"
   },
   "outputs": [],
   "source": [
    "media = 30\n",
    "S = 50\n",
    "n = 100\n",
    "stdx = S/ np.sqrt(n)"
   ]
  },
  {
   "cell_type": "code",
   "execution_count": 16,
   "metadata": {
    "colab": {
     "base_uri": "https://localhost:8080/"
    },
    "id": "hGXfVNEmbWeI",
    "outputId": "714ab287-b967-4015-c86e-7e4c04b478ec"
   },
   "outputs": [
    {
     "name": "stdout",
     "output_type": "stream",
     "text": [
      "Coeficiente de confiança: 95%\n",
      "Nível de significância: 0.0250\n",
      "Valor de z-critico: 1.9600\n",
      "\n",
      "Intervalo de confiança:\n",
      "Limite inferior: 20.2002\n",
      "Limite superior: 39.7998\n"
     ]
    }
   ],
   "source": [
    "cconf = .95\n",
    "caudas    = 2\n",
    "alpha     = (1 - cconf)/caudas\n",
    "z_critico = stats.norm.ppf(1 - alpha)\n",
    "\n",
    "# Intervalo de confiança\n",
    "lim_inf = media - (z_critico * stdx)\n",
    "lim_sup = media + (z_critico * stdx)\n",
    "\n",
    "#  IMprimir intervalos\n",
    "print('Coeficiente de confiança: {:.0%}'.format(cconf))\n",
    "print('Nível de significância: {:.4f}'.format(alpha))\n",
    "print('Valor de z-critico: {:.4f}'.format(z_critico))\n",
    "print('\\nIntervalo de confiança:\\nLimite inferior: {:.4f}'.format(lim_inf))\n",
    "print('Limite superior: {:.4f}'.format(lim_sup))"
   ]
  },
  {
   "cell_type": "markdown",
   "metadata": {
    "id": "RV_v4AXDbWeJ"
   },
   "source": [
    "Podemos usar o método [`norm.interval`](https://docs.scipy.org/doc/scipy/reference/generated/scipy.stats.norm.html)."
   ]
  },
  {
   "cell_type": "code",
   "execution_count": 17,
   "metadata": {
    "colab": {
     "base_uri": "https://localhost:8080/"
    },
    "id": "IC5DWVInbWeJ",
    "outputId": "752f7364-3fec-48ff-b8ed-f9c28af66db3"
   },
   "outputs": [
    {
     "data": {
      "text/plain": [
       "(20.20018007729973, 39.799819922700266)"
      ]
     },
     "execution_count": 17,
     "metadata": {},
     "output_type": "execute_result"
    }
   ],
   "source": [
    "norm.interval(alpha = cconf, loc = media, scale = stdx)"
   ]
  },
  {
   "cell_type": "markdown",
   "metadata": {
    "id": "tMry6fGHbWeJ"
   },
   "source": [
    "## Intervalo de Confiança para a média $\\mu$ com variância $\\sigma^2$ desconhecida\n",
    "\n",
    "Consideremos uma amostra aleatória simples $X_1, X_2, \\dots ,X_n$, obtida de uma população com distribuição normal, com média $\\mu$ e variância $\\sigma^2$ desconhecidas.\n",
    "\n",
    "Como neste caso a variância é desconhecida, utilizaremos a variância amostral $S^2$ no lugar de $\\sigma^2$. Assim, temos que:\n",
    "\n",
    "$$ T = \\frac{\\bar{X}-\\mu}{S/\\sqrt{n}} \\sim t_{(n-1)} $$\n",
    "\n",
    "\n",
    "A variável $T$ tem distribuição **t de Student** com $n−1$ graus de liberdade.\n",
    "\n",
    "Queremos construir um intervalo de confiança da forma:\n",
    "\n",
    "$$ IC(\\mu;1-\\alpha) = \\left(\\bar{X} - t_{(n-1;\\alpha/2)}S/\\sqrt{n}; \\quad \\bar{X} + t_{(n-1;\\alpha/2)}S/\\sqrt{n}\\right) $$\n",
    "\n",
    "Chamamos $\\varepsilon = t_{(n-1;\\alpha/2)} \\frac{S}{\\sqrt{n}}$ de erro amostral.\n"
   ]
  },
  {
   "cell_type": "markdown",
   "metadata": {
    "id": "dQJ37X7-bWeJ"
   },
   "source": [
    "### Exemplo\n",
    "\n",
    "Vamos considerar dados de uma amostra \"pseudo-fictícia\" do rendimento médio, em quilos/hectare, da produção de milho de 25 fazendas.\n",
    "Os dados estão armazenados em um arquivo do MS Excel e devem ser lidos com o método `read_excel`."
   ]
  },
  {
   "cell_type": "code",
   "execution_count": 18,
   "metadata": {
    "colab": {
     "base_uri": "https://localhost:8080/",
     "height": 73,
     "resources": {
      "http://localhost:8080/nbextensions/google.colab/files.js": {
       "data": "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",
       "headers": [
        [
         "content-type",
         "application/javascript"
        ]
       ],
       "ok": true,
       "status": 200,
       "status_text": ""
      }
     }
    },
    "id": "ltuS0WjDe5-F",
    "outputId": "6f0ab2fa-5fe4-4d3b-a1e7-8f4ee51d8141"
   },
   "outputs": [
    {
     "ename": "ModuleNotFoundError",
     "evalue": "No module named 'google.colab'",
     "output_type": "error",
     "traceback": [
      "\u001b[1;31m---------------------------------------------------------------------------\u001b[0m",
      "\u001b[1;31mModuleNotFoundError\u001b[0m                       Traceback (most recent call last)",
      "\u001b[1;32m<ipython-input-18-542a074d268a>\u001b[0m in \u001b[0;36m<module>\u001b[1;34m\u001b[0m\n\u001b[0;32m      1\u001b[0m \u001b[1;31m# Caso esteja executando este notebook no Colab deve-se executar\u001b[0m\u001b[1;33m\u001b[0m\u001b[1;33m\u001b[0m\u001b[1;33m\u001b[0m\u001b[0m\n\u001b[1;32m----> 2\u001b[1;33m \u001b[1;32mfrom\u001b[0m \u001b[0mgoogle\u001b[0m\u001b[1;33m.\u001b[0m\u001b[0mcolab\u001b[0m \u001b[1;32mimport\u001b[0m \u001b[0mfiles\u001b[0m\u001b[1;33m\u001b[0m\u001b[1;33m\u001b[0m\u001b[0m\n\u001b[0m\u001b[0;32m      3\u001b[0m \u001b[0marquivo\u001b[0m \u001b[1;33m=\u001b[0m \u001b[0mfiles\u001b[0m\u001b[1;33m.\u001b[0m\u001b[0mupload\u001b[0m\u001b[1;33m(\u001b[0m\u001b[1;33m)\u001b[0m\u001b[1;33m\u001b[0m\u001b[1;33m\u001b[0m\u001b[0m\n",
      "\u001b[1;31mModuleNotFoundError\u001b[0m: No module named 'google.colab'"
     ]
    }
   ],
   "source": [
    "# Caso esteja executando este notebook no Colab deve-se executar\n",
    "#from google.colab import files\n",
    "#arquivo = files.upload()"
   ]
  },
  {
   "cell_type": "code",
   "execution_count": 20,
   "metadata": {
    "colab": {
     "base_uri": "https://localhost:8080/",
     "height": 833
    },
    "id": "Y9YZczilbWeK",
    "outputId": "d83864a8-5e2c-4c77-942a-18eb8d550691"
   },
   "outputs": [
    {
     "data": {
      "text/html": [
       "<div>\n",
       "<style scoped>\n",
       "    .dataframe tbody tr th:only-of-type {\n",
       "        vertical-align: middle;\n",
       "    }\n",
       "\n",
       "    .dataframe tbody tr th {\n",
       "        vertical-align: top;\n",
       "    }\n",
       "\n",
       "    .dataframe thead th {\n",
       "        text-align: right;\n",
       "    }\n",
       "</style>\n",
       "<table border=\"1\" class=\"dataframe\">\n",
       "  <thead>\n",
       "    <tr style=\"text-align: right;\">\n",
       "      <th></th>\n",
       "      <th>fazenda</th>\n",
       "      <th>regiao</th>\n",
       "      <th>rend_kha</th>\n",
       "    </tr>\n",
       "  </thead>\n",
       "  <tbody>\n",
       "    <tr>\n",
       "      <th>0</th>\n",
       "      <td>F1</td>\n",
       "      <td>REG1</td>\n",
       "      <td>4459</td>\n",
       "    </tr>\n",
       "    <tr>\n",
       "      <th>1</th>\n",
       "      <td>F2</td>\n",
       "      <td>REG1</td>\n",
       "      <td>2615</td>\n",
       "    </tr>\n",
       "    <tr>\n",
       "      <th>2</th>\n",
       "      <td>F3</td>\n",
       "      <td>REG1</td>\n",
       "      <td>2340</td>\n",
       "    </tr>\n",
       "    <tr>\n",
       "      <th>3</th>\n",
       "      <td>F4</td>\n",
       "      <td>REG1</td>\n",
       "      <td>5238</td>\n",
       "    </tr>\n",
       "    <tr>\n",
       "      <th>4</th>\n",
       "      <td>F5</td>\n",
       "      <td>REG1</td>\n",
       "      <td>3194</td>\n",
       "    </tr>\n",
       "    <tr>\n",
       "      <th>5</th>\n",
       "      <td>F6</td>\n",
       "      <td>REG1</td>\n",
       "      <td>912</td>\n",
       "    </tr>\n",
       "    <tr>\n",
       "      <th>6</th>\n",
       "      <td>F7</td>\n",
       "      <td>REG1</td>\n",
       "      <td>4190</td>\n",
       "    </tr>\n",
       "    <tr>\n",
       "      <th>7</th>\n",
       "      <td>F8</td>\n",
       "      <td>REG1</td>\n",
       "      <td>4235</td>\n",
       "    </tr>\n",
       "    <tr>\n",
       "      <th>8</th>\n",
       "      <td>F9</td>\n",
       "      <td>REG1</td>\n",
       "      <td>4198</td>\n",
       "    </tr>\n",
       "    <tr>\n",
       "      <th>9</th>\n",
       "      <td>F10</td>\n",
       "      <td>REG1</td>\n",
       "      <td>812</td>\n",
       "    </tr>\n",
       "    <tr>\n",
       "      <th>10</th>\n",
       "      <td>F11</td>\n",
       "      <td>REG1</td>\n",
       "      <td>556</td>\n",
       "    </tr>\n",
       "    <tr>\n",
       "      <th>11</th>\n",
       "      <td>F12</td>\n",
       "      <td>REG2</td>\n",
       "      <td>2473</td>\n",
       "    </tr>\n",
       "    <tr>\n",
       "      <th>12</th>\n",
       "      <td>F13</td>\n",
       "      <td>REG2</td>\n",
       "      <td>4838</td>\n",
       "    </tr>\n",
       "    <tr>\n",
       "      <th>13</th>\n",
       "      <td>F14</td>\n",
       "      <td>REG2</td>\n",
       "      <td>3447</td>\n",
       "    </tr>\n",
       "    <tr>\n",
       "      <th>14</th>\n",
       "      <td>F15</td>\n",
       "      <td>REG2</td>\n",
       "      <td>6893</td>\n",
       "    </tr>\n",
       "    <tr>\n",
       "      <th>15</th>\n",
       "      <td>F16</td>\n",
       "      <td>REG2</td>\n",
       "      <td>2874</td>\n",
       "    </tr>\n",
       "    <tr>\n",
       "      <th>16</th>\n",
       "      <td>F17</td>\n",
       "      <td>REG2</td>\n",
       "      <td>4478</td>\n",
       "    </tr>\n",
       "    <tr>\n",
       "      <th>17</th>\n",
       "      <td>F18</td>\n",
       "      <td>REG2</td>\n",
       "      <td>5685</td>\n",
       "    </tr>\n",
       "    <tr>\n",
       "      <th>18</th>\n",
       "      <td>F19</td>\n",
       "      <td>REG3</td>\n",
       "      <td>6281</td>\n",
       "    </tr>\n",
       "    <tr>\n",
       "      <th>19</th>\n",
       "      <td>F20</td>\n",
       "      <td>REG3</td>\n",
       "      <td>8041</td>\n",
       "    </tr>\n",
       "    <tr>\n",
       "      <th>20</th>\n",
       "      <td>F21</td>\n",
       "      <td>REG3</td>\n",
       "      <td>7518</td>\n",
       "    </tr>\n",
       "    <tr>\n",
       "      <th>21</th>\n",
       "      <td>F22</td>\n",
       "      <td>REG3</td>\n",
       "      <td>5024</td>\n",
       "    </tr>\n",
       "    <tr>\n",
       "      <th>22</th>\n",
       "      <td>F23</td>\n",
       "      <td>REG3</td>\n",
       "      <td>6268</td>\n",
       "    </tr>\n",
       "    <tr>\n",
       "      <th>23</th>\n",
       "      <td>F24</td>\n",
       "      <td>REG3</td>\n",
       "      <td>7183</td>\n",
       "    </tr>\n",
       "    <tr>\n",
       "      <th>24</th>\n",
       "      <td>F25</td>\n",
       "      <td>REG3</td>\n",
       "      <td>7809</td>\n",
       "    </tr>\n",
       "  </tbody>\n",
       "</table>\n",
       "</div>"
      ],
      "text/plain": [
       "   fazenda regiao  rend_kha\n",
       "0       F1   REG1      4459\n",
       "1       F2   REG1      2615\n",
       "2       F3   REG1      2340\n",
       "3       F4   REG1      5238\n",
       "4       F5   REG1      3194\n",
       "5       F6   REG1       912\n",
       "6       F7   REG1      4190\n",
       "7       F8   REG1      4235\n",
       "8       F9   REG1      4198\n",
       "9      F10   REG1       812\n",
       "10     F11   REG1       556\n",
       "11     F12   REG2      2473\n",
       "12     F13   REG2      4838\n",
       "13     F14   REG2      3447\n",
       "14     F15   REG2      6893\n",
       "15     F16   REG2      2874\n",
       "16     F17   REG2      4478\n",
       "17     F18   REG2      5685\n",
       "18     F19   REG3      6281\n",
       "19     F20   REG3      8041\n",
       "20     F21   REG3      7518\n",
       "21     F22   REG3      5024\n",
       "22     F23   REG3      6268\n",
       "23     F24   REG3      7183\n",
       "24     F25   REG3      7809"
      ]
     },
     "execution_count": 20,
     "metadata": {},
     "output_type": "execute_result"
    }
   ],
   "source": [
    "# Executando o comando de um diretório local\n",
    "dados = pd.read_excel('prod_media.xlsx')\n",
    "dados.head(25)"
   ]
  },
  {
   "cell_type": "markdown",
   "metadata": {
    "id": "wXo-m_k2bWeK"
   },
   "source": [
    "Considerando estes dados, vamos contruir uma estimativa de intervalo para a média desta medida de produtividade das fazendas produtoras de milho."
   ]
  },
  {
   "cell_type": "code",
   "execution_count": 21,
   "metadata": {
    "colab": {
     "base_uri": "https://localhost:8080/"
    },
    "id": "kKj4gZH5bWeK",
    "outputId": "8f8360b3-646c-4121-c4ba-294635d347bb"
   },
   "outputs": [
    {
     "data": {
      "text/plain": [
       "25"
      ]
     },
     "execution_count": 21,
     "metadata": {},
     "output_type": "execute_result"
    }
   ],
   "source": [
    "# tamanho da amostra\n",
    "n = dados.shape[0]\n",
    "n"
   ]
  },
  {
   "cell_type": "code",
   "execution_count": 22,
   "metadata": {
    "colab": {
     "base_uri": "https://localhost:8080/"
    },
    "id": "pu2Nxp5-bWeK",
    "outputId": "2afd0cb1-df0e-4d47-ffb4-2d8bd5cb9868"
   },
   "outputs": [
    {
     "data": {
      "text/plain": [
       "4462.44"
      ]
     },
     "execution_count": 22,
     "metadata": {},
     "output_type": "execute_result"
    }
   ],
   "source": [
    "# média amostral\n",
    "m = dados['rend_kha'].mean()\n",
    "m"
   ]
  },
  {
   "cell_type": "code",
   "execution_count": 23,
   "metadata": {
    "colab": {
     "base_uri": "https://localhost:8080/"
    },
    "id": "pgYKD73dbWeK",
    "outputId": "0b067c33-a328-4b48-feae-a10dd37f07f9"
   },
   "outputs": [
    {
     "data": {
      "text/plain": [
       "2181.335811683596"
      ]
     },
     "execution_count": 23,
     "metadata": {},
     "output_type": "execute_result"
    }
   ],
   "source": [
    "# desvio-padrão amostral\n",
    "dp = dados['rend_kha'].std()\n",
    "dp"
   ]
  },
  {
   "cell_type": "code",
   "execution_count": 24,
   "metadata": {
    "colab": {
     "base_uri": "https://localhost:8080/"
    },
    "id": "La8Pg5zqbWeK",
    "outputId": "60cc8055-fbc5-4d6e-e6dd-69f724342934"
   },
   "outputs": [
    {
     "data": {
      "text/plain": [
       "436.26716233671925"
      ]
     },
     "execution_count": 24,
     "metadata": {},
     "output_type": "execute_result"
    }
   ],
   "source": [
    "# desvio-padrão da média amostral\n",
    "std_m = dp/ np.sqrt(n)\n",
    "std_m"
   ]
  },
  {
   "cell_type": "markdown",
   "metadata": {
    "id": "2nez7QUZbWeL"
   },
   "source": [
    "Para obter valores críticos de t vamos usar o método `ppf` do `scipy.stats.t`:\n",
    "`ppf(q, df, loc=0, scale=1)`"
   ]
  },
  {
   "cell_type": "code",
   "execution_count": 25,
   "metadata": {
    "colab": {
     "base_uri": "https://localhost:8080/"
    },
    "id": "yeUDRNeSbWeL",
    "outputId": "6d254d2d-e6ec-4855-8939-f7d68155bb81"
   },
   "outputs": [
    {
     "name": "stdout",
     "output_type": "stream",
     "text": [
      "2.0639\n"
     ]
    }
   ],
   "source": [
    "from scipy.stats import t\n",
    "\n",
    "# graus de liberdade\n",
    "gl = n-1\n",
    "\n",
    "# Coeficiente de confianaça considerando um intervalo bicaudal\n",
    "cconf = 0.95\n",
    "alpha = (1 - cconf)/2\n",
    "\n",
    "# valor crítico\n",
    "tc = t.ppf(1-alpha, gl)\n",
    "print(round(tc, 4))"
   ]
  },
  {
   "cell_type": "code",
   "execution_count": 26,
   "metadata": {
    "colab": {
     "base_uri": "https://localhost:8080/"
    },
    "id": "UiH2UN64bWeL",
    "outputId": "bd9807c8-9e74-4ca6-8b9a-ed5748235393"
   },
   "outputs": [
    {
     "name": "stdout",
     "output_type": "stream",
     "text": [
      "IC =  (3562.0288, 5362.8512)\n"
     ]
    }
   ],
   "source": [
    "IC = ( round(m - tc * std_m, 4), round(m + tc * std_m, 4) )\n",
    "print(\"IC = \", IC)"
   ]
  },
  {
   "cell_type": "code",
   "execution_count": 27,
   "metadata": {
    "colab": {
     "base_uri": "https://localhost:8080/"
    },
    "id": "qSJu8CqZbWeL",
    "outputId": "657869ac-aff4-485c-900a-8c4213821d48"
   },
   "outputs": [
    {
     "name": "stdout",
     "output_type": "stream",
     "text": [
      "Coeficiente de confiança: 95.00%\n",
      "Nível de significância: 0.0500\n",
      "Valor de t-critico: 2.0639\n",
      "\n",
      "Intervalo de confiança:\n",
      "Limite inferior: 3562.0288\n",
      "Limite superior:5362.8512\n"
     ]
    }
   ],
   "source": [
    "# Intervalo de confiança\n",
    "lim_inf = round((m - tc * std_m), 4)\n",
    "lim_sup = round((m + tc * std_m), 4)\n",
    "\n",
    "#  IMprimir intervalos\n",
    "print('Coeficiente de confiança: {:.2%}'.format(cconf))\n",
    "print('Nível de significância: {:.4f}'.format(alpha*2))\n",
    "print('Valor de t-critico: {:.4f}'.format(tc))\n",
    "print('\\nIntervalo de confiança:\\nLimite inferior: {:.4f}'.format(lim_inf))\n",
    "print('Limite superior:{:.4f}'.format(lim_sup))"
   ]
  },
  {
   "cell_type": "markdown",
   "metadata": {
    "id": "AjHnMiktbWeL"
   },
   "source": [
    "Podemos usar o método [`t.interval`](https://docs.scipy.org/doc/scipy/reference/generated/scipy.stats.t.html)."
   ]
  },
  {
   "cell_type": "code",
   "execution_count": 28,
   "metadata": {
    "colab": {
     "base_uri": "https://localhost:8080/"
    },
    "id": "_JoNmOidbWeL",
    "outputId": "95a9d669-9030-45ba-b971-cc9300811bf0"
   },
   "outputs": [
    {
     "data": {
      "text/plain": [
       "(3562.028831167707, 5362.851168832292)"
      ]
     },
     "execution_count": 28,
     "metadata": {},
     "output_type": "execute_result"
    }
   ],
   "source": [
    "t.interval(alpha = 0.95, df = gl, loc = m, scale = std_m)"
   ]
  },
  {
   "cell_type": "markdown",
   "metadata": {
    "id": "y9X4wikAbWeM"
   },
   "source": [
    "## Intervalo de confiança para Proporção\n",
    "\n",
    "Temos que:\n",
    "\n",
    "$$ \\hat{p} \\sim N\\left(p; \\frac{p(1-p)}{n}\\right) $$\n",
    "\n",
    "Observemos que a variância de $\\hat{p}$ depende do parâmetro desconhecido $p$. No entanto, pelo fato de $n$ ser grande, podemos substituir $p$ por $\\hat{p}$. Com isso temos que:\n",
    "\n",
    "$$ Z = \\left(\\frac{\\hat{p} - p}{\\sqrt{\\frac{\\hat{p}(1-\\hat{p})}{n}}}\\right) \\sim N(0,1) $$\n",
    "\n",
    "Considerando o mesmo procedimento de montagem do intervalo para a média, construímos o intervalo com $100(1 -\\alpha)\\%$ de confiança para a proporção $p$:\n",
    "\n",
    "$$ IC(p;1-\\alpha) = \\left(\\hat{p} - z_{\\alpha/2}\\sqrt{\\frac{\\hat{p}(1-\\hat{p})}{n}}; ~~\\hat{p} + z_{\\alpha/2}\\sqrt{\\frac{\\hat{p}(1-\\hat{p})}{n}}\\right) $$\n",
    "\n",
    "Neste caso o erro amostral é dada por: $\\varepsilon = z_{\\alpha/2}\\sqrt{\\frac{\\hat{p}(1-\\hat{p})}{n}}$.\n"
   ]
  },
  {
   "cell_type": "markdown",
   "metadata": {
    "id": "SJLl86jZbWeM"
   },
   "source": [
    "### Exemplo"
   ]
  },
  {
   "cell_type": "markdown",
   "metadata": {
    "id": "yOpSSoF9bWeM"
   },
   "source": [
    "Em um estudo, tivemos a informação de que 35% dos trabalhadores estão empregados no setor informal.\n",
    "\n",
    "Considere uma amostra de 120 trabalhadores, calcule um intervalo de confianaça para essa proporção considerando um nível de confiança de 95%."
   ]
  },
  {
   "cell_type": "code",
   "execution_count": 29,
   "metadata": {
    "id": "8IgW2LkabWeM"
   },
   "outputs": [],
   "source": [
    "# n. de observações com a caracteristica\n",
    "prop = 0.35\n",
    "\n",
    "# tamanho da amostra\n",
    "n = 120"
   ]
  },
  {
   "cell_type": "code",
   "execution_count": 30,
   "metadata": {
    "id": "XEt5VNLobWeM"
   },
   "outputs": [],
   "source": [
    "from numpy import random \n",
    "np.random.seed(321)\n",
    "\n",
    "# Vamos gerar uma variável binária: 0 = ocupado formal e 1 = ocupado informal\n",
    "x = random.binomial(n=1, p= prop, size= n)"
   ]
  },
  {
   "cell_type": "code",
   "execution_count": 31,
   "metadata": {
    "colab": {
     "base_uri": "https://localhost:8080/",
     "height": 265
    },
    "id": "kztNJQKjbWeM",
    "outputId": "4a865f21-7dc1-4200-9d10-e2923c89afdd"
   },
   "outputs": [
    {
     "data": {
      "image/png": "[encoded data removed]",
      "text/plain": [
       "<Figure size 432x288 with 1 Axes>"
      ]
     },
     "metadata": {
      "needs_background": "light"
     },
     "output_type": "display_data"
    }
   ],
   "source": [
    "# Histograma\n",
    "plt.hist(x);"
   ]
  },
  {
   "cell_type": "code",
   "execution_count": 32,
   "metadata": {
    "colab": {
     "base_uri": "https://localhost:8080/"
    },
    "id": "PJZO_uVKbWeM",
    "outputId": "38979fb7-df93-4b12-fc27-b8cb3f40723e"
   },
   "outputs": [
    {
     "data": {
      "text/plain": [
       "42"
      ]
     },
     "execution_count": 32,
     "metadata": {},
     "output_type": "execute_result"
    }
   ],
   "source": [
    "# Soma das observações.\n",
    "y = np.sum(x)\n",
    "y"
   ]
  },
  {
   "cell_type": "code",
   "execution_count": 33,
   "metadata": {
    "colab": {
     "base_uri": "https://localhost:8080/"
    },
    "id": "I3bfFTGbbWeN",
    "outputId": "633423fc-b54a-4ed7-f82f-718b17e84805"
   },
   "outputs": [
    {
     "data": {
      "text/plain": [
       "0.35"
      ]
     },
     "execution_count": 33,
     "metadata": {},
     "output_type": "execute_result"
    }
   ],
   "source": [
    "# Estimativa da proporção amostral\n",
    "p_hat = x.mean()\n",
    "p_hat"
   ]
  },
  {
   "cell_type": "code",
   "execution_count": 34,
   "metadata": {
    "colab": {
     "base_uri": "https://localhost:8080/"
    },
    "id": "FFP54S8LbWeN",
    "outputId": "e612a358-805d-4ce7-9d73-41f32b189684"
   },
   "outputs": [
    {
     "data": {
      "text/plain": [
       "0.04354116825871043"
      ]
     },
     "execution_count": 34,
     "metadata": {},
     "output_type": "execute_result"
    }
   ],
   "source": [
    "# Estiamtiva de desvio-padrão\n",
    "desv = np.sqrt((p_hat*(1-p_hat))/n)\n",
    "desv"
   ]
  },
  {
   "cell_type": "code",
   "execution_count": 35,
   "metadata": {
    "id": "8fUxCrlpbWeN"
   },
   "outputs": [],
   "source": [
    "# Contrução do intervalo de confiança\n",
    "cconf = .95\n",
    "caudas    = 2\n",
    "alpha     = (1 - cconf)/caudas\n",
    "z_critico = stats.norm.ppf(1 - alpha)"
   ]
  },
  {
   "cell_type": "code",
   "execution_count": 36,
   "metadata": {
    "colab": {
     "base_uri": "https://localhost:8080/"
    },
    "id": "p5SfHSq2bWeN",
    "outputId": "d733981a-8f82-41d3-b09b-468e98f3ac65"
   },
   "outputs": [
    {
     "name": "stdout",
     "output_type": "stream",
     "text": [
      "Limite inferior = 0.2647\n",
      "Limite superior = 0.4353\n"
     ]
    }
   ],
   "source": [
    "# Intervalo de confiança\n",
    "lim_inf = p_hat - (z_critico * desv)\n",
    "print(\"Limite inferior =\" , round(lim_inf, 4))\n",
    "\n",
    "lim_sup = p_hat + (z_critico * desv)\n",
    "print(\"Limite superior =\" , round(lim_sup, 4)) "
   ]
  },
  {
   "cell_type": "markdown",
   "metadata": {
    "id": "51MYIjl2bWeN"
   },
   "source": [
    "Aqui também podemos usar o método [`norm.interval`](https://docs.scipy.org/doc/scipy/reference/generated/scipy.stats.norm.html)."
   ]
  },
  {
   "cell_type": "code",
   "execution_count": 37,
   "metadata": {
    "colab": {
     "base_uri": "https://localhost:8080/"
    },
    "id": "d6u2UBNdbWeN",
    "outputId": "02567c62-813b-42d8-cc24-b19113a7c479"
   },
   "outputs": [
    {
     "data": {
      "text/plain": [
       "(0.26466087836812896, 0.435339121631871)"
      ]
     },
     "execution_count": 37,
     "metadata": {},
     "output_type": "execute_result"
    }
   ],
   "source": [
    "norm.interval(alpha = cconf, loc = p_hat, scale = desv)"
   ]
  },
  {
   "cell_type": "markdown",
   "metadata": {
    "id": "RR9zzJrLbWeO"
   },
   "source": [
    "### Exemplo usando o Statsmodels\n",
    "\n",
    "> Intervalo de confinança para a [média com base na normal padrão](https://www.statsmodels.org/stable/generated/statsmodels.stats.weightstats.zconfint.html#statsmodels.stats.weightstats.zconfint).\n",
    "\n",
    "> Intervalo de confinança para a [média com base na t](https://www.statsmodels.org/stable/generated/statsmodels.stats.weightstats._tconfint_generic.html#statsmodels.stats.weightstats._tconfint_generic).\n",
    "\n",
    "> Intervalo de confinança para [proporção](https://www.statsmodels.org/stable/generated/statsmodels.stats.proportion.proportion_confint.html#statsmodels.stats.proportion.proportion_confint)."
   ]
  },
  {
   "cell_type": "markdown",
   "metadata": {
    "id": "Pa1AqFO7bWeO"
   },
   "source": [
    "**EXEMPLO**\n",
    "\n",
    "Considerando a situação do exemplo anterior (valores de *n* e *y*).\n",
    "\n",
    "Calcule um intervalo de confianaça para essa proporção considerando um nível de confiança de 95%."
   ]
  },
  {
   "cell_type": "code",
   "execution_count": 38,
   "metadata": {
    "colab": {
     "base_uri": "https://localhost:8080/"
    },
    "id": "qPUuwhaZbWeO",
    "outputId": "a4027180-544d-4664-b5ae-16db73522bca"
   },
   "outputs": [],
   "source": [
    "import statsmodels.stats.proportion as smp"
   ]
  },
  {
   "cell_type": "code",
   "execution_count": 39,
   "metadata": {
    "colab": {
     "base_uri": "https://localhost:8080/"
    },
    "id": "ND6EW7HzbWeO",
    "outputId": "ba18c8bf-d6b9-4eaa-ace7-48bb1b18d921"
   },
   "outputs": [
    {
     "name": "stdout",
     "output_type": "stream",
     "text": [
      "Limite inferior do IC : 0.2646608783681289\n",
      "Limite superior do IC: 0.43533912163187105\n"
     ]
    }
   ],
   "source": [
    "inf, sup = smp.proportion_confint (y, n, alpha=0.05, method='normal')\n",
    "\n",
    "print ('Limite inferior do IC :', inf)\n",
    "print ('Limite superior do IC:', sup)"
   ]
  }
 ],
 "metadata": {
  "colab": {
   "name": "Estimacao_intervalos.ipynb",
   "provenance": []
  },
  "kernelspec": {
   "display_name": "Python 3",
   "language": "python",
   "name": "python3"
  },
  "language_info": {
   "codemirror_mode": {
    "name": "ipython",
    "version": 3
   },
   "file_extension": ".py",
   "mimetype": "text/x-python",
   "name": "python",
   "nbconvert_exporter": "python",
   "pygments_lexer": "ipython3",
   "version": "3.7.6"
  }
 },
 "nbformat": 4,
 "nbformat_minor": 1
}
