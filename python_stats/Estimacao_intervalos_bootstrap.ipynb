{
 "cells": [
  {
   "cell_type": "markdown",
   "metadata": {
    "id": "7pyS2pEimXU4"
   },
   "source": [
    "# Estimação por intervalos e a técnica de *Bootstrap*"
   ]
  },
  {
   "cell_type": "markdown",
   "metadata": {
    "id": "mBNHx5DvmXU6"
   },
   "source": [
    "A ideia básica do método *bootstrap* é reamostrar o conjunto disponível de dados para estimar o parâmetro $\\theta$, com a finalidade de criar dados replicados. A partir dessas replicações, podemos avaliar a variabilidade de um estimador proposto para $\\theta$, sem recorrer a cálculos analíticos."
   ]
  },
  {
   "cell_type": "code",
   "execution_count": 1,
   "metadata": {
    "id": "N4I5YppOmXU8"
   },
   "outputs": [],
   "source": [
    "# Carregar bibliotecas\n",
    "import numpy as np\n",
    "import pandas as pd\n",
    "import matplotlib.pyplot as plt\n",
    "\n",
    "import scipy.stats as stats"
   ]
  },
  {
   "cell_type": "markdown",
   "metadata": {
    "id": "VO2QGPJ_mXU9"
   },
   "source": [
    "Vamos usar os dados da PNS (Pesquisa Nacional de Saúde) de 2019 para simular uma população.\n",
    "\n",
    "Os dados utilizados aqui referem-se a amostra da PNS/2019 para o estado de São Paulo."
   ]
  },
  {
   "cell_type": "code",
   "execution_count": 2,
   "metadata": {
    "colab": {
     "base_uri": "https://localhost:8080/",
     "height": 73,
     "resources": {
      "http://localhost:8080/nbextensions/google.colab/files.js": {
       "data": "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",
       "headers": [
        [
         "content-type",
         "application/javascript"
        ]
       ],
       "ok": true,
       "status": 200,
       "status_text": ""
      }
     }
    },
    "id": "BjhV3GxgmXU-",
    "outputId": "9e3b63dd-60d8-4fd1-9203-7c6f83e2009c"
   },
   "outputs": [],
   "source": [
    "# Caso esteja executando este notebook no Colab é preciso carregar o arquivo com os seguintes comandos\n",
    "#from google.colab import files\n",
    "#uploaded = files.upload()"
   ]
  },
  {
   "cell_type": "code",
   "execution_count": 3,
   "metadata": {
    "id": "8o9Hoa5rmXU_"
   },
   "outputs": [
    {
     "name": "stdout",
     "output_type": "stream",
     "text": [
      "<class 'pandas.core.frame.DataFrame'>\n",
      "RangeIndex: 593 entries, 0 to 592\n",
      "Data columns (total 7 columns):\n",
      " #   Column        Non-Null Count  Dtype \n",
      "---  ------        --------------  ----- \n",
      " 0   idade         593 non-null    int64 \n",
      " 1   sexo          593 non-null    object\n",
      " 2   estado_civil  593 non-null    object\n",
      " 3   peso          593 non-null    int64 \n",
      " 4   altura        593 non-null    int64 \n",
      " 5   fuma          593 non-null    object\n",
      " 6   hipertenso    593 non-null    object\n",
      "dtypes: int64(3), object(4)\n",
      "memory usage: 32.6+ KB\n"
     ]
    }
   ],
   "source": [
    "# Carregar dados em um objeto denominado 'pns'\n",
    "pns = pd.read_csv('C:/Users/vitor/OneDrive/vhmiro/PPGER_Estatistica/estatistica_ppger_ufc/dados/amostra_pns19_sp.csv')\n",
    "\n",
    "# Ver informações do conjunto de dados\n",
    "pns.info()"
   ]
  },
  {
   "cell_type": "code",
   "execution_count": 4,
   "metadata": {
    "colab": {
     "base_uri": "https://localhost:8080/",
     "height": 206
    },
    "id": "Pi2Kir1xmXU_",
    "outputId": "c8d64ba9-f6a1-4534-d4f7-8ac40a489fa1",
    "scrolled": true
   },
   "outputs": [
    {
     "data": {
      "text/html": [
       "<div>\n",
       "<style scoped>\n",
       "    .dataframe tbody tr th:only-of-type {\n",
       "        vertical-align: middle;\n",
       "    }\n",
       "\n",
       "    .dataframe tbody tr th {\n",
       "        vertical-align: top;\n",
       "    }\n",
       "\n",
       "    .dataframe thead th {\n",
       "        text-align: right;\n",
       "    }\n",
       "</style>\n",
       "<table border=\"1\" class=\"dataframe\">\n",
       "  <thead>\n",
       "    <tr style=\"text-align: right;\">\n",
       "      <th></th>\n",
       "      <th>idade</th>\n",
       "      <th>sexo</th>\n",
       "      <th>estado_civil</th>\n",
       "      <th>peso</th>\n",
       "      <th>altura</th>\n",
       "      <th>fuma</th>\n",
       "      <th>hipertenso</th>\n",
       "    </tr>\n",
       "  </thead>\n",
       "  <tbody>\n",
       "    <tr>\n",
       "      <th>0</th>\n",
       "      <td>16</td>\n",
       "      <td>homem</td>\n",
       "      <td>solteiro</td>\n",
       "      <td>53</td>\n",
       "      <td>165</td>\n",
       "      <td>nao</td>\n",
       "      <td>nao</td>\n",
       "    </tr>\n",
       "    <tr>\n",
       "      <th>1</th>\n",
       "      <td>23</td>\n",
       "      <td>homem</td>\n",
       "      <td>solteiro</td>\n",
       "      <td>65</td>\n",
       "      <td>175</td>\n",
       "      <td>nao</td>\n",
       "      <td>nao</td>\n",
       "    </tr>\n",
       "    <tr>\n",
       "      <th>2</th>\n",
       "      <td>29</td>\n",
       "      <td>mulher</td>\n",
       "      <td>solteiro</td>\n",
       "      <td>84</td>\n",
       "      <td>166</td>\n",
       "      <td>nao</td>\n",
       "      <td>nao</td>\n",
       "    </tr>\n",
       "    <tr>\n",
       "      <th>3</th>\n",
       "      <td>76</td>\n",
       "      <td>mulher</td>\n",
       "      <td>casado</td>\n",
       "      <td>60</td>\n",
       "      <td>155</td>\n",
       "      <td>nao</td>\n",
       "      <td>sim</td>\n",
       "    </tr>\n",
       "    <tr>\n",
       "      <th>4</th>\n",
       "      <td>58</td>\n",
       "      <td>homem</td>\n",
       "      <td>casado</td>\n",
       "      <td>74</td>\n",
       "      <td>167</td>\n",
       "      <td>nao</td>\n",
       "      <td>sim</td>\n",
       "    </tr>\n",
       "  </tbody>\n",
       "</table>\n",
       "</div>"
      ],
      "text/plain": [
       "   idade    sexo estado_civil  peso  altura fuma hipertenso\n",
       "0     16   homem     solteiro    53     165  nao        nao\n",
       "1     23   homem     solteiro    65     175  nao        nao\n",
       "2     29  mulher     solteiro    84     166  nao        nao\n",
       "3     76  mulher       casado    60     155  nao        sim\n",
       "4     58   homem       casado    74     167  nao        sim"
      ]
     },
     "execution_count": 4,
     "metadata": {},
     "output_type": "execute_result"
    }
   ],
   "source": [
    "# Ver 5 primeiras linhas\n",
    "pns.head()"
   ]
  },
  {
   "cell_type": "markdown",
   "metadata": {
    "id": "wNr6gIT4mXVD"
   },
   "source": [
    "Vamos obter uma amostra de 100 observações desses dados."
   ]
  },
  {
   "cell_type": "code",
   "execution_count": 5,
   "metadata": {
    "colab": {
     "base_uri": "https://localhost:8080/",
     "height": 363
    },
    "id": "ZmMGLNJbmXVD",
    "outputId": "aef24b10-7747-4598-d82a-122e4b70fe99"
   },
   "outputs": [
    {
     "data": {
      "text/html": [
       "<div>\n",
       "<style scoped>\n",
       "    .dataframe tbody tr th:only-of-type {\n",
       "        vertical-align: middle;\n",
       "    }\n",
       "\n",
       "    .dataframe tbody tr th {\n",
       "        vertical-align: top;\n",
       "    }\n",
       "\n",
       "    .dataframe thead th {\n",
       "        text-align: right;\n",
       "    }\n",
       "</style>\n",
       "<table border=\"1\" class=\"dataframe\">\n",
       "  <thead>\n",
       "    <tr style=\"text-align: right;\">\n",
       "      <th></th>\n",
       "      <th>idade</th>\n",
       "      <th>sexo</th>\n",
       "      <th>estado_civil</th>\n",
       "      <th>peso</th>\n",
       "      <th>altura</th>\n",
       "      <th>fuma</th>\n",
       "      <th>hipertenso</th>\n",
       "    </tr>\n",
       "  </thead>\n",
       "  <tbody>\n",
       "    <tr>\n",
       "      <th>30</th>\n",
       "      <td>63</td>\n",
       "      <td>homem</td>\n",
       "      <td>casado</td>\n",
       "      <td>82</td>\n",
       "      <td>177</td>\n",
       "      <td>nao</td>\n",
       "      <td>nao</td>\n",
       "    </tr>\n",
       "    <tr>\n",
       "      <th>76</th>\n",
       "      <td>64</td>\n",
       "      <td>homem</td>\n",
       "      <td>viuvo</td>\n",
       "      <td>75</td>\n",
       "      <td>174</td>\n",
       "      <td>nao</td>\n",
       "      <td>sim</td>\n",
       "    </tr>\n",
       "    <tr>\n",
       "      <th>227</th>\n",
       "      <td>55</td>\n",
       "      <td>mulher</td>\n",
       "      <td>casado</td>\n",
       "      <td>65</td>\n",
       "      <td>165</td>\n",
       "      <td>nao</td>\n",
       "      <td>sim</td>\n",
       "    </tr>\n",
       "    <tr>\n",
       "      <th>424</th>\n",
       "      <td>43</td>\n",
       "      <td>homem</td>\n",
       "      <td>casado</td>\n",
       "      <td>70</td>\n",
       "      <td>165</td>\n",
       "      <td>nao</td>\n",
       "      <td>nao</td>\n",
       "    </tr>\n",
       "    <tr>\n",
       "      <th>184</th>\n",
       "      <td>37</td>\n",
       "      <td>homem</td>\n",
       "      <td>casado</td>\n",
       "      <td>70</td>\n",
       "      <td>170</td>\n",
       "      <td>nao</td>\n",
       "      <td>nao</td>\n",
       "    </tr>\n",
       "    <tr>\n",
       "      <th>362</th>\n",
       "      <td>57</td>\n",
       "      <td>homem</td>\n",
       "      <td>casado</td>\n",
       "      <td>71</td>\n",
       "      <td>168</td>\n",
       "      <td>sim</td>\n",
       "      <td>nao</td>\n",
       "    </tr>\n",
       "    <tr>\n",
       "      <th>301</th>\n",
       "      <td>57</td>\n",
       "      <td>homem</td>\n",
       "      <td>casado</td>\n",
       "      <td>102</td>\n",
       "      <td>172</td>\n",
       "      <td>nao</td>\n",
       "      <td>sim</td>\n",
       "    </tr>\n",
       "    <tr>\n",
       "      <th>550</th>\n",
       "      <td>21</td>\n",
       "      <td>homem</td>\n",
       "      <td>solteiro</td>\n",
       "      <td>55</td>\n",
       "      <td>167</td>\n",
       "      <td>nao</td>\n",
       "      <td>nao</td>\n",
       "    </tr>\n",
       "    <tr>\n",
       "      <th>101</th>\n",
       "      <td>26</td>\n",
       "      <td>mulher</td>\n",
       "      <td>divorciado</td>\n",
       "      <td>54</td>\n",
       "      <td>165</td>\n",
       "      <td>sim</td>\n",
       "      <td>nao</td>\n",
       "    </tr>\n",
       "    <tr>\n",
       "      <th>177</th>\n",
       "      <td>34</td>\n",
       "      <td>mulher</td>\n",
       "      <td>casado</td>\n",
       "      <td>56</td>\n",
       "      <td>162</td>\n",
       "      <td>nao</td>\n",
       "      <td>nao</td>\n",
       "    </tr>\n",
       "  </tbody>\n",
       "</table>\n",
       "</div>"
      ],
      "text/plain": [
       "     idade    sexo estado_civil  peso  altura fuma hipertenso\n",
       "30      63   homem       casado    82     177  nao        nao\n",
       "76      64   homem        viuvo    75     174  nao        sim\n",
       "227     55  mulher       casado    65     165  nao        sim\n",
       "424     43   homem       casado    70     165  nao        nao\n",
       "184     37   homem       casado    70     170  nao        nao\n",
       "362     57   homem       casado    71     168  sim        nao\n",
       "301     57   homem       casado   102     172  nao        sim\n",
       "550     21   homem     solteiro    55     167  nao        nao\n",
       "101     26  mulher   divorciado    54     165  sim        nao\n",
       "177     34  mulher       casado    56     162  nao        nao"
      ]
     },
     "execution_count": 5,
     "metadata": {},
     "output_type": "execute_result"
    }
   ],
   "source": [
    "# semente aleatória\n",
    "np.random.seed(42)\n",
    "\n",
    "# Obter amostra \n",
    "pns_amostra = pns.sample(100)\n",
    "\n",
    "# Ver 10 primeiras linhas\n",
    "pns_amostra.head(10)"
   ]
  },
  {
   "cell_type": "code",
   "execution_count": 6,
   "metadata": {
    "colab": {
     "base_uri": "https://localhost:8080/"
    },
    "id": "hOTqTUnnmXVE",
    "outputId": "407e004b-6b49-4efc-ef62-8e0921a38d34"
   },
   "outputs": [
    {
     "data": {
      "text/plain": [
       "nao    76\n",
       "sim    24\n",
       "Name: hipertenso, dtype: int64"
      ]
     },
     "execution_count": 6,
     "metadata": {},
     "output_type": "execute_result"
    }
   ],
   "source": [
    "# Contagem de indivíduos na amostra que são hipertensos\n",
    "pns_amostra['hipertenso'].value_counts()"
   ]
  },
  {
   "cell_type": "code",
   "execution_count": 7,
   "metadata": {
    "colab": {
     "base_uri": "https://localhost:8080/"
    },
    "id": "KDpF2spdmXVE",
    "outputId": "ddca972b-d76e-4f57-c9fc-de3b93c83dfc"
   },
   "outputs": [
    {
     "data": {
      "text/plain": [
       "nao    76.0\n",
       "sim    24.0\n",
       "Name: hipertenso, dtype: float64"
      ]
     },
     "execution_count": 7,
     "metadata": {},
     "output_type": "execute_result"
    }
   ],
   "source": [
    "# Distribuição percentual\n",
    "pns_amostra['hipertenso'].value_counts(normalize = True)*100"
   ]
  },
  {
   "cell_type": "markdown",
   "metadata": {
    "id": "KTTf0dmimXVF"
   },
   "source": [
    "Vamos criar uma *dummy* para a variável 'hipertenso'.\n",
    "No Python, existem várias formas de criar *dummies*, aqui vamos usar uma função simples no Numpy, a `np.where`."
   ]
  },
  {
   "cell_type": "code",
   "execution_count": 8,
   "metadata": {
    "id": "a5m1KiuQmXVF"
   },
   "outputs": [
    {
     "data": {
      "text/html": [
       "<div>\n",
       "<style scoped>\n",
       "    .dataframe tbody tr th:only-of-type {\n",
       "        vertical-align: middle;\n",
       "    }\n",
       "\n",
       "    .dataframe tbody tr th {\n",
       "        vertical-align: top;\n",
       "    }\n",
       "\n",
       "    .dataframe thead th {\n",
       "        text-align: right;\n",
       "    }\n",
       "</style>\n",
       "<table border=\"1\" class=\"dataframe\">\n",
       "  <thead>\n",
       "    <tr style=\"text-align: right;\">\n",
       "      <th></th>\n",
       "      <th>idade</th>\n",
       "      <th>sexo</th>\n",
       "      <th>estado_civil</th>\n",
       "      <th>peso</th>\n",
       "      <th>altura</th>\n",
       "      <th>fuma</th>\n",
       "      <th>hipertenso</th>\n",
       "      <th>d_hipertenso</th>\n",
       "    </tr>\n",
       "  </thead>\n",
       "  <tbody>\n",
       "    <tr>\n",
       "      <th>30</th>\n",
       "      <td>63</td>\n",
       "      <td>homem</td>\n",
       "      <td>casado</td>\n",
       "      <td>82</td>\n",
       "      <td>177</td>\n",
       "      <td>nao</td>\n",
       "      <td>nao</td>\n",
       "      <td>0</td>\n",
       "    </tr>\n",
       "    <tr>\n",
       "      <th>76</th>\n",
       "      <td>64</td>\n",
       "      <td>homem</td>\n",
       "      <td>viuvo</td>\n",
       "      <td>75</td>\n",
       "      <td>174</td>\n",
       "      <td>nao</td>\n",
       "      <td>sim</td>\n",
       "      <td>1</td>\n",
       "    </tr>\n",
       "    <tr>\n",
       "      <th>227</th>\n",
       "      <td>55</td>\n",
       "      <td>mulher</td>\n",
       "      <td>casado</td>\n",
       "      <td>65</td>\n",
       "      <td>165</td>\n",
       "      <td>nao</td>\n",
       "      <td>sim</td>\n",
       "      <td>1</td>\n",
       "    </tr>\n",
       "    <tr>\n",
       "      <th>424</th>\n",
       "      <td>43</td>\n",
       "      <td>homem</td>\n",
       "      <td>casado</td>\n",
       "      <td>70</td>\n",
       "      <td>165</td>\n",
       "      <td>nao</td>\n",
       "      <td>nao</td>\n",
       "      <td>0</td>\n",
       "    </tr>\n",
       "    <tr>\n",
       "      <th>184</th>\n",
       "      <td>37</td>\n",
       "      <td>homem</td>\n",
       "      <td>casado</td>\n",
       "      <td>70</td>\n",
       "      <td>170</td>\n",
       "      <td>nao</td>\n",
       "      <td>nao</td>\n",
       "      <td>0</td>\n",
       "    </tr>\n",
       "  </tbody>\n",
       "</table>\n",
       "</div>"
      ],
      "text/plain": [
       "     idade    sexo estado_civil  peso  altura fuma hipertenso  d_hipertenso\n",
       "30      63   homem       casado    82     177  nao        nao             0\n",
       "76      64   homem        viuvo    75     174  nao        sim             1\n",
       "227     55  mulher       casado    65     165  nao        sim             1\n",
       "424     43   homem       casado    70     165  nao        nao             0\n",
       "184     37   homem       casado    70     170  nao        nao             0"
      ]
     },
     "execution_count": 8,
     "metadata": {},
     "output_type": "execute_result"
    }
   ],
   "source": [
    "# Criar dummy com 'np.where'\n",
    "pns_amostra['d_hipertenso'] = np.where(pns_amostra['hipertenso'] == 'sim', 1, 0)\n",
    "\n",
    "# Visualizar nova coluna com a dummy\n",
    "pns_amostra.head()"
   ]
  },
  {
   "cell_type": "code",
   "execution_count": 9,
   "metadata": {
    "colab": {
     "base_uri": "https://localhost:8080/"
    },
    "id": "qcWGUmh-mXVG",
    "outputId": "c8b94a25-2882-41d8-912a-37ec3e4fcf10"
   },
   "outputs": [
    {
     "data": {
      "text/plain": [
       "0.24"
      ]
     },
     "execution_count": 9,
     "metadata": {},
     "output_type": "execute_result"
    }
   ],
   "source": [
    "# Calcular proporção de hipertensos (usando a dummy e o estimador da média)\n",
    "pns_amostra['d_hipertenso'].mean()"
   ]
  },
  {
   "cell_type": "markdown",
   "metadata": {
    "id": "zUlq3MFGmXVG"
   },
   "source": [
    "Vamos aplicar o método de *Bootstrap*.\n",
    "\n",
    "Primeiro vamos simular uma amostra de 100 observações, a partir da amostra existente."
   ]
  },
  {
   "cell_type": "code",
   "execution_count": 10,
   "metadata": {
    "colab": {
     "base_uri": "https://localhost:8080/",
     "height": 676
    },
    "id": "MjPI1x85mXVG",
    "outputId": "8b1eb38e-84c4-4709-c303-251cab805224"
   },
   "outputs": [
    {
     "data": {
      "text/html": [
       "<div>\n",
       "<style scoped>\n",
       "    .dataframe tbody tr th:only-of-type {\n",
       "        vertical-align: middle;\n",
       "    }\n",
       "\n",
       "    .dataframe tbody tr th {\n",
       "        vertical-align: top;\n",
       "    }\n",
       "\n",
       "    .dataframe thead th {\n",
       "        text-align: right;\n",
       "    }\n",
       "</style>\n",
       "<table border=\"1\" class=\"dataframe\">\n",
       "  <thead>\n",
       "    <tr style=\"text-align: right;\">\n",
       "      <th></th>\n",
       "      <th>idade</th>\n",
       "      <th>sexo</th>\n",
       "      <th>estado_civil</th>\n",
       "      <th>peso</th>\n",
       "      <th>altura</th>\n",
       "      <th>fuma</th>\n",
       "      <th>hipertenso</th>\n",
       "      <th>d_hipertenso</th>\n",
       "    </tr>\n",
       "  </thead>\n",
       "  <tbody>\n",
       "    <tr>\n",
       "      <th>591</th>\n",
       "      <td>46</td>\n",
       "      <td>mulher</td>\n",
       "      <td>solteiro</td>\n",
       "      <td>65</td>\n",
       "      <td>165</td>\n",
       "      <td>nao</td>\n",
       "      <td>nao</td>\n",
       "      <td>0</td>\n",
       "    </tr>\n",
       "    <tr>\n",
       "      <th>311</th>\n",
       "      <td>37</td>\n",
       "      <td>mulher</td>\n",
       "      <td>solteiro</td>\n",
       "      <td>79</td>\n",
       "      <td>156</td>\n",
       "      <td>nao</td>\n",
       "      <td>sim</td>\n",
       "      <td>1</td>\n",
       "    </tr>\n",
       "    <tr>\n",
       "      <th>451</th>\n",
       "      <td>22</td>\n",
       "      <td>homem</td>\n",
       "      <td>solteiro</td>\n",
       "      <td>72</td>\n",
       "      <td>175</td>\n",
       "      <td>sim</td>\n",
       "      <td>nao</td>\n",
       "      <td>0</td>\n",
       "    </tr>\n",
       "    <tr>\n",
       "      <th>6</th>\n",
       "      <td>76</td>\n",
       "      <td>mulher</td>\n",
       "      <td>solteiro</td>\n",
       "      <td>83</td>\n",
       "      <td>160</td>\n",
       "      <td>nao</td>\n",
       "      <td>nao</td>\n",
       "      <td>0</td>\n",
       "    </tr>\n",
       "    <tr>\n",
       "      <th>577</th>\n",
       "      <td>48</td>\n",
       "      <td>homem</td>\n",
       "      <td>casado</td>\n",
       "      <td>110</td>\n",
       "      <td>160</td>\n",
       "      <td>nao</td>\n",
       "      <td>sim</td>\n",
       "      <td>1</td>\n",
       "    </tr>\n",
       "  </tbody>\n",
       "</table>\n",
       "</div>"
      ],
      "text/plain": [
       "     idade    sexo estado_civil  peso  altura fuma hipertenso  d_hipertenso\n",
       "591     46  mulher     solteiro    65     165  nao        nao             0\n",
       "311     37  mulher     solteiro    79     156  nao        sim             1\n",
       "451     22   homem     solteiro    72     175  sim        nao             0\n",
       "6       76  mulher     solteiro    83     160  nao        nao             0\n",
       "577     48   homem       casado   110     160  nao        sim             1"
      ]
     },
     "execution_count": 10,
     "metadata": {},
     "output_type": "execute_result"
    }
   ],
   "source": [
    "# Amostra por bootstrap\n",
    "bootsamp = pns_amostra.sample(100, replace = True)\n",
    "bootsamp.head()"
   ]
  },
  {
   "cell_type": "markdown",
   "metadata": {
    "id": "0WGhZjfomXVG"
   },
   "source": [
    "Vamos verificar a proporção de hipertensos nessa amostra."
   ]
  },
  {
   "cell_type": "code",
   "execution_count": 11,
   "metadata": {
    "colab": {
     "base_uri": "https://localhost:8080/"
    },
    "id": "hRsporA-mXVG",
    "outputId": "afdf72d4-b6d5-40ea-df96-43483a2a0fcb"
   },
   "outputs": [
    {
     "data": {
      "text/plain": [
       "0.29"
      ]
     },
     "execution_count": 11,
     "metadata": {},
     "output_type": "execute_result"
    }
   ],
   "source": [
    "# Proporção de hipertensos na amostra por bootstrap\n",
    "bootsamp['d_hipertenso'].mean()"
   ]
  },
  {
   "cell_type": "markdown",
   "metadata": {
    "id": "98hVPGTLmXVH"
   },
   "source": [
    "Vamos simular 1000 amostras por este método de *bootstrap*, obter estimativas de proporção de hipertensos para estas amostras e construir uma \"distribuição amostral\" para a proporção de hipertensos."
   ]
  },
  {
   "cell_type": "code",
   "execution_count": 12,
   "metadata": {
    "id": "rOdBuyJkmXVH"
   },
   "outputs": [],
   "source": [
    "# Criar um vetor para guardar proporções obtidas em cada amostra por bootstrap\n",
    "boot_props = []\n",
    "\n",
    "# loop para gerar amostras, calcular médias (proporções) e salvar no vetor boot_props\n",
    "for _ in range(1000):\n",
    "    bootsamp = pns_amostra.sample(100, replace = True)\n",
    "    boot_prop = bootsamp['d_hipertenso'].mean()\n",
    "    boot_props.append(boot_prop)"
   ]
  },
  {
   "cell_type": "code",
   "execution_count": 13,
   "metadata": {
    "colab": {
     "base_uri": "https://localhost:8080/",
     "height": 265
    },
    "id": "-WhECK1omXVH",
    "outputId": "9bdd5a83-3a25-488a-e00c-f95bbd8ee9a2"
   },
   "outputs": [
    {
     "data": {
      "image/png": "[encoded data removed]",
      "text/plain": [
       "<Figure size 432x288 with 1 Axes>"
      ]
     },
     "metadata": {
      "needs_background": "light"
     },
     "output_type": "display_data"
    }
   ],
   "source": [
    "# Gerar gráfico da distribuição de médias\n",
    "plt.hist(boot_props); # parece uma normal, o você acha?"
   ]
  },
  {
   "cell_type": "markdown",
   "metadata": {
    "id": "oE-AYZ1umXVH"
   },
   "source": [
    "A partir dessa distribuição empírica, vamos estimar os limites do intervalo de confiança para a proporção usando a função [`percentile()`](https://numpy.org/doc/stable/reference/generated/numpy.percentile.html) do Numpy.\n"
   ]
  },
  {
   "cell_type": "code",
   "execution_count": 14,
   "metadata": {
    "colab": {
     "base_uri": "https://localhost:8080/"
    },
    "id": "_HWWHwbYmXVH",
    "outputId": "ca8c4de9-bba6-41d1-e230-ad156edde93b"
   },
   "outputs": [
    {
     "data": {
      "text/plain": [
       "(0.16, 0.33)"
      ]
     },
     "execution_count": 14,
     "metadata": {},
     "output_type": "execute_result"
    }
   ],
   "source": [
    "# Obter os percentis de forma a ter prob. de 2,5% em cada \"cauda\" da distribuição\n",
    "# aqui usei a função 'round' para ter valores com no máximo 4 decimais\n",
    "round(np.percentile(boot_props, 2.5), 4) , round(np.percentile(boot_props, 97.5), 4)"
   ]
  },
  {
   "cell_type": "markdown",
   "metadata": {
    "id": "7gYA6ZenmXVI"
   },
   "source": [
    "Será que a proporção da base de dados completa está neste IC?"
   ]
  },
  {
   "cell_type": "code",
   "execution_count": 15,
   "metadata": {
    "colab": {
     "base_uri": "https://localhost:8080/"
    },
    "id": "rhfcUaSKmXVI",
    "outputId": "9e3289db-02d5-490d-a91a-fbf7f6ab3994"
   },
   "outputs": [
    {
     "data": {
      "text/plain": [
       "nao    0.725126\n",
       "sim    0.274874\n",
       "Name: hipertenso, dtype: float64"
      ]
     },
     "execution_count": 15,
     "metadata": {},
     "output_type": "execute_result"
    }
   ],
   "source": [
    "# Assumindo os dados como se fosse uma população, vamos calcular a proporção de hipertensos nessa \"população\"\n",
    "pns['hipertenso'].value_counts(normalize = True)"
   ]
  },
  {
   "cell_type": "markdown",
   "metadata": {
    "id": "an5ONeiqmXVI"
   },
   "source": [
    "**Ampliando a análise**\n",
    "\n",
    "Vamos ampliar nossa análise calculando uma nova variável. Como temos informações de peso e altura, podemos calcular o Índice de Massa Corporal (IMC).\n",
    "\n"
   ]
  },
  {
   "cell_type": "markdown",
   "metadata": {
    "id": "7-RvFOOBmXVI"
   },
   "source": [
    "O Índice de Massa Corporal (IMC) é dado por:\n",
    "\n",
    "$$ IMC = \\frac{peso}{altura^2} = kg/m^2$$\n",
    "\n",
    "em que peso em kg e altura em metros.\n",
    "O IMC é usado para fazer a seguinte caracterização:\n",
    "\n",
    "|  Resultado   do IMC |         Situação        |\n",
    "|:-------------------:|:-----------------------:|\n",
    "|     Abaixo de 17    |   Muito abaixo do peso  |\n",
    "|   Entre 17 e 18,49  |      Abaixo do peso     |\n",
    "| Entre 18,50 e 24,99 |       Peso Normal       |\n",
    "|   Entre 25 e 29,99  |      Acima do peso      |\n",
    "|   Entre 30 e 34,99  |       Obesidade I       |\n",
    "|   Entre 35 e 39,99  |  Obsesidade II (severa) |\n",
    "|     Acima de 40     | Obesidade III (mórbida) |"
   ]
  },
  {
   "cell_type": "code",
   "execution_count": 16,
   "metadata": {
    "colab": {
     "base_uri": "https://localhost:8080/"
    },
    "id": "z2GhLWBfmXVI",
    "outputId": "f6fa93c1-ea4a-4bd5-be09-0f06f1ea21b9"
   },
   "outputs": [
    {
     "data": {
      "text/plain": [
       "30     26.173833\n",
       "76     24.772097\n",
       "227    23.875115\n",
       "424    25.711662\n",
       "184    24.221453\n",
       "         ...    \n",
       "554    25.909457\n",
       "208    22.666667\n",
       "145    30.043262\n",
       "517    21.093750\n",
       "302    23.138507\n",
       "Name: imc, Length: 100, dtype: float64"
      ]
     },
     "execution_count": 16,
     "metadata": {},
     "output_type": "execute_result"
    }
   ],
   "source": [
    "# Cálculo do IMC\n",
    "pns_amostra['imc'] = pns_amostra['peso'] / ((pns_amostra['altura']/100)**2)\n",
    "\n",
    "# Visualizar\n",
    "pns_amostra['imc']"
   ]
  },
  {
   "cell_type": "code",
   "execution_count": 17,
   "metadata": {
    "colab": {
     "base_uri": "https://localhost:8080/",
     "height": 206
    },
    "id": "Aer0ry7JmXVI",
    "outputId": "f1a3476b-f106-417e-9934-ef14d8a45515"
   },
   "outputs": [
    {
     "data": {
      "text/html": [
       "<div>\n",
       "<style scoped>\n",
       "    .dataframe tbody tr th:only-of-type {\n",
       "        vertical-align: middle;\n",
       "    }\n",
       "\n",
       "    .dataframe tbody tr th {\n",
       "        vertical-align: top;\n",
       "    }\n",
       "\n",
       "    .dataframe thead th {\n",
       "        text-align: right;\n",
       "    }\n",
       "</style>\n",
       "<table border=\"1\" class=\"dataframe\">\n",
       "  <thead>\n",
       "    <tr style=\"text-align: right;\">\n",
       "      <th></th>\n",
       "      <th>idade</th>\n",
       "      <th>sexo</th>\n",
       "      <th>estado_civil</th>\n",
       "      <th>peso</th>\n",
       "      <th>altura</th>\n",
       "      <th>fuma</th>\n",
       "      <th>hipertenso</th>\n",
       "      <th>d_hipertenso</th>\n",
       "      <th>imc</th>\n",
       "    </tr>\n",
       "  </thead>\n",
       "  <tbody>\n",
       "    <tr>\n",
       "      <th>30</th>\n",
       "      <td>63</td>\n",
       "      <td>homem</td>\n",
       "      <td>casado</td>\n",
       "      <td>82</td>\n",
       "      <td>177</td>\n",
       "      <td>nao</td>\n",
       "      <td>nao</td>\n",
       "      <td>0</td>\n",
       "      <td>26.173833</td>\n",
       "    </tr>\n",
       "    <tr>\n",
       "      <th>76</th>\n",
       "      <td>64</td>\n",
       "      <td>homem</td>\n",
       "      <td>viuvo</td>\n",
       "      <td>75</td>\n",
       "      <td>174</td>\n",
       "      <td>nao</td>\n",
       "      <td>sim</td>\n",
       "      <td>1</td>\n",
       "      <td>24.772097</td>\n",
       "    </tr>\n",
       "    <tr>\n",
       "      <th>227</th>\n",
       "      <td>55</td>\n",
       "      <td>mulher</td>\n",
       "      <td>casado</td>\n",
       "      <td>65</td>\n",
       "      <td>165</td>\n",
       "      <td>nao</td>\n",
       "      <td>sim</td>\n",
       "      <td>1</td>\n",
       "      <td>23.875115</td>\n",
       "    </tr>\n",
       "    <tr>\n",
       "      <th>424</th>\n",
       "      <td>43</td>\n",
       "      <td>homem</td>\n",
       "      <td>casado</td>\n",
       "      <td>70</td>\n",
       "      <td>165</td>\n",
       "      <td>nao</td>\n",
       "      <td>nao</td>\n",
       "      <td>0</td>\n",
       "      <td>25.711662</td>\n",
       "    </tr>\n",
       "    <tr>\n",
       "      <th>184</th>\n",
       "      <td>37</td>\n",
       "      <td>homem</td>\n",
       "      <td>casado</td>\n",
       "      <td>70</td>\n",
       "      <td>170</td>\n",
       "      <td>nao</td>\n",
       "      <td>nao</td>\n",
       "      <td>0</td>\n",
       "      <td>24.221453</td>\n",
       "    </tr>\n",
       "  </tbody>\n",
       "</table>\n",
       "</div>"
      ],
      "text/plain": [
       "     idade    sexo estado_civil  peso  altura fuma hipertenso  d_hipertenso  \\\n",
       "30      63   homem       casado    82     177  nao        nao             0   \n",
       "76      64   homem        viuvo    75     174  nao        sim             1   \n",
       "227     55  mulher       casado    65     165  nao        sim             1   \n",
       "424     43   homem       casado    70     165  nao        nao             0   \n",
       "184     37   homem       casado    70     170  nao        nao             0   \n",
       "\n",
       "           imc  \n",
       "30   26.173833  \n",
       "76   24.772097  \n",
       "227  23.875115  \n",
       "424  25.711662  \n",
       "184  24.221453  "
      ]
     },
     "execution_count": 17,
     "metadata": {},
     "output_type": "execute_result"
    }
   ],
   "source": [
    "# Ver no data frame\n",
    "pns_amostra.head()"
   ]
  },
  {
   "cell_type": "code",
   "execution_count": 18,
   "metadata": {
    "colab": {
     "base_uri": "https://localhost:8080/"
    },
    "id": "OleNq1A4vnkk",
    "outputId": "3796847f-2ff3-4201-98da-934cfbc9e946"
   },
   "outputs": [
    {
     "data": {
      "text/plain": [
       "26.744303445865448"
      ]
     },
     "execution_count": 18,
     "metadata": {},
     "output_type": "execute_result"
    }
   ],
   "source": [
    "# Calcular imc médio\n",
    "pns_amostra['imc'].mean()"
   ]
  },
  {
   "cell_type": "markdown",
   "metadata": {
    "id": "gykEzORZmXVI"
   },
   "source": [
    "Vamos contruir um intervalo de confiança para a média do IMC usando o método de *bootstrap*."
   ]
  },
  {
   "cell_type": "code",
   "execution_count": 19,
   "metadata": {
    "id": "ZJL8seP1mXVJ"
   },
   "outputs": [],
   "source": [
    "# Vetor para salvar as médias\n",
    "boot_medias = []\n",
    "\n",
    "# loop para gerar amostras, calcular médias e salvar no vetor boot_props \n",
    "for _ in range(1000):\n",
    "    bootsamp = pns_amostra.sample(100, replace = True)\n",
    "    boot_media = bootsamp['imc'].mean()\n",
    "    boot_medias.append(boot_media)"
   ]
  },
  {
   "cell_type": "code",
   "execution_count": 20,
   "metadata": {
    "colab": {
     "base_uri": "https://localhost:8080/",
     "height": 265
    },
    "id": "Hku9qD-XmXVJ",
    "outputId": "bf59c03f-81a7-4089-81a3-3809772c1fec"
   },
   "outputs": [
    {
     "data": {
      "image/png": "[encoded data removed]",
      "text/plain": [
       "<Figure size 432x288 with 1 Axes>"
      ]
     },
     "metadata": {
      "needs_background": "light"
     },
     "output_type": "display_data"
    }
   ],
   "source": [
    "# Gráfico da distribuição de médias\n",
    "plt.hist(boot_medias);"
   ]
  },
  {
   "cell_type": "code",
   "execution_count": 21,
   "metadata": {
    "colab": {
     "base_uri": "https://localhost:8080/"
    },
    "id": "gyUQbL6pmXVJ",
    "outputId": "caeee30f-66be-4740-c19f-f01f6e1cf878"
   },
   "outputs": [
    {
     "data": {
      "text/plain": [
       "(25.80751411167386, 27.776251839140517)"
      ]
     },
     "execution_count": 21,
     "metadata": {},
     "output_type": "execute_result"
    }
   ],
   "source": [
    "# Intervalo de confiança\n",
    "np.percentile(boot_medias, 2.5), np.percentile(boot_medias, 97.5)"
   ]
  },
  {
   "cell_type": "markdown",
   "metadata": {
    "id": "jPsRU5fymXVJ"
   },
   "source": [
    "Vamos verificar o IMC médio entre os homens."
   ]
  },
  {
   "cell_type": "code",
   "execution_count": 22,
   "metadata": {
    "colab": {
     "base_uri": "https://localhost:8080/"
    },
    "id": "Cve9ll0wmXVJ",
    "outputId": "7ef3e46c-756b-4191-a5ae-91f734c888f5"
   },
   "outputs": [
    {
     "data": {
      "text/plain": [
       "26.931671709607194"
      ]
     },
     "execution_count": 22,
     "metadata": {},
     "output_type": "execute_result"
    }
   ],
   "source": [
    "pns_amostra[(pns_amostra['sexo'] == 'homem')]['imc'].mean()"
   ]
  },
  {
   "cell_type": "markdown",
   "metadata": {
    "id": "-rW80aFomXVJ"
   },
   "source": [
    "Uma forma alternativa é usando o método [`query()'](https://pandas.pydata.org/docs/reference/api/pandas.DataFrame.query.html)."
   ]
  },
  {
   "cell_type": "code",
   "execution_count": 23,
   "metadata": {
    "colab": {
     "base_uri": "https://localhost:8080/"
    },
    "id": "kxqvec2FmXVJ",
    "outputId": "4e502901-b857-4c1e-9b5c-b7e905eff7d2"
   },
   "outputs": [
    {
     "data": {
      "text/plain": [
       "26.931671709607194"
      ]
     },
     "execution_count": 23,
     "metadata": {},
     "output_type": "execute_result"
    }
   ],
   "source": [
    "pns_amostra.query('sexo == \"homem\"')['imc'].mean()"
   ]
  },
  {
   "cell_type": "markdown",
   "metadata": {
    "id": "CoNX5V-UmXVK"
   },
   "source": [
    "E o IMC médio entre as mulheres."
   ]
  },
  {
   "cell_type": "code",
   "execution_count": 24,
   "metadata": {
    "colab": {
     "base_uri": "https://localhost:8080/"
    },
    "id": "tNi92UNqmXVK",
    "outputId": "ca9746ae-1a15-4512-ec12-ee46c661715d"
   },
   "outputs": [
    {
     "data": {
      "text/plain": [
       "26.54928749788936"
      ]
     },
     "execution_count": 24,
     "metadata": {},
     "output_type": "execute_result"
    }
   ],
   "source": [
    "pns_amostra.query('sexo == \"mulher\"')['imc'].mean()"
   ]
  },
  {
   "cell_type": "markdown",
   "metadata": {
    "id": "onmHBfpWwtPA"
   },
   "source": [
    "- O IMC médio dos homens é maior do o IMC das mulheres?\n",
    "\n",
    "Vamos calcular um intervalo de confiança para a diferença entre as médias do IMC para homens e mulheres."
   ]
  },
  {
   "cell_type": "code",
   "execution_count": 25,
   "metadata": {
    "id": "Dun9Oy5PmXVK"
   },
   "outputs": [],
   "source": [
    "imc_difs = []\n",
    "for _ in range(1000):\n",
    "    bootsamp = pns_amostra.sample(100, replace = True)\n",
    "    media_homens = bootsamp[bootsamp['sexo'] == 'homem']['imc'].mean()\n",
    "    media_mulheres = bootsamp[bootsamp['sexo'] == 'mulher']['imc'].mean()\n",
    "    imc_difs.append(media_homens - media_mulheres)"
   ]
  },
  {
   "cell_type": "code",
   "execution_count": 26,
   "metadata": {
    "colab": {
     "base_uri": "https://localhost:8080/",
     "height": 266
    },
    "id": "LlHmIyqOmXVK",
    "outputId": "80e85816-03cc-496b-af1b-e2316e6b4fca"
   },
   "outputs": [
    {
     "data": {
      "image/png": "[encoded data removed]",
      "text/plain": [
       "<Figure size 432x288 with 1 Axes>"
      ]
     },
     "metadata": {
      "needs_background": "light"
     },
     "output_type": "display_data"
    }
   ],
   "source": [
    "plt.hist(imc_difs);"
   ]
  },
  {
   "cell_type": "code",
   "execution_count": 27,
   "metadata": {
    "colab": {
     "base_uri": "https://localhost:8080/"
    },
    "id": "IYSphDhdmXVK",
    "outputId": "550a26d6-90c6-44aa-d164-708f12ceb24d"
   },
   "outputs": [
    {
     "data": {
      "text/plain": [
       "(-1.6933363676506668, 2.2374789463143094)"
      ]
     },
     "execution_count": 27,
     "metadata": {},
     "output_type": "execute_result"
    }
   ],
   "source": [
    "np.percentile(imc_difs, 2.5), np.percentile(imc_difs, 97.5)"
   ]
  },
  {
   "cell_type": "markdown",
   "metadata": {
    "id": "Ap2QWhSoyHoJ"
   },
   "source": [
    "Podemos formular uma hipótese para teste da seguinte forma:\n",
    "$$ H_0: \\text{IMC}_H = \\text{IMC}_M $$\n",
    "\n",
    "$$ H_1: \\text{IMC}_M < \\text{IMC}_H $$\n",
    "\n"
   ]
  },
  {
   "cell_type": "code",
   "execution_count": 28,
   "metadata": {
    "id": "FDMQkEacmXVK"
   },
   "outputs": [],
   "source": [
    "imc_homens, imc_mulheres, imc_difs = [], [], []\n",
    "\n",
    "for _ in range(1000):\n",
    "    bootsamp = pns_amostra.sample(100, replace = True)\n",
    "    media_homens = bootsamp[bootsamp['sexo'] == 'homem']['imc'].mean()\n",
    "    imc_homens.append(media_homens)\n",
    "    media_mulheres = bootsamp[bootsamp['sexo'] == 'mulher']['imc'].mean()\n",
    "    imc_mulheres.append(media_mulheres)\n",
    "    imc_difs.append( media_homens - media_mulheres)  "
   ]
  },
  {
   "cell_type": "code",
   "execution_count": 29,
   "metadata": {
    "colab": {
     "base_uri": "https://localhost:8080/",
     "height": 265
    },
    "id": "7nlkQK29mXVL",
    "outputId": "9cbe30fb-2ce3-4d29-d5d2-894f5d85a996"
   },
   "outputs": [
    {
     "data": {
      "image/png": "[encoded data removed]",
      "text/plain": [
       "<Figure size 432x288 with 1 Axes>"
      ]
     },
     "metadata": {
      "needs_background": "light"
     },
     "output_type": "display_data"
    }
   ],
   "source": [
    "plt.hist(imc_homens, color = 'skyblue', alpha = 0.5);\n",
    "plt.hist(imc_mulheres, color = 'salmon', alpha = 0.5);"
   ]
  }
 ],
 "metadata": {
  "colab": {
   "collapsed_sections": [],
   "name": "estimacao_intervalos_bootstrap.ipynb",
   "provenance": []
  },
  "kernelspec": {
   "display_name": "Python 3",
   "language": "python",
   "name": "python3"
  },
  "language_info": {
   "codemirror_mode": {
    "name": "ipython",
    "version": 3
   },
   "file_extension": ".py",
   "mimetype": "text/x-python",
   "name": "python",
   "nbconvert_exporter": "python",
   "pygments_lexer": "ipython3",
   "version": "3.7.6"
  }
 },
 "nbformat": 4,
 "nbformat_minor": 1
}
