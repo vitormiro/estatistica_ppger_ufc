{
  "cells": [
    {
      "cell_type": "markdown",
      "metadata": {
        "id": "view-in-github",
        "colab_type": "text"
      },
      "source": [
        "<a href=\"https://colab.research.google.com/github/vitormiro/estatistica_ppger_ufc/blob/main/Distribuicao_normal.ipynb\" target=\"_parent\"><img src=\"https://colab.research.google.com/assets/colab-badge.svg\" alt=\"Open In Colab\"/></a>"
      ]
    },
    {
      "cell_type": "markdown",
      "metadata": {
        "id": "-CVCN7M4_QtW"
      },
      "source": [
        "# Distribuição Normal\n",
        "\n",
        "Vamos usar a linguagem Python para aplicar alguns conhecimentos vistos em aula.\n",
        "\n",
        "Aqui vamos aplicar as distribuições normal e normal padrão.\n",
        "\n"
      ]
    },
    {
      "cell_type": "markdown",
      "metadata": {
        "id": "zezKu9Ia_QtZ"
      },
      "source": [
        "### Scipy.stats\n",
        "\n",
        "\n",
        "O **SciPy**, como definido em seu próprio [guia](https://docs.scipy.org/doc/scipy/tutorial/general.html), é uma coleção de algoritmos matemáticos e funções construídas sob a extensão NumPy.\n",
        "\n",
        "\n",
        "O `scipy.stats` é um sub pacote do **SciPy** que apresenta um grande conjunto de funções que permitem aplicar conceitos de probabilidade e estatística.\n",
        "\n",
        "Para lidar com a distribuição normal vamos usar o método [`scipy.stats.norm`](https://docs.scipy.org/doc/scipy/reference/generated/scipy.stats.norm.html#scipy.stats.norm)."
      ]
    },
    {
      "cell_type": "code",
      "execution_count": 1,
      "metadata": {
        "id": "q2HxkLQh_Qta"
      },
      "outputs": [],
      "source": [
        "# Importar o numpy\n",
        "import numpy as np\n",
        "\n",
        "# Importar o Matplotlib (para construção de gráficos)\n",
        "import matplotlib.pyplot as plt\n",
        "\n",
        "# Importar o método 'norm' do scipy.stats\n",
        "from scipy.stats import norm"
      ]
    },
    {
      "cell_type": "markdown",
      "metadata": {
        "id": "pCksOQso_Qtb"
      },
      "source": [
        "O `scipy.stats.norm` permite realizar diversas análises com a distribuição normal como gerar valores aleatórios e calcular probabilidades.\n",
        "\n",
        "**Alguns dos métodos disponíveis**\n",
        "\n",
        "|               |                                                                                        |\n",
        "|:--------------|:---------------------------------------------------------------------------------------|\n",
        "|`norm.pdf()`   |\tFunção densidade de probabilidade calculada em x. Retorna um array n-dimensional.    |\n",
        "|`norm.cdf()`   |\tFunção de distribuição acumulada. Retorna a probabilidade acumulada para cada valor de x.|\n",
        "|`norm.sf()`    |\t'Função sobrevivência'. Retorna 1-cdf(x).                                            |\n",
        "|`norm.ppf()`   |\tInversa da Função de distribuição acumulada. Retorna os percentis.                   |\n",
        "|`norm.rvs()`   |\tRetorna um conjunto de variáveis aleatórias.                                         |\n",
        "|`norm.stats()` |\tRetorna média, variância, desvio padrão ou curtose conforme definido.                |\n",
        "\n",
        "Uma lista completa dos métodos pode ser conferida [aqui](https://docs.scipy.org/doc/scipy/reference/generated/scipy.stats.norm.html#scipy.stats.norm).\n",
        "\n",
        "**Parâmetros**\n",
        "\n",
        "|        |                                                                                        |\n",
        "|:-------|:---------------------------------------------------------------------------------------|\n",
        "|x\t     |Tipo matriz. É o conjunto de valores que representam a amostra de tamanho uniforme.     |\n",
        "|loc\t |Parâmetro de localização. 'loc' representa o valor médio. Seu valor padrão é 0.         |\n",
        "|scale\t |Parâmetro de escala. 'escala' representa o desvio padrão. Seu valor padrão é 1.         |\n",
        "|moments |Usado para calcular estatísticas baseada em momentos: média, variância, desvio padrão e curtose. Seu valor padrão é 'mv'.|\n",
        "\n",
        "A palavra-chave location ( loc) especifica a média. A palavra-chave scale ( scale) especifica o desvio padrão"
      ]
    },
    {
      "cell_type": "markdown",
      "metadata": {
        "id": "ZgWYx4u3_Qtc"
      },
      "source": [
        "**EXEMPLO**\n",
        "\n",
        "Vamos lidar com o exemplo de uma variável aleatória $X$ com distribuição normal, em que $\\mu=20$ e $\\sigma^2 = 16$. Ou seja:\n",
        "\n",
        "$$ X \\sim N(20, 16) $$"
      ]
    },
    {
      "cell_type": "code",
      "execution_count": 2,
      "metadata": {
        "colab": {
          "base_uri": "https://localhost:8080/"
        },
        "id": "qIlrHDOh_Qtc",
        "outputId": "f9760ac4-e7d0-480c-f409-b8e72efa6fe0"
      },
      "outputs": [
        {
          "output_type": "execute_result",
          "data": {
            "text/plain": [
              "14.563540922020572"
            ]
          },
          "metadata": {},
          "execution_count": 2
        }
      ],
      "source": [
        "# Retorna 1 único valor da distribuição\n",
        "x1 = norm.rvs(loc=20, scale=4)\n",
        "x1"
      ]
    },
    {
      "cell_type": "code",
      "execution_count": 3,
      "metadata": {
        "colab": {
          "base_uri": "https://localhost:8080/"
        },
        "id": "ew46EcVV_Qtd",
        "outputId": "364c173f-2553-472c-ca2f-d394c8704988"
      },
      "outputs": [
        {
          "output_type": "stream",
          "name": "stdout",
          "text": [
            "[18.07431467 25.45454497 18.15613762 19.61190326 17.93375711 18.66159643\n",
            " 21.23399508 26.1791118  24.86297294 19.33999396 23.06706087 18.56718797\n",
            " 22.44337224 20.85663866 28.86455938 17.08094727 14.8418564  13.80914342\n",
            " 20.64471614 19.21612676 25.33861069 18.37888335 22.45960165 16.20971686\n",
            " 16.61198986 18.37347709 22.65734691 17.84172445 15.83410926 10.3681398\n",
            " 21.39309956 20.11399365 16.51848017 15.63277461 14.90965715 17.68655874\n",
            " 20.69255951 17.13519587 12.51333032 16.41618588 23.6601015  19.48156416\n",
            " 20.78430822 29.27429718 24.59132129 12.9304251  16.63819485 19.15162095\n",
            " 12.1411058  21.20854136 18.39765584 15.5909926  23.78479384 24.3425928\n",
            " 15.15810713 21.48187596 17.84456115 16.85399272 22.77381579 15.56481641\n",
            " 24.38306321 29.53054778 19.64945875 17.96240395 18.15953273 27.57475599\n",
            " 24.78196938 13.92702237 17.90893161 19.73286988 22.48258061 17.32385026\n",
            " 30.34327943 23.83105768 22.3191362  19.97712184 19.28536067 17.14098333\n",
            " 29.88947373 16.37396228 27.62429833 17.09521948 24.56769751 25.38114015\n",
            " 22.94417091 25.87602009 29.08675037 17.44074706 25.17158432 19.6261127\n",
            " 19.15273161 30.79972233 16.13098357 13.81751394 18.35548896 14.77452639\n",
            " 19.31448677 20.33114877 23.93082303 24.40790289]\n"
          ]
        }
      ],
      "source": [
        "# Retorna uma amostra de 100 valores da distribuição, para isso especificamos 'size=100'\n",
        "X = norm.rvs(loc=20, scale=4, size=100)\n",
        "\n",
        "# Mostrar os 100 valores da amostra gerados de uma VA com distribuição normal (média = 10 e desvio-padrão = 4)\n",
        "print(X)"
      ]
    },
    {
      "cell_type": "markdown",
      "metadata": {
        "id": "d-wi5Erv_Qte"
      },
      "source": [
        "Agora vamos usar a biblioteca **matplotlib** para gerar gráficos das funções de densidade (FDP) e distribuição acumulada (FDA)."
      ]
    },
    {
      "cell_type": "code",
      "execution_count": 4,
      "metadata": {
        "colab": {
          "base_uri": "https://localhost:8080/",
          "height": 295
        },
        "id": "D90RPZom_Qte",
        "outputId": "fc5e1109-d6c4-4a4c-8a83-c57ae754ebb4"
      },
      "outputs": [
        {
          "output_type": "display_data",
          "data": {
            "text/plain": [
              "<Figure size 432x288 with 1 Axes>"
            ],
            "image/png": "[encoded data removed]"
          },
          "metadata": {
            "needs_background": "light"
          }
        }
      ],
      "source": [
        "# Gerar 100 valores de X no intervalo 0-40\n",
        "x = np.linspace(0, 40, 100)\n",
        "\n",
        "# Valores de probabilidade para estes valores\n",
        "pdf_x = norm.pdf(x, loc=20, scale=4)\n",
        "\n",
        "# Plotar a função de densidade\n",
        "plt.plot(x, pdf_x)\n",
        "plt.xlabel('x')\n",
        "plt.ylabel('f(x)')\n",
        "plt.title(\"Função densidade de probabilidade - Normal, média=20 e desvio-padrão=4\")\n",
        "plt.show()"
      ]
    },
    {
      "cell_type": "code",
      "execution_count": 5,
      "metadata": {
        "colab": {
          "base_uri": "https://localhost:8080/",
          "height": 295
        },
        "id": "UFkKcSwu_Qtf",
        "outputId": "4be356a7-53a6-491f-9f56-e364b5b37e8f"
      },
      "outputs": [
        {
          "output_type": "display_data",
          "data": {
            "text/plain": [
              "<Figure size 432x288 with 1 Axes>"
            ],
            "image/png": "[encoded data removed]"
          },
          "metadata": {
            "needs_background": "light"
          }
        }
      ],
      "source": [
        "# Plotar a função de distribuição acumulada\n",
        "cdf_x = norm.cdf(x, loc=20, scale=4)\n",
        "\n",
        "plt.plot(x, cdf_x)\n",
        "plt.xlabel('x')\n",
        "plt.ylabel('F(x)')\n",
        "plt.title(\"Função de distribuição acumulada - Normal, média=20 e desvio-padrão=4\")\n",
        "plt.show()"
      ]
    },
    {
      "cell_type": "markdown",
      "metadata": {
        "id": "mc2ogfNR_Qtf"
      },
      "source": [
        "Agora vamos usar o `scipy.stats.norm` para obter valores de probabilidade, assim como usamos a tabela da normal padrão."
      ]
    },
    {
      "cell_type": "markdown",
      "metadata": {
        "id": "5nPaenfx_Qtf"
      },
      "source": [
        "Mas antes vou definir uma função para construir os gráficos destacando a área que representa cada probabilidade."
      ]
    },
    {
      "cell_type": "code",
      "execution_count": 6,
      "metadata": {
        "id": "Tvp5KFmF_Qtg"
      },
      "outputs": [],
      "source": [
        "# Intervalo para plotar o eixo x no gráfico\n",
        "x = np.arange(-3, 3, 0.001)\n",
        "\n",
        "# Função para plotar gráficos da FDP normal padrão. Vou chamar a função de 'plot_z_score'\n",
        "def plot_z_score(x, cond, mu, sigma, title):\n",
        "    y = norm.pdf(x, mu, sigma)\n",
        "    z = x[cond]\n",
        "    plt.plot(x, y)\n",
        "    plt.fill_between(z, 0, norm.pdf(z, mu, sigma))\n",
        "    plt.title(title)\n",
        "    plt.show()\n"
      ]
    },
    {
      "cell_type": "markdown",
      "metadata": {
        "id": "T5vnHKcE_Qtg"
      },
      "source": [
        "*Exemplo 1*: $P(X \\leq 12)$"
      ]
    },
    {
      "cell_type": "code",
      "execution_count": 7,
      "metadata": {
        "colab": {
          "base_uri": "https://localhost:8080/"
        },
        "id": "wURti_dq_Qtg",
        "outputId": "20b4f3db-db0d-4308-c8d8-8b99fa6b4bf4"
      },
      "outputs": [
        {
          "output_type": "execute_result",
          "data": {
            "text/plain": [
              "2.275"
            ]
          },
          "metadata": {},
          "execution_count": 7
        }
      ],
      "source": [
        "# Para encontrar a probabilidade de que a variável tenha um valor MENOR ou igual 12, usamos a FDA\n",
        "round(norm.cdf(12, 20, 4)*100, 4)"
      ]
    },
    {
      "cell_type": "code",
      "execution_count": 8,
      "metadata": {
        "colab": {
          "base_uri": "https://localhost:8080/"
        },
        "id": "DHLgydJ3_Qtg",
        "outputId": "a5026e61-b1fa-4d27-f5ca-0decff370952"
      },
      "outputs": [
        {
          "output_type": "stream",
          "name": "stdout",
          "text": [
            "-2.0\n"
          ]
        }
      ],
      "source": [
        "# padronizando o valor x=12\n",
        "z0 = (12 - 20)/4\n",
        "print(z0)"
      ]
    },
    {
      "cell_type": "markdown",
      "metadata": {
        "id": "ydoBvlm__Qth"
      },
      "source": [
        "Note que usando a normal padrão (média = 0  e desvio-padrão = 1) apresenta o mesmo resultado."
      ]
    },
    {
      "cell_type": "code",
      "execution_count": 9,
      "metadata": {
        "colab": {
          "base_uri": "https://localhost:8080/"
        },
        "id": "FHOrLY1K_Qth",
        "outputId": "83aec833-008b-40ed-a7ad-49dc8a4b7974"
      },
      "outputs": [
        {
          "output_type": "execute_result",
          "data": {
            "text/plain": [
              "2.275"
            ]
          },
          "metadata": {},
          "execution_count": 9
        }
      ],
      "source": [
        "round(norm.cdf(z0, 0, 1)*100, 4)"
      ]
    },
    {
      "cell_type": "code",
      "execution_count": 10,
      "metadata": {
        "colab": {
          "base_uri": "https://localhost:8080/",
          "height": 281
        },
        "id": "9WzRDpvu_Qth",
        "outputId": "56b7bb65-cc10-424a-dcbf-7e442cc491a6"
      },
      "outputs": [
        {
          "output_type": "display_data",
          "data": {
            "text/plain": [
              "<Figure size 432x288 with 1 Axes>"
            ],
            "image/png": "[encoded data removed]"
          },
          "metadata": {
            "needs_background": "light"
          }
        }
      ],
      "source": [
        "# Plotar gráfico\n",
        "plot_z_score(x, (x < z0), 0, 1, 'z < z0')"
      ]
    },
    {
      "cell_type": "markdown",
      "metadata": {
        "id": "eUQLUvyN_Qth"
      },
      "source": [
        "*Exemplo 2*: $P(X \\geq 25)$"
      ]
    },
    {
      "cell_type": "code",
      "execution_count": 11,
      "metadata": {
        "colab": {
          "base_uri": "https://localhost:8080/"
        },
        "id": "tUT4tNg8_Qth",
        "outputId": "7e77f568-49a2-4ae2-dad9-1df27b0df392"
      },
      "outputs": [
        {
          "output_type": "execute_result",
          "data": {
            "text/plain": [
              "10.565"
            ]
          },
          "metadata": {},
          "execution_count": 11
        }
      ],
      "source": [
        "# Para encontrar a probabilidade de que a variável tenha um valor MAIOR ou igual a 25, usamos a 'função sobrevivência'\n",
        "round(norm.sf(25, 20, 4)*100, 4)"
      ]
    },
    {
      "cell_type": "code",
      "execution_count": 12,
      "metadata": {
        "colab": {
          "base_uri": "https://localhost:8080/"
        },
        "id": "c15T689L_Qti",
        "outputId": "d3358a33-8899-43c6-b0b1-baf584600dd8"
      },
      "outputs": [
        {
          "output_type": "stream",
          "name": "stdout",
          "text": [
            "1.25\n"
          ]
        }
      ],
      "source": [
        "# padronizando o valor x=25\n",
        "z0 = (25 - 20)/4\n",
        "print(z0)"
      ]
    },
    {
      "cell_type": "code",
      "execution_count": 13,
      "metadata": {
        "colab": {
          "base_uri": "https://localhost:8080/",
          "height": 281
        },
        "id": "fl63QAAA_Qti",
        "outputId": "2cbee168-5ec7-4c1f-f5a1-6c5a991e5fbd"
      },
      "outputs": [
        {
          "output_type": "display_data",
          "data": {
            "text/plain": [
              "<Figure size 432x288 with 1 Axes>"
            ],
            "image/png": "[encoded data removed]"
          },
          "metadata": {
            "needs_background": "light"
          }
        }
      ],
      "source": [
        "# Plotar gráfico\n",
        "plot_z_score(x, (x > z0), 0, 1, 'z < z0')"
      ]
    },
    {
      "cell_type": "markdown",
      "metadata": {
        "id": "4IZ79Zbm_Qti"
      },
      "source": [
        "*Exemplo 3*: $P(X \\leq 24)$"
      ]
    },
    {
      "cell_type": "code",
      "execution_count": 14,
      "metadata": {
        "colab": {
          "base_uri": "https://localhost:8080/"
        },
        "id": "6KGYUpKE_Qti",
        "outputId": "6da4a440-6f31-43e4-bedc-dd306ebc385f"
      },
      "outputs": [
        {
          "output_type": "stream",
          "name": "stdout",
          "text": [
            "1.0\n"
          ]
        }
      ],
      "source": [
        "# padronizar variável\n",
        "z0 = (24 - 20)/4\n",
        "print(z0)"
      ]
    },
    {
      "cell_type": "code",
      "execution_count": 15,
      "metadata": {
        "colab": {
          "base_uri": "https://localhost:8080/"
        },
        "id": "aPDWFLOI_Qtj",
        "outputId": "52c66200-695d-45ba-bf86-0316f91a6b8c"
      },
      "outputs": [
        {
          "output_type": "execute_result",
          "data": {
            "text/plain": [
              "84.1345"
            ]
          },
          "metadata": {},
          "execution_count": 15
        }
      ],
      "source": [
        "# Calcular probabilidade\n",
        "round(norm.cdf(z0, 0, 1)*100, 4)"
      ]
    },
    {
      "cell_type": "code",
      "execution_count": 16,
      "metadata": {
        "colab": {
          "base_uri": "https://localhost:8080/",
          "height": 281
        },
        "id": "NLa-9usS_Qtj",
        "outputId": "0b67cfad-658d-4193-b7f9-1d906f8b11dd"
      },
      "outputs": [
        {
          "output_type": "display_data",
          "data": {
            "text/plain": [
              "<Figure size 432x288 with 1 Axes>"
            ],
            "image/png": "[encoded data removed]"
          },
          "metadata": {
            "needs_background": "light"
          }
        }
      ],
      "source": [
        "# Plotar gráfico\n",
        "plot_z_score(x, (x < z0), 0, 1, 'z < z0')"
      ]
    },
    {
      "cell_type": "markdown",
      "metadata": {
        "id": "SePfIFAM_Qtj"
      },
      "source": [
        "*Exemplo 4*: $P(16 \\leq X \\leq 24)$"
      ]
    },
    {
      "cell_type": "code",
      "execution_count": 17,
      "metadata": {
        "colab": {
          "base_uri": "https://localhost:8080/"
        },
        "id": "3hEoJWpK_Qtj",
        "outputId": "c782de64-7e7d-4cb4-8694-896ac5dcedac"
      },
      "outputs": [
        {
          "output_type": "stream",
          "name": "stdout",
          "text": [
            "-1.0\n",
            "1.0\n"
          ]
        }
      ],
      "source": [
        "# padronizar variáveis\n",
        "z0a = (16 - 20)/4\n",
        "z0b = (24 - 20)/4\n",
        "print(z0a)\n",
        "print(z0b)"
      ]
    },
    {
      "cell_type": "code",
      "execution_count": 18,
      "metadata": {
        "colab": {
          "base_uri": "https://localhost:8080/"
        },
        "id": "h6AWLfDb_Qtj",
        "outputId": "28e92813-7dd8-4acc-926c-2f74eaca339d"
      },
      "outputs": [
        {
          "output_type": "execute_result",
          "data": {
            "text/plain": [
              "68.2689"
            ]
          },
          "metadata": {},
          "execution_count": 18
        }
      ],
      "source": [
        "# Calcular probabilidade\n",
        "round(norm.cdf(z0b, 0, 1)*100 - norm.cdf(z0a, 0, 1)*100, 4)"
      ]
    },
    {
      "cell_type": "code",
      "execution_count": 19,
      "metadata": {
        "colab": {
          "base_uri": "https://localhost:8080/",
          "height": 281
        },
        "id": "OJL-q7-K_Qtj",
        "outputId": "5943cc68-78bb-4756-b2b7-c42197c73493"
      },
      "outputs": [
        {
          "output_type": "display_data",
          "data": {
            "text/plain": [
              "<Figure size 432x288 with 1 Axes>"
            ],
            "image/png": "[encoded data removed]"
          },
          "metadata": {
            "needs_background": "light"
          }
        }
      ],
      "source": [
        "# Plotar gráfico\n",
        "plot_z_score(x, (z0a < x) & (x < z0b), 0, 1, '1 < z < 1')"
      ]
    }
  ],
  "metadata": {
    "kernelspec": {
      "display_name": "Python 3",
      "language": "python",
      "name": "python3"
    },
    "language_info": {
      "codemirror_mode": {
        "name": "ipython",
        "version": 3
      },
      "file_extension": ".py",
      "mimetype": "text/x-python",
      "name": "python",
      "nbconvert_exporter": "python",
      "pygments_lexer": "ipython3",
      "version": "3.7.6"
    },
    "colab": {
      "name": "Distribuicao_normal.ipynb",
      "provenance": [],
      "include_colab_link": true
    }
  },
  "nbformat": 4,
  "nbformat_minor": 0
}