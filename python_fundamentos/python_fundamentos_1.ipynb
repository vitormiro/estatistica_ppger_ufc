{
  "nbformat": 4,
  "nbformat_minor": 0,
  "metadata": {
    "colab": {
      "provenance": [],
      "collapsed_sections": [],
      "include_colab_link": true
    },
    "kernelspec": {
      "name": "python3",
      "display_name": "Python 3"
    },
    "language_info": {
      "name": "python"
    }
  },
  "cells": [
    {
      "cell_type": "markdown",
      "metadata": {
        "id": "view-in-github",
        "colab_type": "text"
      },
      "source": [
        "<a href=\"https://colab.research.google.com/github/vitormiro/estatistica_ppger_ufc/blob/main/python_fundamentos/python_fundamentos_1.ipynb\" target=\"_parent\"><img src=\"https://colab.research.google.com/assets/colab-badge.svg\" alt=\"Open In Colab\"/></a>"
      ]
    },
    {
      "cell_type": "markdown",
      "metadata": {
        "id": "yp25L-uMyimC"
      },
      "source": [
        "# Sobre o Python\n",
        "\n",
        "Python é uma linguagem de programação de alto nível (sintaxe é voltada para o entendimento humano, intuitiva e amigável), de propósito geral (aplicável para uma variedade de aplicações), orientada a objetos (com foco na criação de objetos que contem tanto os dados quanto as funcionalidades).\n",
        "\n",
        "A linguagem Python foi desenvolvida pelo holandes Guido Van Rossun, em 1990.\n",
        "\n",
        "[Página do Python](https://www.python.org/)\n",
        "\n",
        "[Manual em Português](https://docs.python.org/pt-br/3/)"
      ]
    },
    {
      "cell_type": "markdown",
      "metadata": {
        "id": "DUeoVHNh13wh"
      },
      "source": [
        "# Sobre o Colab\n",
        "\n",
        "O Colaboratory ou \"Colab\" permite escrever código Python no seu navegador, com:\n",
        "- Nenhuma configuração necessária\n",
        "- Acesso gratuito a GPUs (Graphics Processing Unit)\n",
        "- Compartilhamento fácil\n",
        "\n",
        "[Sobre o Colab](https://colab.research.google.com/notebooks/intro.ipynb#scrollTo=-Rh3-Vt9Nev9)"
      ]
    },
    {
      "cell_type": "markdown",
      "metadata": {
        "id": "d7ViUgE8RfkM"
      },
      "source": [
        "Primeiro passo: **Olá mundo!**\n",
        "\n",
        "OBS:\n",
        "- Para executar a célula selecionada: Ctrl + Enter\n",
        "- Para executa a célula atual e passar para a seguinte: Shift + Enter\n",
        "- Para executar a célula atual e inserir outra abaixo: Alt + Enter"
      ]
    },
    {
      "cell_type": "code",
      "metadata": {
        "id": "kR1ExNjGRcWl"
      },
      "source": [
        "print('Olá Mundo!')"
      ],
      "execution_count": null,
      "outputs": []
    },
    {
      "cell_type": "markdown",
      "metadata": {
        "id": "xpI2vWIwRnWg"
      },
      "source": [
        "A função `print()` é nativa do Python.\n",
        "\n",
        "Podemos fazer isso de outra forma, definindo uma variável denominada \"mensagem\""
      ]
    },
    {
      "cell_type": "code",
      "metadata": {
        "id": "0gddMUS-Ro80"
      },
      "source": [
        "mensagem = 'Olá Mundo!'"
      ],
      "execution_count": null,
      "outputs": []
    },
    {
      "cell_type": "code",
      "metadata": {
        "id": "rQgvpueuRrY9"
      },
      "source": [
        "print(mensagem)"
      ],
      "execution_count": null,
      "outputs": []
    },
    {
      "cell_type": "code",
      "source": [
        "nome = 'Vitor'\n",
        "print(nome)"
      ],
      "metadata": {
        "id": "z7eFI2O3XNtK"
      },
      "execution_count": null,
      "outputs": []
    },
    {
      "cell_type": "markdown",
      "metadata": {
        "id": "_-18xeHf26N_"
      },
      "source": [
        "# Variáveis e tipos de dados simples\n",
        "\n",
        "Um dos recursos mais eficientes de uma linguagem de programação é a capacidade de manipular variáveis.\n",
        "\n",
        "As **variáveis** são um dos recursos mais básicos das linguagens de programação. São utilizadas para armazenar valores em memória, permitem gravar e ler essas informações com facilidade a partir de um nome definido por nós.\n",
        "\n",
        "Podemos dizer que uma variável armazena valores ou conjuntos de valores que podem ser de diferentes tipos: números em diferentes formatos (inteiros, ponto flutuante), letras (caracteres), texto (sequência de caracteres), booleanos (True e False).\n"
      ]
    },
    {
      "cell_type": "markdown",
      "metadata": {
        "id": "cYuCiLbUr0se"
      },
      "source": [
        "### Tipos\n",
        "- Tipos **numéricos**:\n",
        " - **Integer** (inteiros): números inteiros: `1`.\n",
        " - **Float** (ponto flutuante): números com parte fracionária: `2.5`.\n",
        "\n",
        "- **String**: informação de texto, letras ou palavras. Usamos aspas (duplas ou simples) para representar informação textual.\n",
        "\n",
        "- **Boolean**: valor lógico binário: `True` ou `False`. \n",
        "\n",
        "Veja os [tipos nativos](https://docs.python.org/pt-br/3/library/stdtypes.html#built-in-types) da linguagem *Python*."
      ]
    },
    {
      "cell_type": "markdown",
      "metadata": {
        "id": "cq-I8O9d_MfE"
      },
      "source": [
        "### Instrução de atribuição\n",
        "Uma **instrução** é uma unidade de código, que executa uma operação.\n",
        "\n",
        "Uma **instrução de atribuição** cria uma variável e dá um valor a ela.\n",
        "No código abaixo vamos atribuir um número inteiro à variável x.\n",
        "\n",
        "O operador de atribuição, `=`, não deve ser confundido com igualdade, para a qual usamos ==. O comando de atribuição associa o nome, que está à esquerda do operador, como o valor, que está à direita.\n"
      ]
    },
    {
      "cell_type": "code",
      "metadata": {
        "id": "M9pFBlLYxByL"
      },
      "source": [
        "x = 10"
      ],
      "execution_count": null,
      "outputs": []
    },
    {
      "cell_type": "markdown",
      "metadata": {
        "id": "vkSz3qJL4APL"
      },
      "source": [
        "Vamos atribuir uma variável de texto (*string*)."
      ]
    },
    {
      "cell_type": "code",
      "metadata": {
        "id": "5cMYcF0IyBHh"
      },
      "source": [
        "texto = \"Isso é um texto!\""
      ],
      "execution_count": null,
      "outputs": []
    },
    {
      "cell_type": "markdown",
      "metadata": {
        "id": "TGcizZAw4XBs"
      },
      "source": [
        "A instrução `print` (imprimir), tendo a variável como argumento, mostra o valor da variável:"
      ]
    },
    {
      "cell_type": "code",
      "metadata": {
        "id": "bj-2poKI4gSq"
      },
      "source": [
        "print(x)"
      ],
      "execution_count": null,
      "outputs": []
    },
    {
      "cell_type": "markdown",
      "metadata": {
        "id": "Dc1n9DV4SaMB"
      },
      "source": [
        "**Verificar o tipo de variável com a função `type`.**\n",
        "\n",
        "A função `type()` também é uma função nativa do Python e mostra o tipo de objeto que temos."
      ]
    },
    {
      "cell_type": "code",
      "source": [
        "type(x)"
      ],
      "metadata": {
        "id": "jC-0QKnfTOjP"
      },
      "execution_count": null,
      "outputs": []
    },
    {
      "cell_type": "code",
      "metadata": {
        "id": "8lYf_bv04jAe"
      },
      "source": [
        "print(texto)\n",
        "type(texto)"
      ],
      "execution_count": null,
      "outputs": []
    },
    {
      "cell_type": "markdown",
      "metadata": {
        "id": "Ttm5h7I15KLy"
      },
      "source": [
        "Podemos mudar o valor de uma variável em nosso programa a qualquer momento, e Python sempre manterá o controle do valor atual."
      ]
    },
    {
      "cell_type": "markdown",
      "metadata": {
        "id": "0-tCUUx144LB"
      },
      "source": [
        "### Nomeando variáveis\n",
        "\n",
        "- Nomes de variáveis devem conter apenas números, letras e underscores(_). Mas não devem começar com números. Ex: podemos nomear `x_1`, mas não `1_x`.\n",
        "- Nomes de variáveis não podem conter espaços. Para separar palavras podem ser usados os underscores. Ex: `vendas_maio`.\n",
        "- Nomes de variáveis devem ser concisos, porém descritivos.\n",
        "- Uma recomendação é utilizar letras minúsculas.\n",
        "- O Python possui algumas palavras reservadas que não podem ser usadas como nomes de variáveis: `False, True, class, is, return, for, lambda, try, del, def, while, from, yield, if, else, elif, global` ...\n",
        "Para ver mais  [Palavras reservadas do Python](https://docs.python.org/pt-br/3/reference/lexical_analysis.html#keywords)\n",
        "\n"
      ]
    },
    {
      "cell_type": "markdown",
      "metadata": {
        "id": "_YDKNdTP9p0a"
      },
      "source": [
        "## Tudo é um objeto\n",
        "\n",
        "Todo número, string, estruturas de dados, funções, classes, entre outros; são *objetos* em Python."
      ]
    },
    {
      "cell_type": "markdown",
      "metadata": {
        "id": "ffWZb9by-7E5"
      },
      "source": [
        "**Comentários**\n",
        "\n",
        "O símbolo # (*sharp* ou tralha) é frequentemente utilizado para adicionar comentários ao código.\n",
        "Veja os exemplos acima. Qualquer texto precedido por # será ignorado pelo interpretador Python."
      ]
    },
    {
      "cell_type": "code",
      "metadata": {
        "id": "ooj_m34--1AC"
      },
      "source": [
        "# Exemplo de um número\n",
        "numero = 10.5"
      ],
      "execution_count": null,
      "outputs": []
    },
    {
      "cell_type": "code",
      "metadata": {
        "id": "aUsiyQCv-1II"
      },
      "source": [
        "# Exemplo de uma string\n",
        "string = 'python'"
      ],
      "execution_count": null,
      "outputs": []
    },
    {
      "cell_type": "code",
      "metadata": {
        "id": "M3lIa2E_-1Pf"
      },
      "source": [
        "# Exemplo de uma estrutura de dados: uma lista de números\n",
        "lista = [0, 1, 2, 3, 4]"
      ],
      "execution_count": null,
      "outputs": []
    },
    {
      "cell_type": "code",
      "metadata": {
        "id": "rfDGP6TxSqJ6"
      },
      "source": [
        "# Qual o tipo da informaçã salva na variável 'numero'\n",
        "type(numero)"
      ],
      "execution_count": null,
      "outputs": []
    },
    {
      "cell_type": "code",
      "metadata": {
        "id": "1nhC1eEHSysB"
      },
      "source": [
        "# Imprimir e mostra o tipo de objeto na variável 'string'\n",
        "print(string)\n",
        "type(string)"
      ],
      "execution_count": null,
      "outputs": []
    },
    {
      "cell_type": "code",
      "source": [
        "# Imprimir e mostra o tipo de objeto na variável 'lista'\n",
        "print(lista)\n",
        "type(lista)"
      ],
      "metadata": {
        "id": "PNGuxOtN01Lw"
      },
      "execution_count": null,
      "outputs": []
    },
    {
      "cell_type": "markdown",
      "metadata": {
        "id": "uIkp8pGPDb3_"
      },
      "source": [
        "## Tipos de variáveis simples\n",
        "\n",
        "### **Strings**\n",
        "\n",
        "Uma string é simplesmente uma série de caracteres. São declaradas entre aspas, que podem ser simples ou duplas."
      ]
    },
    {
      "cell_type": "code",
      "metadata": {
        "id": "7-GflDx34kx_"
      },
      "source": [
        "nome = 'Vitor'"
      ],
      "execution_count": null,
      "outputs": []
    },
    {
      "cell_type": "code",
      "metadata": {
        "id": "fb28WME1D7te"
      },
      "source": [
        "print(nome)"
      ],
      "execution_count": null,
      "outputs": []
    },
    {
      "cell_type": "code",
      "metadata": {
        "id": "e8hw-7CEEJ3-"
      },
      "source": [
        "frase = \"Estatística é minha disciplina favorita!\"\n",
        "print(frase)\n",
        "type(frase)"
      ],
      "execution_count": null,
      "outputs": []
    },
    {
      "cell_type": "markdown",
      "metadata": {
        "id": "A91XU9rZD_4s"
      },
      "source": [
        " **Operações básicas com *strings***\n",
        "\n",
        "Aqui vamos mostrar apenas algumas operações básicas.\n",
        "\n",
        " - Converter maiúsculas e minúsculas\n",
        " - Combinar ou concatenar"
      ]
    },
    {
      "cell_type": "code",
      "metadata": {
        "id": "k0E3ZGhXEdow"
      },
      "source": [
        "# Imputar uma variável 'nome'\n",
        "nome = \"CARL GAUSS\"\n",
        "# Imprimir\n",
        "print(nome)"
      ],
      "execution_count": null,
      "outputs": []
    },
    {
      "cell_type": "markdown",
      "metadata": {
        "id": "tyq78X5sF0PP"
      },
      "source": [
        "**Métodos**\n",
        "\n",
        "Quase todo objeto em Python tem funções associadas, conhecidas como *métodos*. Ser ser muito técnico, um **método** é uma função que está disponível para um determinado tipo de objeto (para uma definição mais precisa precisaríamso estudar programação orientada à objetos).\n",
        "\n",
        "Métodos são chamados da seguinte forma:\n",
        "\n",
        "    <objeto.metodo(argumento)>\n",
        "\n",
        "Sobre a variável `nome` vamos aplicar um método denominado `title()'.\n"
      ]
    },
    {
      "cell_type": "code",
      "metadata": {
        "id": "hoAUBXF9Fg9d"
      },
      "source": [
        "# Imprimir usando o método 'title()'\n",
        "print(nome.title())"
      ],
      "execution_count": null,
      "outputs": []
    },
    {
      "cell_type": "markdown",
      "metadata": {
        "id": "Tn9rdKlwJ1G6"
      },
      "source": [
        "O método `title()` exibe a primeira letra de cada palavra com uma letra maiúscula e as demais minúsculas.\n",
        "\n",
        "O ponto(.) após o nome da variável `nome` em `nome.title()` informa ao Python que o método `title()` deve atuar na variável `nome`. \n",
        "Todo método é seguido por um conjunto de parênteses, onde são especificadas informações adicionais na execução da tarefa. O `title()` não precisa de informações adicionais, por isso os parênteses vazios.\n",
        "\n",
        "Outros métodos são úteis para tratar letras maiúsculas e minúsculas.\n",
        "\n",
        "- o métodos `lower()` converte strings para minúsculas.\n",
        "- o método `upper()` converte strings para maiúsculas"
      ]
    },
    {
      "cell_type": "code",
      "metadata": {
        "id": "vBXbeVCXLxTG"
      },
      "source": [
        "# Imprimir 'nome' com letras minusculas\n",
        "print(nome.lower())"
      ],
      "execution_count": null,
      "outputs": []
    },
    {
      "cell_type": "code",
      "source": [
        "# Imprimir 'nome' com letras maiusculas\n",
        "print(nome.upper())"
      ],
      "metadata": {
        "id": "0ePkd2Qd2GJ4"
      },
      "execution_count": null,
      "outputs": []
    },
    {
      "cell_type": "markdown",
      "metadata": {
        "id": "ABHSettDLRrj"
      },
      "source": [
        "O Python usa o operador de adição (+) para combinar strings."
      ]
    },
    {
      "cell_type": "code",
      "metadata": {
        "id": "zcIbbxBOJyv-"
      },
      "source": [
        "# Atribuir nome e sobrenome\n",
        "nome = 'Andrey'\n",
        "sobrenome = 'Kolmogorov'\n",
        "# Concatenar nome e sobrenome e imprimir o nome completo.\n",
        "print(nome + \" \" + sobrenome)  # note o espaço \" \""
      ],
      "execution_count": null,
      "outputs": []
    },
    {
      "cell_type": "code",
      "metadata": {
        "id": "on7XGxz1Mp5y"
      },
      "source": [
        "# Armazenar o nome completo em uma nova variável e imprimir\n",
        "nome_completo = nome + \" \" + sobrenome\n",
        "print(nome_completo)"
      ],
      "execution_count": null,
      "outputs": []
    },
    {
      "cell_type": "code",
      "source": [
        "# Imprimir com letras maiusculas\n",
        "nome_completo.upper()"
      ],
      "metadata": {
        "id": "bpdaetqZ2z1n"
      },
      "execution_count": null,
      "outputs": []
    },
    {
      "cell_type": "markdown",
      "metadata": {
        "id": "9g5xc-qfNwWS"
      },
      "source": [
        "### **Números**\n",
        "\n",
        "O Python trata números como inteiros (1, 2, 17, ...) denominados `int` ou ponto flutuante, que são números com um ponto decimal (1.3, 7.4, ...) denominados como `float`.\n",
        "\n",
        "### Usando o Python como uma calculadora\n",
        "\n",
        "Podemos realizar cálculos diretamente nas linhas de comando:"
      ]
    },
    {
      "cell_type": "code",
      "metadata": {
        "id": "5z7OVL1wMpcV"
      },
      "source": [
        "# soma\n",
        "2+3"
      ],
      "execution_count": null,
      "outputs": []
    },
    {
      "cell_type": "code",
      "metadata": {
        "id": "Q-XHPnuX5MEy"
      },
      "source": [
        "# subtração\n",
        "5-3"
      ],
      "execution_count": null,
      "outputs": []
    },
    {
      "cell_type": "code",
      "metadata": {
        "id": "Q14hFlsy5ZAd"
      },
      "source": [
        "# Multiplicação\n",
        "p = 2*3\n",
        "print(p)\n",
        "type(p)"
      ],
      "execution_count": null,
      "outputs": []
    },
    {
      "cell_type": "code",
      "metadata": {
        "id": "o9gRMI-05at_"
      },
      "source": [
        "# Divisão\n",
        "m = 6/3\n",
        "print(m)\n",
        "type(m)"
      ],
      "execution_count": null,
      "outputs": []
    },
    {
      "cell_type": "code",
      "metadata": {
        "id": "V6Yg9p2X5cEa"
      },
      "source": [
        "# Potência\n",
        "3 ** 2"
      ],
      "execution_count": null,
      "outputs": []
    },
    {
      "cell_type": "markdown",
      "source": [
        "Operações em Python respeitam as regras algébricas."
      ],
      "metadata": {
        "id": "On6CvHuWUpzv"
      }
    },
    {
      "cell_type": "code",
      "metadata": {
        "id": "uZ5wxwou6QB5"
      },
      "source": [
        "2 + 3*4"
      ],
      "execution_count": null,
      "outputs": []
    },
    {
      "cell_type": "code",
      "metadata": {
        "id": "kqf7ogT26VP2"
      },
      "source": [
        "(2+3)*4"
      ],
      "execution_count": null,
      "outputs": []
    },
    {
      "cell_type": "markdown",
      "metadata": {
        "id": "k2blUhEl6xnW"
      },
      "source": [
        "Podemos realizar operações com o uso de variáveis"
      ]
    },
    {
      "cell_type": "code",
      "metadata": {
        "id": "qyovipWC6X8G"
      },
      "source": [
        "# atribui valor para as variáveis\n",
        "x = 5\n",
        "y = 3"
      ],
      "execution_count": null,
      "outputs": []
    },
    {
      "cell_type": "code",
      "metadata": {
        "id": "jclLG_TX624B"
      },
      "source": [
        "# soma \n",
        "x + y"
      ],
      "execution_count": null,
      "outputs": []
    },
    {
      "cell_type": "markdown",
      "source": [
        "Exemplo: Função do tipo Cobb-Douglas"
      ],
      "metadata": {
        "id": "wa6ZXwvGUydw"
      }
    },
    {
      "cell_type": "code",
      "metadata": {
        "id": "nMIF7Yjv68EK"
      },
      "source": [
        "# Valor para variáveis usadas na função do tipo Cobb-Douglas\n",
        "k = 5\n",
        "x = 30"
      ],
      "execution_count": null,
      "outputs": []
    },
    {
      "cell_type": "code",
      "metadata": {
        "id": "9Ja1vgSg7Zuf"
      },
      "source": [
        "# Forma da função com parâmetros = 1/2\n",
        "y = k**(1/2) * x**(1/2)"
      ],
      "execution_count": null,
      "outputs": []
    },
    {
      "cell_type": "code",
      "metadata": {
        "id": "gGS72k5W7ti9"
      },
      "source": [
        "# Imprimir resultado\n",
        "print(y)"
      ],
      "execution_count": null,
      "outputs": []
    },
    {
      "cell_type": "markdown",
      "metadata": {
        "id": "tozL2GeU8p29"
      },
      "source": [
        "Exemplo: Vamos explorar um pouco mais.\n",
        "\n",
        "1. Resolvendo (obtendo as raízes) de uma função quadrática.\n",
        "$$ y = ax^2+bx+c $$\n"
      ]
    },
    {
      "cell_type": "code",
      "metadata": {
        "id": "HQPS5bx_8Wob"
      },
      "source": [
        "# Vamos atribuir algumas variáveis\n",
        "a = 4\n",
        "b = -4\n",
        "c = -24"
      ],
      "execution_count": null,
      "outputs": []
    },
    {
      "cell_type": "code",
      "metadata": {
        "id": "sdPmLEUNAJi3"
      },
      "source": [
        "# Cálculo do discriminante\n",
        "delta= b**2 - 4*a*c\n",
        "print(\"delta = \", delta)"
      ],
      "execution_count": null,
      "outputs": []
    },
    {
      "cell_type": "code",
      "source": [
        "# Cálculo das raízes\n",
        "x_1 = (-b + delta**(1/2)) / (2*a)\n",
        "x_2 = (-b - delta**(1/2)) / (2*a)\n",
        "\n",
        "# Imprimir as raízes\n",
        "print(\"x_1 = \", x_1 )\n",
        "print(\"x_2 = \", x_2 )"
      ],
      "metadata": {
        "id": "rwxDVKA1e5W5"
      },
      "execution_count": null,
      "outputs": []
    }
  ]
}