{
  "nbformat": 4,
  "nbformat_minor": 0,
  "metadata": {
    "colab": {
      "name": "python_fundamentos_3.ipynb",
      "provenance": [],
      "collapsed_sections": [],
      "authorship_tag": "ABX9TyOHEKoHuxSamvDMglbW+WYc",
      "include_colab_link": true
    },
    "kernelspec": {
      "name": "python3",
      "display_name": "Python 3"
    }
  },
  "cells": [
    {
      "cell_type": "markdown",
      "metadata": {
        "id": "view-in-github",
        "colab_type": "text"
      },
      "source": [
        "<a href=\"https://colab.research.google.com/github/vitormiro/estatistica_ppger_ufc/blob/main/python_fundamentos_3.ipynb\" target=\"_parent\"><img src=\"https://colab.research.google.com/assets/colab-badge.svg\" alt=\"Open In Colab\"/></a>"
      ]
    },
    {
      "cell_type": "markdown",
      "metadata": {
        "id": "9h-_UlOkrIFC"
      },
      "source": [
        "# **Estruturas condicionais**\n",
        "\n",
        "As estruturas condicionais são úteis quando queremos analisar um conjunto de condições e decidir por um conjunto de ações a ser executado de acordo com estas condições.\n",
        "\n",
        "Em Python, você tem as instruções `if` , `elif` e `else` para esse propósito."
      ]
    },
    {
      "cell_type": "markdown",
      "metadata": {
        "id": "1Eqmos2OQFsc"
      },
      "source": [
        "## Testes condicionais\n",
        "\n",
        "A instrução `if` é baseada em testes condicionais em que uma condição é avaliada em verdadeira (True) ou falsa (False).\n",
        "\n",
        "Se a condição é avaliada como 'True', Python executará o código após a intrução `if`. Se a condição for 'False', o interpretador vai ignorar o código."
      ]
    },
    {
      "cell_type": "markdown",
      "metadata": {
        "id": "XCb7-Q9FVJjb"
      },
      "source": [
        "### Comparações numéricas\n",
        "Testar valores numéricos é bem simples.\n",
        "Podem ser utilizadas as condições:\n",
        "- \"==\"\n",
        "- \"<=\" ou \">=\"\n",
        "- \"<\" ou \">\"\n",
        "- !="
      ]
    },
    {
      "cell_type": "code",
      "metadata": {
        "id": "QcxlA282QEDh"
      },
      "source": [
        "## Verificando uma condição de igualdade\n",
        "\n",
        "# Atribuindo valor para a variável idade\n",
        "idade = 19\n",
        "\n",
        "# Verificando uma condição de igualdade\n",
        "idade == 19"
      ],
      "execution_count": null,
      "outputs": []
    },
    {
      "cell_type": "code",
      "metadata": {
        "id": "g1Dgyo6xRnPo"
      },
      "source": [
        "# Nova verificação\n",
        "idade == 15"
      ],
      "execution_count": null,
      "outputs": []
    },
    {
      "cell_type": "code",
      "metadata": {
        "id": "BeJ6qebhRuuF"
      },
      "source": [
        "## Verificando uma condição de diferença\n",
        "idade != 15"
      ],
      "execution_count": null,
      "outputs": []
    },
    {
      "cell_type": "code",
      "metadata": {
        "id": "jJyJpilER2jc"
      },
      "source": [
        "## Verificando uma condição \">\", \"<\", \">=\" e \"<=\"\n",
        "idade >= 18"
      ],
      "execution_count": null,
      "outputs": []
    },
    {
      "cell_type": "code",
      "metadata": {
        "id": "zw_DF32bSIjo"
      },
      "source": [
        "idade > 20"
      ],
      "execution_count": null,
      "outputs": []
    },
    {
      "cell_type": "code",
      "metadata": {
        "id": "Vn308B1dSKx3"
      },
      "source": [
        "idade <= 20"
      ],
      "execution_count": null,
      "outputs": []
    },
    {
      "cell_type": "code",
      "metadata": {
        "id": "VONAJC32SNr4"
      },
      "source": [
        "idade < 18"
      ],
      "execution_count": null,
      "outputs": []
    },
    {
      "cell_type": "markdown",
      "metadata": {
        "id": "Hd6BgspzSVmk"
      },
      "source": [
        "**Testando várias condições**\n",
        "\n",
        "Para testar várias condições utilizamos as palavras reservadas `and`(e) e `or`(ou).\n",
        "\n",
        "Podemos usar parênteses para melhorar a legibilidade do código.\n"
      ]
    },
    {
      "cell_type": "code",
      "metadata": {
        "id": "-BKSGJ-PVeK9"
      },
      "source": [
        "# Atribuir variáveis\n",
        "idade1 = 19\n",
        "idade2 = 22"
      ],
      "execution_count": null,
      "outputs": []
    },
    {
      "cell_type": "code",
      "metadata": {
        "id": "imqo_mTBUZ3a"
      },
      "source": [
        "# Condição 'and' (e) -> as duas condições devem ser verdadeira para ser 'True'\n",
        "(idade1 >= 18) and (idade2 <=21)"
      ],
      "execution_count": null,
      "outputs": []
    },
    {
      "cell_type": "code",
      "metadata": {
        "id": "7HNEytlyVa-J"
      },
      "source": [
        "# Condição 'or' (ou) -> pelo menos uma das duas condições devem ser verdadeira para ser 'True'\n",
        "(idade1 >= 18) or (idade2 <=21)"
      ],
      "execution_count": null,
      "outputs": []
    },
    {
      "cell_type": "markdown",
      "metadata": {
        "id": "MlVoS7PeWLlL"
      },
      "source": [
        "**Verificar valores em uma lista**\n",
        "\n",
        "Para verificar se um valor está em uma lista utilizamos a palavra reservada `in`."
      ]
    },
    {
      "cell_type": "code",
      "metadata": {
        "id": "Ug5X7_UZrVCe"
      },
      "source": [
        "capitais_ne = ['salvador', 'aracaju', 'maceio', 'recife', 'joao pessoa', 'natal', 'fortaleza', 'teresina', 'sao luiz']"
      ],
      "execution_count": null,
      "outputs": []
    },
    {
      "cell_type": "code",
      "metadata": {
        "id": "KJaMLH9JWObk"
      },
      "source": [
        "# Verificar se uma string está na lista\n",
        "'natal' in capitais_ne"
      ],
      "execution_count": null,
      "outputs": []
    },
    {
      "cell_type": "code",
      "metadata": {
        "id": "PDdawA1kWehT"
      },
      "source": [
        "# Verificar se uma string está na lista\n",
        "'vitoria' in capitais_ne"
      ],
      "execution_count": null,
      "outputs": []
    },
    {
      "cell_type": "markdown",
      "metadata": {
        "id": "wrbUQn2sW9hR"
      },
      "source": [
        "Usando operadores para verificar condições."
      ]
    },
    {
      "cell_type": "code",
      "metadata": {
        "id": "d9h5JzY2W1KE"
      },
      "source": [
        "# Verificar se a primeira posição da lista [0] capitais_ne é 'salvador'. Note o operador de equivalência \"==\"\"\n",
        "capitais_ne[0] == 'fortaleza'"
      ],
      "execution_count": null,
      "outputs": []
    },
    {
      "cell_type": "code",
      "metadata": {
        "id": "Kq0Svhp6W6Fv"
      },
      "source": [
        "# Verificar se a segunda posição da lista [1] capitais_ne é 'salvador'\n",
        "capitais_ne[1] == 'aracaju'"
      ],
      "execution_count": null,
      "outputs": []
    },
    {
      "cell_type": "code",
      "metadata": {
        "id": "7T4aU8zyXFHB"
      },
      "source": [
        "capitais_ne[1]"
      ],
      "execution_count": null,
      "outputs": []
    },
    {
      "cell_type": "markdown",
      "metadata": {
        "id": "etr0_qoNX5UF"
      },
      "source": [
        "Mais um exemplo."
      ]
    },
    {
      "cell_type": "code",
      "metadata": {
        "id": "Xb9lKIpUX7K-"
      },
      "source": [
        "marvel = [\"Iron man\", \"Capitain America\", \"Hulk\", \"Thor\", \"Black Widow\", \"Hawkeye\"]"
      ],
      "execution_count": null,
      "outputs": []
    },
    {
      "cell_type": "code",
      "metadata": {
        "id": "G_U97sk_X-UC"
      },
      "source": [
        "# verificar se está na lista\n",
        "\"Hulk\" in marvel"
      ],
      "execution_count": null,
      "outputs": []
    },
    {
      "cell_type": "markdown",
      "metadata": {
        "id": "HzYxM_R_PBOy"
      },
      "source": [
        "## Instruções `if`\n",
        "\n",
        "O tipo mais simples de intrução `if` corresponde a um teste do tipo:\n",
        "\n",
        "```\n",
        "if teste_condicional:\n",
        "      execute algo \n",
        "```\n",
        "\n",
        "Dois detalhes importantes:\n",
        "- dois pontos (:) ao fim da condição declarada.\n",
        "- identação dos blocos de código a serem executados."
      ]
    },
    {
      "cell_type": "code",
      "metadata": {
        "id": "EGyjVdScYNw8"
      },
      "source": [
        "idade = 19\n",
        "if idade >= 18:\n",
        "    print(\"Você já é maior de idade.\")"
      ],
      "execution_count": null,
      "outputs": []
    },
    {
      "cell_type": "markdown",
      "metadata": {
        "id": "hv-g-s9QaSjd"
      },
      "source": [
        "### A função `input()`\n",
        "A função `input()` faz uma pausa em seu programa e espera o usuário fornecer uma informação.\n",
        "\n",
        "Depois que o Python recebe a informação, ela é armazenada em uma variável."
      ]
    },
    {
      "cell_type": "code",
      "metadata": {
        "id": "aWenDbzKnCCQ"
      },
      "source": [
        "nome =input(\"Qual o seu nome? \")\n",
        "print(\"Olá, \" + nome + \"!\" )"
      ],
      "execution_count": null,
      "outputs": []
    },
    {
      "cell_type": "code",
      "metadata": {
        "id": "20WhZlHNXwGM"
      },
      "source": [
        "# Vamos usar o comando `input` para a pergunta de idade\n",
        "idade = input(\"Qual a sua idade? \")"
      ],
      "execution_count": null,
      "outputs": []
    },
    {
      "cell_type": "code",
      "metadata": {
        "id": "NbBFTIsPnO3G"
      },
      "source": [
        "if idade < 18:\n",
        "    print (\"Você é menor de idade!\")"
      ],
      "execution_count": null,
      "outputs": []
    },
    {
      "cell_type": "code",
      "metadata": {
        "id": "1_dBHlRBa6Ao"
      },
      "source": [
        "# Com a função 'input', a informção de idade é salva como um objeto 'str'.\n",
        "type(idade)"
      ],
      "execution_count": null,
      "outputs": []
    },
    {
      "cell_type": "markdown",
      "metadata": {
        "id": "s-yTs3HdnaVb"
      },
      "source": [
        "Com a função int() podemos converter a variável para um número inteiro."
      ]
    },
    {
      "cell_type": "code",
      "metadata": {
        "id": "Uf1fDgNybC0y"
      },
      "source": [
        "# Atribui valor para a variável idade com a função input.\n",
        "# Converter em um objeto 'int' para ser usado na intrução `if`.\n",
        "idade = int(input(\"Qual a sua idade? \"))\n",
        "\n",
        "# Instrução if-else\n",
        "if idade >= 18:\n",
        "    print (\"Você já é maior de idade.\")"
      ],
      "execution_count": null,
      "outputs": []
    },
    {
      "cell_type": "markdown",
      "metadata": {
        "id": "sXcLPuPfZ6b1"
      },
      "source": [
        "## Instruções `if-else`\n",
        "Permite declarar a execução de uma ação caso a condição seja 'True' e a execução de outra ação alternativa caso seja 'False'.\n",
        "\n",
        "```\n",
        "if teste_condicional:\n",
        "    execute a ação A\n",
        "else:\n",
        "    execute a ação B\n",
        "```"
      ]
    },
    {
      "cell_type": "code",
      "metadata": {
        "id": "yy9DUAGjscuw"
      },
      "source": [
        "# atribui valor para a variável idade\n",
        "idade = 20\n",
        "\n",
        "# Instrução if-else\n",
        "if idade <18:\n",
        "    print (\"Menor de idade\")\n",
        "else:\n",
        "    print (\"MAIOR de idade\")"
      ],
      "execution_count": null,
      "outputs": []
    },
    {
      "cell_type": "code",
      "metadata": {
        "id": "CgSfde84aHuI"
      },
      "source": [
        "# Atribui valor para a variável idade com a função input\n",
        "idade = int(input(\"Qual a sua idade? \"))\n",
        "\n",
        "# Instrução if-else\n",
        "if idade >=18:\n",
        "    print (\"Você já é maior de idade.\")\n",
        "else:\n",
        "    print (\"Você ainda é menor de idade.\")"
      ],
      "execution_count": null,
      "outputs": []
    },
    {
      "cell_type": "code",
      "metadata": {
        "id": "7l8XNgWfrX2q"
      },
      "source": [
        "for capital in capitais_ne:\n",
        "    if capital == 'fortaleza':\n",
        "        print(capital.title() + \" é a capital do Ceará.\")\n",
        "    else:\n",
        "        print(capital.title())"
      ],
      "execution_count": null,
      "outputs": []
    },
    {
      "cell_type": "markdown",
      "metadata": {
        "id": "yGk490f9slqU"
      },
      "source": [
        "## Testando várias condições\n",
        "Para testar duas ou mais condições podemos utilizar os conectores \"and\" e \"or\"."
      ]
    },
    {
      "cell_type": "code",
      "metadata": {
        "id": "9BEr8lkLshEA"
      },
      "source": [
        "idade = int(input(\"Qual a sua idade? \"))\n",
        "\n",
        "if idade >=13 and idade <=18:\n",
        "    print (\"Adolescente.\")\n",
        "else:\n",
        "    print (\"Não é adolescente.\")"
      ],
      "execution_count": null,
      "outputs": []
    },
    {
      "cell_type": "markdown",
      "metadata": {
        "id": "wtpAKMVWtmUn"
      },
      "source": [
        "## Intrução `if-elif-else`\n",
        "\n",
        "Em algumas situações é necessário testar (aplicar um teste condicional) mais de duas condições. Nesses casos, a sintaxe `if-elif-else` poderá ser usada.\n",
        "\n",
        "Cada teste condicional é executado em sequência, até que um deles passe.\n",
        "Quando um teste passar, o código após esse teste será executado e o Python irá ignorar o restante dos testes."
      ]
    },
    {
      "cell_type": "code",
      "metadata": {
        "id": "R-6FCecrthOx"
      },
      "source": [
        "idade = int(input(\"Qual a sua idade? \"))\n",
        "if idade <6:\n",
        "    print(\"A entrada de crinças menores de 6 anos é gratuita.\")\n",
        "elif idade <18:\n",
        "    print (\"Crianças maiores do que 6 anos e adolescentes possuem 50% de desconto.\")\n",
        "else:\n",
        "    print (\"Maiores de 18 anos pagam entrada no valor de $50.\")"
      ],
      "execution_count": null,
      "outputs": []
    },
    {
      "cell_type": "markdown",
      "metadata": {
        "id": "QJcB722rt0Zh"
      },
      "source": [
        "Vejamos outro exemplo."
      ]
    },
    {
      "cell_type": "code",
      "metadata": {
        "id": "qOZR37ZqttEc"
      },
      "source": [
        "idade = int(input(\"Qual a sua idade? \"))\n",
        "if idade <6:\n",
        "    preço = 0\n",
        "elif idade <18:\n",
        "    preço = 25\n",
        "else:\n",
        "    preço = 50\n",
        "\n",
        "print (\"O preço da sua entrade é de R$\" + str(preço) + \".\")"
      ],
      "execution_count": null,
      "outputs": []
    },
    {
      "cell_type": "markdown",
      "metadata": {
        "id": "iRIFKkHtuT9q"
      },
      "source": [
        "### Usando vários blocos `elif`\n",
        "Podemos usar vários blocos `elif` em um código; quantos quisermos."
      ]
    },
    {
      "cell_type": "code",
      "metadata": {
        "id": "HlF-G8X9uQqE"
      },
      "source": [
        " idade = int(input(\"Qual a sua idade? \"))\n",
        "if idade < 6:\n",
        "    preço = 0\n",
        "    print(\"Entrada Gratuita\")\n",
        "elif idade < 18:\n",
        "    preço = 25\n",
        "    print(\"Você tem direito a meia entrada\")\n",
        "elif idade < 65:\n",
        "    preço = 50\n",
        "else:\n",
        "    preço = 25\n",
        "    print(\"Idosos possuem direito à meia entrada\")\n",
        "    \n",
        "print (\"O preço da sua entrade é de R$\" + str(preço) + \".\")"
      ],
      "execution_count": null,
      "outputs": []
    },
    {
      "cell_type": "markdown",
      "metadata": {
        "id": "grJnVybkubKC"
      },
      "source": [
        "O bloco `else` não é exigido. Às vezes, um bloco `else` é útil; outras vezes, é mais claro usar uma instrução `elif` adicional que capture a condição de interesse."
      ]
    },
    {
      "cell_type": "code",
      "metadata": {
        "id": "uUQr-fHuuXsu"
      },
      "source": [
        "idade = int(input(\"Qual a sua idade? \"))\n",
        "if idade < 6:\n",
        "    preço = 0\n",
        "elif idade < 18:\n",
        "    preço = 25\n",
        "elif idade < 65:\n",
        "    preço = 50\n",
        "elif idade >= 65:\n",
        "    preço = 25\n",
        "    \n",
        "print (\"O preço da sua entrade é de R$\" + str(preço) + \".\")"
      ],
      "execution_count": null,
      "outputs": []
    },
    {
      "cell_type": "markdown",
      "metadata": {
        "id": "D4E6hNbsuhr6"
      },
      "source": [
        "### Testando várias condições\n",
        "A cadeia `if-elif-else` é eficaz, mas é apropriada somente quando você quiser que apenas um teste passe.\n",
        "Nestes casos, assim que encontar um teste que passe, o interpretador Python ignorará o restante dos testes.\n",
        "\n",
        "Às vezes é importante verificar todas as condições de interesse. Nesse caso, você deve usar uma série de instruções `if` simples,\n",
        "sem blocos `elif` ou `else`."
      ]
    },
    {
      "cell_type": "code",
      "metadata": {
        "id": "_yob7ADFudbA"
      },
      "source": [
        "cursos = ['matematica', 'microeconomia', 'estatistica', 'macroeconomia']"
      ],
      "execution_count": null,
      "outputs": []
    },
    {
      "cell_type": "code",
      "metadata": {
        "id": "ybbPJt2FukKZ"
      },
      "source": [
        "if 'macroeconomia' in cursos:\n",
        "    print (\"Macroeconomia, ok!\")\n",
        "if 'microeconomia' in cursos:\n",
        "    print (\"Microeconomia, ok!\")\n",
        "if 'estatistica' in cursos:\n",
        "    print (\"Estatística, ok!\")\n",
        "\n",
        "print(\"\\nMatrícula efetuada com sucesso!\")"
      ],
      "execution_count": null,
      "outputs": []
    },
    {
      "cell_type": "markdown",
      "metadata": {
        "id": "goyEYB11us7p"
      },
      "source": [
        "### Usando `if` com listas."
      ]
    },
    {
      "cell_type": "code",
      "metadata": {
        "id": "OPbt2F2sum3C"
      },
      "source": [
        "alunos = ['Pedro', 'Ana', 'Carla', 'Rafael']\n",
        "for aluno in alunos:\n",
        "    print (aluno + \" você foi aprovado!\")\n",
        "\n",
        "print (\"\\nParabéns aos aprovados!\")"
      ],
      "execution_count": null,
      "outputs": []
    },
    {
      "cell_type": "markdown",
      "metadata": {
        "id": "BvZd7WC_Mjic"
      },
      "source": [
        "# **Entrada de usuários e laços while**"
      ]
    },
    {
      "cell_type": "markdown",
      "metadata": {
        "id": "UO1OhoAmNJj5"
      },
      "source": [
        "## Laços While\n",
        "O laço `for`toma uma coleção de itens e executa um bloco de código uma vez para cada item da coleção.\n",
        "O Laço `while` executa durante enquanto uma determinada condição for verdadeira."
      ]
    },
    {
      "cell_type": "code",
      "metadata": {
        "id": "v5m1_M4fNEAw"
      },
      "source": [
        "valor_atual = 1\n",
        "while valor_atual <= 10:\n",
        "    print(valor_atual)\n",
        "    valor_atual += 2"
      ],
      "execution_count": null,
      "outputs": []
    },
    {
      "cell_type": "markdown",
      "metadata": {
        "id": "DTjg0QaxNmxi"
      },
      "source": [
        "O operador += é um atalho para \"valor_atual = valor_atual + 1\".\n",
        "\n",
        "O Python repete o laço enquanto a condição for verdadeira."
      ]
    },
    {
      "cell_type": "markdown",
      "metadata": {
        "id": "KZRhPXfdNrf1"
      },
      "source": [
        "## Usando um laço com listas e dicionários\n",
        "\n",
        "Transferir itens de uma lista para outra."
      ]
    },
    {
      "cell_type": "code",
      "metadata": {
        "id": "4ihk4mxXNNYT"
      },
      "source": [
        "# criar uma lista de convidados\n",
        "lista_convidados = ['alice', 'bruno', 'carolina', 'carla', 'marcos', 'pedro']\n",
        "\n",
        "# criar uma lista vazia de confirmados\n",
        "lista_confirmados = []"
      ],
      "execution_count": null,
      "outputs": []
    },
    {
      "cell_type": "code",
      "metadata": {
        "id": "9DmBvllENyP4"
      },
      "source": [
        "while lista_convidados:\n",
        "    # o método .pop() remove um elemento na lista (por padrão, o último elemento), e retorna o valor desse elemento.\n",
        "    convidado = lista_convidados.pop()    \n",
        "    print(\"Verificar convidado:\" + convidado.title())\n",
        "    lista_confirmados.append(convidado)\n",
        "    \n",
        "print (\"\\n Os seguintes convidados confirmaram presença:\")\n",
        "\n",
        "for confirmado in lista_confirmados:\n",
        "    print(confirmado.title() + \" confirmou presença!\")"
      ],
      "execution_count": null,
      "outputs": []
    },
    {
      "cell_type": "code",
      "metadata": {
        "id": "r_8xFHZKoYbM"
      },
      "source": [
        "print(lista_convidados) \n",
        "print(lista_confirmados)\n",
        "# note que os nomes são transferidos de uma lista para a outra"
      ],
      "execution_count": null,
      "outputs": []
    },
    {
      "cell_type": "markdown",
      "metadata": {
        "id": "kKy_kECdy3Lp"
      },
      "source": [
        "Vamos refazer este exemplo craindo uma lista de confirmados com a solicitação uma entrada 'sim ou não' para os confirmados."
      ]
    },
    {
      "cell_type": "code",
      "metadata": {
        "id": "ga4NhMs0pp1S"
      },
      "source": [
        "# criar uma lista de convidados\n",
        "lista_convidados = ['alice', 'bruno', 'carolina', 'carla', 'marcos', 'pedro']\n",
        "# criar uma lista vazia de confirmados, sobreponda a lista crianda anteriormente.\n",
        "lista_confirmados = []\n",
        "\n",
        "# Executar o loop\n",
        "while lista_convidados:\n",
        "    convidado = lista_convidados.pop()\n",
        "\n",
        "    confirmado = input(convidado.title() + \" confirmou presença (sim/ não)? \")\n",
        "    if confirmado == 'sim':\n",
        "        lista_confirmados.append(convidado)\n",
        "    \n",
        "print (\"\\n Os seguintes convidados confirmaram presença:\")\n",
        "\n",
        "for confirmado in lista_confirmados:\n",
        "    print(confirmado.title() + \" confirmou presença!\")"
      ],
      "execution_count": null,
      "outputs": []
    },
    {
      "cell_type": "code",
      "metadata": {
        "id": "OkpaC0h-0D0Y"
      },
      "source": [
        "print(lista_convidados) \n",
        "print(lista_confirmados)"
      ],
      "execution_count": null,
      "outputs": []
    },
    {
      "cell_type": "markdown",
      "metadata": {
        "id": "KmLguXJQOW-Q"
      },
      "source": [
        "## Preenchendo um dicionário com dados de entrada do usuário\n",
        "\n",
        "Podemos pedir a quantidade de entrada que for necessária a cada passagem por um laço `while`."
      ]
    },
    {
      "cell_type": "code",
      "metadata": {
        "id": "dET12CiFOA-n"
      },
      "source": [
        "respostas = {}\n",
        "\n",
        "# Define uma flag para indicar que a enquete está ativa\n",
        "polling_active = True\n",
        "\n",
        "while polling_active:\n",
        "    # Solicita o nome\n",
        "    nome = input(\"\\nQual o seu nome? \")\n",
        "    resposta = input(\"Onde você trabalha? \")\n",
        "    \n",
        "    # Armazena a resposta no dicionário\n",
        "    respostas[nome]=resposta\n",
        "    \n",
        "    # Verifica se outra pessoa vai responder à enquete\n",
        "    repete = input(\"outra pessoa vai ser responder? (sim/não)\")\n",
        "    if repete =='não':\n",
        "        polling_active = False\n",
        "        \n",
        "# Enquete foi concluída, e mostra os resultados:\n",
        "print (\"\\n --- Poll Results ---\")\n",
        "for nome, resposta in respostas.items():\n",
        "    print (nome + \" trabalha na \" + resposta + \".\")"
      ],
      "execution_count": null,
      "outputs": []
    },
    {
      "cell_type": "code",
      "metadata": {
        "id": "tnGMZwVy2Mdl"
      },
      "source": [
        "print(respostas)"
      ],
      "execution_count": null,
      "outputs": []
    },
    {
      "cell_type": "code",
      "metadata": {
        "id": "35a_9Dkg2PUE"
      },
      "source": [
        ""
      ],
      "execution_count": null,
      "outputs": []
    }
  ]
}