{
  "nbformat": 4,
  "nbformat_minor": 0,
  "metadata": {
    "colab": {
      "name": "python_fundamentos_6_numpy_p2.ipynb",
      "provenance": [],
      "collapsed_sections": [],
      "authorship_tag": "ABX9TyPjTgJ5PdoHqvHTJd17joM5",
      "include_colab_link": true
    },
    "kernelspec": {
      "name": "python3",
      "display_name": "Python 3"
    },
    "language_info": {
      "name": "python"
    }
  },
  "cells": [
    {
      "cell_type": "markdown",
      "metadata": {
        "id": "view-in-github",
        "colab_type": "text"
      },
      "source": [
        "<a href=\"https://colab.research.google.com/github/vitormiro/estatistica_ppger_ufc/blob/main/python_fundamentos_6_numpy_p2.ipynb\" target=\"_parent\"><img src=\"https://colab.research.google.com/assets/colab-badge.svg\" alt=\"Open In Colab\"/></a>"
      ]
    },
    {
      "cell_type": "markdown",
      "metadata": {
        "id": "qi5I8RVytK5X"
      },
      "source": [
        "# Mais sobre o uso do NumPy"
      ]
    },
    {
      "cell_type": "code",
      "metadata": {
        "id": "dnr5c9BYtbJp"
      },
      "source": [
        "# importar o numpy\n",
        "import numpy as np"
      ],
      "execution_count": null,
      "outputs": []
    },
    {
      "cell_type": "code",
      "metadata": {
        "id": "xuLMIziotPlC"
      },
      "source": [
        "# Criando um array\n",
        "x = np.array([1,2,3,4,5,6])"
      ],
      "execution_count": null,
      "outputs": []
    },
    {
      "cell_type": "code",
      "metadata": {
        "id": "k6JmiFAttWXH"
      },
      "source": [
        "# imprimir\n",
        "print (x)"
      ],
      "execution_count": null,
      "outputs": []
    },
    {
      "cell_type": "code",
      "metadata": {
        "id": "cHnXOj45tZdN"
      },
      "source": [
        "# imprimir tipo dos elementos\n",
        "print ('Tipo de elementos do array: ', x.dtype)"
      ],
      "execution_count": null,
      "outputs": []
    },
    {
      "cell_type": "code",
      "metadata": {
        "id": "1zm6udOctqco"
      },
      "source": [
        "# imprimir a dimensão do ndarray\n",
        "print ('Dimensão do array: ', x.shape)"
      ],
      "execution_count": null,
      "outputs": []
    },
    {
      "cell_type": "code",
      "metadata": {
        "id": "8En2t7A4t5dk"
      },
      "source": [
        "# Modificar a dimensão de x para 2X3\n",
        "x.shape = (2,3)"
      ],
      "execution_count": null,
      "outputs": []
    },
    {
      "cell_type": "code",
      "metadata": {
        "id": "kYPKP7Xkt5Ul"
      },
      "source": [
        "# imprimir\n",
        "print(x)"
      ],
      "execution_count": null,
      "outputs": []
    },
    {
      "cell_type": "code",
      "metadata": {
        "id": "5xVRmGQ_t5Ly"
      },
      "source": [
        "# imprimir a dimensão do ndarray\n",
        "print ('Dimensão do array: ', x.shape)"
      ],
      "execution_count": null,
      "outputs": []
    },
    {
      "cell_type": "markdown",
      "metadata": {
        "id": "mBHKnjXXtPsx"
      },
      "source": [
        "#### Algumas funções convenientes"
      ]
    },
    {
      "cell_type": "code",
      "metadata": {
        "id": "MdAMLDVCtPzR"
      },
      "source": [
        "# criar um array de 1's com `np.ones` e dimensão 3 X 2\n",
        "ones = np.ones((3,2))\n",
        "print(ones)"
      ],
      "execution_count": null,
      "outputs": []
    },
    {
      "cell_type": "code",
      "metadata": {
        "id": "f3sNzYdOudYr"
      },
      "source": [
        "# criar um array de zeros com `np.zeros`\n",
        "zeros = np.zeros((3,2))\n",
        "print(zeros)"
      ],
      "execution_count": null,
      "outputs": []
    },
    {
      "cell_type": "code",
      "metadata": {
        "id": "k_UvGcEgudVy"
      },
      "source": [
        "# criar um array 'identidade' (1's na diagonal principal e zeros nas demais entradas) de dimensão 3 com `np.eye`\n",
        "id = np.eye(3)\n",
        "print(id)"
      ],
      "execution_count": null,
      "outputs": []
    },
    {
      "cell_type": "code",
      "metadata": {
        "id": "z4UYKfZUudS9"
      },
      "source": [
        "# Criar um array definindo os valores da diagonal principal\n",
        "D = np.diag([1,2,3])\n",
        "print(D)"
      ],
      "execution_count": null,
      "outputs": []
    },
    {
      "cell_type": "markdown",
      "metadata": {
        "id": "rZxUYWeXM5ek"
      },
      "source": [
        "# Usando o NumPy para princípios de Probabilidade e Estatística\n",
        "\n",
        "Um algoritmo de números pseudo-aleatórios recebe essa denominação por se tratar de um algoritmo que gera uma seqüência de números que são aproximadamente independentes uns dos outros mas, pelo processo, não são verdadeiramente aleatórios."
      ]
    },
    {
      "cell_type": "markdown",
      "metadata": {
        "id": "9Ti8lR_CtP7W"
      },
      "source": [
        "### Semente aleatória\n",
        "\n",
        "A semente aleatória é um número (ou vetor) usado para iniciar o algoritmo gerador de números pseudo-aleatórios.\n",
        "\n",
        "O objetivo da semente é permitir que o usuário \"bloqueie\" o gerador de números pseudo-aleatórios, para permitir análises replicáveis."
      ]
    },
    {
      "cell_type": "markdown",
      "metadata": {
        "id": "fL3ke1WWJQ7P"
      },
      "source": [
        "A biblioteca padrão do Python apresenta o método `seed()` que é usado para inicializar o gerador de números pseudo-aleatórios.\n",
        "\n",
        "No NumPy temos o método `random.seed()`."
      ]
    },
    {
      "cell_type": "code",
      "metadata": {
        "id": "wEuC7hf1tQDO"
      },
      "source": [
        "# importar método `random`\n",
        "import random\n",
        "# definir a semente aleatória\n",
        "random.seed(123)"
      ],
      "execution_count": null,
      "outputs": []
    },
    {
      "cell_type": "markdown",
      "metadata": {
        "id": "dThslBTaN4Zp"
      },
      "source": [
        "### Geradores de números pseudo-aleatórios\n",
        "\n",
        "O `numpy.random` é um módulo presente na biblioteca NumPy que contém funções próprias para gerar números aleatórios. Este módulo contém alguns métodos simples de geração de dados aleatórios, além de funções de distribuição."
      ]
    },
    {
      "cell_type": "code",
      "metadata": {
        "id": "P3rKqis7yDDN"
      },
      "source": [
        "# importar o módulo `random` do NumPy\n",
        "from numpy import random     # não precisaremos usar o aliás \"np.\" "
      ],
      "execution_count": null,
      "outputs": []
    },
    {
      "cell_type": "code",
      "metadata": {
        "id": "cC6m-RFAJspS"
      },
      "source": [
        "# Gerar uma semente aleatória para o numpy.random\n",
        "random.seed(123)"
      ],
      "execution_count": null,
      "outputs": []
    },
    {
      "cell_type": "markdown",
      "metadata": {
        "id": "kyhVc4_5yAJn"
      },
      "source": [
        "O método `random.randint()` retorna números (inteiros) aleatórios de uma **distribuição discreta uniforme**, definindo um intervalo `[a, b)`.\n",
        "\n",
        "Também podemos criar um array de números aleatórios atribuindo valores para um limite inferior (`a`), limite superior (`b`) e o tamanho ou dimensão do array (`size`).\n",
        "\n",
        "```\n",
        "random.randint(a, b, size)\n",
        "```\n"
      ]
    },
    {
      "cell_type": "code",
      "metadata": {
        "id": "2wb4kbylM0jx"
      },
      "source": [
        "# Gerar um número inteiro aleatório de [0 - 100)\n",
        "x = random.randint(100)\n",
        "print(x)"
      ],
      "execution_count": null,
      "outputs": []
    },
    {
      "cell_type": "code",
      "metadata": {
        "id": "Jeu1RGJBUYMc"
      },
      "source": [
        "# Gerar um número inteiro aleatório no intervalo [0 - 100) usando uma semente aleatória\n",
        "random.seed(456)\n",
        "x = random.randint(100)\n",
        "print(x)"
      ],
      "execution_count": null,
      "outputs": []
    },
    {
      "cell_type": "code",
      "metadata": {
        "id": "1zMojDyzz805"
      },
      "source": [
        "# Gerar 5 números inteiros aleatórios no intervalo [1 - 10)\n",
        "x = random.randint(1, 10, size=5)\n",
        "print(x)"
      ],
      "execution_count": null,
      "outputs": []
    },
    {
      "cell_type": "code",
      "metadata": {
        "id": "5981jcM6VPGy"
      },
      "source": [
        "# Gerar 5 números inteiros aleatórios no intervalo [1 - 10) com uma semente aleatória\n",
        "random.seed(12)\n",
        "x = random.randint(1, 10, size=5)\n",
        "print(x)"
      ],
      "execution_count": null,
      "outputs": []
    },
    {
      "cell_type": "code",
      "metadata": {
        "id": "Sfh8bPKb0TVt"
      },
      "source": [
        "# Gerar um array números inteiros aleatórios no intervalo [1 - 10) de dimensão (2 X 3)\n",
        "x = random.randint(1, 10, size=(2, 3))\n",
        "print(x)"
      ],
      "execution_count": null,
      "outputs": []
    },
    {
      "cell_type": "markdown",
      "metadata": {
        "id": "uVnegPsz0va1"
      },
      "source": [
        "\n",
        "Por sua vez, o método `random.rand()` cria um array com amostras aleatórias (números 'float') de uma distribuição uniforme no intervalo `[0, 1)`."
      ]
    },
    {
      "cell_type": "code",
      "metadata": {
        "id": "NuuiCMqayyqe"
      },
      "source": [
        "# Retorna um número aleatório 'float' entre 0 e 1.\n",
        "x = random.rand()\n",
        "print(x)"
      ],
      "execution_count": null,
      "outputs": []
    },
    {
      "cell_type": "code",
      "metadata": {
        "id": "mjgbUIx_1EPu"
      },
      "source": [
        "# Retorna um array de dimensão (3X2) de números aleatórios 'float' entre 0 e 1.\n",
        "x = random.rand(3,2)\n",
        "print(x)"
      ],
      "execution_count": null,
      "outputs": []
    },
    {
      "cell_type": "markdown",
      "metadata": {
        "id": "qk5Dy3x21e6d"
      },
      "source": [
        "\n",
        "O método `randn()` cria um array com amostras aleatórias a partir de uma **distribuição normal padrão** (média = 0 e variância = 1).\n",
        "Os argumento do método definem a dimensão do array."
      ]
    },
    {
      "cell_type": "code",
      "metadata": {
        "id": "0kwmtrfZ1smD"
      },
      "source": [
        "# Um array de dimensão 2\n",
        "x = random.randn(2)\n",
        "print(x)"
      ],
      "execution_count": null,
      "outputs": []
    },
    {
      "cell_type": "code",
      "metadata": {
        "id": "Zwxt2LhJWf_a"
      },
      "source": [
        "# média de x\n",
        "np.mean(x)"
      ],
      "execution_count": null,
      "outputs": []
    },
    {
      "cell_type": "code",
      "metadata": {
        "id": "OeBw85ZUWmma"
      },
      "source": [
        "# variância de x\n",
        "np.var(x)"
      ],
      "execution_count": null,
      "outputs": []
    },
    {
      "cell_type": "code",
      "metadata": {
        "id": "kbQMC7xXWyUL"
      },
      "source": [
        "# Um array de dimensão 100\n",
        "random.seed(123)\n",
        "x_normp = random.randn(100)\n",
        "print(x_normp)"
      ],
      "execution_count": null,
      "outputs": []
    },
    {
      "cell_type": "code",
      "metadata": {
        "id": "ZMq5BfyVW9CO"
      },
      "source": [
        "# média de x_normp\n",
        "np.mean(x_normp)"
      ],
      "execution_count": null,
      "outputs": []
    },
    {
      "cell_type": "code",
      "metadata": {
        "id": "72YLqXzEXC0t"
      },
      "source": [
        "# variância de x_normp\n",
        "np.var(x_normp)"
      ],
      "execution_count": null,
      "outputs": []
    },
    {
      "cell_type": "code",
      "metadata": {
        "id": "tGoSOzP81se2"
      },
      "source": [
        "# criar um array (10 X 5)\n",
        "x = random.randn(10, 5)\n",
        "print(x)"
      ],
      "execution_count": null,
      "outputs": []
    },
    {
      "cell_type": "code",
      "metadata": {
        "id": "aL1zAaArNBuH"
      },
      "source": [
        "# estabelecendo uma semente aleatória \"123)\n",
        "random.seed(123)\n",
        "# criar um array (1000 X 1)\n",
        "X = random.randn(1000)"
      ],
      "execution_count": null,
      "outputs": []
    },
    {
      "cell_type": "markdown",
      "metadata": {
        "id": "ez_xh5NvNS91"
      },
      "source": [
        "### Gráficos com o Matplotlib\n",
        "\n",
        "O Matplotlib é uma biblioteca para a visualização de dados em Python. \n",
        "\n",
        "Veremos a Matplotlib com mais detalhes em outra aula.\n",
        "\n",
        "Aqui vamos apenas usá-lo para plotar histogramas (`plt.hist()`) das distribuições estudadas.\n",
        "\n",
        "A documentação do Matplolib pode ser acessada [aqui](https://matplotlib.org/)."
      ]
    },
    {
      "cell_type": "code",
      "metadata": {
        "id": "1pw0Mhn6NI9v"
      },
      "source": [
        "# Importar o Matplotlib\n",
        "import matplotlib.pyplot as plt\n",
        "%matplotlib inline\n",
        "# esta função é importante no uso do IPython, permitindo a visualização e o armazenamento dos gráficos."
      ],
      "execution_count": null,
      "outputs": []
    },
    {
      "cell_type": "code",
      "metadata": {
        "id": "GF1uOIozLsmk"
      },
      "source": [
        "# Plotar um histograma dos dados acima\n",
        "plt.hist(X)\n",
        "# Mostrar o gráfico gerado\n",
        "plt.show()"
      ],
      "execution_count": null,
      "outputs": []
    },
    {
      "cell_type": "code",
      "metadata": {
        "id": "GvpCr2Z1NN3i"
      },
      "source": [
        "# média\n",
        "np.mean(X)"
      ],
      "execution_count": null,
      "outputs": []
    },
    {
      "cell_type": "code",
      "metadata": {
        "id": "_4OznlpdN_Cr"
      },
      "source": [
        "# variância\n",
        "np.var(X)"
      ],
      "execution_count": null,
      "outputs": []
    },
    {
      "cell_type": "code",
      "metadata": {
        "id": "57ugrHQsPc_C"
      },
      "source": [
        "# desvio-padrão\n",
        "np.std(X)"
      ],
      "execution_count": null,
      "outputs": []
    },
    {
      "cell_type": "markdown",
      "metadata": {
        "id": "Pr6RAHykO_uo"
      },
      "source": [
        "### Experimento de Bernoulli e distribuição Binomial\n",
        "\n",
        "O método `random.binomial()` retorna amostras de uma distribuição binomial com parâmetros, `n` (número de tentativas, $n \\geq 0$) e `p` (probabilidade de sucesso, $p \\in [0,1]$ ).\n",
        "\n",
        "O valor retornado é o número de sucessos nas `n` tentativas.\n",
        "\n",
        "```\n",
        "random.binomial(n = n, p = p, size= N)\n",
        "```\n"
      ]
    },
    {
      "cell_type": "code",
      "metadata": {
        "id": "Qel4dcLvPCZY"
      },
      "source": [
        "# Número de sucessos em 5 tentativas com p=0.5\n",
        "b = random.binomial(n=5, p=0.5)  \n",
        "print(b)"
      ],
      "execution_count": null,
      "outputs": []
    },
    {
      "cell_type": "code",
      "metadata": {
        "id": "Sog9ZORqPa7S"
      },
      "source": [
        "# Número de sucessos em 5 tentativas com p=0.5. Experimento realizado 2 vezes.\n",
        "b2 = random.binomial(n=5, p=0.5, size=2)  \n",
        "print(b2)"
      ],
      "execution_count": null,
      "outputs": []
    },
    {
      "cell_type": "code",
      "metadata": {
        "id": "dy5PvIr4NI6d"
      },
      "source": [
        "# Criar um array com amostras de uma v.a. binomial\n",
        "xbin = random.binomial(10, 0.5, 1000)"
      ],
      "execution_count": null,
      "outputs": []
    },
    {
      "cell_type": "code",
      "metadata": {
        "id": "htOwRcNaNRaW"
      },
      "source": [
        "plt.hist(xbin, bins=10);"
      ],
      "execution_count": null,
      "outputs": []
    },
    {
      "cell_type": "code",
      "metadata": {
        "id": "Map-YCKAN_EX"
      },
      "source": [
        "# média de 'xbin' (obs: p=0.5)\n",
        "xbin.mean()"
      ],
      "execution_count": null,
      "outputs": []
    },
    {
      "cell_type": "markdown",
      "metadata": {
        "id": "jtNHPcrCQO82"
      },
      "source": [
        "Como estudamos no nosso curso, o processo de Bernoulli pode ser simulado como um processo gerador de dados de um binomial com `n=1`."
      ]
    },
    {
      "cell_type": "code",
      "metadata": {
        "id": "epwQDwX4QgNX"
      },
      "source": [
        "# Um processo de Bernoulli com p=0.5 (perceba que serão gerados valores 0 ou 1)\n",
        "ber = random.binomial(n=1, p=0.5)  \n",
        "print(ber)"
      ],
      "execution_count": null,
      "outputs": []
    },
    {
      "cell_type": "code",
      "metadata": {
        "id": "DBOiLtD4QwJz"
      },
      "source": [
        "# Um processo de Bernoulli com p=0.5 repetido 5 vezes\n",
        "ber5 = random.binomial(n=1, p=0.5, size=5)  \n",
        "print(ber5)"
      ],
      "execution_count": null,
      "outputs": []
    },
    {
      "cell_type": "markdown",
      "metadata": {
        "id": "3roLEQzzLqBX"
      },
      "source": [
        "#### O método `choice()`\n",
        "\n",
        "O método `choice()` permite gerar um valor aleatório com base em um array de valores. O método usa um array como parâmetro e retorna aleatoriamente um dos valores.\n",
        "\n",
        "Em um primeiro exemplo, vamos simular o lançamento de uma moeda."
      ]
    },
    {
      "cell_type": "code",
      "metadata": {
        "id": "HcgRLSXFL1U_"
      },
      "source": [
        "# lançamento de uma moeda\n",
        "moeda = [\"cara\", \"coroa\"]\n",
        "random.choice(moeda)"
      ],
      "execution_count": null,
      "outputs": []
    },
    {
      "cell_type": "code",
      "metadata": {
        "id": "STG6jzF-MeZd"
      },
      "source": [
        "# 10 lançamentos de moeda\n",
        "random.choice(moeda, size=10)"
      ],
      "execution_count": null,
      "outputs": []
    },
    {
      "cell_type": "code",
      "metadata": {
        "id": "Er8EM-50MtNr"
      },
      "source": [
        "# Um array aleatório de zeros e uns\n",
        "random.choice([0, 1], size=(3, 5))"
      ],
      "execution_count": null,
      "outputs": []
    },
    {
      "cell_type": "markdown",
      "metadata": {
        "id": "JM3Dw34vPbNT"
      },
      "source": [
        "### Distribuição de Poisson\n",
        "Vimos que a distribuição de Poisson representa a contagem de ocorrências de um evento aleatório discreto em um intervalo contínuo (tempo, área ou volume).\n",
        "Sabemos também que essa distribuição depende de um único paramêtro: $\\lambda$.\n",
        "\n",
        "Usando o método `random.poisson()` podemos simular eventos de uma distribuição de Poisson especificando o $\\lambda$ por meio do parâmetro `lam`.\n",
        "\n",
        "```\n",
        "random.poisson(lam, size)\n",
        "```\n"
      ]
    },
    {
      "cell_type": "code",
      "metadata": {
        "id": "RWRVO5WLPfAc"
      },
      "source": [
        "# Poisson com lambda=3 e size=10\n",
        "random.poisson(lam=3, size=10)"
      ],
      "execution_count": null,
      "outputs": []
    },
    {
      "cell_type": "code",
      "metadata": {
        "id": "32XSJdr6UvIg"
      },
      "source": [
        "# Poisson com lambda=5 e size=1000\n",
        "y = random.poisson(5, 1000)"
      ],
      "execution_count": null,
      "outputs": []
    },
    {
      "cell_type": "code",
      "metadata": {
        "id": "dO4gYTfAU5xr"
      },
      "source": [
        "plt.hist(y);"
      ],
      "execution_count": null,
      "outputs": []
    },
    {
      "cell_type": "markdown",
      "metadata": {
        "id": "hXP9gA-0PfvZ"
      },
      "source": [
        "### Distribuição Normal\n",
        "\n",
        "Com o Numpy podemos simular uma amostra proveniente de uma distirbuição normal com o método `random.normal()`."
      ]
    },
    {
      "cell_type": "markdown",
      "metadata": {
        "id": "jAmapY8jVWr7"
      },
      "source": [
        "\n",
        "```\n",
        "random.normal(loc=mean, scale=standard deviation, size=N)\n",
        "```\n"
      ]
    },
    {
      "cell_type": "code",
      "metadata": {
        "id": "bMtZhBwA0KP6"
      },
      "source": [
        "# Simular uma amostra de uma distribuição normal com média m=10 e desvio-padrão std=3\n",
        "m = 10\n",
        "std = 3"
      ],
      "execution_count": null,
      "outputs": []
    },
    {
      "cell_type": "code",
      "metadata": {
        "id": "GnBKkjGHPidI"
      },
      "source": [
        "# x é uma amostra de 1000 valores da Normal com média m=10 e desvio-padrão std=3\n",
        "# semente aleatória \"123\"\n",
        "random.seed(123)\n",
        "x = random.normal(m, std, size=1000)"
      ],
      "execution_count": null,
      "outputs": []
    },
    {
      "cell_type": "code",
      "metadata": {
        "id": "wE1W7-U4Va9S"
      },
      "source": [
        "plt.hist(x, bins=20);"
      ],
      "execution_count": null,
      "outputs": []
    },
    {
      "cell_type": "code",
      "metadata": {
        "id": "kwogzhXWfr9_"
      },
      "source": [
        "# calcular a média de x\n",
        "x.mean()"
      ],
      "execution_count": null,
      "outputs": []
    },
    {
      "cell_type": "code",
      "metadata": {
        "id": "SPSvoSJ3fwnJ"
      },
      "source": [
        "# calcular o desvio-padrão de x\n",
        "x.std()"
      ],
      "execution_count": null,
      "outputs": []
    },
    {
      "cell_type": "markdown",
      "metadata": {
        "id": "Oy1qFSaG1vnh"
      },
      "source": [
        "## O módulo `scipy.stats`\n",
        "\n",
        "O módulo [`scipy.stats`](https://docs.scipy.org/doc/scipy/tutorial/stats.html) contem uma ampla gama de funções estatísticas que envolvem distribuições de probabilidade, sumários estatísticos, testes, entre outras."
      ]
    },
    {
      "cell_type": "markdown",
      "metadata": {
        "id": "0GrttvGf3Dia"
      },
      "source": [
        "### Processo de Bernoulli\n",
        "\n",
        "Devemos importar o método `bernoulli`."
      ]
    },
    {
      "cell_type": "code",
      "metadata": {
        "id": "rxIl3Ui_15Pd"
      },
      "source": [
        "from scipy.stats import bernoulli"
      ],
      "execution_count": null,
      "outputs": []
    },
    {
      "cell_type": "markdown",
      "metadata": {
        "id": "wVYrXXYl3y9O"
      },
      "source": [
        "Podemos simular uma variável aleatória com Distribuição de Bernoulli usando o método `bernoulli.rvs()` que tem como parametro o valor de `p`(probabilidade de sucesso). O parâmetro `size` recebe a informação a respeito do número de realizações do processo de Bernoulli."
      ]
    },
    {
      "cell_type": "code",
      "metadata": {
        "id": "Ls6EzuQW3TWm"
      },
      "source": [
        "x_bern = bernoulli.rvs(size=100, p=0.4)\n",
        "print(x_bern)"
      ],
      "execution_count": null,
      "outputs": []
    },
    {
      "cell_type": "markdown",
      "metadata": {
        "id": "2yDHzzzK4w2g"
      },
      "source": [
        "Para os gráficos usaremos a biblioteca [seaborn](https://seaborn.pydata.org/), que é baseada em matplotlib."
      ]
    },
    {
      "cell_type": "code",
      "metadata": {
        "id": "SBKRATba4pig"
      },
      "source": [
        "# importar a biblioteca seaborn com alias sns\n",
        "import seaborn as sns"
      ],
      "execution_count": null,
      "outputs": []
    },
    {
      "cell_type": "code",
      "metadata": {
        "id": "SfKDP2_q-04I"
      },
      "source": [
        "ax = sns.displot(x_bern)\n",
        "ax.set(xlabel='Distribuição de Bernoulli', ylabel='Frequência');"
      ],
      "execution_count": null,
      "outputs": []
    },
    {
      "cell_type": "markdown",
      "metadata": {
        "id": "mIaKd4lF5mkK"
      },
      "source": [
        "### Distribuição Binomial\n",
        "\n",
        "Devemos importar o método `binom`."
      ]
    },
    {
      "cell_type": "code",
      "metadata": {
        "id": "jQN84PXb6Jyw"
      },
      "source": [
        "from scipy.stats import binom"
      ],
      "execution_count": null,
      "outputs": []
    },
    {
      "cell_type": "markdown",
      "metadata": {
        "id": "Ig-SaiWq6OgU"
      },
      "source": [
        "A simulação de uma variável aleatória com Distribuição Binomial é realizada com o método `binom.rvs()` que tem como parâmetro o valor de `p`(probabilidade de sucesso) e o número de realizações do processo (de Bernoulli) `n`. O parâmetro `size` recebe a informação a respeito do número de realizações do processo gerador de dados."
      ]
    },
    {
      "cell_type": "code",
      "metadata": {
        "id": "MFk55NBk6N4F"
      },
      "source": [
        "x_binom = binom.rvs(n=10,p=0.6,size=500)\n",
        "print(x_binom)"
      ],
      "execution_count": null,
      "outputs": []
    },
    {
      "cell_type": "code",
      "metadata": {
        "id": "2k9fqmds-YlM"
      },
      "source": [
        "ax = sns.displot(x_binom)\n",
        "ax.set(xlabel='Distribuição Binomial', ylabel='Frequência');"
      ],
      "execution_count": null,
      "outputs": []
    },
    {
      "cell_type": "markdown",
      "metadata": {
        "id": "AnXSKk1W8aeJ"
      },
      "source": [
        "### Distribuição de Poisson\n",
        "\n",
        "Devemos importar o método `poisson`."
      ]
    },
    {
      "cell_type": "code",
      "metadata": {
        "id": "WPeuX_tC79iW"
      },
      "source": [
        "from scipy.stats import poisson"
      ],
      "execution_count": null,
      "outputs": []
    },
    {
      "cell_type": "markdown",
      "metadata": {
        "id": "8sz0tLs78jUS"
      },
      "source": [
        "Uma variável aleatória com Distribuição de Poisson pode ser simulada com o método `poisson.rvs()` que tem como parâmetro o valor de `mu`(que representa o $\\lambda$). O parâmetro `size` recebe a informação a respeito do número de realizações do processo gerador de dados."
      ]
    },
    {
      "cell_type": "code",
      "metadata": {
        "id": "fJAVlf4P9YS4"
      },
      "source": [
        "x_poisson = poisson.rvs(mu=3, size=500)"
      ],
      "execution_count": null,
      "outputs": []
    },
    {
      "cell_type": "code",
      "metadata": {
        "id": "tBPserB19gxL"
      },
      "source": [
        "ax = sns.displot(x_poisson)\n",
        "ax.set(xlabel='Distribuição de Poisson', ylabel='Frequência');"
      ],
      "execution_count": null,
      "outputs": []
    },
    {
      "cell_type": "markdown",
      "metadata": {
        "id": "qCRBA8k5_M1P"
      },
      "source": [
        "### Distribuição Exponencial"
      ]
    },
    {
      "cell_type": "markdown",
      "metadata": {
        "id": "eCjHIlUoAv6K"
      },
      "source": [
        "Devemos importar o método `expon`."
      ]
    },
    {
      "cell_type": "code",
      "metadata": {
        "id": "RrcV8Oba_Zkd"
      },
      "source": [
        "from scipy.stats import expon"
      ],
      "execution_count": null,
      "outputs": []
    },
    {
      "cell_type": "markdown",
      "metadata": {
        "id": "lHIRUVdp_Yso"
      },
      "source": [
        "A simulação de uma variável aleatória com Distribuição Exponencial é realizada com o método `expon.rvs()` que tem como parâmetro `scale` que corresponde ao valor de $\\frac{1}{\\lambda}$. O parâmetro `size` recebe a informação a respeito do número de realizações do processo gerador de dados."
      ]
    },
    {
      "cell_type": "code",
      "metadata": {
        "id": "L4pFZRMr_bRI"
      },
      "source": [
        "x_expon = expon.rvs(scale=1,size=100)"
      ],
      "execution_count": null,
      "outputs": []
    },
    {
      "cell_type": "code",
      "metadata": {
        "id": "-ZAp4853_eTL"
      },
      "source": [
        "ax = sns.displot(x_expon, kde=True)\n",
        "ax.set(xlabel='Distribuição Exponencial', ylabel='Frequência');"
      ],
      "execution_count": null,
      "outputs": []
    },
    {
      "cell_type": "markdown",
      "metadata": {
        "id": "AuGkjdVe_PPL"
      },
      "source": [
        "### Distribuição Normal"
      ]
    },
    {
      "cell_type": "markdown",
      "metadata": {
        "id": "YYv6gHebAyuN"
      },
      "source": [
        "Devemos importar o método `norm`."
      ]
    },
    {
      "cell_type": "code",
      "metadata": {
        "id": "x9JKsvj79nyZ"
      },
      "source": [
        "from scipy.stats import norm"
      ],
      "execution_count": null,
      "outputs": []
    },
    {
      "cell_type": "markdown",
      "metadata": {
        "id": "GnyeB-WiDgfH"
      },
      "source": [
        "A simulação de uma variável aleatória normalmente distribuída é realizada com o método `norm.rvs()` que tem como parâmetro `scale` que corresponde a média da distribuição e o parâmetro `scale` que representa o valor do desvio-padrão. O parâmetro `size` recebe a informação a respeito do número de realizações do processo gerador de dados."
      ]
    },
    {
      "cell_type": "code",
      "metadata": {
        "id": "aCRb92ZPALvp"
      },
      "source": [
        "x_normal = norm.rvs(size=1000, loc=0, scale=1)"
      ],
      "execution_count": null,
      "outputs": []
    },
    {
      "cell_type": "code",
      "metadata": {
        "id": "J-Y2c8TRAOlQ"
      },
      "source": [
        "ax = sns.displot(x_normal, kde=True)\n",
        "ax.set(xlabel='Distribuição Normal', ylabel='Frequência');"
      ],
      "execution_count": null,
      "outputs": []
    },
    {
      "cell_type": "code",
      "metadata": {
        "id": "b8Of0kPXAXWK"
      },
      "source": [
        ""
      ],
      "execution_count": null,
      "outputs": []
    }
  ]
}