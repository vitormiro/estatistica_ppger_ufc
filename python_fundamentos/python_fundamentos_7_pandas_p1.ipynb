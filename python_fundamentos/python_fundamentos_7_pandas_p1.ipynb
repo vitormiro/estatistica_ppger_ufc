{
  "nbformat": 4,
  "nbformat_minor": 0,
  "metadata": {
    "colab": {
      "name": "python_fundamentos_7_pandas_p1.ipynb",
      "provenance": [],
      "collapsed_sections": [],
      "authorship_tag": "ABX9TyPS3V0Jpv4Z4KL0nRPaNPjW",
      "include_colab_link": true
    },
    "kernelspec": {
      "name": "python3",
      "display_name": "Python 3"
    }
  },
  "cells": [
    {
      "cell_type": "markdown",
      "metadata": {
        "id": "view-in-github",
        "colab_type": "text"
      },
      "source": [
        "<a href=\"https://colab.research.google.com/github/vitormiro/estatistica_ppger_ufc/blob/main/python_fundamentos_7_pandas_p1.ipynb\" target=\"_parent\"><img src=\"https://colab.research.google.com/assets/colab-badge.svg\" alt=\"Open In Colab\"/></a>"
      ]
    },
    {
      "cell_type": "markdown",
      "metadata": {
        "id": "erAyQaah9ThT"
      },
      "source": [
        "# Análise de dados com o Pandas\n",
        "\n",
        "\n",
        "O **Pandas** é uma biblioteca Python que fornece estruturas e ferramentas de análise de dados.\n",
        "A biblioteca Pandas é construída em cima da biblioteca **NumPy** e permite:\n",
        "- Importar e/ou acessar dados.\n",
        "\n",
        "\n",
        "para saber mais sobre o Pandas, acesse o [guia de usuário do Pandas](https://pandas.pydata.org/docs/user_guide/index.html) (em inglês)."
      ]
    },
    {
      "cell_type": "markdown",
      "metadata": {
        "id": "NtGy-OuUS6ba"
      },
      "source": [
        "Como estamos usando o Colab, o Pandas vem instalado por padrão. Ou seja, a única coisa que você precisa é importar o pacote. \n",
        "\n",
        "Vamos importar a biblioteca **pandas** usando o aliás `pd`.\n"
      ]
    },
    {
      "cell_type": "code",
      "metadata": {
        "id": "BxORglYdiFjv"
      },
      "source": [
        "import pandas as pd"
      ],
      "execution_count": null,
      "outputs": []
    },
    {
      "cell_type": "markdown",
      "metadata": {
        "id": "N2rsSV9qLU_J"
      },
      "source": [
        "No Pandas temos duas estruturas de dados:\n",
        "- Series\n",
        "- Data Frames\n",
        "\n",
        "#### Series\n",
        "Uma *Series* é um objeto do tipo array unidimensional, contendo uma sequência de valores e um array associado de rótulos/indice.\n",
        "\n",
        "#### Dataframes\n",
        "Um *DataFrame* é uma estrutura de dados semelhante a planilha do Microsoft Excel, composto por linhas e colunas. As linhas e colunas são indexadas. Uma vantagem da estrutura da DataFrame é que ela permite dados de tipos diferentes (numéricos, textos, booleanos, etc).\n"
      ]
    },
    {
      "cell_type": "markdown",
      "metadata": {
        "id": "4j1rxP4x9rBN"
      },
      "source": [
        "## Carregando dados\n",
        "\n",
        "O Pandas posusi uma série de funções para ler dados tabulares.\n",
        "\n",
        "No Pandas temos funções para ler dados em diferentes formatos (arquivos `csv`, `xls` e `xlsx`, entre outros), tratar esses dados, transformá-los e realizar análises estatísticas.\n",
        "\n",
        "Para carregar os dados em um arquivo do tipo `.csv` podemos utilizar o método `pd.read_csv`.\n",
        "\n",
        "Para carregar os dados em um arquivo do tipo `.xls` ou `.xlsx` podemos utilizar o método `pd.read_excel`.\n"
      ]
    },
    {
      "cell_type": "markdown",
      "metadata": {
        "id": "FphFTg6-O5Xr"
      },
      "source": [
        "No Colab vamos precisar carregar o arquivo no notebook primeiro.\n",
        "O Colab possibilita que você insira arquivos do seu computador no notebook através do método `files` do módulo `google.colab`. \n",
        "\n",
        "Ao chamar `files.upload()`, uma caixa de seleção vai aparecer e você pode procurar e carregar o arquivo desejado."
      ]
    },
    {
      "cell_type": "code",
      "metadata": {
        "id": "iYAXx-Qxraeu"
      },
      "source": [
        "from google.colab import files\n",
        "uploaded = files.upload()"
      ],
      "execution_count": null,
      "outputs": []
    },
    {
      "cell_type": "markdown",
      "metadata": {
        "id": "CyOI5l7D-Hdb"
      },
      "source": [
        "Depois de escolher o arquivo, o objeto `uploaded` acima, que é um arquivo de excel, devemos carregar os dados para obter um objeto a ser tratado pelo pandas.\n",
        "\n",
        "Podemos carregar os dados com o `pd.read_excel`."
      ]
    },
    {
      "cell_type": "code",
      "metadata": {
        "id": "zDcTusxNiNvU"
      },
      "source": [
        "# Carregar dados no Notebook atribuindo o nome df\n",
        "df = pd.read_excel('AtlasBrasil_ce2010.xlsx')\n",
        "# imprimir df\n",
        "print(df)"
      ],
      "execution_count": null,
      "outputs": []
    },
    {
      "cell_type": "markdown",
      "metadata": {
        "id": "HOXnBuT9PJt1"
      },
      "source": [
        "O atributo `shape` resulta em um tupla na qual o primeiro argumento é o número de linhas e o segundo é o número de colunas."
      ]
    },
    {
      "cell_type": "code",
      "metadata": {
        "id": "Ybax_pfwWyuR"
      },
      "source": [
        "# Dimensão do DataFrame\n",
        "df.shape"
      ],
      "execution_count": null,
      "outputs": []
    },
    {
      "cell_type": "code",
      "metadata": {
        "id": "TNXqxjunWm8g"
      },
      "source": [
        "df.shape[0]"
      ],
      "execution_count": null,
      "outputs": []
    },
    {
      "cell_type": "code",
      "metadata": {
        "id": "vPeATsMSWpx9"
      },
      "source": [
        "df.shape[1]"
      ],
      "execution_count": null,
      "outputs": []
    },
    {
      "cell_type": "markdown",
      "metadata": {
        "id": "GLuYhDec-Dfs"
      },
      "source": [
        "Para simplesmente listar os nomes das colunas do nosso *DataFrame* - basta executar o atributo `columns`."
      ]
    },
    {
      "cell_type": "code",
      "metadata": {
        "id": "LO0ooE4c8d4K"
      },
      "source": [
        "df.columns"
      ],
      "execution_count": null,
      "outputs": []
    },
    {
      "cell_type": "markdown",
      "metadata": {
        "id": "-7BgPrTIaQAC"
      },
      "source": [
        "\n",
        "Para conhecer os tipos de variáveis de cada coluna, usamos o atributo `dtypes`."
      ]
    },
    {
      "cell_type": "code",
      "metadata": {
        "id": "WV6-Yy9p8jL6"
      },
      "source": [
        "df.dtypes"
      ],
      "execution_count": null,
      "outputs": []
    },
    {
      "cell_type": "markdown",
      "metadata": {
        "id": "Yxp5r_W1aQ2B"
      },
      "source": [
        "Uma outra maneira de descobrir o tipo das variáveis e ainda ver os valores ausentes nas células, é por meio do método `info()`.\n",
        "\n",
        "Veja como ele consegue retornar essas informações de maneira tabular."
      ]
    },
    {
      "cell_type": "code",
      "metadata": {
        "id": "6pA-WXZtaRrE"
      },
      "source": [
        "# Sumarizando informações do DataFrame\n",
        "df.info()"
      ],
      "execution_count": null,
      "outputs": []
    },
    {
      "cell_type": "markdown",
      "metadata": {
        "id": "3znhRm_n52Dg"
      },
      "source": [
        "Um dos motivos da popularidade do Pandas é por causa dessa capacidade de conseguir mostrar os dados como se estivessem em uma tabela, um formato bem amigável.\n",
        "\n",
        "O método `head()` irá mostrar, por padrão, as 5 primeiras linhas do conjunto de dados dentro de um objeto do pandas.\n"
      ]
    },
    {
      "cell_type": "code",
      "metadata": {
        "id": "2enTE3Z350un"
      },
      "source": [
        "df.head()"
      ],
      "execution_count": null,
      "outputs": []
    },
    {
      "cell_type": "markdown",
      "metadata": {
        "id": "mRql893JDKdO"
      },
      "source": [
        "Podemos definir quantas linhas o `head()` vai mostrar:"
      ]
    },
    {
      "cell_type": "code",
      "metadata": {
        "id": "2IQiitXK6YGp"
      },
      "source": [
        "df.head(10)"
      ],
      "execution_count": null,
      "outputs": []
    },
    {
      "cell_type": "markdown",
      "metadata": {
        "id": "IFYCwvHQ6gW8"
      },
      "source": [
        "Para ver as últimas linhas do *DataFrame*, usamos o método `tail()`"
      ]
    },
    {
      "cell_type": "code",
      "metadata": {
        "id": "Ht6BeBBF6i9z"
      },
      "source": [
        "df.tail()"
      ],
      "execution_count": null,
      "outputs": []
    },
    {
      "cell_type": "markdown",
      "metadata": {
        "id": "FzYvNJ_D7Cib"
      },
      "source": [
        "### Selecionar colunas\n",
        "\n"
      ]
    },
    {
      "cell_type": "markdown",
      "metadata": {
        "id": "QBy8ulWUbGvs"
      },
      "source": [
        "Há diversas maneiras de selecionar um sub-conjunto de dados em uma estrutura *DataFrame*.\n",
        "\n",
        "Na maioria dos casos, o que queremos fazer é selecionar apenas uma coluna de todo o *DataFrame*.\n",
        "\n",
        "Para selecionar uma variável, você deve colocar o nome da coluna entre colchetes, referenciando a variável onde os seus dados foram importados."
      ]
    },
    {
      "cell_type": "code",
      "metadata": {
        "id": "odokISUB7Bkl"
      },
      "source": [
        "df['pobres']"
      ],
      "execution_count": null,
      "outputs": []
    },
    {
      "cell_type": "markdown",
      "metadata": {
        "id": "lkvRKfRud35G"
      },
      "source": [
        "Caso o nome das coluna não contenha espaços em branco e caracteres especiais, você pode selecioná-la de outra maneira.\n",
        "\n",
        "No lugar de `df['pobres']` você pode usar `df.pobres`, obtendo o mesmo resultado."
      ]
    },
    {
      "cell_type": "code",
      "metadata": {
        "id": "d-BRMQPbeJnv"
      },
      "source": [
        "df.pobres"
      ],
      "execution_count": null,
      "outputs": []
    },
    {
      "cell_type": "markdown",
      "metadata": {
        "id": "FMvBVWD_bYnv"
      },
      "source": [
        "Podemos calcular uma média com o método `mean()`. E medidas de variância e desvio-padrão com os métodos `var()` e `std()`, respectivamente."
      ]
    },
    {
      "cell_type": "code",
      "metadata": {
        "id": "QNV0WCdObd1n"
      },
      "source": [
        "# Média\n",
        "df.pobres.mean()"
      ],
      "execution_count": null,
      "outputs": []
    },
    {
      "cell_type": "code",
      "metadata": {
        "id": "FDJrOd__T3jo"
      },
      "source": [
        "# Variância\n",
        "df.pobres.var()"
      ],
      "execution_count": null,
      "outputs": []
    },
    {
      "cell_type": "code",
      "metadata": {
        "id": "YfPexdGFUOBB"
      },
      "source": [
        "# Desvio-padrão\n",
        "df.pobres.std()"
      ],
      "execution_count": null,
      "outputs": []
    },
    {
      "cell_type": "markdown",
      "metadata": {
        "id": "2KK3ewqNfS0_"
      },
      "source": [
        "Também podemos obter um resumo estatístico com o médodo `describe()`."
      ]
    },
    {
      "cell_type": "code",
      "metadata": {
        "id": "lLeDlOZn74Di"
      },
      "source": [
        "# ver o resumo estatístico das variáveis numéricas\n",
        "df.pobres.describe()"
      ],
      "execution_count": null,
      "outputs": []
    },
    {
      "cell_type": "markdown",
      "metadata": {
        "id": "6jSopOUfgaiO"
      },
      "source": [
        "Veja que aplicando o método `describe()` temos um resumo contendo algumas das principais informações estatísticas relevantes da variável:\n",
        "\n",
        "* **count** - quantidade de entradas válidas\n",
        "* **mean** - média dos valores\n",
        "* **std** - desvio padrão\n",
        "* **min** - menor valor da coluna\n",
        "* **25%** - percentil 25\n",
        "* **50%** - percentil 50 (e mediana)\n",
        "* **75%** - percentil 75\n",
        "* **max** - maior valor da coluna"
      ]
    },
    {
      "cell_type": "markdown",
      "metadata": {
        "id": "G1aKEYznfbPx"
      },
      "source": [
        "Vamos usar o método `describe()` em todo o *DataFrame*."
      ]
    },
    {
      "cell_type": "code",
      "metadata": {
        "id": "LnVgmFmjfmDE"
      },
      "source": [
        "df.describe()"
      ],
      "execution_count": null,
      "outputs": []
    },
    {
      "cell_type": "markdown",
      "metadata": {
        "id": "DaoOuWnGR9U7"
      },
      "source": [
        "Podemos verificar uma linha específica a partir de um valor determinado da variável."
      ]
    },
    {
      "cell_type": "code",
      "metadata": {
        "id": "-aEX6vpGeQ6V"
      },
      "source": [
        "df[df['pessoasdomagua']==13.46]"
      ],
      "execution_count": null,
      "outputs": []
    },
    {
      "cell_type": "code",
      "metadata": {
        "id": "xZMHaQ5sfIa-"
      },
      "source": [
        "df[df['municipio']=='Fortaleza']"
      ],
      "execution_count": null,
      "outputs": []
    },
    {
      "cell_type": "markdown",
      "metadata": {
        "id": "2riDu4C_g6mq"
      },
      "source": [
        "# Vizualizando os dados\n",
        "\n",
        "Para visualizar dados, vamos utilizar as bibliotecas [Matplotlib](https://matplotlib.org/) e [Seaborn](https://seaborn.pydata.org/).\n"
      ]
    },
    {
      "cell_type": "code",
      "metadata": {
        "id": "yJOjl_vrikGj"
      },
      "source": [
        "# importar o Matplotlib \n",
        "import matplotlib.pyplot as plt\n",
        "# Importat o Seaborn\n",
        "import seaborn as sns"
      ],
      "execution_count": null,
      "outputs": []
    },
    {
      "cell_type": "markdown",
      "metadata": {
        "id": "BLtJNHSAiid5"
      },
      "source": [
        "#### Histogramas\n",
        "\n",
        "Histogramas são uma das principais ferramentas da estatística para extrair informações sobre frequencia e distribuição dos nossos dados."
      ]
    },
    {
      "cell_type": "code",
      "metadata": {
        "id": "q3K4Ro6ng8Uo"
      },
      "source": [
        "# plotar histograma do volume\n",
        "df['pobres'].hist();"
      ],
      "execution_count": null,
      "outputs": []
    },
    {
      "cell_type": "code",
      "metadata": {
        "id": "TaCcul0EgNRA"
      },
      "source": [
        "df['rendimentomedioocupados18'].hist(bins=30);"
      ],
      "execution_count": null,
      "outputs": []
    },
    {
      "cell_type": "code",
      "metadata": {
        "id": "S6kKzzyrgzhb"
      },
      "source": [
        "df['indicegini'].hist(bins=10, figsize=(5,5));"
      ],
      "execution_count": null,
      "outputs": []
    },
    {
      "cell_type": "markdown",
      "metadata": {
        "id": "8czVh09XpUUo"
      },
      "source": [
        "Podemos criar histogramas de várias variáveis:"
      ]
    },
    {
      "cell_type": "code",
      "metadata": {
        "id": "DA_3Un5upY4z"
      },
      "source": [
        "# plotar o histograma para várias variáveis numéricas\n",
        "df[['indicegini', 'rendapercapita', 'pobres', 'pessoasdombanheiroagua', 'mortalidade5anos']].hist(bins=15, figsize=(15,10));"
      ],
      "execution_count": null,
      "outputs": []
    },
    {
      "cell_type": "markdown",
      "metadata": {
        "id": "nztdI-x5iy1x"
      },
      "source": [
        "#### Gráfico de Dispersão (*Scatter Plot*)\n",
        "O gráfico de dispersão é um gráfico ideal para ver a correlação entre duas variáveis quaisquer."
      ]
    },
    {
      "cell_type": "code",
      "metadata": {
        "id": "YOzJjqd1io_x"
      },
      "source": [
        "# plotar um gráfico de dispersão\n",
        "df.plot.scatter('rendapercapita', 'mortalidade5anos');"
      ],
      "execution_count": null,
      "outputs": []
    },
    {
      "cell_type": "code",
      "metadata": {
        "id": "4EX1q53WqFRu"
      },
      "source": [
        "# plotar um gráfico de dispersão\n",
        "df.plot.scatter('pessoasdombanheiroagua', 'mortalidade5anos');"
      ],
      "execution_count": null,
      "outputs": []
    },
    {
      "cell_type": "markdown",
      "metadata": {
        "id": "ao5fhA-GoHTU"
      },
      "source": [
        "#### *Boxplot*\n",
        "\n",
        "O Boxplot é um tipo de gráfico que conseguem fornecer um maior número de informações estatísticas.\n",
        "\n",
        "Com ele é possível ter em uma imagem os valores máximos, mínimos, quartis e mediana. *Outliers* também são representados como pontos acima do valor máximo ou abaixo do valor mínimo."
      ]
    },
    {
      "cell_type": "code",
      "metadata": {
        "id": "LG5_p4S-oICb"
      },
      "source": [
        "df.rendapercapita.plot(kind=\"box\");"
      ],
      "execution_count": null,
      "outputs": []
    },
    {
      "cell_type": "code",
      "metadata": {
        "id": "txw0i_lvpDME"
      },
      "source": [
        "df.rendapercapita.plot(kind='box', vert=False, figsize=(10, 3))"
      ],
      "execution_count": null,
      "outputs": []
    },
    {
      "cell_type": "markdown",
      "metadata": {
        "id": "BVE_MN7XjTf9"
      },
      "source": [
        "## Selecionando conjuntos de variáveis\n",
        "\n",
        "Podemos construir outro *Dataframe* selecionando apenas algumas variáveis."
      ]
    },
    {
      "cell_type": "code",
      "metadata": {
        "id": "0Viphg95mxDv"
      },
      "source": [
        "df2 = df[['municipio', 'indicegini', 'rendapercapita', 'pobres']]\n",
        "\n",
        "df2.head(10)"
      ],
      "execution_count": null,
      "outputs": []
    },
    {
      "cell_type": "markdown",
      "metadata": {
        "id": "2J_21VtbqQNy"
      },
      "source": [
        "### Correlação\n",
        "\n",
        "Podemos construir uma matriz com os coeficiente de correlação entre as variáveis selecionadas.\n"
      ]
    },
    {
      "cell_type": "code",
      "metadata": {
        "id": "NoaaW3PbqVot"
      },
      "source": [
        "corr = df2.corr()\n",
        "display(corr)"
      ],
      "execution_count": null,
      "outputs": []
    },
    {
      "cell_type": "markdown",
      "metadata": {
        "id": "b0eY-lJHq9cn"
      },
      "source": [
        "Podemos vizualizar esta matriz de correlação por meio de um **heatmap**.\n",
        "\n",
        "Um *heatmap* é um gráfico para identificar padrões, principalmente quando relacionameos muitas variáveis. Essencialmente o *heatmap* necessita de 3 variáveis: uma variável resposta e duas outras variáveis para compor os eixos x e y. \n",
        "\n",
        "No Python, podemos gerar um *heatmap* a partir usando a biblioteca `seaborn`.\n",
        "Vamos gerar um *heatmap* para a nossa matriz de correlação.\n",
        "\n"
      ]
    },
    {
      "cell_type": "code",
      "metadata": {
        "id": "YP5fV0tIq68v"
      },
      "source": [
        "sns.heatmap(corr, cmap='RdBu', fmt='.2f', square=True, linecolor='white', annot=True);"
      ],
      "execution_count": null,
      "outputs": []
    },
    {
      "cell_type": "markdown",
      "metadata": {
        "id": "K4Q5Wb4YsPQ7"
      },
      "source": [
        "Como já conhecemos, outra forma de vizualizar a relação entre variáveis é por meio do gráfico de dispersão."
      ]
    },
    {
      "cell_type": "code",
      "metadata": {
        "id": "9isVg4p1oCga"
      },
      "source": [
        "# plotar um gráfico de dispersão\n",
        "df.plot.scatter('rendapercapita', 'pobres');"
      ],
      "execution_count": null,
      "outputs": []
    },
    {
      "cell_type": "markdown",
      "metadata": {
        "id": "VfHGmCXasdWb"
      },
      "source": [
        "## Regressão Linear Simples\n",
        "\n",
        "Uma regressão linear simples estabelece a relação entre duas variáveis por meio de uma expressão do tipo:\n",
        "\n",
        "\\begin{equation}\n",
        "  y_{i}=\\beta_{1}+\\beta_{2}x_{i}+e_{i}\n",
        "\\end{equation}\n",
        "\n",
        "onde:\n",
        "- $y_{i}$ é a variável dependente, explicada ou endógena.\n",
        "- $x_{i}$ é a variável independente, explicativa ou exógena.\n",
        "- $\\beta_{1}$ é um parâmetro que representa o intercepto;\n",
        "- $\\beta_{2}$ é um parâmetro que representa o coeficiente angular da relação linear;\n",
        "- $e_{i}$ é o termo de erro.\n",
        "\n",
        "A equação acima exprime um modelo populacional.\n",
        "Com dados amostrais podemos utilizar diferentes métodos de estimação para obter estimativas dos parâmetros $\\beta_{1}$ e $\\beta_{2}$, representadas por $\\hat{\\beta}_{1}$ e $\\hat{\\beta}_{2}$.\n",
        "\n",
        "Com estimativas dos parâmetros temos:\n",
        "\\begin{equation}\n",
        "  \\hat{y}_{i}=\\hat{\\beta}_{1}+\\hat{\\beta}_{2}x_{i}\n",
        "\\end{equation}\n",
        "\n",
        "em que $\\hat{y}_{i}$ é um valor predito para $y_{i}$ com base no modelo estimado e valores de $x_{i}$."
      ]
    },
    {
      "cell_type": "markdown",
      "metadata": {
        "id": "yVWdfwNH9fSh"
      },
      "source": [
        "### Statsmodels\n",
        "\n",
        "[Statsmodels](https://www.statsmodels.org/stable/index.html) é um módulo Python que fornece classes e funções para a estimativa de muitos modelos estatísticos diferentes, bem como para a realização de testes estatísticos e exploração de dados estatísticos."
      ]
    },
    {
      "cell_type": "code",
      "metadata": {
        "id": "u4MDJYF-sghZ"
      },
      "source": [
        "# importar o statsmodels\n",
        "import statsmodels.api as sm"
      ],
      "execution_count": null,
      "outputs": []
    },
    {
      "cell_type": "markdown",
      "metadata": {
        "id": "fP0toc7U-piY"
      },
      "source": [
        "Vamos estimar um modelo linear simples para a relação entre a proporção de pobres e a renda per capita.\n",
        "\n",
        "O primeiro passo é definir as variáveis $y$ e $X$ (que inclui uma contante)."
      ]
    },
    {
      "cell_type": "code",
      "metadata": {
        "id": "bsqTd3eLcmLv"
      },
      "source": [
        "y = df['pobres']\n",
        "X = sm.add_constant(df['rendapercapita'])"
      ],
      "execution_count": null,
      "outputs": []
    },
    {
      "cell_type": "code",
      "metadata": {
        "id": "6HNHgu5Ok3BS"
      },
      "source": [
        "# Estimando uma regressão linear simples\n",
        "reg1 = sm.OLS(y, X)\n",
        "reg1 = reg1.fit()\n",
        "print(reg1.summary())"
      ],
      "execution_count": null,
      "outputs": []
    },
    {
      "cell_type": "markdown",
      "metadata": {
        "id": "njSoPVOO--sF"
      },
      "source": [
        "Vamos estimar um modelo de regressão linear simples para a relação entre a taxa de mortalidade infantil e a renda per capita."
      ]
    },
    {
      "cell_type": "code",
      "metadata": {
        "id": "B5_o6D4u_Dqp"
      },
      "source": [
        "# Definindo as variáveis\n",
        "mortinfant = df['mortalidade5anos']\n",
        "X = sm.add_constant(df['rendapercapita'])"
      ],
      "execution_count": null,
      "outputs": []
    },
    {
      "cell_type": "code",
      "metadata": {
        "id": "5g7GRBAme52J"
      },
      "source": [
        "# Estimando uma regressão linear simples\n",
        "reg2 = sm.OLS(y, X)\n",
        "reg2 = reg2.fit()\n",
        "print(reg2.summary())"
      ],
      "execution_count": null,
      "outputs": []
    },
    {
      "cell_type": "markdown",
      "metadata": {
        "id": "Vg9VcGyA_wiM"
      },
      "source": [
        "Posteriormente no curso vamos estudar com mais detalhes a estimação de modelos de regressão linear e a avaliação destas estimativas."
      ]
    }
  ]
}