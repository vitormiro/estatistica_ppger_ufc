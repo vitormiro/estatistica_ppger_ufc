{
  "cells": [
    {
      "cell_type": "markdown",
      "metadata": {
        "id": "view-in-github",
        "colab_type": "text"
      },
      "source": [
        "<a href=\"https://colab.research.google.com/github/vitormiro/estatistica_ppger_ufc/blob/main/python_fundamentos/python_fundamentos_8_pandas_p2.ipynb\" target=\"_parent\"><img src=\"https://colab.research.google.com/assets/colab-badge.svg\" alt=\"Open In Colab\"/></a>"
      ]
    },
    {
      "cell_type": "markdown",
      "metadata": {
        "id": "-PjbMepOnngI"
      },
      "source": [
        "## Análise Exploratória de Dados\n",
        "\n",
        "Análise exploratória de dados (AED) é uma etapa muito importante para a análise de dados estatísticos.\n",
        "\n",
        "A finalidade da EAD é examinar os dados antes de qualquer tipo de modelagem em si; para que o analista ou pesquisador seja capaz de conhecer e entender ao máximo os dados em mãos.\n",
        "\n",
        "Obviamente, a primeira etapa consiste em obter os dados e disponibilizá-los em um formato adequado para análise.\n",
        "Posteriormente, inicia-se uma análise descritiva detalhada, para que o analista possa se familiarizar com os dados, organizá-los e sintetizá-los de forma a obter as informações necessárias ao estudo.\n",
        "\n",
        "Na análise exploratória podemos:\n",
        "\n",
        "- realizar um exame gráfico das variáveis individuais;\n",
        "- realizar um exame gráfico de relações entre as variáveis e uma análise descritiva sobre o grau de correlação entre elas;\n",
        "- avaliar a presença de dados ausentes (missing);\n",
        "- identificar os possíveis outliers;\n",
        "- avaliar algumas suposições básicas, como normalidade, lineariedade e homocedasticidade.\n"
      ]
    },
    {
      "cell_type": "markdown",
      "metadata": {
        "id": "criLvYc9nngM"
      },
      "source": [
        "#### A base de dados\n",
        "Neste Notebook vamos analisar dados da Pesquisa Nacional por Amostra de Domicílios Contínua (PNADC).\n",
        "A PNADC é uma pesquisa amostral levada à campo pelo Instituto Brasileiro de Geografia e Estatística, o IBGE.\n",
        "\n",
        "Aqui analisazeremos os dados para o 4º trimestre de 2019.\n",
        "Para saber mais sobre a PNADC acesse o site do IBGE: https://www.ibge.gov.br/estatisticas/sociais/populacao/9171-pesquisa-nacional-por-amostra-de-domicilios-continua-mensal.html .\n",
        "\n",
        "\n",
        "Para o exercício realizado neste Notebook empregaremos os dados da PNAD de forma bruta, sem adequar os dados ao desenho amostral da pesquisa. O objetivo é realizar um exercício sem introduzir temas relativos ao desenho amostral complexo (que exigiria a aplicação de conceitos estatísticos específicos).\n",
        "\n",
        "Caso você tenha interesse em saber mais, o plano amostral adotado na PNAD Contínua é conglomerado em dois estágios de seleção com estratificação das unidades primárias de amostragem (UPAs). Mais detalhes podem ser vistos na notas metodológicas: ftp://ftp.ibge.gov.br/Trabalho_e_Rendimento/Pesquisa_Nacional_por_Amostra_de_Domicilios_continua/Notas_metodologicas/notas_metodologicas.pdf .\n",
        "\n"
      ]
    },
    {
      "cell_type": "markdown",
      "metadata": {
        "id": "Hy2n8yl2nngN"
      },
      "source": [
        "## Análise Exploratória de dados no Python/ Pandas\n",
        "\n",
        "\n",
        "\n"
      ]
    },
    {
      "cell_type": "markdown",
      "metadata": {
        "id": "6GhONgQWnngN"
      },
      "source": [
        "Vamos começar importando as bibliotecas necessárias para a AED.\n",
        "Abaixo segue uma lista das bibliotecas utilizadas e onde você pode encontar a documentação de cada uma delas.\n",
        "\n",
        "- [NumPy](https://numpy.org/)\n",
        "\n",
        "- [Pandas](https://pandas.pydata.org)\n",
        "\n",
        "- [Matplotlib](https://matplotlib.org) para a contrução de gráficos\n",
        "\n",
        "- [Seaborn](https://seaborn.pydata.org/) para a contrução de gráficos"
      ]
    },
    {
      "cell_type": "code",
      "execution_count": 1,
      "metadata": {
        "id": "8NEItr2jnngO"
      },
      "outputs": [],
      "source": [
        "# importar bibliotecas\n",
        "import numpy as np \n",
        "import pandas as pd \n",
        "import matplotlib.pyplot as plt\n",
        "import seaborn as sns"
      ]
    },
    {
      "cell_type": "markdown",
      "metadata": {
        "id": "qDO89KXMnngP"
      },
      "source": [
        "#### Carregar os dados\n",
        "\n",
        "Aqui termo disponível os dados da PNADC (2019.4) em formato `.csv`. Originalmente, o IBGE fornece os dados no formato `.txt`.\n",
        "Para facilitar o processo de leitura neste Notebook, fiz a conversão prévia dos dados.\n",
        "\n",
        "Para carregar os dados usaremos o método `read_csv`.\n",
        "\n",
        "No código abaixo inseri 3 possibilidades a depender de onde os dados serão carregados.\n"
      ]
    },
    {
      "cell_type": "code",
      "execution_count": 2,
      "metadata": {
        "id": "d0DOOelFnngP"
      },
      "outputs": [],
      "source": [
        "# Importando diretamente de um diretório local (supondo que o notebook está no mesmo diretório)\n",
        "#dfpnadc = pd.read_csv('pnad19t4.csv')\n",
        "\n",
        "# Usando um arquivo compactado. Nesse caso, devemos usar o parâmetro 'compression'\n",
        "#dfpnadc = pd.read_csv('pnad19t4.zip', compression='zip')\n",
        "\n",
        "# Importando o arquivo de dados com uma url (aqui, de um diretório no GitHub)\n",
        "dfpnadc = pd.read_csv('https://raw.githubusercontent.com/vitormiro/python_pnadc/main/pnad19t4.csv')"
      ]
    },
    {
      "cell_type": "markdown",
      "metadata": {
        "id": "E48jthCenngQ"
      },
      "source": [
        "O Pandas carrega os dados na forma de um **DataFrame**.\n",
        "\n"
      ]
    },
    {
      "cell_type": "code",
      "source": [
        "# Ver tipo de objeto\n",
        "type(dfpnadc)"
      ],
      "metadata": {
        "colab": {
          "base_uri": "https://localhost:8080/"
        },
        "id": "bDZZCqKgthP2",
        "outputId": "c1a21fd4-4674-4279-ece6-d93e29d5cb16"
      },
      "execution_count": 3,
      "outputs": [
        {
          "output_type": "execute_result",
          "data": {
            "text/plain": [
              "pandas.core.frame.DataFrame"
            ]
          },
          "metadata": {},
          "execution_count": 3
        }
      ]
    },
    {
      "cell_type": "markdown",
      "source": [
        "Para termos uma ideia da dimensão do DataFrame vamos aplicar o método `shape`."
      ],
      "metadata": {
        "id": "o_Qy4IEYtiMw"
      }
    },
    {
      "cell_type": "code",
      "execution_count": 4,
      "metadata": {
        "id": "Rc2SR3rmnngQ",
        "outputId": "d62ac538-87fd-4e88-9d44-6a388fd23dcc",
        "colab": {
          "base_uri": "https://localhost:8080/"
        }
      },
      "outputs": [
        {
          "output_type": "execute_result",
          "data": {
            "text/plain": [
              "(542802, 21)"
            ]
          },
          "metadata": {},
          "execution_count": 4
        }
      ],
      "source": [
        "# Aplicando o método 'shape' para verificar a dimensão dos dados\n",
        "dfpnadc.shape"
      ]
    },
    {
      "cell_type": "markdown",
      "metadata": {
        "id": "syIIYqINnngR"
      },
      "source": [
        "Perceba que temos 542.802 linhas e 21 colunas.\n",
        "\n",
        "Com o método `info` obtemos informações como o nome das variáveis (colunas), a quantidade e o tipo de dados válidos (não faltantes)."
      ]
    },
    {
      "cell_type": "code",
      "execution_count": 5,
      "metadata": {
        "id": "dnZko-YqnngS",
        "outputId": "1b420562-3fda-4b53-d9fa-26bc60f44ad2",
        "colab": {
          "base_uri": "https://localhost:8080/"
        }
      },
      "outputs": [
        {
          "output_type": "stream",
          "name": "stdout",
          "text": [
            "<class 'pandas.core.frame.DataFrame'>\n",
            "RangeIndex: 542802 entries, 0 to 542801\n",
            "Data columns (total 21 columns):\n",
            " #   Column     Non-Null Count   Dtype  \n",
            "---  ------     --------------   -----  \n",
            " 0   Ano        542802 non-null  int64  \n",
            " 1   Trimestre  542802 non-null  int64  \n",
            " 2   UF         542802 non-null  int64  \n",
            " 3   Capital    124388 non-null  float64\n",
            " 4   UPA        542802 non-null  int64  \n",
            " 5   Estrato    542802 non-null  int64  \n",
            " 6   V1008      542802 non-null  int64  \n",
            " 7   V1014      542802 non-null  int64  \n",
            " 8   V1027      542802 non-null  float64\n",
            " 9   V1029      542802 non-null  int64  \n",
            " 10  posest     542802 non-null  int64  \n",
            " 11  V2007      542802 non-null  int64  \n",
            " 12  V2009      542802 non-null  int64  \n",
            " 13  V2010      542802 non-null  int64  \n",
            " 14  VD3004     508846 non-null  float64\n",
            " 15  VD3005     508846 non-null  float64\n",
            " 16  VD4001     439850 non-null  float64\n",
            " 17  VD4002     258319 non-null  float64\n",
            " 18  VD4009     231285 non-null  float64\n",
            " 19  VD4010     231285 non-null  float64\n",
            " 20  VD4020     223176 non-null  float64\n",
            "dtypes: float64(9), int64(12)\n",
            "memory usage: 87.0 MB\n"
          ]
        }
      ],
      "source": [
        "# Informações do DataFrame\n",
        "dfpnadc.info()"
      ]
    },
    {
      "cell_type": "markdown",
      "metadata": {
        "id": "nwcCZgdInngS"
      },
      "source": [
        "#### Dicionário da PNAD contínua\n",
        "\n",
        "Para termos uma ideia das variáveis contidas nesta base de dados, podemos consultar o dicionário de dados da PNADC.\n",
        "O dicionário pode ser encontrado na página da pesquisa.\n",
        "\n",
        "Abaixo segue a descrição das variáveis selecionadas para compor a nossa análise.\n",
        "\n",
        "\n",
        "- UF = unidade da federação\n",
        "\n",
        "- Capital = Município da Capital\n",
        "\n",
        "- V2007 = Sexo\n",
        "\n",
        "- V2009 = Idade do morador na data de referência\n",
        "\n",
        "- V2010 = Cor ou raça\n",
        "\n",
        "- VD3004 = Nível de instrução mais elevado alcançado (pessoas de 5 anos ou mais de idade) padronizado para o Ensino fundamental -  SISTEMA DE 9 ANOS\n",
        "\n",
        "- VD3005 = Anos de estudo (pessoas de 5 anos ou mais de idade) padronizado para o Ensino fundamental - SISTEMA DE 9 ANOS\n",
        "\n",
        "- VD4001 = Condição em relação à força de trabalho na semana de referência para pessoas de 14 anos ou mais de idade\n",
        "\n",
        "- VD4002 = Condição de ocupação na semana de referência para pessoas de 14 anos ou mais de idade\n",
        "\n",
        "- VD4009 = Posição na ocupação e categoria do emprego do trabalho principal da semana de referência para pessoas de 14 anos ou mais de idade\n",
        "\n",
        "- VD4010 = Grupamentos de atividade principal do empreendimento do trabalho principal da semana de referência para pessoas de 14 anos ou mais de idade\n",
        " \n",
        "- VD4020 = Rendimento mensal efetivo de todos os trabalhos para pessoas de 14 anos ou mais de idade (apenas para pessoas que receberam em dinheiro, produtos ou mercadorias em qualquer trabalho).\n"
      ]
    },
    {
      "cell_type": "markdown",
      "metadata": {
        "id": "suX28epBnngS"
      },
      "source": [
        "O método `head` permite vizualizar as primeiras linhas do DataFrame. Por *default* o Pandas apresenta as 5 primeira linhas. Aqui utilizaremos o argumento para mostrar as 20 primeiras linhas."
      ]
    },
    {
      "cell_type": "code",
      "execution_count": 6,
      "metadata": {
        "id": "wVDdXycXnngT",
        "outputId": "ddeffe52-5532-42c7-fb78-468633f293c3",
        "colab": {
          "base_uri": "https://localhost:8080/",
          "height": 770
        }
      },
      "outputs": [
        {
          "output_type": "execute_result",
          "data": {
            "text/plain": [
              "     Ano  Trimestre  UF  Capital        UPA  Estrato  V1008  V1014      V1027  \\\n",
              "0   2019          4  11     11.0  110000016  1110011      1      7  98.756636   \n",
              "1   2019          4  11     11.0  110000016  1110011      1      7  98.756636   \n",
              "2   2019          4  11     11.0  110000016  1110011      1      7  98.756636   \n",
              "3   2019          4  11     11.0  110000016  1110011      1      7  98.756636   \n",
              "4   2019          4  11     11.0  110000016  1110011      3      7  98.756636   \n",
              "5   2019          4  11     11.0  110000016  1110011      3      7  98.756636   \n",
              "6   2019          4  11     11.0  110000016  1110011      3      7  98.756636   \n",
              "7   2019          4  11     11.0  110000016  1110011      3      7  98.756636   \n",
              "8   2019          4  11     11.0  110000016  1110011      3      7  98.756636   \n",
              "9   2019          4  11     11.0  110000016  1110011      4      7  98.756636   \n",
              "10  2019          4  11     11.0  110000016  1110011      4      7  98.756636   \n",
              "11  2019          4  11     11.0  110000016  1110011      5      7  98.756636   \n",
              "12  2019          4  11     11.0  110000016  1110011      5      7  98.756636   \n",
              "13  2019          4  11     11.0  110000016  1110011      5      7  98.756636   \n",
              "14  2019          4  11     11.0  110000016  1110011      5      7  98.756636   \n",
              "15  2019          4  11     11.0  110000016  1110011      5      7  98.756636   \n",
              "16  2019          4  11     11.0  110000016  1110011      6      7  98.756636   \n",
              "17  2019          4  11     11.0  110000016  1110011      6      7  98.756636   \n",
              "18  2019          4  11     11.0  110000016  1110011      6      7  98.756636   \n",
              "19  2019          4  11     11.0  110000016  1110011      7      7  98.756636   \n",
              "\n",
              "     V1029  ...  V2007  V2009  V2010  VD3004  VD3005  VD4001  VD4002  VD4009  \\\n",
              "0   532471  ...      2     45      4     5.0    12.0     1.0     1.0     1.0   \n",
              "1   532471  ...      2     27      4     5.0    12.0     2.0     NaN     NaN   \n",
              "2   532471  ...      2     18      4     5.0    12.0     2.0     NaN     NaN   \n",
              "3   532471  ...      1      6      4     1.0     0.0     NaN     NaN     NaN   \n",
              "4   532471  ...      1     55      4     2.0     1.0     2.0     NaN     NaN   \n",
              "5   532471  ...      2     54      4     5.0    12.0     1.0     1.0     7.0   \n",
              "6   532471  ...      2     30      4     6.0    14.0     2.0     NaN     NaN   \n",
              "7   532471  ...      1     16      4     2.0     8.0     2.0     NaN     NaN   \n",
              "8   532471  ...      1     11      4     2.0     4.0     NaN     NaN     NaN   \n",
              "9   532471  ...      1     24      1     5.0    12.0     1.0     1.0     9.0   \n",
              "10  532471  ...      2     21      4     5.0    12.0     1.0     1.0     2.0   \n",
              "11  532471  ...      1     59      4     5.0    12.0     2.0     NaN     NaN   \n",
              "12  532471  ...      2     47      1     5.0    12.0     2.0     NaN     NaN   \n",
              "13  532471  ...      1     30      1     5.0    12.0     1.0     1.0     1.0   \n",
              "14  532471  ...      1     28      4     7.0    16.0     1.0     1.0     7.0   \n",
              "15  532471  ...      1     26      4     5.0    12.0     1.0     1.0     1.0   \n",
              "16  532471  ...      1     28      4     5.0    12.0     1.0     1.0     1.0   \n",
              "17  532471  ...      2     24      4     7.0    14.0     1.0     2.0     NaN   \n",
              "18  532471  ...      1      4      4     NaN     NaN     NaN     NaN     NaN   \n",
              "19  532471  ...      2     28      4     5.0    12.0     2.0     NaN     NaN   \n",
              "\n",
              "    VD4010  VD4020  \n",
              "0      9.0  2100.0  \n",
              "1      NaN     NaN  \n",
              "2      NaN     NaN  \n",
              "3      NaN     NaN  \n",
              "4      NaN     NaN  \n",
              "5      9.0  1000.0  \n",
              "6      NaN     NaN  \n",
              "7      NaN     NaN  \n",
              "8      NaN     NaN  \n",
              "9      6.0  2500.0  \n",
              "10     6.0  1000.0  \n",
              "11     NaN     NaN  \n",
              "12     NaN     NaN  \n",
              "13     4.0  1600.0  \n",
              "14     9.0  1600.0  \n",
              "15     5.0  2000.0  \n",
              "16     5.0  1200.0  \n",
              "17     NaN     NaN  \n",
              "18     NaN     NaN  \n",
              "19     NaN     NaN  \n",
              "\n",
              "[20 rows x 21 columns]"
            ],
            "text/html": [
              "\n",
              "  <div id=\"df-8102a0e6-67ce-499e-b3c9-12e7ab72fc30\">\n",
              "    <div class=\"colab-df-container\">\n",
              "      <div>\n",
              "<style scoped>\n",
              "    .dataframe tbody tr th:only-of-type {\n",
              "        vertical-align: middle;\n",
              "    }\n",
              "\n",
              "    .dataframe tbody tr th {\n",
              "        vertical-align: top;\n",
              "    }\n",
              "\n",
              "    .dataframe thead th {\n",
              "        text-align: right;\n",
              "    }\n",
              "</style>\n",
              "<table border=\"1\" class=\"dataframe\">\n",
              "  <thead>\n",
              "    <tr style=\"text-align: right;\">\n",
              "      <th></th>\n",
              "      <th>Ano</th>\n",
              "      <th>Trimestre</th>\n",
              "      <th>UF</th>\n",
              "      <th>Capital</th>\n",
              "      <th>UPA</th>\n",
              "      <th>Estrato</th>\n",
              "      <th>V1008</th>\n",
              "      <th>V1014</th>\n",
              "      <th>V1027</th>\n",
              "      <th>V1029</th>\n",
              "      <th>...</th>\n",
              "      <th>V2007</th>\n",
              "      <th>V2009</th>\n",
              "      <th>V2010</th>\n",
              "      <th>VD3004</th>\n",
              "      <th>VD3005</th>\n",
              "      <th>VD4001</th>\n",
              "      <th>VD4002</th>\n",
              "      <th>VD4009</th>\n",
              "      <th>VD4010</th>\n",
              "      <th>VD4020</th>\n",
              "    </tr>\n",
              "  </thead>\n",
              "  <tbody>\n",
              "    <tr>\n",
              "      <th>0</th>\n",
              "      <td>2019</td>\n",
              "      <td>4</td>\n",
              "      <td>11</td>\n",
              "      <td>11.0</td>\n",
              "      <td>110000016</td>\n",
              "      <td>1110011</td>\n",
              "      <td>1</td>\n",
              "      <td>7</td>\n",
              "      <td>98.756636</td>\n",
              "      <td>532471</td>\n",
              "      <td>...</td>\n",
              "      <td>2</td>\n",
              "      <td>45</td>\n",
              "      <td>4</td>\n",
              "      <td>5.0</td>\n",
              "      <td>12.0</td>\n",
              "      <td>1.0</td>\n",
              "      <td>1.0</td>\n",
              "      <td>1.0</td>\n",
              "      <td>9.0</td>\n",
              "      <td>2100.0</td>\n",
              "    </tr>\n",
              "    <tr>\n",
              "      <th>1</th>\n",
              "      <td>2019</td>\n",
              "      <td>4</td>\n",
              "      <td>11</td>\n",
              "      <td>11.0</td>\n",
              "      <td>110000016</td>\n",
              "      <td>1110011</td>\n",
              "      <td>1</td>\n",
              "      <td>7</td>\n",
              "      <td>98.756636</td>\n",
              "      <td>532471</td>\n",
              "      <td>...</td>\n",
              "      <td>2</td>\n",
              "      <td>27</td>\n",
              "      <td>4</td>\n",
              "      <td>5.0</td>\n",
              "      <td>12.0</td>\n",
              "      <td>2.0</td>\n",
              "      <td>NaN</td>\n",
              "      <td>NaN</td>\n",
              "      <td>NaN</td>\n",
              "      <td>NaN</td>\n",
              "    </tr>\n",
              "    <tr>\n",
              "      <th>2</th>\n",
              "      <td>2019</td>\n",
              "      <td>4</td>\n",
              "      <td>11</td>\n",
              "      <td>11.0</td>\n",
              "      <td>110000016</td>\n",
              "      <td>1110011</td>\n",
              "      <td>1</td>\n",
              "      <td>7</td>\n",
              "      <td>98.756636</td>\n",
              "      <td>532471</td>\n",
              "      <td>...</td>\n",
              "      <td>2</td>\n",
              "      <td>18</td>\n",
              "      <td>4</td>\n",
              "      <td>5.0</td>\n",
              "      <td>12.0</td>\n",
              "      <td>2.0</td>\n",
              "      <td>NaN</td>\n",
              "      <td>NaN</td>\n",
              "      <td>NaN</td>\n",
              "      <td>NaN</td>\n",
              "    </tr>\n",
              "    <tr>\n",
              "      <th>3</th>\n",
              "      <td>2019</td>\n",
              "      <td>4</td>\n",
              "      <td>11</td>\n",
              "      <td>11.0</td>\n",
              "      <td>110000016</td>\n",
              "      <td>1110011</td>\n",
              "      <td>1</td>\n",
              "      <td>7</td>\n",
              "      <td>98.756636</td>\n",
              "      <td>532471</td>\n",
              "      <td>...</td>\n",
              "      <td>1</td>\n",
              "      <td>6</td>\n",
              "      <td>4</td>\n",
              "      <td>1.0</td>\n",
              "      <td>0.0</td>\n",
              "      <td>NaN</td>\n",
              "      <td>NaN</td>\n",
              "      <td>NaN</td>\n",
              "      <td>NaN</td>\n",
              "      <td>NaN</td>\n",
              "    </tr>\n",
              "    <tr>\n",
              "      <th>4</th>\n",
              "      <td>2019</td>\n",
              "      <td>4</td>\n",
              "      <td>11</td>\n",
              "      <td>11.0</td>\n",
              "      <td>110000016</td>\n",
              "      <td>1110011</td>\n",
              "      <td>3</td>\n",
              "      <td>7</td>\n",
              "      <td>98.756636</td>\n",
              "      <td>532471</td>\n",
              "      <td>...</td>\n",
              "      <td>1</td>\n",
              "      <td>55</td>\n",
              "      <td>4</td>\n",
              "      <td>2.0</td>\n",
              "      <td>1.0</td>\n",
              "      <td>2.0</td>\n",
              "      <td>NaN</td>\n",
              "      <td>NaN</td>\n",
              "      <td>NaN</td>\n",
              "      <td>NaN</td>\n",
              "    </tr>\n",
              "    <tr>\n",
              "      <th>5</th>\n",
              "      <td>2019</td>\n",
              "      <td>4</td>\n",
              "      <td>11</td>\n",
              "      <td>11.0</td>\n",
              "      <td>110000016</td>\n",
              "      <td>1110011</td>\n",
              "      <td>3</td>\n",
              "      <td>7</td>\n",
              "      <td>98.756636</td>\n",
              "      <td>532471</td>\n",
              "      <td>...</td>\n",
              "      <td>2</td>\n",
              "      <td>54</td>\n",
              "      <td>4</td>\n",
              "      <td>5.0</td>\n",
              "      <td>12.0</td>\n",
              "      <td>1.0</td>\n",
              "      <td>1.0</td>\n",
              "      <td>7.0</td>\n",
              "      <td>9.0</td>\n",
              "      <td>1000.0</td>\n",
              "    </tr>\n",
              "    <tr>\n",
              "      <th>6</th>\n",
              "      <td>2019</td>\n",
              "      <td>4</td>\n",
              "      <td>11</td>\n",
              "      <td>11.0</td>\n",
              "      <td>110000016</td>\n",
              "      <td>1110011</td>\n",
              "      <td>3</td>\n",
              "      <td>7</td>\n",
              "      <td>98.756636</td>\n",
              "      <td>532471</td>\n",
              "      <td>...</td>\n",
              "      <td>2</td>\n",
              "      <td>30</td>\n",
              "      <td>4</td>\n",
              "      <td>6.0</td>\n",
              "      <td>14.0</td>\n",
              "      <td>2.0</td>\n",
              "      <td>NaN</td>\n",
              "      <td>NaN</td>\n",
              "      <td>NaN</td>\n",
              "      <td>NaN</td>\n",
              "    </tr>\n",
              "    <tr>\n",
              "      <th>7</th>\n",
              "      <td>2019</td>\n",
              "      <td>4</td>\n",
              "      <td>11</td>\n",
              "      <td>11.0</td>\n",
              "      <td>110000016</td>\n",
              "      <td>1110011</td>\n",
              "      <td>3</td>\n",
              "      <td>7</td>\n",
              "      <td>98.756636</td>\n",
              "      <td>532471</td>\n",
              "      <td>...</td>\n",
              "      <td>1</td>\n",
              "      <td>16</td>\n",
              "      <td>4</td>\n",
              "      <td>2.0</td>\n",
              "      <td>8.0</td>\n",
              "      <td>2.0</td>\n",
              "      <td>NaN</td>\n",
              "      <td>NaN</td>\n",
              "      <td>NaN</td>\n",
              "      <td>NaN</td>\n",
              "    </tr>\n",
              "    <tr>\n",
              "      <th>8</th>\n",
              "      <td>2019</td>\n",
              "      <td>4</td>\n",
              "      <td>11</td>\n",
              "      <td>11.0</td>\n",
              "      <td>110000016</td>\n",
              "      <td>1110011</td>\n",
              "      <td>3</td>\n",
              "      <td>7</td>\n",
              "      <td>98.756636</td>\n",
              "      <td>532471</td>\n",
              "      <td>...</td>\n",
              "      <td>1</td>\n",
              "      <td>11</td>\n",
              "      <td>4</td>\n",
              "      <td>2.0</td>\n",
              "      <td>4.0</td>\n",
              "      <td>NaN</td>\n",
              "      <td>NaN</td>\n",
              "      <td>NaN</td>\n",
              "      <td>NaN</td>\n",
              "      <td>NaN</td>\n",
              "    </tr>\n",
              "    <tr>\n",
              "      <th>9</th>\n",
              "      <td>2019</td>\n",
              "      <td>4</td>\n",
              "      <td>11</td>\n",
              "      <td>11.0</td>\n",
              "      <td>110000016</td>\n",
              "      <td>1110011</td>\n",
              "      <td>4</td>\n",
              "      <td>7</td>\n",
              "      <td>98.756636</td>\n",
              "      <td>532471</td>\n",
              "      <td>...</td>\n",
              "      <td>1</td>\n",
              "      <td>24</td>\n",
              "      <td>1</td>\n",
              "      <td>5.0</td>\n",
              "      <td>12.0</td>\n",
              "      <td>1.0</td>\n",
              "      <td>1.0</td>\n",
              "      <td>9.0</td>\n",
              "      <td>6.0</td>\n",
              "      <td>2500.0</td>\n",
              "    </tr>\n",
              "    <tr>\n",
              "      <th>10</th>\n",
              "      <td>2019</td>\n",
              "      <td>4</td>\n",
              "      <td>11</td>\n",
              "      <td>11.0</td>\n",
              "      <td>110000016</td>\n",
              "      <td>1110011</td>\n",
              "      <td>4</td>\n",
              "      <td>7</td>\n",
              "      <td>98.756636</td>\n",
              "      <td>532471</td>\n",
              "      <td>...</td>\n",
              "      <td>2</td>\n",
              "      <td>21</td>\n",
              "      <td>4</td>\n",
              "      <td>5.0</td>\n",
              "      <td>12.0</td>\n",
              "      <td>1.0</td>\n",
              "      <td>1.0</td>\n",
              "      <td>2.0</td>\n",
              "      <td>6.0</td>\n",
              "      <td>1000.0</td>\n",
              "    </tr>\n",
              "    <tr>\n",
              "      <th>11</th>\n",
              "      <td>2019</td>\n",
              "      <td>4</td>\n",
              "      <td>11</td>\n",
              "      <td>11.0</td>\n",
              "      <td>110000016</td>\n",
              "      <td>1110011</td>\n",
              "      <td>5</td>\n",
              "      <td>7</td>\n",
              "      <td>98.756636</td>\n",
              "      <td>532471</td>\n",
              "      <td>...</td>\n",
              "      <td>1</td>\n",
              "      <td>59</td>\n",
              "      <td>4</td>\n",
              "      <td>5.0</td>\n",
              "      <td>12.0</td>\n",
              "      <td>2.0</td>\n",
              "      <td>NaN</td>\n",
              "      <td>NaN</td>\n",
              "      <td>NaN</td>\n",
              "      <td>NaN</td>\n",
              "    </tr>\n",
              "    <tr>\n",
              "      <th>12</th>\n",
              "      <td>2019</td>\n",
              "      <td>4</td>\n",
              "      <td>11</td>\n",
              "      <td>11.0</td>\n",
              "      <td>110000016</td>\n",
              "      <td>1110011</td>\n",
              "      <td>5</td>\n",
              "      <td>7</td>\n",
              "      <td>98.756636</td>\n",
              "      <td>532471</td>\n",
              "      <td>...</td>\n",
              "      <td>2</td>\n",
              "      <td>47</td>\n",
              "      <td>1</td>\n",
              "      <td>5.0</td>\n",
              "      <td>12.0</td>\n",
              "      <td>2.0</td>\n",
              "      <td>NaN</td>\n",
              "      <td>NaN</td>\n",
              "      <td>NaN</td>\n",
              "      <td>NaN</td>\n",
              "    </tr>\n",
              "    <tr>\n",
              "      <th>13</th>\n",
              "      <td>2019</td>\n",
              "      <td>4</td>\n",
              "      <td>11</td>\n",
              "      <td>11.0</td>\n",
              "      <td>110000016</td>\n",
              "      <td>1110011</td>\n",
              "      <td>5</td>\n",
              "      <td>7</td>\n",
              "      <td>98.756636</td>\n",
              "      <td>532471</td>\n",
              "      <td>...</td>\n",
              "      <td>1</td>\n",
              "      <td>30</td>\n",
              "      <td>1</td>\n",
              "      <td>5.0</td>\n",
              "      <td>12.0</td>\n",
              "      <td>1.0</td>\n",
              "      <td>1.0</td>\n",
              "      <td>1.0</td>\n",
              "      <td>4.0</td>\n",
              "      <td>1600.0</td>\n",
              "    </tr>\n",
              "    <tr>\n",
              "      <th>14</th>\n",
              "      <td>2019</td>\n",
              "      <td>4</td>\n",
              "      <td>11</td>\n",
              "      <td>11.0</td>\n",
              "      <td>110000016</td>\n",
              "      <td>1110011</td>\n",
              "      <td>5</td>\n",
              "      <td>7</td>\n",
              "      <td>98.756636</td>\n",
              "      <td>532471</td>\n",
              "      <td>...</td>\n",
              "      <td>1</td>\n",
              "      <td>28</td>\n",
              "      <td>4</td>\n",
              "      <td>7.0</td>\n",
              "      <td>16.0</td>\n",
              "      <td>1.0</td>\n",
              "      <td>1.0</td>\n",
              "      <td>7.0</td>\n",
              "      <td>9.0</td>\n",
              "      <td>1600.0</td>\n",
              "    </tr>\n",
              "    <tr>\n",
              "      <th>15</th>\n",
              "      <td>2019</td>\n",
              "      <td>4</td>\n",
              "      <td>11</td>\n",
              "      <td>11.0</td>\n",
              "      <td>110000016</td>\n",
              "      <td>1110011</td>\n",
              "      <td>5</td>\n",
              "      <td>7</td>\n",
              "      <td>98.756636</td>\n",
              "      <td>532471</td>\n",
              "      <td>...</td>\n",
              "      <td>1</td>\n",
              "      <td>26</td>\n",
              "      <td>4</td>\n",
              "      <td>5.0</td>\n",
              "      <td>12.0</td>\n",
              "      <td>1.0</td>\n",
              "      <td>1.0</td>\n",
              "      <td>1.0</td>\n",
              "      <td>5.0</td>\n",
              "      <td>2000.0</td>\n",
              "    </tr>\n",
              "    <tr>\n",
              "      <th>16</th>\n",
              "      <td>2019</td>\n",
              "      <td>4</td>\n",
              "      <td>11</td>\n",
              "      <td>11.0</td>\n",
              "      <td>110000016</td>\n",
              "      <td>1110011</td>\n",
              "      <td>6</td>\n",
              "      <td>7</td>\n",
              "      <td>98.756636</td>\n",
              "      <td>532471</td>\n",
              "      <td>...</td>\n",
              "      <td>1</td>\n",
              "      <td>28</td>\n",
              "      <td>4</td>\n",
              "      <td>5.0</td>\n",
              "      <td>12.0</td>\n",
              "      <td>1.0</td>\n",
              "      <td>1.0</td>\n",
              "      <td>1.0</td>\n",
              "      <td>5.0</td>\n",
              "      <td>1200.0</td>\n",
              "    </tr>\n",
              "    <tr>\n",
              "      <th>17</th>\n",
              "      <td>2019</td>\n",
              "      <td>4</td>\n",
              "      <td>11</td>\n",
              "      <td>11.0</td>\n",
              "      <td>110000016</td>\n",
              "      <td>1110011</td>\n",
              "      <td>6</td>\n",
              "      <td>7</td>\n",
              "      <td>98.756636</td>\n",
              "      <td>532471</td>\n",
              "      <td>...</td>\n",
              "      <td>2</td>\n",
              "      <td>24</td>\n",
              "      <td>4</td>\n",
              "      <td>7.0</td>\n",
              "      <td>14.0</td>\n",
              "      <td>1.0</td>\n",
              "      <td>2.0</td>\n",
              "      <td>NaN</td>\n",
              "      <td>NaN</td>\n",
              "      <td>NaN</td>\n",
              "    </tr>\n",
              "    <tr>\n",
              "      <th>18</th>\n",
              "      <td>2019</td>\n",
              "      <td>4</td>\n",
              "      <td>11</td>\n",
              "      <td>11.0</td>\n",
              "      <td>110000016</td>\n",
              "      <td>1110011</td>\n",
              "      <td>6</td>\n",
              "      <td>7</td>\n",
              "      <td>98.756636</td>\n",
              "      <td>532471</td>\n",
              "      <td>...</td>\n",
              "      <td>1</td>\n",
              "      <td>4</td>\n",
              "      <td>4</td>\n",
              "      <td>NaN</td>\n",
              "      <td>NaN</td>\n",
              "      <td>NaN</td>\n",
              "      <td>NaN</td>\n",
              "      <td>NaN</td>\n",
              "      <td>NaN</td>\n",
              "      <td>NaN</td>\n",
              "    </tr>\n",
              "    <tr>\n",
              "      <th>19</th>\n",
              "      <td>2019</td>\n",
              "      <td>4</td>\n",
              "      <td>11</td>\n",
              "      <td>11.0</td>\n",
              "      <td>110000016</td>\n",
              "      <td>1110011</td>\n",
              "      <td>7</td>\n",
              "      <td>7</td>\n",
              "      <td>98.756636</td>\n",
              "      <td>532471</td>\n",
              "      <td>...</td>\n",
              "      <td>2</td>\n",
              "      <td>28</td>\n",
              "      <td>4</td>\n",
              "      <td>5.0</td>\n",
              "      <td>12.0</td>\n",
              "      <td>2.0</td>\n",
              "      <td>NaN</td>\n",
              "      <td>NaN</td>\n",
              "      <td>NaN</td>\n",
              "      <td>NaN</td>\n",
              "    </tr>\n",
              "  </tbody>\n",
              "</table>\n",
              "<p>20 rows × 21 columns</p>\n",
              "</div>\n",
              "      <button class=\"colab-df-convert\" onclick=\"convertToInteractive('df-8102a0e6-67ce-499e-b3c9-12e7ab72fc30')\"\n",
              "              title=\"Convert this dataframe to an interactive table.\"\n",
              "              style=\"display:none;\">\n",
              "        \n",
              "  <svg xmlns=\"http://www.w3.org/2000/svg\" height=\"24px\"viewBox=\"0 0 24 24\"\n",
              "       width=\"24px\">\n",
              "    <path d=\"M0 0h24v24H0V0z\" fill=\"none\"/>\n",
              "    <path d=\"M18.56 5.44l.94 2.06.94-2.06 2.06-.94-2.06-.94-.94-2.06-.94 2.06-2.06.94zm-11 1L8.5 8.5l.94-2.06 2.06-.94-2.06-.94L8.5 2.5l-.94 2.06-2.06.94zm10 10l.94 2.06.94-2.06 2.06-.94-2.06-.94-.94-2.06-.94 2.06-2.06.94z\"/><path d=\"M17.41 7.96l-1.37-1.37c-.4-.4-.92-.59-1.43-.59-.52 0-1.04.2-1.43.59L10.3 9.45l-7.72 7.72c-.78.78-.78 2.05 0 2.83L4 21.41c.39.39.9.59 1.41.59.51 0 1.02-.2 1.41-.59l7.78-7.78 2.81-2.81c.8-.78.8-2.07 0-2.86zM5.41 20L4 18.59l7.72-7.72 1.47 1.35L5.41 20z\"/>\n",
              "  </svg>\n",
              "      </button>\n",
              "      \n",
              "  <style>\n",
              "    .colab-df-container {\n",
              "      display:flex;\n",
              "      flex-wrap:wrap;\n",
              "      gap: 12px;\n",
              "    }\n",
              "\n",
              "    .colab-df-convert {\n",
              "      background-color: #E8F0FE;\n",
              "      border: none;\n",
              "      border-radius: 50%;\n",
              "      cursor: pointer;\n",
              "      display: none;\n",
              "      fill: #1967D2;\n",
              "      height: 32px;\n",
              "      padding: 0 0 0 0;\n",
              "      width: 32px;\n",
              "    }\n",
              "\n",
              "    .colab-df-convert:hover {\n",
              "      background-color: #E2EBFA;\n",
              "      box-shadow: 0px 1px 2px rgba(60, 64, 67, 0.3), 0px 1px 3px 1px rgba(60, 64, 67, 0.15);\n",
              "      fill: #174EA6;\n",
              "    }\n",
              "\n",
              "    [theme=dark] .colab-df-convert {\n",
              "      background-color: #3B4455;\n",
              "      fill: #D2E3FC;\n",
              "    }\n",
              "\n",
              "    [theme=dark] .colab-df-convert:hover {\n",
              "      background-color: #434B5C;\n",
              "      box-shadow: 0px 1px 3px 1px rgba(0, 0, 0, 0.15);\n",
              "      filter: drop-shadow(0px 1px 2px rgba(0, 0, 0, 0.3));\n",
              "      fill: #FFFFFF;\n",
              "    }\n",
              "  </style>\n",
              "\n",
              "      <script>\n",
              "        const buttonEl =\n",
              "          document.querySelector('#df-8102a0e6-67ce-499e-b3c9-12e7ab72fc30 button.colab-df-convert');\n",
              "        buttonEl.style.display =\n",
              "          google.colab.kernel.accessAllowed ? 'block' : 'none';\n",
              "\n",
              "        async function convertToInteractive(key) {\n",
              "          const element = document.querySelector('#df-8102a0e6-67ce-499e-b3c9-12e7ab72fc30');\n",
              "          const dataTable =\n",
              "            await google.colab.kernel.invokeFunction('convertToInteractive',\n",
              "                                                     [key], {});\n",
              "          if (!dataTable) return;\n",
              "\n",
              "          const docLinkHtml = 'Like what you see? Visit the ' +\n",
              "            '<a target=\"_blank\" href=https://colab.research.google.com/notebooks/data_table.ipynb>data table notebook</a>'\n",
              "            + ' to learn more about interactive tables.';\n",
              "          element.innerHTML = '';\n",
              "          dataTable['output_type'] = 'display_data';\n",
              "          await google.colab.output.renderOutput(dataTable, element);\n",
              "          const docLink = document.createElement('div');\n",
              "          docLink.innerHTML = docLinkHtml;\n",
              "          element.appendChild(docLink);\n",
              "        }\n",
              "      </script>\n",
              "    </div>\n",
              "  </div>\n",
              "  "
            ]
          },
          "metadata": {},
          "execution_count": 6
        }
      ],
      "source": [
        "# Método 'head' para mostar as (20) primeiras linhas do DataFrame\n",
        "dfpnadc.head(20)"
      ]
    },
    {
      "cell_type": "markdown",
      "metadata": {
        "id": "Aiwu7CqinngT"
      },
      "source": [
        "#### Removendo colunas\n",
        "\n",
        "Alguma colunas deste DataFrame não serão importante para o exercício que iremos realizar.\n",
        "Dessa forma, vamos excluí-las da base, deixando o DataFrame mais leve.\n",
        "Para isso, usamos o médodo `drop` e passamos a lista de variáveis a serem deletadas."
      ]
    },
    {
      "cell_type": "code",
      "execution_count": 7,
      "metadata": {
        "id": "8VGUL7HwnngT",
        "outputId": "1dcb5695-2231-4eb4-ba72-d3e0e4006ea0",
        "colab": {
          "base_uri": "https://localhost:8080/",
          "height": 363
        }
      },
      "outputs": [
        {
          "output_type": "execute_result",
          "data": {
            "text/plain": [
              "   UF  Capital  V2007  V2009  V2010  VD3004  VD3005  VD4001  VD4002  VD4009  \\\n",
              "0  11     11.0      2     45      4     5.0    12.0     1.0     1.0     1.0   \n",
              "1  11     11.0      2     27      4     5.0    12.0     2.0     NaN     NaN   \n",
              "2  11     11.0      2     18      4     5.0    12.0     2.0     NaN     NaN   \n",
              "3  11     11.0      1      6      4     1.0     0.0     NaN     NaN     NaN   \n",
              "4  11     11.0      1     55      4     2.0     1.0     2.0     NaN     NaN   \n",
              "5  11     11.0      2     54      4     5.0    12.0     1.0     1.0     7.0   \n",
              "6  11     11.0      2     30      4     6.0    14.0     2.0     NaN     NaN   \n",
              "7  11     11.0      1     16      4     2.0     8.0     2.0     NaN     NaN   \n",
              "8  11     11.0      1     11      4     2.0     4.0     NaN     NaN     NaN   \n",
              "9  11     11.0      1     24      1     5.0    12.0     1.0     1.0     9.0   \n",
              "\n",
              "   VD4010  VD4020  \n",
              "0     9.0  2100.0  \n",
              "1     NaN     NaN  \n",
              "2     NaN     NaN  \n",
              "3     NaN     NaN  \n",
              "4     NaN     NaN  \n",
              "5     9.0  1000.0  \n",
              "6     NaN     NaN  \n",
              "7     NaN     NaN  \n",
              "8     NaN     NaN  \n",
              "9     6.0  2500.0  "
            ],
            "text/html": [
              "\n",
              "  <div id=\"df-a796f0f2-7918-41f2-815b-42b5ed39f840\">\n",
              "    <div class=\"colab-df-container\">\n",
              "      <div>\n",
              "<style scoped>\n",
              "    .dataframe tbody tr th:only-of-type {\n",
              "        vertical-align: middle;\n",
              "    }\n",
              "\n",
              "    .dataframe tbody tr th {\n",
              "        vertical-align: top;\n",
              "    }\n",
              "\n",
              "    .dataframe thead th {\n",
              "        text-align: right;\n",
              "    }\n",
              "</style>\n",
              "<table border=\"1\" class=\"dataframe\">\n",
              "  <thead>\n",
              "    <tr style=\"text-align: right;\">\n",
              "      <th></th>\n",
              "      <th>UF</th>\n",
              "      <th>Capital</th>\n",
              "      <th>V2007</th>\n",
              "      <th>V2009</th>\n",
              "      <th>V2010</th>\n",
              "      <th>VD3004</th>\n",
              "      <th>VD3005</th>\n",
              "      <th>VD4001</th>\n",
              "      <th>VD4002</th>\n",
              "      <th>VD4009</th>\n",
              "      <th>VD4010</th>\n",
              "      <th>VD4020</th>\n",
              "    </tr>\n",
              "  </thead>\n",
              "  <tbody>\n",
              "    <tr>\n",
              "      <th>0</th>\n",
              "      <td>11</td>\n",
              "      <td>11.0</td>\n",
              "      <td>2</td>\n",
              "      <td>45</td>\n",
              "      <td>4</td>\n",
              "      <td>5.0</td>\n",
              "      <td>12.0</td>\n",
              "      <td>1.0</td>\n",
              "      <td>1.0</td>\n",
              "      <td>1.0</td>\n",
              "      <td>9.0</td>\n",
              "      <td>2100.0</td>\n",
              "    </tr>\n",
              "    <tr>\n",
              "      <th>1</th>\n",
              "      <td>11</td>\n",
              "      <td>11.0</td>\n",
              "      <td>2</td>\n",
              "      <td>27</td>\n",
              "      <td>4</td>\n",
              "      <td>5.0</td>\n",
              "      <td>12.0</td>\n",
              "      <td>2.0</td>\n",
              "      <td>NaN</td>\n",
              "      <td>NaN</td>\n",
              "      <td>NaN</td>\n",
              "      <td>NaN</td>\n",
              "    </tr>\n",
              "    <tr>\n",
              "      <th>2</th>\n",
              "      <td>11</td>\n",
              "      <td>11.0</td>\n",
              "      <td>2</td>\n",
              "      <td>18</td>\n",
              "      <td>4</td>\n",
              "      <td>5.0</td>\n",
              "      <td>12.0</td>\n",
              "      <td>2.0</td>\n",
              "      <td>NaN</td>\n",
              "      <td>NaN</td>\n",
              "      <td>NaN</td>\n",
              "      <td>NaN</td>\n",
              "    </tr>\n",
              "    <tr>\n",
              "      <th>3</th>\n",
              "      <td>11</td>\n",
              "      <td>11.0</td>\n",
              "      <td>1</td>\n",
              "      <td>6</td>\n",
              "      <td>4</td>\n",
              "      <td>1.0</td>\n",
              "      <td>0.0</td>\n",
              "      <td>NaN</td>\n",
              "      <td>NaN</td>\n",
              "      <td>NaN</td>\n",
              "      <td>NaN</td>\n",
              "      <td>NaN</td>\n",
              "    </tr>\n",
              "    <tr>\n",
              "      <th>4</th>\n",
              "      <td>11</td>\n",
              "      <td>11.0</td>\n",
              "      <td>1</td>\n",
              "      <td>55</td>\n",
              "      <td>4</td>\n",
              "      <td>2.0</td>\n",
              "      <td>1.0</td>\n",
              "      <td>2.0</td>\n",
              "      <td>NaN</td>\n",
              "      <td>NaN</td>\n",
              "      <td>NaN</td>\n",
              "      <td>NaN</td>\n",
              "    </tr>\n",
              "    <tr>\n",
              "      <th>5</th>\n",
              "      <td>11</td>\n",
              "      <td>11.0</td>\n",
              "      <td>2</td>\n",
              "      <td>54</td>\n",
              "      <td>4</td>\n",
              "      <td>5.0</td>\n",
              "      <td>12.0</td>\n",
              "      <td>1.0</td>\n",
              "      <td>1.0</td>\n",
              "      <td>7.0</td>\n",
              "      <td>9.0</td>\n",
              "      <td>1000.0</td>\n",
              "    </tr>\n",
              "    <tr>\n",
              "      <th>6</th>\n",
              "      <td>11</td>\n",
              "      <td>11.0</td>\n",
              "      <td>2</td>\n",
              "      <td>30</td>\n",
              "      <td>4</td>\n",
              "      <td>6.0</td>\n",
              "      <td>14.0</td>\n",
              "      <td>2.0</td>\n",
              "      <td>NaN</td>\n",
              "      <td>NaN</td>\n",
              "      <td>NaN</td>\n",
              "      <td>NaN</td>\n",
              "    </tr>\n",
              "    <tr>\n",
              "      <th>7</th>\n",
              "      <td>11</td>\n",
              "      <td>11.0</td>\n",
              "      <td>1</td>\n",
              "      <td>16</td>\n",
              "      <td>4</td>\n",
              "      <td>2.0</td>\n",
              "      <td>8.0</td>\n",
              "      <td>2.0</td>\n",
              "      <td>NaN</td>\n",
              "      <td>NaN</td>\n",
              "      <td>NaN</td>\n",
              "      <td>NaN</td>\n",
              "    </tr>\n",
              "    <tr>\n",
              "      <th>8</th>\n",
              "      <td>11</td>\n",
              "      <td>11.0</td>\n",
              "      <td>1</td>\n",
              "      <td>11</td>\n",
              "      <td>4</td>\n",
              "      <td>2.0</td>\n",
              "      <td>4.0</td>\n",
              "      <td>NaN</td>\n",
              "      <td>NaN</td>\n",
              "      <td>NaN</td>\n",
              "      <td>NaN</td>\n",
              "      <td>NaN</td>\n",
              "    </tr>\n",
              "    <tr>\n",
              "      <th>9</th>\n",
              "      <td>11</td>\n",
              "      <td>11.0</td>\n",
              "      <td>1</td>\n",
              "      <td>24</td>\n",
              "      <td>1</td>\n",
              "      <td>5.0</td>\n",
              "      <td>12.0</td>\n",
              "      <td>1.0</td>\n",
              "      <td>1.0</td>\n",
              "      <td>9.0</td>\n",
              "      <td>6.0</td>\n",
              "      <td>2500.0</td>\n",
              "    </tr>\n",
              "  </tbody>\n",
              "</table>\n",
              "</div>\n",
              "      <button class=\"colab-df-convert\" onclick=\"convertToInteractive('df-a796f0f2-7918-41f2-815b-42b5ed39f840')\"\n",
              "              title=\"Convert this dataframe to an interactive table.\"\n",
              "              style=\"display:none;\">\n",
              "        \n",
              "  <svg xmlns=\"http://www.w3.org/2000/svg\" height=\"24px\"viewBox=\"0 0 24 24\"\n",
              "       width=\"24px\">\n",
              "    <path d=\"M0 0h24v24H0V0z\" fill=\"none\"/>\n",
              "    <path d=\"M18.56 5.44l.94 2.06.94-2.06 2.06-.94-2.06-.94-.94-2.06-.94 2.06-2.06.94zm-11 1L8.5 8.5l.94-2.06 2.06-.94-2.06-.94L8.5 2.5l-.94 2.06-2.06.94zm10 10l.94 2.06.94-2.06 2.06-.94-2.06-.94-.94-2.06-.94 2.06-2.06.94z\"/><path d=\"M17.41 7.96l-1.37-1.37c-.4-.4-.92-.59-1.43-.59-.52 0-1.04.2-1.43.59L10.3 9.45l-7.72 7.72c-.78.78-.78 2.05 0 2.83L4 21.41c.39.39.9.59 1.41.59.51 0 1.02-.2 1.41-.59l7.78-7.78 2.81-2.81c.8-.78.8-2.07 0-2.86zM5.41 20L4 18.59l7.72-7.72 1.47 1.35L5.41 20z\"/>\n",
              "  </svg>\n",
              "      </button>\n",
              "      \n",
              "  <style>\n",
              "    .colab-df-container {\n",
              "      display:flex;\n",
              "      flex-wrap:wrap;\n",
              "      gap: 12px;\n",
              "    }\n",
              "\n",
              "    .colab-df-convert {\n",
              "      background-color: #E8F0FE;\n",
              "      border: none;\n",
              "      border-radius: 50%;\n",
              "      cursor: pointer;\n",
              "      display: none;\n",
              "      fill: #1967D2;\n",
              "      height: 32px;\n",
              "      padding: 0 0 0 0;\n",
              "      width: 32px;\n",
              "    }\n",
              "\n",
              "    .colab-df-convert:hover {\n",
              "      background-color: #E2EBFA;\n",
              "      box-shadow: 0px 1px 2px rgba(60, 64, 67, 0.3), 0px 1px 3px 1px rgba(60, 64, 67, 0.15);\n",
              "      fill: #174EA6;\n",
              "    }\n",
              "\n",
              "    [theme=dark] .colab-df-convert {\n",
              "      background-color: #3B4455;\n",
              "      fill: #D2E3FC;\n",
              "    }\n",
              "\n",
              "    [theme=dark] .colab-df-convert:hover {\n",
              "      background-color: #434B5C;\n",
              "      box-shadow: 0px 1px 3px 1px rgba(0, 0, 0, 0.15);\n",
              "      filter: drop-shadow(0px 1px 2px rgba(0, 0, 0, 0.3));\n",
              "      fill: #FFFFFF;\n",
              "    }\n",
              "  </style>\n",
              "\n",
              "      <script>\n",
              "        const buttonEl =\n",
              "          document.querySelector('#df-a796f0f2-7918-41f2-815b-42b5ed39f840 button.colab-df-convert');\n",
              "        buttonEl.style.display =\n",
              "          google.colab.kernel.accessAllowed ? 'block' : 'none';\n",
              "\n",
              "        async function convertToInteractive(key) {\n",
              "          const element = document.querySelector('#df-a796f0f2-7918-41f2-815b-42b5ed39f840');\n",
              "          const dataTable =\n",
              "            await google.colab.kernel.invokeFunction('convertToInteractive',\n",
              "                                                     [key], {});\n",
              "          if (!dataTable) return;\n",
              "\n",
              "          const docLinkHtml = 'Like what you see? Visit the ' +\n",
              "            '<a target=\"_blank\" href=https://colab.research.google.com/notebooks/data_table.ipynb>data table notebook</a>'\n",
              "            + ' to learn more about interactive tables.';\n",
              "          element.innerHTML = '';\n",
              "          dataTable['output_type'] = 'display_data';\n",
              "          await google.colab.output.renderOutput(dataTable, element);\n",
              "          const docLink = document.createElement('div');\n",
              "          docLink.innerHTML = docLinkHtml;\n",
              "          element.appendChild(docLink);\n",
              "        }\n",
              "      </script>\n",
              "    </div>\n",
              "  </div>\n",
              "  "
            ]
          },
          "metadata": {},
          "execution_count": 7
        }
      ],
      "source": [
        "# Usando o método 'drop' para excluir colunas (variáveis)\n",
        "dfpnadc = dfpnadc.drop(columns=['Ano', 'Trimestre', 'UPA', 'Estrato', 'V1008', 'V1014', 'V1027', 'V1029', 'posest'])\n",
        "\n",
        "# Visualizar as (10) primeiras linhas do DataFrame\n",
        "dfpnadc.head(10)"
      ]
    },
    {
      "cell_type": "markdown",
      "metadata": {
        "id": "tHISWLkCnngU"
      },
      "source": [
        "#### Renomear variáveis\n",
        "Para não lidar com os códigos das variáveis durante toda a análise (e não precisar decorá-los) podemos renomear as colunas.\n",
        "Para isso usamos o `rename`."
      ]
    },
    {
      "cell_type": "code",
      "execution_count": 8,
      "metadata": {
        "id": "LTS1FJD3nngU",
        "outputId": "9b5f4c53-b420-41ac-97ec-efa6c4c5a8a1",
        "colab": {
          "base_uri": "https://localhost:8080/",
          "height": 206
        }
      },
      "outputs": [
        {
          "output_type": "execute_result",
          "data": {
            "text/plain": [
              "   UF  Capital  sexo  idade  cor  escolaridade  anos_estudo  forca_trabalho  \\\n",
              "0  11     11.0     2     45    4           5.0         12.0             1.0   \n",
              "1  11     11.0     2     27    4           5.0         12.0             2.0   \n",
              "2  11     11.0     2     18    4           5.0         12.0             2.0   \n",
              "3  11     11.0     1      6    4           1.0          0.0             NaN   \n",
              "4  11     11.0     1     55    4           2.0          1.0             2.0   \n",
              "\n",
              "   ocupado  tipo_ocupacao  atividade  renda_trabalho  \n",
              "0      1.0            1.0        9.0          2100.0  \n",
              "1      NaN            NaN        NaN             NaN  \n",
              "2      NaN            NaN        NaN             NaN  \n",
              "3      NaN            NaN        NaN             NaN  \n",
              "4      NaN            NaN        NaN             NaN  "
            ],
            "text/html": [
              "\n",
              "  <div id=\"df-f7f7b47b-9a13-40a5-8612-d9a6cebfbdca\">\n",
              "    <div class=\"colab-df-container\">\n",
              "      <div>\n",
              "<style scoped>\n",
              "    .dataframe tbody tr th:only-of-type {\n",
              "        vertical-align: middle;\n",
              "    }\n",
              "\n",
              "    .dataframe tbody tr th {\n",
              "        vertical-align: top;\n",
              "    }\n",
              "\n",
              "    .dataframe thead th {\n",
              "        text-align: right;\n",
              "    }\n",
              "</style>\n",
              "<table border=\"1\" class=\"dataframe\">\n",
              "  <thead>\n",
              "    <tr style=\"text-align: right;\">\n",
              "      <th></th>\n",
              "      <th>UF</th>\n",
              "      <th>Capital</th>\n",
              "      <th>sexo</th>\n",
              "      <th>idade</th>\n",
              "      <th>cor</th>\n",
              "      <th>escolaridade</th>\n",
              "      <th>anos_estudo</th>\n",
              "      <th>forca_trabalho</th>\n",
              "      <th>ocupado</th>\n",
              "      <th>tipo_ocupacao</th>\n",
              "      <th>atividade</th>\n",
              "      <th>renda_trabalho</th>\n",
              "    </tr>\n",
              "  </thead>\n",
              "  <tbody>\n",
              "    <tr>\n",
              "      <th>0</th>\n",
              "      <td>11</td>\n",
              "      <td>11.0</td>\n",
              "      <td>2</td>\n",
              "      <td>45</td>\n",
              "      <td>4</td>\n",
              "      <td>5.0</td>\n",
              "      <td>12.0</td>\n",
              "      <td>1.0</td>\n",
              "      <td>1.0</td>\n",
              "      <td>1.0</td>\n",
              "      <td>9.0</td>\n",
              "      <td>2100.0</td>\n",
              "    </tr>\n",
              "    <tr>\n",
              "      <th>1</th>\n",
              "      <td>11</td>\n",
              "      <td>11.0</td>\n",
              "      <td>2</td>\n",
              "      <td>27</td>\n",
              "      <td>4</td>\n",
              "      <td>5.0</td>\n",
              "      <td>12.0</td>\n",
              "      <td>2.0</td>\n",
              "      <td>NaN</td>\n",
              "      <td>NaN</td>\n",
              "      <td>NaN</td>\n",
              "      <td>NaN</td>\n",
              "    </tr>\n",
              "    <tr>\n",
              "      <th>2</th>\n",
              "      <td>11</td>\n",
              "      <td>11.0</td>\n",
              "      <td>2</td>\n",
              "      <td>18</td>\n",
              "      <td>4</td>\n",
              "      <td>5.0</td>\n",
              "      <td>12.0</td>\n",
              "      <td>2.0</td>\n",
              "      <td>NaN</td>\n",
              "      <td>NaN</td>\n",
              "      <td>NaN</td>\n",
              "      <td>NaN</td>\n",
              "    </tr>\n",
              "    <tr>\n",
              "      <th>3</th>\n",
              "      <td>11</td>\n",
              "      <td>11.0</td>\n",
              "      <td>1</td>\n",
              "      <td>6</td>\n",
              "      <td>4</td>\n",
              "      <td>1.0</td>\n",
              "      <td>0.0</td>\n",
              "      <td>NaN</td>\n",
              "      <td>NaN</td>\n",
              "      <td>NaN</td>\n",
              "      <td>NaN</td>\n",
              "      <td>NaN</td>\n",
              "    </tr>\n",
              "    <tr>\n",
              "      <th>4</th>\n",
              "      <td>11</td>\n",
              "      <td>11.0</td>\n",
              "      <td>1</td>\n",
              "      <td>55</td>\n",
              "      <td>4</td>\n",
              "      <td>2.0</td>\n",
              "      <td>1.0</td>\n",
              "      <td>2.0</td>\n",
              "      <td>NaN</td>\n",
              "      <td>NaN</td>\n",
              "      <td>NaN</td>\n",
              "      <td>NaN</td>\n",
              "    </tr>\n",
              "  </tbody>\n",
              "</table>\n",
              "</div>\n",
              "      <button class=\"colab-df-convert\" onclick=\"convertToInteractive('df-f7f7b47b-9a13-40a5-8612-d9a6cebfbdca')\"\n",
              "              title=\"Convert this dataframe to an interactive table.\"\n",
              "              style=\"display:none;\">\n",
              "        \n",
              "  <svg xmlns=\"http://www.w3.org/2000/svg\" height=\"24px\"viewBox=\"0 0 24 24\"\n",
              "       width=\"24px\">\n",
              "    <path d=\"M0 0h24v24H0V0z\" fill=\"none\"/>\n",
              "    <path d=\"M18.56 5.44l.94 2.06.94-2.06 2.06-.94-2.06-.94-.94-2.06-.94 2.06-2.06.94zm-11 1L8.5 8.5l.94-2.06 2.06-.94-2.06-.94L8.5 2.5l-.94 2.06-2.06.94zm10 10l.94 2.06.94-2.06 2.06-.94-2.06-.94-.94-2.06-.94 2.06-2.06.94z\"/><path d=\"M17.41 7.96l-1.37-1.37c-.4-.4-.92-.59-1.43-.59-.52 0-1.04.2-1.43.59L10.3 9.45l-7.72 7.72c-.78.78-.78 2.05 0 2.83L4 21.41c.39.39.9.59 1.41.59.51 0 1.02-.2 1.41-.59l7.78-7.78 2.81-2.81c.8-.78.8-2.07 0-2.86zM5.41 20L4 18.59l7.72-7.72 1.47 1.35L5.41 20z\"/>\n",
              "  </svg>\n",
              "      </button>\n",
              "      \n",
              "  <style>\n",
              "    .colab-df-container {\n",
              "      display:flex;\n",
              "      flex-wrap:wrap;\n",
              "      gap: 12px;\n",
              "    }\n",
              "\n",
              "    .colab-df-convert {\n",
              "      background-color: #E8F0FE;\n",
              "      border: none;\n",
              "      border-radius: 50%;\n",
              "      cursor: pointer;\n",
              "      display: none;\n",
              "      fill: #1967D2;\n",
              "      height: 32px;\n",
              "      padding: 0 0 0 0;\n",
              "      width: 32px;\n",
              "    }\n",
              "\n",
              "    .colab-df-convert:hover {\n",
              "      background-color: #E2EBFA;\n",
              "      box-shadow: 0px 1px 2px rgba(60, 64, 67, 0.3), 0px 1px 3px 1px rgba(60, 64, 67, 0.15);\n",
              "      fill: #174EA6;\n",
              "    }\n",
              "\n",
              "    [theme=dark] .colab-df-convert {\n",
              "      background-color: #3B4455;\n",
              "      fill: #D2E3FC;\n",
              "    }\n",
              "\n",
              "    [theme=dark] .colab-df-convert:hover {\n",
              "      background-color: #434B5C;\n",
              "      box-shadow: 0px 1px 3px 1px rgba(0, 0, 0, 0.15);\n",
              "      filter: drop-shadow(0px 1px 2px rgba(0, 0, 0, 0.3));\n",
              "      fill: #FFFFFF;\n",
              "    }\n",
              "  </style>\n",
              "\n",
              "      <script>\n",
              "        const buttonEl =\n",
              "          document.querySelector('#df-f7f7b47b-9a13-40a5-8612-d9a6cebfbdca button.colab-df-convert');\n",
              "        buttonEl.style.display =\n",
              "          google.colab.kernel.accessAllowed ? 'block' : 'none';\n",
              "\n",
              "        async function convertToInteractive(key) {\n",
              "          const element = document.querySelector('#df-f7f7b47b-9a13-40a5-8612-d9a6cebfbdca');\n",
              "          const dataTable =\n",
              "            await google.colab.kernel.invokeFunction('convertToInteractive',\n",
              "                                                     [key], {});\n",
              "          if (!dataTable) return;\n",
              "\n",
              "          const docLinkHtml = 'Like what you see? Visit the ' +\n",
              "            '<a target=\"_blank\" href=https://colab.research.google.com/notebooks/data_table.ipynb>data table notebook</a>'\n",
              "            + ' to learn more about interactive tables.';\n",
              "          element.innerHTML = '';\n",
              "          dataTable['output_type'] = 'display_data';\n",
              "          await google.colab.output.renderOutput(dataTable, element);\n",
              "          const docLink = document.createElement('div');\n",
              "          docLink.innerHTML = docLinkHtml;\n",
              "          element.appendChild(docLink);\n",
              "        }\n",
              "      </script>\n",
              "    </div>\n",
              "  </div>\n",
              "  "
            ]
          },
          "metadata": {},
          "execution_count": 8
        }
      ],
      "source": [
        "# Aplicar o método 'rename' passando um dicionário ['nome anterior': 'nome novo']\n",
        "# ao parâmetro columns (com o objetivo de renomear colunas)\n",
        "# 0 parâmetro 'inplace=True' salva as mudanças no DataFrame\n",
        "dfpnadc.rename(columns={'V2007':'sexo',\n",
        "                   'V2009':'idade',\n",
        "                   'V2010':'cor',\n",
        "                   'VD3004':'escolaridade',\n",
        "                   'VD3005':'anos_estudo',\n",
        "                   'VD4001':'forca_trabalho',\n",
        "                   'VD4002':'ocupado',\n",
        "                   'VD4009':'tipo_ocupacao',\n",
        "                   'VD4010':'atividade',\n",
        "                   'VD4020':'renda_trabalho'}, inplace=True)\n",
        "\n",
        "# Visualizar as primeiras linhas do DataFrame\n",
        "dfpnadc.head()"
      ]
    },
    {
      "cell_type": "markdown",
      "metadata": {
        "id": "O8FnbigMnngU"
      },
      "source": [
        "Podemos \"mapear\" uma variável qualitativa usando o método `map` e passar um dicionário como argumento.\n",
        "\n",
        "Aqui faremos isso para a variável `sexo`. Nesta variável código 1 = \"homem\" e código 2 = \"mulher\"."
      ]
    },
    {
      "cell_type": "code",
      "execution_count": 9,
      "metadata": {
        "id": "XAc3JMwFnngU",
        "outputId": "67f5a5cd-b80b-4145-8ecd-82bb224434fc",
        "colab": {
          "base_uri": "https://localhost:8080/",
          "height": 206
        }
      },
      "outputs": [
        {
          "output_type": "execute_result",
          "data": {
            "text/plain": [
              "   UF  Capital    sexo  idade  cor  escolaridade  anos_estudo  forca_trabalho  \\\n",
              "0  11     11.0  mulher     45    4           5.0         12.0             1.0   \n",
              "1  11     11.0  mulher     27    4           5.0         12.0             2.0   \n",
              "2  11     11.0  mulher     18    4           5.0         12.0             2.0   \n",
              "3  11     11.0   homem      6    4           1.0          0.0             NaN   \n",
              "4  11     11.0   homem     55    4           2.0          1.0             2.0   \n",
              "\n",
              "   ocupado  tipo_ocupacao  atividade  renda_trabalho  \n",
              "0      1.0            1.0        9.0          2100.0  \n",
              "1      NaN            NaN        NaN             NaN  \n",
              "2      NaN            NaN        NaN             NaN  \n",
              "3      NaN            NaN        NaN             NaN  \n",
              "4      NaN            NaN        NaN             NaN  "
            ],
            "text/html": [
              "\n",
              "  <div id=\"df-4cdb825e-1531-4775-8a5b-32ecbd830dcc\">\n",
              "    <div class=\"colab-df-container\">\n",
              "      <div>\n",
              "<style scoped>\n",
              "    .dataframe tbody tr th:only-of-type {\n",
              "        vertical-align: middle;\n",
              "    }\n",
              "\n",
              "    .dataframe tbody tr th {\n",
              "        vertical-align: top;\n",
              "    }\n",
              "\n",
              "    .dataframe thead th {\n",
              "        text-align: right;\n",
              "    }\n",
              "</style>\n",
              "<table border=\"1\" class=\"dataframe\">\n",
              "  <thead>\n",
              "    <tr style=\"text-align: right;\">\n",
              "      <th></th>\n",
              "      <th>UF</th>\n",
              "      <th>Capital</th>\n",
              "      <th>sexo</th>\n",
              "      <th>idade</th>\n",
              "      <th>cor</th>\n",
              "      <th>escolaridade</th>\n",
              "      <th>anos_estudo</th>\n",
              "      <th>forca_trabalho</th>\n",
              "      <th>ocupado</th>\n",
              "      <th>tipo_ocupacao</th>\n",
              "      <th>atividade</th>\n",
              "      <th>renda_trabalho</th>\n",
              "    </tr>\n",
              "  </thead>\n",
              "  <tbody>\n",
              "    <tr>\n",
              "      <th>0</th>\n",
              "      <td>11</td>\n",
              "      <td>11.0</td>\n",
              "      <td>mulher</td>\n",
              "      <td>45</td>\n",
              "      <td>4</td>\n",
              "      <td>5.0</td>\n",
              "      <td>12.0</td>\n",
              "      <td>1.0</td>\n",
              "      <td>1.0</td>\n",
              "      <td>1.0</td>\n",
              "      <td>9.0</td>\n",
              "      <td>2100.0</td>\n",
              "    </tr>\n",
              "    <tr>\n",
              "      <th>1</th>\n",
              "      <td>11</td>\n",
              "      <td>11.0</td>\n",
              "      <td>mulher</td>\n",
              "      <td>27</td>\n",
              "      <td>4</td>\n",
              "      <td>5.0</td>\n",
              "      <td>12.0</td>\n",
              "      <td>2.0</td>\n",
              "      <td>NaN</td>\n",
              "      <td>NaN</td>\n",
              "      <td>NaN</td>\n",
              "      <td>NaN</td>\n",
              "    </tr>\n",
              "    <tr>\n",
              "      <th>2</th>\n",
              "      <td>11</td>\n",
              "      <td>11.0</td>\n",
              "      <td>mulher</td>\n",
              "      <td>18</td>\n",
              "      <td>4</td>\n",
              "      <td>5.0</td>\n",
              "      <td>12.0</td>\n",
              "      <td>2.0</td>\n",
              "      <td>NaN</td>\n",
              "      <td>NaN</td>\n",
              "      <td>NaN</td>\n",
              "      <td>NaN</td>\n",
              "    </tr>\n",
              "    <tr>\n",
              "      <th>3</th>\n",
              "      <td>11</td>\n",
              "      <td>11.0</td>\n",
              "      <td>homem</td>\n",
              "      <td>6</td>\n",
              "      <td>4</td>\n",
              "      <td>1.0</td>\n",
              "      <td>0.0</td>\n",
              "      <td>NaN</td>\n",
              "      <td>NaN</td>\n",
              "      <td>NaN</td>\n",
              "      <td>NaN</td>\n",
              "      <td>NaN</td>\n",
              "    </tr>\n",
              "    <tr>\n",
              "      <th>4</th>\n",
              "      <td>11</td>\n",
              "      <td>11.0</td>\n",
              "      <td>homem</td>\n",
              "      <td>55</td>\n",
              "      <td>4</td>\n",
              "      <td>2.0</td>\n",
              "      <td>1.0</td>\n",
              "      <td>2.0</td>\n",
              "      <td>NaN</td>\n",
              "      <td>NaN</td>\n",
              "      <td>NaN</td>\n",
              "      <td>NaN</td>\n",
              "    </tr>\n",
              "  </tbody>\n",
              "</table>\n",
              "</div>\n",
              "      <button class=\"colab-df-convert\" onclick=\"convertToInteractive('df-4cdb825e-1531-4775-8a5b-32ecbd830dcc')\"\n",
              "              title=\"Convert this dataframe to an interactive table.\"\n",
              "              style=\"display:none;\">\n",
              "        \n",
              "  <svg xmlns=\"http://www.w3.org/2000/svg\" height=\"24px\"viewBox=\"0 0 24 24\"\n",
              "       width=\"24px\">\n",
              "    <path d=\"M0 0h24v24H0V0z\" fill=\"none\"/>\n",
              "    <path d=\"M18.56 5.44l.94 2.06.94-2.06 2.06-.94-2.06-.94-.94-2.06-.94 2.06-2.06.94zm-11 1L8.5 8.5l.94-2.06 2.06-.94-2.06-.94L8.5 2.5l-.94 2.06-2.06.94zm10 10l.94 2.06.94-2.06 2.06-.94-2.06-.94-.94-2.06-.94 2.06-2.06.94z\"/><path d=\"M17.41 7.96l-1.37-1.37c-.4-.4-.92-.59-1.43-.59-.52 0-1.04.2-1.43.59L10.3 9.45l-7.72 7.72c-.78.78-.78 2.05 0 2.83L4 21.41c.39.39.9.59 1.41.59.51 0 1.02-.2 1.41-.59l7.78-7.78 2.81-2.81c.8-.78.8-2.07 0-2.86zM5.41 20L4 18.59l7.72-7.72 1.47 1.35L5.41 20z\"/>\n",
              "  </svg>\n",
              "      </button>\n",
              "      \n",
              "  <style>\n",
              "    .colab-df-container {\n",
              "      display:flex;\n",
              "      flex-wrap:wrap;\n",
              "      gap: 12px;\n",
              "    }\n",
              "\n",
              "    .colab-df-convert {\n",
              "      background-color: #E8F0FE;\n",
              "      border: none;\n",
              "      border-radius: 50%;\n",
              "      cursor: pointer;\n",
              "      display: none;\n",
              "      fill: #1967D2;\n",
              "      height: 32px;\n",
              "      padding: 0 0 0 0;\n",
              "      width: 32px;\n",
              "    }\n",
              "\n",
              "    .colab-df-convert:hover {\n",
              "      background-color: #E2EBFA;\n",
              "      box-shadow: 0px 1px 2px rgba(60, 64, 67, 0.3), 0px 1px 3px 1px rgba(60, 64, 67, 0.15);\n",
              "      fill: #174EA6;\n",
              "    }\n",
              "\n",
              "    [theme=dark] .colab-df-convert {\n",
              "      background-color: #3B4455;\n",
              "      fill: #D2E3FC;\n",
              "    }\n",
              "\n",
              "    [theme=dark] .colab-df-convert:hover {\n",
              "      background-color: #434B5C;\n",
              "      box-shadow: 0px 1px 3px 1px rgba(0, 0, 0, 0.15);\n",
              "      filter: drop-shadow(0px 1px 2px rgba(0, 0, 0, 0.3));\n",
              "      fill: #FFFFFF;\n",
              "    }\n",
              "  </style>\n",
              "\n",
              "      <script>\n",
              "        const buttonEl =\n",
              "          document.querySelector('#df-4cdb825e-1531-4775-8a5b-32ecbd830dcc button.colab-df-convert');\n",
              "        buttonEl.style.display =\n",
              "          google.colab.kernel.accessAllowed ? 'block' : 'none';\n",
              "\n",
              "        async function convertToInteractive(key) {\n",
              "          const element = document.querySelector('#df-4cdb825e-1531-4775-8a5b-32ecbd830dcc');\n",
              "          const dataTable =\n",
              "            await google.colab.kernel.invokeFunction('convertToInteractive',\n",
              "                                                     [key], {});\n",
              "          if (!dataTable) return;\n",
              "\n",
              "          const docLinkHtml = 'Like what you see? Visit the ' +\n",
              "            '<a target=\"_blank\" href=https://colab.research.google.com/notebooks/data_table.ipynb>data table notebook</a>'\n",
              "            + ' to learn more about interactive tables.';\n",
              "          element.innerHTML = '';\n",
              "          dataTable['output_type'] = 'display_data';\n",
              "          await google.colab.output.renderOutput(dataTable, element);\n",
              "          const docLink = document.createElement('div');\n",
              "          docLink.innerHTML = docLinkHtml;\n",
              "          element.appendChild(docLink);\n",
              "        }\n",
              "      </script>\n",
              "    </div>\n",
              "  </div>\n",
              "  "
            ]
          },
          "metadata": {},
          "execution_count": 9
        }
      ],
      "source": [
        "# Usar o map para atribuir rótulos para a variável categórica;\n",
        "dfpnadc['sexo'] = dfpnadc['sexo'].map({1:'homem', 2:'mulher'})\n",
        "\n",
        "# Visualizar\n",
        "dfpnadc.head()"
      ]
    },
    {
      "cell_type": "markdown",
      "source": [
        "Vamos aplicar o método `map` para atribuir rótulos à variável 'cor'"
      ],
      "metadata": {
        "id": "XIT5UMvNwnP2"
      }
    },
    {
      "cell_type": "code",
      "execution_count": 10,
      "metadata": {
        "id": "NXewYIJMnngV"
      },
      "outputs": [],
      "source": [
        "# Usar o map para atribuir rótulos para a variável categórica;\n",
        "dfpnadc['cor'] = dfpnadc['cor'].map({1:'branca', 2:'preta', 3:'amarela', 4:'parda', 5:'indigena', 9:'ignorado'})"
      ]
    },
    {
      "cell_type": "markdown",
      "metadata": {
        "id": "wWY3rUz_nngV"
      },
      "source": [
        "#### Verificando valores ausentes (missing values) nas variáveis\n",
        "\n",
        "É possível verificar a presença de algumas entradas na base `NaN` (Not a Number). São valores ausentes (por diversas razões) na nossa base.\n",
        "\n",
        "O método `isnull` retorna valores booleanos indicando dados ausentes (TRUE) ou não (FALSE)."
      ]
    },
    {
      "cell_type": "code",
      "execution_count": 11,
      "metadata": {
        "id": "QCVZA_PNnngV",
        "outputId": "f0d37404-1c3e-45d2-d88c-42c6f2f787b7",
        "colab": {
          "base_uri": "https://localhost:8080/",
          "height": 424
        }
      },
      "outputs": [
        {
          "output_type": "execute_result",
          "data": {
            "text/plain": [
              "           UF  Capital   sexo  idade    cor  escolaridade  anos_estudo  \\\n",
              "0       False    False  False  False  False         False        False   \n",
              "1       False    False  False  False  False         False        False   \n",
              "2       False    False  False  False  False         False        False   \n",
              "3       False    False  False  False  False         False        False   \n",
              "4       False    False  False  False  False         False        False   \n",
              "...       ...      ...    ...    ...    ...           ...          ...   \n",
              "542797  False    False  False  False  False         False        False   \n",
              "542798  False    False  False  False  False         False        False   \n",
              "542799  False    False  False  False  False         False        False   \n",
              "542800  False    False  False  False  False         False        False   \n",
              "542801  False    False  False  False  False         False        False   \n",
              "\n",
              "        forca_trabalho  ocupado  tipo_ocupacao  atividade  renda_trabalho  \n",
              "0                False    False          False      False           False  \n",
              "1                False     True           True       True            True  \n",
              "2                False     True           True       True            True  \n",
              "3                 True     True           True       True            True  \n",
              "4                False     True           True       True            True  \n",
              "...                ...      ...            ...        ...             ...  \n",
              "542797           False    False          False      False           False  \n",
              "542798           False     True           True       True            True  \n",
              "542799            True     True           True       True            True  \n",
              "542800           False    False          False      False           False  \n",
              "542801           False     True           True       True            True  \n",
              "\n",
              "[542802 rows x 12 columns]"
            ],
            "text/html": [
              "\n",
              "  <div id=\"df-fd6893f3-f379-4a89-ba72-c9a8a8507d3f\">\n",
              "    <div class=\"colab-df-container\">\n",
              "      <div>\n",
              "<style scoped>\n",
              "    .dataframe tbody tr th:only-of-type {\n",
              "        vertical-align: middle;\n",
              "    }\n",
              "\n",
              "    .dataframe tbody tr th {\n",
              "        vertical-align: top;\n",
              "    }\n",
              "\n",
              "    .dataframe thead th {\n",
              "        text-align: right;\n",
              "    }\n",
              "</style>\n",
              "<table border=\"1\" class=\"dataframe\">\n",
              "  <thead>\n",
              "    <tr style=\"text-align: right;\">\n",
              "      <th></th>\n",
              "      <th>UF</th>\n",
              "      <th>Capital</th>\n",
              "      <th>sexo</th>\n",
              "      <th>idade</th>\n",
              "      <th>cor</th>\n",
              "      <th>escolaridade</th>\n",
              "      <th>anos_estudo</th>\n",
              "      <th>forca_trabalho</th>\n",
              "      <th>ocupado</th>\n",
              "      <th>tipo_ocupacao</th>\n",
              "      <th>atividade</th>\n",
              "      <th>renda_trabalho</th>\n",
              "    </tr>\n",
              "  </thead>\n",
              "  <tbody>\n",
              "    <tr>\n",
              "      <th>0</th>\n",
              "      <td>False</td>\n",
              "      <td>False</td>\n",
              "      <td>False</td>\n",
              "      <td>False</td>\n",
              "      <td>False</td>\n",
              "      <td>False</td>\n",
              "      <td>False</td>\n",
              "      <td>False</td>\n",
              "      <td>False</td>\n",
              "      <td>False</td>\n",
              "      <td>False</td>\n",
              "      <td>False</td>\n",
              "    </tr>\n",
              "    <tr>\n",
              "      <th>1</th>\n",
              "      <td>False</td>\n",
              "      <td>False</td>\n",
              "      <td>False</td>\n",
              "      <td>False</td>\n",
              "      <td>False</td>\n",
              "      <td>False</td>\n",
              "      <td>False</td>\n",
              "      <td>False</td>\n",
              "      <td>True</td>\n",
              "      <td>True</td>\n",
              "      <td>True</td>\n",
              "      <td>True</td>\n",
              "    </tr>\n",
              "    <tr>\n",
              "      <th>2</th>\n",
              "      <td>False</td>\n",
              "      <td>False</td>\n",
              "      <td>False</td>\n",
              "      <td>False</td>\n",
              "      <td>False</td>\n",
              "      <td>False</td>\n",
              "      <td>False</td>\n",
              "      <td>False</td>\n",
              "      <td>True</td>\n",
              "      <td>True</td>\n",
              "      <td>True</td>\n",
              "      <td>True</td>\n",
              "    </tr>\n",
              "    <tr>\n",
              "      <th>3</th>\n",
              "      <td>False</td>\n",
              "      <td>False</td>\n",
              "      <td>False</td>\n",
              "      <td>False</td>\n",
              "      <td>False</td>\n",
              "      <td>False</td>\n",
              "      <td>False</td>\n",
              "      <td>True</td>\n",
              "      <td>True</td>\n",
              "      <td>True</td>\n",
              "      <td>True</td>\n",
              "      <td>True</td>\n",
              "    </tr>\n",
              "    <tr>\n",
              "      <th>4</th>\n",
              "      <td>False</td>\n",
              "      <td>False</td>\n",
              "      <td>False</td>\n",
              "      <td>False</td>\n",
              "      <td>False</td>\n",
              "      <td>False</td>\n",
              "      <td>False</td>\n",
              "      <td>False</td>\n",
              "      <td>True</td>\n",
              "      <td>True</td>\n",
              "      <td>True</td>\n",
              "      <td>True</td>\n",
              "    </tr>\n",
              "    <tr>\n",
              "      <th>...</th>\n",
              "      <td>...</td>\n",
              "      <td>...</td>\n",
              "      <td>...</td>\n",
              "      <td>...</td>\n",
              "      <td>...</td>\n",
              "      <td>...</td>\n",
              "      <td>...</td>\n",
              "      <td>...</td>\n",
              "      <td>...</td>\n",
              "      <td>...</td>\n",
              "      <td>...</td>\n",
              "      <td>...</td>\n",
              "    </tr>\n",
              "    <tr>\n",
              "      <th>542797</th>\n",
              "      <td>False</td>\n",
              "      <td>False</td>\n",
              "      <td>False</td>\n",
              "      <td>False</td>\n",
              "      <td>False</td>\n",
              "      <td>False</td>\n",
              "      <td>False</td>\n",
              "      <td>False</td>\n",
              "      <td>False</td>\n",
              "      <td>False</td>\n",
              "      <td>False</td>\n",
              "      <td>False</td>\n",
              "    </tr>\n",
              "    <tr>\n",
              "      <th>542798</th>\n",
              "      <td>False</td>\n",
              "      <td>False</td>\n",
              "      <td>False</td>\n",
              "      <td>False</td>\n",
              "      <td>False</td>\n",
              "      <td>False</td>\n",
              "      <td>False</td>\n",
              "      <td>False</td>\n",
              "      <td>True</td>\n",
              "      <td>True</td>\n",
              "      <td>True</td>\n",
              "      <td>True</td>\n",
              "    </tr>\n",
              "    <tr>\n",
              "      <th>542799</th>\n",
              "      <td>False</td>\n",
              "      <td>False</td>\n",
              "      <td>False</td>\n",
              "      <td>False</td>\n",
              "      <td>False</td>\n",
              "      <td>False</td>\n",
              "      <td>False</td>\n",
              "      <td>True</td>\n",
              "      <td>True</td>\n",
              "      <td>True</td>\n",
              "      <td>True</td>\n",
              "      <td>True</td>\n",
              "    </tr>\n",
              "    <tr>\n",
              "      <th>542800</th>\n",
              "      <td>False</td>\n",
              "      <td>False</td>\n",
              "      <td>False</td>\n",
              "      <td>False</td>\n",
              "      <td>False</td>\n",
              "      <td>False</td>\n",
              "      <td>False</td>\n",
              "      <td>False</td>\n",
              "      <td>False</td>\n",
              "      <td>False</td>\n",
              "      <td>False</td>\n",
              "      <td>False</td>\n",
              "    </tr>\n",
              "    <tr>\n",
              "      <th>542801</th>\n",
              "      <td>False</td>\n",
              "      <td>False</td>\n",
              "      <td>False</td>\n",
              "      <td>False</td>\n",
              "      <td>False</td>\n",
              "      <td>False</td>\n",
              "      <td>False</td>\n",
              "      <td>False</td>\n",
              "      <td>True</td>\n",
              "      <td>True</td>\n",
              "      <td>True</td>\n",
              "      <td>True</td>\n",
              "    </tr>\n",
              "  </tbody>\n",
              "</table>\n",
              "<p>542802 rows × 12 columns</p>\n",
              "</div>\n",
              "      <button class=\"colab-df-convert\" onclick=\"convertToInteractive('df-fd6893f3-f379-4a89-ba72-c9a8a8507d3f')\"\n",
              "              title=\"Convert this dataframe to an interactive table.\"\n",
              "              style=\"display:none;\">\n",
              "        \n",
              "  <svg xmlns=\"http://www.w3.org/2000/svg\" height=\"24px\"viewBox=\"0 0 24 24\"\n",
              "       width=\"24px\">\n",
              "    <path d=\"M0 0h24v24H0V0z\" fill=\"none\"/>\n",
              "    <path d=\"M18.56 5.44l.94 2.06.94-2.06 2.06-.94-2.06-.94-.94-2.06-.94 2.06-2.06.94zm-11 1L8.5 8.5l.94-2.06 2.06-.94-2.06-.94L8.5 2.5l-.94 2.06-2.06.94zm10 10l.94 2.06.94-2.06 2.06-.94-2.06-.94-.94-2.06-.94 2.06-2.06.94z\"/><path d=\"M17.41 7.96l-1.37-1.37c-.4-.4-.92-.59-1.43-.59-.52 0-1.04.2-1.43.59L10.3 9.45l-7.72 7.72c-.78.78-.78 2.05 0 2.83L4 21.41c.39.39.9.59 1.41.59.51 0 1.02-.2 1.41-.59l7.78-7.78 2.81-2.81c.8-.78.8-2.07 0-2.86zM5.41 20L4 18.59l7.72-7.72 1.47 1.35L5.41 20z\"/>\n",
              "  </svg>\n",
              "      </button>\n",
              "      \n",
              "  <style>\n",
              "    .colab-df-container {\n",
              "      display:flex;\n",
              "      flex-wrap:wrap;\n",
              "      gap: 12px;\n",
              "    }\n",
              "\n",
              "    .colab-df-convert {\n",
              "      background-color: #E8F0FE;\n",
              "      border: none;\n",
              "      border-radius: 50%;\n",
              "      cursor: pointer;\n",
              "      display: none;\n",
              "      fill: #1967D2;\n",
              "      height: 32px;\n",
              "      padding: 0 0 0 0;\n",
              "      width: 32px;\n",
              "    }\n",
              "\n",
              "    .colab-df-convert:hover {\n",
              "      background-color: #E2EBFA;\n",
              "      box-shadow: 0px 1px 2px rgba(60, 64, 67, 0.3), 0px 1px 3px 1px rgba(60, 64, 67, 0.15);\n",
              "      fill: #174EA6;\n",
              "    }\n",
              "\n",
              "    [theme=dark] .colab-df-convert {\n",
              "      background-color: #3B4455;\n",
              "      fill: #D2E3FC;\n",
              "    }\n",
              "\n",
              "    [theme=dark] .colab-df-convert:hover {\n",
              "      background-color: #434B5C;\n",
              "      box-shadow: 0px 1px 3px 1px rgba(0, 0, 0, 0.15);\n",
              "      filter: drop-shadow(0px 1px 2px rgba(0, 0, 0, 0.3));\n",
              "      fill: #FFFFFF;\n",
              "    }\n",
              "  </style>\n",
              "\n",
              "      <script>\n",
              "        const buttonEl =\n",
              "          document.querySelector('#df-fd6893f3-f379-4a89-ba72-c9a8a8507d3f button.colab-df-convert');\n",
              "        buttonEl.style.display =\n",
              "          google.colab.kernel.accessAllowed ? 'block' : 'none';\n",
              "\n",
              "        async function convertToInteractive(key) {\n",
              "          const element = document.querySelector('#df-fd6893f3-f379-4a89-ba72-c9a8a8507d3f');\n",
              "          const dataTable =\n",
              "            await google.colab.kernel.invokeFunction('convertToInteractive',\n",
              "                                                     [key], {});\n",
              "          if (!dataTable) return;\n",
              "\n",
              "          const docLinkHtml = 'Like what you see? Visit the ' +\n",
              "            '<a target=\"_blank\" href=https://colab.research.google.com/notebooks/data_table.ipynb>data table notebook</a>'\n",
              "            + ' to learn more about interactive tables.';\n",
              "          element.innerHTML = '';\n",
              "          dataTable['output_type'] = 'display_data';\n",
              "          await google.colab.output.renderOutput(dataTable, element);\n",
              "          const docLink = document.createElement('div');\n",
              "          docLink.innerHTML = docLinkHtml;\n",
              "          element.appendChild(docLink);\n",
              "        }\n",
              "      </script>\n",
              "    </div>\n",
              "  </div>\n",
              "  "
            ]
          },
          "metadata": {},
          "execution_count": 11
        }
      ],
      "source": [
        "# Aplicando o método 'isnull' para rotular dados faltantes.\n",
        "dfpnadc.isnull()"
      ]
    },
    {
      "cell_type": "markdown",
      "metadata": {
        "id": "20OFknC8nngV"
      },
      "source": [
        "Podemos conciliar os métodos `isnull` e `sum` para termos a quantidade de valores faltantes em cada variável.\n",
        "Algumas destas variaveis apresentam valores faltantes pelo fato da informação não ser aplicavél.\n",
        "Em outros casos, o dado faltante representa a verdadeira ausência da informação, como o caso da renda do trabalho para uma pessoa que não está ocupada."
      ]
    },
    {
      "cell_type": "code",
      "execution_count": 12,
      "metadata": {
        "id": "iXLgj143nngW",
        "outputId": "99f432ae-e713-45c9-ca2d-0997a66336d1",
        "colab": {
          "base_uri": "https://localhost:8080/"
        }
      },
      "outputs": [
        {
          "output_type": "execute_result",
          "data": {
            "text/plain": [
              "UF                     0\n",
              "Capital           418414\n",
              "sexo                   0\n",
              "idade                  0\n",
              "cor                    0\n",
              "escolaridade       33956\n",
              "anos_estudo        33956\n",
              "forca_trabalho    102952\n",
              "ocupado           284483\n",
              "tipo_ocupacao     311517\n",
              "atividade         311517\n",
              "renda_trabalho    319626\n",
              "dtype: int64"
            ]
          },
          "metadata": {},
          "execution_count": 12
        }
      ],
      "source": [
        "# Quantidade de valores faltantes combinando 'isnull' e 'sum'\n",
        "dfpnadc.isnull().sum()"
      ]
    },
    {
      "cell_type": "markdown",
      "metadata": {
        "id": "6yzeFF8GnngW"
      },
      "source": [
        "Podemos também obter a proporção de valores faltantes em cada variável."
      ]
    },
    {
      "cell_type": "code",
      "execution_count": 13,
      "metadata": {
        "id": "ZKp4BDJgnngW",
        "outputId": "f338c5c8-f7b9-49f9-ed4c-4ab5edaf4a8a",
        "colab": {
          "base_uri": "https://localhost:8080/"
        }
      },
      "outputs": [
        {
          "output_type": "execute_result",
          "data": {
            "text/plain": [
              "UF                 0.000000\n",
              "Capital           77.084093\n",
              "sexo               0.000000\n",
              "idade              0.000000\n",
              "cor                0.000000\n",
              "escolaridade       6.255688\n",
              "anos_estudo        6.255688\n",
              "forca_trabalho    18.966769\n",
              "ocupado           52.410087\n",
              "tipo_ocupacao     57.390540\n",
              "atividade         57.390540\n",
              "renda_trabalho    58.884455\n",
              "dtype: float64"
            ]
          },
          "metadata": {},
          "execution_count": 13
        }
      ],
      "source": [
        "# Proporção de valores faltantes\n",
        "(dfpnadc.isnull().sum() / dfpnadc.shape[0])*100"
      ]
    },
    {
      "cell_type": "markdown",
      "metadata": {
        "id": "TrJ-uw6unngW"
      },
      "source": [
        "Note que a variável capital possui mais de 77% de dados faltantes. Nesse caso, a razão é simples: são domicílios que compõem a amostra localizados fora do município da capital.\n",
        "Por sua vez, variáveis de mercado de trabalho possuem muitos valores faltantes porque as questões da pesquisa nesta área não se aplicam a todos os entrevistados. A participação na força de trabalho, por exemplo, só se aplica para pessoa em idade para trabalhar (com exceção dos casos de trabalho infantil).\n",
        "A renda do trabalho só será respondida por quem está ocupado e possui rendimentos. E ainda há a possibilidade de uma pessoa ocupada simplesmente omitir o valor dos seus rendimentos.\n",
        "\n",
        "Podemos ter várias razões para dados ausentes, e isso deve ser analisado no contexto de cada base de dados."
      ]
    },
    {
      "cell_type": "markdown",
      "metadata": {
        "id": "NZJY1uKPnngW"
      },
      "source": [
        "### Análise descritiva dos dados\n",
        "\n",
        "Um dos principais objetivos da AED é apresentar os dados de forma sistematizada.\n",
        "Podemos aplicar técnicas de estatística descritiva para análisar os dados.\n",
        "\n",
        "Vamos analisar inicialmente algumas variáveis categóricas como **sexo** e **cor**.\n",
        "\n",
        "Para esse propósito (analisar variáveis categóricas), o método `.value_counts()` é muito útil, pois realiza a contagem de valores exclusivos."
      ]
    },
    {
      "cell_type": "code",
      "execution_count": 14,
      "metadata": {
        "id": "TzTPITppnngW",
        "outputId": "845f6bcc-4c4b-44b8-d9dc-a37c1ea0a8e2",
        "colab": {
          "base_uri": "https://localhost:8080/"
        }
      },
      "outputs": [
        {
          "output_type": "execute_result",
          "data": {
            "text/plain": [
              "mulher    278277\n",
              "homem     264525\n",
              "Name: sexo, dtype: int64"
            ]
          },
          "metadata": {},
          "execution_count": 14
        }
      ],
      "source": [
        "# Contando valores absolutos - frequência\n",
        "dfpnadc['sexo'].value_counts()  #Alternativamente podemos usar o comando dfpnadc.sexo.value_counts()"
      ]
    },
    {
      "cell_type": "code",
      "execution_count": 15,
      "metadata": {
        "id": "8z6Gqat7nngX",
        "outputId": "c6754af4-0b31-4b03-8c48-88f64054577c",
        "colab": {
          "base_uri": "https://localhost:8080/"
        }
      },
      "outputs": [
        {
          "output_type": "execute_result",
          "data": {
            "text/plain": [
              "mulher    51.26676\n",
              "homem     48.73324\n",
              "Name: sexo, dtype: float64"
            ]
          },
          "metadata": {},
          "execution_count": 15
        }
      ],
      "source": [
        "# Distribuição - frequência relativa\n",
        "dfpnadc['sexo'].value_counts(normalize = True) * 100"
      ]
    },
    {
      "cell_type": "markdown",
      "metadata": {
        "id": "c53AH7sGnngX"
      },
      "source": [
        "Vamos repetir estas operações atribuindo \"rótulos\" para os dados."
      ]
    },
    {
      "cell_type": "code",
      "execution_count": 16,
      "metadata": {
        "id": "aehQxVH6nngX"
      },
      "outputs": [],
      "source": [
        "freq_sexo = dfpnadc['sexo'].value_counts()\n",
        "dist_sexo = dfpnadc['sexo'].value_counts(normalize = True) * 100"
      ]
    },
    {
      "cell_type": "markdown",
      "metadata": {
        "id": "-ULacUmlnngX"
      },
      "source": [
        "Agora vamos contruir uma tabela (um \"pequeno DataFrame\") com as informações acima:"
      ]
    },
    {
      "cell_type": "code",
      "execution_count": 17,
      "metadata": {
        "id": "LfSLJFN0nngX",
        "outputId": "481af3ce-a9a2-4b39-c5dc-cf0b8fb57032",
        "colab": {
          "base_uri": "https://localhost:8080/",
          "height": 112
        }
      },
      "outputs": [
        {
          "output_type": "execute_result",
          "data": {
            "text/plain": [
              "        Frequência  Percentual (%)\n",
              "mulher      278277        51.26676\n",
              "homem       264525        48.73324"
            ],
            "text/html": [
              "\n",
              "  <div id=\"df-25c8d315-817c-47ec-a8f8-c1d38bf176e1\">\n",
              "    <div class=\"colab-df-container\">\n",
              "      <div>\n",
              "<style scoped>\n",
              "    .dataframe tbody tr th:only-of-type {\n",
              "        vertical-align: middle;\n",
              "    }\n",
              "\n",
              "    .dataframe tbody tr th {\n",
              "        vertical-align: top;\n",
              "    }\n",
              "\n",
              "    .dataframe thead th {\n",
              "        text-align: right;\n",
              "    }\n",
              "</style>\n",
              "<table border=\"1\" class=\"dataframe\">\n",
              "  <thead>\n",
              "    <tr style=\"text-align: right;\">\n",
              "      <th></th>\n",
              "      <th>Frequência</th>\n",
              "      <th>Percentual (%)</th>\n",
              "    </tr>\n",
              "  </thead>\n",
              "  <tbody>\n",
              "    <tr>\n",
              "      <th>mulher</th>\n",
              "      <td>278277</td>\n",
              "      <td>51.26676</td>\n",
              "    </tr>\n",
              "    <tr>\n",
              "      <th>homem</th>\n",
              "      <td>264525</td>\n",
              "      <td>48.73324</td>\n",
              "    </tr>\n",
              "  </tbody>\n",
              "</table>\n",
              "</div>\n",
              "      <button class=\"colab-df-convert\" onclick=\"convertToInteractive('df-25c8d315-817c-47ec-a8f8-c1d38bf176e1')\"\n",
              "              title=\"Convert this dataframe to an interactive table.\"\n",
              "              style=\"display:none;\">\n",
              "        \n",
              "  <svg xmlns=\"http://www.w3.org/2000/svg\" height=\"24px\"viewBox=\"0 0 24 24\"\n",
              "       width=\"24px\">\n",
              "    <path d=\"M0 0h24v24H0V0z\" fill=\"none\"/>\n",
              "    <path d=\"M18.56 5.44l.94 2.06.94-2.06 2.06-.94-2.06-.94-.94-2.06-.94 2.06-2.06.94zm-11 1L8.5 8.5l.94-2.06 2.06-.94-2.06-.94L8.5 2.5l-.94 2.06-2.06.94zm10 10l.94 2.06.94-2.06 2.06-.94-2.06-.94-.94-2.06-.94 2.06-2.06.94z\"/><path d=\"M17.41 7.96l-1.37-1.37c-.4-.4-.92-.59-1.43-.59-.52 0-1.04.2-1.43.59L10.3 9.45l-7.72 7.72c-.78.78-.78 2.05 0 2.83L4 21.41c.39.39.9.59 1.41.59.51 0 1.02-.2 1.41-.59l7.78-7.78 2.81-2.81c.8-.78.8-2.07 0-2.86zM5.41 20L4 18.59l7.72-7.72 1.47 1.35L5.41 20z\"/>\n",
              "  </svg>\n",
              "      </button>\n",
              "      \n",
              "  <style>\n",
              "    .colab-df-container {\n",
              "      display:flex;\n",
              "      flex-wrap:wrap;\n",
              "      gap: 12px;\n",
              "    }\n",
              "\n",
              "    .colab-df-convert {\n",
              "      background-color: #E8F0FE;\n",
              "      border: none;\n",
              "      border-radius: 50%;\n",
              "      cursor: pointer;\n",
              "      display: none;\n",
              "      fill: #1967D2;\n",
              "      height: 32px;\n",
              "      padding: 0 0 0 0;\n",
              "      width: 32px;\n",
              "    }\n",
              "\n",
              "    .colab-df-convert:hover {\n",
              "      background-color: #E2EBFA;\n",
              "      box-shadow: 0px 1px 2px rgba(60, 64, 67, 0.3), 0px 1px 3px 1px rgba(60, 64, 67, 0.15);\n",
              "      fill: #174EA6;\n",
              "    }\n",
              "\n",
              "    [theme=dark] .colab-df-convert {\n",
              "      background-color: #3B4455;\n",
              "      fill: #D2E3FC;\n",
              "    }\n",
              "\n",
              "    [theme=dark] .colab-df-convert:hover {\n",
              "      background-color: #434B5C;\n",
              "      box-shadow: 0px 1px 3px 1px rgba(0, 0, 0, 0.15);\n",
              "      filter: drop-shadow(0px 1px 2px rgba(0, 0, 0, 0.3));\n",
              "      fill: #FFFFFF;\n",
              "    }\n",
              "  </style>\n",
              "\n",
              "      <script>\n",
              "        const buttonEl =\n",
              "          document.querySelector('#df-25c8d315-817c-47ec-a8f8-c1d38bf176e1 button.colab-df-convert');\n",
              "        buttonEl.style.display =\n",
              "          google.colab.kernel.accessAllowed ? 'block' : 'none';\n",
              "\n",
              "        async function convertToInteractive(key) {\n",
              "          const element = document.querySelector('#df-25c8d315-817c-47ec-a8f8-c1d38bf176e1');\n",
              "          const dataTable =\n",
              "            await google.colab.kernel.invokeFunction('convertToInteractive',\n",
              "                                                     [key], {});\n",
              "          if (!dataTable) return;\n",
              "\n",
              "          const docLinkHtml = 'Like what you see? Visit the ' +\n",
              "            '<a target=\"_blank\" href=https://colab.research.google.com/notebooks/data_table.ipynb>data table notebook</a>'\n",
              "            + ' to learn more about interactive tables.';\n",
              "          element.innerHTML = '';\n",
              "          dataTable['output_type'] = 'display_data';\n",
              "          await google.colab.output.renderOutput(dataTable, element);\n",
              "          const docLink = document.createElement('div');\n",
              "          docLink.innerHTML = docLinkHtml;\n",
              "          element.appendChild(docLink);\n",
              "        }\n",
              "      </script>\n",
              "    </div>\n",
              "  </div>\n",
              "  "
            ]
          },
          "metadata": {},
          "execution_count": 17
        }
      ],
      "source": [
        "df_sexo = pd.DataFrame({'Frequência': freq_sexo, 'Percentual (%)': dist_sexo})\n",
        "df_sexo"
      ]
    },
    {
      "cell_type": "markdown",
      "source": [
        "Vamos visualizar essa informação em um gráfico de pizza (Ok, usaremos um gráfico de pizza aqui; mas não recomendo que abuse deste gráfico em suas análises)."
      ],
      "metadata": {
        "id": "QToSY0i8y4nr"
      }
    },
    {
      "cell_type": "code",
      "source": [
        "# Gráfico de pizza com Matplotlib\n",
        "plt.pie(df_sexo['Percentual (%)'], labels=df_sexo.index);"
      ],
      "metadata": {
        "colab": {
          "base_uri": "https://localhost:8080/",
          "height": 248
        },
        "id": "PL4ULs49yOp3",
        "outputId": "eec4ffe8-3555-4a7a-bb49-6bdacb603978"
      },
      "execution_count": 18,
      "outputs": [
        {
          "output_type": "display_data",
          "data": {
            "text/plain": [
              "<Figure size 432x288 with 1 Axes>"
            ],
            "image/png": "[encoded data removed]"
          },
          "metadata": {}
        }
      ]
    },
    {
      "cell_type": "markdown",
      "metadata": {
        "id": "837JmQOAnngX"
      },
      "source": [
        "Vamos aplicar esta mesma análise para a variável **cor**."
      ]
    },
    {
      "cell_type": "code",
      "execution_count": 19,
      "metadata": {
        "id": "JsNRPn4hnngY",
        "outputId": "c683aae3-c2a0-42fc-ebfe-43536256ba10",
        "colab": {
          "base_uri": "https://localhost:8080/",
          "height": 237
        }
      },
      "outputs": [
        {
          "output_type": "execute_result",
          "data": {
            "text/plain": [
              "          Frequência  Percentual (%)\n",
              "parda         283365       52.204119\n",
              "branca        206447       38.033574\n",
              "preta          47596        8.768575\n",
              "amarela         2689        0.495392\n",
              "indigena        2620        0.482681\n",
              "ignorado          85        0.015659"
            ],
            "text/html": [
              "\n",
              "  <div id=\"df-b1b0aef1-d863-46a5-abe3-67442f2797fb\">\n",
              "    <div class=\"colab-df-container\">\n",
              "      <div>\n",
              "<style scoped>\n",
              "    .dataframe tbody tr th:only-of-type {\n",
              "        vertical-align: middle;\n",
              "    }\n",
              "\n",
              "    .dataframe tbody tr th {\n",
              "        vertical-align: top;\n",
              "    }\n",
              "\n",
              "    .dataframe thead th {\n",
              "        text-align: right;\n",
              "    }\n",
              "</style>\n",
              "<table border=\"1\" class=\"dataframe\">\n",
              "  <thead>\n",
              "    <tr style=\"text-align: right;\">\n",
              "      <th></th>\n",
              "      <th>Frequência</th>\n",
              "      <th>Percentual (%)</th>\n",
              "    </tr>\n",
              "  </thead>\n",
              "  <tbody>\n",
              "    <tr>\n",
              "      <th>parda</th>\n",
              "      <td>283365</td>\n",
              "      <td>52.204119</td>\n",
              "    </tr>\n",
              "    <tr>\n",
              "      <th>branca</th>\n",
              "      <td>206447</td>\n",
              "      <td>38.033574</td>\n",
              "    </tr>\n",
              "    <tr>\n",
              "      <th>preta</th>\n",
              "      <td>47596</td>\n",
              "      <td>8.768575</td>\n",
              "    </tr>\n",
              "    <tr>\n",
              "      <th>amarela</th>\n",
              "      <td>2689</td>\n",
              "      <td>0.495392</td>\n",
              "    </tr>\n",
              "    <tr>\n",
              "      <th>indigena</th>\n",
              "      <td>2620</td>\n",
              "      <td>0.482681</td>\n",
              "    </tr>\n",
              "    <tr>\n",
              "      <th>ignorado</th>\n",
              "      <td>85</td>\n",
              "      <td>0.015659</td>\n",
              "    </tr>\n",
              "  </tbody>\n",
              "</table>\n",
              "</div>\n",
              "      <button class=\"colab-df-convert\" onclick=\"convertToInteractive('df-b1b0aef1-d863-46a5-abe3-67442f2797fb')\"\n",
              "              title=\"Convert this dataframe to an interactive table.\"\n",
              "              style=\"display:none;\">\n",
              "        \n",
              "  <svg xmlns=\"http://www.w3.org/2000/svg\" height=\"24px\"viewBox=\"0 0 24 24\"\n",
              "       width=\"24px\">\n",
              "    <path d=\"M0 0h24v24H0V0z\" fill=\"none\"/>\n",
              "    <path d=\"M18.56 5.44l.94 2.06.94-2.06 2.06-.94-2.06-.94-.94-2.06-.94 2.06-2.06.94zm-11 1L8.5 8.5l.94-2.06 2.06-.94-2.06-.94L8.5 2.5l-.94 2.06-2.06.94zm10 10l.94 2.06.94-2.06 2.06-.94-2.06-.94-.94-2.06-.94 2.06-2.06.94z\"/><path d=\"M17.41 7.96l-1.37-1.37c-.4-.4-.92-.59-1.43-.59-.52 0-1.04.2-1.43.59L10.3 9.45l-7.72 7.72c-.78.78-.78 2.05 0 2.83L4 21.41c.39.39.9.59 1.41.59.51 0 1.02-.2 1.41-.59l7.78-7.78 2.81-2.81c.8-.78.8-2.07 0-2.86zM5.41 20L4 18.59l7.72-7.72 1.47 1.35L5.41 20z\"/>\n",
              "  </svg>\n",
              "      </button>\n",
              "      \n",
              "  <style>\n",
              "    .colab-df-container {\n",
              "      display:flex;\n",
              "      flex-wrap:wrap;\n",
              "      gap: 12px;\n",
              "    }\n",
              "\n",
              "    .colab-df-convert {\n",
              "      background-color: #E8F0FE;\n",
              "      border: none;\n",
              "      border-radius: 50%;\n",
              "      cursor: pointer;\n",
              "      display: none;\n",
              "      fill: #1967D2;\n",
              "      height: 32px;\n",
              "      padding: 0 0 0 0;\n",
              "      width: 32px;\n",
              "    }\n",
              "\n",
              "    .colab-df-convert:hover {\n",
              "      background-color: #E2EBFA;\n",
              "      box-shadow: 0px 1px 2px rgba(60, 64, 67, 0.3), 0px 1px 3px 1px rgba(60, 64, 67, 0.15);\n",
              "      fill: #174EA6;\n",
              "    }\n",
              "\n",
              "    [theme=dark] .colab-df-convert {\n",
              "      background-color: #3B4455;\n",
              "      fill: #D2E3FC;\n",
              "    }\n",
              "\n",
              "    [theme=dark] .colab-df-convert:hover {\n",
              "      background-color: #434B5C;\n",
              "      box-shadow: 0px 1px 3px 1px rgba(0, 0, 0, 0.15);\n",
              "      filter: drop-shadow(0px 1px 2px rgba(0, 0, 0, 0.3));\n",
              "      fill: #FFFFFF;\n",
              "    }\n",
              "  </style>\n",
              "\n",
              "      <script>\n",
              "        const buttonEl =\n",
              "          document.querySelector('#df-b1b0aef1-d863-46a5-abe3-67442f2797fb button.colab-df-convert');\n",
              "        buttonEl.style.display =\n",
              "          google.colab.kernel.accessAllowed ? 'block' : 'none';\n",
              "\n",
              "        async function convertToInteractive(key) {\n",
              "          const element = document.querySelector('#df-b1b0aef1-d863-46a5-abe3-67442f2797fb');\n",
              "          const dataTable =\n",
              "            await google.colab.kernel.invokeFunction('convertToInteractive',\n",
              "                                                     [key], {});\n",
              "          if (!dataTable) return;\n",
              "\n",
              "          const docLinkHtml = 'Like what you see? Visit the ' +\n",
              "            '<a target=\"_blank\" href=https://colab.research.google.com/notebooks/data_table.ipynb>data table notebook</a>'\n",
              "            + ' to learn more about interactive tables.';\n",
              "          element.innerHTML = '';\n",
              "          dataTable['output_type'] = 'display_data';\n",
              "          await google.colab.output.renderOutput(dataTable, element);\n",
              "          const docLink = document.createElement('div');\n",
              "          docLink.innerHTML = docLinkHtml;\n",
              "          element.appendChild(docLink);\n",
              "        }\n",
              "      </script>\n",
              "    </div>\n",
              "  </div>\n",
              "  "
            ]
          },
          "metadata": {},
          "execution_count": 19
        }
      ],
      "source": [
        "freq_cor = dfpnadc['cor'].value_counts()\n",
        "dist_cor = dfpnadc['cor'].value_counts(normalize = True) * 100\n",
        "\n",
        "df_cor = pd.DataFrame({'Frequência': freq_cor, 'Percentual (%)': dist_cor})\n",
        "df_cor"
      ]
    },
    {
      "cell_type": "markdown",
      "metadata": {
        "id": "WbErIAcqnngY"
      },
      "source": [
        "Vamos plotar um gráfico \"pizza\" para ver a distribuição da variável **cor**."
      ]
    },
    {
      "cell_type": "code",
      "execution_count": 20,
      "metadata": {
        "id": "N52N8RtLnngY",
        "outputId": "a3a34f36-b3ee-4421-81b2-6054fd0bfcdf",
        "colab": {
          "base_uri": "https://localhost:8080/",
          "height": 284
        }
      },
      "outputs": [
        {
          "output_type": "display_data",
          "data": {
            "text/plain": [
              "<Figure size 432x288 with 1 Axes>"
            ],
            "image/png": "[encoded data removed]"
          },
          "metadata": {}
        }
      ],
      "source": [
        "plt.pie(df_cor['Percentual (%)'], \n",
        "        labels = df_cor.index,\n",
        "        startangle = 90, \n",
        "        shadow = True, \n",
        "        explode = (0,0,0,0.1,0.3,0.5))\n",
        "plt.show()"
      ]
    },
    {
      "cell_type": "markdown",
      "source": [
        "Considerando grupos com participações muito pequenas, talvez o gráfico \"pizza\" não seja a melhor forma de vizualizar estes dados! (geralmente não é!)."
      ],
      "metadata": {
        "id": "0lxSD4jbzSkA"
      }
    },
    {
      "cell_type": "code",
      "source": [
        "# Gráfico de barras com Matplotlib\n",
        "plt.bar(df_cor.index, df_cor['Percentual (%)'])\n",
        "plt.title(\"Distribuição (%) da amostra segundo cor declarada pelos indivíduos \")\n",
        "plt.show()"
      ],
      "metadata": {
        "colab": {
          "base_uri": "https://localhost:8080/",
          "height": 281
        },
        "id": "RvIpdzdgzWni",
        "outputId": "227d21f5-abf4-4379-cf2e-df91f53d8e9c"
      },
      "execution_count": 21,
      "outputs": [
        {
          "output_type": "display_data",
          "data": {
            "text/plain": [
              "<Figure size 432x288 with 1 Axes>"
            ],
            "image/png": "[encoded data removed]"
          },
          "metadata": {
            "needs_background": "light"
          }
        }
      ]
    },
    {
      "cell_type": "markdown",
      "source": [
        "Vamos verificar também a distribuição da amostra entre os estados (UFs)."
      ],
      "metadata": {
        "id": "c-qnnwY7zsFs"
      }
    },
    {
      "cell_type": "code",
      "source": [
        "# contar valores\n",
        "dfpnadc.UF.value_counts()"
      ],
      "metadata": {
        "colab": {
          "base_uri": "https://localhost:8080/"
        },
        "id": "2EyDfJ-LzuZT",
        "outputId": "5dcc1f17-fc87-4357-88a6-ac0396d45f20"
      },
      "execution_count": 22,
      "outputs": [
        {
          "output_type": "execute_result",
          "data": {
            "text/plain": [
              "35    42568\n",
              "31    39953\n",
              "33    38547\n",
              "21    36744\n",
              "42    32873\n",
              "41    28878\n",
              "23    28481\n",
              "43    28244\n",
              "29    26634\n",
              "26    22004\n",
              "27    20817\n",
              "32    20270\n",
              "15    19886\n",
              "52    18053\n",
              "13    16278\n",
              "25    14418\n",
              "51    13155\n",
              "22    12893\n",
              "50    11825\n",
              "24    11169\n",
              "28    10442\n",
              "12    10386\n",
              "53     9849\n",
              "11     9274\n",
              "17     7788\n",
              "14     6275\n",
              "16     5098\n",
              "Name: UF, dtype: int64"
            ]
          },
          "metadata": {},
          "execution_count": 22
        }
      ]
    },
    {
      "cell_type": "markdown",
      "source": [
        "Perceba que as UFs estão representadas por seus códigos.\n",
        "\n",
        "Vamos criar um dicionários e depois usar novamente o método `map`."
      ],
      "metadata": {
        "id": "Gckfpgzt0mFm"
      }
    },
    {
      "cell_type": "code",
      "source": [
        "# Dicionário para os códigos das UFs\n",
        "uf_map = {\n",
        "    11: 'Rondônia', \n",
        "    12: 'Acre', \n",
        "    13: 'Amazonas', \n",
        "    14: 'Roraima', \n",
        "    15: 'Pará', \n",
        "    16: 'Amapá', \n",
        "    17: 'Tocantins', \n",
        "    21: 'Maranhão', \n",
        "    22: 'Piauí', \n",
        "    23: 'Ceará', \n",
        "    24: 'Rio Grande do Norte', \n",
        "    25: 'Paraíba', \n",
        "    26: 'Pernambuco', \n",
        "    27: 'Alagoas', \n",
        "    28: 'Sergipe', \n",
        "    29: 'Bahia', \n",
        "    31: 'Minas Gerais', \n",
        "    32: 'Espírito Santo', \n",
        "    33: 'Rio de Janeiro', \n",
        "    35: 'São Paulo', \n",
        "    41: 'Paraná', \n",
        "    42: 'Santa Catarina', \n",
        "    43: 'Rio Grande do Sul', \n",
        "    50: 'Mato Grosso do Sul', \n",
        "    51: 'Mato Grosso', \n",
        "    52: 'Goiás', \n",
        "    53: 'Distrito Federal'\n",
        "}"
      ],
      "metadata": {
        "id": "PNL2wxhL03if"
      },
      "execution_count": 23,
      "outputs": []
    },
    {
      "cell_type": "code",
      "source": [
        "# Atribuindo rótulos (nomes) para os códigos das UFs\n",
        "dfpnadc['UF'] = dfpnadc['UF'].map(uf_map)\n",
        "\n",
        "dist_uf = dfpnadc.UF.value_counts()\n",
        "dist_uf"
      ],
      "metadata": {
        "colab": {
          "base_uri": "https://localhost:8080/"
        },
        "id": "ZyQm2ykl04cV",
        "outputId": "86d308d1-0159-4b48-a2ea-442b3421419b"
      },
      "execution_count": 24,
      "outputs": [
        {
          "output_type": "execute_result",
          "data": {
            "text/plain": [
              "São Paulo              42568\n",
              "Minas Gerais           39953\n",
              "Rio de Janeiro         38547\n",
              "Maranhão               36744\n",
              "Santa Catarina         32873\n",
              "Paraná                 28878\n",
              "Ceará                  28481\n",
              "Rio Grande do Sul      28244\n",
              "Bahia                  26634\n",
              "Pernambuco             22004\n",
              "Alagoas                20817\n",
              "Espírito Santo         20270\n",
              "Pará                   19886\n",
              "Goiás                  18053\n",
              "Amazonas               16278\n",
              "Paraíba                14418\n",
              "Mato Grosso            13155\n",
              "Piauí                  12893\n",
              "Mato Grosso do Sul     11825\n",
              "Rio Grande do Norte    11169\n",
              "Sergipe                10442\n",
              "Acre                   10386\n",
              "Distrito Federal        9849\n",
              "Rondônia                9274\n",
              "Tocantins               7788\n",
              "Roraima                 6275\n",
              "Amapá                   5098\n",
              "Name: UF, dtype: int64"
            ]
          },
          "metadata": {},
          "execution_count": 24
        }
      ]
    },
    {
      "cell_type": "code",
      "source": [
        "# Plotar em um gráfico de barras utilizando um formato um pouco diferente do comando\n",
        "dist_uf.plot(kind='bar', figsize=(12,5))\n",
        "plt.title(\"Número de observações amostrais por UF\");"
      ],
      "metadata": {
        "colab": {
          "base_uri": "https://localhost:8080/",
          "height": 428
        },
        "id": "-ETS9CuY1HuI",
        "outputId": "b33855f1-9034-4e9f-cc6a-63965a71df31"
      },
      "execution_count": 25,
      "outputs": [
        {
          "output_type": "display_data",
          "data": {
            "text/plain": [
              "<Figure size 864x360 with 1 Axes>"
            ],
            "image/png": "[encoded data removed]"
          },
          "metadata": {
            "needs_background": "light"
          }
        }
      ]
    },
    {
      "cell_type": "markdown",
      "metadata": {
        "id": "bl7qeIoLnngY"
      },
      "source": [
        "### Tabelas de Contingência (tabelas cruzadas)\n",
        "\n",
        "Uma tabela de contingência apresenta as frequência (absolutas ou relativas) de múltiplas variáveis categóricas. As linhas e colunas das tabelas correspondem a essas variáveis categóricas.\n",
        "\n",
        "Podemos usar o método `crosstab` para formatar tabelas de contingência na nossa análise."
      ]
    },
    {
      "cell_type": "code",
      "execution_count": 26,
      "metadata": {
        "id": "bG5Iz-pJnngY",
        "outputId": "1ea11aca-f27d-4202-a7a6-5cc098fb5937",
        "colab": {
          "base_uri": "https://localhost:8080/",
          "height": 143
        }
      },
      "outputs": [
        {
          "output_type": "execute_result",
          "data": {
            "text/plain": [
              "cor     amarela  branca  ignorado  indigena   parda  preta\n",
              "sexo                                                      \n",
              "homem      1228   98471        43      1297  139759  23727\n",
              "mulher     1461  107976        42      1323  143606  23869"
            ],
            "text/html": [
              "\n",
              "  <div id=\"df-57ebe746-71ad-4433-8093-020fa2401716\">\n",
              "    <div class=\"colab-df-container\">\n",
              "      <div>\n",
              "<style scoped>\n",
              "    .dataframe tbody tr th:only-of-type {\n",
              "        vertical-align: middle;\n",
              "    }\n",
              "\n",
              "    .dataframe tbody tr th {\n",
              "        vertical-align: top;\n",
              "    }\n",
              "\n",
              "    .dataframe thead th {\n",
              "        text-align: right;\n",
              "    }\n",
              "</style>\n",
              "<table border=\"1\" class=\"dataframe\">\n",
              "  <thead>\n",
              "    <tr style=\"text-align: right;\">\n",
              "      <th>cor</th>\n",
              "      <th>amarela</th>\n",
              "      <th>branca</th>\n",
              "      <th>ignorado</th>\n",
              "      <th>indigena</th>\n",
              "      <th>parda</th>\n",
              "      <th>preta</th>\n",
              "    </tr>\n",
              "    <tr>\n",
              "      <th>sexo</th>\n",
              "      <th></th>\n",
              "      <th></th>\n",
              "      <th></th>\n",
              "      <th></th>\n",
              "      <th></th>\n",
              "      <th></th>\n",
              "    </tr>\n",
              "  </thead>\n",
              "  <tbody>\n",
              "    <tr>\n",
              "      <th>homem</th>\n",
              "      <td>1228</td>\n",
              "      <td>98471</td>\n",
              "      <td>43</td>\n",
              "      <td>1297</td>\n",
              "      <td>139759</td>\n",
              "      <td>23727</td>\n",
              "    </tr>\n",
              "    <tr>\n",
              "      <th>mulher</th>\n",
              "      <td>1461</td>\n",
              "      <td>107976</td>\n",
              "      <td>42</td>\n",
              "      <td>1323</td>\n",
              "      <td>143606</td>\n",
              "      <td>23869</td>\n",
              "    </tr>\n",
              "  </tbody>\n",
              "</table>\n",
              "</div>\n",
              "      <button class=\"colab-df-convert\" onclick=\"convertToInteractive('df-57ebe746-71ad-4433-8093-020fa2401716')\"\n",
              "              title=\"Convert this dataframe to an interactive table.\"\n",
              "              style=\"display:none;\">\n",
              "        \n",
              "  <svg xmlns=\"http://www.w3.org/2000/svg\" height=\"24px\"viewBox=\"0 0 24 24\"\n",
              "       width=\"24px\">\n",
              "    <path d=\"M0 0h24v24H0V0z\" fill=\"none\"/>\n",
              "    <path d=\"M18.56 5.44l.94 2.06.94-2.06 2.06-.94-2.06-.94-.94-2.06-.94 2.06-2.06.94zm-11 1L8.5 8.5l.94-2.06 2.06-.94-2.06-.94L8.5 2.5l-.94 2.06-2.06.94zm10 10l.94 2.06.94-2.06 2.06-.94-2.06-.94-.94-2.06-.94 2.06-2.06.94z\"/><path d=\"M17.41 7.96l-1.37-1.37c-.4-.4-.92-.59-1.43-.59-.52 0-1.04.2-1.43.59L10.3 9.45l-7.72 7.72c-.78.78-.78 2.05 0 2.83L4 21.41c.39.39.9.59 1.41.59.51 0 1.02-.2 1.41-.59l7.78-7.78 2.81-2.81c.8-.78.8-2.07 0-2.86zM5.41 20L4 18.59l7.72-7.72 1.47 1.35L5.41 20z\"/>\n",
              "  </svg>\n",
              "      </button>\n",
              "      \n",
              "  <style>\n",
              "    .colab-df-container {\n",
              "      display:flex;\n",
              "      flex-wrap:wrap;\n",
              "      gap: 12px;\n",
              "    }\n",
              "\n",
              "    .colab-df-convert {\n",
              "      background-color: #E8F0FE;\n",
              "      border: none;\n",
              "      border-radius: 50%;\n",
              "      cursor: pointer;\n",
              "      display: none;\n",
              "      fill: #1967D2;\n",
              "      height: 32px;\n",
              "      padding: 0 0 0 0;\n",
              "      width: 32px;\n",
              "    }\n",
              "\n",
              "    .colab-df-convert:hover {\n",
              "      background-color: #E2EBFA;\n",
              "      box-shadow: 0px 1px 2px rgba(60, 64, 67, 0.3), 0px 1px 3px 1px rgba(60, 64, 67, 0.15);\n",
              "      fill: #174EA6;\n",
              "    }\n",
              "\n",
              "    [theme=dark] .colab-df-convert {\n",
              "      background-color: #3B4455;\n",
              "      fill: #D2E3FC;\n",
              "    }\n",
              "\n",
              "    [theme=dark] .colab-df-convert:hover {\n",
              "      background-color: #434B5C;\n",
              "      box-shadow: 0px 1px 3px 1px rgba(0, 0, 0, 0.15);\n",
              "      filter: drop-shadow(0px 1px 2px rgba(0, 0, 0, 0.3));\n",
              "      fill: #FFFFFF;\n",
              "    }\n",
              "  </style>\n",
              "\n",
              "      <script>\n",
              "        const buttonEl =\n",
              "          document.querySelector('#df-57ebe746-71ad-4433-8093-020fa2401716 button.colab-df-convert');\n",
              "        buttonEl.style.display =\n",
              "          google.colab.kernel.accessAllowed ? 'block' : 'none';\n",
              "\n",
              "        async function convertToInteractive(key) {\n",
              "          const element = document.querySelector('#df-57ebe746-71ad-4433-8093-020fa2401716');\n",
              "          const dataTable =\n",
              "            await google.colab.kernel.invokeFunction('convertToInteractive',\n",
              "                                                     [key], {});\n",
              "          if (!dataTable) return;\n",
              "\n",
              "          const docLinkHtml = 'Like what you see? Visit the ' +\n",
              "            '<a target=\"_blank\" href=https://colab.research.google.com/notebooks/data_table.ipynb>data table notebook</a>'\n",
              "            + ' to learn more about interactive tables.';\n",
              "          element.innerHTML = '';\n",
              "          dataTable['output_type'] = 'display_data';\n",
              "          await google.colab.output.renderOutput(dataTable, element);\n",
              "          const docLink = document.createElement('div');\n",
              "          docLink.innerHTML = docLinkHtml;\n",
              "          element.appendChild(docLink);\n",
              "        }\n",
              "      </script>\n",
              "    </div>\n",
              "  </div>\n",
              "  "
            ]
          },
          "metadata": {},
          "execution_count": 26
        }
      ],
      "source": [
        "# Frequências absolutas\n",
        "sexo_cor = pd.crosstab(dfpnadc['sexo'], dfpnadc['cor'])\n",
        "sexo_cor"
      ]
    },
    {
      "cell_type": "code",
      "execution_count": 27,
      "metadata": {
        "id": "EFyN0X1dnngY",
        "outputId": "8a3720c5-9e79-4abc-b4be-7b35c52e8caa",
        "colab": {
          "base_uri": "https://localhost:8080/",
          "height": 143
        }
      },
      "outputs": [
        {
          "output_type": "execute_result",
          "data": {
            "text/plain": [
              "cor      amarela     branca  ignorado  indigena      parda     preta\n",
              "sexo                                                                \n",
              "homem   0.226234  18.141238  0.007922  0.238945  25.747694  4.371207\n",
              "mulher  0.269159  19.892336  0.007738  0.243735  26.456424  4.397368"
            ],
            "text/html": [
              "\n",
              "  <div id=\"df-1e7dbad3-1aa4-4b55-8b1c-bf5cd4da67d2\">\n",
              "    <div class=\"colab-df-container\">\n",
              "      <div>\n",
              "<style scoped>\n",
              "    .dataframe tbody tr th:only-of-type {\n",
              "        vertical-align: middle;\n",
              "    }\n",
              "\n",
              "    .dataframe tbody tr th {\n",
              "        vertical-align: top;\n",
              "    }\n",
              "\n",
              "    .dataframe thead th {\n",
              "        text-align: right;\n",
              "    }\n",
              "</style>\n",
              "<table border=\"1\" class=\"dataframe\">\n",
              "  <thead>\n",
              "    <tr style=\"text-align: right;\">\n",
              "      <th>cor</th>\n",
              "      <th>amarela</th>\n",
              "      <th>branca</th>\n",
              "      <th>ignorado</th>\n",
              "      <th>indigena</th>\n",
              "      <th>parda</th>\n",
              "      <th>preta</th>\n",
              "    </tr>\n",
              "    <tr>\n",
              "      <th>sexo</th>\n",
              "      <th></th>\n",
              "      <th></th>\n",
              "      <th></th>\n",
              "      <th></th>\n",
              "      <th></th>\n",
              "      <th></th>\n",
              "    </tr>\n",
              "  </thead>\n",
              "  <tbody>\n",
              "    <tr>\n",
              "      <th>homem</th>\n",
              "      <td>0.226234</td>\n",
              "      <td>18.141238</td>\n",
              "      <td>0.007922</td>\n",
              "      <td>0.238945</td>\n",
              "      <td>25.747694</td>\n",
              "      <td>4.371207</td>\n",
              "    </tr>\n",
              "    <tr>\n",
              "      <th>mulher</th>\n",
              "      <td>0.269159</td>\n",
              "      <td>19.892336</td>\n",
              "      <td>0.007738</td>\n",
              "      <td>0.243735</td>\n",
              "      <td>26.456424</td>\n",
              "      <td>4.397368</td>\n",
              "    </tr>\n",
              "  </tbody>\n",
              "</table>\n",
              "</div>\n",
              "      <button class=\"colab-df-convert\" onclick=\"convertToInteractive('df-1e7dbad3-1aa4-4b55-8b1c-bf5cd4da67d2')\"\n",
              "              title=\"Convert this dataframe to an interactive table.\"\n",
              "              style=\"display:none;\">\n",
              "        \n",
              "  <svg xmlns=\"http://www.w3.org/2000/svg\" height=\"24px\"viewBox=\"0 0 24 24\"\n",
              "       width=\"24px\">\n",
              "    <path d=\"M0 0h24v24H0V0z\" fill=\"none\"/>\n",
              "    <path d=\"M18.56 5.44l.94 2.06.94-2.06 2.06-.94-2.06-.94-.94-2.06-.94 2.06-2.06.94zm-11 1L8.5 8.5l.94-2.06 2.06-.94-2.06-.94L8.5 2.5l-.94 2.06-2.06.94zm10 10l.94 2.06.94-2.06 2.06-.94-2.06-.94-.94-2.06-.94 2.06-2.06.94z\"/><path d=\"M17.41 7.96l-1.37-1.37c-.4-.4-.92-.59-1.43-.59-.52 0-1.04.2-1.43.59L10.3 9.45l-7.72 7.72c-.78.78-.78 2.05 0 2.83L4 21.41c.39.39.9.59 1.41.59.51 0 1.02-.2 1.41-.59l7.78-7.78 2.81-2.81c.8-.78.8-2.07 0-2.86zM5.41 20L4 18.59l7.72-7.72 1.47 1.35L5.41 20z\"/>\n",
              "  </svg>\n",
              "      </button>\n",
              "      \n",
              "  <style>\n",
              "    .colab-df-container {\n",
              "      display:flex;\n",
              "      flex-wrap:wrap;\n",
              "      gap: 12px;\n",
              "    }\n",
              "\n",
              "    .colab-df-convert {\n",
              "      background-color: #E8F0FE;\n",
              "      border: none;\n",
              "      border-radius: 50%;\n",
              "      cursor: pointer;\n",
              "      display: none;\n",
              "      fill: #1967D2;\n",
              "      height: 32px;\n",
              "      padding: 0 0 0 0;\n",
              "      width: 32px;\n",
              "    }\n",
              "\n",
              "    .colab-df-convert:hover {\n",
              "      background-color: #E2EBFA;\n",
              "      box-shadow: 0px 1px 2px rgba(60, 64, 67, 0.3), 0px 1px 3px 1px rgba(60, 64, 67, 0.15);\n",
              "      fill: #174EA6;\n",
              "    }\n",
              "\n",
              "    [theme=dark] .colab-df-convert {\n",
              "      background-color: #3B4455;\n",
              "      fill: #D2E3FC;\n",
              "    }\n",
              "\n",
              "    [theme=dark] .colab-df-convert:hover {\n",
              "      background-color: #434B5C;\n",
              "      box-shadow: 0px 1px 3px 1px rgba(0, 0, 0, 0.15);\n",
              "      filter: drop-shadow(0px 1px 2px rgba(0, 0, 0, 0.3));\n",
              "      fill: #FFFFFF;\n",
              "    }\n",
              "  </style>\n",
              "\n",
              "      <script>\n",
              "        const buttonEl =\n",
              "          document.querySelector('#df-1e7dbad3-1aa4-4b55-8b1c-bf5cd4da67d2 button.colab-df-convert');\n",
              "        buttonEl.style.display =\n",
              "          google.colab.kernel.accessAllowed ? 'block' : 'none';\n",
              "\n",
              "        async function convertToInteractive(key) {\n",
              "          const element = document.querySelector('#df-1e7dbad3-1aa4-4b55-8b1c-bf5cd4da67d2');\n",
              "          const dataTable =\n",
              "            await google.colab.kernel.invokeFunction('convertToInteractive',\n",
              "                                                     [key], {});\n",
              "          if (!dataTable) return;\n",
              "\n",
              "          const docLinkHtml = 'Like what you see? Visit the ' +\n",
              "            '<a target=\"_blank\" href=https://colab.research.google.com/notebooks/data_table.ipynb>data table notebook</a>'\n",
              "            + ' to learn more about interactive tables.';\n",
              "          element.innerHTML = '';\n",
              "          dataTable['output_type'] = 'display_data';\n",
              "          await google.colab.output.renderOutput(dataTable, element);\n",
              "          const docLink = document.createElement('div');\n",
              "          docLink.innerHTML = docLinkHtml;\n",
              "          element.appendChild(docLink);\n",
              "        }\n",
              "      </script>\n",
              "    </div>\n",
              "  </div>\n",
              "  "
            ]
          },
          "metadata": {},
          "execution_count": 27
        }
      ],
      "source": [
        "# Frequências relativas - Distribuição conjunta\n",
        "dist_sexo_cor = pd.crosstab(dfpnadc['sexo'], dfpnadc['cor'], normalize = True) * 100\n",
        "dist_sexo_cor"
      ]
    },
    {
      "cell_type": "markdown",
      "metadata": {
        "id": "bQYiSyzlnngZ"
      },
      "source": [
        "### Análise de variáveis numéricas\n",
        "\n",
        "#### Sumário estatístico\n",
        "\n",
        "Com o método `describe` temos um sumário estatísticos para uma variável numérica.\n",
        "\n",
        "Aqui vamos pedir um sumário estatístico para a variável **idade**."
      ]
    },
    {
      "cell_type": "code",
      "execution_count": 28,
      "metadata": {
        "id": "lYEPA-vhnnga",
        "outputId": "22faeaab-b1a3-4ba5-d94b-a36f7e8048f7",
        "colab": {
          "base_uri": "https://localhost:8080/"
        }
      },
      "outputs": [
        {
          "output_type": "execute_result",
          "data": {
            "text/plain": [
              "count    542802.000000\n",
              "mean         35.642067\n",
              "std          21.800881\n",
              "min           0.000000\n",
              "25%          17.000000\n",
              "50%          34.000000\n",
              "75%          52.000000\n",
              "max         110.000000\n",
              "Name: idade, dtype: float64"
            ]
          },
          "metadata": {},
          "execution_count": 28
        }
      ],
      "source": [
        "# Sumário estatístico de uma variável com o método 'describe'\n",
        "dfpnadc['idade'].describe()"
      ]
    },
    {
      "cell_type": "markdown",
      "metadata": {
        "id": "qYImbbNWnnga"
      },
      "source": [
        "Podemos realizar o cálculo de medidas de tendência central - média, mediana e moda - usando os métodos `mean()`, `median()` e `mode()`."
      ]
    },
    {
      "cell_type": "code",
      "execution_count": 32,
      "metadata": {
        "id": "wLO7Jac5nnga",
        "outputId": "807f4b73-e002-4063-8a39-fac422c78ca2",
        "colab": {
          "base_uri": "https://localhost:8080/"
        }
      },
      "outputs": [
        {
          "output_type": "stream",
          "name": "stdout",
          "text": [
            "Média =  35.64206653623236\n",
            "Mediana =  34.0\n",
            "Moda =  0    19\n",
            "dtype: int64\n"
          ]
        }
      ],
      "source": [
        "# Medidas de tendência central\n",
        "print('Média = ', dfpnadc['idade'].mean())\n",
        "\n",
        "print('Mediana = ', dfpnadc['idade'].median())\n",
        "\n",
        "print('Moda = ', dfpnadc['idade'].mode())\n"
      ]
    },
    {
      "cell_type": "markdown",
      "metadata": {
        "id": "hnaplFJ3nnga"
      },
      "source": [
        "Vamos plotar um histograma da distribuição de idades.\n",
        "Para este histograma vamos usar a biblioteca **seaborn**."
      ]
    },
    {
      "cell_type": "code",
      "execution_count": 49,
      "metadata": {
        "id": "YI-9LNW0nnga",
        "outputId": "02eb2b0c-de84-4127-b5e5-d92ac199f1bd",
        "colab": {
          "base_uri": "https://localhost:8080/",
          "height": 358
        }
      },
      "outputs": [
        {
          "output_type": "display_data",
          "data": {
            "text/plain": [
              "<Figure size 720x360 with 1 Axes>"
            ],
            "image/png": "[encoded data removed]"
          },
          "metadata": {
            "needs_background": "light"
          }
        }
      ],
      "source": [
        "# Criar um objeto gráfico hist_idade \n",
        "hist_idade = sns.histplot(dfpnadc['idade'], stat='density', kde=True, color=\"red\", linewidth=0)\n",
        "hist_idade.figure.set_size_inches(10, 5) # tamanho do gráfico\n",
        "hist_idade.set_title('Distribuição - IDADE', fontsize = 18) # Título\n",
        "hist_idade.set_xlabel('Anos', fontsize = 14) # Rotúlo do eixo x e tamanho da fonte\n",
        "hist_idade;"
      ]
    },
    {
      "cell_type": "markdown",
      "source": [
        "## Cópias e subconjuntos\n",
        "\n",
        "#### Cópia\n",
        "Podemos criar uma cópia do DataFrame antes de aplicar algumas operações sobre ele. Dessa forma, podemos nos resguardar de ter uma cópia da versão trabalhada até o momento. Para isso usamos o método `copy`."
      ],
      "metadata": {
        "id": "r6UCwlQOmwP4"
      }
    },
    {
      "cell_type": "code",
      "source": [
        "# Criar uma cópia\n",
        "dfpnadc2 = dfpnadc.copy()\n",
        "dfpnadc2.head()"
      ],
      "metadata": {
        "id": "13VBm3F4m17v",
        "outputId": "7a3bcf59-4051-478f-b455-c53b6d8cc98e",
        "colab": {
          "base_uri": "https://localhost:8080/",
          "height": 206
        }
      },
      "execution_count": 40,
      "outputs": [
        {
          "output_type": "execute_result",
          "data": {
            "text/plain": [
              "         UF  Capital    sexo  idade    cor  escolaridade  anos_estudo  \\\n",
              "0  Rondônia     11.0  mulher     45  parda           5.0         12.0   \n",
              "1  Rondônia     11.0  mulher     27  parda           5.0         12.0   \n",
              "2  Rondônia     11.0  mulher     18  parda           5.0         12.0   \n",
              "3  Rondônia     11.0   homem      6  parda           1.0          0.0   \n",
              "4  Rondônia     11.0   homem     55  parda           2.0          1.0   \n",
              "\n",
              "   forca_trabalho  ocupado  tipo_ocupacao  atividade  renda_trabalho  \n",
              "0             1.0      1.0            1.0        9.0          2100.0  \n",
              "1             2.0      NaN            NaN        NaN             NaN  \n",
              "2             2.0      NaN            NaN        NaN             NaN  \n",
              "3             NaN      NaN            NaN        NaN             NaN  \n",
              "4             2.0      NaN            NaN        NaN             NaN  "
            ],
            "text/html": [
              "\n",
              "  <div id=\"df-a69cc4de-0be0-4772-857c-18326abcfa27\">\n",
              "    <div class=\"colab-df-container\">\n",
              "      <div>\n",
              "<style scoped>\n",
              "    .dataframe tbody tr th:only-of-type {\n",
              "        vertical-align: middle;\n",
              "    }\n",
              "\n",
              "    .dataframe tbody tr th {\n",
              "        vertical-align: top;\n",
              "    }\n",
              "\n",
              "    .dataframe thead th {\n",
              "        text-align: right;\n",
              "    }\n",
              "</style>\n",
              "<table border=\"1\" class=\"dataframe\">\n",
              "  <thead>\n",
              "    <tr style=\"text-align: right;\">\n",
              "      <th></th>\n",
              "      <th>UF</th>\n",
              "      <th>Capital</th>\n",
              "      <th>sexo</th>\n",
              "      <th>idade</th>\n",
              "      <th>cor</th>\n",
              "      <th>escolaridade</th>\n",
              "      <th>anos_estudo</th>\n",
              "      <th>forca_trabalho</th>\n",
              "      <th>ocupado</th>\n",
              "      <th>tipo_ocupacao</th>\n",
              "      <th>atividade</th>\n",
              "      <th>renda_trabalho</th>\n",
              "    </tr>\n",
              "  </thead>\n",
              "  <tbody>\n",
              "    <tr>\n",
              "      <th>0</th>\n",
              "      <td>Rondônia</td>\n",
              "      <td>11.0</td>\n",
              "      <td>mulher</td>\n",
              "      <td>45</td>\n",
              "      <td>parda</td>\n",
              "      <td>5.0</td>\n",
              "      <td>12.0</td>\n",
              "      <td>1.0</td>\n",
              "      <td>1.0</td>\n",
              "      <td>1.0</td>\n",
              "      <td>9.0</td>\n",
              "      <td>2100.0</td>\n",
              "    </tr>\n",
              "    <tr>\n",
              "      <th>1</th>\n",
              "      <td>Rondônia</td>\n",
              "      <td>11.0</td>\n",
              "      <td>mulher</td>\n",
              "      <td>27</td>\n",
              "      <td>parda</td>\n",
              "      <td>5.0</td>\n",
              "      <td>12.0</td>\n",
              "      <td>2.0</td>\n",
              "      <td>NaN</td>\n",
              "      <td>NaN</td>\n",
              "      <td>NaN</td>\n",
              "      <td>NaN</td>\n",
              "    </tr>\n",
              "    <tr>\n",
              "      <th>2</th>\n",
              "      <td>Rondônia</td>\n",
              "      <td>11.0</td>\n",
              "      <td>mulher</td>\n",
              "      <td>18</td>\n",
              "      <td>parda</td>\n",
              "      <td>5.0</td>\n",
              "      <td>12.0</td>\n",
              "      <td>2.0</td>\n",
              "      <td>NaN</td>\n",
              "      <td>NaN</td>\n",
              "      <td>NaN</td>\n",
              "      <td>NaN</td>\n",
              "    </tr>\n",
              "    <tr>\n",
              "      <th>3</th>\n",
              "      <td>Rondônia</td>\n",
              "      <td>11.0</td>\n",
              "      <td>homem</td>\n",
              "      <td>6</td>\n",
              "      <td>parda</td>\n",
              "      <td>1.0</td>\n",
              "      <td>0.0</td>\n",
              "      <td>NaN</td>\n",
              "      <td>NaN</td>\n",
              "      <td>NaN</td>\n",
              "      <td>NaN</td>\n",
              "      <td>NaN</td>\n",
              "    </tr>\n",
              "    <tr>\n",
              "      <th>4</th>\n",
              "      <td>Rondônia</td>\n",
              "      <td>11.0</td>\n",
              "      <td>homem</td>\n",
              "      <td>55</td>\n",
              "      <td>parda</td>\n",
              "      <td>2.0</td>\n",
              "      <td>1.0</td>\n",
              "      <td>2.0</td>\n",
              "      <td>NaN</td>\n",
              "      <td>NaN</td>\n",
              "      <td>NaN</td>\n",
              "      <td>NaN</td>\n",
              "    </tr>\n",
              "  </tbody>\n",
              "</table>\n",
              "</div>\n",
              "      <button class=\"colab-df-convert\" onclick=\"convertToInteractive('df-a69cc4de-0be0-4772-857c-18326abcfa27')\"\n",
              "              title=\"Convert this dataframe to an interactive table.\"\n",
              "              style=\"display:none;\">\n",
              "        \n",
              "  <svg xmlns=\"http://www.w3.org/2000/svg\" height=\"24px\"viewBox=\"0 0 24 24\"\n",
              "       width=\"24px\">\n",
              "    <path d=\"M0 0h24v24H0V0z\" fill=\"none\"/>\n",
              "    <path d=\"M18.56 5.44l.94 2.06.94-2.06 2.06-.94-2.06-.94-.94-2.06-.94 2.06-2.06.94zm-11 1L8.5 8.5l.94-2.06 2.06-.94-2.06-.94L8.5 2.5l-.94 2.06-2.06.94zm10 10l.94 2.06.94-2.06 2.06-.94-2.06-.94-.94-2.06-.94 2.06-2.06.94z\"/><path d=\"M17.41 7.96l-1.37-1.37c-.4-.4-.92-.59-1.43-.59-.52 0-1.04.2-1.43.59L10.3 9.45l-7.72 7.72c-.78.78-.78 2.05 0 2.83L4 21.41c.39.39.9.59 1.41.59.51 0 1.02-.2 1.41-.59l7.78-7.78 2.81-2.81c.8-.78.8-2.07 0-2.86zM5.41 20L4 18.59l7.72-7.72 1.47 1.35L5.41 20z\"/>\n",
              "  </svg>\n",
              "      </button>\n",
              "      \n",
              "  <style>\n",
              "    .colab-df-container {\n",
              "      display:flex;\n",
              "      flex-wrap:wrap;\n",
              "      gap: 12px;\n",
              "    }\n",
              "\n",
              "    .colab-df-convert {\n",
              "      background-color: #E8F0FE;\n",
              "      border: none;\n",
              "      border-radius: 50%;\n",
              "      cursor: pointer;\n",
              "      display: none;\n",
              "      fill: #1967D2;\n",
              "      height: 32px;\n",
              "      padding: 0 0 0 0;\n",
              "      width: 32px;\n",
              "    }\n",
              "\n",
              "    .colab-df-convert:hover {\n",
              "      background-color: #E2EBFA;\n",
              "      box-shadow: 0px 1px 2px rgba(60, 64, 67, 0.3), 0px 1px 3px 1px rgba(60, 64, 67, 0.15);\n",
              "      fill: #174EA6;\n",
              "    }\n",
              "\n",
              "    [theme=dark] .colab-df-convert {\n",
              "      background-color: #3B4455;\n",
              "      fill: #D2E3FC;\n",
              "    }\n",
              "\n",
              "    [theme=dark] .colab-df-convert:hover {\n",
              "      background-color: #434B5C;\n",
              "      box-shadow: 0px 1px 3px 1px rgba(0, 0, 0, 0.15);\n",
              "      filter: drop-shadow(0px 1px 2px rgba(0, 0, 0, 0.3));\n",
              "      fill: #FFFFFF;\n",
              "    }\n",
              "  </style>\n",
              "\n",
              "      <script>\n",
              "        const buttonEl =\n",
              "          document.querySelector('#df-a69cc4de-0be0-4772-857c-18326abcfa27 button.colab-df-convert');\n",
              "        buttonEl.style.display =\n",
              "          google.colab.kernel.accessAllowed ? 'block' : 'none';\n",
              "\n",
              "        async function convertToInteractive(key) {\n",
              "          const element = document.querySelector('#df-a69cc4de-0be0-4772-857c-18326abcfa27');\n",
              "          const dataTable =\n",
              "            await google.colab.kernel.invokeFunction('convertToInteractive',\n",
              "                                                     [key], {});\n",
              "          if (!dataTable) return;\n",
              "\n",
              "          const docLinkHtml = 'Like what you see? Visit the ' +\n",
              "            '<a target=\"_blank\" href=https://colab.research.google.com/notebooks/data_table.ipynb>data table notebook</a>'\n",
              "            + ' to learn more about interactive tables.';\n",
              "          element.innerHTML = '';\n",
              "          dataTable['output_type'] = 'display_data';\n",
              "          await google.colab.output.renderOutput(dataTable, element);\n",
              "          const docLink = document.createElement('div');\n",
              "          docLink.innerHTML = docLinkHtml;\n",
              "          element.appendChild(docLink);\n",
              "        }\n",
              "      </script>\n",
              "    </div>\n",
              "  </div>\n",
              "  "
            ]
          },
          "metadata": {},
          "execution_count": 40
        }
      ]
    },
    {
      "cell_type": "markdown",
      "source": [
        "Poderíamos usar o novo DataFrame para selecionar subconjuntos de variáveis, fazer alterações em valores de colunas, entre outras operações. Alternativamente, podemos selecionar subconjuntos do DataFrame de referência e atribuir um novo DataFrame, mantendo o DataFrame anterior. É o que vamos fazer aqui."
      ],
      "metadata": {
        "id": "Xd_wQCOTm1pO"
      }
    },
    {
      "cell_type": "code",
      "source": [
        "# Efetivamente, não vamos usar o dfpnadc2, vamos deletá-lo\n",
        "del dfpnadc2"
      ],
      "metadata": {
        "id": "rq5ATrbTm14n"
      },
      "execution_count": 41,
      "outputs": []
    },
    {
      "cell_type": "markdown",
      "source": [
        "### Subconjuntos condicionados\n",
        "Para analisar apenas escolaridade de indivíduos adultos, com 25 anos ou mais de idade (idade razoável para completar as principais etapas de ensino) poderíamos adicionar condições aos comandos. Aqui vamos optar por criar um novo DataFrame denominado dfpnadc25."
      ],
      "metadata": {
        "id": "tf_PClR8m1mV"
      }
    },
    {
      "cell_type": "code",
      "source": [
        "# Criando um novo Data Frame aplicando uma condição sobre o Data Frame anterior \n",
        "dfpnadc25 = dfpnadc[dfpnadc[\"idade\"] >= 25]\n",
        "dfpnadc25.head()"
      ],
      "metadata": {
        "id": "PmWyAQMOndHZ",
        "outputId": "0e615628-c889-4d99-b7bb-1bd4c01d9863",
        "colab": {
          "base_uri": "https://localhost:8080/",
          "height": 206
        }
      },
      "execution_count": 42,
      "outputs": [
        {
          "output_type": "execute_result",
          "data": {
            "text/plain": [
              "         UF  Capital    sexo  idade    cor  escolaridade  anos_estudo  \\\n",
              "0  Rondônia     11.0  mulher     45  parda           5.0         12.0   \n",
              "1  Rondônia     11.0  mulher     27  parda           5.0         12.0   \n",
              "4  Rondônia     11.0   homem     55  parda           2.0          1.0   \n",
              "5  Rondônia     11.0  mulher     54  parda           5.0         12.0   \n",
              "6  Rondônia     11.0  mulher     30  parda           6.0         14.0   \n",
              "\n",
              "   forca_trabalho  ocupado  tipo_ocupacao  atividade  renda_trabalho  \n",
              "0             1.0      1.0            1.0        9.0          2100.0  \n",
              "1             2.0      NaN            NaN        NaN             NaN  \n",
              "4             2.0      NaN            NaN        NaN             NaN  \n",
              "5             1.0      1.0            7.0        9.0          1000.0  \n",
              "6             2.0      NaN            NaN        NaN             NaN  "
            ],
            "text/html": [
              "\n",
              "  <div id=\"df-76ab6290-f6d2-4694-a878-73ef45f18db9\">\n",
              "    <div class=\"colab-df-container\">\n",
              "      <div>\n",
              "<style scoped>\n",
              "    .dataframe tbody tr th:only-of-type {\n",
              "        vertical-align: middle;\n",
              "    }\n",
              "\n",
              "    .dataframe tbody tr th {\n",
              "        vertical-align: top;\n",
              "    }\n",
              "\n",
              "    .dataframe thead th {\n",
              "        text-align: right;\n",
              "    }\n",
              "</style>\n",
              "<table border=\"1\" class=\"dataframe\">\n",
              "  <thead>\n",
              "    <tr style=\"text-align: right;\">\n",
              "      <th></th>\n",
              "      <th>UF</th>\n",
              "      <th>Capital</th>\n",
              "      <th>sexo</th>\n",
              "      <th>idade</th>\n",
              "      <th>cor</th>\n",
              "      <th>escolaridade</th>\n",
              "      <th>anos_estudo</th>\n",
              "      <th>forca_trabalho</th>\n",
              "      <th>ocupado</th>\n",
              "      <th>tipo_ocupacao</th>\n",
              "      <th>atividade</th>\n",
              "      <th>renda_trabalho</th>\n",
              "    </tr>\n",
              "  </thead>\n",
              "  <tbody>\n",
              "    <tr>\n",
              "      <th>0</th>\n",
              "      <td>Rondônia</td>\n",
              "      <td>11.0</td>\n",
              "      <td>mulher</td>\n",
              "      <td>45</td>\n",
              "      <td>parda</td>\n",
              "      <td>5.0</td>\n",
              "      <td>12.0</td>\n",
              "      <td>1.0</td>\n",
              "      <td>1.0</td>\n",
              "      <td>1.0</td>\n",
              "      <td>9.0</td>\n",
              "      <td>2100.0</td>\n",
              "    </tr>\n",
              "    <tr>\n",
              "      <th>1</th>\n",
              "      <td>Rondônia</td>\n",
              "      <td>11.0</td>\n",
              "      <td>mulher</td>\n",
              "      <td>27</td>\n",
              "      <td>parda</td>\n",
              "      <td>5.0</td>\n",
              "      <td>12.0</td>\n",
              "      <td>2.0</td>\n",
              "      <td>NaN</td>\n",
              "      <td>NaN</td>\n",
              "      <td>NaN</td>\n",
              "      <td>NaN</td>\n",
              "    </tr>\n",
              "    <tr>\n",
              "      <th>4</th>\n",
              "      <td>Rondônia</td>\n",
              "      <td>11.0</td>\n",
              "      <td>homem</td>\n",
              "      <td>55</td>\n",
              "      <td>parda</td>\n",
              "      <td>2.0</td>\n",
              "      <td>1.0</td>\n",
              "      <td>2.0</td>\n",
              "      <td>NaN</td>\n",
              "      <td>NaN</td>\n",
              "      <td>NaN</td>\n",
              "      <td>NaN</td>\n",
              "    </tr>\n",
              "    <tr>\n",
              "      <th>5</th>\n",
              "      <td>Rondônia</td>\n",
              "      <td>11.0</td>\n",
              "      <td>mulher</td>\n",
              "      <td>54</td>\n",
              "      <td>parda</td>\n",
              "      <td>5.0</td>\n",
              "      <td>12.0</td>\n",
              "      <td>1.0</td>\n",
              "      <td>1.0</td>\n",
              "      <td>7.0</td>\n",
              "      <td>9.0</td>\n",
              "      <td>1000.0</td>\n",
              "    </tr>\n",
              "    <tr>\n",
              "      <th>6</th>\n",
              "      <td>Rondônia</td>\n",
              "      <td>11.0</td>\n",
              "      <td>mulher</td>\n",
              "      <td>30</td>\n",
              "      <td>parda</td>\n",
              "      <td>6.0</td>\n",
              "      <td>14.0</td>\n",
              "      <td>2.0</td>\n",
              "      <td>NaN</td>\n",
              "      <td>NaN</td>\n",
              "      <td>NaN</td>\n",
              "      <td>NaN</td>\n",
              "    </tr>\n",
              "  </tbody>\n",
              "</table>\n",
              "</div>\n",
              "      <button class=\"colab-df-convert\" onclick=\"convertToInteractive('df-76ab6290-f6d2-4694-a878-73ef45f18db9')\"\n",
              "              title=\"Convert this dataframe to an interactive table.\"\n",
              "              style=\"display:none;\">\n",
              "        \n",
              "  <svg xmlns=\"http://www.w3.org/2000/svg\" height=\"24px\"viewBox=\"0 0 24 24\"\n",
              "       width=\"24px\">\n",
              "    <path d=\"M0 0h24v24H0V0z\" fill=\"none\"/>\n",
              "    <path d=\"M18.56 5.44l.94 2.06.94-2.06 2.06-.94-2.06-.94-.94-2.06-.94 2.06-2.06.94zm-11 1L8.5 8.5l.94-2.06 2.06-.94-2.06-.94L8.5 2.5l-.94 2.06-2.06.94zm10 10l.94 2.06.94-2.06 2.06-.94-2.06-.94-.94-2.06-.94 2.06-2.06.94z\"/><path d=\"M17.41 7.96l-1.37-1.37c-.4-.4-.92-.59-1.43-.59-.52 0-1.04.2-1.43.59L10.3 9.45l-7.72 7.72c-.78.78-.78 2.05 0 2.83L4 21.41c.39.39.9.59 1.41.59.51 0 1.02-.2 1.41-.59l7.78-7.78 2.81-2.81c.8-.78.8-2.07 0-2.86zM5.41 20L4 18.59l7.72-7.72 1.47 1.35L5.41 20z\"/>\n",
              "  </svg>\n",
              "      </button>\n",
              "      \n",
              "  <style>\n",
              "    .colab-df-container {\n",
              "      display:flex;\n",
              "      flex-wrap:wrap;\n",
              "      gap: 12px;\n",
              "    }\n",
              "\n",
              "    .colab-df-convert {\n",
              "      background-color: #E8F0FE;\n",
              "      border: none;\n",
              "      border-radius: 50%;\n",
              "      cursor: pointer;\n",
              "      display: none;\n",
              "      fill: #1967D2;\n",
              "      height: 32px;\n",
              "      padding: 0 0 0 0;\n",
              "      width: 32px;\n",
              "    }\n",
              "\n",
              "    .colab-df-convert:hover {\n",
              "      background-color: #E2EBFA;\n",
              "      box-shadow: 0px 1px 2px rgba(60, 64, 67, 0.3), 0px 1px 3px 1px rgba(60, 64, 67, 0.15);\n",
              "      fill: #174EA6;\n",
              "    }\n",
              "\n",
              "    [theme=dark] .colab-df-convert {\n",
              "      background-color: #3B4455;\n",
              "      fill: #D2E3FC;\n",
              "    }\n",
              "\n",
              "    [theme=dark] .colab-df-convert:hover {\n",
              "      background-color: #434B5C;\n",
              "      box-shadow: 0px 1px 3px 1px rgba(0, 0, 0, 0.15);\n",
              "      filter: drop-shadow(0px 1px 2px rgba(0, 0, 0, 0.3));\n",
              "      fill: #FFFFFF;\n",
              "    }\n",
              "  </style>\n",
              "\n",
              "      <script>\n",
              "        const buttonEl =\n",
              "          document.querySelector('#df-76ab6290-f6d2-4694-a878-73ef45f18db9 button.colab-df-convert');\n",
              "        buttonEl.style.display =\n",
              "          google.colab.kernel.accessAllowed ? 'block' : 'none';\n",
              "\n",
              "        async function convertToInteractive(key) {\n",
              "          const element = document.querySelector('#df-76ab6290-f6d2-4694-a878-73ef45f18db9');\n",
              "          const dataTable =\n",
              "            await google.colab.kernel.invokeFunction('convertToInteractive',\n",
              "                                                     [key], {});\n",
              "          if (!dataTable) return;\n",
              "\n",
              "          const docLinkHtml = 'Like what you see? Visit the ' +\n",
              "            '<a target=\"_blank\" href=https://colab.research.google.com/notebooks/data_table.ipynb>data table notebook</a>'\n",
              "            + ' to learn more about interactive tables.';\n",
              "          element.innerHTML = '';\n",
              "          dataTable['output_type'] = 'display_data';\n",
              "          await google.colab.output.renderOutput(dataTable, element);\n",
              "          const docLink = document.createElement('div');\n",
              "          docLink.innerHTML = docLinkHtml;\n",
              "          element.appendChild(docLink);\n",
              "        }\n",
              "      </script>\n",
              "    </div>\n",
              "  </div>\n",
              "  "
            ]
          },
          "metadata": {},
          "execution_count": 42
        }
      ]
    },
    {
      "cell_type": "markdown",
      "source": [
        "Vamos analizar a variável **anos de estudo** das pessoas com 25 anos ou mais de idade."
      ],
      "metadata": {
        "id": "UYNzD7hAnsS8"
      }
    },
    {
      "cell_type": "code",
      "source": [
        "# Usando o método 'value_counts'\n",
        "freq_estudo = dfpnadc25['anos_estudo'].value_counts()\n",
        "freq_estudo"
      ],
      "metadata": {
        "id": "CYWTyWlInteB",
        "outputId": "bb8bace7-c552-4e5c-812b-8c69495b5fc9",
        "colab": {
          "base_uri": "https://localhost:8080/"
        }
      },
      "execution_count": 43,
      "outputs": [
        {
          "output_type": "execute_result",
          "data": {
            "text/plain": [
              "12.0    86960\n",
              "16.0    48638\n",
              "5.0     37416\n",
              "0.0     28190\n",
              "9.0     27058\n",
              "6.0     20246\n",
              "4.0     14666\n",
              "3.0     12071\n",
              "7.0     11532\n",
              "8.0     10900\n",
              "2.0      8874\n",
              "1.0      8341\n",
              "10.0     7458\n",
              "11.0     7334\n",
              "13.0     7066\n",
              "14.0     5574\n",
              "15.0     5439\n",
              "Name: anos_estudo, dtype: int64"
            ]
          },
          "metadata": {},
          "execution_count": 43
        }
      ]
    },
    {
      "cell_type": "markdown",
      "source": [
        "Note o ordenamento dos valores. Por padrão, está ordenado de acordo com a frequência dos valores.\n",
        "\n",
        "Anos de estudo é uma variável ordenada.\n",
        "Vamos usar o `sort_index` para ordenar de acordo com as categorias. "
      ],
      "metadata": {
        "id": "PPsz0E9in4En"
      }
    },
    {
      "cell_type": "code",
      "source": [
        "freq_estudo = dfpnadc25['anos_estudo'].value_counts().sort_index()\n",
        "freq_estudo"
      ],
      "metadata": {
        "id": "5-CYmEEgoELq",
        "outputId": "8187299c-2c71-4b7c-86a8-5d70bc09348b",
        "colab": {
          "base_uri": "https://localhost:8080/"
        }
      },
      "execution_count": 44,
      "outputs": [
        {
          "output_type": "execute_result",
          "data": {
            "text/plain": [
              "0.0     28190\n",
              "1.0      8341\n",
              "2.0      8874\n",
              "3.0     12071\n",
              "4.0     14666\n",
              "5.0     37416\n",
              "6.0     20246\n",
              "7.0     11532\n",
              "8.0     10900\n",
              "9.0     27058\n",
              "10.0     7458\n",
              "11.0     7334\n",
              "12.0    86960\n",
              "13.0     7066\n",
              "14.0     5574\n",
              "15.0     5439\n",
              "16.0    48638\n",
              "Name: anos_estudo, dtype: int64"
            ]
          },
          "metadata": {},
          "execution_count": 44
        }
      ]
    },
    {
      "cell_type": "markdown",
      "source": [
        "Vamos calcular e apresentar a frequência relativa."
      ],
      "metadata": {
        "id": "PVtX86nKoV8v"
      }
    },
    {
      "cell_type": "code",
      "source": [
        "dist_estudo = dfpnadc25['anos_estudo'].value_counts(normalize = True).sort_index() * 100\n",
        "dist_estudo"
      ],
      "metadata": {
        "id": "UfAquj9voWXd",
        "outputId": "af0eccb2-2b73-438d-cf92-f1be8a3e0243",
        "colab": {
          "base_uri": "https://localhost:8080/"
        }
      },
      "execution_count": 45,
      "outputs": [
        {
          "output_type": "execute_result",
          "data": {
            "text/plain": [
              "0.0      8.106095\n",
              "1.0      2.398473\n",
              "2.0      2.551738\n",
              "3.0      3.471042\n",
              "4.0      4.217240\n",
              "5.0     10.759051\n",
              "6.0      5.821781\n",
              "7.0      3.316051\n",
              "8.0      3.134318\n",
              "9.0      7.780586\n",
              "10.0     2.144564\n",
              "11.0     2.108908\n",
              "12.0    25.005535\n",
              "13.0     2.031844\n",
              "14.0     1.602816\n",
              "15.0     1.563996\n",
              "16.0    13.985962\n",
              "Name: anos_estudo, dtype: float64"
            ]
          },
          "metadata": {},
          "execution_count": 45
        }
      ]
    },
    {
      "cell_type": "markdown",
      "source": [
        "Vamos usar o seaborn para plotar um histograma da variável 'anos de estudo'."
      ],
      "metadata": {
        "id": "bnv8eh9goe5I"
      }
    },
    {
      "cell_type": "code",
      "source": [
        "est = sns.histplot(dfpnadc25['anos_estudo'], bins=8, kde =False, stat='frequency')\n",
        "est.figure.set_size_inches(8, 4)\n",
        "est.set_title('Distribuição - anos de estudo', fontsize = 14)\n",
        "est.set_xlabel('Anos de estudo', fontsize = 12);"
      ],
      "metadata": {
        "id": "VVcy5IXcohoi",
        "outputId": "27795bd4-cbe1-431c-cb3a-6bd3ebb27e16",
        "colab": {
          "base_uri": "https://localhost:8080/",
          "height": 299
        }
      },
      "execution_count": 48,
      "outputs": [
        {
          "output_type": "display_data",
          "data": {
            "text/plain": [
              "<Figure size 576x288 with 1 Axes>"
            ],
            "image/png": "[encoded data removed]"
          },
          "metadata": {
            "needs_background": "light"
          }
        }
      ]
    },
    {
      "cell_type": "markdown",
      "source": [
        "Vamos verificar a escolaridade média (anos de estudo) por sexo.\n",
        "\n",
        "Para fazer isso usamos o método `groupby`."
      ],
      "metadata": {
        "id": "il1lP91ko8d-"
      }
    },
    {
      "cell_type": "code",
      "source": [
        "dfpnadc25.groupby('sexo').mean()[['anos_estudo']]"
      ],
      "metadata": {
        "id": "4_roYmQrolc_",
        "outputId": "30d5e08e-e25f-45c9-e210-85ce47b6b8c1",
        "colab": {
          "base_uri": "https://localhost:8080/",
          "height": 143
        }
      },
      "execution_count": 50,
      "outputs": [
        {
          "output_type": "execute_result",
          "data": {
            "text/plain": [
              "        anos_estudo\n",
              "sexo               \n",
              "homem      8.473286\n",
              "mulher     9.143482"
            ],
            "text/html": [
              "\n",
              "  <div id=\"df-ff19eec1-4f19-4654-9093-1cd9f8cc0d3d\">\n",
              "    <div class=\"colab-df-container\">\n",
              "      <div>\n",
              "<style scoped>\n",
              "    .dataframe tbody tr th:only-of-type {\n",
              "        vertical-align: middle;\n",
              "    }\n",
              "\n",
              "    .dataframe tbody tr th {\n",
              "        vertical-align: top;\n",
              "    }\n",
              "\n",
              "    .dataframe thead th {\n",
              "        text-align: right;\n",
              "    }\n",
              "</style>\n",
              "<table border=\"1\" class=\"dataframe\">\n",
              "  <thead>\n",
              "    <tr style=\"text-align: right;\">\n",
              "      <th></th>\n",
              "      <th>anos_estudo</th>\n",
              "    </tr>\n",
              "    <tr>\n",
              "      <th>sexo</th>\n",
              "      <th></th>\n",
              "    </tr>\n",
              "  </thead>\n",
              "  <tbody>\n",
              "    <tr>\n",
              "      <th>homem</th>\n",
              "      <td>8.473286</td>\n",
              "    </tr>\n",
              "    <tr>\n",
              "      <th>mulher</th>\n",
              "      <td>9.143482</td>\n",
              "    </tr>\n",
              "  </tbody>\n",
              "</table>\n",
              "</div>\n",
              "      <button class=\"colab-df-convert\" onclick=\"convertToInteractive('df-ff19eec1-4f19-4654-9093-1cd9f8cc0d3d')\"\n",
              "              title=\"Convert this dataframe to an interactive table.\"\n",
              "              style=\"display:none;\">\n",
              "        \n",
              "  <svg xmlns=\"http://www.w3.org/2000/svg\" height=\"24px\"viewBox=\"0 0 24 24\"\n",
              "       width=\"24px\">\n",
              "    <path d=\"M0 0h24v24H0V0z\" fill=\"none\"/>\n",
              "    <path d=\"M18.56 5.44l.94 2.06.94-2.06 2.06-.94-2.06-.94-.94-2.06-.94 2.06-2.06.94zm-11 1L8.5 8.5l.94-2.06 2.06-.94-2.06-.94L8.5 2.5l-.94 2.06-2.06.94zm10 10l.94 2.06.94-2.06 2.06-.94-2.06-.94-.94-2.06-.94 2.06-2.06.94z\"/><path d=\"M17.41 7.96l-1.37-1.37c-.4-.4-.92-.59-1.43-.59-.52 0-1.04.2-1.43.59L10.3 9.45l-7.72 7.72c-.78.78-.78 2.05 0 2.83L4 21.41c.39.39.9.59 1.41.59.51 0 1.02-.2 1.41-.59l7.78-7.78 2.81-2.81c.8-.78.8-2.07 0-2.86zM5.41 20L4 18.59l7.72-7.72 1.47 1.35L5.41 20z\"/>\n",
              "  </svg>\n",
              "      </button>\n",
              "      \n",
              "  <style>\n",
              "    .colab-df-container {\n",
              "      display:flex;\n",
              "      flex-wrap:wrap;\n",
              "      gap: 12px;\n",
              "    }\n",
              "\n",
              "    .colab-df-convert {\n",
              "      background-color: #E8F0FE;\n",
              "      border: none;\n",
              "      border-radius: 50%;\n",
              "      cursor: pointer;\n",
              "      display: none;\n",
              "      fill: #1967D2;\n",
              "      height: 32px;\n",
              "      padding: 0 0 0 0;\n",
              "      width: 32px;\n",
              "    }\n",
              "\n",
              "    .colab-df-convert:hover {\n",
              "      background-color: #E2EBFA;\n",
              "      box-shadow: 0px 1px 2px rgba(60, 64, 67, 0.3), 0px 1px 3px 1px rgba(60, 64, 67, 0.15);\n",
              "      fill: #174EA6;\n",
              "    }\n",
              "\n",
              "    [theme=dark] .colab-df-convert {\n",
              "      background-color: #3B4455;\n",
              "      fill: #D2E3FC;\n",
              "    }\n",
              "\n",
              "    [theme=dark] .colab-df-convert:hover {\n",
              "      background-color: #434B5C;\n",
              "      box-shadow: 0px 1px 3px 1px rgba(0, 0, 0, 0.15);\n",
              "      filter: drop-shadow(0px 1px 2px rgba(0, 0, 0, 0.3));\n",
              "      fill: #FFFFFF;\n",
              "    }\n",
              "  </style>\n",
              "\n",
              "      <script>\n",
              "        const buttonEl =\n",
              "          document.querySelector('#df-ff19eec1-4f19-4654-9093-1cd9f8cc0d3d button.colab-df-convert');\n",
              "        buttonEl.style.display =\n",
              "          google.colab.kernel.accessAllowed ? 'block' : 'none';\n",
              "\n",
              "        async function convertToInteractive(key) {\n",
              "          const element = document.querySelector('#df-ff19eec1-4f19-4654-9093-1cd9f8cc0d3d');\n",
              "          const dataTable =\n",
              "            await google.colab.kernel.invokeFunction('convertToInteractive',\n",
              "                                                     [key], {});\n",
              "          if (!dataTable) return;\n",
              "\n",
              "          const docLinkHtml = 'Like what you see? Visit the ' +\n",
              "            '<a target=\"_blank\" href=https://colab.research.google.com/notebooks/data_table.ipynb>data table notebook</a>'\n",
              "            + ' to learn more about interactive tables.';\n",
              "          element.innerHTML = '';\n",
              "          dataTable['output_type'] = 'display_data';\n",
              "          await google.colab.output.renderOutput(dataTable, element);\n",
              "          const docLink = document.createElement('div');\n",
              "          docLink.innerHTML = docLinkHtml;\n",
              "          element.appendChild(docLink);\n",
              "        }\n",
              "      </script>\n",
              "    </div>\n",
              "  </div>\n",
              "  "
            ]
          },
          "metadata": {},
          "execution_count": 50
        }
      ]
    },
    {
      "cell_type": "markdown",
      "source": [
        "Usando boxplot para vizualizar esta informação."
      ],
      "metadata": {
        "id": "McUKsePupH1n"
      }
    },
    {
      "cell_type": "code",
      "source": [
        "sns.boxplot(x = dfpnadc25['sexo'],\n",
        "            y = dfpnadc25['anos_estudo'], \n",
        "            data = dfpnadc25,\n",
        "            showmeans=True, meanprops={\"marker\":\"o\", \"markerfacecolor\":\"white\"})\n",
        "plt.title(\"Anos de Estudo x Sexo\");"
      ],
      "metadata": {
        "id": "U7TCJI8kpFP8",
        "outputId": "59ea70b5-99aa-472d-9a7d-e71a5c25807c",
        "colab": {
          "base_uri": "https://localhost:8080/",
          "height": 295
        }
      },
      "execution_count": 51,
      "outputs": [
        {
          "output_type": "display_data",
          "data": {
            "text/plain": [
              "<Figure size 432x288 with 1 Axes>"
            ],
            "image/png": "[encoded data removed]"
          },
          "metadata": {
            "needs_background": "light"
          }
        }
      ]
    },
    {
      "cell_type": "markdown",
      "source": [
        "Vamos obter a escolaridade média (anos de estudo) por UF e plotar essa informação.\n",
        "\n",
        "Vamos criar um DataFrame com esta informação da média de anos de estudo por UF.\n",
        "\n",
        "Posteriomente vamos criar um gráfico de barras na horizontal e com as UFs ordenadas pela escolaridade média (em anos de estudo)."
      ],
      "metadata": {
        "id": "S1mnDXRCpNwR"
      }
    },
    {
      "cell_type": "code",
      "source": [
        "est_uf = dfpnadc25.groupby('UF').mean()[['anos_estudo']]\n",
        "est_uf"
      ],
      "metadata": {
        "id": "6Mri3iilp9ed",
        "outputId": "83178ffe-16fb-4fa5-afbb-36301ddb41b8",
        "colab": {
          "base_uri": "https://localhost:8080/",
          "height": 927
        }
      },
      "execution_count": 55,
      "outputs": [
        {
          "output_type": "execute_result",
          "data": {
            "text/plain": [
              "                     anos_estudo\n",
              "UF                              \n",
              "Acre                    8.443267\n",
              "Alagoas                 6.909084\n",
              "Amapá                  10.158484\n",
              "Amazonas                9.086632\n",
              "Bahia                   7.446845\n",
              "Ceará                   7.616669\n",
              "Distrito Federal       11.341625\n",
              "Espírito Santo          9.336274\n",
              "Goiás                   9.185558\n",
              "Maranhão                7.255992\n",
              "Mato Grosso             9.065476\n",
              "Mato Grosso do Sul      9.237528\n",
              "Minas Gerais            8.618942\n",
              "Paraná                  9.254443\n",
              "Paraíba                 7.764854\n",
              "Pará                    8.383839\n",
              "Pernambuco              7.881945\n",
              "Piauí                   7.496303\n",
              "Rio Grande do Norte     8.276415\n",
              "Rio Grande do Sul       9.461295\n",
              "Rio de Janeiro         10.481230\n",
              "Rondônia                8.561639\n",
              "Roraima                 9.837885\n",
              "Santa Catarina          9.550262\n",
              "Sergipe                 7.862553\n",
              "São Paulo              10.118311\n",
              "Tocantins               8.525263"
            ],
            "text/html": [
              "\n",
              "  <div id=\"df-317caf27-0fed-422a-a4bd-b596cac4bff7\">\n",
              "    <div class=\"colab-df-container\">\n",
              "      <div>\n",
              "<style scoped>\n",
              "    .dataframe tbody tr th:only-of-type {\n",
              "        vertical-align: middle;\n",
              "    }\n",
              "\n",
              "    .dataframe tbody tr th {\n",
              "        vertical-align: top;\n",
              "    }\n",
              "\n",
              "    .dataframe thead th {\n",
              "        text-align: right;\n",
              "    }\n",
              "</style>\n",
              "<table border=\"1\" class=\"dataframe\">\n",
              "  <thead>\n",
              "    <tr style=\"text-align: right;\">\n",
              "      <th></th>\n",
              "      <th>anos_estudo</th>\n",
              "    </tr>\n",
              "    <tr>\n",
              "      <th>UF</th>\n",
              "      <th></th>\n",
              "    </tr>\n",
              "  </thead>\n",
              "  <tbody>\n",
              "    <tr>\n",
              "      <th>Acre</th>\n",
              "      <td>8.443267</td>\n",
              "    </tr>\n",
              "    <tr>\n",
              "      <th>Alagoas</th>\n",
              "      <td>6.909084</td>\n",
              "    </tr>\n",
              "    <tr>\n",
              "      <th>Amapá</th>\n",
              "      <td>10.158484</td>\n",
              "    </tr>\n",
              "    <tr>\n",
              "      <th>Amazonas</th>\n",
              "      <td>9.086632</td>\n",
              "    </tr>\n",
              "    <tr>\n",
              "      <th>Bahia</th>\n",
              "      <td>7.446845</td>\n",
              "    </tr>\n",
              "    <tr>\n",
              "      <th>Ceará</th>\n",
              "      <td>7.616669</td>\n",
              "    </tr>\n",
              "    <tr>\n",
              "      <th>Distrito Federal</th>\n",
              "      <td>11.341625</td>\n",
              "    </tr>\n",
              "    <tr>\n",
              "      <th>Espírito Santo</th>\n",
              "      <td>9.336274</td>\n",
              "    </tr>\n",
              "    <tr>\n",
              "      <th>Goiás</th>\n",
              "      <td>9.185558</td>\n",
              "    </tr>\n",
              "    <tr>\n",
              "      <th>Maranhão</th>\n",
              "      <td>7.255992</td>\n",
              "    </tr>\n",
              "    <tr>\n",
              "      <th>Mato Grosso</th>\n",
              "      <td>9.065476</td>\n",
              "    </tr>\n",
              "    <tr>\n",
              "      <th>Mato Grosso do Sul</th>\n",
              "      <td>9.237528</td>\n",
              "    </tr>\n",
              "    <tr>\n",
              "      <th>Minas Gerais</th>\n",
              "      <td>8.618942</td>\n",
              "    </tr>\n",
              "    <tr>\n",
              "      <th>Paraná</th>\n",
              "      <td>9.254443</td>\n",
              "    </tr>\n",
              "    <tr>\n",
              "      <th>Paraíba</th>\n",
              "      <td>7.764854</td>\n",
              "    </tr>\n",
              "    <tr>\n",
              "      <th>Pará</th>\n",
              "      <td>8.383839</td>\n",
              "    </tr>\n",
              "    <tr>\n",
              "      <th>Pernambuco</th>\n",
              "      <td>7.881945</td>\n",
              "    </tr>\n",
              "    <tr>\n",
              "      <th>Piauí</th>\n",
              "      <td>7.496303</td>\n",
              "    </tr>\n",
              "    <tr>\n",
              "      <th>Rio Grande do Norte</th>\n",
              "      <td>8.276415</td>\n",
              "    </tr>\n",
              "    <tr>\n",
              "      <th>Rio Grande do Sul</th>\n",
              "      <td>9.461295</td>\n",
              "    </tr>\n",
              "    <tr>\n",
              "      <th>Rio de Janeiro</th>\n",
              "      <td>10.481230</td>\n",
              "    </tr>\n",
              "    <tr>\n",
              "      <th>Rondônia</th>\n",
              "      <td>8.561639</td>\n",
              "    </tr>\n",
              "    <tr>\n",
              "      <th>Roraima</th>\n",
              "      <td>9.837885</td>\n",
              "    </tr>\n",
              "    <tr>\n",
              "      <th>Santa Catarina</th>\n",
              "      <td>9.550262</td>\n",
              "    </tr>\n",
              "    <tr>\n",
              "      <th>Sergipe</th>\n",
              "      <td>7.862553</td>\n",
              "    </tr>\n",
              "    <tr>\n",
              "      <th>São Paulo</th>\n",
              "      <td>10.118311</td>\n",
              "    </tr>\n",
              "    <tr>\n",
              "      <th>Tocantins</th>\n",
              "      <td>8.525263</td>\n",
              "    </tr>\n",
              "  </tbody>\n",
              "</table>\n",
              "</div>\n",
              "      <button class=\"colab-df-convert\" onclick=\"convertToInteractive('df-317caf27-0fed-422a-a4bd-b596cac4bff7')\"\n",
              "              title=\"Convert this dataframe to an interactive table.\"\n",
              "              style=\"display:none;\">\n",
              "        \n",
              "  <svg xmlns=\"http://www.w3.org/2000/svg\" height=\"24px\"viewBox=\"0 0 24 24\"\n",
              "       width=\"24px\">\n",
              "    <path d=\"M0 0h24v24H0V0z\" fill=\"none\"/>\n",
              "    <path d=\"M18.56 5.44l.94 2.06.94-2.06 2.06-.94-2.06-.94-.94-2.06-.94 2.06-2.06.94zm-11 1L8.5 8.5l.94-2.06 2.06-.94-2.06-.94L8.5 2.5l-.94 2.06-2.06.94zm10 10l.94 2.06.94-2.06 2.06-.94-2.06-.94-.94-2.06-.94 2.06-2.06.94z\"/><path d=\"M17.41 7.96l-1.37-1.37c-.4-.4-.92-.59-1.43-.59-.52 0-1.04.2-1.43.59L10.3 9.45l-7.72 7.72c-.78.78-.78 2.05 0 2.83L4 21.41c.39.39.9.59 1.41.59.51 0 1.02-.2 1.41-.59l7.78-7.78 2.81-2.81c.8-.78.8-2.07 0-2.86zM5.41 20L4 18.59l7.72-7.72 1.47 1.35L5.41 20z\"/>\n",
              "  </svg>\n",
              "      </button>\n",
              "      \n",
              "  <style>\n",
              "    .colab-df-container {\n",
              "      display:flex;\n",
              "      flex-wrap:wrap;\n",
              "      gap: 12px;\n",
              "    }\n",
              "\n",
              "    .colab-df-convert {\n",
              "      background-color: #E8F0FE;\n",
              "      border: none;\n",
              "      border-radius: 50%;\n",
              "      cursor: pointer;\n",
              "      display: none;\n",
              "      fill: #1967D2;\n",
              "      height: 32px;\n",
              "      padding: 0 0 0 0;\n",
              "      width: 32px;\n",
              "    }\n",
              "\n",
              "    .colab-df-convert:hover {\n",
              "      background-color: #E2EBFA;\n",
              "      box-shadow: 0px 1px 2px rgba(60, 64, 67, 0.3), 0px 1px 3px 1px rgba(60, 64, 67, 0.15);\n",
              "      fill: #174EA6;\n",
              "    }\n",
              "\n",
              "    [theme=dark] .colab-df-convert {\n",
              "      background-color: #3B4455;\n",
              "      fill: #D2E3FC;\n",
              "    }\n",
              "\n",
              "    [theme=dark] .colab-df-convert:hover {\n",
              "      background-color: #434B5C;\n",
              "      box-shadow: 0px 1px 3px 1px rgba(0, 0, 0, 0.15);\n",
              "      filter: drop-shadow(0px 1px 2px rgba(0, 0, 0, 0.3));\n",
              "      fill: #FFFFFF;\n",
              "    }\n",
              "  </style>\n",
              "\n",
              "      <script>\n",
              "        const buttonEl =\n",
              "          document.querySelector('#df-317caf27-0fed-422a-a4bd-b596cac4bff7 button.colab-df-convert');\n",
              "        buttonEl.style.display =\n",
              "          google.colab.kernel.accessAllowed ? 'block' : 'none';\n",
              "\n",
              "        async function convertToInteractive(key) {\n",
              "          const element = document.querySelector('#df-317caf27-0fed-422a-a4bd-b596cac4bff7');\n",
              "          const dataTable =\n",
              "            await google.colab.kernel.invokeFunction('convertToInteractive',\n",
              "                                                     [key], {});\n",
              "          if (!dataTable) return;\n",
              "\n",
              "          const docLinkHtml = 'Like what you see? Visit the ' +\n",
              "            '<a target=\"_blank\" href=https://colab.research.google.com/notebooks/data_table.ipynb>data table notebook</a>'\n",
              "            + ' to learn more about interactive tables.';\n",
              "          element.innerHTML = '';\n",
              "          dataTable['output_type'] = 'display_data';\n",
              "          await google.colab.output.renderOutput(dataTable, element);\n",
              "          const docLink = document.createElement('div');\n",
              "          docLink.innerHTML = docLinkHtml;\n",
              "          element.appendChild(docLink);\n",
              "        }\n",
              "      </script>\n",
              "    </div>\n",
              "  </div>\n",
              "  "
            ]
          },
          "metadata": {},
          "execution_count": 55
        }
      ]
    },
    {
      "cell_type": "code",
      "source": [
        "est_uf.sort_values('anos_estudo').plot(kind='barh', figsize=(10,8))\n",
        "plt.title(\"Escolaridade média por UF\")\n",
        "plt.show()"
      ],
      "metadata": {
        "id": "oL635Fowp-F0",
        "outputId": "78d64cf1-0498-48df-bd01-d3c451a2e5ad",
        "colab": {
          "base_uri": "https://localhost:8080/",
          "height": 499
        }
      },
      "execution_count": 56,
      "outputs": [
        {
          "output_type": "display_data",
          "data": {
            "text/plain": [
              "<Figure size 720x576 with 1 Axes>"
            ],
            "image/png": "[encoded data removed]"
          },
          "metadata": {
            "needs_background": "light"
          }
        }
      ]
    },
    {
      "cell_type": "markdown",
      "source": [
        "#### Analisando rendimentos\n",
        "Para análisar rendimentos do trabalho, vamos montar um DataFrame apenas com pessoas ocupadas no mercado de trabalho e com rendimentos positivos. Lembrando que nossa base já conta apenas com pessoas com idade igual ou superior a 25 anos."
      ],
      "metadata": {
        "id": "Hi0KarpeqJc7"
      }
    },
    {
      "cell_type": "code",
      "source": [
        "pnadc_ocup = dfpnadc25[(dfpnadc25[\"ocupado\"] == 1) & (dfpnadc25[\"renda_trabalho\"] > 0)]"
      ],
      "metadata": {
        "id": "b_dOj8hap95E"
      },
      "execution_count": 57,
      "outputs": []
    },
    {
      "cell_type": "markdown",
      "source": [
        "Agora vamos analisar a distribuição da variável de renda do trabalho."
      ],
      "metadata": {
        "id": "e7n_sSWcqQ_v"
      }
    },
    {
      "cell_type": "code",
      "source": [
        "sns.kdeplot(pnadc_ocup[\"renda_trabalho\"], shade=True);"
      ],
      "metadata": {
        "id": "VuDJX6c2pPzp",
        "outputId": "16f8f469-ac96-4cdb-d5c4-eb4ad9c74abf",
        "colab": {
          "base_uri": "https://localhost:8080/",
          "height": 283
        }
      },
      "execution_count": 63,
      "outputs": [
        {
          "output_type": "display_data",
          "data": {
            "text/plain": [
              "<Figure size 432x288 with 1 Axes>"
            ],
            "image/png": "[encoded data removed]"
          },
          "metadata": {
            "needs_background": "light"
          }
        }
      ]
    },
    {
      "cell_type": "markdown",
      "source": [
        "Podemos perceber pelo gráfico a presença de *outliers*.\n",
        "Para verificar melhor, vamos plotar um boxplot."
      ],
      "metadata": {
        "id": "v65turiTrF4d"
      }
    },
    {
      "cell_type": "code",
      "source": [
        "pnadc_ocup[\"renda_trabalho\"].plot(kind='box', vert=False, figsize=(15, 3));"
      ],
      "metadata": {
        "id": "Zt_cIG7nqS8j",
        "outputId": "257bf798-e6d2-4a0a-b82a-61f5b019eb16",
        "colab": {
          "base_uri": "https://localhost:8080/",
          "height": 211
        }
      },
      "execution_count": 64,
      "outputs": [
        {
          "output_type": "display_data",
          "data": {
            "text/plain": [
              "<Figure size 1080x216 with 1 Axes>"
            ],
            "image/png": "[encoded data removed]"
          },
          "metadata": {
            "needs_background": "light"
          }
        }
      ]
    },
    {
      "cell_type": "markdown",
      "source": [
        "Verificar algumas estatísticas da distirbuição da renda do trabalho."
      ],
      "metadata": {
        "id": "xC631JLbrNZ-"
      }
    },
    {
      "cell_type": "code",
      "source": [
        "pnadc_ocup[\"renda_trabalho\"].describe()"
      ],
      "metadata": {
        "id": "tRQcy-ByrIF9",
        "outputId": "2a3d338c-bae6-4a2a-91b2-2131893f1664",
        "colab": {
          "base_uri": "https://localhost:8080/"
        }
      },
      "execution_count": 65,
      "outputs": [
        {
          "output_type": "execute_result",
          "data": {
            "text/plain": [
              "count    187669.000000\n",
              "mean       2353.149034\n",
              "std        3722.058127\n",
              "min           5.000000\n",
              "25%         998.000000\n",
              "50%        1500.000000\n",
              "75%        2500.000000\n",
              "max      300000.000000\n",
              "Name: renda_trabalho, dtype: float64"
            ]
          },
          "metadata": {},
          "execution_count": 65
        }
      ]
    },
    {
      "cell_type": "markdown",
      "source": [
        "Temos uma média bem maior que a medida. Até mais próxima do 75º percentil. Temos uma assimetria positiva bastante acentuada. Vamos verificar o valor do coeficiente de assimetria."
      ],
      "metadata": {
        "id": "-iIf5pkurSIV"
      }
    },
    {
      "cell_type": "code",
      "source": [
        "print(pnadc_ocup[\"renda_trabalho\"].skew())"
      ],
      "metadata": {
        "id": "q4LZipx_rP4z",
        "outputId": "36bbc164-d174-4098-a5f8-f7aa7d3b788d",
        "colab": {
          "base_uri": "https://localhost:8080/"
        }
      },
      "execution_count": 66,
      "outputs": [
        {
          "output_type": "stream",
          "name": "stdout",
          "text": [
            "13.204435363187008\n"
          ]
        }
      ]
    },
    {
      "cell_type": "markdown",
      "source": [
        "Um procedimento que pode ser adotado é a exclusão de valores muito elevados da base. Vamos analisar outras medidas de posição da nossa distribuição."
      ],
      "metadata": {
        "id": "0hSUlPQ-rWru"
      }
    },
    {
      "cell_type": "code",
      "source": [
        "print(\"80º percentil = \",pnadc_ocup[\"renda_trabalho\"].quantile(0.80))\n",
        "print(\"90º percentil = \",pnadc_ocup[\"renda_trabalho\"].quantile(0.90))\n",
        "print(\"95º percentil = \",pnadc_ocup[\"renda_trabalho\"].quantile(0.95))\n",
        "print(\"99º percentil = \",pnadc_ocup[\"renda_trabalho\"].quantile(0.99))"
      ],
      "metadata": {
        "id": "QjJAsduVrURy",
        "outputId": "1d8cc989-a83d-473a-e0fd-a01524ddde42",
        "colab": {
          "base_uri": "https://localhost:8080/"
        }
      },
      "execution_count": 67,
      "outputs": [
        {
          "output_type": "stream",
          "name": "stdout",
          "text": [
            "80º percentil =  3000.0\n",
            "90º percentil =  5000.0\n",
            "95º percentil =  7000.0\n",
            "99º percentil =  17000.0\n"
          ]
        }
      ]
    },
    {
      "cell_type": "markdown",
      "source": [
        "Antes de fazer alterações, vamos fazer uma cópia do Data Frame 'pnadc_ocup'."
      ],
      "metadata": {
        "id": "7gDYxuyJrdUs"
      }
    },
    {
      "cell_type": "code",
      "source": [
        "df_ocup = pnadc_ocup.copy()"
      ],
      "metadata": {
        "id": "JFh5iO3crYhz"
      },
      "execution_count": 69,
      "outputs": []
    },
    {
      "cell_type": "markdown",
      "source": [
        "Agora vamos usar a cópia e excluir observações com rendimentos acima do 95º percentil usando drop"
      ],
      "metadata": {
        "id": "6AKVNF7-rjPa"
      }
    },
    {
      "cell_type": "code",
      "source": [
        "df_ocup.drop(pnadc_ocup[pnadc_ocup[\"renda_trabalho\"] >= 7000].index, axis = 0, inplace=True)"
      ],
      "metadata": {
        "id": "f1UonLNNrcLO"
      },
      "execution_count": 70,
      "outputs": []
    },
    {
      "cell_type": "code",
      "source": [
        "df_ocup[\"renda_trabalho\"].describe()"
      ],
      "metadata": {
        "id": "onAO5liyrlYN",
        "outputId": "36ad8b7a-5c59-459c-fa27-cc523c2f0aaa",
        "colab": {
          "base_uri": "https://localhost:8080/"
        }
      },
      "execution_count": 71,
      "outputs": [
        {
          "output_type": "execute_result",
          "data": {
            "text/plain": [
              "count    177320.000000\n",
              "mean       1725.717787\n",
              "std        1287.905629\n",
              "min           5.000000\n",
              "25%         998.000000\n",
              "50%        1400.000000\n",
              "75%        2200.000000\n",
              "max        6998.000000\n",
              "Name: renda_trabalho, dtype: float64"
            ]
          },
          "metadata": {},
          "execution_count": 71
        }
      ]
    },
    {
      "cell_type": "code",
      "source": [
        "print(df_ocup[\"renda_trabalho\"].skew())"
      ],
      "metadata": {
        "id": "o-4-ig2jro01",
        "outputId": "f25b32e2-7340-4c02-a2ab-f5e7a5fb8d30",
        "colab": {
          "base_uri": "https://localhost:8080/"
        }
      },
      "execution_count": 72,
      "outputs": [
        {
          "output_type": "stream",
          "name": "stdout",
          "text": [
            "1.3956259508230302\n"
          ]
        }
      ]
    },
    {
      "cell_type": "code",
      "source": [
        "df_ocup[\"renda_trabalho\"].plot(kind='box', vert=False, figsize=(15, 3))\n",
        "plt.show()"
      ],
      "metadata": {
        "id": "enFv4OYQrqkW",
        "outputId": "57d6a697-dd4e-4fa7-fc79-0e9fb79c3ca8",
        "colab": {
          "base_uri": "https://localhost:8080/",
          "height": 211
        }
      },
      "execution_count": 73,
      "outputs": [
        {
          "output_type": "display_data",
          "data": {
            "text/plain": [
              "<Figure size 1080x216 with 1 Axes>"
            ],
            "image/png": "[encoded data removed]"
          },
          "metadata": {
            "needs_background": "light"
          }
        }
      ]
    },
    {
      "cell_type": "code",
      "source": [
        "sns.kdeplot(df_ocup[\"renda_trabalho\"], shade=True);"
      ],
      "metadata": {
        "id": "LETUUUkrrsRK",
        "outputId": "f091e6f3-6cbf-488d-a05b-3acd35b3078a",
        "colab": {
          "base_uri": "https://localhost:8080/",
          "height": 280
        }
      },
      "execution_count": 74,
      "outputs": [
        {
          "output_type": "display_data",
          "data": {
            "text/plain": [
              "<Figure size 432x288 with 1 Axes>"
            ],
            "image/png": "[encoded data removed]"
          },
          "metadata": {
            "needs_background": "light"
          }
        }
      ]
    },
    {
      "cell_type": "code",
      "source": [
        "# Renda do trabalho por UF\n",
        "rtrab_uf = df_ocup.groupby('UF').mean()[[\"renda_trabalho\"]]\n",
        "rtrab_uf"
      ],
      "metadata": {
        "id": "KGcthrcpr4JV",
        "outputId": "4eb4306e-ffb2-4b52-ad78-cf6373285ce3",
        "colab": {
          "base_uri": "https://localhost:8080/",
          "height": 927
        }
      },
      "execution_count": 75,
      "outputs": [
        {
          "output_type": "execute_result",
          "data": {
            "text/plain": [
              "                     renda_trabalho\n",
              "UF                                 \n",
              "Acre                    1661.673290\n",
              "Alagoas                 1275.563888\n",
              "Amapá                   1767.120968\n",
              "Amazonas                1364.696514\n",
              "Bahia                   1207.632431\n",
              "Ceará                   1219.667056\n",
              "Distrito Federal        2247.538601\n",
              "Espírito Santo          1757.185726\n",
              "Goiás                   1859.655192\n",
              "Maranhão                1158.278480\n",
              "Mato Grosso             2002.010535\n",
              "Mato Grosso do Sul      1993.120422\n",
              "Minas Gerais            1725.489215\n",
              "Paraná                  2040.392409\n",
              "Paraíba                 1299.575555\n",
              "Pará                    1384.771723\n",
              "Pernambuco              1332.963377\n",
              "Piauí                   1254.539128\n",
              "Rio Grande do Norte     1405.662773\n",
              "Rio Grande do Sul       2071.376379\n",
              "Rio de Janeiro          1961.565909\n",
              "Rondônia                1851.094453\n",
              "Roraima                 1655.156250\n",
              "Santa Catarina          2229.626445\n",
              "Sergipe                 1261.884194\n",
              "São Paulo               2089.620765\n",
              "Tocantins               1607.150343"
            ],
            "text/html": [
              "\n",
              "  <div id=\"df-7f0faa85-1d6f-4b6b-bb1d-19764da28cae\">\n",
              "    <div class=\"colab-df-container\">\n",
              "      <div>\n",
              "<style scoped>\n",
              "    .dataframe tbody tr th:only-of-type {\n",
              "        vertical-align: middle;\n",
              "    }\n",
              "\n",
              "    .dataframe tbody tr th {\n",
              "        vertical-align: top;\n",
              "    }\n",
              "\n",
              "    .dataframe thead th {\n",
              "        text-align: right;\n",
              "    }\n",
              "</style>\n",
              "<table border=\"1\" class=\"dataframe\">\n",
              "  <thead>\n",
              "    <tr style=\"text-align: right;\">\n",
              "      <th></th>\n",
              "      <th>renda_trabalho</th>\n",
              "    </tr>\n",
              "    <tr>\n",
              "      <th>UF</th>\n",
              "      <th></th>\n",
              "    </tr>\n",
              "  </thead>\n",
              "  <tbody>\n",
              "    <tr>\n",
              "      <th>Acre</th>\n",
              "      <td>1661.673290</td>\n",
              "    </tr>\n",
              "    <tr>\n",
              "      <th>Alagoas</th>\n",
              "      <td>1275.563888</td>\n",
              "    </tr>\n",
              "    <tr>\n",
              "      <th>Amapá</th>\n",
              "      <td>1767.120968</td>\n",
              "    </tr>\n",
              "    <tr>\n",
              "      <th>Amazonas</th>\n",
              "      <td>1364.696514</td>\n",
              "    </tr>\n",
              "    <tr>\n",
              "      <th>Bahia</th>\n",
              "      <td>1207.632431</td>\n",
              "    </tr>\n",
              "    <tr>\n",
              "      <th>Ceará</th>\n",
              "      <td>1219.667056</td>\n",
              "    </tr>\n",
              "    <tr>\n",
              "      <th>Distrito Federal</th>\n",
              "      <td>2247.538601</td>\n",
              "    </tr>\n",
              "    <tr>\n",
              "      <th>Espírito Santo</th>\n",
              "      <td>1757.185726</td>\n",
              "    </tr>\n",
              "    <tr>\n",
              "      <th>Goiás</th>\n",
              "      <td>1859.655192</td>\n",
              "    </tr>\n",
              "    <tr>\n",
              "      <th>Maranhão</th>\n",
              "      <td>1158.278480</td>\n",
              "    </tr>\n",
              "    <tr>\n",
              "      <th>Mato Grosso</th>\n",
              "      <td>2002.010535</td>\n",
              "    </tr>\n",
              "    <tr>\n",
              "      <th>Mato Grosso do Sul</th>\n",
              "      <td>1993.120422</td>\n",
              "    </tr>\n",
              "    <tr>\n",
              "      <th>Minas Gerais</th>\n",
              "      <td>1725.489215</td>\n",
              "    </tr>\n",
              "    <tr>\n",
              "      <th>Paraná</th>\n",
              "      <td>2040.392409</td>\n",
              "    </tr>\n",
              "    <tr>\n",
              "      <th>Paraíba</th>\n",
              "      <td>1299.575555</td>\n",
              "    </tr>\n",
              "    <tr>\n",
              "      <th>Pará</th>\n",
              "      <td>1384.771723</td>\n",
              "    </tr>\n",
              "    <tr>\n",
              "      <th>Pernambuco</th>\n",
              "      <td>1332.963377</td>\n",
              "    </tr>\n",
              "    <tr>\n",
              "      <th>Piauí</th>\n",
              "      <td>1254.539128</td>\n",
              "    </tr>\n",
              "    <tr>\n",
              "      <th>Rio Grande do Norte</th>\n",
              "      <td>1405.662773</td>\n",
              "    </tr>\n",
              "    <tr>\n",
              "      <th>Rio Grande do Sul</th>\n",
              "      <td>2071.376379</td>\n",
              "    </tr>\n",
              "    <tr>\n",
              "      <th>Rio de Janeiro</th>\n",
              "      <td>1961.565909</td>\n",
              "    </tr>\n",
              "    <tr>\n",
              "      <th>Rondônia</th>\n",
              "      <td>1851.094453</td>\n",
              "    </tr>\n",
              "    <tr>\n",
              "      <th>Roraima</th>\n",
              "      <td>1655.156250</td>\n",
              "    </tr>\n",
              "    <tr>\n",
              "      <th>Santa Catarina</th>\n",
              "      <td>2229.626445</td>\n",
              "    </tr>\n",
              "    <tr>\n",
              "      <th>Sergipe</th>\n",
              "      <td>1261.884194</td>\n",
              "    </tr>\n",
              "    <tr>\n",
              "      <th>São Paulo</th>\n",
              "      <td>2089.620765</td>\n",
              "    </tr>\n",
              "    <tr>\n",
              "      <th>Tocantins</th>\n",
              "      <td>1607.150343</td>\n",
              "    </tr>\n",
              "  </tbody>\n",
              "</table>\n",
              "</div>\n",
              "      <button class=\"colab-df-convert\" onclick=\"convertToInteractive('df-7f0faa85-1d6f-4b6b-bb1d-19764da28cae')\"\n",
              "              title=\"Convert this dataframe to an interactive table.\"\n",
              "              style=\"display:none;\">\n",
              "        \n",
              "  <svg xmlns=\"http://www.w3.org/2000/svg\" height=\"24px\"viewBox=\"0 0 24 24\"\n",
              "       width=\"24px\">\n",
              "    <path d=\"M0 0h24v24H0V0z\" fill=\"none\"/>\n",
              "    <path d=\"M18.56 5.44l.94 2.06.94-2.06 2.06-.94-2.06-.94-.94-2.06-.94 2.06-2.06.94zm-11 1L8.5 8.5l.94-2.06 2.06-.94-2.06-.94L8.5 2.5l-.94 2.06-2.06.94zm10 10l.94 2.06.94-2.06 2.06-.94-2.06-.94-.94-2.06-.94 2.06-2.06.94z\"/><path d=\"M17.41 7.96l-1.37-1.37c-.4-.4-.92-.59-1.43-.59-.52 0-1.04.2-1.43.59L10.3 9.45l-7.72 7.72c-.78.78-.78 2.05 0 2.83L4 21.41c.39.39.9.59 1.41.59.51 0 1.02-.2 1.41-.59l7.78-7.78 2.81-2.81c.8-.78.8-2.07 0-2.86zM5.41 20L4 18.59l7.72-7.72 1.47 1.35L5.41 20z\"/>\n",
              "  </svg>\n",
              "      </button>\n",
              "      \n",
              "  <style>\n",
              "    .colab-df-container {\n",
              "      display:flex;\n",
              "      flex-wrap:wrap;\n",
              "      gap: 12px;\n",
              "    }\n",
              "\n",
              "    .colab-df-convert {\n",
              "      background-color: #E8F0FE;\n",
              "      border: none;\n",
              "      border-radius: 50%;\n",
              "      cursor: pointer;\n",
              "      display: none;\n",
              "      fill: #1967D2;\n",
              "      height: 32px;\n",
              "      padding: 0 0 0 0;\n",
              "      width: 32px;\n",
              "    }\n",
              "\n",
              "    .colab-df-convert:hover {\n",
              "      background-color: #E2EBFA;\n",
              "      box-shadow: 0px 1px 2px rgba(60, 64, 67, 0.3), 0px 1px 3px 1px rgba(60, 64, 67, 0.15);\n",
              "      fill: #174EA6;\n",
              "    }\n",
              "\n",
              "    [theme=dark] .colab-df-convert {\n",
              "      background-color: #3B4455;\n",
              "      fill: #D2E3FC;\n",
              "    }\n",
              "\n",
              "    [theme=dark] .colab-df-convert:hover {\n",
              "      background-color: #434B5C;\n",
              "      box-shadow: 0px 1px 3px 1px rgba(0, 0, 0, 0.15);\n",
              "      filter: drop-shadow(0px 1px 2px rgba(0, 0, 0, 0.3));\n",
              "      fill: #FFFFFF;\n",
              "    }\n",
              "  </style>\n",
              "\n",
              "      <script>\n",
              "        const buttonEl =\n",
              "          document.querySelector('#df-7f0faa85-1d6f-4b6b-bb1d-19764da28cae button.colab-df-convert');\n",
              "        buttonEl.style.display =\n",
              "          google.colab.kernel.accessAllowed ? 'block' : 'none';\n",
              "\n",
              "        async function convertToInteractive(key) {\n",
              "          const element = document.querySelector('#df-7f0faa85-1d6f-4b6b-bb1d-19764da28cae');\n",
              "          const dataTable =\n",
              "            await google.colab.kernel.invokeFunction('convertToInteractive',\n",
              "                                                     [key], {});\n",
              "          if (!dataTable) return;\n",
              "\n",
              "          const docLinkHtml = 'Like what you see? Visit the ' +\n",
              "            '<a target=\"_blank\" href=https://colab.research.google.com/notebooks/data_table.ipynb>data table notebook</a>'\n",
              "            + ' to learn more about interactive tables.';\n",
              "          element.innerHTML = '';\n",
              "          dataTable['output_type'] = 'display_data';\n",
              "          await google.colab.output.renderOutput(dataTable, element);\n",
              "          const docLink = document.createElement('div');\n",
              "          docLink.innerHTML = docLinkHtml;\n",
              "          element.appendChild(docLink);\n",
              "        }\n",
              "      </script>\n",
              "    </div>\n",
              "  </div>\n",
              "  "
            ]
          },
          "metadata": {},
          "execution_count": 75
        }
      ]
    },
    {
      "cell_type": "code",
      "source": [
        "rtrab_uf.sort_values('renda_trabalho').plot(kind='barh', figsize=(10,8))\n",
        "plt.title(\"Renda do trabalho média por UF\");"
      ],
      "metadata": {
        "id": "7xJlFJE2r4gL",
        "outputId": "2c2bcab1-cabb-421b-9e69-31ec21cd660b",
        "colab": {
          "base_uri": "https://localhost:8080/",
          "height": 499
        }
      },
      "execution_count": 76,
      "outputs": [
        {
          "output_type": "display_data",
          "data": {
            "text/plain": [
              "<Figure size 720x576 with 1 Axes>"
            ],
            "image/png": "[encoded data removed]"
          },
          "metadata": {
            "needs_background": "light"
          }
        }
      ]
    },
    {
      "cell_type": "markdown",
      "source": [
        "Na modelagem estatística é muito comum a transformação logarítmica de variáveis. Adotar a escala logaritmica em um modelo de regressão possui algumas vantagens. Primeiro ela permite que relações não lineares possam ser tratadas no âmbito de um modelo linear. \n",
        "\n",
        "A transformação também é indicada em situações em que a distribuição dos resíduos é muito assimétrica e apresenta heterocedasticidade dos resíduos sejam garantidas. Nesse sentido, a transformação logaritmica torna a distribuição de resíduos mais simétrica (mais próxima da normal) e reduz o efeito de heterocedasticidade.\n",
        "\n",
        "Aqui vamos aplicar a escala logaritmica (logaritmo natual) na renda trabalho, usando a função `log` do NumPy.\n"
      ],
      "metadata": {
        "id": "MJ__hc7Qr-U3"
      }
    },
    {
      "cell_type": "code",
      "source": [
        "df_ocup[\"log_rtrab\"] = np.log(df_ocup[\"renda_trabalho\"])\n",
        "df_ocup.head()"
      ],
      "metadata": {
        "id": "UwJaMrOjr6a0",
        "outputId": "5f07e91e-f8ce-46e2-b08d-905cb0cd0546",
        "colab": {
          "base_uri": "https://localhost:8080/",
          "height": 250
        }
      },
      "execution_count": 77,
      "outputs": [
        {
          "output_type": "execute_result",
          "data": {
            "text/plain": [
              "          UF  Capital    sexo  idade     cor  escolaridade  anos_estudo  \\\n",
              "0   Rondônia     11.0  mulher     45   parda           5.0         12.0   \n",
              "5   Rondônia     11.0  mulher     54   parda           5.0         12.0   \n",
              "13  Rondônia     11.0   homem     30  branca           5.0         12.0   \n",
              "14  Rondônia     11.0   homem     28   parda           7.0         16.0   \n",
              "15  Rondônia     11.0   homem     26   parda           5.0         12.0   \n",
              "\n",
              "    forca_trabalho  ocupado  tipo_ocupacao  atividade  renda_trabalho  \\\n",
              "0              1.0      1.0            1.0        9.0          2100.0   \n",
              "5              1.0      1.0            7.0        9.0          1000.0   \n",
              "13             1.0      1.0            1.0        4.0          1600.0   \n",
              "14             1.0      1.0            7.0        9.0          1600.0   \n",
              "15             1.0      1.0            1.0        5.0          2000.0   \n",
              "\n",
              "    log_rtrab  \n",
              "0    7.649693  \n",
              "5    6.907755  \n",
              "13   7.377759  \n",
              "14   7.377759  \n",
              "15   7.600902  "
            ],
            "text/html": [
              "\n",
              "  <div id=\"df-82345c9a-6971-4d05-a305-d7a6a086a305\">\n",
              "    <div class=\"colab-df-container\">\n",
              "      <div>\n",
              "<style scoped>\n",
              "    .dataframe tbody tr th:only-of-type {\n",
              "        vertical-align: middle;\n",
              "    }\n",
              "\n",
              "    .dataframe tbody tr th {\n",
              "        vertical-align: top;\n",
              "    }\n",
              "\n",
              "    .dataframe thead th {\n",
              "        text-align: right;\n",
              "    }\n",
              "</style>\n",
              "<table border=\"1\" class=\"dataframe\">\n",
              "  <thead>\n",
              "    <tr style=\"text-align: right;\">\n",
              "      <th></th>\n",
              "      <th>UF</th>\n",
              "      <th>Capital</th>\n",
              "      <th>sexo</th>\n",
              "      <th>idade</th>\n",
              "      <th>cor</th>\n",
              "      <th>escolaridade</th>\n",
              "      <th>anos_estudo</th>\n",
              "      <th>forca_trabalho</th>\n",
              "      <th>ocupado</th>\n",
              "      <th>tipo_ocupacao</th>\n",
              "      <th>atividade</th>\n",
              "      <th>renda_trabalho</th>\n",
              "      <th>log_rtrab</th>\n",
              "    </tr>\n",
              "  </thead>\n",
              "  <tbody>\n",
              "    <tr>\n",
              "      <th>0</th>\n",
              "      <td>Rondônia</td>\n",
              "      <td>11.0</td>\n",
              "      <td>mulher</td>\n",
              "      <td>45</td>\n",
              "      <td>parda</td>\n",
              "      <td>5.0</td>\n",
              "      <td>12.0</td>\n",
              "      <td>1.0</td>\n",
              "      <td>1.0</td>\n",
              "      <td>1.0</td>\n",
              "      <td>9.0</td>\n",
              "      <td>2100.0</td>\n",
              "      <td>7.649693</td>\n",
              "    </tr>\n",
              "    <tr>\n",
              "      <th>5</th>\n",
              "      <td>Rondônia</td>\n",
              "      <td>11.0</td>\n",
              "      <td>mulher</td>\n",
              "      <td>54</td>\n",
              "      <td>parda</td>\n",
              "      <td>5.0</td>\n",
              "      <td>12.0</td>\n",
              "      <td>1.0</td>\n",
              "      <td>1.0</td>\n",
              "      <td>7.0</td>\n",
              "      <td>9.0</td>\n",
              "      <td>1000.0</td>\n",
              "      <td>6.907755</td>\n",
              "    </tr>\n",
              "    <tr>\n",
              "      <th>13</th>\n",
              "      <td>Rondônia</td>\n",
              "      <td>11.0</td>\n",
              "      <td>homem</td>\n",
              "      <td>30</td>\n",
              "      <td>branca</td>\n",
              "      <td>5.0</td>\n",
              "      <td>12.0</td>\n",
              "      <td>1.0</td>\n",
              "      <td>1.0</td>\n",
              "      <td>1.0</td>\n",
              "      <td>4.0</td>\n",
              "      <td>1600.0</td>\n",
              "      <td>7.377759</td>\n",
              "    </tr>\n",
              "    <tr>\n",
              "      <th>14</th>\n",
              "      <td>Rondônia</td>\n",
              "      <td>11.0</td>\n",
              "      <td>homem</td>\n",
              "      <td>28</td>\n",
              "      <td>parda</td>\n",
              "      <td>7.0</td>\n",
              "      <td>16.0</td>\n",
              "      <td>1.0</td>\n",
              "      <td>1.0</td>\n",
              "      <td>7.0</td>\n",
              "      <td>9.0</td>\n",
              "      <td>1600.0</td>\n",
              "      <td>7.377759</td>\n",
              "    </tr>\n",
              "    <tr>\n",
              "      <th>15</th>\n",
              "      <td>Rondônia</td>\n",
              "      <td>11.0</td>\n",
              "      <td>homem</td>\n",
              "      <td>26</td>\n",
              "      <td>parda</td>\n",
              "      <td>5.0</td>\n",
              "      <td>12.0</td>\n",
              "      <td>1.0</td>\n",
              "      <td>1.0</td>\n",
              "      <td>1.0</td>\n",
              "      <td>5.0</td>\n",
              "      <td>2000.0</td>\n",
              "      <td>7.600902</td>\n",
              "    </tr>\n",
              "  </tbody>\n",
              "</table>\n",
              "</div>\n",
              "      <button class=\"colab-df-convert\" onclick=\"convertToInteractive('df-82345c9a-6971-4d05-a305-d7a6a086a305')\"\n",
              "              title=\"Convert this dataframe to an interactive table.\"\n",
              "              style=\"display:none;\">\n",
              "        \n",
              "  <svg xmlns=\"http://www.w3.org/2000/svg\" height=\"24px\"viewBox=\"0 0 24 24\"\n",
              "       width=\"24px\">\n",
              "    <path d=\"M0 0h24v24H0V0z\" fill=\"none\"/>\n",
              "    <path d=\"M18.56 5.44l.94 2.06.94-2.06 2.06-.94-2.06-.94-.94-2.06-.94 2.06-2.06.94zm-11 1L8.5 8.5l.94-2.06 2.06-.94-2.06-.94L8.5 2.5l-.94 2.06-2.06.94zm10 10l.94 2.06.94-2.06 2.06-.94-2.06-.94-.94-2.06-.94 2.06-2.06.94z\"/><path d=\"M17.41 7.96l-1.37-1.37c-.4-.4-.92-.59-1.43-.59-.52 0-1.04.2-1.43.59L10.3 9.45l-7.72 7.72c-.78.78-.78 2.05 0 2.83L4 21.41c.39.39.9.59 1.41.59.51 0 1.02-.2 1.41-.59l7.78-7.78 2.81-2.81c.8-.78.8-2.07 0-2.86zM5.41 20L4 18.59l7.72-7.72 1.47 1.35L5.41 20z\"/>\n",
              "  </svg>\n",
              "      </button>\n",
              "      \n",
              "  <style>\n",
              "    .colab-df-container {\n",
              "      display:flex;\n",
              "      flex-wrap:wrap;\n",
              "      gap: 12px;\n",
              "    }\n",
              "\n",
              "    .colab-df-convert {\n",
              "      background-color: #E8F0FE;\n",
              "      border: none;\n",
              "      border-radius: 50%;\n",
              "      cursor: pointer;\n",
              "      display: none;\n",
              "      fill: #1967D2;\n",
              "      height: 32px;\n",
              "      padding: 0 0 0 0;\n",
              "      width: 32px;\n",
              "    }\n",
              "\n",
              "    .colab-df-convert:hover {\n",
              "      background-color: #E2EBFA;\n",
              "      box-shadow: 0px 1px 2px rgba(60, 64, 67, 0.3), 0px 1px 3px 1px rgba(60, 64, 67, 0.15);\n",
              "      fill: #174EA6;\n",
              "    }\n",
              "\n",
              "    [theme=dark] .colab-df-convert {\n",
              "      background-color: #3B4455;\n",
              "      fill: #D2E3FC;\n",
              "    }\n",
              "\n",
              "    [theme=dark] .colab-df-convert:hover {\n",
              "      background-color: #434B5C;\n",
              "      box-shadow: 0px 1px 3px 1px rgba(0, 0, 0, 0.15);\n",
              "      filter: drop-shadow(0px 1px 2px rgba(0, 0, 0, 0.3));\n",
              "      fill: #FFFFFF;\n",
              "    }\n",
              "  </style>\n",
              "\n",
              "      <script>\n",
              "        const buttonEl =\n",
              "          document.querySelector('#df-82345c9a-6971-4d05-a305-d7a6a086a305 button.colab-df-convert');\n",
              "        buttonEl.style.display =\n",
              "          google.colab.kernel.accessAllowed ? 'block' : 'none';\n",
              "\n",
              "        async function convertToInteractive(key) {\n",
              "          const element = document.querySelector('#df-82345c9a-6971-4d05-a305-d7a6a086a305');\n",
              "          const dataTable =\n",
              "            await google.colab.kernel.invokeFunction('convertToInteractive',\n",
              "                                                     [key], {});\n",
              "          if (!dataTable) return;\n",
              "\n",
              "          const docLinkHtml = 'Like what you see? Visit the ' +\n",
              "            '<a target=\"_blank\" href=https://colab.research.google.com/notebooks/data_table.ipynb>data table notebook</a>'\n",
              "            + ' to learn more about interactive tables.';\n",
              "          element.innerHTML = '';\n",
              "          dataTable['output_type'] = 'display_data';\n",
              "          await google.colab.output.renderOutput(dataTable, element);\n",
              "          const docLink = document.createElement('div');\n",
              "          docLink.innerHTML = docLinkHtml;\n",
              "          element.appendChild(docLink);\n",
              "        }\n",
              "      </script>\n",
              "    </div>\n",
              "  </div>\n",
              "  "
            ]
          },
          "metadata": {},
          "execution_count": 77
        }
      ]
    },
    {
      "cell_type": "code",
      "source": [
        "sns.kdeplot(df_ocup[\"log_rtrab\"], shade=True);"
      ],
      "metadata": {
        "id": "F_Y7ZZdZsA5K",
        "outputId": "c446f972-847c-4210-e03c-fb5030e5a59c",
        "colab": {
          "base_uri": "https://localhost:8080/",
          "height": 280
        }
      },
      "execution_count": 78,
      "outputs": [
        {
          "output_type": "display_data",
          "data": {
            "text/plain": [
              "<Figure size 432x288 with 1 Axes>"
            ],
            "image/png": "[encoded data removed]"
          },
          "metadata": {
            "needs_background": "light"
          }
        }
      ]
    },
    {
      "cell_type": "markdown",
      "source": [
        "Para aprofundar a análise, vamos plotar a distribuição de renda do trabalho por grupos de homens e mulheres."
      ],
      "metadata": {
        "id": "6TtbaSDusMgf"
      }
    },
    {
      "cell_type": "code",
      "source": [
        "df_h = df_ocup[df_ocup.sexo == \"homem\"]\n",
        "df_m = df_ocup[df_ocup.sexo == \"mulher\"]\n",
        "\n",
        "sns.distplot(df_h[[\"log_rtrab\"]], hist=False, label = \"homens\" )\n",
        "sns.distplot(df_m[[\"log_rtrab\"]], hist=False, label = \"mulheres\");"
      ],
      "metadata": {
        "id": "3mCEjcqJs3A7",
        "outputId": "b901490f-3e1a-485e-d4e8-558296c207b8",
        "colab": {
          "base_uri": "https://localhost:8080/",
          "height": 354
        }
      },
      "execution_count": 85,
      "outputs": [
        {
          "output_type": "stream",
          "name": "stderr",
          "text": [
            "/usr/local/lib/python3.7/dist-packages/seaborn/distributions.py:2619: FutureWarning: `distplot` is a deprecated function and will be removed in a future version. Please adapt your code to use either `displot` (a figure-level function with similar flexibility) or `kdeplot` (an axes-level function for kernel density plots).\n",
            "  warnings.warn(msg, FutureWarning)\n",
            "/usr/local/lib/python3.7/dist-packages/seaborn/distributions.py:2619: FutureWarning: `distplot` is a deprecated function and will be removed in a future version. Please adapt your code to use either `displot` (a figure-level function with similar flexibility) or `kdeplot` (an axes-level function for kernel density plots).\n",
            "  warnings.warn(msg, FutureWarning)\n"
          ]
        },
        {
          "output_type": "display_data",
          "data": {
            "text/plain": [
              "<Figure size 432x288 with 1 Axes>"
            ],
            "image/png": "[encoded data removed]"
          },
          "metadata": {
            "needs_background": "light"
          }
        }
      ]
    },
    {
      "cell_type": "markdown",
      "source": [
        "Em um gráfico de dispersão podemos verificar uma evidência da relação entre anos de estudo e renda do trabalho para os dois grupos."
      ],
      "metadata": {
        "id": "A0Yfn7_ItQmy"
      }
    },
    {
      "cell_type": "code",
      "source": [
        "sns.lmplot('anos_estudo', 'log_rtrab', hue='sexo', data=df_ocup);"
      ],
      "metadata": {
        "id": "N3NeLEiIsjdF",
        "outputId": "caecffee-97be-4a96-9ed9-afc41795a146",
        "colab": {
          "base_uri": "https://localhost:8080/",
          "height": 424
        }
      },
      "execution_count": 86,
      "outputs": [
        {
          "output_type": "stream",
          "name": "stderr",
          "text": [
            "/usr/local/lib/python3.7/dist-packages/seaborn/_decorators.py:43: FutureWarning: Pass the following variables as keyword args: x, y. From version 0.12, the only valid positional argument will be `data`, and passing other arguments without an explicit keyword will result in an error or misinterpretation.\n",
            "  FutureWarning\n"
          ]
        },
        {
          "output_type": "display_data",
          "data": {
            "text/plain": [
              "<Figure size 433.75x360 with 1 Axes>"
            ],
            "image/png": "[encoded data removed]"
          },
          "metadata": {
            "needs_background": "light"
          }
        }
      ]
    },
    {
      "cell_type": "markdown",
      "source": [
        "### Regressão linear (uma análise breve)\n",
        "\n",
        "Apesar de não ser o foco do presente Notebook, vamos apresentar de forma breve as estimações de modelos de regressão linear.\n",
        "\n",
        "Aqui os modelos serão estimados pelo método de Mínimos Quadrados Ordinários (OLS - *Ordinary Least Square*).\n",
        "\n",
        "Para essas estimações vamos usar a biblioteca **statsmodel** (https://www.statsmodels.org/)."
      ],
      "metadata": {
        "id": "d0jQ7Zl2tjTR"
      }
    },
    {
      "cell_type": "code",
      "source": [
        "# Primeiro vamos importar o statsmodel e a API formula\n",
        "import statsmodels.api as sm\n",
        "import statsmodels.formula.api as smf"
      ],
      "metadata": {
        "id": "4KwIk0eWtXAt",
        "outputId": "135f7597-c566-4198-d0d8-3703e239c518",
        "colab": {
          "base_uri": "https://localhost:8080/"
        }
      },
      "execution_count": 87,
      "outputs": [
        {
          "output_type": "stream",
          "name": "stderr",
          "text": [
            "/usr/local/lib/python3.7/dist-packages/statsmodels/tools/_testing.py:19: FutureWarning: pandas.util.testing is deprecated. Use the functions in the public API at pandas.testing instead.\n",
            "  import pandas.util.testing as tm\n"
          ]
        }
      ]
    },
    {
      "cell_type": "markdown",
      "source": [
        "Vamos estimar uma regressão do log da renda do trabalho em função da escolaridade (em anos de estudo)."
      ],
      "metadata": {
        "id": "ve5TYnHvttRe"
      }
    },
    {
      "cell_type": "code",
      "source": [
        "# define o modelo\n",
        "model1 = smf.ols(formula = 'log_rtrab ~ anos_estudo', data = df_ocup)\n",
        "# estima\n",
        "model1 = model1.fit()\n",
        "# imprime os resultados\n",
        "print(model1.summary())"
      ],
      "metadata": {
        "id": "NwFKGtuctrfu",
        "outputId": "253f6dfd-6fbe-4764-f397-12e5cc87f16d",
        "colab": {
          "base_uri": "https://localhost:8080/"
        }
      },
      "execution_count": 88,
      "outputs": [
        {
          "output_type": "stream",
          "name": "stdout",
          "text": [
            "                            OLS Regression Results                            \n",
            "==============================================================================\n",
            "Dep. Variable:              log_rtrab   R-squared:                       0.201\n",
            "Model:                            OLS   Adj. R-squared:                  0.201\n",
            "Method:                 Least Squares   F-statistic:                 4.454e+04\n",
            "Date:                Fri, 22 Jul 2022   Prob (F-statistic):               0.00\n",
            "Time:                        11:42:04   Log-Likelihood:            -2.0652e+05\n",
            "No. Observations:              177320   AIC:                         4.131e+05\n",
            "Df Residuals:                  177318   BIC:                         4.131e+05\n",
            "Df Model:                           1                                         \n",
            "Covariance Type:            nonrobust                                         \n",
            "===============================================================================\n",
            "                  coef    std err          t      P>|t|      [0.025      0.975]\n",
            "-------------------------------------------------------------------------------\n",
            "Intercept       6.2527      0.005   1349.175      0.000       6.244       6.262\n",
            "anos_estudo     0.0888      0.000    211.036      0.000       0.088       0.090\n",
            "==============================================================================\n",
            "Omnibus:                    26349.843   Durbin-Watson:                   1.550\n",
            "Prob(Omnibus):                  0.000   Jarque-Bera (JB):            52560.652\n",
            "Skew:                          -0.920   Prob(JB):                         0.00\n",
            "Kurtosis:                       4.931   Cond. No.                         27.9\n",
            "==============================================================================\n",
            "\n",
            "Warnings:\n",
            "[1] Standard Errors assume that the covariance matrix of the errors is correctly specified.\n"
          ]
        }
      ]
    },
    {
      "cell_type": "markdown",
      "source": [
        "Para estimar um modelo de regressão linear múltipla vamos adicionar mais algumas variáveis explicativas: idade e sexo."
      ],
      "metadata": {
        "id": "_QPq5dZ7twIL"
      }
    },
    {
      "cell_type": "code",
      "source": [
        "model2 = smf.ols(formula = 'log_rtrab ~ anos_estudo + idade + sexo', data = df_ocup)\n",
        "model2  = model2.fit() \n",
        "print(model2 .summary())"
      ],
      "metadata": {
        "id": "kx-DzlbetvJA",
        "outputId": "9a9082ef-c06a-4ed0-abe2-eef5aede3196",
        "colab": {
          "base_uri": "https://localhost:8080/"
        }
      },
      "execution_count": 89,
      "outputs": [
        {
          "output_type": "stream",
          "name": "stdout",
          "text": [
            "                            OLS Regression Results                            \n",
            "==============================================================================\n",
            "Dep. Variable:              log_rtrab   R-squared:                       0.250\n",
            "Model:                            OLS   Adj. R-squared:                  0.250\n",
            "Method:                 Least Squares   F-statistic:                 1.969e+04\n",
            "Date:                Fri, 22 Jul 2022   Prob (F-statistic):               0.00\n",
            "Time:                        11:42:25   Log-Likelihood:            -2.0090e+05\n",
            "No. Observations:              177320   AIC:                         4.018e+05\n",
            "Df Residuals:                  177316   BIC:                         4.019e+05\n",
            "Df Model:                           3                                         \n",
            "Covariance Type:            nonrobust                                         \n",
            "==================================================================================\n",
            "                     coef    std err          t      P>|t|      [0.025      0.975]\n",
            "----------------------------------------------------------------------------------\n",
            "Intercept          5.8896      0.009    621.566      0.000       5.871       5.908\n",
            "sexo[T.mulher]    -0.3580      0.004    -96.606      0.000      -0.365      -0.351\n",
            "anos_estudo        0.1050      0.000    237.729      0.000       0.104       0.106\n",
            "idade              0.0082      0.000     50.695      0.000       0.008       0.009\n",
            "==============================================================================\n",
            "Omnibus:                    27454.213   Durbin-Watson:                   1.508\n",
            "Prob(Omnibus):                  0.000   Jarque-Bera (JB):            56165.250\n",
            "Skew:                          -0.944   Prob(JB):                         0.00\n",
            "Kurtosis:                       5.009   Cond. No.                         242.\n",
            "==============================================================================\n",
            "\n",
            "Warnings:\n",
            "[1] Standard Errors assume that the covariance matrix of the errors is correctly specified.\n"
          ]
        }
      ]
    },
    {
      "cell_type": "markdown",
      "source": [
        "Em uma primeira checagem dos resultados, podemos verificar que os coeficientes foram estimados com os sinais esperados e são estatisticamente significantes. Mas não devemos nos atentar apenas a avaliar isto. Em outro Notebook podemos abordar de forma detalhada a análise dos resultados de modelo de regressão linear simples, bem como o diagnóstico do modelo."
      ],
      "metadata": {
        "id": "1Qx4iyN5t5RC"
      }
    }
  ],
  "metadata": {
    "kernelspec": {
      "display_name": "Python 3",
      "language": "python",
      "name": "python3"
    },
    "language_info": {
      "codemirror_mode": {
        "name": "ipython",
        "version": 3
      },
      "file_extension": ".py",
      "mimetype": "text/x-python",
      "name": "python",
      "nbconvert_exporter": "python",
      "pygments_lexer": "ipython3",
      "version": "3.7.6"
    },
    "colab": {
      "name": "python_fundamentos_8_pandas_p2.ipynb",
      "provenance": [],
      "collapsed_sections": [
        "tHISWLkCnngU",
        "wWY3rUz_nngV",
        "bl7qeIoLnngY"
      ],
      "include_colab_link": true
    }
  },
  "nbformat": 4,
  "nbformat_minor": 0
}