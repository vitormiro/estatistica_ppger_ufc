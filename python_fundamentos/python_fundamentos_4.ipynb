{
  "nbformat": 4,
  "nbformat_minor": 0,
  "metadata": {
    "colab": {
      "name": "python_fundamentos_4.ipynb",
      "provenance": [],
      "collapsed_sections": [],
      "authorship_tag": "ABX9TyNIoWB2pzjG71SLAtaCgs4P",
      "include_colab_link": true
    },
    "kernelspec": {
      "display_name": "Python 3",
      "language": "python",
      "name": "python3"
    },
    "language_info": {
      "codemirror_mode": {
        "name": "ipython",
        "version": 3
      },
      "file_extension": ".py",
      "mimetype": "text/x-python",
      "name": "python",
      "nbconvert_exporter": "python",
      "pygments_lexer": "ipython3",
      "version": "3.7.6"
    }
  },
  "cells": [
    {
      "cell_type": "markdown",
      "metadata": {
        "id": "view-in-github",
        "colab_type": "text"
      },
      "source": [
        "<a href=\"https://colab.research.google.com/github/vitormiro/estatistica_ppger_ufc/blob/main/python_fundamentos_4.ipynb\" target=\"_parent\"><img src=\"https://colab.research.google.com/assets/colab-badge.svg\" alt=\"Open In Colab\"/></a>"
      ]
    },
    {
      "cell_type": "markdown",
      "metadata": {
        "id": "VQDRRVsOvDli"
      },
      "source": [
        "# Funções\n",
        "\n",
        "No contexto de programação, função é uma sequência nomeada de instruções ou comandos, que executam alguma operação. Esta operação é especificada numa definição de função.\n",
        "\n",
        "Algumas funções são nativas no Python, como a função `print()`, que utilizamos bastante até aqui. As função nativas são conhecidas como funções _built-in_.\n",
        "\n",
        "No entanto, o foco deste notebook é apresentar a definição de funções; algo que pode ser muito útil para organizar programas e análises que envolvem tarefas repetitivas.\n"
      ]
    },
    {
      "cell_type": "markdown",
      "metadata": {
        "id": "aYGV4kR9QHmW"
      },
      "source": [
        "## Definindo uma função\n",
        "\n",
        "As função são declaradas com o termo reservado `def`, seguido pelo nome da função e de parâmetros entre parênteses.\n",
        "\n",
        "Algumas funções podem não ter nehum parâmetro, mas os parênteses são obrigatórios. E de modo geral, é possível ter múltiplos parâmetros.\n",
        "\n",
        "A sintaxe de definição de função é a seguinte:\n",
        "\n",
        "```\n",
        "def nome ( parametros ):\n",
        "    comandos\n",
        "```\n",
        "\n",
        "\n",
        "Para muitas funções é usual que ela retorne algum resultado. O retorno é feito com o termo reservado `return`.\n",
        "\n",
        "Vamos definir uma função bem simples para começar."
      ]
    },
    {
      "cell_type": "code",
      "metadata": {
        "id": "ZROqaVKjvFV-"
      },
      "source": [
        "# A função 'oi' exibe uma saudação simples\n",
        "def oi():\n",
        "    return('Oi! Tudo bem?')"
      ],
      "execution_count": null,
      "outputs": []
    },
    {
      "cell_type": "code",
      "metadata": {
        "id": "Fj9ArgXnQL_s"
      },
      "source": [
        "oi()"
      ],
      "execution_count": null,
      "outputs": []
    },
    {
      "cell_type": "markdown",
      "metadata": {
        "id": "yhMrZ9-tQTZi"
      },
      "source": [
        "O termo `def` informa ao Python que estamos definindo uma função.\n",
        "\n",
        "Como vimos, entre parênteses devem conter os parâmetros da função. No exemplo acima, não há parâmetros; a função `oi()` não precisa de informações adicionais para executar sua tarefa.\n",
        "Note que a definição termina com `:`.\n",
        "Qualquer linha indentada após a definição da função faz parte do _corpo_ da função.\n",
        "\n",
        "A linha com `print` é a única linha de código desta função."
      ]
    },
    {
      "cell_type": "markdown",
      "metadata": {
        "id": "cgHMRhL5QZjk"
      },
      "source": [
        "## Passando informações para a função\n",
        "\n",
        "Vamos aprimorar nossa função adicionando um parâmetro 'username'.\n",
        "Nessa situação a função exige um argumento para executar a tarefa, nesse caso, um nome de usuário.\n",
        "\n",
        "Aqui vale apresentar a distinção entre parêmetros e argumentos de uma função.\n",
        "\n",
        "Ao definir uma função, estabelecemos parâmetros para ela.\n",
        "Ao executar a função devemos informar valores para os parâmetros ou argumentos.\n",
        "\n",
        "**Parâmetros**: são os nomes dados aos atributos que uma função pode receber. Definem quais argumentos são aceitos por uma função, podendo ou não ter um valor padrão (default).\n",
        "\n",
        "**Argumentos**: são os valores que realmente são passados para uma função.\n",
        "\n",
        "\n",
        "Note que a função a seguir possui um texto entre aspas triplas. Este texto é um comentário e não é executado. Usamos estes comentários para descreve a tarefa executada pela função, facilitando a sua compreensão."
      ]
    },
    {
      "cell_type": "code",
      "metadata": {
        "id": "iIDNuzylQTu_"
      },
      "source": [
        "def oi(username):\n",
        "    \"\"\"Exibe uma saudação simples.\"\"\"\n",
        "    print(\"Oi, \" + username.title() + \" !\")"
      ],
      "execution_count": null,
      "outputs": []
    },
    {
      "cell_type": "code",
      "metadata": {
        "id": "8G57xTbMQbsb"
      },
      "source": [
        "oi('Vitor')"
      ],
      "execution_count": null,
      "outputs": []
    },
    {
      "cell_type": "code",
      "metadata": {
        "id": "6NkItTmPda8j"
      },
      "source": [
        "oi('Maria')"
      ],
      "execution_count": null,
      "outputs": []
    },
    {
      "cell_type": "markdown",
      "metadata": {
        "id": "yZSjeExavKn4"
      },
      "source": [
        "De forma geral, ao definir uma função que receba informações, precisamos definir um ou mais parâmetros. Assim, uma estrutura geral para uma função seria:\n",
        "\n",
        "```\n",
        "def nome ( parametro 1, parametro 2, ... ):\n",
        "    comandos\n",
        "```\n"
      ]
    },
    {
      "cell_type": "code",
      "metadata": {
        "id": "l70Bg-LnTypw"
      },
      "source": [
        "# Exemplo: vamos definir uma função simples de soma\n",
        "def soma (p1, p2):\n",
        "    return p1 + p2"
      ],
      "execution_count": null,
      "outputs": []
    },
    {
      "cell_type": "code",
      "metadata": {
        "id": "nPyeKupST2kg"
      },
      "source": [
        "# vamos usar a função soma\n",
        "soma(10, 15)"
      ],
      "execution_count": null,
      "outputs": []
    },
    {
      "cell_type": "code",
      "metadata": {
        "id": "rgdX4gQEdtyZ"
      },
      "source": [
        "soma(55, 100)"
      ],
      "execution_count": null,
      "outputs": []
    },
    {
      "cell_type": "code",
      "metadata": {
        "id": "StOU9BPsJ2fJ"
      },
      "source": [
        "# Exemplo: vamos definir uma função de diferença\n",
        "def dif(d1, d2):\n",
        "    return d2 - d1"
      ],
      "execution_count": null,
      "outputs": []
    },
    {
      "cell_type": "code",
      "metadata": {
        "id": "Cz-iVy94KFTj"
      },
      "source": [
        "dif(10, 5)"
      ],
      "execution_count": null,
      "outputs": []
    },
    {
      "cell_type": "code",
      "metadata": {
        "id": "hD7Pb3jpd6s_"
      },
      "source": [
        "dif(10, 50)"
      ],
      "execution_count": null,
      "outputs": []
    },
    {
      "cell_type": "markdown",
      "metadata": {
        "id": "W4e1-qShVuJ6"
      },
      "source": [
        "## Mais sobre parâmetros e argumentos\n",
        "\n",
        "Um argumento é uma informação passada para uma função em sua chamada.\n",
        "Quando chamamos a função, colocamos entre parênteses o valor com que queremos que a função trabalhe.\n",
        "\n",
        "Como vimos anteriormente, é possível definir vários parâmetros para uma função. A função então pode precisar de vários argumentos.\n",
        "\n",
        "Por sua vez, os argumentos podem ser _argumentos posicionais_, que devem estar na mesma ordem que os parâmetros que foram escritos, ou _argumentos nomeados_, em que cada argumento é constituído de um nome de variável e de um valor, ou por meio de listas e dicionários de valores."
      ]
    },
    {
      "cell_type": "markdown",
      "metadata": {
        "id": "THCSXYPhT6dy"
      },
      "source": [
        "Na última função `soma(p1, p2)` utilizamos argumentos posicionais.\n",
        "\n",
        "Vamos escrever uma função com argumentos nomeados."
      ]
    },
    {
      "cell_type": "code",
      "metadata": {
        "id": "2DqDp5k0T70L"
      },
      "source": [
        "# Exemplo: função linear com parâmetros já definidos.\n",
        "def funcao1 (x, b=5, m=2):                    # os parâmetros b e m são argumentos nomeados nesta função.\n",
        "    y = b + m * x\n",
        "    return y"
      ],
      "execution_count": null,
      "outputs": []
    },
    {
      "cell_type": "code",
      "metadata": {
        "id": "mJOxAQ4ZUAxz"
      },
      "source": [
        "# passando apenas o valor de x\n",
        "funcao1(2)"
      ],
      "execution_count": null,
      "outputs": []
    },
    {
      "cell_type": "markdown",
      "metadata": {
        "id": "hQzAe0v_8nq-"
      },
      "source": [
        "Os argumentos nomeados não são fixos. Note neste exemplo a seguir."
      ]
    },
    {
      "cell_type": "code",
      "metadata": {
        "id": "v9OET0zmUDyB"
      },
      "source": [
        "funcao1(2, 10, 3)"
      ],
      "execution_count": null,
      "outputs": []
    },
    {
      "cell_type": "markdown",
      "metadata": {
        "id": "ZVm9YQk1UJJM"
      },
      "source": [
        "A principal restrição é que argumentos nomeados deve vir depois dos argumentos posicionais (se houver)."
      ]
    },
    {
      "cell_type": "code",
      "metadata": {
        "id": "JTuyEQLpU7Wq"
      },
      "source": [
        "funcao1(2, m=3, b=10)"
      ],
      "execution_count": null,
      "outputs": []
    },
    {
      "cell_type": "markdown",
      "metadata": {
        "id": "b5w7jW6BQmqN"
      },
      "source": [
        "Vamos ver um exemplo da função do tipo Cobb-Douglas, muito utilizada na Economia (funções de produção, funções utilidade).\n",
        "\n",
        "$$ y = b X_1^a X_2^{1-a} $$\n"
      ]
    },
    {
      "cell_type": "code",
      "metadata": {
        "id": "QUGJ1paFLjEW"
      },
      "source": [
        "# Definição de uma função do tipo Cobb-Douglas\n",
        "def cobbd(x1, x2, b=10, a=0.5):\n",
        "    y = b * (x1**a) * (x2**(1-a))\n",
        "    return y"
      ],
      "execution_count": null,
      "outputs": []
    },
    {
      "cell_type": "code",
      "metadata": {
        "id": "ugs13qMnMTUI"
      },
      "source": [
        "# Vamos considerar uma função de produção\n",
        "# Função vai retornar o produto com os valores de insumos: x1=5 e x2=10\n",
        "cobbd(5, 10)"
      ],
      "execution_count": null,
      "outputs": []
    },
    {
      "cell_type": "code",
      "metadata": {
        "id": "9-QjDLP1MdA0"
      },
      "source": [
        "# Podemos alterar os valores dos parâmetros b e a\n",
        "cobbd(5, 10, 20, 0.3)"
      ],
      "execution_count": null,
      "outputs": []
    },
    {
      "cell_type": "markdown",
      "metadata": {
        "id": "Z2nW74XhMYfZ"
      },
      "source": [
        "Produto Marginal de $X_1$:\n",
        "\n",
        "$$ PMg_{X_1} = b a X_1^{a-1} X_2^{1-a} $$"
      ]
    },
    {
      "cell_type": "code",
      "metadata": {
        "id": "-7BfKuShMqAC"
      },
      "source": [
        "# Podemos definir uma função para o Produto Marginal de X1\n",
        "def pmg1(x1, x2, b=10, a=0.5):\n",
        "    prodmg = b * a * (x1**(a-1)) * (x2**(1-a))\n",
        "    return prodmg"
      ],
      "execution_count": null,
      "outputs": []
    },
    {
      "cell_type": "code",
      "metadata": {
        "id": "l8LqtcJoNQrm"
      },
      "source": [
        "pmg1 (5, 10, 20, 0.3)"
      ],
      "execution_count": null,
      "outputs": []
    },
    {
      "cell_type": "markdown",
      "metadata": {
        "id": "urKuvygzYIRR"
      },
      "source": [
        "**Aplicações**\n",
        "\n",
        "Vamos aplicar um pouco definindo funções estatísticas"
      ]
    },
    {
      "cell_type": "markdown",
      "metadata": {
        "id": "XQLvzh2bNni8"
      },
      "source": [
        "Média\n",
        "\n",
        "$$ \\bar{x} = \\frac{1}{n} \\sum_{i=1}^{n} x_i  $$"
      ]
    },
    {
      "cell_type": "code",
      "metadata": {
        "id": "1SJ1c-s9QZTj"
      },
      "source": [
        "# Definir uma função para cálculo de média\n",
        "def media(amostra):\n",
        "    return sum(amostra) / len(amostra)"
      ],
      "execution_count": null,
      "outputs": []
    },
    {
      "cell_type": "code",
      "metadata": {
        "id": "3rRxpaDyV_fh"
      },
      "source": [
        "# Vamos definir uma amostra de números\n",
        "X = [82, 50, 75, 67, 83, 58, 92, 88, 65, 57]"
      ],
      "execution_count": null,
      "outputs": []
    },
    {
      "cell_type": "code",
      "metadata": {
        "id": "sT239oCoaoZ-"
      },
      "source": [
        "media(X)"
      ],
      "execution_count": null,
      "outputs": []
    },
    {
      "cell_type": "markdown",
      "metadata": {
        "id": "HDpzxLKcOzJG"
      },
      "source": [
        "Variância\n",
        "\n",
        "$$ var(X) = \\frac{1}{n-1} \\sum_{i=1}^{n} (x_i - \\bar{x} )^2   $$"
      ]
    },
    {
      "cell_type": "code",
      "metadata": {
        "id": "YDlfQJrGarNz"
      },
      "source": [
        "# Definir uma função para cálculo de variância\n",
        "def var(amostra):\n",
        "    n = len(amostra)\n",
        "    media = sum(amostra) / n\n",
        "    desvios = [(x - media)**2 for x in amostra]\n",
        "    variancia = sum(desvios) / (n-1)\n",
        "    return variancia"
      ],
      "execution_count": null,
      "outputs": []
    },
    {
      "cell_type": "code",
      "metadata": {
        "id": "3ob3tYf1axSL"
      },
      "source": [
        "var(X)"
      ],
      "execution_count": null,
      "outputs": []
    },
    {
      "cell_type": "markdown",
      "metadata": {
        "id": "Z4LtxMqGUQc1"
      },
      "source": [
        "### Namespaces, módulos e escopo\n",
        "\n",
        "*Namespaces* \n",
        "\n",
        "No Python, todo objeto (números, strings, funções, conjuntos de dados) pode receber um nome. É o nome do objeto que permite acessá-lo.\n",
        "\n",
        "A definição de *namespace* (ou espaço de nomes) não é simples. A documentação do Python define um *namespace* como um mapeamento que associa nomes a objetos.\n",
        "\n",
        "Os namespaces ajudam-nos a identificar todos os nomes dentro de um programa e certifica-se que todos os nomes em um programa são únicos e podem ser usados sem qualquer conflito.\n",
        "\n",
        "Um escopo é uma região textual de um programa Python onde um namespace pode ser acessado. O namespace é uma maneira de gerenciar nomes de objetos dentro de um escopo.\n",
        "\n"
      ]
    },
    {
      "cell_type": "markdown",
      "metadata": {
        "id": "jvQGEK74FN4A"
      },
      "source": [
        "\n",
        "As funções podem acessar variáveis em dois escopos diferentes: global e local.\n",
        "\n",
        "Namespace local: inclui nomes locais dentro de uma função. Este namespace é criado quando uma função é chamada, e só dura até que a função retorne. Quaisquer variáveis que recebam uma atribuição em uma função, por padrão, são associadas ao namespace local, criado quando a função é chamada e imediatamente preenchido com os argumentos da função.\n",
        "\n",
        "Namespace global: inclui nomes de vários módulos importados que você está usando em um programa. Ele é criado quando o módulo é incluído no programa, e dura até o script terminar.\n",
        "\n",
        "Uma variável global é aquela que não foi definida dentro do escopo da função que a está utilizando. Ela passa a existir no momento em que é definida e pode ser utilizada até o fim do script.\n",
        "\n",
        "Vamos ver alguns exemplos."
      ]
    },
    {
      "cell_type": "code",
      "metadata": {
        "id": "CVqDqBqF_rIV"
      },
      "source": [
        "# Definir uma variável numérica - uma variável global\n",
        "g1 = 500"
      ],
      "execution_count": null,
      "outputs": []
    },
    {
      "cell_type": "code",
      "metadata": {
        "id": "FLJki78p_9Jt"
      },
      "source": [
        "# Uma operação usando uma variável\n",
        "g2 = 5 * g1\n",
        "g2"
      ],
      "execution_count": null,
      "outputs": []
    },
    {
      "cell_type": "markdown",
      "metadata": {
        "id": "CCxfZxOqAAdd"
      },
      "source": [
        "Quando você define o valor da variável dentro da função, ela é uma variável local.\n",
        "\n",
        "Exemplo:"
      ]
    },
    {
      "cell_type": "code",
      "metadata": {
        "id": "tTIOqCt5AFRa"
      },
      "source": [
        "# definir uma função com variável 'local'\n",
        "def func():\n",
        "    local = 10\n",
        "    print(local)\n",
        "    glocal = local * g1\n",
        "    print(glocal)"
      ],
      "execution_count": null,
      "outputs": []
    },
    {
      "cell_type": "code",
      "metadata": {
        "id": "5NknarG5XPDW"
      },
      "source": [
        "# usar a função\n",
        "func()"
      ],
      "execution_count": null,
      "outputs": []
    },
    {
      "cell_type": "markdown",
      "metadata": {
        "id": "kKdSSE9lQdf7"
      },
      "source": [
        "Veja que a variável local não é utilizada fora da função."
      ]
    },
    {
      "cell_type": "code",
      "metadata": {
        "id": "Skyzs-afAi9D"
      },
      "source": [
        "x = 2*local\n",
        "print(x)"
      ],
      "execution_count": null,
      "outputs": []
    },
    {
      "cell_type": "code",
      "metadata": {
        "id": "XS1XE_JAAkFG"
      },
      "source": [
        "func()"
      ],
      "execution_count": null,
      "outputs": []
    },
    {
      "cell_type": "markdown",
      "metadata": {
        "id": "BUvNcYL9RVHY"
      },
      "source": [
        "Mas uma variável global pode ser utilizada:"
      ]
    },
    {
      "cell_type": "code",
      "metadata": {
        "id": "daKRoWb_RZwB"
      },
      "source": [
        "x = 2* g1\n",
        "print(x)"
      ],
      "execution_count": null,
      "outputs": []
    },
    {
      "cell_type": "markdown",
      "metadata": {
        "id": "QdzLkSu_KzRP"
      },
      "source": [
        "## Expressões lambda\n",
        "\n",
        "Funções lambda nada mais são do que funções anônimas. Enquanto funções normais podem ser criada utilizando `def` como prefixo, as funções lambda são criadas utilizando `lambda`."
      ]
    },
    {
      "cell_type": "code",
      "metadata": {
        "id": "ZzCDYRKqK4L5"
      },
      "source": [
        "# definir uma função para realizar somas\n",
        "def soma(num1, num2):\n",
        "    return num1 + num2"
      ],
      "execution_count": null,
      "outputs": []
    },
    {
      "cell_type": "code",
      "metadata": {
        "id": "G5FBA_M1X6x0"
      },
      "source": [
        "soma(2, 3)"
      ],
      "execution_count": null,
      "outputs": []
    },
    {
      "cell_type": "code",
      "metadata": {
        "id": "e4rjq5wCK8sR"
      },
      "source": [
        "# definir uma função lambda para realizar somas\n",
        "soma_lambda = lambda num1, num2: num1 + num2"
      ],
      "execution_count": null,
      "outputs": []
    },
    {
      "cell_type": "code",
      "metadata": {
        "id": "JOwjDTwcYAPZ"
      },
      "source": [
        "soma_lambda(2, 3)"
      ],
      "execution_count": null,
      "outputs": []
    },
    {
      "cell_type": "code",
      "metadata": {
        "id": "dcmDYc2lBwoE"
      },
      "source": [
        "soma_lambda(10, 5)"
      ],
      "execution_count": null,
      "outputs": []
    },
    {
      "cell_type": "code",
      "metadata": {
        "id": "9yWSPpmJQ1pr"
      },
      "source": [
        "# Definir uma função lambda para cálculo de média \n",
        "media_lam = lambda amostra: sum(amostra) / len(amostra)"
      ],
      "execution_count": null,
      "outputs": []
    },
    {
      "cell_type": "code",
      "metadata": {
        "id": "N7-OqY1_Y8Q0"
      },
      "source": [
        "# usando os valores de X definidos anteriormente\n",
        "media_lam(X)"
      ],
      "execution_count": null,
      "outputs": []
    },
    {
      "cell_type": "code",
      "metadata": {
        "id": "Hr13miUyCm5b"
      },
      "source": [
        "Y = [22, 27, 19, 15, 13, 8]"
      ],
      "execution_count": null,
      "outputs": []
    },
    {
      "cell_type": "code",
      "metadata": {
        "id": "NRpoR66pCsuf"
      },
      "source": [
        "media_lam(Y)"
      ],
      "execution_count": null,
      "outputs": []
    },
    {
      "cell_type": "markdown",
      "metadata": {
        "id": "E2IR_CfjcWLx"
      },
      "source": [
        "# Módulos\n",
        "\n",
        "Em Python, um módulo é um arquivo `.py` com instruções e definições em Python. Essa é a definição apresentada na [documentação oficial](https://docs.python.org/pt-br/3/tutorial/modules.html).\n",
        "\n",
        "De uma maneira bem simples, clara e objetiva: módulo é um arquivo que contém código Python, escrito com o objetivo de executar operações específicas.\n",
        "\n",
        "O módulo [statistics](https://docs.python.org/pt-br/3/library/statistics.html#module-statistics), por exemplo, fornece funções para o cálculo de estatísticas matemáticas de dados numéricos.\n",
        "\n",
        "Para utilizar as funções definidas em um módulo devemos importá-lo para o programa em que estamos trabalhando. Isso é feito com o comando `import`.\n"
      ]
    },
    {
      "cell_type": "code",
      "metadata": {
        "id": "a8uAhfMHe5KO"
      },
      "source": [
        "# importar módulo statistics\n",
        "import statistics as stat"
      ],
      "execution_count": null,
      "outputs": []
    },
    {
      "cell_type": "code",
      "metadata": {
        "id": "TBDS-ruAe_Oo"
      },
      "source": [
        "# amostra X\n",
        "X = [10, 12, 18, 14, 20, 8, 16, 11, 7]"
      ],
      "execution_count": null,
      "outputs": []
    },
    {
      "cell_type": "code",
      "metadata": {
        "id": "FHcnTcN9f9xx"
      },
      "source": [
        "# média\n",
        "stat.mean(X)"
      ],
      "execution_count": null,
      "outputs": []
    },
    {
      "cell_type": "code",
      "metadata": {
        "id": "UXITt-mtTDYY"
      },
      "source": [
        "# usando nossa função lambda para média\n",
        "media_lam(X)"
      ],
      "execution_count": null,
      "outputs": []
    },
    {
      "cell_type": "code",
      "metadata": {
        "id": "n7z000ixgHmd"
      },
      "source": [
        "# variância amostral\n",
        "stat.variance(X)"
      ],
      "execution_count": null,
      "outputs": []
    },
    {
      "cell_type": "code",
      "metadata": {
        "id": "EhRpc2toTMcn"
      },
      "source": [
        "# usando nossa função para a variância\n",
        "var(X)"
      ],
      "execution_count": null,
      "outputs": []
    },
    {
      "cell_type": "markdown",
      "metadata": {
        "id": "0LbbNzojg-NW"
      },
      "source": [
        "# Bibliotecas\n",
        "Uma biblioteca é um conjunto de módulos (kkk...).\n",
        "\n",
        "O Python possui uma 'biblioteca padrão', que estamos usando desde que iniciamos este curso."
      ]
    },
    {
      "cell_type": "markdown",
      "metadata": {
        "id": "JwUQ5aVEdWmK"
      },
      "source": [
        "## SymPy e cálculo no Python\n",
        "\n",
        "[SymPy](https://www.sympy.org/pt/index.html) é uma biblioteca Python para computação simbólica. A biblioteca SymPy inclui ferramentas que variam do cálculo de aritmética simbólica básica, álgebra, matemática discreta e física quântica.\n",
        "\n",
        "A Sympy é livre (sob licença BSD), é fácil de ser instalada e analisada, pois é escrita em Python e não depende de bibliotecas adicionais.\n",
        "Ela também é capaz de formatar o resultado das computações em código LaTeX."
      ]
    },
    {
      "cell_type": "code",
      "metadata": {
        "id": "Yvd0fl39dV-1"
      },
      "source": [
        "# Se for necessário, primeiro devemos instalar a biblioteca SymPy (retirar o # da linha abaixo antes de executar)\n",
        "#!pip install sympy"
      ],
      "execution_count": null,
      "outputs": []
    },
    {
      "cell_type": "code",
      "metadata": {
        "id": "r8k8ReZKeibf"
      },
      "source": [
        "# importar a biblioteca sympy\n",
        "import sympy as sym"
      ],
      "execution_count": null,
      "outputs": []
    },
    {
      "cell_type": "code",
      "metadata": {
        "id": "7Gsm0yIAK0zN"
      },
      "source": [
        "# este método irá habilitar a melhor forma de impressão do resultado, em um formato mais agradável.\n",
        "sym.init_printing()"
      ],
      "execution_count": null,
      "outputs": []
    },
    {
      "cell_type": "markdown",
      "metadata": {
        "id": "8fuu-WBYMovu"
      },
      "source": [
        "Antes de realizarmos qualquer operação simbólica, precisamos criar variáveis ​​simbólicas usando a função `Symbol`."
      ]
    },
    {
      "cell_type": "code",
      "metadata": {
        "id": "hNXZdbFrepPf"
      },
      "source": [
        "# define x como uma variável\n",
        "x = sym.Symbol('x')"
      ],
      "execution_count": null,
      "outputs": []
    },
    {
      "cell_type": "markdown",
      "metadata": {
        "id": "QIYMDgMbJMA6"
      },
      "source": [
        "### Cálculo de derivadas (1 variável)\n",
        "Usamos a função `diff`."
      ]
    },
    {
      "cell_type": "markdown",
      "metadata": {
        "id": "txJ97P8nNHvY"
      },
      "source": [
        "Vamos calcular a derivada da função $y = x^5 $."
      ]
    },
    {
      "cell_type": "code",
      "metadata": {
        "id": "EF1ltRYRJKEC"
      },
      "source": [
        "sym.diff(x**5)"
      ],
      "execution_count": null,
      "outputs": []
    },
    {
      "cell_type": "markdown",
      "metadata": {
        "id": "ZQmEY4MiKKD6"
      },
      "source": [
        "Derivada da função $y = 10 x^{0.5} $.\n"
      ]
    },
    {
      "cell_type": "code",
      "metadata": {
        "id": "VrHQ4aujKIoQ"
      },
      "source": [
        "sym.diff(10*x**0.5)"
      ],
      "execution_count": null,
      "outputs": []
    },
    {
      "cell_type": "markdown",
      "metadata": {
        "id": "M1NDHU6DMIVU"
      },
      "source": [
        "### Cálculo de integrais (1 variável)\n",
        "Vamos usar a função `integrate`."
      ]
    },
    {
      "cell_type": "markdown",
      "metadata": {
        "id": "8SrSRhgfNgMc"
      },
      "source": [
        "Vamos integrar a função $x^2$."
      ]
    },
    {
      "cell_type": "code",
      "metadata": {
        "id": "ma8B9o7YMWJ_"
      },
      "source": [
        "sym.integrate(x**2)"
      ],
      "execution_count": null,
      "outputs": []
    },
    {
      "cell_type": "markdown",
      "metadata": {
        "id": "1huCaJdmOVvq"
      },
      "source": [
        "### Cálculo de derivadas (2 variáveis)\n",
        "Precisamos definir as duas variáveis: $x$ e $y$."
      ]
    },
    {
      "cell_type": "code",
      "metadata": {
        "id": "HpKbwUI_Nez-"
      },
      "source": [
        "x, y = sym.symbols('x,y')"
      ],
      "execution_count": null,
      "outputs": []
    },
    {
      "cell_type": "markdown",
      "metadata": {
        "id": "7TKCKCgQPR3m"
      },
      "source": [
        "Vamos considerar o exemplo de uma função de produção do tipo Cobb-Douglas em que o produto $q$ é determinado pelo uso de dois insumos $x$ e $y$.\n",
        "$$ q = x^{0.4} y^{0.6} $$\n",
        "\n",
        "A primeira derivada desta função em relação a cada um dos insumos é o produto marginal do insumo.\n",
        "\n",
        "Para o cálculo de derivadas parciais devemos declarar um argumento adicional na função, referente à variável sobre a qual iremos tomar a derivada."
      ]
    },
    {
      "cell_type": "code",
      "metadata": {
        "id": "ZScAYuthPPRQ"
      },
      "source": [
        "# Produto marginal de X\n",
        "sym.diff(x**(0.4)*y**(0.6), x)"
      ],
      "execution_count": null,
      "outputs": []
    },
    {
      "cell_type": "code",
      "metadata": {
        "id": "cSbTmc5eQ7gf"
      },
      "source": [
        "# Produto marginal de Y\n",
        "sym.diff(x**(0.4)*y**(0.6), y)"
      ],
      "execution_count": null,
      "outputs": []
    },
    {
      "cell_type": "markdown",
      "metadata": {
        "id": "6vGaz5FLR-Un"
      },
      "source": [
        "### Cálculo de integrais (2 variáveis)\n",
        "As duas variáveis $x$ e $y$ já foram definidas anteriormente."
      ]
    },
    {
      "cell_type": "markdown",
      "metadata": {
        "id": "gUO9cMfjSHR2"
      },
      "source": [
        "Seja uma função densidade de probabilidade conjunta das variáveis aleatórias $X$ e $Y$, dada por:\n",
        "$$ f(x,y)=4xy  \\qquad, 0 < x < 1 \\text{ e } 0 < y < 1 $$\n",
        "\n",
        "As funções de densidade (fdp) marginais são obtidas da seguinte forma:\n",
        "\n",
        "- fdp de $X$:\n",
        "$$ f_X(x)=\\int_0^1 4xy dy = 4x \\left[\\dfrac{y^2}{2}\\right]_{y=0}^{y=1}=2x, \\qquad 0<x<1 $$\n",
        "\n",
        "- fdp de $Y$:\n",
        "$$ f_Y(y)=\\int_0^1 4xy dx=4y\\left[\\dfrac{x^2}{2}\\right]_{x=0}^{x=1}=2y, \\qquad 0<y<1 $$\n",
        "\n",
        "Agora temos uma integral definida. Usando a função `integrate` note que devemos informar sobre qual variável estamos integrando e os valores limites do suporte da variável."
      ]
    },
    {
      "cell_type": "code",
      "metadata": {
        "id": "IxQszgBkRhxU"
      },
      "source": [
        "# fdp de X\n",
        "sym.integrate(4*x*y, (y, 0, 1))"
      ],
      "execution_count": null,
      "outputs": []
    },
    {
      "cell_type": "code",
      "metadata": {
        "id": "UBiJ17j8Ur9S"
      },
      "source": [
        "# fdp de Y\n",
        "sym.integrate(4*x*y, (x, 0, 1))"
      ],
      "execution_count": null,
      "outputs": []
    }
  ]
}