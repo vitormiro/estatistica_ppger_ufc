{
  "nbformat": 4,
  "nbformat_minor": 0,
  "metadata": {
    "colab": {
      "name": "python_fundamentos_4.ipynb",
      "provenance": [],
      "collapsed_sections": [],
      "authorship_tag": "ABX9TyMjOY+88k5KAo9sCVZoH3Y5",
      "include_colab_link": true
    },
    "kernelspec": {
      "display_name": "Python 3",
      "language": "python",
      "name": "python3"
    },
    "language_info": {
      "codemirror_mode": {
        "name": "ipython",
        "version": 3
      },
      "file_extension": ".py",
      "mimetype": "text/x-python",
      "name": "python",
      "nbconvert_exporter": "python",
      "pygments_lexer": "ipython3",
      "version": "3.7.6"
    }
  },
  "cells": [
    {
      "cell_type": "markdown",
      "metadata": {
        "id": "view-in-github",
        "colab_type": "text"
      },
      "source": [
        "<a href=\"https://colab.research.google.com/github/vitormiro/estatistica_ppger_ufc/blob/main/python_fundamentos_4.ipynb\" target=\"_parent\"><img src=\"https://colab.research.google.com/assets/colab-badge.svg\" alt=\"Open In Colab\"/></a>"
      ]
    },
    {
      "cell_type": "markdown",
      "metadata": {
        "id": "VQDRRVsOvDli"
      },
      "source": [
        "# Funções\n",
        "\n",
        "No contexto de programação, função é uma sequência nomeada de instruções ou comandos, que executam alguma operação. Esta operação é especificada numa definição de função.\n",
        "\n",
        "Algumas funções são nativas no Python, como a função `print()`, que utilizamos bastante até aqui. As função nativas são conhecidas como funções _built-in_.\n",
        "\n",
        "No entanto, o foco deste notebook é apresentar a definição de funções; algo que pode ser muito útil para organizar programas e análises que envolvem tarefas repetitivas.\n"
      ]
    },
    {
      "cell_type": "markdown",
      "metadata": {
        "id": "aYGV4kR9QHmW"
      },
      "source": [
        "## Definindo uma função\n",
        "\n",
        "As função são declaradas com o termo reservado `def`, seguido pelo nome da função e de parâmetros entre parênteses.\n",
        "\n",
        "Algumas funções podem não ter nehum parâmetro, mas os parênteses são obrigatórios. E de modo geral, é possível ter múltiplos parâmetros.\n",
        "\n",
        "A sintaxe de definição de função é a seguinte:\n",
        "\n",
        "```\n",
        "def nome ( parametros ):\n",
        "    comandos\n",
        "```\n",
        "\n",
        "\n",
        "Para muitas funções é usual que ela retorne algum resultado. O retorno é feito com o termo reservado `return`.\n",
        "\n",
        "Vamos definir uma função bem simples para começar."
      ]
    },
    {
      "cell_type": "code",
      "metadata": {
        "id": "ZROqaVKjvFV-"
      },
      "source": [
        "# A função 'oi' exibe uma saudação simples\n",
        "def oi():\n",
        "    return('Oi! Tudo bem?')"
      ],
      "execution_count": null,
      "outputs": []
    },
    {
      "cell_type": "code",
      "metadata": {
        "id": "Fj9ArgXnQL_s",
        "colab": {
          "base_uri": "https://localhost:8080/",
          "height": 35
        },
        "outputId": "a1d6aa13-b698-4b4d-f7cc-0c4e0401c6d6"
      },
      "source": [
        "oi()"
      ],
      "execution_count": null,
      "outputs": [
        {
          "output_type": "execute_result",
          "data": {
            "application/vnd.google.colaboratory.intrinsic+json": {
              "type": "string"
            },
            "text/plain": [
              "'Oi! Tudo bem?'"
            ]
          },
          "metadata": {
            "tags": []
          },
          "execution_count": 2
        }
      ]
    },
    {
      "cell_type": "markdown",
      "metadata": {
        "id": "yhMrZ9-tQTZi"
      },
      "source": [
        "O termo `def` informa ao Python que estamos definindo uma função.\n",
        "\n",
        "Como vimos, entre parênteses devem conter os parâmetros da função. No exemplo acima, não há parâmetros; a função `oi()` não precisa de informações adicionais para executar sua tarefa.\n",
        "Note que a definição termina com `:`.\n",
        "Qualquer linha indentada após a definição da função faz parte do _corpo_ da função.\n",
        "\n",
        "A linha com `print` é a única linha de código desta função."
      ]
    },
    {
      "cell_type": "markdown",
      "metadata": {
        "id": "cgHMRhL5QZjk"
      },
      "source": [
        "## Passando informações para a função\n",
        "\n",
        "Vamos aprimorar nossa função adicionando um parâmetro 'username'.\n",
        "Nessa situação a função exige um argumento para executar a tarefa, nesse caso, um nome de usuário.\n",
        "\n",
        "Aqui vale apresentar a distinção entre parêmetros e argumentos de uma função.\n",
        "\n",
        "Ao definir uma função, estabelecemos parâmetros para ela.\n",
        "Ao executar a função devemos informar valores para os parâmetros ou argumentos.\n",
        "\n",
        "**Parâmetros**: são os nomes dados aos atributos que uma função pode receber. Definem quais argumentos são aceitos por uma função, podendo ou não ter um valor padrão (default).\n",
        "\n",
        "**Argumentos**: são os valores que realmente são passados para uma função.\n",
        "\n",
        "\n",
        "Note que a função a seguir possui um texto entre aspas triplas. Este texto é um comentário e não é executado. Usamos estes comentários para descreve a tarefa executada pela função, facilitando a sua compreensão."
      ]
    },
    {
      "cell_type": "code",
      "metadata": {
        "id": "iIDNuzylQTu_"
      },
      "source": [
        "def oi(username):\n",
        "    \"\"\"Exibe uma saudação simples.\"\"\"\n",
        "    print(\"Oi, \" + username.title() + \" !\")"
      ],
      "execution_count": null,
      "outputs": []
    },
    {
      "cell_type": "code",
      "metadata": {
        "id": "8G57xTbMQbsb",
        "colab": {
          "base_uri": "https://localhost:8080/"
        },
        "outputId": "e203349a-1272-4f0e-89f3-e519addf6e28"
      },
      "source": [
        "oi('Vitor')"
      ],
      "execution_count": null,
      "outputs": [
        {
          "output_type": "stream",
          "text": [
            "Oi, Vitor !\n"
          ],
          "name": "stdout"
        }
      ]
    },
    {
      "cell_type": "markdown",
      "metadata": {
        "id": "yZSjeExavKn4"
      },
      "source": [
        "De forma geral, ao definir uma função que receba informações, precisamos definir um ou mais parâmetros. Assim, uma estrutura geral para uma função seria:\n",
        "\n",
        "```\n",
        "def nome ( parametro 1, parametro 2, ... ):\n",
        "    comandos\n",
        "```\n"
      ]
    },
    {
      "cell_type": "code",
      "metadata": {
        "id": "l70Bg-LnTypw"
      },
      "source": [
        "# Exemplo: vamos definir uma função simples de soma\n",
        "def soma (p1,p2):\n",
        "    return p1 + p2"
      ],
      "execution_count": 5,
      "outputs": []
    },
    {
      "cell_type": "code",
      "metadata": {
        "id": "nPyeKupST2kg",
        "colab": {
          "base_uri": "https://localhost:8080/"
        },
        "outputId": "dcc3a542-926e-4769-8348-5c73d9a9a7a5"
      },
      "source": [
        "soma(10, 15)"
      ],
      "execution_count": 6,
      "outputs": [
        {
          "output_type": "execute_result",
          "data": {
            "text/plain": [
              "25"
            ]
          },
          "metadata": {
            "tags": []
          },
          "execution_count": 6
        }
      ]
    },
    {
      "cell_type": "code",
      "metadata": {
        "id": "StOU9BPsJ2fJ"
      },
      "source": [
        "# Exemplo: vamos definir uma função de diferença\n",
        "def dif(d1, d2):\n",
        "    return d2 - d1"
      ],
      "execution_count": 7,
      "outputs": []
    },
    {
      "cell_type": "code",
      "metadata": {
        "id": "Cz-iVy94KFTj",
        "colab": {
          "base_uri": "https://localhost:8080/"
        },
        "outputId": "f4e574f8-cd1b-4ff0-d347-deace301eb83"
      },
      "source": [
        "dif(10, 5)"
      ],
      "execution_count": 8,
      "outputs": [
        {
          "output_type": "execute_result",
          "data": {
            "text/plain": [
              "-5"
            ]
          },
          "metadata": {
            "tags": []
          },
          "execution_count": 8
        }
      ]
    },
    {
      "cell_type": "markdown",
      "metadata": {
        "id": "W4e1-qShVuJ6"
      },
      "source": [
        "## Mais sobre parâmetros e argumentos\n",
        "\n",
        "Um argumento é uma informação passada para uma função em sua chamada.\n",
        "Quando chamamos a função, colocamos entre parênteses o valor com que queremos que a função trabalhe.\n",
        "\n",
        "Como vimos anteriormente, é possível definir vários parâmetros para uma função. A função então pode precisar de vários argumentos.\n",
        "\n",
        "Por sua vez, os argumentos podem ser _argumentos posicionais_, que devem estar na mesma ordem que os parâmetros que foram escritos, ou _argumentos nomeados_, em que cada argumento é constituído de um nome de variável e de um valor, ou por meio de listas e dicionários de valores."
      ]
    },
    {
      "cell_type": "markdown",
      "metadata": {
        "id": "THCSXYPhT6dy"
      },
      "source": [
        "Na última função `soma(p1, p2)` utilizamos argumentos posicionais.\n",
        "\n",
        "Vamos escrever uma função com argumentos nomeados."
      ]
    },
    {
      "cell_type": "code",
      "metadata": {
        "id": "2DqDp5k0T70L"
      },
      "source": [
        "# Exemplo: função linear com parâmetros já definidos.\n",
        "def funcao1 (x, b=5, m=2):                    # os parâmetros b e m são argumentos nomeados nesta função.\n",
        "    y = b + m * x\n",
        "    return y"
      ],
      "execution_count": null,
      "outputs": []
    },
    {
      "cell_type": "code",
      "metadata": {
        "id": "mJOxAQ4ZUAxz"
      },
      "source": [
        "funcao1(2)"
      ],
      "execution_count": null,
      "outputs": []
    },
    {
      "cell_type": "code",
      "metadata": {
        "id": "v9OET0zmUDyB"
      },
      "source": [
        "# Os argumentos nomeados não são fixos. Note neste exemplo\n",
        "funcao1(2, 10, 2)"
      ],
      "execution_count": null,
      "outputs": []
    },
    {
      "cell_type": "markdown",
      "metadata": {
        "id": "ZVm9YQk1UJJM"
      },
      "source": [
        "A principal restrição é que argumentos nomeados deve vir depois dos argumentos posicionais (se houver)."
      ]
    },
    {
      "cell_type": "code",
      "metadata": {
        "id": "JTuyEQLpU7Wq"
      },
      "source": [
        "funcao1(2, m=2, b=10)"
      ],
      "execution_count": null,
      "outputs": []
    },
    {
      "cell_type": "markdown",
      "metadata": {
        "id": "b5w7jW6BQmqN"
      },
      "source": [
        "Vamos ver um exemplo da função do tipo Cobb-Douglas, muito utilizada na Economia (funções de produção, funções utilidade)."
      ]
    },
    {
      "cell_type": "code",
      "metadata": {
        "id": "QUGJ1paFLjEW"
      },
      "source": [
        "# Definição de uma função do tipo Cobb-Douglas\n",
        "def cobbd(x1, x2, b=10, a=0.5):\n",
        "    y = b * (x1**a) * (x2**(1-a))\n",
        "    return y"
      ],
      "execution_count": null,
      "outputs": []
    },
    {
      "cell_type": "code",
      "metadata": {
        "id": "ugs13qMnMTUI"
      },
      "source": [
        "# Vamos considerar uma função de produção\n",
        "# Função vai retornar o produto com os valores de insumos: x1=5 e x2=10\n",
        "cobbd(5, 10)"
      ],
      "execution_count": null,
      "outputs": []
    },
    {
      "cell_type": "code",
      "metadata": {
        "id": "9-QjDLP1MdA0"
      },
      "source": [
        "# Podemos alterar os valores dos parâmetros b e a\n",
        "cobbd(5, 10, 20, 0.3)"
      ],
      "execution_count": null,
      "outputs": []
    },
    {
      "cell_type": "code",
      "metadata": {
        "id": "-7BfKuShMqAC"
      },
      "source": [
        "# Podemos definir uma função para o Produto Marginal de X1\n",
        "def pmg1(x1, x2, b=10, a=0.5):\n",
        "    prodmg = b * a * (x1**(a-1)) * (x2**(1-a))\n",
        "    return prodmg"
      ],
      "execution_count": null,
      "outputs": []
    },
    {
      "cell_type": "code",
      "metadata": {
        "id": "l8LqtcJoNQrm"
      },
      "source": [
        "pmg1 (5, 10, 20, 0.3)"
      ],
      "execution_count": null,
      "outputs": []
    },
    {
      "cell_type": "markdown",
      "metadata": {
        "id": "Z4LtxMqGUQc1"
      },
      "source": [
        "### Namespaces, escopo e funções locais\n",
        "\n",
        "*Namespaces* \n",
        "\n",
        "A definição de *namespace* não é simples. Os namespaces ajudam-nos a identificar todos os nomes dentro de um programa e certifica-se que todos os nomes em um programa são únicos e podem ser usados sem qualquer conflito.\n",
        "De forma coloquial, podemos dizer que namespace é uma maneira de gerenciar nomes dentro de um escopo.\n",
        "\n",
        "As funções podem acessar variáveis em dois escopos diferentes: global e local.\n",
        "\n",
        "Namespace local: inclui nomes locais dentro de uma função. Este namespace é criado quando uma função é chamada, e só dura até que a função retorne. Quaisquer variáveis que recebam uma atribuição em uma função, por padrão, são associadas ao namespace local, criado quando a função é chamada e imediatamente preenchido com os argumentos da função.\n",
        "\n",
        "Namespace global: inclui nomes de vários módulos importados que você está usando em um projeto. Ele é criado quando o módulo é incluído no projeto, e dura até o script terminar.\n",
        "\n",
        "Uma variável global é aquela que não foi definida dentro do escopo da função que a está utilizando. Ela passa a existir no momento em que é definida e pode ser utilizada até o fim do script.\n",
        "\n",
        "Exemplo:"
      ]
    },
    {
      "cell_type": "code",
      "metadata": {
        "id": "CVqDqBqF_rIV"
      },
      "source": [
        "g1 = 500\n",
        "\n",
        "g2 = \"joao\""
      ],
      "execution_count": null,
      "outputs": []
    },
    {
      "cell_type": "code",
      "metadata": {
        "id": "FLJki78p_9Jt",
        "colab": {
          "base_uri": "https://localhost:8080/",
          "height": 35
        },
        "outputId": "59817b4a-29ca-4d15-9785-ddb382b44a7c"
      },
      "source": [
        "g3 = 5 * g1\n",
        "g3"
      ],
      "execution_count": null,
      "outputs": [
        {
          "output_type": "execute_result",
          "data": {
            "text/plain": [
              "2500"
            ]
          },
          "metadata": {
            "tags": []
          },
          "execution_count": 2
        }
      ]
    },
    {
      "cell_type": "markdown",
      "metadata": {
        "id": "CCxfZxOqAAdd"
      },
      "source": [
        "Quando você define o valor da variável dentro da função, ela é uma variável local.\n",
        "\n",
        "Exemplo:"
      ]
    },
    {
      "cell_type": "code",
      "metadata": {
        "id": "tTIOqCt5AFRa",
        "colab": {
          "base_uri": "https://localhost:8080/",
          "height": 52
        },
        "outputId": "37e6da4f-0302-472d-be59-b74666eb9408"
      },
      "source": [
        "def func():\n",
        "    local = 10\n",
        "    print(local)\n",
        "    glocal = local * g1\n",
        "    print(glocal)\n",
        "\n",
        "func()"
      ],
      "execution_count": null,
      "outputs": [
        {
          "output_type": "stream",
          "text": [
            "10\n",
            "5000\n"
          ],
          "name": "stdout"
        }
      ]
    },
    {
      "cell_type": "markdown",
      "metadata": {
        "id": "kKdSSE9lQdf7"
      },
      "source": [
        "Veja que a variável local não é utilizada fora da função."
      ]
    },
    {
      "cell_type": "code",
      "metadata": {
        "id": "Skyzs-afAi9D",
        "colab": {
          "base_uri": "https://localhost:8080/",
          "height": 183
        },
        "outputId": "1f1783d5-64a3-4ac5-d25f-01d580d5485b"
      },
      "source": [
        "x = 2*local\n",
        "print(x)"
      ],
      "execution_count": null,
      "outputs": [
        {
          "output_type": "error",
          "ename": "NameError",
          "evalue": "ignored",
          "traceback": [
            "\u001b[0;31m---------------------------------------------------------------------------\u001b[0m",
            "\u001b[0;31mNameError\u001b[0m                                 Traceback (most recent call last)",
            "\u001b[0;32m<ipython-input-4-11694fdaced7>\u001b[0m in \u001b[0;36m<module>\u001b[0;34m()\u001b[0m\n\u001b[0;32m----> 1\u001b[0;31m \u001b[0mx\u001b[0m \u001b[0;34m=\u001b[0m \u001b[0;36m2\u001b[0m\u001b[0;34m*\u001b[0m\u001b[0mlocal\u001b[0m\u001b[0;34m\u001b[0m\u001b[0;34m\u001b[0m\u001b[0m\n\u001b[0m\u001b[1;32m      2\u001b[0m \u001b[0mprint\u001b[0m\u001b[0;34m(\u001b[0m\u001b[0mx\u001b[0m\u001b[0;34m)\u001b[0m\u001b[0;34m\u001b[0m\u001b[0;34m\u001b[0m\u001b[0m\n",
            "\u001b[0;31mNameError\u001b[0m: name 'local' is not defined"
          ]
        }
      ]
    },
    {
      "cell_type": "code",
      "metadata": {
        "id": "XS1XE_JAAkFG",
        "colab": {
          "base_uri": "https://localhost:8080/",
          "height": 52
        },
        "outputId": "46545ecf-2303-4741-a887-e8f3ae5328cd"
      },
      "source": [
        "func()"
      ],
      "execution_count": null,
      "outputs": [
        {
          "output_type": "stream",
          "text": [
            "10\n",
            "20\n"
          ],
          "name": "stdout"
        }
      ]
    },
    {
      "cell_type": "markdown",
      "metadata": {
        "id": "BUvNcYL9RVHY"
      },
      "source": [
        "Mas uma variável global pode ser utilizada:"
      ]
    },
    {
      "cell_type": "code",
      "metadata": {
        "id": "daKRoWb_RZwB",
        "colab": {
          "base_uri": "https://localhost:8080/",
          "height": 35
        },
        "outputId": "83ac64d4-56e6-4484-fea8-309efbcf437b"
      },
      "source": [
        "x = 2* g1\n",
        "print(x)"
      ],
      "execution_count": null,
      "outputs": [
        {
          "output_type": "stream",
          "text": [
            "1000\n"
          ],
          "name": "stdout"
        }
      ]
    },
    {
      "cell_type": "markdown",
      "metadata": {
        "id": "QdzLkSu_KzRP"
      },
      "source": [
        "## Expressões lambda\n",
        "\n",
        "Funções lambda nada mais são do que funções anônimas. Enquanto funções normais podem ser criada utilizando `def` como prefixo, as funções lambda são criadas utilizando `lambda`."
      ]
    },
    {
      "cell_type": "code",
      "metadata": {
        "id": "ZzCDYRKqK4L5",
        "colab": {
          "base_uri": "https://localhost:8080/",
          "height": 35
        },
        "outputId": "eb1b1eb6-7eee-435a-a669-856ee70dd96d"
      },
      "source": [
        "def soma(num1, num2):\n",
        "    return num1 + num2\n",
        "\n",
        "soma(2, 3)"
      ],
      "execution_count": null,
      "outputs": [
        {
          "output_type": "execute_result",
          "data": {
            "text/plain": [
              "5"
            ]
          },
          "metadata": {
            "tags": []
          },
          "execution_count": 9
        }
      ]
    },
    {
      "cell_type": "code",
      "metadata": {
        "id": "wWJkCmqJBlct",
        "colab": {
          "base_uri": "https://localhost:8080/",
          "height": 35
        },
        "outputId": "07b0cd0a-fa13-464c-c132-a9cba28c355e"
      },
      "source": [
        "soma(5, 10)"
      ],
      "execution_count": null,
      "outputs": [
        {
          "output_type": "execute_result",
          "data": {
            "text/plain": [
              "15"
            ]
          },
          "metadata": {
            "tags": []
          },
          "execution_count": 10
        }
      ]
    },
    {
      "cell_type": "code",
      "metadata": {
        "id": "e4rjq5wCK8sR",
        "colab": {
          "base_uri": "https://localhost:8080/",
          "height": 35
        },
        "outputId": "e2fa2468-a7c4-463b-be24-c3162c562145"
      },
      "source": [
        "soma_lambda = lambda num1, num2: num1 + num2\n",
        "\n",
        "soma_lambda(2, 3)"
      ],
      "execution_count": null,
      "outputs": [
        {
          "output_type": "execute_result",
          "data": {
            "text/plain": [
              "5"
            ]
          },
          "metadata": {
            "tags": []
          },
          "execution_count": 11
        }
      ]
    },
    {
      "cell_type": "code",
      "metadata": {
        "id": "dcmDYc2lBwoE",
        "colab": {
          "base_uri": "https://localhost:8080/",
          "height": 35
        },
        "outputId": "00852da0-d78b-43cc-8d76-67eaef47f6d2"
      },
      "source": [
        "soma_lambda(10, 5)"
      ],
      "execution_count": null,
      "outputs": [
        {
          "output_type": "execute_result",
          "data": {
            "text/plain": [
              "15"
            ]
          },
          "metadata": {
            "tags": []
          },
          "execution_count": 12
        }
      ]
    },
    {
      "cell_type": "code",
      "metadata": {
        "id": "1SJ1c-s9QZTj",
        "colab": {
          "base_uri": "https://localhost:8080/",
          "height": 35
        },
        "outputId": "ba67355c-afcf-43fa-89c2-2b13c14ebd2b"
      },
      "source": [
        "numeros = [82, 50, 75, 67, 83, 58, 92]\n",
        "\n",
        "def mean(num_list):\n",
        "    return sum(num_list) / len(num_list)\n",
        "\n",
        "media = mean(numeros)\n",
        "print(media)"
      ],
      "execution_count": null,
      "outputs": [
        {
          "output_type": "stream",
          "text": [
            "72.42857142857143\n"
          ],
          "name": "stdout"
        }
      ]
    },
    {
      "cell_type": "code",
      "metadata": {
        "id": "9yWSPpmJQ1pr",
        "colab": {
          "base_uri": "https://localhost:8080/",
          "height": 35
        },
        "outputId": "e4fcaadc-bf0d-4b59-f850-845a54597761"
      },
      "source": [
        "mean = lambda num_list: sum(num_list) / len(num_list)\n",
        "\n",
        "media = mean(numeros)\n",
        "print(media)"
      ],
      "execution_count": null,
      "outputs": [
        {
          "output_type": "stream",
          "text": [
            "72.42857142857143\n"
          ],
          "name": "stdout"
        }
      ]
    },
    {
      "cell_type": "code",
      "metadata": {
        "id": "Hr13miUyCm5b"
      },
      "source": [
        "amostra = [22, 27, 19, 15, 13, 8]"
      ],
      "execution_count": null,
      "outputs": []
    },
    {
      "cell_type": "code",
      "metadata": {
        "id": "NRpoR66pCsuf",
        "colab": {
          "base_uri": "https://localhost:8080/",
          "height": 35
        },
        "outputId": "7c341fee-218b-41c7-989a-9df7c6a933f0"
      },
      "source": [
        "mean(amostra)"
      ],
      "execution_count": null,
      "outputs": [
        {
          "output_type": "execute_result",
          "data": {
            "text/plain": [
              "17.333333333333332"
            ]
          },
          "metadata": {
            "tags": []
          },
          "execution_count": 16
        }
      ]
    },
    {
      "cell_type": "markdown",
      "metadata": {
        "id": "JwUQ5aVEdWmK"
      },
      "source": [
        "### SymPy e cálculo no Python\n",
        "\n",
        "SymPy é uma biblioteca Python para computação simbólica. A biblioteca SymPy inclui ferramentas que variam do cálculo de aritmética simbólica básica, algebra, matemática discreta e física quântica.\n",
        "A Sympy é livre (sob licença BSD), é fácil de ser instalada e analisada, pois é escrita em Python e não depende de bibliotecas adicionais. Ela também é capaz de formatar o resultado das computações em código LaTeX."
      ]
    },
    {
      "cell_type": "code",
      "metadata": {
        "id": "Yvd0fl39dV-1"
      },
      "source": [
        "# instalar\n",
        "!pip install sympy -q"
      ],
      "execution_count": null,
      "outputs": []
    },
    {
      "cell_type": "code",
      "metadata": {
        "id": "r8k8ReZKeibf"
      },
      "source": [
        "import sympy as sym"
      ],
      "execution_count": null,
      "outputs": []
    },
    {
      "cell_type": "code",
      "metadata": {
        "id": "hNXZdbFrepPf",
        "colab": {
          "base_uri": "https://localhost:8080/",
          "height": 35
        },
        "outputId": "4b8a26bf-1f12-45ee-ef2e-f08407434acc"
      },
      "source": [
        "x = sym.Symbol('x')\n",
        "sym.diff(x**5)"
      ],
      "execution_count": null,
      "outputs": [
        {
          "output_type": "execute_result",
          "data": {
            "text/plain": [
              "5*x**4"
            ]
          },
          "metadata": {
            "tags": []
          },
          "execution_count": 20
        }
      ]
    },
    {
      "cell_type": "code",
      "metadata": {
        "id": "W_I0yraefL45"
      },
      "source": [
        "from sympy import Symbol, solve, symbols\n",
        "from sympy import init_printing\n",
        "init_printing()"
      ],
      "execution_count": null,
      "outputs": []
    },
    {
      "cell_type": "code",
      "metadata": {
        "id": "uuCu4lEdhKUc",
        "colab": {
          "base_uri": "https://localhost:8080/",
          "height": 39
        },
        "outputId": "ff8cbc76-e3f3-4637-a964-a29127958509"
      },
      "source": [
        "sym.diff(x**5)"
      ],
      "execution_count": null,
      "outputs": [
        {
          "output_type": "execute_result",
          "data": {
            "image/png": "[encoded data removed]",
            "text/latex": "$$5 x^{4}$$",
            "text/plain": [
              "   4\n",
              "5⋅x "
            ]
          },
          "metadata": {
            "tags": []
          },
          "execution_count": 22
        }
      ]
    },
    {
      "cell_type": "code",
      "metadata": {
        "id": "wOYIddOFgQcL",
        "colab": {
          "base_uri": "https://localhost:8080/",
          "height": 39
        },
        "outputId": "4e2e8534-14cd-43a2-8aa4-33b4db66cddb"
      },
      "source": [
        "x = sym.Symbol('x')\n",
        "sym.diff(10*x**0.5)"
      ],
      "execution_count": null,
      "outputs": [
        {
          "output_type": "execute_result",
          "data": {
            "image/png": "[encoded data removed]",
            "text/latex": "$$\\frac{5.0}{x^{0.5}}$$",
            "text/plain": [
              "     -0.5\n",
              "5.0⋅x    "
            ]
          },
          "metadata": {
            "tags": []
          },
          "execution_count": 23
        }
      ]
    }
  ]
}