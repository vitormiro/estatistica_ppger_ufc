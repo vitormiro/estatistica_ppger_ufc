{
  "nbformat": 4,
  "nbformat_minor": 0,
  "metadata": {
    "colab": {
      "name": "python_fundamentos_4.ipynb",
      "provenance": [],
      "collapsed_sections": [],
      "authorship_tag": "ABX9TyMMxvNyioBdcw7uJD9LegvB",
      "include_colab_link": true
    },
    "kernelspec": {
      "display_name": "Python 3",
      "language": "python",
      "name": "python3"
    },
    "language_info": {
      "codemirror_mode": {
        "name": "ipython",
        "version": 3
      },
      "file_extension": ".py",
      "mimetype": "text/x-python",
      "name": "python",
      "nbconvert_exporter": "python",
      "pygments_lexer": "ipython3",
      "version": "3.7.6"
    }
  },
  "cells": [
    {
      "cell_type": "markdown",
      "metadata": {
        "id": "view-in-github",
        "colab_type": "text"
      },
      "source": [
        "<a href=\"https://colab.research.google.com/github/vitormiro/estatistica_ppger_ufc/blob/main/python_fundamentos_4.ipynb\" target=\"_parent\"><img src=\"https://colab.research.google.com/assets/colab-badge.svg\" alt=\"Open In Colab\"/></a>"
      ]
    },
    {
      "cell_type": "markdown",
      "metadata": {
        "id": "VQDRRVsOvDli"
      },
      "source": [
        "# Funções\n",
        "\n",
        "No contexto de programação, função é uma sequência nomeada de instruções ou comandos, que executam alguma operação. Esta operação é especificada numa definição de função.\n",
        "\n",
        "Algumas funções são nativas no Python, como a função `print()`, que utilizamos bastante até aqui. As função nativas são conhecidas como funções _built-in_.\n",
        "\n",
        "No entanto, o foco deste notebook é apresentar a definição de funções; algo que pode ser muito útil para organizar programas e análises que envolvem tarefas repetitivas.\n"
      ]
    },
    {
      "cell_type": "markdown",
      "metadata": {
        "id": "aYGV4kR9QHmW"
      },
      "source": [
        "## Definindo uma função\n",
        "\n",
        "As função são declaradas com o termo reservado `def`, seguido pelo nome da função e de parâmetros entre parênteses.\n",
        "\n",
        "Algumas funções podem não ter nehum parâmetro, mas os parênteses são obrigatórios. E de modo geral, é possível ter múltiplos parâmetros.\n",
        "\n",
        "A sintaxe de definição de função é a seguinte:\n",
        "\n",
        "```\n",
        "def nome ( parametros ):\n",
        "    comandos\n",
        "```\n",
        "\n",
        "\n",
        "Para muitas funções é usual que ela retorne algum resultado. O retorno é feito com o termo reservado `return`.\n",
        "\n",
        "Vamos definir uma função bem simples para começar."
      ]
    },
    {
      "cell_type": "code",
      "metadata": {
        "id": "ZROqaVKjvFV-"
      },
      "source": [
        "# A função 'oi' exibe uma saudação simples\n",
        "def oi():\n",
        "    return('Oi! Tudo bem?')"
      ],
      "execution_count": null,
      "outputs": []
    },
    {
      "cell_type": "code",
      "metadata": {
        "id": "Fj9ArgXnQL_s"
      },
      "source": [
        "oi()"
      ],
      "execution_count": null,
      "outputs": []
    },
    {
      "cell_type": "markdown",
      "metadata": {
        "id": "yhMrZ9-tQTZi"
      },
      "source": [
        "O termo `def` informa ao Python que estamos definindo uma função.\n",
        "\n",
        "Como vimos, entre parênteses devem conter os parâmetros da função. No exemplo acima, não há parâmetros; a função `oi()` não precisa de informações adicionais para executar sua tarefa.\n",
        "Note que a definição termina com `:`.\n",
        "Qualquer linha indentada após a definição da função faz parte do _corpo_ da função.\n",
        "\n",
        "A linha com `print` é a única linha de código desta função."
      ]
    },
    {
      "cell_type": "markdown",
      "metadata": {
        "id": "cgHMRhL5QZjk"
      },
      "source": [
        "## Passando informações para a função\n",
        "\n",
        "Vamos aprimorar nossa função adicionando um parâmetro 'username'.\n",
        "Nessa situação a função exige um argumento para executar a tarefa, nesse caso, um nome de usuário.\n",
        "\n",
        "Aqui vale apresentar a distinção entre parêmetros e argumentos de uma função.\n",
        "\n",
        "Ao definir uma função, estabelecemos parâmetros para ela.\n",
        "Ao executar a função devemos informar valores para os parâmetros ou argumentos.\n",
        "\n",
        "**Parâmetros**: são os nomes dados aos atributos que uma função pode receber. Definem quais argumentos são aceitos por uma função, podendo ou não ter um valor padrão (default).\n",
        "\n",
        "**Argumentos**: são os valores que realmente são passados para uma função.\n",
        "\n",
        "\n",
        "Note que a função a seguir possui um texto entre aspas triplas. Este texto é um comentário e não é executado. Usamos estes comentários para descreve a tarefa executada pela função, facilitando a sua compreensão."
      ]
    },
    {
      "cell_type": "code",
      "metadata": {
        "id": "iIDNuzylQTu_"
      },
      "source": [
        "def oi(username):\n",
        "    \"\"\"Exibe uma saudação simples.\"\"\"\n",
        "    print(\"Oi, \" + username.title() + \" !\")"
      ],
      "execution_count": null,
      "outputs": []
    },
    {
      "cell_type": "code",
      "metadata": {
        "id": "8G57xTbMQbsb"
      },
      "source": [
        "oi('Vitor')"
      ],
      "execution_count": null,
      "outputs": []
    },
    {
      "cell_type": "markdown",
      "metadata": {
        "id": "yZSjeExavKn4"
      },
      "source": [
        "De forma geral, ao definir uma função que receba informações, precisamos definir um ou mais parâmetros. Assim, uma estrutura geral para uma função seria:\n",
        "\n",
        "```\n",
        "def nome ( parametro 1, parametro 2, ... ):\n",
        "    comandos\n",
        "```\n"
      ]
    },
    {
      "cell_type": "code",
      "metadata": {
        "id": "l70Bg-LnTypw"
      },
      "source": [
        "# Exemplo: vamos definir uma função simples de soma\n",
        "def soma (p1,p2):\n",
        "    return p1 + p2"
      ],
      "execution_count": null,
      "outputs": []
    },
    {
      "cell_type": "code",
      "metadata": {
        "id": "nPyeKupST2kg"
      },
      "source": [
        "soma(10, 15)"
      ],
      "execution_count": null,
      "outputs": []
    },
    {
      "cell_type": "code",
      "metadata": {
        "id": "StOU9BPsJ2fJ"
      },
      "source": [
        "# Exemplo: vamos definir uma função de diferença\n",
        "def dif(d1, d2):\n",
        "    return d2 - d1"
      ],
      "execution_count": null,
      "outputs": []
    },
    {
      "cell_type": "code",
      "metadata": {
        "id": "Cz-iVy94KFTj"
      },
      "source": [
        "dif(10, 5)"
      ],
      "execution_count": null,
      "outputs": []
    },
    {
      "cell_type": "markdown",
      "metadata": {
        "id": "W4e1-qShVuJ6"
      },
      "source": [
        "## Mais sobre parâmetros e argumentos\n",
        "\n",
        "Um argumento é uma informação passada para uma função em sua chamada.\n",
        "Quando chamamos a função, colocamos entre parênteses o valor com que queremos que a função trabalhe.\n",
        "\n",
        "Como vimos anteriormente, é possível definir vários parâmetros para uma função. A função então pode precisar de vários argumentos.\n",
        "\n",
        "Por sua vez, os argumentos podem ser _argumentos posicionais_, que devem estar na mesma ordem que os parâmetros que foram escritos, ou _argumentos nomeados_, em que cada argumento é constituído de um nome de variável e de um valor, ou por meio de listas e dicionários de valores."
      ]
    },
    {
      "cell_type": "markdown",
      "metadata": {
        "id": "THCSXYPhT6dy"
      },
      "source": [
        "Na última função `soma(p1, p2)` utilizamos argumentos posicionais.\n",
        "\n",
        "Vamos escrever uma função com argumentos nomeados."
      ]
    },
    {
      "cell_type": "code",
      "metadata": {
        "id": "2DqDp5k0T70L"
      },
      "source": [
        "# Exemplo: função linear com parâmetros já definidos.\n",
        "def funcao1 (x, b=5, m=2):                    # os parâmetros b e m são argumentos nomeados nesta função.\n",
        "    y = b + m * x\n",
        "    return y"
      ],
      "execution_count": null,
      "outputs": []
    },
    {
      "cell_type": "code",
      "metadata": {
        "id": "mJOxAQ4ZUAxz"
      },
      "source": [
        "# passando apenas o valor de x\n",
        "funcao1(2)"
      ],
      "execution_count": null,
      "outputs": []
    },
    {
      "cell_type": "markdown",
      "metadata": {
        "id": "hQzAe0v_8nq-"
      },
      "source": [
        "Os argumentos nomeados não são fixos. Note neste exemplo a seguir."
      ]
    },
    {
      "cell_type": "code",
      "metadata": {
        "id": "v9OET0zmUDyB"
      },
      "source": [
        "funcao1(2, 10, 2)"
      ],
      "execution_count": null,
      "outputs": []
    },
    {
      "cell_type": "markdown",
      "metadata": {
        "id": "ZVm9YQk1UJJM"
      },
      "source": [
        "A principal restrição é que argumentos nomeados deve vir depois dos argumentos posicionais (se houver)."
      ]
    },
    {
      "cell_type": "code",
      "metadata": {
        "id": "JTuyEQLpU7Wq"
      },
      "source": [
        "funcao1(2, m=2, b=10)"
      ],
      "execution_count": null,
      "outputs": []
    },
    {
      "cell_type": "markdown",
      "metadata": {
        "id": "b5w7jW6BQmqN"
      },
      "source": [
        "Vamos ver um exemplo da função do tipo Cobb-Douglas, muito utilizada na Economia (funções de produção, funções utilidade)."
      ]
    },
    {
      "cell_type": "code",
      "metadata": {
        "id": "QUGJ1paFLjEW"
      },
      "source": [
        "# Definição de uma função do tipo Cobb-Douglas\n",
        "def cobbd(x1, x2, b=10, a=0.5):\n",
        "    y = b * (x1**a) * (x2**(1-a))\n",
        "    return y"
      ],
      "execution_count": null,
      "outputs": []
    },
    {
      "cell_type": "code",
      "metadata": {
        "id": "ugs13qMnMTUI"
      },
      "source": [
        "# Vamos considerar uma função de produção\n",
        "# Função vai retornar o produto com os valores de insumos: x1=5 e x2=10\n",
        "cobbd(5, 10)"
      ],
      "execution_count": null,
      "outputs": []
    },
    {
      "cell_type": "code",
      "metadata": {
        "id": "9-QjDLP1MdA0"
      },
      "source": [
        "# Podemos alterar os valores dos parâmetros b e a\n",
        "cobbd(5, 10, 20, 0.3)"
      ],
      "execution_count": null,
      "outputs": []
    },
    {
      "cell_type": "code",
      "metadata": {
        "id": "-7BfKuShMqAC"
      },
      "source": [
        "# Podemos definir uma função para o Produto Marginal de X1\n",
        "def pmg1(x1, x2, b=10, a=0.5):\n",
        "    prodmg = b * a * (x1**(a-1)) * (x2**(1-a))\n",
        "    return prodmg"
      ],
      "execution_count": null,
      "outputs": []
    },
    {
      "cell_type": "code",
      "metadata": {
        "id": "l8LqtcJoNQrm"
      },
      "source": [
        "pmg1 (5, 10, 20, 0.3)"
      ],
      "execution_count": null,
      "outputs": []
    },
    {
      "cell_type": "markdown",
      "metadata": {
        "id": "Z4LtxMqGUQc1"
      },
      "source": [
        "### Namespaces, módulos e escopo\n",
        "\n",
        "*Namespaces* \n",
        "\n",
        "No Python, todo objeto (números, strings, funções, conjuntos de dados) pode receber um nome. É o nome do objeto que permite acessá-lo.\n",
        "\n",
        "A definição de *namespace* (ou espaço de nomes) não é simples. A documentação do Python define um *namespace* como um mapeamento que associa nomes a objetos.\n",
        "\n",
        "Os namespaces ajudam-nos a identificar todos os nomes dentro de um programa e certifica-se que todos os nomes em um programa são únicos e podem ser usados sem qualquer conflito.\n",
        "\n",
        "Um escopo é uma região textual de um programa Python onde um namespace pode ser acessado. O namespace é uma maneira de gerenciar nomes de objetos dentro de um escopo.\n",
        "\n"
      ]
    },
    {
      "cell_type": "markdown",
      "metadata": {
        "id": "jvQGEK74FN4A"
      },
      "source": [
        "\n",
        "As funções podem acessar variáveis em dois escopos diferentes: global e local.\n",
        "\n",
        "Namespace local: inclui nomes locais dentro de uma função. Este namespace é criado quando uma função é chamada, e só dura até que a função retorne. Quaisquer variáveis que recebam uma atribuição em uma função, por padrão, são associadas ao namespace local, criado quando a função é chamada e imediatamente preenchido com os argumentos da função.\n",
        "\n",
        "Namespace global: inclui nomes de vários módulos importados que você está usando em um programa. Ele é criado quando o módulo é incluído no programa, e dura até o script terminar.\n",
        "\n",
        "Uma variável global é aquela que não foi definida dentro do escopo da função que a está utilizando. Ela passa a existir no momento em que é definida e pode ser utilizada até o fim do script.\n",
        "\n",
        "Vamos ver alguns exemplos."
      ]
    },
    {
      "cell_type": "code",
      "metadata": {
        "id": "CVqDqBqF_rIV"
      },
      "source": [
        "g1 = 500\n",
        "\n",
        "g2 = \"joao\""
      ],
      "execution_count": null,
      "outputs": []
    },
    {
      "cell_type": "code",
      "metadata": {
        "id": "FLJki78p_9Jt"
      },
      "source": [
        "g3 = 5 * g1\n",
        "g3"
      ],
      "execution_count": null,
      "outputs": []
    },
    {
      "cell_type": "markdown",
      "metadata": {
        "id": "CCxfZxOqAAdd"
      },
      "source": [
        "Quando você define o valor da variável dentro da função, ela é uma variável local.\n",
        "\n",
        "Exemplo:"
      ]
    },
    {
      "cell_type": "code",
      "metadata": {
        "id": "tTIOqCt5AFRa"
      },
      "source": [
        "def func():\n",
        "    local = 10\n",
        "    print(local)\n",
        "    glocal = local * g1\n",
        "    print(glocal)\n",
        "\n",
        "func()"
      ],
      "execution_count": null,
      "outputs": []
    },
    {
      "cell_type": "markdown",
      "metadata": {
        "id": "kKdSSE9lQdf7"
      },
      "source": [
        "Veja que a variável local não é utilizada fora da função."
      ]
    },
    {
      "cell_type": "code",
      "metadata": {
        "id": "Skyzs-afAi9D"
      },
      "source": [
        "x = 2*local\n",
        "print(x)"
      ],
      "execution_count": null,
      "outputs": []
    },
    {
      "cell_type": "code",
      "metadata": {
        "id": "XS1XE_JAAkFG"
      },
      "source": [
        "func()"
      ],
      "execution_count": null,
      "outputs": []
    },
    {
      "cell_type": "markdown",
      "metadata": {
        "id": "BUvNcYL9RVHY"
      },
      "source": [
        "Mas uma variável global pode ser utilizada:"
      ]
    },
    {
      "cell_type": "code",
      "metadata": {
        "id": "daKRoWb_RZwB"
      },
      "source": [
        "x = 2* g1\n",
        "print(x)"
      ],
      "execution_count": null,
      "outputs": []
    },
    {
      "cell_type": "markdown",
      "metadata": {
        "id": "QdzLkSu_KzRP"
      },
      "source": [
        "## Expressões lambda\n",
        "\n",
        "Funções lambda nada mais são do que funções anônimas. Enquanto funções normais podem ser criada utilizando `def` como prefixo, as funções lambda são criadas utilizando `lambda`."
      ]
    },
    {
      "cell_type": "code",
      "metadata": {
        "id": "ZzCDYRKqK4L5"
      },
      "source": [
        "def soma(num1, num2):\n",
        "    return num1 + num2\n",
        "\n",
        "soma(2, 3)"
      ],
      "execution_count": null,
      "outputs": []
    },
    {
      "cell_type": "code",
      "metadata": {
        "id": "wWJkCmqJBlct"
      },
      "source": [
        "soma(5, 10)"
      ],
      "execution_count": null,
      "outputs": []
    },
    {
      "cell_type": "code",
      "metadata": {
        "id": "e4rjq5wCK8sR"
      },
      "source": [
        "soma_lambda = lambda num1, num2: num1 + num2\n",
        "\n",
        "soma_lambda(2, 3)"
      ],
      "execution_count": null,
      "outputs": []
    },
    {
      "cell_type": "code",
      "metadata": {
        "id": "dcmDYc2lBwoE"
      },
      "source": [
        "soma_lambda(10, 5)"
      ],
      "execution_count": null,
      "outputs": []
    },
    {
      "cell_type": "code",
      "metadata": {
        "id": "1SJ1c-s9QZTj"
      },
      "source": [
        "numeros = [82, 50, 75, 67, 83, 58, 92]\n",
        "\n",
        "def mean(num_list):\n",
        "    return sum(num_list) / len(num_list)\n",
        "\n",
        "media = mean(numeros)\n",
        "print(media)"
      ],
      "execution_count": null,
      "outputs": []
    },
    {
      "cell_type": "code",
      "metadata": {
        "id": "9yWSPpmJQ1pr"
      },
      "source": [
        "mean = lambda num_list: sum(num_list) / len(num_list)\n",
        "\n",
        "media = mean(numeros)\n",
        "print(media)"
      ],
      "execution_count": null,
      "outputs": []
    },
    {
      "cell_type": "code",
      "metadata": {
        "id": "Hr13miUyCm5b"
      },
      "source": [
        "amostra = [22, 27, 19, 15, 13, 8]"
      ],
      "execution_count": null,
      "outputs": []
    },
    {
      "cell_type": "code",
      "metadata": {
        "id": "NRpoR66pCsuf"
      },
      "source": [
        "mean(amostra)"
      ],
      "execution_count": null,
      "outputs": []
    },
    {
      "cell_type": "markdown",
      "metadata": {
        "id": "JwUQ5aVEdWmK"
      },
      "source": [
        "### SymPy e cálculo no Python\n",
        "\n",
        "SymPy é uma biblioteca Python para computação simbólica. A biblioteca SymPy inclui ferramentas que variam do cálculo de aritmética simbólica básica, algebra, matemática discreta e física quântica.\n",
        "A Sympy é livre (sob licença BSD), é fácil de ser instalada e analisada, pois é escrita em Python e não depende de bibliotecas adicionais. Ela também é capaz de formatar o resultado das computações em código LaTeX."
      ]
    },
    {
      "cell_type": "code",
      "metadata": {
        "id": "Yvd0fl39dV-1"
      },
      "source": [
        "# instalar\n",
        "!pip install sympy -q"
      ],
      "execution_count": null,
      "outputs": []
    },
    {
      "cell_type": "code",
      "metadata": {
        "id": "r8k8ReZKeibf"
      },
      "source": [
        "import sympy as sym"
      ],
      "execution_count": null,
      "outputs": []
    },
    {
      "cell_type": "code",
      "metadata": {
        "id": "hNXZdbFrepPf"
      },
      "source": [
        "x = sym.Symbol('x')\n",
        "sym.diff(x**5)"
      ],
      "execution_count": null,
      "outputs": []
    },
    {
      "cell_type": "code",
      "metadata": {
        "id": "W_I0yraefL45"
      },
      "source": [
        "from sympy import Symbol, solve, symbols\n",
        "from sympy import init_printing\n",
        "init_printing()"
      ],
      "execution_count": null,
      "outputs": []
    },
    {
      "cell_type": "code",
      "metadata": {
        "id": "uuCu4lEdhKUc"
      },
      "source": [
        "sym.diff(x**5)"
      ],
      "execution_count": null,
      "outputs": []
    },
    {
      "cell_type": "code",
      "metadata": {
        "id": "wOYIddOFgQcL"
      },
      "source": [
        "x = sym.Symbol('x')\n",
        "sym.diff(10*x**0.5)"
      ],
      "execution_count": null,
      "outputs": []
    }
  ]
}