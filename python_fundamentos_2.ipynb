{
  "nbformat": 4,
  "nbformat_minor": 0,
  "metadata": {
    "colab": {
      "name": "python_fundamentos_2.ipynb",
      "provenance": [],
      "authorship_tag": "ABX9TyOVzzOw4ThTCwp8TchoY//M",
      "include_colab_link": true
    },
    "kernelspec": {
      "display_name": "Python 3",
      "language": "python",
      "name": "python3"
    },
    "language_info": {
      "codemirror_mode": {
        "name": "ipython",
        "version": 3
      },
      "file_extension": ".py",
      "mimetype": "text/x-python",
      "name": "python",
      "nbconvert_exporter": "python",
      "pygments_lexer": "ipython3",
      "version": "3.7.6"
    }
  },
  "cells": [
    {
      "cell_type": "markdown",
      "metadata": {
        "id": "view-in-github",
        "colab_type": "text"
      },
      "source": [
        "<a href=\"https://colab.research.google.com/github/vitormiro/estatistica_ppger_ufc/blob/main/python_fundamentos_2.ipynb\" target=\"_parent\"><img src=\"https://colab.research.google.com/assets/colab-badge.svg\" alt=\"Open In Colab\"/></a>"
      ]
    },
    {
      "cell_type": "markdown",
      "metadata": {
        "id": "ojW24oy9gn3e"
      },
      "source": [
        "# Listas\n",
        "\n",
        "Listas permitem armazenar conjuntos de informações em um só lugar.\n",
        "\n",
        "Uma lista é uma coleção de itens em uma **ordem** particular. No Python, colchetes ([ ]) indicam uma lista, e elementos individuais são separados por vírgulas.\n",
        "\n",
        "Sobre listas na [documentação do Python](https://docs.python.org/pt-br/3/tutorial/introduction.html#lists).\n",
        "\n",
        "Vamos criar uma primeira lista com nomes."
      ]
    },
    {
      "cell_type": "code",
      "metadata": {
        "id": "AoxJXWL1gr-f"
      },
      "source": [
        "nomes = ['João', 'Maria', 'José', 'Lara']"
      ],
      "execution_count": null,
      "outputs": []
    },
    {
      "cell_type": "code",
      "metadata": {
        "id": "eM_z0QVDg2zz"
      },
      "source": [
        "print(nomes)"
      ],
      "execution_count": null,
      "outputs": []
    },
    {
      "cell_type": "code",
      "metadata": {
        "id": "Iw39cREVWK5T"
      },
      "source": [
        "heroes = ['Superman', 'Batman', 'Mulher Maravilha', 'Flash', 'Cyborg', 'Lanterna Verde']\n",
        "print(heroes)"
      ],
      "execution_count": null,
      "outputs": []
    },
    {
      "cell_type": "code",
      "metadata": {
        "id": "bGBSF8LBWjWG"
      },
      "source": [
        "numeros = [1, 2, 3, 4, 5]\n",
        "print(numeros)"
      ],
      "execution_count": null,
      "outputs": []
    },
    {
      "cell_type": "markdown",
      "metadata": {
        "id": "fQoaWh7ohBFX"
      },
      "source": [
        "## Acessando elementos de uma lista\n",
        "Listas são coleções ordenadas, portanto você pode acessar qualquer elemento de uma lista informando a posição - ou o indice - \n",
        "do item desejado.\n",
        "Deve-se estar atento, a primeira posição em uma lista tem índice zero e não um."
      ]
    },
    {
      "cell_type": "code",
      "metadata": {
        "id": "7dk8Pza3g5Zd"
      },
      "source": [
        "print(heroes[1])\n",
        "print(heroes[0])"
      ],
      "execution_count": null,
      "outputs": []
    },
    {
      "cell_type": "markdown",
      "metadata": {
        "id": "S1hsOqn5hMv4"
      },
      "source": [
        "Ao solicitar o índice -1, o Python sempre devolve o último item da lista; o índice -2, o penúltimo, e assim por diante."
      ]
    },
    {
      "cell_type": "code",
      "metadata": {
        "id": "nvP_7MtQhIDc"
      },
      "source": [
        "print(nomes[-1])\n",
        "print(nomes[-2])\n",
        "print(nomes[-3])"
      ],
      "execution_count": null,
      "outputs": []
    },
    {
      "cell_type": "markdown",
      "metadata": {
        "id": "VZWj5jEihUxF"
      },
      "source": [
        "### Utilizando os elementos da lista.\n",
        "Podemos utilizar os elementos de uma lista assim como fariamos como qualquer outra variável."
      ]
    },
    {
      "cell_type": "code",
      "metadata": {
        "id": "-gRimIO7hTqt"
      },
      "source": [
        "mensagem_1 = nomes[0] + \" é o chefe da família.\"\n",
        "print (mensagem_1)"
      ],
      "execution_count": null,
      "outputs": []
    },
    {
      "cell_type": "code",
      "metadata": {
        "id": "sEWlXEryhYzP"
      },
      "source": [
        "mensagem_2 = \"O casal \" + nomes[0] + \" e \" + nomes[1] + \" possuem dois filhos: \" + nomes[2] + \" e \" + nomes[3] + \".\"\n",
        "print(mensagem_2)"
      ],
      "execution_count": null,
      "outputs": []
    },
    {
      "cell_type": "markdown",
      "metadata": {
        "id": "dGcS7MEuiNII"
      },
      "source": [
        "# Trabalhando com listas: utilizando laços (for)\n",
        "\n",
        "Em algumas situações é comum que uma mesma instrução (ou conjunto delas) precise ser executada várias vezes seguidas. Nesses casos, normalmente utilizamos um loop (ou laço de repetição) que permite executar o mesmo bloco de código enquanto uma condição é atendida. Em Python, os loops são codificados com as estruturas de repetição `for` e `while`.\n",
        "\n",
        "O laço for nos permite percorrer os itens de uma coleção e, para cada um deles, executar o bloco de código declarado no loop."
      ]
    },
    {
      "cell_type": "markdown",
      "metadata": {
        "id": "TGpprnqsiS18"
      },
      "source": [
        "Uma lista com capitais da região Nordeste:\n",
        "\n"
      ]
    },
    {
      "cell_type": "code",
      "metadata": {
        "id": "YrH21omyiAmo"
      },
      "source": [
        "capitais_ne = ['salvador', 'aracaju', 'maceio', 'recife', 'joao pessoa', 'natal', 'fortaleza', 'teresina', 'sao luiz']"
      ],
      "execution_count": null,
      "outputs": []
    },
    {
      "cell_type": "code",
      "metadata": {
        "id": "5P-6WZttiYNY"
      },
      "source": [
        "for capital in capitais_ne:\n",
        "    capital = capital + '-NE'\n",
        "    print(capital)"
      ],
      "execution_count": null,
      "outputs": []
    },
    {
      "cell_type": "code",
      "metadata": {
        "id": "mpiBJkx3aOKi"
      },
      "source": [
        "for hero in heroes:\n",
        "  hero1 = hero + \"/DC\"\n",
        "  print(hero1)"
      ],
      "execution_count": null,
      "outputs": []
    },
    {
      "cell_type": "markdown",
      "metadata": {
        "id": "LScHBCtQidr2"
      },
      "source": [
        "Vamos usar o método `title()`"
      ]
    },
    {
      "cell_type": "code",
      "metadata": {
        "id": "ZQl5_poziayN"
      },
      "source": [
        "for capital in capitais_ne:\n",
        "    print(capital.title())"
      ],
      "execution_count": null,
      "outputs": []
    },
    {
      "cell_type": "markdown",
      "metadata": {
        "id": "zDaeAisqil3U"
      },
      "source": [
        "### Criando uma lista numérica.\n",
        "\n",
        "Vamos criar uma lista numérica usando as funções `list()` e `range()`\n",
        "\n",
        "A função `range()` retorna uma série numérica de acordo com os seguintes argumentos declarados na função:\n",
        "- *start* - início da sequência\n",
        "- *stop* - último elemento da sequência\n",
        "- *step* - intervalo entre os elementos"
      ]
    },
    {
      "cell_type": "code",
      "metadata": {
        "id": "7AaFkGd-b3rk"
      },
      "source": [
        "# start = 1, stop = 11 , step = 2\n",
        "x = list(range(1,11,2))\n",
        "print(x)"
      ],
      "execution_count": null,
      "outputs": []
    },
    {
      "cell_type": "markdown",
      "metadata": {
        "id": "aDPI2qH-LeKi"
      },
      "source": [
        "Podemos usar a função `range()` em um loop `for`"
      ]
    },
    {
      "cell_type": "code",
      "metadata": {
        "id": "7CH1sJSIihO_"
      },
      "source": [
        "for valor in range(1,11):\n",
        "    print (valor)"
      ],
      "execution_count": null,
      "outputs": []
    },
    {
      "cell_type": "markdown",
      "metadata": {
        "id": "l9MVMsjKisOL"
      },
      "source": [
        "Vamos criar uma lista numérica usando as funções `list()` e `range()`"
      ]
    },
    {
      "cell_type": "code",
      "metadata": {
        "id": "VVTakyDsMdoj"
      },
      "source": [
        "valores = list(range(1,11,1))\n",
        "print(valores)"
      ],
      "execution_count": null,
      "outputs": []
    },
    {
      "cell_type": "code",
      "metadata": {
        "id": "P2n2bLCFiwfI"
      },
      "source": [
        "valores_pares = list(range(2,11,2))\n",
        "print (valores_pares)"
      ],
      "execution_count": null,
      "outputs": []
    },
    {
      "cell_type": "markdown",
      "metadata": {
        "id": "PEKQ4-m3i3Tx"
      },
      "source": [
        "Vamos criar uma lista com os quadrados dos valores da lista valores."
      ]
    },
    {
      "cell_type": "code",
      "metadata": {
        "id": "YIXiC8RLiz1X"
      },
      "source": [
        "for valor in valores:\n",
        "    valor_quad = valor**2\n",
        "    print(valor_quad)"
      ],
      "execution_count": null,
      "outputs": []
    },
    {
      "cell_type": "code",
      "metadata": {
        "id": "BNoEWJNTMqS9"
      },
      "source": [
        "type(valor_quad)"
      ],
      "execution_count": null,
      "outputs": []
    },
    {
      "cell_type": "code",
      "metadata": {
        "id": "nikYMnVSdgZT"
      },
      "source": [
        "# Outro exemplo de lista\n",
        "amostra = [1000, 1200, 850, 1500, 1800, 300]"
      ],
      "execution_count": null,
      "outputs": []
    },
    {
      "cell_type": "markdown",
      "metadata": {
        "id": "_vPmnU7mLz4o"
      },
      "source": [
        "Podemos alterar um valor da lista."
      ]
    },
    {
      "cell_type": "code",
      "metadata": {
        "id": "FXYIJt8Bc_3v"
      },
      "source": [
        "amostra[2] = 900\n",
        "print(amostra)"
      ],
      "execution_count": null,
      "outputs": []
    },
    {
      "cell_type": "markdown",
      "metadata": {
        "id": "T1GbW9xiL7Cy"
      },
      "source": [
        "Aplicar operações sobre os valores de uma lista numérica"
      ]
    },
    {
      "cell_type": "code",
      "metadata": {
        "id": "ZK56XWMqdxHF"
      },
      "source": [
        "for salario in amostra:\n",
        "  salario_corrigido = salario * 1.1\n",
        "  print(salario_corrigido)"
      ],
      "execution_count": null,
      "outputs": []
    },
    {
      "cell_type": "markdown",
      "metadata": {
        "id": "8cZlsEp2PAqW"
      },
      "source": [
        "Vamos calcular uma média dos salários da lista amostra.\n",
        "\n",
        "Para isso vamos usar as funções `sum()` e `len()`. \n",
        "\n",
        "A função `sum()` realiza a soma dos elementos da lista.\n",
        "\n",
        "A função `len()` retorna a quantidade de elementos da lista."
      ]
    },
    {
      "cell_type": "code",
      "metadata": {
        "id": "Sy7KuSF1PT_q"
      },
      "source": [
        "# Função sum() faz a soma dos elementos da lista.\n",
        "soma = sum(amostra)\n",
        "print(\"soma = \", soma)\n",
        "\n",
        "# Função len() retorna a quantidade de elementos da lista.\n",
        "n = len(amostra)\n",
        "print(\"tamanho da amostra = \", n)\n"
      ],
      "execution_count": null,
      "outputs": []
    },
    {
      "cell_type": "code",
      "metadata": {
        "id": "hhIeLHPdPprK"
      },
      "source": [
        "# Calculando a média\n",
        "media_amostra = soma/n\n",
        "print(\"Média = \", media_amostra)"
      ],
      "execution_count": null,
      "outputs": []
    },
    {
      "cell_type": "markdown",
      "metadata": {
        "id": "bPloo43ZjCST"
      },
      "source": [
        "Vamos criar uma lista com os primeiros quadrados perfeitos.\n",
        "\n",
        "Para isso, vamos utilizar o método `append()`.\n",
        "\n",
        "O método `append()` adiciona itens na lista."
      ]
    },
    {
      "cell_type": "code",
      "metadata": {
        "id": "vNenTQFsi9jw"
      },
      "source": [
        "# Cria uma lista vazia\n",
        "quadrados = []\n",
        "# Usa um loop for para elevar ao quadrado cada elemento de uma lista\n",
        "for value in range (1,11):\n",
        "    quadrado = value**2\n",
        "    quadrados.append(quadrado)\n",
        "    \n",
        "print(quadrados)"
      ],
      "execution_count": null,
      "outputs": []
    },
    {
      "cell_type": "code",
      "metadata": {
        "id": "x6Bh_gjANao1"
      },
      "source": [
        "# vamos verificar o tipo de informação é 'quadrados'\n",
        "type(quadrados)"
      ],
      "execution_count": null,
      "outputs": []
    },
    {
      "cell_type": "markdown",
      "metadata": {
        "id": "Sa3VVO-hjHUf"
      },
      "source": [
        "Existem formas de escrever o mesmo código de uma forma mais enxuta, em menos linhas:"
      ]
    },
    {
      "cell_type": "code",
      "metadata": {
        "id": "gu3TxGLNjEvE"
      },
      "source": [
        "quadrados = []\n",
        "for value in range (1,11):\n",
        "    quadrados.append(value**2)\n",
        "    \n",
        "print(quadrados)"
      ],
      "execution_count": null,
      "outputs": []
    },
    {
      "cell_type": "markdown",
      "metadata": {
        "id": "IDPC-Y2bjR0o"
      },
      "source": [
        "### List comprehensions\n",
        "\n",
        "Uma _list comprehension_ ou  _compreensões de lista_ permite uma sintaxe compacta para gerar uma lista com apenas uma linha de código.\n",
        "\n",
        "Uma _list comprehension_ combina o laço `for` e a criação de novos elementos em uma linha, e concatena cada novo elemento automaticamente."
      ]
    },
    {
      "cell_type": "code",
      "metadata": {
        "id": "5HnNrA0fjJj9"
      },
      "source": [
        "quadrados = [value**2 for value in range(1,11)]\n",
        "print (quadrados)"
      ],
      "execution_count": null,
      "outputs": []
    },
    {
      "cell_type": "code",
      "metadata": {
        "id": "mCJ9GUY-TeHq"
      },
      "source": [
        "print(amostra)\n",
        "salario_corrigido2 = [salario*1.05 for salario in amostra]\n",
        "print(salario_corrigido2)"
      ],
      "execution_count": null,
      "outputs": []
    },
    {
      "cell_type": "markdown",
      "metadata": {
        "id": "z99EGgRljacx"
      },
      "source": [
        "### \"Fatiamento\" (_slicing_) de uma lista\n",
        "\n",
        "Permite selecionar e trabalhar com partes de uma lista.\n",
        "A instrução apresenta um modelo _start:stop_ em um operador de indexação []. O elemento no índice _start_ é incluído no resultado, o elemento do índice _stop_ não. "
      ]
    },
    {
      "cell_type": "code",
      "metadata": {
        "id": "B7uGhQQBjXap"
      },
      "source": [
        "seq = [1, 2, 3, 4, 5, 6, 7, 8, 9, 10]\n",
        "print(seq)"
      ],
      "execution_count": null,
      "outputs": []
    },
    {
      "cell_type": "code",
      "metadata": {
        "id": "ozTD0usVVVM7"
      },
      "source": [
        "seq[2:4]"
      ],
      "execution_count": null,
      "outputs": []
    },
    {
      "cell_type": "code",
      "metadata": {
        "id": "SbnUMU2cVbiK"
      },
      "source": [
        "seq[:5]"
      ],
      "execution_count": null,
      "outputs": []
    },
    {
      "cell_type": "code",
      "metadata": {
        "id": "U0YAZtX-Vh1g"
      },
      "source": [
        "seq[6:]"
      ],
      "execution_count": null,
      "outputs": []
    },
    {
      "cell_type": "markdown",
      "metadata": {
        "id": "0yWmp90hpyJH"
      },
      "source": [
        "# Tuplas\n",
        "\n",
        "As listas permitem criar um conjunto de itens que podem ser modificados posteriormente no programa. No entanto, às vezes, queremos um conjunto de itens que não poderá ser alterado. As tuplas são um tipo de lista imutável.\n",
        "\n",
        "A forma mais fácil de criar uma tupla é com uma sequência de valores separados por vírgula. Em expressões mais complicadas podemos definir a sequência da tupla entre parênteses `( )`.\n",
        "\n",
        "Sobre tuplas na [documentação do Python](https://docs.python.org/pt-br/3/tutorial/datastructures.html#tuples-and-sequences)."
      ]
    },
    {
      "cell_type": "code",
      "metadata": {
        "id": "gd6saN6zqTOH"
      },
      "source": [
        "tupla1 = 1, 3, 5, 7\n",
        "print(tupla1)"
      ],
      "execution_count": null,
      "outputs": []
    },
    {
      "cell_type": "code",
      "metadata": {
        "id": "vOdaJY2AKRUo"
      },
      "source": [
        "# verificar tipo\n",
        "type(tupla1)"
      ],
      "execution_count": null,
      "outputs": []
    },
    {
      "cell_type": "code",
      "metadata": {
        "id": "e5E533-KqEaG"
      },
      "source": [
        "valores_fixos = (10, 20, 30, 40, 50, 60, 70)\n",
        "\n",
        "# Imprimir a tupla\n",
        "print(valores_fixos)\n",
        "\n",
        "# Imprimir posições da tupla\n",
        "print (valores_fixos[0])\n",
        "print (valores_fixos[2])"
      ],
      "execution_count": null,
      "outputs": []
    },
    {
      "cell_type": "markdown",
      "metadata": {
        "id": "sdeWhZMbqJma"
      },
      "source": [
        "Vamos tentar alterar o valor da posição 2."
      ]
    },
    {
      "cell_type": "code",
      "metadata": {
        "id": "3QEHQq5KqInc"
      },
      "source": [
        "valores_fixos[2] = 35"
      ],
      "execution_count": null,
      "outputs": []
    },
    {
      "cell_type": "markdown",
      "metadata": {
        "id": "a5EvBWirqQPa"
      },
      "source": [
        "### Percorrendo valores de um tupla com um laço\n",
        "Podemos usar o laço `for` em uma tupla."
      ]
    },
    {
      "cell_type": "code",
      "metadata": {
        "id": "NVE1xBHVqAGK"
      },
      "source": [
        "for fixo in valores_fixos:\n",
        "    print(fixo - 10)"
      ],
      "execution_count": null,
      "outputs": []
    },
    {
      "cell_type": "markdown",
      "metadata": {
        "id": "KqNCWj2XXGS_"
      },
      "source": [
        "Uma tupla de tuplas"
      ]
    },
    {
      "cell_type": "code",
      "metadata": {
        "id": "ECisvEafWeXA"
      },
      "source": [
        "tupla_dupla = ((40, 37, 5), (23, 27, 2))\n",
        "print(tupla_dupla)"
      ],
      "execution_count": null,
      "outputs": []
    },
    {
      "cell_type": "markdown",
      "metadata": {
        "id": "leJbZP4vXZih"
      },
      "source": [
        "Podemos converter qualquer sequência ou iterador em uma tupla chamando `tuple`:\n"
      ]
    },
    {
      "cell_type": "code",
      "metadata": {
        "id": "nwuvU0RvXToJ"
      },
      "source": [
        "tuple(seq)"
      ],
      "execution_count": null,
      "outputs": []
    },
    {
      "cell_type": "code",
      "metadata": {
        "id": "5rk7O3t3XoOz"
      },
      "source": [
        "# Veja o que acontece quando usamos tuple em uma string\n",
        "tupla_ufc = tuple('UFC')\n",
        "print(tupla_ufc)"
      ],
      "execution_count": null,
      "outputs": []
    },
    {
      "cell_type": "markdown",
      "metadata": {
        "id": "0dBACduqYioH"
      },
      "source": [
        "# Dicionários (dicts)\n",
        "\n",
        "São estruturas de dados que consistem de coleções de pares _chave:valor_, em que que _chave_ e _valor_ são objetos do Python. Possuem tamanho flexível, e são criados usando chaves `{ }` e dois-pontos para separar as chaves e valores.\n",
        "\n",
        "O _valor_ de uma _chave_ pode ser um número, uma _string_, uma lista, ou até mesmo outro dicionário.\n",
        "\n",
        "Sobre dicionários na [documentação do Python](https://docs.python.org/pt-br/3/tutorial/datastructures.html#dictionaries)."
      ]
    },
    {
      "cell_type": "code",
      "metadata": {
        "id": "9YfNIWaIZgN_"
      },
      "source": [
        "dados = {'pedro': 2100, 'lucas': 3200, 'joao': 2800, 'paulo': 2700}\n",
        "print(dados)"
      ],
      "execution_count": null,
      "outputs": []
    },
    {
      "cell_type": "markdown",
      "metadata": {
        "id": "6Bouy2xvkVrf"
      },
      "source": [
        "Para obter uma valor associado a uma chave, especifique o nome do dicionário e coloque a chave entre colchetes."
      ]
    },
    {
      "cell_type": "code",
      "metadata": {
        "id": "NlCUHQdOaFyI"
      },
      "source": [
        "dados['pedro']"
      ],
      "execution_count": null,
      "outputs": []
    },
    {
      "cell_type": "markdown",
      "metadata": {
        "id": "42v5M12OqKtu"
      },
      "source": [
        "Para adicionar um novo par _chave:valor_"
      ]
    },
    {
      "cell_type": "code",
      "metadata": {
        "id": "OTsZItu1qM7s"
      },
      "source": [
        "dados['marcos']=2400"
      ],
      "execution_count": null,
      "outputs": []
    },
    {
      "cell_type": "code",
      "metadata": {
        "id": "JKn8xyh7qviA"
      },
      "source": [
        "print(dados)"
      ],
      "execution_count": null,
      "outputs": []
    },
    {
      "cell_type": "markdown",
      "metadata": {
        "id": "MsVnWZdBq-xq"
      },
      "source": [
        "Para alterar um valor"
      ]
    },
    {
      "cell_type": "code",
      "metadata": {
        "id": "dmfBUhUJrLka"
      },
      "source": [
        "dados['marcos']=2450\n",
        "print(dados)"
      ],
      "execution_count": null,
      "outputs": []
    },
    {
      "cell_type": "markdown",
      "metadata": {
        "id": "62TrIlzurT0P"
      },
      "source": [
        "Podemos remover um par _chave:valor_ usando a instrução `del`"
      ]
    },
    {
      "cell_type": "code",
      "metadata": {
        "id": "TnxSMYslrh-Q"
      },
      "source": [
        "del dados['marcos']\n",
        "print(dados)"
      ],
      "execution_count": null,
      "outputs": []
    },
    {
      "cell_type": "markdown",
      "metadata": {
        "id": "p-Yvn37FrwH0"
      },
      "source": [
        "Percorrendo valores em um dicionário com um laço `for`"
      ]
    },
    {
      "cell_type": "code",
      "metadata": {
        "id": "i5btbSacr4vy"
      },
      "source": [
        "for key, value in dados.items():\n",
        "  print(key)\n",
        "  print(value)\n",
        "  "
      ],
      "execution_count": null,
      "outputs": []
    },
    {
      "cell_type": "markdown",
      "metadata": {
        "id": "0QfaDMjaaN6A"
      },
      "source": [
        "# Sets (conjuntos)\n",
        "\n",
        "_Sets_ são estruturas de dados não ordenadas, de elementos únicos. São como os dicionáros, mas somente com as _chaves_, sem os _valores_.\n",
        "\n",
        "Podem ser criados com chaves `{}` ou com a função `set`.\n",
        "\n",
        "Conjuntos suportam operações matemáticas como união, interseção, diferença e diferença simétrica.\n",
        "\n",
        "Sobre Sets na [documentação do Python](https://docs.python.org/pt-br/3/tutorial/datastructures.html#sets)."
      ]
    },
    {
      "cell_type": "code",
      "metadata": {
        "id": "DaiKc1M5aoJu"
      },
      "source": [
        "A = {1, 2, 3, 4, 5, 7, 9}\n",
        "\n",
        "B = {2, 4, 6, 8, 10}"
      ],
      "execution_count": null,
      "outputs": []
    },
    {
      "cell_type": "code",
      "metadata": {
        "id": "bTmoczfQtmUJ"
      },
      "source": [
        "# União\n",
        "AuB = A.union(B)\n",
        "print(AuB) "
      ],
      "execution_count": null,
      "outputs": []
    },
    {
      "cell_type": "code",
      "metadata": {
        "id": "QMIZPXChOD5k"
      },
      "source": [
        "# ou simplesmente\n",
        "A | B"
      ],
      "execution_count": null,
      "outputs": []
    },
    {
      "cell_type": "code",
      "metadata": {
        "id": "vTotJT0Ot0iQ"
      },
      "source": [
        "# Interseção\n",
        "AiB = A.intersection(B) \n",
        "print(AiB)"
      ],
      "execution_count": null,
      "outputs": []
    },
    {
      "cell_type": "code",
      "metadata": {
        "id": "0YZtC2LfN_a7"
      },
      "source": [
        "# ou simplesment\n",
        "A&B"
      ],
      "execution_count": null,
      "outputs": []
    },
    {
      "cell_type": "code",
      "metadata": {
        "id": "dIEV9gvnuFWV"
      },
      "source": [
        "# Diferença\n",
        "AdB = A.difference(B)\n",
        "print(AdB)"
      ],
      "execution_count": null,
      "outputs": []
    },
    {
      "cell_type": "code",
      "metadata": {
        "id": "6weCIOQ7NxZc"
      },
      "source": [
        "# ou simplesmente\n",
        "A - B"
      ],
      "execution_count": null,
      "outputs": []
    },
    {
      "cell_type": "code",
      "metadata": {
        "id": "yECBaN91N6-L"
      },
      "source": [
        "# Diferença simétrica (pertence a A ou B, mas não em ambos)\n",
        "A ^ B"
      ],
      "execution_count": null,
      "outputs": []
    }
  ]
}