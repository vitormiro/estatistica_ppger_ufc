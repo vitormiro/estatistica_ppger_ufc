{
  "nbformat": 4,
  "nbformat_minor": 0,
  "metadata": {
    "colab": {
      "name": "python_fundamentos_2.ipynb",
      "provenance": [],
      "authorship_tag": "ABX9TyNG51qOHpBIijqk0BHhwwHf",
      "include_colab_link": true
    },
    "kernelspec": {
      "display_name": "Python 3",
      "language": "python",
      "name": "python3"
    },
    "language_info": {
      "codemirror_mode": {
        "name": "ipython",
        "version": 3
      },
      "file_extension": ".py",
      "mimetype": "text/x-python",
      "name": "python",
      "nbconvert_exporter": "python",
      "pygments_lexer": "ipython3",
      "version": "3.7.6"
    }
  },
  "cells": [
    {
      "cell_type": "markdown",
      "metadata": {
        "id": "view-in-github",
        "colab_type": "text"
      },
      "source": [
        "<a href=\"https://colab.research.google.com/github/vitormiro/estatistica_ppger_ufc/blob/main/python_fundamentos_2.ipynb\" target=\"_parent\"><img src=\"https://colab.research.google.com/assets/colab-badge.svg\" alt=\"Open In Colab\"/></a>"
      ]
    },
    {
      "cell_type": "markdown",
      "metadata": {
        "id": "ojW24oy9gn3e"
      },
      "source": [
        "# Listas\n",
        "\n",
        "Listas permitem armazenar conjuntos de informações em um só lugar.\n",
        "\n",
        "Uma lista é uma coleção de itens em uma **ordem** particular. No Python, colchetes ([ ]) indicam uma lista, e elementos individuais são separados por vírgulas.\n",
        "\n",
        "Sobre listas na [documentação do Python](https://docs.python.org/pt-br/3/tutorial/introduction.html#lists).\n",
        "\n",
        "Vamos criar uma primeira lista com nomes."
      ]
    },
    {
      "cell_type": "code",
      "metadata": {
        "id": "AoxJXWL1gr-f"
      },
      "source": [
        "nomes = ['João', 'Maria', 'José', 'Lara']"
      ],
      "execution_count": null,
      "outputs": []
    },
    {
      "cell_type": "code",
      "metadata": {
        "id": "eM_z0QVDg2zz",
        "colab": {
          "base_uri": "https://localhost:8080/"
        },
        "outputId": "8f030839-a2fc-477b-e675-21e66bf81243"
      },
      "source": [
        "print(nomes)"
      ],
      "execution_count": null,
      "outputs": [
        {
          "output_type": "stream",
          "text": [
            "['João', 'Maria', 'José', 'Lara']\n"
          ],
          "name": "stdout"
        }
      ]
    },
    {
      "cell_type": "code",
      "metadata": {
        "id": "Iw39cREVWK5T",
        "colab": {
          "base_uri": "https://localhost:8080/"
        },
        "outputId": "6236500c-b56f-4c01-91b4-90f50404e714"
      },
      "source": [
        "heroes = ['Superman', 'Batman', 'Mulher Maravilha', 'Flash', 'Cyborg', 'Lanterna Verde']\n",
        "print(heroes)"
      ],
      "execution_count": null,
      "outputs": [
        {
          "output_type": "stream",
          "text": [
            "['Superman', 'Batman', 'Mulher Maravilha', 'Flash', 'Cyborg', 'Lanterna Verde']\n"
          ],
          "name": "stdout"
        }
      ]
    },
    {
      "cell_type": "code",
      "metadata": {
        "id": "bGBSF8LBWjWG",
        "colab": {
          "base_uri": "https://localhost:8080/"
        },
        "outputId": "90889be4-6ccf-4b93-d748-1a2ac3332654"
      },
      "source": [
        "numeros = [1, 2, 3, 4, 5]\n",
        "print(numeros)"
      ],
      "execution_count": null,
      "outputs": [
        {
          "output_type": "stream",
          "text": [
            "[1, 2, 3, 4, 5]\n"
          ],
          "name": "stdout"
        }
      ]
    },
    {
      "cell_type": "markdown",
      "metadata": {
        "id": "fQoaWh7ohBFX"
      },
      "source": [
        "## Acessando elementos de uma lista\n",
        "Listas são coleções ordenadas, portanto você pode acessar qualquer elemento de uma lista informando a posição - ou o indice - \n",
        "do item desejado.\n",
        "Deve-se estar atento, a primeira posição em uma lista tem índice zero e não um."
      ]
    },
    {
      "cell_type": "code",
      "metadata": {
        "id": "7dk8Pza3g5Zd",
        "colab": {
          "base_uri": "https://localhost:8080/"
        },
        "outputId": "1e6ac575-a79e-46a8-ac53-5d2c420c68b0"
      },
      "source": [
        "print(heroes[1])\n",
        "print(heroes[0])"
      ],
      "execution_count": null,
      "outputs": [
        {
          "output_type": "stream",
          "text": [
            "Batman\n",
            "Superman\n"
          ],
          "name": "stdout"
        }
      ]
    },
    {
      "cell_type": "markdown",
      "metadata": {
        "id": "S1hsOqn5hMv4"
      },
      "source": [
        "Ao solicitar o índice -1, o Python sempre devolve o último item da lista; o índice -2, o penúltimo, e assim por diante."
      ]
    },
    {
      "cell_type": "code",
      "metadata": {
        "id": "nvP_7MtQhIDc",
        "colab": {
          "base_uri": "https://localhost:8080/"
        },
        "outputId": "d6f9f92b-ebe7-437c-bf0b-59970ccc5f5d"
      },
      "source": [
        "print(nomes[-1])\n",
        "print(nomes[-2])\n",
        "print(nomes[-3])"
      ],
      "execution_count": null,
      "outputs": [
        {
          "output_type": "stream",
          "text": [
            "Lara\n",
            "José\n",
            "Maria\n"
          ],
          "name": "stdout"
        }
      ]
    },
    {
      "cell_type": "markdown",
      "metadata": {
        "id": "VZWj5jEihUxF"
      },
      "source": [
        "### Utilizando os elementos da lista.\n",
        "Podemos utilizar os elementos de uma lista assim como fariamos como qualquer outra variável."
      ]
    },
    {
      "cell_type": "code",
      "metadata": {
        "id": "-gRimIO7hTqt",
        "colab": {
          "base_uri": "https://localhost:8080/"
        },
        "outputId": "f0b7055a-e245-46c7-9450-8b1d5dea0850"
      },
      "source": [
        "mensagem_1 = nomes[0] + \" é o chefe da família.\"\n",
        "print (mensagem_1)"
      ],
      "execution_count": null,
      "outputs": [
        {
          "output_type": "stream",
          "text": [
            "João é o chefe da família.\n"
          ],
          "name": "stdout"
        }
      ]
    },
    {
      "cell_type": "code",
      "metadata": {
        "id": "sEWlXEryhYzP",
        "colab": {
          "base_uri": "https://localhost:8080/"
        },
        "outputId": "b3033ad6-1548-4d8f-89b3-a5fc1437810c"
      },
      "source": [
        "mensagem_2 = \"O casal \" + nomes[0] + \" e \" + nomes[1] + \" possuem dois filhos: \" + nomes[2] + \" e \" + nomes[3] + \".\"\n",
        "print(mensagem_2)"
      ],
      "execution_count": null,
      "outputs": [
        {
          "output_type": "stream",
          "text": [
            "O casal João e Maria possuem dois filhos: José e Lara.\n"
          ],
          "name": "stdout"
        }
      ]
    },
    {
      "cell_type": "markdown",
      "metadata": {
        "id": "dGcS7MEuiNII"
      },
      "source": [
        "# Trabalhando com listas: utilizando laços (for)\n",
        "\n",
        "Em algumas situações é comum que uma mesma instrução (ou conjunto delas) precise ser executada várias vezes seguidas. Nesses casos, normalmente utilizamos um loop (ou laço de repetição) que permite executar o mesmo bloco de código enquanto uma condição é atendida. Em Python, os loops são codificados com as estruturas de repetição `for` e `while`.\n",
        "\n",
        "O laço for nos permite percorrer os itens de uma coleção e, para cada um deles, executar o bloco de código declarado no loop."
      ]
    },
    {
      "cell_type": "markdown",
      "metadata": {
        "id": "TGpprnqsiS18"
      },
      "source": [
        "Uma lista com capitais da região Nordeste:\n",
        "\n"
      ]
    },
    {
      "cell_type": "code",
      "metadata": {
        "id": "YrH21omyiAmo"
      },
      "source": [
        "capitais_ne = ['salvador', 'aracaju', 'maceio', 'recife', 'joao pessoa', 'natal', 'fortaleza', 'teresina', 'sao luiz']"
      ],
      "execution_count": null,
      "outputs": []
    },
    {
      "cell_type": "code",
      "metadata": {
        "id": "5P-6WZttiYNY",
        "colab": {
          "base_uri": "https://localhost:8080/"
        },
        "outputId": "62235561-da7f-4e20-b850-dd5ccf983b11"
      },
      "source": [
        "for capital in capitais_ne:\n",
        "    capital = capital + '-NE'\n",
        "    print(capital)"
      ],
      "execution_count": null,
      "outputs": [
        {
          "output_type": "stream",
          "text": [
            "salvador-NE\n",
            "aracaju-NE\n",
            "maceio-NE\n",
            "recife-NE\n",
            "joao pessoa-NE\n",
            "natal-NE\n",
            "fortaleza-NE\n",
            "teresina-NE\n",
            "sao luiz-NE\n"
          ],
          "name": "stdout"
        }
      ]
    },
    {
      "cell_type": "code",
      "metadata": {
        "id": "mpiBJkx3aOKi",
        "colab": {
          "base_uri": "https://localhost:8080/"
        },
        "outputId": "29897b69-940f-4d1d-d510-8f328749a712"
      },
      "source": [
        "for hero in heroes:\n",
        "  hero1 = hero + \"/DC\"\n",
        "  print(hero1)"
      ],
      "execution_count": null,
      "outputs": [
        {
          "output_type": "stream",
          "text": [
            "Superman/DC\n",
            "Batman/DC\n",
            "Mulher Maravilha/DC\n",
            "Flash/DC\n",
            "Cyborg/DC\n",
            "Lanterna Verde/DC\n"
          ],
          "name": "stdout"
        }
      ]
    },
    {
      "cell_type": "markdown",
      "metadata": {
        "id": "LScHBCtQidr2"
      },
      "source": [
        "Vamos usar o método `title()`"
      ]
    },
    {
      "cell_type": "code",
      "metadata": {
        "id": "ZQl5_poziayN",
        "colab": {
          "base_uri": "https://localhost:8080/"
        },
        "outputId": "e59ec34d-5bca-4d74-bbd4-14e2cd57e955"
      },
      "source": [
        "for capital in capitais_ne:\n",
        "    print(capital.title())"
      ],
      "execution_count": null,
      "outputs": [
        {
          "output_type": "stream",
          "text": [
            "Salvador\n",
            "Aracaju\n",
            "Maceio\n",
            "Recife\n",
            "Joao Pessoa\n",
            "Natal\n",
            "Fortaleza\n",
            "Teresina\n",
            "Sao Luiz\n"
          ],
          "name": "stdout"
        }
      ]
    },
    {
      "cell_type": "markdown",
      "metadata": {
        "id": "zDaeAisqil3U"
      },
      "source": [
        "### Criando uma lista numérica.\n",
        "\n",
        "Vamos criar uma lista numérica usando as funções `list()` e `range()`\n",
        "\n",
        "A função `range()` retorna uma série numérica de acordo com os seguintes argumentos declarados na função:\n",
        "- *start* - início da sequência\n",
        "- *stop* - último elemento da sequência\n",
        "- *step* - intervalo entre os elementos"
      ]
    },
    {
      "cell_type": "code",
      "metadata": {
        "id": "7AaFkGd-b3rk",
        "colab": {
          "base_uri": "https://localhost:8080/"
        },
        "outputId": "f9995ea0-3586-4651-a074-8e851b768aa3"
      },
      "source": [
        "# start = 1, stop = 11 , step = 2\n",
        "x = list(range(1,11,2))\n",
        "print(x)"
      ],
      "execution_count": null,
      "outputs": [
        {
          "output_type": "stream",
          "text": [
            "[1, 3, 5, 7, 9]\n"
          ],
          "name": "stdout"
        }
      ]
    },
    {
      "cell_type": "markdown",
      "metadata": {
        "id": "aDPI2qH-LeKi"
      },
      "source": [
        "Podemos usar a função `range()` em um loop `for`"
      ]
    },
    {
      "cell_type": "code",
      "metadata": {
        "id": "7CH1sJSIihO_",
        "colab": {
          "base_uri": "https://localhost:8080/"
        },
        "outputId": "33a3f8fd-7632-4e40-ee98-d02f92b3fe93"
      },
      "source": [
        "for valor in range(1,11):\n",
        "    print (valor)"
      ],
      "execution_count": null,
      "outputs": [
        {
          "output_type": "stream",
          "text": [
            "1\n",
            "2\n",
            "3\n",
            "4\n",
            "5\n",
            "6\n",
            "7\n",
            "8\n",
            "9\n",
            "10\n"
          ],
          "name": "stdout"
        }
      ]
    },
    {
      "cell_type": "markdown",
      "metadata": {
        "id": "l9MVMsjKisOL"
      },
      "source": [
        "Vamos criar uma lista numérica usando as funções `list()` e `range()`"
      ]
    },
    {
      "cell_type": "code",
      "metadata": {
        "colab": {
          "base_uri": "https://localhost:8080/"
        },
        "id": "VVTakyDsMdoj",
        "outputId": "c2366e4c-58e5-404e-eabb-ca295ecbc294"
      },
      "source": [
        "valores = list(range(1,11,1))\n",
        "print(valores)"
      ],
      "execution_count": null,
      "outputs": [
        {
          "output_type": "stream",
          "text": [
            "[1, 2, 3, 4, 5, 6, 7, 8, 9, 10]\n"
          ],
          "name": "stdout"
        }
      ]
    },
    {
      "cell_type": "code",
      "metadata": {
        "id": "P2n2bLCFiwfI",
        "colab": {
          "base_uri": "https://localhost:8080/"
        },
        "outputId": "3a85c023-2465-4609-bdc3-78d39df05842"
      },
      "source": [
        "valores_pares = list(range(2,11,2))\n",
        "print (valores_pares)"
      ],
      "execution_count": null,
      "outputs": [
        {
          "output_type": "stream",
          "text": [
            "[2, 4, 6, 8, 10]\n"
          ],
          "name": "stdout"
        }
      ]
    },
    {
      "cell_type": "markdown",
      "metadata": {
        "id": "PEKQ4-m3i3Tx"
      },
      "source": [
        "Vamos criar uma lista com os quadrados dos valores da lista valores."
      ]
    },
    {
      "cell_type": "code",
      "metadata": {
        "id": "YIXiC8RLiz1X",
        "colab": {
          "base_uri": "https://localhost:8080/"
        },
        "outputId": "87848033-2a66-4fd0-979d-3ff4dc358e88"
      },
      "source": [
        "for valor in valores:\n",
        "    valor_quad = valor**2\n",
        "    print(valor_quad)"
      ],
      "execution_count": null,
      "outputs": [
        {
          "output_type": "stream",
          "text": [
            "1\n",
            "4\n",
            "9\n",
            "16\n",
            "25\n",
            "36\n",
            "49\n",
            "64\n",
            "81\n",
            "100\n"
          ],
          "name": "stdout"
        }
      ]
    },
    {
      "cell_type": "code",
      "metadata": {
        "colab": {
          "base_uri": "https://localhost:8080/"
        },
        "id": "BNoEWJNTMqS9",
        "outputId": "b8c59310-3da5-4423-84f0-0d374821eda4"
      },
      "source": [
        "type(valor_quad)"
      ],
      "execution_count": null,
      "outputs": [
        {
          "output_type": "execute_result",
          "data": {
            "text/plain": [
              "int"
            ]
          },
          "metadata": {
            "tags": []
          },
          "execution_count": 21
        }
      ]
    },
    {
      "cell_type": "code",
      "metadata": {
        "id": "nikYMnVSdgZT"
      },
      "source": [
        "# Outro exemplo de lista\n",
        "amostra = [1000, 1200, 850, 1500, 1800, 300]"
      ],
      "execution_count": null,
      "outputs": []
    },
    {
      "cell_type": "markdown",
      "metadata": {
        "id": "_vPmnU7mLz4o"
      },
      "source": [
        "Podemos alterar um valor da lista."
      ]
    },
    {
      "cell_type": "code",
      "metadata": {
        "id": "FXYIJt8Bc_3v",
        "colab": {
          "base_uri": "https://localhost:8080/"
        },
        "outputId": "b9ff650e-e621-4c09-e235-a266a6145370"
      },
      "source": [
        "amostra[2] = 900\n",
        "print(amostra)"
      ],
      "execution_count": null,
      "outputs": [
        {
          "output_type": "stream",
          "text": [
            "[1000, 1200, 900, 1500, 1800, 300]\n"
          ],
          "name": "stdout"
        }
      ]
    },
    {
      "cell_type": "markdown",
      "metadata": {
        "id": "T1GbW9xiL7Cy"
      },
      "source": [
        "Aplicar operações sobre os valores de uma lista numérica"
      ]
    },
    {
      "cell_type": "code",
      "metadata": {
        "id": "ZK56XWMqdxHF",
        "colab": {
          "base_uri": "https://localhost:8080/"
        },
        "outputId": "bfdf5455-a6a1-4b24-de15-2edf7983fbd6"
      },
      "source": [
        "for salario in amostra:\n",
        "  salario_corrigido = salario * 1.1\n",
        "  print(salario_corrigido)"
      ],
      "execution_count": null,
      "outputs": [
        {
          "output_type": "stream",
          "text": [
            "1100.0\n",
            "1320.0\n",
            "990.0000000000001\n",
            "1650.0000000000002\n",
            "1980.0000000000002\n",
            "330.0\n"
          ],
          "name": "stdout"
        }
      ]
    },
    {
      "cell_type": "markdown",
      "metadata": {
        "id": "8cZlsEp2PAqW"
      },
      "source": [
        "Vamos calcular uma média dos salários da lista amostra.\n",
        "\n",
        "Para isso vamos usar as funções `sum()` e `len()`. \n",
        "\n",
        "A função `sum()` realiza a soma dos elementos da lista.\n",
        "\n",
        "A função `len()` retorna a quantidade de elementos da lista."
      ]
    },
    {
      "cell_type": "code",
      "metadata": {
        "id": "Sy7KuSF1PT_q",
        "colab": {
          "base_uri": "https://localhost:8080/"
        },
        "outputId": "402e300b-670f-4322-ac79-26a23fc36b81"
      },
      "source": [
        "# Função sum() faz a soma dos elementos da lista.\n",
        "soma = sum(amostra)\n",
        "print(\"soma = \", soma)\n",
        "\n",
        "# Função len() retorna a quantidade de elementos da lista.\n",
        "n = len(amostra)\n",
        "print(\"tamanho da amostra = \", n)\n"
      ],
      "execution_count": null,
      "outputs": [
        {
          "output_type": "stream",
          "text": [
            "soma =  6700\n",
            "tamanho da amostra =  6\n"
          ],
          "name": "stdout"
        }
      ]
    },
    {
      "cell_type": "code",
      "metadata": {
        "id": "hhIeLHPdPprK",
        "colab": {
          "base_uri": "https://localhost:8080/"
        },
        "outputId": "4671c961-00fe-4305-f138-c264209ac71e"
      },
      "source": [
        "# Calculando a média\n",
        "media_amostra = soma/n\n",
        "print(\"Média = \", media_amostra)"
      ],
      "execution_count": null,
      "outputs": [
        {
          "output_type": "stream",
          "text": [
            "Média =  1116.6666666666667\n"
          ],
          "name": "stdout"
        }
      ]
    },
    {
      "cell_type": "markdown",
      "metadata": {
        "id": "bPloo43ZjCST"
      },
      "source": [
        "Vamos criar uma lista com os primeiros quadrados perfeitos.\n",
        "\n",
        "Para isso, vamos utilizar o método `append()`.\n",
        "\n",
        "O método `append()` adiciona itens na lista."
      ]
    },
    {
      "cell_type": "code",
      "metadata": {
        "id": "vNenTQFsi9jw",
        "colab": {
          "base_uri": "https://localhost:8080/"
        },
        "outputId": "778fc11e-ac67-4b34-fdab-fe3544856c27"
      },
      "source": [
        "# Cria uma lista vazia\n",
        "quadrados = []\n",
        "# Usa um loop for para elevar ao quadrado cada elemento de uma lista\n",
        "for value in range (1,11):\n",
        "    quadrado = value**2\n",
        "    quadrados.append(quadrado)\n",
        "    \n",
        "print(quadrados)"
      ],
      "execution_count": null,
      "outputs": [
        {
          "output_type": "stream",
          "text": [
            "[1, 4, 9, 16, 25, 36, 49, 64, 81, 100]\n"
          ],
          "name": "stdout"
        }
      ]
    },
    {
      "cell_type": "code",
      "metadata": {
        "colab": {
          "base_uri": "https://localhost:8080/"
        },
        "id": "x6Bh_gjANao1",
        "outputId": "06a8891c-eb83-476f-fd5f-4654952f36ae"
      },
      "source": [
        "# vamos verificar o tipo de informação é 'quadrados'\n",
        "type(quadrados)"
      ],
      "execution_count": null,
      "outputs": [
        {
          "output_type": "execute_result",
          "data": {
            "text/plain": [
              "list"
            ]
          },
          "metadata": {
            "tags": []
          },
          "execution_count": 29
        }
      ]
    },
    {
      "cell_type": "markdown",
      "metadata": {
        "id": "Sa3VVO-hjHUf"
      },
      "source": [
        "Existem formas de escrever o mesmo código de uma forma mais enxuta, em menos linhas:"
      ]
    },
    {
      "cell_type": "code",
      "metadata": {
        "id": "gu3TxGLNjEvE",
        "colab": {
          "base_uri": "https://localhost:8080/",
          "height": 35
        },
        "outputId": "a60673c5-0044-4242-d2f7-541ea538c7f6"
      },
      "source": [
        "quadrados = []\n",
        "for value in range (1,11):\n",
        "    quadrados.append(value**2)\n",
        "    \n",
        "print(quadrados)"
      ],
      "execution_count": null,
      "outputs": [
        {
          "output_type": "stream",
          "text": [
            "[1, 4, 9, 16, 25, 36, 49, 64, 81, 100]\n"
          ],
          "name": "stdout"
        }
      ]
    },
    {
      "cell_type": "markdown",
      "metadata": {
        "id": "IDPC-Y2bjR0o"
      },
      "source": [
        "### List comprehensions\n",
        "\n",
        "Uma _list comprehension_ (abrangência de lista) permite uma sintaxe compacta para gerar uma lista com apenas uma linha de código.\n",
        "Uma _list comprehension_ combina o laço `for` e a criação de novos elementos em uma linha, e concatena cada novo elemento automaticamente."
      ]
    },
    {
      "cell_type": "code",
      "metadata": {
        "id": "5HnNrA0fjJj9",
        "colab": {
          "base_uri": "https://localhost:8080/",
          "height": 35
        },
        "outputId": "45d28752-8bfa-46a6-e3d7-1c254fa38aea"
      },
      "source": [
        "quadrados = [value**2 for value in range(1,11)]\n",
        "print (quadrados)"
      ],
      "execution_count": null,
      "outputs": [
        {
          "output_type": "stream",
          "text": [
            "[1, 4, 9, 16, 25, 36, 49, 64, 81, 100]\n"
          ],
          "name": "stdout"
        }
      ]
    },
    {
      "cell_type": "code",
      "metadata": {
        "id": "mCJ9GUY-TeHq",
        "colab": {
          "base_uri": "https://localhost:8080/",
          "height": 52
        },
        "outputId": "fb987dee-b1de-46a1-a24e-ae4b96bd7a29"
      },
      "source": [
        "print(amostra)\n",
        "salario_corrigido2 = [salario*1.05 for salario in amostra]\n",
        "print(salario_corrigido2)"
      ],
      "execution_count": null,
      "outputs": [
        {
          "output_type": "stream",
          "text": [
            "[1000, 1200, 850, 1500, 1800, 300]\n",
            "[1050.0, 1260.0, 892.5, 1575.0, 1890.0, 315.0]\n"
          ],
          "name": "stdout"
        }
      ]
    },
    {
      "cell_type": "markdown",
      "metadata": {
        "id": "z99EGgRljacx"
      },
      "source": [
        "### \"Fatiamento\" (_slicing_) de uma lista\n",
        "\n",
        "Permite selecionar e trabalhar com partes de uma lista.\n",
        "A instrução apresenta um modelo _start:stop_ em um operador de indexação []. O elemento no índice _start_ é incluído no resultado, o elemento do índice _stop_ não. "
      ]
    },
    {
      "cell_type": "code",
      "metadata": {
        "id": "B7uGhQQBjXap",
        "colab": {
          "base_uri": "https://localhost:8080/",
          "height": 35
        },
        "outputId": "016ac278-c59a-4d01-9e24-ce2ad2993aae"
      },
      "source": [
        "seq = [1, 2, 3, 4, 5, 6, 7, 8, 9, 10]\n",
        "print(seq)"
      ],
      "execution_count": null,
      "outputs": [
        {
          "output_type": "stream",
          "text": [
            "[1, 2, 3, 4, 5, 6, 7, 8, 9, 10]\n"
          ],
          "name": "stdout"
        }
      ]
    },
    {
      "cell_type": "code",
      "metadata": {
        "id": "ozTD0usVVVM7",
        "colab": {
          "base_uri": "https://localhost:8080/",
          "height": 35
        },
        "outputId": "5f632e7b-a68f-442e-dd33-ea656d5dccb0"
      },
      "source": [
        "seq[2:4]"
      ],
      "execution_count": null,
      "outputs": [
        {
          "output_type": "execute_result",
          "data": {
            "text/plain": [
              "[3, 4]"
            ]
          },
          "metadata": {
            "tags": []
          },
          "execution_count": 40
        }
      ]
    },
    {
      "cell_type": "code",
      "metadata": {
        "id": "SbnUMU2cVbiK",
        "colab": {
          "base_uri": "https://localhost:8080/",
          "height": 35
        },
        "outputId": "be4bcea5-eca6-49da-f156-cf5dde044917"
      },
      "source": [
        "seq[:5]"
      ],
      "execution_count": null,
      "outputs": [
        {
          "output_type": "execute_result",
          "data": {
            "text/plain": [
              "[1, 2, 3, 4, 5]"
            ]
          },
          "metadata": {
            "tags": []
          },
          "execution_count": 41
        }
      ]
    },
    {
      "cell_type": "code",
      "metadata": {
        "id": "U0YAZtX-Vh1g",
        "colab": {
          "base_uri": "https://localhost:8080/",
          "height": 35
        },
        "outputId": "9b55a54c-fca1-4343-eae6-5d79f26fe7a2"
      },
      "source": [
        "seq[6:]"
      ],
      "execution_count": null,
      "outputs": [
        {
          "output_type": "execute_result",
          "data": {
            "text/plain": [
              "[7, 8, 9, 10]"
            ]
          },
          "metadata": {
            "tags": []
          },
          "execution_count": 42
        }
      ]
    },
    {
      "cell_type": "markdown",
      "metadata": {
        "id": "0yWmp90hpyJH"
      },
      "source": [
        "## Tuplas\n",
        "\n",
        "As listas permitem criar um conjunto de itens que podem ser modificados posteriormente no programa. No entanto, às vezes, queremos um conjunto de itens que não poderá ser alterado. As tuplas são um tipo de lista imutável.\n",
        "\n",
        "A forma mais fácil de criar uma tupla é com uma sequência de valores separados por vírgula. Em expressões mais complicadas podemos definir a sequência da tupla entre parênteses `( )`."
      ]
    },
    {
      "cell_type": "code",
      "metadata": {
        "id": "gd6saN6zqTOH",
        "colab": {
          "base_uri": "https://localhost:8080/",
          "height": 35
        },
        "outputId": "941fd740-4d93-418a-f24a-b7b6b9ef8235"
      },
      "source": [
        "tupla1 = 1, 3, 5, 7\n",
        "print(tupla1)"
      ],
      "execution_count": null,
      "outputs": [
        {
          "output_type": "stream",
          "text": [
            "(1, 3, 5, 7)\n"
          ],
          "name": "stdout"
        }
      ]
    },
    {
      "cell_type": "code",
      "metadata": {
        "id": "e5E533-KqEaG",
        "colab": {
          "base_uri": "https://localhost:8080/",
          "height": 69
        },
        "outputId": "2b886e1b-c747-40d2-b012-2fda38184d3c"
      },
      "source": [
        "valores_fixos = (10, 20, 30, 40, 50, 60, 70)\n",
        "print(valores_fixos)\n",
        "print (valores_fixos[0])\n",
        "print (valores_fixos[2])"
      ],
      "execution_count": null,
      "outputs": [
        {
          "output_type": "stream",
          "text": [
            "(10, 20, 30, 40, 50, 60, 70)\n",
            "10\n",
            "30\n"
          ],
          "name": "stdout"
        }
      ]
    },
    {
      "cell_type": "markdown",
      "metadata": {
        "id": "sdeWhZMbqJma"
      },
      "source": [
        "Vamos tentar alterar o valor da posição 2."
      ]
    },
    {
      "cell_type": "code",
      "metadata": {
        "id": "3QEHQq5KqInc",
        "colab": {
          "base_uri": "https://localhost:8080/",
          "height": 166
        },
        "outputId": "8aebfc08-13b6-4e78-cec3-0fe6ceed1277"
      },
      "source": [
        "valores_fixos[2] = 35"
      ],
      "execution_count": null,
      "outputs": [
        {
          "output_type": "error",
          "ename": "TypeError",
          "evalue": "ignored",
          "traceback": [
            "\u001b[0;31m---------------------------------------------------------------------------\u001b[0m",
            "\u001b[0;31mTypeError\u001b[0m                                 Traceback (most recent call last)",
            "\u001b[0;32m<ipython-input-48-d309dccde087>\u001b[0m in \u001b[0;36m<module>\u001b[0;34m()\u001b[0m\n\u001b[0;32m----> 1\u001b[0;31m \u001b[0mvalores_fixos\u001b[0m\u001b[0;34m[\u001b[0m\u001b[0;36m2\u001b[0m\u001b[0;34m]\u001b[0m\u001b[0;34m=\u001b[0m\u001b[0;36m35\u001b[0m\u001b[0;34m\u001b[0m\u001b[0;34m\u001b[0m\u001b[0m\n\u001b[0m",
            "\u001b[0;31mTypeError\u001b[0m: 'tuple' object does not support item assignment"
          ]
        }
      ]
    },
    {
      "cell_type": "markdown",
      "metadata": {
        "id": "a5EvBWirqQPa"
      },
      "source": [
        "### Percorrendo valores de um tupla com um laço\n",
        "Podemos usar o laço `for` em uma tupla."
      ]
    },
    {
      "cell_type": "code",
      "metadata": {
        "id": "NVE1xBHVqAGK",
        "colab": {
          "base_uri": "https://localhost:8080/",
          "height": 139
        },
        "outputId": "5538d767-7529-4f98-a440-a3ebd3d41d3f"
      },
      "source": [
        "for fixo in valores_fixos:\n",
        "    print(fixo - 10)"
      ],
      "execution_count": null,
      "outputs": [
        {
          "output_type": "stream",
          "text": [
            "0\n",
            "10\n",
            "20\n",
            "30\n",
            "40\n",
            "50\n",
            "60\n"
          ],
          "name": "stdout"
        }
      ]
    },
    {
      "cell_type": "markdown",
      "metadata": {
        "id": "KqNCWj2XXGS_"
      },
      "source": [
        "Uma tupla de tuplas"
      ]
    },
    {
      "cell_type": "code",
      "metadata": {
        "id": "ECisvEafWeXA",
        "colab": {
          "base_uri": "https://localhost:8080/",
          "height": 35
        },
        "outputId": "eae119be-3d31-4ee0-93f3-81e5eef62547"
      },
      "source": [
        "tupla_dupla = ((40, 37, 5), (23, 27, 2))\n",
        "print(tupla_dupla)"
      ],
      "execution_count": null,
      "outputs": [
        {
          "output_type": "stream",
          "text": [
            "((40, 37, 5), (23, 27, 2))\n"
          ],
          "name": "stdout"
        }
      ]
    },
    {
      "cell_type": "markdown",
      "metadata": {
        "id": "leJbZP4vXZih"
      },
      "source": [
        "Podemos converter qualquer sequência ou iterador em uma tupla chamando `tuple`:\n"
      ]
    },
    {
      "cell_type": "code",
      "metadata": {
        "id": "nwuvU0RvXToJ",
        "colab": {
          "base_uri": "https://localhost:8080/",
          "height": 35
        },
        "outputId": "5e99346d-3e8d-4e35-ac3e-df3d39662e4a"
      },
      "source": [
        "tuple(seq)"
      ],
      "execution_count": null,
      "outputs": [
        {
          "output_type": "execute_result",
          "data": {
            "text/plain": [
              "(1, 2, 3, 4, 5, 6, 7, 8, 9, 10)"
            ]
          },
          "metadata": {
            "tags": []
          },
          "execution_count": 52
        }
      ]
    },
    {
      "cell_type": "code",
      "metadata": {
        "id": "5rk7O3t3XoOz",
        "colab": {
          "base_uri": "https://localhost:8080/",
          "height": 35
        },
        "outputId": "5299703f-5401-4b3d-c799-b4d46ee19d2b"
      },
      "source": [
        "# Veja o que acontece quando usamos tuple em uma string\n",
        "tupla_ufc = tuple('UFC')\n",
        "print(tupla_ufc)"
      ],
      "execution_count": null,
      "outputs": [
        {
          "output_type": "stream",
          "text": [
            "('U', 'F', 'C')\n"
          ],
          "name": "stdout"
        }
      ]
    },
    {
      "cell_type": "markdown",
      "metadata": {
        "id": "0dBACduqYioH"
      },
      "source": [
        "# Dicionários (dicts)\n",
        "\n",
        "São estruturas de dados que consistem de coleções de pares _chave:valor_, em que que _chave_ e _valor_ são objetos do Python. Possuem tamanho flexível, e são criados usando chaves `{ }` e dois-pontos para separar as chaves e valores.\n",
        "\n",
        "O _valor_ de uma _chave_ pode ser um número, uma _string_, uma lista, ou até mesmo outro dicionário."
      ]
    },
    {
      "cell_type": "code",
      "metadata": {
        "id": "9YfNIWaIZgN_",
        "colab": {
          "base_uri": "https://localhost:8080/",
          "height": 35
        },
        "outputId": "dd5255f4-7223-4a7b-b37c-78184a1e3eef"
      },
      "source": [
        "dados = {'pedro': 2100, 'lucas': 3200, 'joao': 2800, 'paulo': 2700}\n",
        "print(dados)"
      ],
      "execution_count": null,
      "outputs": [
        {
          "output_type": "stream",
          "text": [
            "{'pedro': 2100, 'lucas': 3200, 'joao': 2800, 'paulo': 2700}\n"
          ],
          "name": "stdout"
        }
      ]
    },
    {
      "cell_type": "markdown",
      "metadata": {
        "id": "6Bouy2xvkVrf"
      },
      "source": [
        "Para obter uma valor associado a uma chave, especifique o nome do dicionário e coloque a chave entre colchetes."
      ]
    },
    {
      "cell_type": "code",
      "metadata": {
        "id": "NlCUHQdOaFyI",
        "colab": {
          "base_uri": "https://localhost:8080/",
          "height": 35
        },
        "outputId": "5aa5d9fc-4481-49f4-e019-0be93c3c999c"
      },
      "source": [
        "dados['pedro']"
      ],
      "execution_count": null,
      "outputs": [
        {
          "output_type": "execute_result",
          "data": {
            "text/plain": [
              "2100"
            ]
          },
          "metadata": {
            "tags": []
          },
          "execution_count": 56
        }
      ]
    },
    {
      "cell_type": "markdown",
      "metadata": {
        "id": "42v5M12OqKtu"
      },
      "source": [
        "Para adicionar um novo par _chave:valor_"
      ]
    },
    {
      "cell_type": "code",
      "metadata": {
        "id": "OTsZItu1qM7s"
      },
      "source": [
        "dados['marcos']=2400"
      ],
      "execution_count": null,
      "outputs": []
    },
    {
      "cell_type": "code",
      "metadata": {
        "id": "JKn8xyh7qviA",
        "colab": {
          "base_uri": "https://localhost:8080/",
          "height": 35
        },
        "outputId": "d25c1441-59af-4c6c-ddd9-459a83a94ca7"
      },
      "source": [
        "print(dados)"
      ],
      "execution_count": null,
      "outputs": [
        {
          "output_type": "stream",
          "text": [
            "{'pedro': 2100, 'lucas': 3200, 'joao': 2800, 'paulo': 2700, 'marcos': 2400}\n"
          ],
          "name": "stdout"
        }
      ]
    },
    {
      "cell_type": "markdown",
      "metadata": {
        "id": "MsVnWZdBq-xq"
      },
      "source": [
        "Para alterar um valor"
      ]
    },
    {
      "cell_type": "code",
      "metadata": {
        "id": "dmfBUhUJrLka",
        "colab": {
          "base_uri": "https://localhost:8080/",
          "height": 35
        },
        "outputId": "7adfe091-cdd4-495a-f9cf-107245f36870"
      },
      "source": [
        "dados['marcos']=2450\n",
        "print(dados)"
      ],
      "execution_count": null,
      "outputs": [
        {
          "output_type": "stream",
          "text": [
            "{'pedro': 2100, 'lucas': 3200, 'joao': 2800, 'paulo': 2700, 'marcos': 2450}\n"
          ],
          "name": "stdout"
        }
      ]
    },
    {
      "cell_type": "markdown",
      "metadata": {
        "id": "62TrIlzurT0P"
      },
      "source": [
        "Podemos remover um par _chave:valor_ usando a instrução `del`"
      ]
    },
    {
      "cell_type": "code",
      "metadata": {
        "id": "TnxSMYslrh-Q",
        "colab": {
          "base_uri": "https://localhost:8080/",
          "height": 35
        },
        "outputId": "4de32af6-bac3-4060-deec-ae14f2f1eb8f"
      },
      "source": [
        "del dados['marcos']\n",
        "print(dados)"
      ],
      "execution_count": null,
      "outputs": [
        {
          "output_type": "stream",
          "text": [
            "{'pedro': 2100, 'lucas': 3200, 'joao': 2800, 'paulo': 2700}\n"
          ],
          "name": "stdout"
        }
      ]
    },
    {
      "cell_type": "markdown",
      "metadata": {
        "id": "p-Yvn37FrwH0"
      },
      "source": [
        "Percorrendo valores em um dicionário com um laço `for`"
      ]
    },
    {
      "cell_type": "code",
      "metadata": {
        "id": "i5btbSacr4vy",
        "colab": {
          "base_uri": "https://localhost:8080/",
          "height": 156
        },
        "outputId": "da98846f-6ca1-42af-fa79-e3415d80377b"
      },
      "source": [
        "for key, value in dados.items():\n",
        "  print(key)\n",
        "  print(value)\n",
        "  "
      ],
      "execution_count": null,
      "outputs": [
        {
          "output_type": "stream",
          "text": [
            "pedro\n",
            "2100\n",
            "lucas\n",
            "3200\n",
            "joao\n",
            "2800\n",
            "paulo\n",
            "2700\n"
          ],
          "name": "stdout"
        }
      ]
    },
    {
      "cell_type": "markdown",
      "metadata": {
        "id": "0QfaDMjaaN6A"
      },
      "source": [
        "# Sets (conjuntos)\n",
        "\n",
        "_Sets_ são estruturas de dados não ordenadas, de elementos únicos. São como os dicionáros, mas somente com as _chaves_, sem os _valores_."
      ]
    },
    {
      "cell_type": "code",
      "metadata": {
        "id": "DaiKc1M5aoJu"
      },
      "source": [
        "A = {1, 2, 3, 4, 5, 7, 9}\n",
        "\n",
        "B = {2, 4, 6, 8, 10}"
      ],
      "execution_count": null,
      "outputs": []
    },
    {
      "cell_type": "code",
      "metadata": {
        "id": "bTmoczfQtmUJ",
        "colab": {
          "base_uri": "https://localhost:8080/",
          "height": 35
        },
        "outputId": "11b4943a-6f75-450c-e37d-5317d044d2d2"
      },
      "source": [
        "# União\n",
        "AuB = A.union(B)\n",
        "print(AuB) "
      ],
      "execution_count": null,
      "outputs": [
        {
          "output_type": "stream",
          "text": [
            "{1, 2, 3, 4, 5, 6, 7, 8, 9, 10}\n"
          ],
          "name": "stdout"
        }
      ]
    },
    {
      "cell_type": "code",
      "metadata": {
        "id": "vTotJT0Ot0iQ",
        "colab": {
          "base_uri": "https://localhost:8080/",
          "height": 35
        },
        "outputId": "6cc44007-aea3-4668-ccda-168a394bff97"
      },
      "source": [
        "# Interseção\n",
        "AiB = A.intersection(B) \n",
        "print(AiB)"
      ],
      "execution_count": null,
      "outputs": [
        {
          "output_type": "stream",
          "text": [
            "{2, 4}\n"
          ],
          "name": "stdout"
        }
      ]
    },
    {
      "cell_type": "code",
      "metadata": {
        "id": "dIEV9gvnuFWV",
        "colab": {
          "base_uri": "https://localhost:8080/",
          "height": 35
        },
        "outputId": "4c3f98cd-6a84-46be-bf62-f54a7f6dd351"
      },
      "source": [
        "# Diferença\n",
        "AdB = A.difference(B)\n",
        "print(AdB)"
      ],
      "execution_count": null,
      "outputs": [
        {
          "output_type": "stream",
          "text": [
            "{1, 3, 5, 7, 9}\n"
          ],
          "name": "stdout"
        }
      ]
    }
  ]
}